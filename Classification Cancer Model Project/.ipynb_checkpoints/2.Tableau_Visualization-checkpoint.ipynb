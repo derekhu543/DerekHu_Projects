{
 "cells": [
  {
   "cell_type": "markdown",
   "id": "2e490aef-0fee-4c66-8248-df1f5390ded6",
   "metadata": {},
   "source": [
    "#Tableau Visualizations"
   ]
  },
  {
   "cell_type": "code",
   "execution_count": 1,
   "id": "98278350-4d1e-42eb-aed0-66bdb80f7509",
   "metadata": {},
   "outputs": [],
   "source": [
    "from IPython.display import Image"
   ]
  },
  {
   "cell_type": "code",
   "execution_count": 2,
   "id": "42651c81-1444-424b-8ec1-533f13da2d95",
   "metadata": {},
   "outputs": [
    {
     "data": {
      "text/html": [
       "<img src=\"./Data_Files/education.jpg\"/>"
      ],
      "text/plain": [
       "<IPython.core.display.Image object>"
      ]
     },
     "execution_count": 2,
     "metadata": {},
     "output_type": "execute_result"
    }
   ],
   "source": [
    "#Education vs cancer count histogram - not as significant as thought, better educated more likely\n",
    "Image(url=\"./Data_Files/education.jpg\")"
   ]
  },
  {
   "cell_type": "code",
   "execution_count": 3,
   "id": "2bda67cd-98d7-480c-8898-33695608f1a7",
   "metadata": {},
   "outputs": [
    {
     "data": {
      "text/html": [
       "<img src=\"./Data_Files/age.jpg\"/>"
      ],
      "text/plain": [
       "<IPython.core.display.Image object>"
      ]
     },
     "execution_count": 3,
     "metadata": {},
     "output_type": "execute_result"
    }
   ],
   "source": [
    "#Elderly far more likely to get cancer meaning those over 65 years of age\n",
    "#Elderly made up roughly 20% of surveyed population but a huge majority of cancer cases\n",
    "Image(url=\"./Data_Files/age.jpg\")"
   ]
  },
  {
   "cell_type": "code",
   "execution_count": 4,
   "id": "ae0d15eb-0627-49e7-b4c7-c90423b39066",
   "metadata": {},
   "outputs": [
    {
     "data": {
      "text/html": [
       "<img src=\"./Data_Files/cholestral.jpg\"/>"
      ],
      "text/plain": [
       "<IPython.core.display.Image object>"
      ]
     },
     "execution_count": 4,
     "metadata": {},
     "output_type": "execute_result"
    }
   ],
   "source": [
    "Image(url=\"./Data_Files/cholestral.jpg\")\n",
    "#Higher cholestral very highly correlated to cancer rates"
   ]
  },
  {
   "cell_type": "code",
   "execution_count": 5,
   "id": "025795d8-f0d3-4a9b-86b4-937fab9a5ff6",
   "metadata": {},
   "outputs": [
    {
     "data": {
      "text/html": [
       "<img src=\"./Data_Files/income.jpg\"/>"
      ],
      "text/plain": [
       "<IPython.core.display.Image object>"
      ]
     },
     "execution_count": 5,
     "metadata": {},
     "output_type": "execute_result"
    }
   ],
   "source": [
    "Image(url=\"./Data_Files/income.jpg\")\n",
    "#Lower income people more likely to get cancer, associated with poor health"
   ]
  },
  {
   "cell_type": "code",
   "execution_count": 6,
   "id": "de97bd7f-e2c2-43b0-a4a8-76e6796d7424",
   "metadata": {},
   "outputs": [
    {
     "data": {
      "text/html": [
       "<img src=\"./Data_Files/job.jpg\"/>"
      ],
      "text/plain": [
       "<IPython.core.display.Image object>"
      ]
     },
     "execution_count": 6,
     "metadata": {},
     "output_type": "execute_result"
    }
   ],
   "source": [
    "Image(url=\"./Data_Files/job.jpg\")\n",
    "#Higher income people more likely to work in managerial sectors and professional sectors\n",
    "#Lower-income people work in services and operate machinery"
   ]
  },
  {
   "cell_type": "code",
   "execution_count": 7,
   "id": "b47a6e4d-0256-43bb-8371-a688bd120e62",
   "metadata": {},
   "outputs": [
    {
     "data": {
      "text/html": [
       "<img src=\"./Data_Files/income_smoking.jpg\"/>"
      ],
      "text/plain": [
       "<IPython.core.display.Image object>"
      ]
     },
     "execution_count": 7,
     "metadata": {},
     "output_type": "execute_result"
    }
   ],
   "source": [
    "Image(url=\"./Data_Files/income_smoking.jpg\")\n",
    "#Shows lower income people more likely to smoke"
   ]
  },
  {
   "cell_type": "code",
   "execution_count": 9,
   "id": "e4443d51-ce07-4b0c-aa5a-6e32597320e3",
   "metadata": {},
   "outputs": [
    {
     "data": {
      "text/html": [
       "<img src=\"./Data_Files/boxplot.jpg\"/>"
      ],
      "text/plain": [
       "<IPython.core.display.Image object>"
      ]
     },
     "execution_count": 9,
     "metadata": {},
     "output_type": "execute_result"
    }
   ],
   "source": [
    "Image(url=\"./Data_Files/boxplot.jpg\")"
   ]
  },
  {
   "cell_type": "code",
   "execution_count": 10,
   "id": "d1813e05-bc73-47c9-91d2-f7d3f1fd7ecc",
   "metadata": {},
   "outputs": [
    {
     "data": {
      "text/html": [
       "<img src=\"./Data_Files/web.jpg\"/>"
      ],
      "text/plain": [
       "<IPython.core.display.Image object>"
      ]
     },
     "execution_count": 10,
     "metadata": {},
     "output_type": "execute_result"
    }
   ],
   "source": [
    "Image(url=\"./Data_Files/web.jpg\")"
   ]
  },
  {
   "cell_type": "code",
   "execution_count": null,
   "id": "beee1bbe-50ce-430f-8c20-50054b047b1d",
   "metadata": {},
   "outputs": [],
   "source": []
  }
 ],
 "metadata": {
  "kernelspec": {
   "display_name": "Python 3 (ipykernel)",
   "language": "python",
   "name": "python3"
  },
  "language_info": {
   "codemirror_mode": {
    "name": "ipython",
    "version": 3
   },
   "file_extension": ".py",
   "mimetype": "text/x-python",
   "name": "python",
   "nbconvert_exporter": "python",
   "pygments_lexer": "ipython3",
   "version": "3.9.7"
  }
 },
 "nbformat": 4,
 "nbformat_minor": 5
}
