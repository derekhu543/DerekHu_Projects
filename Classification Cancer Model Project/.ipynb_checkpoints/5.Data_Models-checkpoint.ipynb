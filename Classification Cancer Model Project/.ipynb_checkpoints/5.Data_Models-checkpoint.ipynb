{
 "cells": [
  {
   "cell_type": "code",
   "execution_count": null,
   "metadata": {
    "id": "GnbbsQu2SyFi"
   },
   "outputs": [],
   "source": [
    "###Data Modeling###\n",
    "#Import what I need for modeling\n",
    "from sklearn.pipeline import Pipeline\n",
    "from sklearn.ensemble import AdaBoostClassifier, GradientBoostingClassifier, BaggingClassifier, RandomForestClassifier\n",
    "import xgboost as xgb\n",
    "from sklearn.svm import SVC\n",
    "from sklearn.preprocessing import StandardScaler, PolynomialFeatures\n",
    "from sklearn.linear_model import LogisticRegression\n",
    "from sklearn.metrics import silhouette_score\n",
    "from sklearn.cluster import KMeans\n",
    "from sklearn.cluster import DBSCAN\n",
    "from sklearn.tree import DecisionTreeClassifier\n",
    "from  sklearn.model_selection import KFold\n",
    "from sklearn.metrics import balanced_accuracy_score\n",
    "from sklearn.dummy import DummyClassifier\n",
    "from sklearn.model_selection import train_test_split\n",
    "from imblearn.metrics import classification_report_imbalanced"
   ]
  },
  {
   "cell_type": "code",
   "execution_count": 4,
   "metadata": {
    "id": "-IB9SaAuUm0s"
   },
   "outputs": [],
   "source": [
    "import pandas as pd\n",
    "data = pd.read_csv('./Data_Files/final_data (3).csv')"
   ]
  },
  {
   "cell_type": "code",
   "execution_count": 5,
   "metadata": {
    "colab": {
     "base_uri": "https://localhost:8080/"
    },
    "id": "3iUn5acK4yCs",
    "outputId": "36c07052-36c1-4340-d335-f21aa5ea6f0e"
   },
   "outputs": [
    {
     "data": {
      "text/plain": [
       "Index(['Unnamed: 0', 'age_Lower_Middle_Aged', 'age_Middle_Aged',\n",
       "       'age_Upper_Middle_Aged', 'age_Young', 'hrswrk_HoursWrk_30-40',\n",
       "       'hrswrk_HoursWrk_40-60', 'hrswrk_HoursWrk_60+', 'health_Fair',\n",
       "       'health_Good_Health', 'health_Poor_Health', 'health_Very_Good_Health',\n",
       "       'income_Low-Income', 'income_Lower-Middle-Income',\n",
       "       'income_Middle-Income', 'income_Very-High-Income', 'SSI_Yes_SSI',\n",
       "       'Health_Coverage_No_healthcoverage', 'Education_High_School_Graduate',\n",
       "       'Education_High_School_Or_Less', 'Education_Masters_Degree',\n",
       "       'Education_NIU_educ', 'Education_Some_College',\n",
       "       'JobOccupation_Construction and Extractive Trades Occupation',\n",
       "       'JobOccupation_Executive, Administrative, and Managerial Occupations',\n",
       "       'JobOccupation_Machine Operators, Assemblers, and Inspectors',\n",
       "       'JobOccupation_Mechanics and Repairers Occupation',\n",
       "       'JobOccupation_Military', 'JobOccupation_Not_In_LaborForce',\n",
       "       'JobOccupation_Other Agricultural and Related Occupations',\n",
       "       'JobOccupation_Precision Production Occupations',\n",
       "       'JobOccupation_Professional Specialty Occupations',\n",
       "       'JobOccupation_Protective Service Occupations',\n",
       "       'JobOccupation_Sales Occupations',\n",
       "       'JobOccupation_Service Occupations, Except Protective and Household',\n",
       "       'JobOccupation_Technicians and Related Support Occupations',\n",
       "       'JobOccupation_Transportation and Material Moving Occupations',\n",
       "       'NoBalancedMeals_Often True', 'NoBalancedMeals_Sometimes True',\n",
       "       'Ownership_home_yes_ownership', 'highchol_highchol',\n",
       "       'worrymedbills_somewhat_worried_medbills', 'insulin_Yes_Insulin',\n",
       "       'foodsecurity_Low_food_security', 'foodsecurity_Marginal_food_security',\n",
       "       'foodsecurity_Very_low_food_security', 'race_Black',\n",
       "       'race_Native-American', 'race_Other_Races', 'race_White',\n",
       "       'Welfare_On_Welfare', 'Delay_MedCost_No_DelayMed_Cost',\n",
       "       'Diabetic_Not_Diabetic', 'Smoking_Smoking', 'Depressed_NIU_Depressed',\n",
       "       'Depressed_Not_Depressed', 'cancer_count'],\n",
       "      dtype='object')"
      ]
     },
     "execution_count": 5,
     "metadata": {},
     "output_type": "execute_result"
    }
   ],
   "source": [
    "#My list of all columns with dummy variables\n",
    "data.columns"
   ]
  },
  {
   "cell_type": "code",
   "execution_count": 6,
   "metadata": {
    "id": "IbESdH2vTAFe"
   },
   "outputs": [],
   "source": [
    "#I want to standardize the data so make the mean 0 and the standard deviation 1\n",
    "\n",
    "ss = StandardScaler()\n",
    "scaled = ss.fit_transform(data)\n",
    "\n",
    "corr_data = pd.DataFrame(scaled, columns=data.columns)"
   ]
  },
  {
   "cell_type": "code",
   "execution_count": 7,
   "metadata": {
    "id": "nas996JhYAKT"
   },
   "outputs": [],
   "source": [
    "#I decided to not use PCA or visualizations and use Tableau instead\n",
    "import matplotlib.pyplot as plt\n",
    "import seaborn as sns\n",
    "\n",
    "#plt.figure(figsize=(20,15))\n",
    "#heatmap = sns.heatmap(corr_data.corr(), vmin=0, annot=True, fmt='.2f', cmap='YlGnBu')\n",
    "\n",
    "#plt.title('Correlations on Scaled Data')"
   ]
  },
  {
   "cell_type": "code",
   "execution_count": 8,
   "metadata": {
    "colab": {
     "base_uri": "https://localhost:8080/"
    },
    "id": "Vw4hXKjCmKtp",
    "outputId": "350ed378-391a-4156-ac7d-fc26bbf89dff"
   },
   "outputs": [
    {
     "data": {
      "text/plain": [
       "cancer_count                                                           1.000000\n",
       "highchol_highchol                                                      0.252670\n",
       "Depressed_Not_Depressed                                                0.132871\n",
       "JobOccupation_Professional Specialty Occupations                       0.118273\n",
       "JobOccupation_Executive, Administrative, and Managerial Occupations    0.104156\n",
       "worrymedbills_somewhat_worried_medbills                                0.091164\n",
       "insulin_Yes_Insulin                                                    0.075748\n",
       "health_Fair                                                            0.070030\n",
       "JobOccupation_Sales Occupations                                        0.063619\n",
       "Smoking_Smoking                                                        0.063298\n",
       "JobOccupation_Machine Operators, Assemblers, and Inspectors            0.062381\n",
       "race_White                                                             0.053129\n",
       "health_Poor_Health                                                     0.051862\n",
       "JobOccupation_Service Occupations, Except Protective and Household     0.049667\n",
       "health_Good_Health                                                     0.047511\n",
       "Name: cancer_count, dtype: float64"
      ]
     },
     "execution_count": 8,
     "metadata": {},
     "output_type": "execute_result"
    }
   ],
   "source": [
    "#This of course is inaccurate but I wanted to see if my variables generally made sense.\n",
    "#Based on my research, it makes sense. High cholestral, smoking, and worse health increases cancer rates\n",
    "#Managerial jobs cause cancer because of lack of exercise and increased health problems\n",
    "data.corr()['cancer_count'].sort_values(ascending=False).head(15)"
   ]
  },
  {
   "cell_type": "code",
   "execution_count": 9,
   "metadata": {
    "id": "KPRKWAXkKJeX"
   },
   "outputs": [],
   "source": [
    "#PCA - This is how I would have used PCA\n",
    "#import seaborn as sns\n",
    "#g = sns.PairGrid(data)\n",
    "#g = g.map_lower(sns.regplot)    # Regression plots in lower triangle.\n",
    "#g = g.map_upper(sns.kdeplot, cmap=\"Blues\", shade=True, shade_lowest=False)  # KDE plots in upper triangle.\n",
    "#g = g.map_diag(plt.hist)        # Histograms along diagonal.\n",
    "\n",
    "#plt.show()"
   ]
  },
  {
   "cell_type": "code",
   "execution_count": 10,
   "metadata": {
    "id": "vcVYmcYvbxmK"
   },
   "outputs": [],
   "source": [
    "#I reran models multiple times, dropped unimportant variables using Tableau as feature selection\n",
    "#Selected variables that had the best accuracy and highest metrics. Kept about 20 columns"
   ]
  },
  {
   "cell_type": "code",
   "execution_count": 11,
   "metadata": {
    "id": "fDuKeZj-YI05"
   },
   "outputs": [],
   "source": [
    "#feature selection - train/test data \n",
    "X = data.drop(columns=['cancer_count'])\n",
    "y = data['cancer_count']\n",
    "\n",
    "X_train, X_test, y_train, y_test = train_test_split(X, y, random_state=1, stratify=y)"
   ]
  },
  {
   "cell_type": "code",
   "execution_count": 12,
   "metadata": {
    "colab": {
     "base_uri": "https://localhost:8080/"
    },
    "id": "-TcatbudsYDl",
    "outputId": "d8ee94c0-0de0-4194-8742-48cc932106e2"
   },
   "outputs": [
    {
     "data": {
      "text/plain": [
       "array([0, 0, 0, ..., 0, 0, 0])"
      ]
     },
     "execution_count": 12,
     "metadata": {},
     "output_type": "execute_result"
    }
   ],
   "source": [
    "#Baseline using dummy regressor - sensitivity/recall\n",
    "dummy_regr = DummyClassifier()\n",
    "dummy_regr.fit(X_train, y_train)\n",
    "\n",
    "dummy_regr.predict(X_test)"
   ]
  },
  {
   "cell_type": "code",
   "execution_count": 13,
   "metadata": {
    "colab": {
     "base_uri": "https://localhost:8080/"
    },
    "id": "g_onVHPrLcxp",
    "outputId": "fc9041b0-8784-46d6-d1a7-be382d029e2c"
   },
   "outputs": [
    {
     "data": {
      "text/plain": [
       "0.5"
      ]
     },
     "execution_count": 13,
     "metadata": {},
     "output_type": "execute_result"
    }
   ],
   "source": [
    "#Baseline will be 0.5 using balanced accuracy score - \n",
    "#I avoided using regular accuracy score since my data is so imbalanced \n",
    "y_pred = dummy_regr.predict(X_test)\n",
    "balanced_accuracy_score(y_test, y_pred)"
   ]
  },
  {
   "cell_type": "code",
   "execution_count": 14,
   "metadata": {
    "id": "_hzhKSWaEDgs"
   },
   "outputs": [],
   "source": [
    "from sklearn.model_selection import train_test_split\n",
    "from sklearn.metrics import recall_score\n",
    "from imblearn.over_sampling import SMOTE"
   ]
  },
  {
   "cell_type": "code",
   "execution_count": 15,
   "metadata": {
    "id": "S5mX97UKFMws"
   },
   "outputs": [],
   "source": [
    "#SMOTE - only use dummy variables processing categorical data (X-values)\n",
    "#Only use smote on training test not testing data to prevent data leakage\n",
    "#Testing data represents real life so I won't use smote\n",
    "#Make training data 50/50 to balance it out\n",
    "\n",
    "from imblearn.over_sampling import ADASYN\n",
    "ada = ADASYN(random_state=100)\n",
    "X_train, y_train = ada.fit_resample(X_train, y_train)"
   ]
  },
  {
   "cell_type": "code",
   "execution_count": 16,
   "metadata": {
    "colab": {
     "base_uri": "https://localhost:8080/"
    },
    "id": "f9B0SUCMfChT",
    "outputId": "6557ae29-0d6b-48ca-8644-5fa274d1a93c"
   },
   "outputs": [
    {
     "data": {
      "text/plain": [
       "(52191,)"
      ]
     },
     "execution_count": 16,
     "metadata": {},
     "output_type": "execute_result"
    }
   ],
   "source": [
    "y_test.shape"
   ]
  },
  {
   "cell_type": "code",
   "execution_count": 17,
   "metadata": {
    "colab": {
     "base_uri": "https://localhost:8080/"
    },
    "id": "2lXOo0JQoc38",
    "outputId": "8cd01d11-280d-402c-a835-f1e09728f953"
   },
   "outputs": [
    {
     "data": {
      "text/plain": [
       "0    0.503053\n",
       "1    0.496947\n",
       "Name: cancer_count, dtype: float64"
      ]
     },
     "execution_count": 17,
     "metadata": {},
     "output_type": "execute_result"
    }
   ],
   "source": [
    "#train data now 50/50\n",
    "y_train.value_counts(normalize=True)"
   ]
  },
  {
   "cell_type": "code",
   "execution_count": 18,
   "metadata": {
    "colab": {
     "base_uri": "https://localhost:8080/"
    },
    "id": "uOmG3T66o5JZ",
    "outputId": "383eca9c-946c-4e56-9687-3334453c0352"
   },
   "outputs": [
    {
     "data": {
      "text/plain": [
       "0    0.960683\n",
       "1    0.039317\n",
       "Name: cancer_count, dtype: float64"
      ]
     },
     "execution_count": 18,
     "metadata": {},
     "output_type": "execute_result"
    }
   ],
   "source": [
    "#testing data still the same, very imbalanced\n",
    "y_test.value_counts(normalize=True)"
   ]
  },
  {
   "cell_type": "code",
   "execution_count": 21,
   "metadata": {
    "id": "Yr7Fl7Lzlf9p"
   },
   "outputs": [],
   "source": [
    "#Used pipeline to fit standardscaler and various model types\n",
    "#I tried using polynomial features but it keeps crashing from overload\n",
    "pipe_ada = Pipeline([\n",
    "    ('ss', StandardScaler()),\n",
    "    ('abc', AdaBoostClassifier(learning_rate=0.5, n_estimators=50, random_state=1))\n",
    "])\n",
    "\n",
    "pipe_grad = Pipeline([\n",
    "    ('ss', StandardScaler()),\n",
    "    ('gbc', GradientBoostingClassifier(random_state=1))\n",
    "])\n",
    "\n",
    "pipe_km = Pipeline([\n",
    "    ('ss', StandardScaler()),\n",
    "    ('km', KMeans(random_state=1))\n",
    "])\n",
    "\n",
    "pipe_dbs = Pipeline([\n",
    "    ('ss', StandardScaler()),\n",
    "    ('dbs', DBSCAN())\n",
    "])\n",
    "\n",
    "pipe_xgb = Pipeline([\n",
    "    ('ss', StandardScaler()),\n",
    "    ('xgb', xgb.XGBClassifier(n_estimators = 200))\n",
    "])\n",
    "\n",
    "pipe_log = Pipeline([\n",
    "    (\"vectorizer\", CountVectorizer())\n",
    "    ('ss', StandardScaler()),\n",
    "    ('log', LogisticRegression())\n",
    "])\n",
    "\n",
    "#n_estimators=70, random_state=42, max_features=none, min_samples_leaf=10\n",
    "pipe_forest = Pipeline([\n",
    "    ('ss', StandardScaler()),\n",
    "    ('forest', RandomForestClassifier(n_estimators=70, random_state=42, min_samples_leaf=10))\n",
    "])\n",
    "\n",
    "pipe_svc = Pipeline([\n",
    "    ('ss', StandardScaler()),\n",
    "    ('svc', RandomForestClassifier())\n",
    "])\n",
    "\n",
    "pipe_dectree = Pipeline([\n",
    "    ('ss', StandardScaler()),\n",
    "    ('dec', DecisionTreeClassifier())\n",
    "])\n",
    "\n",
    "pipe_svm = Pipeline([\n",
    "    ('ss', StandardScaler()),\n",
    "    ('dec', SVC())\n",
    "])"
   ]
  },
  {
   "cell_type": "code",
   "execution_count": 22,
   "metadata": {
    "colab": {
     "base_uri": "https://localhost:8080/"
    },
    "id": "o_RSflRnd5tk",
    "outputId": "a45cda08-bb56-404b-d7b7-321b12d28bb4"
   },
   "outputs": [
    {
     "data": {
      "text/plain": [
       "(0.8820950329752653, 0.8376540016477937)"
      ]
     },
     "execution_count": 22,
     "metadata": {},
     "output_type": "execute_result"
    }
   ],
   "source": [
    "#Logarithmic regression has the highest accuracy\n",
    "\n",
    "pipe_log.fit(X_train, y_train)\n",
    "\n",
    "pipe_log.score(X_train, y_train), pipe_log.score(X_test, y_test)"
   ]
  },
  {
   "cell_type": "code",
   "execution_count": 23,
   "metadata": {
    "colab": {
     "base_uri": "https://localhost:8080/"
    },
    "id": "snRaBtwO4P8s",
    "outputId": "8c0b4893-ad92-4f3f-9964-3cee8bc6ca53"
   },
   "outputs": [
    {
     "data": {
      "text/plain": [
       "0.8692337932127633"
      ]
     },
     "execution_count": 23,
     "metadata": {},
     "output_type": "execute_result"
    }
   ],
   "source": [
    "#Used balanced accuracy score to compensate for imbalanced y-value\n",
    "y_pred = pipe_log.predict(X_test)\n",
    "balanced_accuracy_score(y_test, y_pred)"
   ]
  },
  {
   "cell_type": "code",
   "execution_count": 24,
   "metadata": {
    "colab": {
     "base_uri": "https://localhost:8080/"
    },
    "id": "_acXZd0Tl4GK",
    "outputId": "82ad95d5-7b94-4bb7-8579-b2ed3aa9bbed"
   },
   "outputs": [
    {
     "data": {
      "text/plain": [
       "(0.960760772142924, 0.9277844839148512)"
      ]
     },
     "execution_count": 24,
     "metadata": {},
     "output_type": "execute_result"
    }
   ],
   "source": [
    "pipe_ada.fit(X_train, y_train)\n",
    "\n",
    "pipe_ada.score(X_train, y_train), pipe_ada.score(X_test, y_test)"
   ]
  },
  {
   "cell_type": "code",
   "execution_count": 25,
   "metadata": {
    "colab": {
     "base_uri": "https://localhost:8080/"
    },
    "id": "QR92R3YF4ZiB",
    "outputId": "38ccb8c8-0162-4c16-f300-8009e8a1467f"
   },
   "outputs": [
    {
     "data": {
      "text/plain": [
       "0.7238145061990824"
      ]
     },
     "execution_count": 25,
     "metadata": {},
     "output_type": "execute_result"
    }
   ],
   "source": [
    "y_pred = pipe_ada.predict(X_test)\n",
    "balanced_accuracy_score(y_test, y_pred)"
   ]
  },
  {
   "cell_type": "code",
   "execution_count": 26,
   "metadata": {
    "colab": {
     "base_uri": "https://localhost:8080/"
    },
    "id": "D0MrYLlj7RN2",
    "outputId": "2d200613-f80c-41b7-b47f-a7c97e037524"
   },
   "outputs": [
    {
     "data": {
      "text/plain": [
       "(0.9769908899977259, 0.9569657603801421)"
      ]
     },
     "execution_count": 26,
     "metadata": {},
     "output_type": "execute_result"
    }
   ],
   "source": [
    "pipe_grad.fit(X_train, y_train)\n",
    "\n",
    "pipe_grad.score(X_train, y_train), pipe_grad.score(X_test, y_test)"
   ]
  },
  {
   "cell_type": "code",
   "execution_count": 27,
   "metadata": {
    "colab": {
     "base_uri": "https://localhost:8080/"
    },
    "id": "sDe2JrYA4cZL",
    "outputId": "e9c07745-c99a-4edf-e19d-4ccdd4aee705"
   },
   "outputs": [
    {
     "data": {
      "text/plain": [
       "0.545271251184864"
      ]
     },
     "execution_count": 27,
     "metadata": {},
     "output_type": "execute_result"
    }
   ],
   "source": [
    "y_pred = pipe_grad.predict(X_test)\n",
    "balanced_accuracy_score(y_test, y_pred)"
   ]
  },
  {
   "cell_type": "code",
   "execution_count": 28,
   "metadata": {
    "colab": {
     "base_uri": "https://localhost:8080/"
    },
    "id": "yMJtcgxJ7np8",
    "outputId": "93702e9d-e280-47ee-fe43-6ff8e89a0d7c"
   },
   "outputs": [
    {
     "data": {
      "text/plain": [
       "(0.9793285888191778, 0.9607211971412696)"
      ]
     },
     "execution_count": 28,
     "metadata": {},
     "output_type": "execute_result"
    }
   ],
   "source": [
    "pipe_xgb.fit(X_train, y_train)\n",
    "\n",
    "pipe_xgb.score(X_train, y_train), pipe_xgb.score(X_test, y_test)"
   ]
  },
  {
   "cell_type": "code",
   "execution_count": 29,
   "metadata": {
    "colab": {
     "base_uri": "https://localhost:8080/"
    },
    "id": "Zp9UN4OH5Tck",
    "outputId": "394e3075-89f3-40c9-fbaa-200f585fb0df"
   },
   "outputs": [
    {
     "data": {
      "text/plain": [
       "0.5016557916360938"
      ]
     },
     "execution_count": 29,
     "metadata": {},
     "output_type": "execute_result"
    }
   ],
   "source": [
    "y_pred = pipe_xgb.predict(X_test)\n",
    "balanced_accuracy_score(y_test, y_pred)"
   ]
  },
  {
   "cell_type": "code",
   "execution_count": 30,
   "metadata": {
    "colab": {
     "base_uri": "https://localhost:8080/"
    },
    "id": "nSEWCSLlr_lV",
    "outputId": "d22375b1-44a9-454b-951c-aa7a6c7a8e4f"
   },
   "outputs": [
    {
     "data": {
      "text/plain": [
       "(-13735850.526194202, -2588847.8213211126)"
      ]
     },
     "execution_count": 30,
     "metadata": {},
     "output_type": "execute_result"
    }
   ],
   "source": [
    "pipe_km.fit(X_train, y_train)\n",
    "\n",
    "pipe_km.score(X_train, y_train), pipe_km.score(X_test, y_test)"
   ]
  },
  {
   "cell_type": "code",
   "execution_count": 31,
   "metadata": {
    "colab": {
     "base_uri": "https://localhost:8080/"
    },
    "id": "RaX7eTjm7lYH",
    "outputId": "08e55517-1a54-4f1c-d0cf-67ccd20dd8fc"
   },
   "outputs": [
    {
     "data": {
      "text/plain": [
       "(1.0, 0.9325937422160909)"
      ]
     },
     "execution_count": 31,
     "metadata": {},
     "output_type": "execute_result"
    }
   ],
   "source": [
    "pipe_dectree.fit(X_train, y_train)\n",
    "\n",
    "pipe_dectree.score(X_train, y_train), pipe_dectree.score(X_test, y_test)"
   ]
  },
  {
   "cell_type": "code",
   "execution_count": 32,
   "metadata": {
    "colab": {
     "base_uri": "https://localhost:8080/"
    },
    "id": "74fZ2WXs7-pR",
    "outputId": "632a12ba-d8f6-4c08-a891-3f2a475c8341"
   },
   "outputs": [
    {
     "data": {
      "text/plain": [
       "0.593112856784455"
      ]
     },
     "execution_count": 32,
     "metadata": {},
     "output_type": "execute_result"
    }
   ],
   "source": [
    "y_pred = pipe_dectree.predict(X_test)\n",
    "balanced_accuracy_score(y_test, y_pred)"
   ]
  },
  {
   "cell_type": "code",
   "execution_count": 33,
   "metadata": {
    "colab": {
     "base_uri": "https://localhost:8080/"
    },
    "id": "W_k_WMtw8CsR",
    "outputId": "cc9d0ae1-d650-453c-b10b-8f5de4f39209"
   },
   "outputs": [
    {
     "data": {
      "text/plain": [
       "(1.0, 0.956199344714606)"
      ]
     },
     "execution_count": 33,
     "metadata": {},
     "output_type": "execute_result"
    }
   ],
   "source": [
    "pipe_svc.fit(X_train, y_train)\n",
    "\n",
    "pipe_svc.score(X_train, y_train), pipe_svc.score(X_test, y_test)"
   ]
  },
  {
   "cell_type": "code",
   "execution_count": 34,
   "metadata": {
    "colab": {
     "base_uri": "https://localhost:8080/"
    },
    "id": "BYECcmjXRICx",
    "outputId": "87953b71-fd4a-4003-850c-390529a199a3"
   },
   "outputs": [
    {
     "data": {
      "text/plain": [
       "0.5250085026783436"
      ]
     },
     "execution_count": 34,
     "metadata": {},
     "output_type": "execute_result"
    }
   ],
   "source": [
    "y_pred = pipe_svc.predict(X_test)\n",
    "balanced_accuracy_score(y_test, y_pred)"
   ]
  },
  {
   "cell_type": "code",
   "execution_count": 35,
   "metadata": {
    "colab": {
     "base_uri": "https://localhost:8080/"
    },
    "id": "vipG4eohRK1e",
    "outputId": "1e47153d-32e7-4450-c3f5-f6b28fb771ef"
   },
   "outputs": [
    {
     "data": {
      "text/plain": [
       "(0.9795827592203658, 0.9603571497001399)"
      ]
     },
     "execution_count": 35,
     "metadata": {},
     "output_type": "execute_result"
    }
   ],
   "source": [
    "pipe_forest.fit(X_train, y_train)\n",
    "\n",
    "pipe_forest.score(X_train, y_train), pipe_forest.score(X_test, y_test)"
   ]
  },
  {
   "cell_type": "code",
   "execution_count": 36,
   "metadata": {
    "colab": {
     "base_uri": "https://localhost:8080/"
    },
    "id": "r6rTh3SBRRPM",
    "outputId": "00713848-e1e0-4380-dd51-0c74e5ccbf40"
   },
   "outputs": [
    {
     "data": {
      "text/plain": [
       "0.5035695503342812"
      ]
     },
     "execution_count": 36,
     "metadata": {},
     "output_type": "execute_result"
    }
   ],
   "source": [
    "y_pred = pipe_forest.predict(X_test)\n",
    "balanced_accuracy_score(y_test, y_pred)"
   ]
  },
  {
   "cell_type": "code",
   "execution_count": 37,
   "metadata": {
    "colab": {
     "base_uri": "https://localhost:8080/"
    },
    "id": "qciw2JmbK6bR",
    "outputId": "6ea40e23-5c37-47c5-a161-8bd9f8ceb59a"
   },
   "outputs": [
    {
     "name": "stdout",
     "output_type": "stream",
     "text": [
      "                   pre       rec       spe        f1       geo       iba       sup\n",
      "\n",
      "         No       0.99      0.99      0.81      0.99      0.89      0.81    200558\n",
      "        Yes       0.77      0.81      0.99      0.79      0.89      0.78      8206\n",
      "\n",
      "avg / total       0.98      0.98      0.81      0.98      0.89      0.81    208764\n",
      "\n"
     ]
    }
   ],
   "source": [
    "##I choose to use other metrics such as F1 score, preceision, and recall\n",
    "#For cancer, true positives and true negatives are good because accuracy is important\n",
    "\n",
    "#False positives - false alarms, people test positive for cancer when they don't have cancer\n",
    "#Generally bad because it could result on costly medical procedures or an extra scan which are unnecessary\n",
    "\n",
    "#False negative - very deadly, person test negative for cancer when they don't have cancer\n",
    "#Avoid at all costs - could result in lives lost\n",
    "\n",
    "#accuracy - a great measur, important to see how correct your model is\n",
    "#precision - if you want to be more confident of your true positives\n",
    "#recall - useful if false positives are far better than false negatives (I chose this, would rather get false alarms than lives lost)\n",
    "#specificity - useful if you don't want any false alarms\n",
    "\n",
    "#decision tree is second favorite model. High recall scores and high accuracy\n",
    "y_test = data['cancer_count']  \n",
    "predict_grad = pipe_dectree.predict(data.drop(columns = ['cancer_count']))\n",
    "print(classification_report_imbalanced(y_test, predict_grad, target_names=['No', 'Yes']))"
   ]
  },
  {
   "cell_type": "code",
   "execution_count": 38,
   "metadata": {
    "colab": {
     "base_uri": "https://localhost:8080/"
    },
    "id": "omR6Y-VOVQqK",
    "outputId": "768c4657-024a-48c4-dc59-2c3a65eaffdd"
   },
   "outputs": [
    {
     "name": "stdout",
     "output_type": "stream",
     "text": [
      "                   pre       rec       spe        f1       geo       iba       sup\n",
      "\n",
      "         No       1.00      0.83      0.90      0.91      0.87      0.75    200558\n",
      "        Yes       0.18      0.90      0.83      0.30      0.87      0.76      8206\n",
      "\n",
      "avg / total       0.96      0.84      0.90      0.88      0.87      0.75    208764\n",
      "\n"
     ]
    }
   ],
   "source": [
    "#Logarithmic regression is my preferred model. I want false positives to be as low as possible\n",
    "y_test = data['cancer_count']  \n",
    "predict_grad = pipe_log.predict(data.drop(columns = ['cancer_count']))\n",
    "print(classification_report_imbalanced(y_test, predict_grad, target_names=['No', 'Yes']))"
   ]
  },
  {
   "cell_type": "code",
   "execution_count": 39,
   "metadata": {
    "colab": {
     "base_uri": "https://localhost:8080/"
    },
    "id": "LhQFOCibVeVR",
    "outputId": "8371c02c-f878-497e-bf8d-33ebb0826744"
   },
   "outputs": [
    {
     "name": "stdout",
     "output_type": "stream",
     "text": [
      "                   pre       rec       spe        f1       geo       iba       sup\n",
      "\n",
      "         No       0.98      0.94      0.50      0.96      0.68      0.49    200558\n",
      "        Yes       0.27      0.50      0.94      0.35      0.68      0.45      8206\n",
      "\n",
      "avg / total       0.95      0.93      0.51      0.94      0.68      0.49    208764\n",
      "\n"
     ]
    }
   ],
   "source": [
    "\n",
    "y_test = data['cancer_count']  \n",
    "predict_grad = pipe_ada.predict(data.drop(columns = ['cancer_count']))\n",
    "print(classification_report_imbalanced(y_test, predict_grad, target_names=['No', 'Yes']))"
   ]
  },
  {
   "cell_type": "code",
   "execution_count": 40,
   "metadata": {
    "colab": {
     "base_uri": "https://localhost:8080/"
    },
    "id": "qZB5mngHVVnS",
    "outputId": "77379789-47d4-4c9b-fe52-97968590a56e"
   },
   "outputs": [
    {
     "name": "stdout",
     "output_type": "stream",
     "text": [
      "                   pre       rec       spe        f1       geo       iba       sup\n",
      "\n",
      "         No       0.96      0.99      0.09      0.98      0.30      0.10    200558\n",
      "        Yes       0.33      0.09      0.99      0.15      0.30      0.08      8206\n",
      "\n",
      "avg / total       0.94      0.96      0.13      0.95      0.30      0.10    208764\n",
      "\n"
     ]
    }
   ],
   "source": [
    "\n",
    "y_test = data['cancer_count']  \n",
    "predict_grad = pipe_grad.predict(data.drop(columns = ['cancer_count']))\n",
    "print(classification_report_imbalanced(y_test, predict_grad, target_names=['No', 'Yes']))"
   ]
  },
  {
   "cell_type": "code",
   "execution_count": 41,
   "metadata": {
    "colab": {
     "base_uri": "https://localhost:8080/"
    },
    "id": "Jf3HUvoUXXaD",
    "outputId": "93b7f8db-2eba-44a4-e316-28768b048c7f"
   },
   "outputs": [
    {
     "name": "stdout",
     "output_type": "stream",
     "text": [
      "                   pre       rec       spe        f1       geo       iba       sup\n",
      "\n",
      "         No       0.96      1.00      0.00      0.98      0.04      0.00    200558\n",
      "        Yes       0.50      0.00      1.00      0.00      0.04      0.00      8206\n",
      "\n",
      "avg / total       0.94      0.96      0.04      0.94      0.04      0.00    208764\n",
      "\n"
     ]
    }
   ],
   "source": [
    "\n",
    "y_test = data['cancer_count']  \n",
    "predict_grad = pipe_xgb.predict(data.drop(columns = ['cancer_count']))\n",
    "print(classification_report_imbalanced(y_test, predict_grad, target_names=['No', 'Yes']))"
   ]
  },
  {
   "cell_type": "code",
   "execution_count": 50,
   "metadata": {
    "id": "cfVd1qPLRBUo"
   },
   "outputs": [],
   "source": [
    "\n",
    "y_test = data['cancer_count']  \n",
    "predict_grad = pipe_forest.predict(data.drop(columns = ['cancer_count']))\n",
    "print(classification_report_imbalanced(y_test, predict_grad, target_names=['No', 'Yes']))"
   ]
  },
  {
   "cell_type": "code",
   "execution_count": 49,
   "metadata": {
    "id": "L7oruQehmeBT"
   },
   "outputs": [],
   "source": [
    "#I wanted to use polynomialfeatures but comptuer kept crashing"
   ]
  },
  {
   "cell_type": "code",
   "execution_count": null,
   "metadata": {
    "id": "ywzIUz_LpXG5"
   },
   "outputs": [],
   "source": [
    "##Neural Network \n",
    "import pandas as pd\n",
    "data = pd.read_csv('./final_data.csv')"
   ]
  },
  {
   "cell_type": "code",
   "execution_count": null,
   "metadata": {
    "id": "PL7i4b1j9DuE"
   },
   "outputs": [],
   "source": [
    "#train/test split\n",
    "from sklearn.model_selection import train_test_split\n",
    "X = data.drop(columns=['cancer_count'])\n",
    "y = data['cancer_count']\n",
    "\n",
    "X_train, X_test, y_train, y_test = train_test_split(X, y, random_state=0, stratify=y)"
   ]
  },
  {
   "cell_type": "code",
   "execution_count": null,
   "metadata": {
    "id": "lleHS1_h9NV5"
   },
   "outputs": [],
   "source": [
    "#standardize data\n",
    "ss = StandardScaler()\n",
    "\n",
    "X_train = ss.fit_transform(X_train)\n",
    "X_test = ss.transform(X_test)"
   ]
  },
  {
   "cell_type": "code",
   "execution_count": null,
   "metadata": {
    "id": "ZADjy6LbGkY_"
   },
   "outputs": [],
   "source": [
    "#SMOTE - only use dummy variables processing categorical data (X-values)\n",
    "#Only use smote on training test not training data, prevent data leakage, test represent real life\n",
    "\n",
    "from imblearn.over_sampling import ADASYN\n",
    "ada = ADASYN(random_state=100)\n",
    "X_train_ada, y_train_ada = ada.fit_resample(X_train, y_train)"
   ]
  },
  {
   "cell_type": "code",
   "execution_count": null,
   "metadata": {
    "colab": {
     "base_uri": "https://localhost:8080/"
    },
    "id": "W9ATbBNOGhRX",
    "outputId": "f2bf589b-c924-4149-cd75-7fa5a01bdb12"
   },
   "outputs": [
    {
     "name": "stdout",
     "output_type": "stream",
     "text": [
      "Epoch 1/15\n",
      "9361/9361 [==============================] - 41s 4ms/step - loss: 0.2952 - Accuracy: 0.9048 - val_loss: 0.2829 - val_Accuracy: 0.8758\n",
      "Epoch 2/15\n",
      "9361/9361 [==============================] - 42s 4ms/step - loss: 0.1811 - Accuracy: 0.9346 - val_loss: 0.2581 - val_Accuracy: 0.8933\n",
      "Epoch 3/15\n",
      "9361/9361 [==============================] - 44s 5ms/step - loss: 0.1466 - Accuracy: 0.9466 - val_loss: 0.2565 - val_Accuracy: 0.8996\n",
      "Epoch 4/15\n",
      "9361/9361 [==============================] - 43s 5ms/step - loss: 0.1263 - Accuracy: 0.9534 - val_loss: 0.2668 - val_Accuracy: 0.9021\n",
      "Epoch 5/15\n",
      "9361/9361 [==============================] - 38s 4ms/step - loss: 0.1119 - Accuracy: 0.9586 - val_loss: 0.2193 - val_Accuracy: 0.9213\n",
      "Epoch 6/15\n",
      "9361/9361 [==============================] - 42s 5ms/step - loss: 0.1018 - Accuracy: 0.9630 - val_loss: 0.2935 - val_Accuracy: 0.9062\n",
      "Epoch 7/15\n",
      "9361/9361 [==============================] - 41s 4ms/step - loss: 0.0922 - Accuracy: 0.9668 - val_loss: 0.2647 - val_Accuracy: 0.9182\n",
      "Epoch 8/15\n",
      "9361/9361 [==============================] - 44s 5ms/step - loss: 0.0849 - Accuracy: 0.9699 - val_loss: 0.2944 - val_Accuracy: 0.9220\n",
      "Epoch 9/15\n",
      "9361/9361 [==============================] - 45s 5ms/step - loss: 0.0788 - Accuracy: 0.9723 - val_loss: 0.3347 - val_Accuracy: 0.9257\n",
      "Epoch 10/15\n",
      "9361/9361 [==============================] - 39s 4ms/step - loss: 0.0744 - Accuracy: 0.9741 - val_loss: 0.3003 - val_Accuracy: 0.9242\n",
      "Epoch 11/15\n",
      "9361/9361 [==============================] - 44s 5ms/step - loss: 0.0694 - Accuracy: 0.9761 - val_loss: 0.3078 - val_Accuracy: 0.9307\n",
      "Epoch 12/15\n",
      "9361/9361 [==============================] - 42s 5ms/step - loss: 0.0660 - Accuracy: 0.9774 - val_loss: 0.4035 - val_Accuracy: 0.9316\n",
      "Epoch 13/15\n",
      "9361/9361 [==============================] - 39s 4ms/step - loss: 0.0633 - Accuracy: 0.9784 - val_loss: 0.3498 - val_Accuracy: 0.9302\n",
      "Epoch 14/15\n",
      "9361/9361 [==============================] - 44s 5ms/step - loss: 0.0594 - Accuracy: 0.9798 - val_loss: 0.2528 - val_Accuracy: 0.9301\n",
      "Epoch 15/15\n",
      "9361/9361 [==============================] - 39s 4ms/step - loss: 0.0575 - Accuracy: 0.9805 - val_loss: 0.3125 - val_Accuracy: 0.9293\n"
     ]
    }
   ],
   "source": [
    "#Use neural networks, balance classes using smote or oversample from cancer class\n",
    "#Look at metrics - add more\n",
    "#When look at onehotencoded variables - correlation is not accurate (are important but could be random luck)\n",
    "#Visualizations - delete variables before onehotencoding\n",
    "#Boxplot to visualize features\n",
    "\n",
    "#balanced accuracy, I did NOT balance my data as I ran out of time.\n",
    "#WOULD NOT RECOMMEND as low accuracy\n",
    "\n",
    "from tensorflow.keras.models import Sequential\n",
    "from tensorflow.keras.layers import Dense\n",
    "from tensorflow.keras import Input\n",
    "\n",
    "from tensorflow.keras.regularizers import l2\n",
    "from tensorflow.keras.layers import Dropout\n",
    "\n",
    "model = Sequential()\n",
    "#kernel regularizer did not work, dropout does not work, binaryaccuracy, dropout not work\n",
    "# hidden w/ 60 nodes, two layers\n",
    "\n",
    "#loss kept increasing for val_accuracy\n",
    "model.add(Input(shape = X_train.shape[1]))\n",
    "model.add(Dense(256, activation='relu'))\n",
    "model.add(Dense(128, activation='relu'))\n",
    "model.add(Dense(64, activation='relu'))\n",
    "model.add(Dense(32, activation='relu'))\n",
    "model.add(Dense(16, activation='relu'))\n",
    "model.add(Dense(8, activation='relu'))\n",
    "model.add(Dense(4, activation='relu'))\n",
    "model.add(Dense(1, activation='sigmoid'))\n",
    "#use metrics - precision, recall\n",
    "model.compile(optimizer='adam',\n",
    "              loss='binary_crossentropy',\n",
    "              metrics=['Accuracy'])\n",
    "history = model.fit(\n",
    "    X_train_ada, y_train_ada,\n",
    "    validation_data=(X_test, y_test),\n",
    "    epochs=15,\n",
    "    verbose=1)"
   ]
  },
  {
   "cell_type": "code",
   "execution_count": null,
   "metadata": {
    "colab": {
     "base_uri": "https://localhost:8080/",
     "height": 265
    },
    "id": "G1D3rf069I3O",
    "outputId": "2e11aa43-ddef-45fc-e243-0f8b2fc1b506"
   },
   "outputs": [
    {
     "data": {
      "image/png": "[encoded data removed]",
      "text/plain": [
       "<Figure size 432x288 with 1 Axes>"
      ]
     },
     "metadata": {
      "needs_background": "light"
     },
     "output_type": "display_data"
    }
   ],
   "source": [
    "#Struggled with accuracy, high losses for testing\n",
    "#Tries multiple methods but ran out of time\n",
    "train_loss = history.history['loss']\n",
    "test_loss = history.history['val_loss']\n",
    "\n",
    "plt.plot(train_loss, label='Training Loss', color='navy')\n",
    "plt.plot(test_loss, label='Testing Loss', color='skyblue')\n",
    "plt.legend();"
   ]
  },
  {
   "cell_type": "code",
   "execution_count": null,
   "metadata": {
    "colab": {
     "base_uri": "https://localhost:8080/"
    },
    "id": "6NwE_Me5EaPW",
    "outputId": "9a76039b-ea92-4c68-8b74-ab1c65569cf9"
   },
   "outputs": [
    {
     "name": "stdout",
     "output_type": "stream",
     "text": [
      "Epoch 1/15\n",
      "9361/9361 [==============================] - 41s 4ms/step - loss: 0.2411 - binary_accuracy: 0.9082 - val_loss: 0.2693 - val_binary_accuracy: 0.8775\n",
      "Epoch 2/15\n",
      "9361/9361 [==============================] - 55s 6ms/step - loss: 0.1738 - binary_accuracy: 0.9366 - val_loss: 0.2612 - val_binary_accuracy: 0.8970\n",
      "Epoch 3/15\n",
      "9361/9361 [==============================] - 45s 5ms/step - loss: 0.1394 - binary_accuracy: 0.9495 - val_loss: 0.2485 - val_binary_accuracy: 0.9070\n",
      "Epoch 4/15\n",
      "9361/9361 [==============================] - 40s 4ms/step - loss: 0.1190 - binary_accuracy: 0.9571 - val_loss: 0.2380 - val_binary_accuracy: 0.9209\n",
      "Epoch 5/15\n",
      "9361/9361 [==============================] - 39s 4ms/step - loss: 0.1041 - binary_accuracy: 0.9629 - val_loss: 0.2581 - val_binary_accuracy: 0.9220\n",
      "Epoch 6/15\n",
      "9361/9361 [==============================] - 40s 4ms/step - loss: 0.0929 - binary_accuracy: 0.9672 - val_loss: 0.2977 - val_binary_accuracy: 0.9233\n",
      "Epoch 7/15\n",
      "9361/9361 [==============================] - 41s 4ms/step - loss: 0.0842 - binary_accuracy: 0.9707 - val_loss: 0.2659 - val_binary_accuracy: 0.9263\n",
      "Epoch 8/15\n",
      "9361/9361 [==============================] - 41s 4ms/step - loss: 0.0768 - binary_accuracy: 0.9732 - val_loss: 0.3434 - val_binary_accuracy: 0.9272\n",
      "Epoch 9/15\n",
      "9361/9361 [==============================] - 40s 4ms/step - loss: 0.0710 - binary_accuracy: 0.9755 - val_loss: 0.3442 - val_binary_accuracy: 0.9193\n",
      "Epoch 10/15\n",
      "9361/9361 [==============================] - 38s 4ms/step - loss: 0.0664 - binary_accuracy: 0.9773 - val_loss: 0.3368 - val_binary_accuracy: 0.9242\n",
      "Epoch 11/15\n",
      "9361/9361 [==============================] - 41s 4ms/step - loss: 0.0623 - binary_accuracy: 0.9789 - val_loss: 0.4343 - val_binary_accuracy: 0.9289\n",
      "Epoch 12/15\n",
      "9361/9361 [==============================] - 40s 4ms/step - loss: 0.0587 - binary_accuracy: 0.9800 - val_loss: 0.4723 - val_binary_accuracy: 0.9253\n",
      "Epoch 13/15\n",
      "9361/9361 [==============================] - 38s 4ms/step - loss: 0.0561 - binary_accuracy: 0.9811 - val_loss: 0.4327 - val_binary_accuracy: 0.9300\n",
      "Epoch 14/15\n",
      "9361/9361 [==============================] - 39s 4ms/step - loss: 0.0533 - binary_accuracy: 0.9822 - val_loss: 0.3916 - val_binary_accuracy: 0.9336\n",
      "Epoch 15/15\n",
      "9361/9361 [==============================] - 37s 4ms/step - loss: 0.0512 - binary_accuracy: 0.9830 - val_loss: 0.4689 - val_binary_accuracy: 0.9309\n"
     ]
    }
   ],
   "source": [
    "#Binary accuracy only slightly helped\n",
    "\n",
    "from tensorflow.keras.models import Sequential\n",
    "from tensorflow.keras.layers import Dense\n",
    "from tensorflow.keras import Input\n",
    "\n",
    "from tensorflow.keras.regularizers import l2\n",
    "from tensorflow.keras.layers import Dropout\n",
    "\n",
    "model = Sequential()\n",
    "#kernel regularizer did not work, dropout does not work, binaryaccuracy, dropout not work\n",
    "# hidden w/ 60 nodes, two layers\n",
    "\n",
    "#loss kept increasing for val_accuracy\n",
    "model.add(Input(shape = X_train.shape[1]))\n",
    "model.add(Dense(256, activation='relu'))\n",
    "model.add(Dense(128, activation='relu'))\n",
    "model.add(Dense(64, activation='relu'))\n",
    "model.add(Dense(32, activation='relu'))\n",
    "model.add(Dense(16, activation='relu'))\n",
    "model.add(Dense(8, activation='relu'))\n",
    "model.add(Dense(4, activation='relu'))\n",
    "model.add(Dense(1, activation='sigmoid'))\n",
    "#use metrics - precision, recall\n",
    "model.compile(optimizer='adam',\n",
    "              loss='binary_crossentropy',\n",
    "              metrics=['BinaryAccuracy'])\n",
    "history = model.fit(\n",
    "    X_train_ada, y_train_ada,\n",
    "    validation_data=(X_test, y_test),\n",
    "    epochs=15,\n",
    "    verbose=1)"
   ]
  },
  {
   "cell_type": "code",
   "execution_count": null,
   "metadata": {
    "id": "a8oJEWeuExJE"
   },
   "outputs": [],
   "source": [
    "from sklearn.metrics import classification_report\n",
    "y_test = data['cancer_count']  \n",
    "predict_grad = history.predict(data.drop(columns = ['cancer_count']))\n",
    "print(classification_report(y_test, predict_grad, target_names=['No', 'Yes']))\n",
    "\n"
   ]
  }
 ],
 "metadata": {
  "colab": {
   "collapsed_sections": [],
   "provenance": []
  },
  "kernelspec": {
   "display_name": "Python 3 (ipykernel)",
   "language": "python",
   "name": "python3"
  },
  "language_info": {
   "codemirror_mode": {
    "name": "ipython",
    "version": 3
   },
   "file_extension": ".py",
   "mimetype": "text/x-python",
   "name": "python",
   "nbconvert_exporter": "python",
   "pygments_lexer": "ipython3",
   "version": "3.9.7"
  }
 },
 "nbformat": 4,
 "nbformat_minor": 4
}
