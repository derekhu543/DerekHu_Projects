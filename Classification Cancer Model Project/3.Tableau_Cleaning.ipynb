{
 "cells": [
  {
   "cell_type": "code",
<<<<<<< HEAD
   "execution_count": 2,
=======
   "execution_count": null,
>>>>>>> fa68eca7d5bf1cb8f04a3b58cc0b694bf3308239
   "id": "c713b625-749b-44fb-8acd-40925f1031be",
   "metadata": {
    "id": "c713b625-749b-44fb-8acd-40925f1031be"
   },
   "outputs": [],
   "source": [
    "#For Tableau.ipynb - I will import my cleaned data from the cancer_merging_data.ipynb\n",
    "\n",
    "import pandas as pd"
   ]
  },
  {
   "cell_type": "code",
<<<<<<< HEAD
   "execution_count": 3,
=======
   "execution_count": null,
>>>>>>> fa68eca7d5bf1cb8f04a3b58cc0b694bf3308239
   "id": "yUxYcBUbaW8p",
   "metadata": {
    "id": "yUxYcBUbaW8p"
   },
   "outputs": [],
   "source": [
    "#Based from my Tableau visualizations, I selected 20 health and socioeconomic variables that \n",
    "#I believe would be correlated to people getting cancer.\n",
    "#Data was from years 2016 to 2018. \n",
    "\n",
    "import pandas as pd\n",
    "data = pd.read_csv('./Data_Files/cancer_data.csv')"
   ]
  },
  {
   "cell_type": "code",
<<<<<<< HEAD
   "execution_count": 4,
=======
   "execution_count": null,
>>>>>>> fa68eca7d5bf1cb8f04a3b58cc0b694bf3308239
   "id": "b534276a-7e1d-47cd-91ce-fd65e45a4bda",
   "metadata": {
    "colab": {
     "base_uri": "https://localhost:8080/",
     "height": 317
    },
    "executionInfo": {
     "elapsed": 203,
     "status": "ok",
     "timestamp": 1665952669917,
     "user": {
      "displayName": "Derek Hu",
      "userId": "14137525769356790466"
     },
     "user_tz": 420
    },
    "id": "b534276a-7e1d-47cd-91ce-fd65e45a4bda",
    "outputId": "78839285-afee-4155-938c-e39bd1abd078"
   },
   "outputs": [
    {
     "data": {
      "text/html": [
<<<<<<< HEAD
       "<div>\n",
=======
       "\n",
       "  <div id=\"df-a4ec99fd-1ed0-4f28-a0ef-06a5f906f804\">\n",
       "    <div class=\"colab-df-container\">\n",
       "      <div>\n",
>>>>>>> fa68eca7d5bf1cb8f04a3b58cc0b694bf3308239
       "<style scoped>\n",
       "    .dataframe tbody tr th:only-of-type {\n",
       "        vertical-align: middle;\n",
       "    }\n",
       "\n",
       "    .dataframe tbody tr th {\n",
       "        vertical-align: top;\n",
       "    }\n",
       "\n",
       "    .dataframe thead th {\n",
       "        text-align: right;\n",
       "    }\n",
       "</style>\n",
       "<table border=\"1\" class=\"dataframe\">\n",
       "  <thead>\n",
       "    <tr style=\"text-align: right;\">\n",
       "      <th></th>\n",
       "      <th>Unnamed: 0</th>\n",
       "      <th>YEAR</th>\n",
       "      <th>SERIAL</th>\n",
       "      <th>STRATA</th>\n",
       "      <th>PSU</th>\n",
       "      <th>NHISHID</th>\n",
       "      <th>HHWEIGHT</th>\n",
       "      <th>LIVINGQTR</th>\n",
       "      <th>PERNUM</th>\n",
       "      <th>NHISPID</th>\n",
       "      <th>...</th>\n",
<<<<<<< HEAD
       "      <th>Rectal_cancer</th>\n",
       "      <th>Skin_cancer</th>\n",
       "      <th>Skin1_cancer</th>\n",
       "      <th>Skin2_cancer</th>\n",
       "      <th>Stomach_cancer</th>\n",
       "      <th>Testicular_cancer</th>\n",
       "      <th>Throat_cancer</th>\n",
       "      <th>Thyroid_cancer</th>\n",
       "      <th>Uterine_cancer</th>\n",
=======
       "      <th>CIGDAYMO</th>\n",
       "      <th>SMOKFREQNOW</th>\n",
       "      <th>STRONGFWK</th>\n",
       "      <th>HRSLEEP</th>\n",
       "      <th>WORFEELEVL</th>\n",
       "      <th>DEPFREQ</th>\n",
       "      <th>UNHAPPY</th>\n",
       "      <th>MORTELIG</th>\n",
       "      <th>MORTWTSA</th>\n",
>>>>>>> fa68eca7d5bf1cb8f04a3b58cc0b694bf3308239
       "      <th>cancer_count</th>\n",
       "    </tr>\n",
       "  </thead>\n",
       "  <tbody>\n",
       "    <tr>\n",
       "      <th>0</th>\n",
       "      <td>0</td>\n",
       "      <td>2016</td>\n",
       "      <td>1</td>\n",
       "      <td>7131</td>\n",
       "      <td>20</td>\n",
       "      <td>2016000001</td>\n",
       "      <td>5621</td>\n",
       "      <td>21</td>\n",
       "      <td>1</td>\n",
       "      <td>20160000010101</td>\n",
       "      <td>...</td>\n",
<<<<<<< HEAD
       "      <td>0</td>\n",
       "      <td>0</td>\n",
       "      <td>0</td>\n",
       "      <td>0</td>\n",
       "      <td>0</td>\n",
       "      <td>0</td>\n",
       "      <td>0</td>\n",
       "      <td>0</td>\n",
       "      <td>0</td>\n",
=======
       "      <td>96</td>\n",
       "      <td>0</td>\n",
       "      <td>2</td>\n",
       "      <td>6</td>\n",
       "      <td>0</td>\n",
       "      <td>0</td>\n",
       "      <td>6</td>\n",
       "      <td>1</td>\n",
       "      <td>26484</td>\n",
>>>>>>> fa68eca7d5bf1cb8f04a3b58cc0b694bf3308239
       "      <td>0</td>\n",
       "    </tr>\n",
       "    <tr>\n",
       "      <th>1</th>\n",
       "      <td>1</td>\n",
       "      <td>2016</td>\n",
       "      <td>1</td>\n",
       "      <td>7131</td>\n",
       "      <td>20</td>\n",
       "      <td>2016000001</td>\n",
       "      <td>5621</td>\n",
       "      <td>21</td>\n",
       "      <td>2</td>\n",
       "      <td>20160000010102</td>\n",
       "      <td>...</td>\n",
<<<<<<< HEAD
=======
       "      <td>96</td>\n",
>>>>>>> fa68eca7d5bf1cb8f04a3b58cc0b694bf3308239
       "      <td>0</td>\n",
       "      <td>0</td>\n",
       "      <td>0</td>\n",
       "      <td>0</td>\n",
       "      <td>0</td>\n",
<<<<<<< HEAD
       "      <td>0</td>\n",
       "      <td>0</td>\n",
       "      <td>0</td>\n",
=======
       "      <td>6</td>\n",
       "      <td>9</td>\n",
>>>>>>> fa68eca7d5bf1cb8f04a3b58cc0b694bf3308239
       "      <td>0</td>\n",
       "      <td>0</td>\n",
       "    </tr>\n",
       "    <tr>\n",
       "      <th>2</th>\n",
       "      <td>2</td>\n",
       "      <td>2016</td>\n",
       "      <td>1</td>\n",
       "      <td>7131</td>\n",
       "      <td>20</td>\n",
       "      <td>2016000001</td>\n",
       "      <td>5621</td>\n",
       "      <td>21</td>\n",
       "      <td>3</td>\n",
       "      <td>20160000010201</td>\n",
       "      <td>...</td>\n",
<<<<<<< HEAD
       "      <td>0</td>\n",
       "      <td>0</td>\n",
       "      <td>0</td>\n",
       "      <td>0</td>\n",
       "      <td>0</td>\n",
       "      <td>0</td>\n",
       "      <td>0</td>\n",
       "      <td>0</td>\n",
       "      <td>0</td>\n",
=======
       "      <td>96</td>\n",
       "      <td>0</td>\n",
       "      <td>94</td>\n",
       "      <td>7</td>\n",
       "      <td>0</td>\n",
       "      <td>5</td>\n",
       "      <td>6</td>\n",
       "      <td>1</td>\n",
       "      <td>11294</td>\n",
>>>>>>> fa68eca7d5bf1cb8f04a3b58cc0b694bf3308239
       "      <td>0</td>\n",
       "    </tr>\n",
       "    <tr>\n",
       "      <th>3</th>\n",
       "      <td>3</td>\n",
       "      <td>2016</td>\n",
       "      <td>2</td>\n",
       "      <td>7149</td>\n",
       "      <td>2</td>\n",
       "      <td>2016000002</td>\n",
       "      <td>1752</td>\n",
       "      <td>21</td>\n",
       "      <td>1</td>\n",
       "      <td>20160000020101</td>\n",
       "      <td>...</td>\n",
<<<<<<< HEAD
       "      <td>0</td>\n",
       "      <td>0</td>\n",
       "      <td>0</td>\n",
       "      <td>0</td>\n",
       "      <td>0</td>\n",
       "      <td>0</td>\n",
       "      <td>0</td>\n",
       "      <td>0</td>\n",
       "      <td>0</td>\n",
=======
       "      <td>96</td>\n",
       "      <td>0</td>\n",
       "      <td>95</td>\n",
       "      <td>8</td>\n",
       "      <td>0</td>\n",
       "      <td>5</td>\n",
       "      <td>6</td>\n",
       "      <td>1</td>\n",
       "      <td>2535</td>\n",
>>>>>>> fa68eca7d5bf1cb8f04a3b58cc0b694bf3308239
       "      <td>0</td>\n",
       "    </tr>\n",
       "    <tr>\n",
       "      <th>4</th>\n",
       "      <td>4</td>\n",
       "      <td>2016</td>\n",
       "      <td>3</td>\n",
       "      <td>7129</td>\n",
       "      <td>2</td>\n",
       "      <td>2016000003</td>\n",
       "      <td>4442</td>\n",
       "      <td>21</td>\n",
       "      <td>1</td>\n",
       "      <td>20160000030101</td>\n",
       "      <td>...</td>\n",
<<<<<<< HEAD
=======
       "      <td>96</td>\n",
>>>>>>> fa68eca7d5bf1cb8f04a3b58cc0b694bf3308239
       "      <td>0</td>\n",
       "      <td>0</td>\n",
       "      <td>0</td>\n",
       "      <td>0</td>\n",
       "      <td>0</td>\n",
<<<<<<< HEAD
       "      <td>0</td>\n",
       "      <td>0</td>\n",
       "      <td>0</td>\n",
=======
       "      <td>6</td>\n",
       "      <td>9</td>\n",
>>>>>>> fa68eca7d5bf1cb8f04a3b58cc0b694bf3308239
       "      <td>0</td>\n",
       "      <td>0</td>\n",
       "    </tr>\n",
       "  </tbody>\n",
       "</table>\n",
<<<<<<< HEAD
       "<p>5 rows × 144 columns</p>\n",
       "</div>"
=======
       "<p>5 rows × 114 columns</p>\n",
       "</div>\n",
       "      <button class=\"colab-df-convert\" onclick=\"convertToInteractive('df-a4ec99fd-1ed0-4f28-a0ef-06a5f906f804')\"\n",
       "              title=\"Convert this dataframe to an interactive table.\"\n",
       "              style=\"display:none;\">\n",
       "        \n",
       "  <svg xmlns=\"http://www.w3.org/2000/svg\" height=\"24px\"viewBox=\"0 0 24 24\"\n",
       "       width=\"24px\">\n",
       "    <path d=\"M0 0h24v24H0V0z\" fill=\"none\"/>\n",
       "    <path d=\"M18.56 5.44l.94 2.06.94-2.06 2.06-.94-2.06-.94-.94-2.06-.94 2.06-2.06.94zm-11 1L8.5 8.5l.94-2.06 2.06-.94-2.06-.94L8.5 2.5l-.94 2.06-2.06.94zm10 10l.94 2.06.94-2.06 2.06-.94-2.06-.94-.94-2.06-.94 2.06-2.06.94z\"/><path d=\"M17.41 7.96l-1.37-1.37c-.4-.4-.92-.59-1.43-.59-.52 0-1.04.2-1.43.59L10.3 9.45l-7.72 7.72c-.78.78-.78 2.05 0 2.83L4 21.41c.39.39.9.59 1.41.59.51 0 1.02-.2 1.41-.59l7.78-7.78 2.81-2.81c.8-.78.8-2.07 0-2.86zM5.41 20L4 18.59l7.72-7.72 1.47 1.35L5.41 20z\"/>\n",
       "  </svg>\n",
       "      </button>\n",
       "      \n",
       "  <style>\n",
       "    .colab-df-container {\n",
       "      display:flex;\n",
       "      flex-wrap:wrap;\n",
       "      gap: 12px;\n",
       "    }\n",
       "\n",
       "    .colab-df-convert {\n",
       "      background-color: #E8F0FE;\n",
       "      border: none;\n",
       "      border-radius: 50%;\n",
       "      cursor: pointer;\n",
       "      display: none;\n",
       "      fill: #1967D2;\n",
       "      height: 32px;\n",
       "      padding: 0 0 0 0;\n",
       "      width: 32px;\n",
       "    }\n",
       "\n",
       "    .colab-df-convert:hover {\n",
       "      background-color: #E2EBFA;\n",
       "      box-shadow: 0px 1px 2px rgba(60, 64, 67, 0.3), 0px 1px 3px 1px rgba(60, 64, 67, 0.15);\n",
       "      fill: #174EA6;\n",
       "    }\n",
       "\n",
       "    [theme=dark] .colab-df-convert {\n",
       "      background-color: #3B4455;\n",
       "      fill: #D2E3FC;\n",
       "    }\n",
       "\n",
       "    [theme=dark] .colab-df-convert:hover {\n",
       "      background-color: #434B5C;\n",
       "      box-shadow: 0px 1px 3px 1px rgba(0, 0, 0, 0.15);\n",
       "      filter: drop-shadow(0px 1px 2px rgba(0, 0, 0, 0.3));\n",
       "      fill: #FFFFFF;\n",
       "    }\n",
       "  </style>\n",
       "\n",
       "      <script>\n",
       "        const buttonEl =\n",
       "          document.querySelector('#df-a4ec99fd-1ed0-4f28-a0ef-06a5f906f804 button.colab-df-convert');\n",
       "        buttonEl.style.display =\n",
       "          google.colab.kernel.accessAllowed ? 'block' : 'none';\n",
       "\n",
       "        async function convertToInteractive(key) {\n",
       "          const element = document.querySelector('#df-a4ec99fd-1ed0-4f28-a0ef-06a5f906f804');\n",
       "          const dataTable =\n",
       "            await google.colab.kernel.invokeFunction('convertToInteractive',\n",
       "                                                     [key], {});\n",
       "          if (!dataTable) return;\n",
       "\n",
       "          const docLinkHtml = 'Like what you see? Visit the ' +\n",
       "            '<a target=\"_blank\" href=https://colab.research.google.com/notebooks/data_table.ipynb>data table notebook</a>'\n",
       "            + ' to learn more about interactive tables.';\n",
       "          element.innerHTML = '';\n",
       "          dataTable['output_type'] = 'display_data';\n",
       "          await google.colab.output.renderOutput(dataTable, element);\n",
       "          const docLink = document.createElement('div');\n",
       "          docLink.innerHTML = docLinkHtml;\n",
       "          element.appendChild(docLink);\n",
       "        }\n",
       "      </script>\n",
       "    </div>\n",
       "  </div>\n",
       "  "
>>>>>>> fa68eca7d5bf1cb8f04a3b58cc0b694bf3308239
      ],
      "text/plain": [
       "   Unnamed: 0  YEAR  SERIAL  STRATA  PSU     NHISHID  HHWEIGHT  LIVINGQTR  \\\n",
       "0           0  2016       1    7131   20  2016000001      5621         21   \n",
       "1           1  2016       1    7131   20  2016000001      5621         21   \n",
       "2           2  2016       1    7131   20  2016000001      5621         21   \n",
       "3           3  2016       2    7149    2  2016000002      1752         21   \n",
       "4           4  2016       3    7129    2  2016000003      4442         21   \n",
       "\n",
<<<<<<< HEAD
       "   PERNUM         NHISPID  ...  Rectal_cancer  Skin_cancer  Skin1_cancer  \\\n",
       "0       1  20160000010101  ...              0            0             0   \n",
       "1       2  20160000010102  ...              0            0             0   \n",
       "2       3  20160000010201  ...              0            0             0   \n",
       "3       1  20160000020101  ...              0            0             0   \n",
       "4       1  20160000030101  ...              0            0             0   \n",
       "\n",
       "   Skin2_cancer  Stomach_cancer  Testicular_cancer  Throat_cancer  \\\n",
       "0             0               0                  0              0   \n",
       "1             0               0                  0              0   \n",
       "2             0               0                  0              0   \n",
       "3             0               0                  0              0   \n",
       "4             0               0                  0              0   \n",
       "\n",
       "   Thyroid_cancer  Uterine_cancer  cancer_count  \n",
       "0               0               0             0  \n",
       "1               0               0             0  \n",
       "2               0               0             0  \n",
       "3               0               0             0  \n",
       "4               0               0             0  \n",
       "\n",
       "[5 rows x 144 columns]"
      ]
     },
     "execution_count": 4,
=======
       "   PERNUM         NHISPID  ...  CIGDAYMO  SMOKFREQNOW  STRONGFWK  HRSLEEP  \\\n",
       "0       1  20160000010101  ...        96            0          2        6   \n",
       "1       2  20160000010102  ...        96            0          0        0   \n",
       "2       3  20160000010201  ...        96            0         94        7   \n",
       "3       1  20160000020101  ...        96            0         95        8   \n",
       "4       1  20160000030101  ...        96            0          0        0   \n",
       "\n",
       "   WORFEELEVL  DEPFREQ  UNHAPPY  MORTELIG  MORTWTSA  cancer_count  \n",
       "0           0        0        6         1     26484             0  \n",
       "1           0        0        6         9         0             0  \n",
       "2           0        5        6         1     11294             0  \n",
       "3           0        5        6         1      2535             0  \n",
       "4           0        0        6         9         0             0  \n",
       "\n",
       "[5 rows x 114 columns]"
      ]
     },
     "execution_count": 5,
>>>>>>> fa68eca7d5bf1cb8f04a3b58cc0b694bf3308239
     "metadata": {},
     "output_type": "execute_result"
    }
   ],
   "source": [
    "#This is my data\n",
    "data.head()"
   ]
  },
  {
   "cell_type": "code",
<<<<<<< HEAD
   "execution_count": 5,
=======
   "execution_count": null,
>>>>>>> fa68eca7d5bf1cb8f04a3b58cc0b694bf3308239
   "id": "SBk20pAmDHy8",
   "metadata": {
    "colab": {
     "base_uri": "https://localhost:8080/"
    },
    "executionInfo": {
     "elapsed": 179,
     "status": "ok",
     "timestamp": 1665952671058,
     "user": {
      "displayName": "Derek Hu",
      "userId": "14137525769356790466"
     },
     "user_tz": 420
    },
    "id": "SBk20pAmDHy8",
    "outputId": "e19239ed-b295-4b8b-d0bf-c9229c9dfbbe"
   },
   "outputs": [
    {
     "data": {
      "text/plain": [
<<<<<<< HEAD
       "(248092, 144)"
      ]
     },
     "execution_count": 5,
=======
       "(248092, 114)"
      ]
     },
     "execution_count": 6,
>>>>>>> fa68eca7d5bf1cb8f04a3b58cc0b694bf3308239
     "metadata": {},
     "output_type": "execute_result"
    }
   ],
   "source": [
    "#Imported data contains 248092 rows and 114 columns (variables)\n",
    "data.shape"
   ]
  },
  {
   "cell_type": "code",
<<<<<<< HEAD
   "execution_count": 6,
=======
   "execution_count": null,
>>>>>>> fa68eca7d5bf1cb8f04a3b58cc0b694bf3308239
   "id": "f5d99ae2-b128-4697-adad-39c6607229ab",
   "metadata": {
    "id": "f5d99ae2-b128-4697-adad-39c6607229ab"
   },
   "outputs": [],
   "source": [
    "#For the rest of this ipynb, I plan to clean the 20 selected variables that I believe would be related to cancer rates\n",
    "#I chose these 20 variables based on research and common sense.\n",
    "#Some variables I wanted to use such as drinking frequency, BMI, and location were unusable due to high rate of missing values.\n",
    "#Most of my data are numerical categorical. They will all be needed to cleaned and converted to categorical dummy variables.\n",
    "\n",
    "#Other variables such as exercising amount contain too many missing values that I was unable to get it to work. "
   ]
  },
  {
   "cell_type": "code",
<<<<<<< HEAD
   "execution_count": 7,
=======
   "execution_count": null,
>>>>>>> fa68eca7d5bf1cb8f04a3b58cc0b694bf3308239
   "id": "tecPtZc8a98q",
   "metadata": {
    "id": "tecPtZc8a98q"
   },
   "outputs": [],
   "source": [
    "## ***AGE - NUMERICAL***\n",
    "#https://www.cancer.gov/about-cancer/causes-prevention/risk/age#:~:text=The%20incidence%20rates%20for%20cancer,groups%2060%20years%20and%20older.\n",
    "#According to cancer.gov, advanced age one of the MOST important risk factor overall to cancer risk\n",
    "#Cancer rates climb significantly the older you get.\n",
    "#Median age for cancer is in the low to upper 60s"
   ]
  },
  {
   "cell_type": "code",
<<<<<<< HEAD
   "execution_count": 8,
=======
   "execution_count": null,
>>>>>>> fa68eca7d5bf1cb8f04a3b58cc0b694bf3308239
   "id": "lXHQ5maPbLgE",
   "metadata": {
    "id": "lXHQ5maPbLgE"
   },
   "outputs": [],
   "source": [
    "data.rename(columns={'AGE': 'age_count'}, inplace=True)"
   ]
  },
  {
   "cell_type": "code",
<<<<<<< HEAD
   "execution_count": 9,
=======
   "execution_count": null,
>>>>>>> fa68eca7d5bf1cb8f04a3b58cc0b694bf3308239
   "id": "2MqGfKJocfC7",
   "metadata": {
    "colab": {
     "base_uri": "https://localhost:8080/"
    },
    "executionInfo": {
     "elapsed": 100,
     "status": "ok",
     "timestamp": 1665897274985,
     "user": {
      "displayName": "Derek Hu",
      "userId": "14137525769356790466"
     },
     "user_tz": 420
    },
    "id": "2MqGfKJocfC7",
    "outputId": "c28895a9-d03a-4708-ab0d-2efe0f276eed"
   },
   "outputs": [
    {
     "data": {
      "text/plain": [
       "85    4636\n",
       "60    3587\n",
       "55    3558\n",
       "53    3527\n",
       "56    3465\n",
       "      ... \n",
       "80    1200\n",
       "81    1016\n",
       "82     978\n",
       "83     911\n",
       "84     746\n",
       "Name: age_count, Length: 86, dtype: int64"
      ]
     },
<<<<<<< HEAD
     "execution_count": 9,
=======
     "execution_count": 788,
>>>>>>> fa68eca7d5bf1cb8f04a3b58cc0b694bf3308239
     "metadata": {},
     "output_type": "execute_result"
    }
   ],
   "source": [
    "#Want to convert numerical values to five categorical values\n",
    "data['age_count'].value_counts()"
   ]
  },
  {
   "cell_type": "code",
<<<<<<< HEAD
   "execution_count": 10,
=======
   "execution_count": null,
>>>>>>> fa68eca7d5bf1cb8f04a3b58cc0b694bf3308239
   "id": "o7VETCbrcRGk",
   "metadata": {
    "id": "o7VETCbrcRGk"
   },
   "outputs": [],
   "source": [
<<<<<<< HEAD
    "data.loc[((data['age_count'] >= 1) & (data['age_count'] <= 15)), 'age_count'] = 1"
=======
    "data.loc[((data['age_count'] >= 0) & (data['age_count'] <= 18)), 'age_count'] = 1"
>>>>>>> fa68eca7d5bf1cb8f04a3b58cc0b694bf3308239
   ]
  },
  {
   "cell_type": "code",
<<<<<<< HEAD
   "execution_count": 11,
=======
   "execution_count": null,
>>>>>>> fa68eca7d5bf1cb8f04a3b58cc0b694bf3308239
   "id": "ftRYa5rcctM_",
   "metadata": {
    "id": "ftRYa5rcctM_"
   },
   "outputs": [],
   "source": [
<<<<<<< HEAD
    "data.loc[((data['age_count'] >= 16) & (data['age_count'] <= 31)), 'age_count'] = 2"
=======
    "data.loc[((data['age_count'] >= 19) & (data['age_count'] <= 30)), 'age_count'] = 2"
>>>>>>> fa68eca7d5bf1cb8f04a3b58cc0b694bf3308239
   ]
  },
  {
   "cell_type": "code",
<<<<<<< HEAD
   "execution_count": 12,
=======
   "execution_count": null,
>>>>>>> fa68eca7d5bf1cb8f04a3b58cc0b694bf3308239
   "id": "dXYMJ7f0c5ac",
   "metadata": {
    "id": "dXYMJ7f0c5ac"
   },
   "outputs": [],
   "source": [
<<<<<<< HEAD
    "data.loc[((data['age_count'] >= 32) & (data['age_count'] <= 47)), 'age_count'] = 3"
=======
    "data.loc[((data['age_count'] >= 31) & (data['age_count'] <= 45)), 'age_count'] = 3"
>>>>>>> fa68eca7d5bf1cb8f04a3b58cc0b694bf3308239
   ]
  },
  {
   "cell_type": "code",
<<<<<<< HEAD
   "execution_count": 13,
=======
   "execution_count": null,
>>>>>>> fa68eca7d5bf1cb8f04a3b58cc0b694bf3308239
   "id": "JYuVSdrOc8z0",
   "metadata": {
    "id": "JYuVSdrOc8z0"
   },
   "outputs": [],
   "source": [
<<<<<<< HEAD
    "data.loc[((data['age_count'] >= 48) & (data['age_count'] <= 62)), 'age_count'] = 4"
=======
    "data.loc[((data['age_count'] >= 46) & (data['age_count'] <= 60)), 'age_count'] = 4"
>>>>>>> fa68eca7d5bf1cb8f04a3b58cc0b694bf3308239
   ]
  },
  {
   "cell_type": "code",
<<<<<<< HEAD
   "execution_count": 14,
=======
   "execution_count": null,
>>>>>>> fa68eca7d5bf1cb8f04a3b58cc0b694bf3308239
   "id": "hPzddgVmc_b4",
   "metadata": {
    "id": "hPzddgVmc_b4"
   },
   "outputs": [],
   "source": [
<<<<<<< HEAD
    "data.loc[((data['age_count'] >= 63) & (data['age_count'] <= 80)), 'age_count'] = 5"
=======
    "data.loc[((data['age_count'] >= 61) & (data['age_count'] <= 80)), 'age_count'] = 5"
>>>>>>> fa68eca7d5bf1cb8f04a3b58cc0b694bf3308239
   ]
  },
  {
   "cell_type": "code",
<<<<<<< HEAD
   "execution_count": 15,
=======
   "execution_count": null,
>>>>>>> fa68eca7d5bf1cb8f04a3b58cc0b694bf3308239
   "id": "Ean9uPKSdBQh",
   "metadata": {
    "id": "Ean9uPKSdBQh"
   },
   "outputs": [],
   "source": [
    "data.loc[(data['age_count'] >= 81), 'age_count'] = 5"
   ]
  },
  {
   "cell_type": "code",
<<<<<<< HEAD
   "execution_count": 16,
=======
   "execution_count": null,
>>>>>>> fa68eca7d5bf1cb8f04a3b58cc0b694bf3308239
   "id": "U43_4rwGdHf3",
   "metadata": {
    "colab": {
     "base_uri": "https://localhost:8080/"
    },
    "executionInfo": {
     "elapsed": 62,
     "status": "ok",
     "timestamp": 1665897274989,
     "user": {
      "displayName": "Derek Hu",
      "userId": "14137525769356790466"
     },
     "user_tz": 420
    },
    "id": "U43_4rwGdHf3",
    "outputId": "e63b79eb-406a-4981-bc8a-0a7a3089c46b"
   },
   "outputs": [
    {
     "data": {
      "text/plain": [
<<<<<<< HEAD
       "4    50374\n",
       "3    49793\n",
       "5    48709\n",
       "1    48370\n",
       "2    48033\n",
       "0     2813\n",
       "Name: age_count, dtype: int64"
      ]
     },
     "execution_count": 16,
=======
       "1    60994\n",
       "5    55295\n",
       "4    50226\n",
       "3    46381\n",
       "2    35196\n",
       "Name: age_count, dtype: int64"
      ]
     },
     "execution_count": 795,
>>>>>>> fa68eca7d5bf1cb8f04a3b58cc0b694bf3308239
     "metadata": {},
     "output_type": "execute_result"
    }
   ],
   "source": [
    "data['age_count'].value_counts()"
   ]
  },
  {
   "cell_type": "code",
<<<<<<< HEAD
   "execution_count": 17,
=======
   "execution_count": null,
>>>>>>> fa68eca7d5bf1cb8f04a3b58cc0b694bf3308239
   "id": "ZRBbBfZDdZ5q",
   "metadata": {
    "id": "ZRBbBfZDdZ5q"
   },
   "outputs": [],
   "source": [
    "## ***AGE - CATEGORICAL***\n",
    "#Converted to 5 categorical values young, lower middle aged, middle aged, upper middle aged, and elderly"
   ]
  },
  {
   "cell_type": "code",
<<<<<<< HEAD
   "execution_count": 18,
=======
   "execution_count": null,
>>>>>>> fa68eca7d5bf1cb8f04a3b58cc0b694bf3308239
   "id": "b1exhn5bdugQ",
   "metadata": {
    "id": "b1exhn5bdugQ"
   },
   "outputs": [],
   "source": [
    "data['age'] = data.loc[:, 'age_count']"
   ]
  },
  {
   "cell_type": "code",
<<<<<<< HEAD
   "execution_count": 19,
=======
   "execution_count": null,
>>>>>>> fa68eca7d5bf1cb8f04a3b58cc0b694bf3308239
   "id": "ONftZaXXdgmP",
   "metadata": {
    "id": "ONftZaXXdgmP"
   },
   "outputs": [],
   "source": [
    "data['age'].replace(to_replace=1,\n",
    "           value=\"Young\", inplace=True)"
   ]
  },
  {
   "cell_type": "code",
<<<<<<< HEAD
   "execution_count": 20,
=======
   "execution_count": null,
>>>>>>> fa68eca7d5bf1cb8f04a3b58cc0b694bf3308239
   "id": "DIgyNgmndrwe",
   "metadata": {
    "id": "DIgyNgmndrwe"
   },
   "outputs": [],
   "source": [
    "data['age'].replace(to_replace=2,\n",
    "           value=\"Lower_Middle_Aged\", inplace=True)"
   ]
  },
  {
   "cell_type": "code",
<<<<<<< HEAD
   "execution_count": 21,
=======
   "execution_count": null,
>>>>>>> fa68eca7d5bf1cb8f04a3b58cc0b694bf3308239
   "id": "E-fxjuDbd2fw",
   "metadata": {
    "id": "E-fxjuDbd2fw"
   },
   "outputs": [],
   "source": [
    "data['age'].replace(to_replace=3,\n",
    "           value=\"Middle_Aged\", inplace=True)"
   ]
  },
  {
   "cell_type": "code",
<<<<<<< HEAD
   "execution_count": 22,
=======
   "execution_count": null,
>>>>>>> fa68eca7d5bf1cb8f04a3b58cc0b694bf3308239
   "id": "_YTiWEx7d5FP",
   "metadata": {
    "id": "_YTiWEx7d5FP"
   },
   "outputs": [],
   "source": [
    "data['age'].replace(to_replace=4,\n",
    "           value=\"Upper_Middle_Aged\", inplace=True)"
   ]
  },
  {
   "cell_type": "code",
<<<<<<< HEAD
   "execution_count": 23,
=======
   "execution_count": null,
>>>>>>> fa68eca7d5bf1cb8f04a3b58cc0b694bf3308239
   "id": "RQumi4JweBFk",
   "metadata": {
    "id": "RQumi4JweBFk"
   },
   "outputs": [],
   "source": [
    "data['age'].replace(to_replace=5,\n",
    "           value=\"Elderly\", inplace=True)"
   ]
  },
  {
   "cell_type": "code",
<<<<<<< HEAD
   "execution_count": 24,
=======
   "execution_count": null,
>>>>>>> fa68eca7d5bf1cb8f04a3b58cc0b694bf3308239
   "id": "WB7HO_IXeHh9",
   "metadata": {
    "colab": {
     "base_uri": "https://localhost:8080/"
    },
    "executionInfo": {
     "elapsed": 50,
     "status": "ok",
     "timestamp": 1665897274994,
     "user": {
      "displayName": "Derek Hu",
      "userId": "14137525769356790466"
     },
     "user_tz": 420
    },
    "id": "WB7HO_IXeHh9",
    "outputId": "51e29b6e-fcc9-4c3b-f538-4b54e462d32c"
   },
   "outputs": [
    {
     "data": {
      "text/plain": [
<<<<<<< HEAD
       "Upper_Middle_Aged    50374\n",
       "Middle_Aged          49793\n",
       "Elderly              48709\n",
       "Young                48370\n",
       "Lower_Middle_Aged    48033\n",
       "0                     2813\n",
       "Name: age, dtype: int64"
      ]
     },
     "execution_count": 24,
=======
       "Young                60994\n",
       "Elderly              55295\n",
       "Upper_Middle_Aged    50226\n",
       "Middle_Aged          46381\n",
       "Lower_Middle_Aged    35196\n",
       "Name: age, dtype: int64"
      ]
     },
     "execution_count": 803,
>>>>>>> fa68eca7d5bf1cb8f04a3b58cc0b694bf3308239
     "metadata": {},
     "output_type": "execute_result"
    }
   ],
   "source": [
    "data['age'].value_counts()"
   ]
  },
  {
   "cell_type": "markdown",
   "id": "68936dcc-d320-4a7e-9abc-63ca29d76556",
   "metadata": {
    "id": "68936dcc-d320-4a7e-9abc-63ca29d76556"
   },
   "source": [
    "***CNBRES - Numerical***"
   ]
  },
  {
   "cell_type": "code",
<<<<<<< HEAD
   "execution_count": 25,
=======
   "execution_count": null,
>>>>>>> fa68eca7d5bf1cb8f04a3b58cc0b694bf3308239
   "id": "fa922027-f311-4bd6-830f-30f42af54217",
   "metadata": {
    "colab": {
     "base_uri": "https://localhost:8080/"
    },
    "executionInfo": {
     "elapsed": 38,
     "status": "ok",
     "timestamp": 1665897274994,
     "user": {
      "displayName": "Derek Hu",
      "userId": "14137525769356790466"
     },
     "user_tz": 420
    },
    "id": "fa922027-f311-4bd6-830f-30f42af54217",
    "outputId": "6ff30be2-498e-43d4-cc66-053b4abcace8"
   },
   "outputs": [
    {
     "data": {
      "text/plain": [
       "0    238438\n",
       "1      9654\n",
       "Name: cancer_count, dtype: int64"
      ]
     },
<<<<<<< HEAD
     "execution_count": 25,
=======
     "execution_count": 804,
>>>>>>> fa68eca7d5bf1cb8f04a3b58cc0b694bf3308239
     "metadata": {},
     "output_type": "execute_result"
    }
   ],
   "source": [
    "#The percent of respondents who are diagnosed with cancer. \n",
    "#https://seer.cancer.gov/statfacts/html/all.html\n",
    "#Roughly 4.7 percent of americans have cancer in 2019\n",
    "#This survey has it at about 4%. 0 means no cancer, 1 means has cancer\n",
    "data['cancer_count'].value_counts()"
   ]
  },
  {
   "cell_type": "markdown",
   "id": "b434e138-c5ee-4684-8f83-75acc479ae0c",
   "metadata": {
    "id": "b434e138-c5ee-4684-8f83-75acc479ae0c"
   },
   "source": [
    "***CNBRES (Categorical)***"
   ]
  },
  {
   "cell_type": "code",
<<<<<<< HEAD
   "execution_count": 26,
=======
   "execution_count": null,
>>>>>>> fa68eca7d5bf1cb8f04a3b58cc0b694bf3308239
   "id": "d3debe57-4e92-43bf-ad03-da653c2e872d",
   "metadata": {
    "id": "d3debe57-4e92-43bf-ad03-da653c2e872d"
   },
   "outputs": [],
   "source": [
    "data['cancer'] = data.loc[:, 'cancer_count']"
   ]
  },
  {
   "cell_type": "code",
<<<<<<< HEAD
   "execution_count": 27,
=======
   "execution_count": null,
>>>>>>> fa68eca7d5bf1cb8f04a3b58cc0b694bf3308239
   "id": "02099adb-1557-48b5-be2d-1073b54f9fc2",
   "metadata": {
    "id": "02099adb-1557-48b5-be2d-1073b54f9fc2"
   },
   "outputs": [],
   "source": [
    "data['cancer'].replace(to_replace=0,\n",
    "           value=\"No_cancer\", inplace=True)"
   ]
  },
  {
   "cell_type": "code",
<<<<<<< HEAD
   "execution_count": 28,
=======
   "execution_count": null,
>>>>>>> fa68eca7d5bf1cb8f04a3b58cc0b694bf3308239
   "id": "8428c64c-f733-4d81-875b-d3409f27b22d",
   "metadata": {
    "id": "8428c64c-f733-4d81-875b-d3409f27b22d"
   },
   "outputs": [],
   "source": [
    "data['cancer'].replace(to_replace=1,\n",
    "           value=\"Has_cancer\", inplace=True)"
   ]
  },
  {
   "cell_type": "code",
<<<<<<< HEAD
   "execution_count": 29,
=======
   "execution_count": null,
>>>>>>> fa68eca7d5bf1cb8f04a3b58cc0b694bf3308239
   "id": "e69c7907-dfc6-4570-86c1-d76a1aa15d0f",
   "metadata": {
    "colab": {
     "base_uri": "https://localhost:8080/"
    },
    "executionInfo": {
     "elapsed": 347,
     "status": "ok",
     "timestamp": 1665897290430,
     "user": {
      "displayName": "Derek Hu",
      "userId": "14137525769356790466"
     },
     "user_tz": 420
    },
    "id": "e69c7907-dfc6-4570-86c1-d76a1aa15d0f",
    "outputId": "e4e69376-ba67-48d7-be38-de876b7f2893"
   },
   "outputs": [
    {
     "data": {
      "text/plain": [
       "No_cancer     238438\n",
       "Has_cancer      9654\n",
       "Name: cancer, dtype: int64"
      ]
     },
<<<<<<< HEAD
     "execution_count": 29,
=======
     "execution_count": 808,
>>>>>>> fa68eca7d5bf1cb8f04a3b58cc0b694bf3308239
     "metadata": {},
     "output_type": "execute_result"
    }
   ],
   "source": [
    "data['cancer'].value_counts()"
   ]
  },
  {
   "cell_type": "markdown",
   "id": "2e01d63f-9b37-4deb-94d5-acf73e59e87a",
   "metadata": {
    "id": "2e01d63f-9b37-4deb-94d5-acf73e59e87a"
   },
   "source": [
    "***HOURSWRK (Numerical) - Total hours worked last week or usually***"
   ]
  },
  {
   "cell_type": "code",
<<<<<<< HEAD
   "execution_count": 30,
=======
   "execution_count": null,
>>>>>>> fa68eca7d5bf1cb8f04a3b58cc0b694bf3308239
   "id": "1622c495-2b8d-4b93-b352-306d3ae17914",
   "metadata": {
    "id": "1622c495-2b8d-4b93-b352-306d3ae17914"
   },
   "outputs": [],
   "source": [
    "#hrs worked - 0 to 95, don't include 97-99\n",
    "#0-95 - # work hours per week a year\n",
    "#97 - Unknown--refused\n",
    "#98 - Unknown--not ascertained\n",
    "#99 - Unknown--don't know"
   ]
  },
  {
   "cell_type": "code",
<<<<<<< HEAD
   "execution_count": 31,
=======
   "execution_count": null,
>>>>>>> fa68eca7d5bf1cb8f04a3b58cc0b694bf3308239
   "id": "3KcoJbTVO_II",
   "metadata": {
    "id": "3KcoJbTVO_II"
   },
   "outputs": [],
   "source": [
    "#I split the number of hours worked per week to four categories. \n",
    "#This included people who work part time below 40 hours and those who work overtime up to over 60 hours\n",
    "\n",
    "#https://www.nature.com/articles/bjc20169#:~:text=We%20observed%20no%20association%20between,CI%3A%200.76%2C%200.98).\n",
    "#According to them, they observed no significant relation towards work hours and cancer rates\n",
    "#People who work less have slightly less cancer rate, so I will include this variable to see its impact and remove it if it's insignificant"
   ]
  },
  {
   "cell_type": "code",
<<<<<<< HEAD
   "execution_count": 32,
=======
   "execution_count": null,
>>>>>>> fa68eca7d5bf1cb8f04a3b58cc0b694bf3308239
   "id": "c7825f65-0932-4c3f-adea-02761e28900d",
   "metadata": {
    "id": "c7825f65-0932-4c3f-adea-02761e28900d"
   },
   "outputs": [],
   "source": [
    "data['hrswrk_count'] = data.loc[:, 'HOURSWRK']"
   ]
  },
  {
   "cell_type": "code",
<<<<<<< HEAD
   "execution_count": 33,
=======
   "execution_count": null,
>>>>>>> fa68eca7d5bf1cb8f04a3b58cc0b694bf3308239
   "id": "7625da92-eb2a-42dc-be0f-de158373f0ea",
   "metadata": {
    "colab": {
     "base_uri": "https://localhost:8080/"
    },
    "executionInfo": {
     "elapsed": 337,
     "status": "ok",
     "timestamp": 1665897290431,
     "user": {
      "displayName": "Derek Hu",
      "userId": "14137525769356790466"
     },
     "user_tz": 420
    },
    "id": "7625da92-eb2a-42dc-be0f-de158373f0ea",
    "outputId": "bee134d3-4a7d-4a85-f36a-4ccfa189a16e"
   },
   "outputs": [
    {
     "data": {
      "text/plain": [
       "0     130483\n",
       "40     50438\n",
       "50      9459\n",
       "45      5673\n",
       "60      5501\n",
       "       ...  \n",
       "87         5\n",
       "94         4\n",
       "83         3\n",
       "81         2\n",
       "93         1\n",
       "Name: hrswrk_count, Length: 99, dtype: int64"
      ]
     },
<<<<<<< HEAD
     "execution_count": 33,
=======
     "execution_count": 812,
>>>>>>> fa68eca7d5bf1cb8f04a3b58cc0b694bf3308239
     "metadata": {},
     "output_type": "execute_result"
    }
   ],
   "source": [
    "data['hrswrk_count'].value_counts()"
   ]
  },
  {
   "cell_type": "code",
<<<<<<< HEAD
   "execution_count": 34,
=======
   "execution_count": null,
>>>>>>> fa68eca7d5bf1cb8f04a3b58cc0b694bf3308239
   "id": "e4f865c9-1884-44e0-8d9a-3f7778756d9c",
   "metadata": {
    "id": "e4f865c9-1884-44e0-8d9a-3f7778756d9c"
   },
   "outputs": [],
   "source": [
    "data = data[data.hrswrk_count != 97]"
   ]
  },
  {
   "cell_type": "code",
<<<<<<< HEAD
   "execution_count": 35,
=======
   "execution_count": null,
>>>>>>> fa68eca7d5bf1cb8f04a3b58cc0b694bf3308239
   "id": "09aa4d79-c14b-4663-a1a5-e7d07aff1aa0",
   "metadata": {
    "id": "09aa4d79-c14b-4663-a1a5-e7d07aff1aa0"
   },
   "outputs": [],
   "source": [
    "data = data[data.hrswrk_count != 98]"
   ]
  },
  {
   "cell_type": "code",
<<<<<<< HEAD
   "execution_count": 36,
=======
   "execution_count": null,
>>>>>>> fa68eca7d5bf1cb8f04a3b58cc0b694bf3308239
   "id": "dbadc03b-2d45-4874-a753-11eb1e6ebe76",
   "metadata": {
    "id": "dbadc03b-2d45-4874-a753-11eb1e6ebe76"
   },
   "outputs": [],
   "source": [
    "data = data[data.hrswrk_count != 99]"
   ]
  },
  {
   "cell_type": "code",
<<<<<<< HEAD
   "execution_count": 37,
=======
   "execution_count": null,
>>>>>>> fa68eca7d5bf1cb8f04a3b58cc0b694bf3308239
   "id": "50badae2-7a1d-47ae-8e33-564b9e808e29",
   "metadata": {
    "id": "50badae2-7a1d-47ae-8e33-564b9e808e29"
   },
   "outputs": [],
   "source": [
    "data['hrswrk_count'] = pd.to_numeric(data['hrswrk_count'], errors='raise')"
   ]
  },
  {
   "cell_type": "code",
<<<<<<< HEAD
   "execution_count": 38,
=======
   "execution_count": null,
>>>>>>> fa68eca7d5bf1cb8f04a3b58cc0b694bf3308239
   "id": "57fad1ef-abc6-48d6-9f6e-3d265390f098",
   "metadata": {
    "colab": {
     "base_uri": "https://localhost:8080/"
    },
    "executionInfo": {
     "elapsed": 319,
     "status": "ok",
     "timestamp": 1665897290433,
     "user": {
      "displayName": "Derek Hu",
      "userId": "14137525769356790466"
     },
     "user_tz": 420
    },
    "id": "57fad1ef-abc6-48d6-9f6e-3d265390f098",
    "outputId": "cb9e5dc9-72f0-4d91-817a-1a246b77f121"
   },
   "outputs": [
    {
     "data": {
      "text/plain": [
       "0     130483\n",
       "40     50438\n",
       "50      9459\n",
       "45      5673\n",
       "60      5501\n",
       "       ...  \n",
       "87         5\n",
       "94         4\n",
       "83         3\n",
       "81         2\n",
       "93         1\n",
       "Name: hrswrk_count, Length: 96, dtype: int64"
      ]
     },
<<<<<<< HEAD
     "execution_count": 38,
=======
     "execution_count": 817,
>>>>>>> fa68eca7d5bf1cb8f04a3b58cc0b694bf3308239
     "metadata": {},
     "output_type": "execute_result"
    }
   ],
   "source": [
    "data['hrswrk_count'].value_counts()"
   ]
  },
  {
   "cell_type": "markdown",
   "id": "a130759b-0412-4ea9-83ee-cb625c4bf014",
   "metadata": {
    "id": "a130759b-0412-4ea9-83ee-cb625c4bf014"
   },
   "source": [
    "***HOURSWRK (Numerical)***"
   ]
  },
  {
   "cell_type": "code",
<<<<<<< HEAD
   "execution_count": 39,
=======
   "execution_count": null,
>>>>>>> fa68eca7d5bf1cb8f04a3b58cc0b694bf3308239
   "id": "ab7b6ef1-f4d9-456e-9b20-0ab372e500d2",
   "metadata": {
    "id": "ab7b6ef1-f4d9-456e-9b20-0ab372e500d2"
   },
   "outputs": [],
   "source": [
    "data.loc[((data['hrswrk_count'] >= 0) & (data['hrswrk_count'] <= 30)), 'hrswrk_count'] = 1"
   ]
  },
  {
   "cell_type": "code",
<<<<<<< HEAD
   "execution_count": 40,
=======
   "execution_count": null,
>>>>>>> fa68eca7d5bf1cb8f04a3b58cc0b694bf3308239
   "id": "51e97997-d293-4ec9-92df-3ff042309be5",
   "metadata": {
    "id": "51e97997-d293-4ec9-92df-3ff042309be5"
   },
   "outputs": [],
   "source": [
    "data.loc[((data['hrswrk_count'] >= 30) & (data['hrswrk_count'] <= 40)), 'hrswrk_count'] = 2"
   ]
  },
  {
   "cell_type": "code",
<<<<<<< HEAD
   "execution_count": 41,
=======
   "execution_count": null,
>>>>>>> fa68eca7d5bf1cb8f04a3b58cc0b694bf3308239
   "id": "1aa3e75f-0434-4268-8f98-2ef6d8d5351a",
   "metadata": {
    "id": "1aa3e75f-0434-4268-8f98-2ef6d8d5351a"
   },
   "outputs": [],
   "source": [
    "data.loc[((data['hrswrk_count'] >= 40) & (data['hrswrk_count'] <= 60)), 'hrswrk_count'] = 3"
   ]
  },
  {
   "cell_type": "code",
<<<<<<< HEAD
   "execution_count": 42,
=======
   "execution_count": null,
>>>>>>> fa68eca7d5bf1cb8f04a3b58cc0b694bf3308239
   "id": "dba3ac24-bf08-419c-83aa-0623b1517a48",
   "metadata": {
    "id": "dba3ac24-bf08-419c-83aa-0623b1517a48"
   },
   "outputs": [],
   "source": [
    "data.loc[((data['hrswrk_count'] >= 60)), 'hrswrk_count'] = 4"
   ]
  },
  {
   "cell_type": "code",
<<<<<<< HEAD
   "execution_count": 43,
=======
   "execution_count": null,
>>>>>>> fa68eca7d5bf1cb8f04a3b58cc0b694bf3308239
   "id": "13368230-75db-44fc-bcd9-b3190a913715",
   "metadata": {
    "colab": {
     "base_uri": "https://localhost:8080/"
    },
    "executionInfo": {
     "elapsed": 308,
     "status": "ok",
     "timestamp": 1665897290434,
     "user": {
      "displayName": "Derek Hu",
      "userId": "14137525769356790466"
     },
     "user_tz": 420
    },
    "id": "13368230-75db-44fc-bcd9-b3190a913715",
    "outputId": "8c28cbae-f077-4fec-8f9b-0aca51e6a8a2"
   },
   "outputs": [
    {
     "data": {
      "text/plain": [
       "1    153114\n",
       "2     59964\n",
       "3     28826\n",
       "4      4309\n",
       "Name: hrswrk_count, dtype: int64"
      ]
     },
<<<<<<< HEAD
     "execution_count": 43,
=======
     "execution_count": 822,
>>>>>>> fa68eca7d5bf1cb8f04a3b58cc0b694bf3308239
     "metadata": {},
     "output_type": "execute_result"
    }
   ],
   "source": [
    "data['hrswrk_count'].value_counts()"
   ]
  },
  {
   "cell_type": "markdown",
   "id": "acf6d324-494e-46f4-885e-e761e269918c",
   "metadata": {
    "id": "acf6d324-494e-46f4-885e-e761e269918c"
   },
   "source": [
    "***HOURSWRK (Categorical)***"
   ]
  },
  {
   "cell_type": "code",
<<<<<<< HEAD
   "execution_count": 44,
=======
   "execution_count": null,
>>>>>>> fa68eca7d5bf1cb8f04a3b58cc0b694bf3308239
   "id": "0eee1073-179b-4d86-aa15-8cf3cacc146c",
   "metadata": {
    "id": "0eee1073-179b-4d86-aa15-8cf3cacc146c"
   },
   "outputs": [],
   "source": [
    "data['hrswrk'] = data.loc[:, 'hrswrk_count']"
   ]
  },
  {
   "cell_type": "code",
<<<<<<< HEAD
   "execution_count": 45,
=======
   "execution_count": null,
>>>>>>> fa68eca7d5bf1cb8f04a3b58cc0b694bf3308239
   "id": "5c136cc8-4801-4070-a709-baf932ea2b9d",
   "metadata": {
    "id": "5c136cc8-4801-4070-a709-baf932ea2b9d"
   },
   "outputs": [],
   "source": [
    "data['hrswrk'].replace(to_replace=1,\n",
    "           value=\"HoursWrk_0-30\", inplace=True)"
   ]
  },
  {
   "cell_type": "code",
<<<<<<< HEAD
   "execution_count": 46,
=======
   "execution_count": null,
>>>>>>> fa68eca7d5bf1cb8f04a3b58cc0b694bf3308239
   "id": "1251a843-5da9-4ac5-a29c-25fe098a4433",
   "metadata": {
    "id": "1251a843-5da9-4ac5-a29c-25fe098a4433"
   },
   "outputs": [],
   "source": [
    "data['hrswrk'].replace(to_replace=2,\n",
    "           value=\"HoursWrk_30-40\", inplace=True)"
   ]
  },
  {
   "cell_type": "code",
<<<<<<< HEAD
   "execution_count": 47,
=======
   "execution_count": null,
>>>>>>> fa68eca7d5bf1cb8f04a3b58cc0b694bf3308239
   "id": "782f85e9-2424-42d1-abce-cf8c92636eaa",
   "metadata": {
    "id": "782f85e9-2424-42d1-abce-cf8c92636eaa"
   },
   "outputs": [],
   "source": [
    "data['hrswrk'].replace(to_replace=3,\n",
    "           value=\"HoursWrk_40-60\", inplace=True)"
   ]
  },
  {
   "cell_type": "code",
<<<<<<< HEAD
   "execution_count": 48,
=======
   "execution_count": null,
>>>>>>> fa68eca7d5bf1cb8f04a3b58cc0b694bf3308239
   "id": "742bec74-cbf4-4c16-9648-18f9c6a1acd8",
   "metadata": {
    "id": "742bec74-cbf4-4c16-9648-18f9c6a1acd8"
   },
   "outputs": [],
   "source": [
    "data['hrswrk'].replace(to_replace=4,\n",
    "           value=\"HoursWrk_60+\", inplace=True)"
   ]
  },
  {
   "cell_type": "code",
<<<<<<< HEAD
   "execution_count": 49,
=======
   "execution_count": null,
>>>>>>> fa68eca7d5bf1cb8f04a3b58cc0b694bf3308239
   "id": "fdd266d0-3da3-4eaa-8e8a-71632c77c008",
   "metadata": {
    "colab": {
     "base_uri": "https://localhost:8080/"
    },
    "executionInfo": {
     "elapsed": 298,
     "status": "ok",
     "timestamp": 1665897290436,
     "user": {
      "displayName": "Derek Hu",
      "userId": "14137525769356790466"
     },
     "user_tz": 420
    },
    "id": "fdd266d0-3da3-4eaa-8e8a-71632c77c008",
    "outputId": "05f44463-07f7-4e21-d9e7-f9550bcb5246"
   },
   "outputs": [
    {
     "data": {
      "text/plain": [
       "HoursWrk_0-30     153114\n",
       "HoursWrk_30-40     59964\n",
       "HoursWrk_40-60     28826\n",
       "HoursWrk_60+        4309\n",
       "Name: hrswrk, dtype: int64"
      ]
     },
<<<<<<< HEAD
     "execution_count": 49,
=======
     "execution_count": 828,
>>>>>>> fa68eca7d5bf1cb8f04a3b58cc0b694bf3308239
     "metadata": {},
     "output_type": "execute_result"
    }
   ],
   "source": [
    "data['hrswrk'].value_counts()"
   ]
  },
  {
   "cell_type": "markdown",
   "id": "a0be5b74-dec8-422d-bc5b-9d0eb81dce7f",
   "metadata": {
    "id": "a0be5b74-dec8-422d-bc5b-9d0eb81dce7f"
   },
   "source": [
    "***HEALTH***"
   ]
  },
  {
   "cell_type": "code",
<<<<<<< HEAD
   "execution_count": 50,
=======
   "execution_count": null,
>>>>>>> fa68eca7d5bf1cb8f04a3b58cc0b694bf3308239
   "id": "689zbdHIPdKt",
   "metadata": {
    "id": "689zbdHIPdKt"
   },
   "outputs": [],
   "source": [
    "#This is of course debatable. This asks people how healthy they feel. It's plausable that those who are in poor health believe they are healthy.\n",
    "#Everyone has different standards towards health. Many can feel healthy but suffer from unknown conditions as well\n",
    "#Overall, I expect for people in poor health to have higher rates of cancer"
   ]
  },
  {
   "cell_type": "code",
<<<<<<< HEAD
   "execution_count": 51,
=======
   "execution_count": null,
>>>>>>> fa68eca7d5bf1cb8f04a3b58cc0b694bf3308239
   "id": "93ca0c95-84d6-48f3-a162-3c8423a37db5",
   "metadata": {
    "id": "93ca0c95-84d6-48f3-a162-3c8423a37db5"
   },
   "outputs": [],
   "source": [
    "#1 - Excellent\n",
    "#2 - Very Good\n",
    "#3 - Good\n",
    "#4 - Fair\n",
    "#5 - Poor\n",
    "#7 - Unknown-refused\n",
    "#8 - Unknown-not ascertained\n",
    "#9 - Unknown-don't know"
   ]
  },
  {
   "cell_type": "code",
<<<<<<< HEAD
   "execution_count": 52,
=======
   "execution_count": null,
>>>>>>> fa68eca7d5bf1cb8f04a3b58cc0b694bf3308239
   "id": "e0cfe03b-babe-4e1d-8b11-57d4d412a410",
   "metadata": {
    "colab": {
     "base_uri": "https://localhost:8080/"
    },
    "executionInfo": {
     "elapsed": 288,
     "status": "ok",
     "timestamp": 1665897290436,
     "user": {
      "displayName": "Derek Hu",
      "userId": "14137525769356790466"
     },
     "user_tz": 420
    },
    "id": "e0cfe03b-babe-4e1d-8b11-57d4d412a410",
    "outputId": "62fbaa9c-e930-4df3-a1c8-a5b61b38a232"
   },
   "outputs": [
    {
     "data": {
      "text/plain": [
       "1    85284\n",
       "2    77013\n",
       "3    58498\n",
       "4    19468\n",
       "5     5713\n",
       "7      152\n",
       "9       84\n",
       "8        1\n",
       "Name: HEALTH, dtype: int64"
      ]
     },
<<<<<<< HEAD
     "execution_count": 52,
=======
     "execution_count": 831,
>>>>>>> fa68eca7d5bf1cb8f04a3b58cc0b694bf3308239
     "metadata": {},
     "output_type": "execute_result"
    }
   ],
   "source": [
    "data['HEALTH'].value_counts()"
   ]
  },
  {
   "cell_type": "code",
<<<<<<< HEAD
   "execution_count": 53,
=======
   "execution_count": null,
>>>>>>> fa68eca7d5bf1cb8f04a3b58cc0b694bf3308239
   "id": "e57d0f54-bd03-49db-a230-5c675f2fab21",
   "metadata": {
    "id": "e57d0f54-bd03-49db-a230-5c675f2fab21"
   },
   "outputs": [],
   "source": [
    "data = data[data.HEALTH != 0]"
   ]
  },
  {
   "cell_type": "code",
<<<<<<< HEAD
   "execution_count": 54,
=======
   "execution_count": null,
>>>>>>> fa68eca7d5bf1cb8f04a3b58cc0b694bf3308239
   "id": "001a8512-00f9-42c0-811d-2d194a3851e7",
   "metadata": {
    "id": "001a8512-00f9-42c0-811d-2d194a3851e7"
   },
   "outputs": [],
   "source": [
    "data = data[data.HEALTH != 7]"
   ]
  },
  {
   "cell_type": "code",
<<<<<<< HEAD
   "execution_count": 55,
=======
   "execution_count": null,
>>>>>>> fa68eca7d5bf1cb8f04a3b58cc0b694bf3308239
   "id": "b2f463c4-1385-457b-b21e-5098410c8b85",
   "metadata": {
    "id": "b2f463c4-1385-457b-b21e-5098410c8b85"
   },
   "outputs": [],
   "source": [
    "data = data[data.HEALTH != 9]"
   ]
  },
  {
   "cell_type": "markdown",
   "id": "2a372d96-f2f7-433d-bebf-f9a69618ae90",
   "metadata": {
    "id": "2a372d96-f2f7-433d-bebf-f9a69618ae90"
   },
   "source": [
    "***HEALTH (Numerical)***"
   ]
  },
  {
   "cell_type": "code",
<<<<<<< HEAD
   "execution_count": 56,
=======
   "execution_count": null,
>>>>>>> fa68eca7d5bf1cb8f04a3b58cc0b694bf3308239
   "id": "78ebdd5d-0e7c-461d-824a-a6db6fa56735",
   "metadata": {
    "colab": {
     "base_uri": "https://localhost:8080/"
    },
    "executionInfo": {
     "elapsed": 278,
     "status": "ok",
     "timestamp": 1665897290437,
     "user": {
      "displayName": "Derek Hu",
      "userId": "14137525769356790466"
     },
     "user_tz": 420
    },
    "id": "78ebdd5d-0e7c-461d-824a-a6db6fa56735",
    "outputId": "5e3c3fd5-4359-488b-c983-7735e3bc945c"
   },
<<<<<<< HEAD
   "outputs": [],
=======
   "outputs": [
    {
     "name": "stderr",
     "output_type": "stream",
     "text": [
      "/usr/local/lib/python3.7/dist-packages/ipykernel_launcher.py:1: SettingWithCopyWarning: \n",
      "A value is trying to be set on a copy of a slice from a DataFrame.\n",
      "Try using .loc[row_indexer,col_indexer] = value instead\n",
      "\n",
      "See the caveats in the documentation: https://pandas.pydata.org/pandas-docs/stable/user_guide/indexing.html#returning-a-view-versus-a-copy\n",
      "  \"\"\"Entry point for launching an IPython kernel.\n"
     ]
    }
   ],
>>>>>>> fa68eca7d5bf1cb8f04a3b58cc0b694bf3308239
   "source": [
    "data['health_count'] = data.loc[:, 'HEALTH']"
   ]
  },
  {
   "cell_type": "code",
<<<<<<< HEAD
   "execution_count": 57,
=======
   "execution_count": null,
>>>>>>> fa68eca7d5bf1cb8f04a3b58cc0b694bf3308239
   "id": "dd2851cd-848c-48ae-bdb0-d47dcc8669e7",
   "metadata": {
    "colab": {
     "base_uri": "https://localhost:8080/"
    },
    "executionInfo": {
     "elapsed": 269,
     "status": "ok",
     "timestamp": 1665897290438,
     "user": {
      "displayName": "Derek Hu",
      "userId": "14137525769356790466"
     },
     "user_tz": 420
    },
    "id": "dd2851cd-848c-48ae-bdb0-d47dcc8669e7",
    "outputId": "b235d078-7d52-4b8f-a25e-670a787a4a07"
   },
   "outputs": [
    {
     "data": {
      "text/plain": [
       "1    85284\n",
       "2    77013\n",
       "3    58498\n",
       "4    19468\n",
       "5     5713\n",
       "8        1\n",
       "Name: health_count, dtype: int64"
      ]
     },
<<<<<<< HEAD
     "execution_count": 57,
=======
     "execution_count": 836,
>>>>>>> fa68eca7d5bf1cb8f04a3b58cc0b694bf3308239
     "metadata": {},
     "output_type": "execute_result"
    }
   ],
   "source": [
    "data['health_count'].value_counts()"
   ]
  },
  {
   "cell_type": "code",
<<<<<<< HEAD
   "execution_count": 58,
=======
   "execution_count": null,
>>>>>>> fa68eca7d5bf1cb8f04a3b58cc0b694bf3308239
   "id": "fc50552f-6a57-4cad-ae69-9539f930df51",
   "metadata": {
    "colab": {
     "base_uri": "https://localhost:8080/"
    },
    "executionInfo": {
     "elapsed": 259,
     "status": "ok",
     "timestamp": 1665897290438,
     "user": {
      "displayName": "Derek Hu",
      "userId": "14137525769356790466"
     },
     "user_tz": 420
    },
    "id": "fc50552f-6a57-4cad-ae69-9539f930df51",
    "outputId": "373f63e0-5761-456e-928e-d631daf4adb2"
   },
   "outputs": [
    {
     "data": {
      "text/plain": [
       "1    85284\n",
       "2    77013\n",
       "3    58498\n",
       "4    19468\n",
       "5     5713\n",
       "8        1\n",
       "Name: health_count, dtype: int64"
      ]
     },
<<<<<<< HEAD
     "execution_count": 58,
=======
     "execution_count": 837,
>>>>>>> fa68eca7d5bf1cb8f04a3b58cc0b694bf3308239
     "metadata": {},
     "output_type": "execute_result"
    }
   ],
   "source": [
    "data['health_count'].value_counts()"
   ]
  },
  {
   "cell_type": "markdown",
   "id": "5ab3d810-36bf-49d5-be7b-7f1446b8c87d",
   "metadata": {
    "id": "5ab3d810-36bf-49d5-be7b-7f1446b8c87d"
   },
   "source": [
    "***Health - Categorical***"
   ]
  },
  {
   "cell_type": "code",
<<<<<<< HEAD
   "execution_count": 59,
=======
   "execution_count": null,
>>>>>>> fa68eca7d5bf1cb8f04a3b58cc0b694bf3308239
   "id": "11beb70c-c5e5-46d5-b78e-1e6556f9dae6",
   "metadata": {
    "colab": {
     "base_uri": "https://localhost:8080/"
    },
    "executionInfo": {
     "elapsed": 249,
     "status": "ok",
     "timestamp": 1665897290438,
     "user": {
      "displayName": "Derek Hu",
      "userId": "14137525769356790466"
     },
     "user_tz": 420
    },
    "id": "11beb70c-c5e5-46d5-b78e-1e6556f9dae6",
    "outputId": "4cabe47e-9162-4e1c-fed2-84a6e84b0b7b"
   },
<<<<<<< HEAD
   "outputs": [],
=======
   "outputs": [
    {
     "name": "stderr",
     "output_type": "stream",
     "text": [
      "/usr/local/lib/python3.7/dist-packages/ipykernel_launcher.py:1: SettingWithCopyWarning: \n",
      "A value is trying to be set on a copy of a slice from a DataFrame.\n",
      "Try using .loc[row_indexer,col_indexer] = value instead\n",
      "\n",
      "See the caveats in the documentation: https://pandas.pydata.org/pandas-docs/stable/user_guide/indexing.html#returning-a-view-versus-a-copy\n",
      "  \"\"\"Entry point for launching an IPython kernel.\n"
     ]
    }
   ],
>>>>>>> fa68eca7d5bf1cb8f04a3b58cc0b694bf3308239
   "source": [
    "data['health'] = data.loc[:, 'health_count']"
   ]
  },
  {
   "cell_type": "code",
<<<<<<< HEAD
   "execution_count": 60,
=======
   "execution_count": null,
>>>>>>> fa68eca7d5bf1cb8f04a3b58cc0b694bf3308239
   "id": "71621395-8248-49b6-93dc-dd42d97f7d2f",
   "metadata": {
    "colab": {
     "base_uri": "https://localhost:8080/"
    },
    "executionInfo": {
     "elapsed": 234,
     "status": "ok",
     "timestamp": 1665897290438,
     "user": {
      "displayName": "Derek Hu",
      "userId": "14137525769356790466"
     },
     "user_tz": 420
    },
    "id": "71621395-8248-49b6-93dc-dd42d97f7d2f",
    "outputId": "be92d69c-164e-4d3b-fa7d-e4ed72e063c8"
   },
<<<<<<< HEAD
   "outputs": [],
=======
   "outputs": [
    {
     "name": "stderr",
     "output_type": "stream",
     "text": [
      "/usr/local/lib/python3.7/dist-packages/pandas/core/generic.py:6619: SettingWithCopyWarning: \n",
      "A value is trying to be set on a copy of a slice from a DataFrame\n",
      "\n",
      "See the caveats in the documentation: https://pandas.pydata.org/pandas-docs/stable/user_guide/indexing.html#returning-a-view-versus-a-copy\n",
      "  return self._update_inplace(result)\n"
     ]
    }
   ],
>>>>>>> fa68eca7d5bf1cb8f04a3b58cc0b694bf3308239
   "source": [
    "#Health into dummy variables\n",
    "data['health'].replace(to_replace=1,\n",
    "           value=\"Excellent_Health\", inplace=True)"
   ]
  },
  {
   "cell_type": "code",
<<<<<<< HEAD
   "execution_count": 61,
=======
   "execution_count": null,
>>>>>>> fa68eca7d5bf1cb8f04a3b58cc0b694bf3308239
   "id": "5a1f36aa-9a4d-4938-906f-be786d484a36",
   "metadata": {
    "id": "5a1f36aa-9a4d-4938-906f-be786d484a36"
   },
   "outputs": [],
   "source": [
    "data['health'].replace(to_replace=2,\n",
    "           value=\"Very_Good_Health\", inplace=True)"
   ]
  },
  {
   "cell_type": "code",
<<<<<<< HEAD
   "execution_count": 62,
=======
   "execution_count": null,
>>>>>>> fa68eca7d5bf1cb8f04a3b58cc0b694bf3308239
   "id": "bbbe8eb6-01c8-4098-bed9-0e78ce58bb0e",
   "metadata": {
    "id": "bbbe8eb6-01c8-4098-bed9-0e78ce58bb0e"
   },
   "outputs": [],
   "source": [
    "data['health'].replace(to_replace=3,\n",
    "           value=\"Good_Health\", inplace=True)"
   ]
  },
  {
   "cell_type": "code",
<<<<<<< HEAD
   "execution_count": 63,
=======
   "execution_count": null,
>>>>>>> fa68eca7d5bf1cb8f04a3b58cc0b694bf3308239
   "id": "a98ab192-c2e4-42ee-ada4-82d542fd7291",
   "metadata": {
    "id": "a98ab192-c2e4-42ee-ada4-82d542fd7291"
   },
   "outputs": [],
   "source": [
    "data['health'].replace(to_replace=4,\n",
    "           value=\"Fair\", inplace=True)"
   ]
  },
  {
   "cell_type": "code",
<<<<<<< HEAD
   "execution_count": 64,
=======
   "execution_count": null,
>>>>>>> fa68eca7d5bf1cb8f04a3b58cc0b694bf3308239
   "id": "69a07445-89ed-4852-8321-4b8edae29cfc",
   "metadata": {
    "id": "69a07445-89ed-4852-8321-4b8edae29cfc"
   },
   "outputs": [],
   "source": [
    "data['health'].replace(to_replace=5,\n",
    "           value=\"Poor_Health\", inplace=True)"
   ]
  },
  {
   "cell_type": "code",
<<<<<<< HEAD
   "execution_count": 65,
=======
   "execution_count": null,
>>>>>>> fa68eca7d5bf1cb8f04a3b58cc0b694bf3308239
   "id": "38841c29-e842-4adb-8bc9-ada9174c0c73",
   "metadata": {
    "colab": {
     "base_uri": "https://localhost:8080/"
    },
    "executionInfo": {
     "elapsed": 225,
     "status": "ok",
     "timestamp": 1665897290440,
     "user": {
      "displayName": "Derek Hu",
      "userId": "14137525769356790466"
     },
     "user_tz": 420
    },
    "id": "38841c29-e842-4adb-8bc9-ada9174c0c73",
    "outputId": "fa967804-9da8-4ae6-fba4-d89e06499e67"
   },
   "outputs": [
    {
     "data": {
      "text/plain": [
       "Excellent_Health    85284\n",
       "Very_Good_Health    77013\n",
       "Good_Health         58498\n",
       "Fair                19468\n",
       "Poor_Health          5713\n",
       "8                       1\n",
       "Name: health, dtype: int64"
      ]
     },
<<<<<<< HEAD
     "execution_count": 65,
=======
     "execution_count": 844,
>>>>>>> fa68eca7d5bf1cb8f04a3b58cc0b694bf3308239
     "metadata": {},
     "output_type": "execute_result"
    }
   ],
   "source": [
    "data['health'].value_counts()"
   ]
  },
  {
   "cell_type": "markdown",
   "id": "b607f773-44b6-4477-97e2-bb76f3ae1ae8",
   "metadata": {
    "id": "b607f773-44b6-4477-97e2-bb76f3ae1ae8"
   },
   "source": [
    "***INCFAM07ON***"
   ]
  },
  {
   "cell_type": "code",
<<<<<<< HEAD
   "execution_count": 66,
=======
   "execution_count": null,
>>>>>>> fa68eca7d5bf1cb8f04a3b58cc0b694bf3308239
   "id": "44fec99e-d833-4acf-9b0c-082d469d2c30",
   "metadata": {
    "colab": {
     "base_uri": "https://localhost:8080/"
    },
    "executionInfo": {
     "elapsed": 212,
     "status": "ok",
     "timestamp": 1665897290440,
     "user": {
      "displayName": "Derek Hu",
      "userId": "14137525769356790466"
     },
     "user_tz": 420
    },
    "id": "44fec99e-d833-4acf-9b0c-082d469d2c30",
    "outputId": "f5fa8cba-4ae3-494f-8c30-eb9fd1b8bb6f"
   },
   "outputs": [
    {
     "data": {
      "text/plain": [
       "24    67045\n",
       "11    58042\n",
       "22    36760\n",
       "23    28329\n",
       "12    23758\n",
       "99    14250\n",
       "96    11461\n",
       "10     4194\n",
       "21     2138\n",
       "Name: INCFAM07ON, dtype: int64"
      ]
     },
<<<<<<< HEAD
     "execution_count": 66,
=======
     "execution_count": 845,
>>>>>>> fa68eca7d5bf1cb8f04a3b58cc0b694bf3308239
     "metadata": {},
     "output_type": "execute_result"
    }
   ],
   "source": [
    "#11 - 0 to 35k, 12 - 35k-50k, 22 = 50k to 75k, 23 - 75k to 100k, 24 - 100k and up\n",
    "#This represents a person's income. \n",
    "\n",
    "#https://www.ncbi.nlm.nih.gov/pmc/articles/PMC6318397/#:~:text=By%20contrast%2C%20those%20of%20lung,of%20certain%20forms%20of%20cancer.\n",
    "#Lower income is linked to unhealthy food, poorer healthcare, less cancer screening, and more cancer rates\n",
    "#Lower income can indicate higher alcohol and smoking usage\n",
    "#Income is a significant indicator of cancer\n",
    "data['INCFAM07ON'].value_counts()"
   ]
  },
  {
   "cell_type": "code",
<<<<<<< HEAD
   "execution_count": 67,
=======
   "execution_count": null,
>>>>>>> fa68eca7d5bf1cb8f04a3b58cc0b694bf3308239
   "id": "c754a038-c3bf-49d8-a380-eaf66c4d02fa",
   "metadata": {
    "id": "c754a038-c3bf-49d8-a380-eaf66c4d02fa"
   },
   "outputs": [],
   "source": [
    "data = data[data.INCFAM07ON != 21]"
   ]
  },
  {
   "cell_type": "code",
<<<<<<< HEAD
   "execution_count": 68,
=======
   "execution_count": null,
>>>>>>> fa68eca7d5bf1cb8f04a3b58cc0b694bf3308239
   "id": "6e25c568-9db3-426a-9897-8112c571fd7b",
   "metadata": {
    "id": "6e25c568-9db3-426a-9897-8112c571fd7b"
   },
   "outputs": [],
   "source": [
    "data = data[data.INCFAM07ON != 10]"
   ]
  },
  {
   "cell_type": "code",
<<<<<<< HEAD
   "execution_count": 69,
=======
   "execution_count": null,
>>>>>>> fa68eca7d5bf1cb8f04a3b58cc0b694bf3308239
   "id": "aa42955f-9833-4a70-9188-3ecdaf54cecf",
   "metadata": {
    "id": "aa42955f-9833-4a70-9188-3ecdaf54cecf"
   },
   "outputs": [],
   "source": [
    "data = data[data.INCFAM07ON != 96]"
   ]
  },
  {
   "cell_type": "code",
<<<<<<< HEAD
   "execution_count": 70,
=======
   "execution_count": null,
>>>>>>> fa68eca7d5bf1cb8f04a3b58cc0b694bf3308239
   "id": "77864d25-18cc-41bf-ab23-9da322f0e7f3",
   "metadata": {
    "id": "77864d25-18cc-41bf-ab23-9da322f0e7f3"
   },
   "outputs": [],
   "source": [
    "data = data[data.INCFAM07ON != 99]"
   ]
  },
  {
   "cell_type": "code",
<<<<<<< HEAD
   "execution_count": 71,
=======
   "execution_count": null,
>>>>>>> fa68eca7d5bf1cb8f04a3b58cc0b694bf3308239
   "id": "4b443389-8337-4b8a-b62d-a5548f1aafdd",
   "metadata": {
    "colab": {
     "base_uri": "https://localhost:8080/"
    },
    "executionInfo": {
     "elapsed": 199,
     "status": "ok",
     "timestamp": 1665897290441,
     "user": {
      "displayName": "Derek Hu",
      "userId": "14137525769356790466"
     },
     "user_tz": 420
    },
    "id": "4b443389-8337-4b8a-b62d-a5548f1aafdd",
    "outputId": "6c605894-7b21-410f-9217-8a180ce18efc"
   },
   "outputs": [
    {
     "data": {
      "text/plain": [
       "0         11\n",
       "1         11\n",
       "2         22\n",
       "3         11\n",
       "6         12\n",
       "          ..\n",
       "248087    11\n",
       "248088    11\n",
       "248089    24\n",
       "248090    24\n",
       "248091    11\n",
<<<<<<< HEAD
       "Name: INCFAM07ON, Length: 213934, dtype: int32"
      ]
     },
     "execution_count": 71,
=======
       "Name: INCFAM07ON, Length: 213934, dtype: int64"
      ]
     },
     "execution_count": 850,
>>>>>>> fa68eca7d5bf1cb8f04a3b58cc0b694bf3308239
     "metadata": {},
     "output_type": "execute_result"
    }
   ],
   "source": [
    "data['INCFAM07ON'].astype(int)"
   ]
  },
  {
   "cell_type": "markdown",
   "id": "9d6684ad-62ff-446f-8b84-ac0ad0d7b071",
   "metadata": {
    "id": "9d6684ad-62ff-446f-8b84-ac0ad0d7b071"
   },
   "source": [
    "***INCFAM07ON (Categorical)***"
   ]
  },
  {
   "cell_type": "code",
<<<<<<< HEAD
   "execution_count": 72,
=======
   "execution_count": null,
>>>>>>> fa68eca7d5bf1cb8f04a3b58cc0b694bf3308239
   "id": "60c89a23-aab6-4367-9505-ee3ef2014454",
   "metadata": {
    "id": "60c89a23-aab6-4367-9505-ee3ef2014454"
   },
   "outputs": [],
   "source": [
    "data['income'] = data.loc[:, 'INCFAM07ON']"
   ]
  },
  {
   "cell_type": "code",
<<<<<<< HEAD
   "execution_count": 73,
=======
   "execution_count": null,
>>>>>>> fa68eca7d5bf1cb8f04a3b58cc0b694bf3308239
   "id": "06dcd46c-de63-4e0f-8d40-44e2ca926d14",
   "metadata": {
    "id": "06dcd46c-de63-4e0f-8d40-44e2ca926d14"
   },
   "outputs": [],
   "source": [
    "data['income'].replace(to_replace=11,\n",
    "           value=\"Low-Income\", inplace=True)"
   ]
  },
  {
   "cell_type": "code",
<<<<<<< HEAD
   "execution_count": 74,
=======
   "execution_count": null,
>>>>>>> fa68eca7d5bf1cb8f04a3b58cc0b694bf3308239
   "id": "3e16d3c5-bf67-4aaa-8991-f35d08a762b3",
   "metadata": {
    "id": "3e16d3c5-bf67-4aaa-8991-f35d08a762b3"
   },
   "outputs": [],
   "source": [
    "data['income'].replace(to_replace=12,\n",
    "           value=\"Lower-Middle-Income\", inplace=True)"
   ]
  },
  {
   "cell_type": "code",
<<<<<<< HEAD
   "execution_count": 75,
=======
   "execution_count": null,
>>>>>>> fa68eca7d5bf1cb8f04a3b58cc0b694bf3308239
   "id": "a57b8fe3-1d8b-44c0-a168-5d03badd1a65",
   "metadata": {
    "id": "a57b8fe3-1d8b-44c0-a168-5d03badd1a65"
   },
   "outputs": [],
   "source": [
    "data['income'].replace(to_replace=22,\n",
    "           value=\"Middle-Income\", inplace=True)"
   ]
  },
  {
   "cell_type": "code",
<<<<<<< HEAD
   "execution_count": 76,
=======
   "execution_count": null,
>>>>>>> fa68eca7d5bf1cb8f04a3b58cc0b694bf3308239
   "id": "f4b7304e-1ed6-4ebf-a478-fb8b974d41cb",
   "metadata": {
    "id": "f4b7304e-1ed6-4ebf-a478-fb8b974d41cb"
   },
   "outputs": [],
   "source": [
    "data['income'].replace(to_replace=23,\n",
    "           value=\"High-Income\", inplace=True)"
   ]
  },
  {
   "cell_type": "code",
<<<<<<< HEAD
   "execution_count": 77,
=======
   "execution_count": null,
>>>>>>> fa68eca7d5bf1cb8f04a3b58cc0b694bf3308239
   "id": "b60dfd03-87f4-4b5a-90a9-ae92a68d31a9",
   "metadata": {
    "id": "b60dfd03-87f4-4b5a-90a9-ae92a68d31a9"
   },
   "outputs": [],
   "source": [
    "data['income'].replace(to_replace=24,\n",
    "           value=\"Very-High-Income\", inplace=True)"
   ]
  },
  {
   "cell_type": "code",
<<<<<<< HEAD
   "execution_count": 78,
=======
   "execution_count": null,
>>>>>>> fa68eca7d5bf1cb8f04a3b58cc0b694bf3308239
   "id": "f12abc66-8c08-4d3b-a71c-5685bf584769",
   "metadata": {
    "colab": {
     "base_uri": "https://localhost:8080/"
    },
    "executionInfo": {
     "elapsed": 192,
     "status": "ok",
     "timestamp": 1665897290448,
     "user": {
      "displayName": "Derek Hu",
      "userId": "14137525769356790466"
     },
     "user_tz": 420
    },
    "id": "f12abc66-8c08-4d3b-a71c-5685bf584769",
    "outputId": "e55fa4b1-4a70-41a3-b0e0-5aef5ac40982"
   },
   "outputs": [
    {
     "data": {
      "text/plain": [
       "Very-High-Income       67045\n",
       "Low-Income             58042\n",
       "Middle-Income          36760\n",
       "High-Income            28329\n",
       "Lower-Middle-Income    23758\n",
       "Name: income, dtype: int64"
      ]
     },
<<<<<<< HEAD
     "execution_count": 78,
=======
     "execution_count": 857,
>>>>>>> fa68eca7d5bf1cb8f04a3b58cc0b694bf3308239
     "metadata": {},
     "output_type": "execute_result"
    }
   ],
   "source": [
    "data['income'].value_counts()"
   ]
  },
  {
   "cell_type": "markdown",
   "id": "3f9988ba-bf77-465d-beda-d8b296ab7377",
   "metadata": {
    "id": "3f9988ba-bf77-465d-beda-d8b296ab7377"
   },
   "source": [
    "***INCFAM07ON (Numerical)***"
   ]
  },
  {
   "cell_type": "code",
<<<<<<< HEAD
   "execution_count": 79,
=======
   "execution_count": null,
>>>>>>> fa68eca7d5bf1cb8f04a3b58cc0b694bf3308239
   "id": "11034c06-6c41-403c-a353-5b49b60c88e6",
   "metadata": {
    "id": "11034c06-6c41-403c-a353-5b49b60c88e6"
   },
   "outputs": [],
   "source": [
    "data['income_count'] = data.loc[:, 'income']"
   ]
  },
  {
   "cell_type": "code",
<<<<<<< HEAD
   "execution_count": 80,
=======
   "execution_count": null,
>>>>>>> fa68eca7d5bf1cb8f04a3b58cc0b694bf3308239
   "id": "d2365b9e-da4e-47f8-af8f-0ebe523321ac",
   "metadata": {
    "id": "d2365b9e-da4e-47f8-af8f-0ebe523321ac"
   },
   "outputs": [],
   "source": [
    "data['income_count'].replace(to_replace='Low-Income',\n",
    "           value=1, inplace=True)"
   ]
  },
  {
   "cell_type": "code",
<<<<<<< HEAD
   "execution_count": 81,
=======
   "execution_count": null,
>>>>>>> fa68eca7d5bf1cb8f04a3b58cc0b694bf3308239
   "id": "db6634c3-2653-4f8f-99a6-df0f93c3d2dd",
   "metadata": {
    "id": "db6634c3-2653-4f8f-99a6-df0f93c3d2dd"
   },
   "outputs": [],
   "source": [
    "data['income_count'].replace(to_replace='Lower-Middle-Income',\n",
    "           value=2, inplace=True)"
   ]
  },
  {
   "cell_type": "code",
<<<<<<< HEAD
   "execution_count": 82,
=======
   "execution_count": null,
>>>>>>> fa68eca7d5bf1cb8f04a3b58cc0b694bf3308239
   "id": "c2c8510c-2f44-4037-9e7a-a068195ec532",
   "metadata": {
    "id": "c2c8510c-2f44-4037-9e7a-a068195ec532"
   },
   "outputs": [],
   "source": [
    "data['income_count'].replace(to_replace='Middle-Income',\n",
    "           value=3, inplace=True)"
   ]
  },
  {
   "cell_type": "code",
<<<<<<< HEAD
   "execution_count": 83,
=======
   "execution_count": null,
>>>>>>> fa68eca7d5bf1cb8f04a3b58cc0b694bf3308239
   "id": "e4b81d40-81de-4b15-915f-15f6d59e37e1",
   "metadata": {
    "id": "e4b81d40-81de-4b15-915f-15f6d59e37e1"
   },
   "outputs": [],
   "source": [
    "data['income_count'].replace(to_replace='High-Income',\n",
    "           value=4, inplace=True)"
   ]
  },
  {
   "cell_type": "code",
<<<<<<< HEAD
   "execution_count": 84,
=======
   "execution_count": null,
>>>>>>> fa68eca7d5bf1cb8f04a3b58cc0b694bf3308239
   "id": "8819c01f-89c9-4d1e-8330-df262b4ac665",
   "metadata": {
    "id": "8819c01f-89c9-4d1e-8330-df262b4ac665"
   },
   "outputs": [],
   "source": [
    "data['income_count'].replace(to_replace='Very-High-Income',\n",
    "           value=5, inplace=True)"
   ]
  },
  {
   "cell_type": "code",
<<<<<<< HEAD
   "execution_count": 85,
=======
   "execution_count": null,
>>>>>>> fa68eca7d5bf1cb8f04a3b58cc0b694bf3308239
   "id": "5dfa6af2-e2b8-480e-947e-1808546ebb62",
   "metadata": {
    "colab": {
     "base_uri": "https://localhost:8080/"
    },
    "executionInfo": {
     "elapsed": 179,
     "status": "ok",
     "timestamp": 1665897290450,
     "user": {
      "displayName": "Derek Hu",
      "userId": "14137525769356790466"
     },
     "user_tz": 420
    },
    "id": "5dfa6af2-e2b8-480e-947e-1808546ebb62",
    "outputId": "e01f6200-44f0-4485-a8bc-f697e9101e92"
   },
   "outputs": [
    {
     "data": {
      "text/plain": [
       "5    67045\n",
       "1    58042\n",
       "3    36760\n",
       "4    28329\n",
       "2    23758\n",
       "Name: income_count, dtype: int64"
      ]
     },
<<<<<<< HEAD
     "execution_count": 85,
=======
     "execution_count": 864,
>>>>>>> fa68eca7d5bf1cb8f04a3b58cc0b694bf3308239
     "metadata": {},
     "output_type": "execute_result"
    }
   ],
   "source": [
    "data['income_count'].value_counts()"
   ]
  },
  {
   "cell_type": "markdown",
   "id": "948e5826-dc7a-4a73-af7d-de8c299d00a6",
   "metadata": {
    "id": "948e5826-dc7a-4a73-af7d-de8c299d00a6"
   },
   "source": [
    "***GOTSSIWHY - Categorical***"
   ]
  },
  {
   "cell_type": "code",
<<<<<<< HEAD
   "execution_count": 86,
=======
   "execution_count": null,
>>>>>>> fa68eca7d5bf1cb8f04a3b58cc0b694bf3308239
   "id": "1f1c52de-5ae7-434b-9c6d-96777d795989",
   "metadata": {
    "id": "1f1c52de-5ae7-434b-9c6d-96777d795989"
   },
   "outputs": [],
   "source": [
    "#0                   NIU\n",
    "#1                   No\n",
    "#2                   Yes\n",
    "#7                   Unknown-refused\n",
    "#8                   Unknown-not ascertained\n",
    "#9                   Unknown-don't know"
   ]
  },
  {
   "cell_type": "code",
<<<<<<< HEAD
   "execution_count": 87,
=======
   "execution_count": null,
>>>>>>> fa68eca7d5bf1cb8f04a3b58cc0b694bf3308239
   "id": "jNvy4YfwQL2N",
   "metadata": {
    "id": "jNvy4YfwQL2N"
   },
   "outputs": [],
   "source": [
    "#Whether a person is on SSI. Use of SSI usually correlates to higher age"
   ]
  },
  {
   "cell_type": "code",
<<<<<<< HEAD
   "execution_count": 88,
=======
   "execution_count": null,
>>>>>>> fa68eca7d5bf1cb8f04a3b58cc0b694bf3308239
   "id": "77a11a26-a0bc-4e91-b2c8-503dee730acc",
   "metadata": {
    "colab": {
     "base_uri": "https://localhost:8080/"
    },
    "executionInfo": {
     "elapsed": 167,
     "status": "ok",
     "timestamp": 1665897290451,
     "user": {
      "displayName": "Derek Hu",
      "userId": "14137525769356790466"
     },
     "user_tz": 420
    },
    "id": "77a11a26-a0bc-4e91-b2c8-503dee730acc",
    "outputId": "67914c88-b548-4d57-c6ab-a0a865af596f"
   },
   "outputs": [
    {
     "data": {
      "text/plain": [
       "0    208891\n",
       "2      4247\n",
       "1       774\n",
       "9        21\n",
       "7         1\n",
       "Name: GOTSSIWHY, dtype: int64"
      ]
     },
<<<<<<< HEAD
     "execution_count": 88,
=======
     "execution_count": 867,
>>>>>>> fa68eca7d5bf1cb8f04a3b58cc0b694bf3308239
     "metadata": {},
     "output_type": "execute_result"
    }
   ],
   "source": [
    "#0 - no, 2 - yes\n",
    "data['GOTSSIWHY'].value_counts()"
   ]
  },
  {
   "cell_type": "code",
<<<<<<< HEAD
   "execution_count": 89,
=======
   "execution_count": null,
>>>>>>> fa68eca7d5bf1cb8f04a3b58cc0b694bf3308239
   "id": "5ef58463-80d9-4dcb-87f1-c67342870033",
   "metadata": {
    "colab": {
     "base_uri": "https://localhost:8080/"
    },
    "executionInfo": {
     "elapsed": 158,
     "status": "ok",
     "timestamp": 1665897290452,
     "user": {
      "displayName": "Derek Hu",
      "userId": "14137525769356790466"
     },
     "user_tz": 420
    },
    "id": "5ef58463-80d9-4dcb-87f1-c67342870033",
    "outputId": "f4d3096c-9c29-43fd-c200-f3de1f5acae6"
   },
   "outputs": [
    {
     "data": {
      "text/plain": [
       "0    208891\n",
       "2      4247\n",
       "1       774\n",
       "9        21\n",
       "7         1\n",
       "Name: GOTSSIWHY, dtype: int64"
      ]
     },
<<<<<<< HEAD
     "execution_count": 89,
=======
     "execution_count": 868,
>>>>>>> fa68eca7d5bf1cb8f04a3b58cc0b694bf3308239
     "metadata": {},
     "output_type": "execute_result"
    }
   ],
   "source": [
    "data['GOTSSIWHY'].value_counts()"
   ]
  },
  {
   "cell_type": "code",
<<<<<<< HEAD
   "execution_count": 90,
=======
   "execution_count": null,
>>>>>>> fa68eca7d5bf1cb8f04a3b58cc0b694bf3308239
   "id": "1d7ef4bd-f347-4f69-8218-5cfaa91b84a5",
   "metadata": {
    "id": "1d7ef4bd-f347-4f69-8218-5cfaa91b84a5"
   },
   "outputs": [],
   "source": [
    "data['SSI'] = data.loc[:, 'GOTSSIWHY']"
   ]
  },
  {
   "cell_type": "code",
<<<<<<< HEAD
   "execution_count": 91,
=======
   "execution_count": null,
>>>>>>> fa68eca7d5bf1cb8f04a3b58cc0b694bf3308239
   "id": "ae3f14d9-effb-4288-a5a1-757c8f413327",
   "metadata": {
    "id": "ae3f14d9-effb-4288-a5a1-757c8f413327"
   },
   "outputs": [],
   "source": [
    "data['SSI'].replace(to_replace=[0, 1],\n",
    "           value=\"No_SSI\", inplace=True)"
   ]
  },
  {
   "cell_type": "code",
<<<<<<< HEAD
   "execution_count": 92,
=======
   "execution_count": null,
>>>>>>> fa68eca7d5bf1cb8f04a3b58cc0b694bf3308239
   "id": "a1777c4c-f7f9-451c-9d2a-d5c64b1ac232",
   "metadata": {
    "id": "a1777c4c-f7f9-451c-9d2a-d5c64b1ac232"
   },
   "outputs": [],
   "source": [
    "data['SSI'].replace(to_replace=2,\n",
    "           value=\"Yes_SSI\", inplace=True)"
   ]
  },
  {
   "cell_type": "code",
<<<<<<< HEAD
   "execution_count": 93,
=======
   "execution_count": null,
>>>>>>> fa68eca7d5bf1cb8f04a3b58cc0b694bf3308239
   "id": "02037721-b0e1-4043-88c0-91127836e3a6",
   "metadata": {
    "id": "02037721-b0e1-4043-88c0-91127836e3a6"
   },
   "outputs": [],
   "source": [
    "data = data[data['SSI'] != 7]"
   ]
  },
  {
   "cell_type": "code",
<<<<<<< HEAD
   "execution_count": 94,
=======
   "execution_count": null,
>>>>>>> fa68eca7d5bf1cb8f04a3b58cc0b694bf3308239
   "id": "027d12a4-64f2-4dfb-9b2f-3ef560601476",
   "metadata": {
    "id": "027d12a4-64f2-4dfb-9b2f-3ef560601476"
   },
   "outputs": [],
   "source": [
    "data = data[data['SSI'] != 8]"
   ]
  },
  {
   "cell_type": "code",
<<<<<<< HEAD
   "execution_count": 95,
=======
   "execution_count": null,
>>>>>>> fa68eca7d5bf1cb8f04a3b58cc0b694bf3308239
   "id": "6f49d056-604f-4f3a-84f1-0449167feda4",
   "metadata": {
    "id": "6f49d056-604f-4f3a-84f1-0449167feda4"
   },
   "outputs": [],
   "source": [
    "data = data[data['SSI'] != 9]"
   ]
  },
  {
   "cell_type": "code",
<<<<<<< HEAD
   "execution_count": 96,
=======
   "execution_count": null,
>>>>>>> fa68eca7d5bf1cb8f04a3b58cc0b694bf3308239
   "id": "2bc6f418-9401-4154-84f8-9f70574745b9",
   "metadata": {
    "colab": {
     "base_uri": "https://localhost:8080/"
    },
    "executionInfo": {
     "elapsed": 147,
     "status": "ok",
     "timestamp": 1665897290453,
     "user": {
      "displayName": "Derek Hu",
      "userId": "14137525769356790466"
     },
     "user_tz": 420
    },
    "id": "2bc6f418-9401-4154-84f8-9f70574745b9",
    "outputId": "75f9b068-70b7-45be-e531-cc6adaec2524"
   },
   "outputs": [
    {
     "data": {
      "text/plain": [
       "No_SSI     209665\n",
       "Yes_SSI      4247\n",
       "Name: SSI, dtype: int64"
      ]
     },
<<<<<<< HEAD
     "execution_count": 96,
=======
     "execution_count": 875,
>>>>>>> fa68eca7d5bf1cb8f04a3b58cc0b694bf3308239
     "metadata": {},
     "output_type": "execute_result"
    }
   ],
   "source": [
    "data['SSI'].value_counts()"
   ]
  },
  {
   "cell_type": "markdown",
   "id": "9fd46a92-b2f9-4ba1-b080-60b25db34f4c",
   "metadata": {
    "id": "9fd46a92-b2f9-4ba1-b080-60b25db34f4c"
   },
   "source": [
    "***GOTSSIWHY (Numerical)***"
   ]
  },
  {
   "cell_type": "code",
<<<<<<< HEAD
   "execution_count": 97,
=======
   "execution_count": null,
>>>>>>> fa68eca7d5bf1cb8f04a3b58cc0b694bf3308239
   "id": "3601feb6-6a26-4ec2-b625-c1e009b69ecc",
   "metadata": {
    "id": "3601feb6-6a26-4ec2-b625-c1e009b69ecc"
   },
   "outputs": [],
   "source": [
    "data['SSI_count'] = data.loc[:, 'SSI']"
   ]
  },
  {
   "cell_type": "code",
<<<<<<< HEAD
   "execution_count": 98,
=======
   "execution_count": null,
>>>>>>> fa68eca7d5bf1cb8f04a3b58cc0b694bf3308239
   "id": "3b4076a0-4763-4c74-9a0e-5cbde49da264",
   "metadata": {
    "id": "3b4076a0-4763-4c74-9a0e-5cbde49da264"
   },
   "outputs": [],
   "source": [
    "data['SSI_count'].replace(to_replace=['No_SSI'],\n",
    "           value=0, inplace=True)"
   ]
  },
  {
   "cell_type": "code",
<<<<<<< HEAD
   "execution_count": 99,
=======
   "execution_count": null,
>>>>>>> fa68eca7d5bf1cb8f04a3b58cc0b694bf3308239
   "id": "bb342716-edf9-47f1-acfa-edd29bf2d42c",
   "metadata": {
    "id": "bb342716-edf9-47f1-acfa-edd29bf2d42c"
   },
   "outputs": [],
   "source": [
    "data['SSI_count'].replace(to_replace=['Yes_SSI'],\n",
    "           value=1, inplace=True)"
   ]
  },
  {
   "cell_type": "code",
<<<<<<< HEAD
   "execution_count": 100,
=======
   "execution_count": null,
>>>>>>> fa68eca7d5bf1cb8f04a3b58cc0b694bf3308239
   "id": "e937652e-8c76-45fd-b3bc-33ba4b9b3559",
   "metadata": {
    "colab": {
     "base_uri": "https://localhost:8080/"
    },
    "executionInfo": {
     "elapsed": 138,
     "status": "ok",
     "timestamp": 1665897290454,
     "user": {
      "displayName": "Derek Hu",
      "userId": "14137525769356790466"
     },
     "user_tz": 420
    },
    "id": "e937652e-8c76-45fd-b3bc-33ba4b9b3559",
    "outputId": "08257a55-6b3d-4d2c-ed1f-97668ccaec83"
   },
   "outputs": [
    {
     "data": {
      "text/plain": [
       "0    209665\n",
       "1      4247\n",
       "Name: SSI_count, dtype: int64"
      ]
     },
<<<<<<< HEAD
     "execution_count": 100,
=======
     "execution_count": 879,
>>>>>>> fa68eca7d5bf1cb8f04a3b58cc0b694bf3308239
     "metadata": {},
     "output_type": "execute_result"
    }
   ],
   "source": [
    "data['SSI_count'].value_counts()"
   ]
  },
  {
   "cell_type": "markdown",
   "id": "f098428b-4821-48de-a2ec-68c1f4fd435c",
   "metadata": {
    "id": "f098428b-4821-48de-a2ec-68c1f4fd435c"
   },
   "source": [
    "***HINOTCOVE - Numerical***"
   ]
  },
  {
   "cell_type": "code",
<<<<<<< HEAD
   "execution_count": 101,
=======
   "execution_count": null,
>>>>>>> fa68eca7d5bf1cb8f04a3b58cc0b694bf3308239
   "id": "75dc2563-35b2-40fa-a1f7-8a049d2b7ee9",
   "metadata": {
    "id": "75dc2563-35b2-40fa-a1f7-8a049d2b7ee9"
   },
   "outputs": [],
   "source": [
    "#0 - NIU\n",
    "#1 - No, has coverage\n",
    "#2 - Yes, has no coverage\n",
    "#7 - Unknown-refused\n",
    "#8 - Unknown-not ascertained\n",
    "#9 - Unknown-don't know"
   ]
  },
  {
   "cell_type": "code",
<<<<<<< HEAD
   "execution_count": 102,
=======
   "execution_count": null,
>>>>>>> fa68eca7d5bf1cb8f04a3b58cc0b694bf3308239
   "id": "ArBuCFARQQ44",
   "metadata": {
    "id": "ArBuCFARQQ44"
   },
   "outputs": [],
   "source": [
    "#Whether a person has heathcare coverage. In 2018, over 90% of americans have health coverage\n",
    "#https://www.commonwealthfund.org/publications/issue-briefs/2019/aug/who-are-remaining-uninsured-and-why-do-they-lack-coverage\n",
    "#Uninsured are generally lower-income but younger (below 35 years old), this could mean it doesn't correlate to cancer rates\n",
    "#I thought it would be worthwhile to see if cancer rates would be actually lower due to the age factor"
   ]
  },
  {
   "cell_type": "code",
<<<<<<< HEAD
   "execution_count": 103,
=======
   "execution_count": null,
>>>>>>> fa68eca7d5bf1cb8f04a3b58cc0b694bf3308239
   "id": "c1be23c5-b607-45a4-ac19-4b5bf1e0b76a",
   "metadata": {
    "id": "c1be23c5-b607-45a4-ac19-4b5bf1e0b76a"
   },
   "outputs": [],
   "source": [
    "data['Health_Coverage_count'] = data.loc[:, 'HINOTCOVE']"
   ]
  },
  {
   "cell_type": "code",
<<<<<<< HEAD
   "execution_count": 104,
=======
   "execution_count": null,
>>>>>>> fa68eca7d5bf1cb8f04a3b58cc0b694bf3308239
   "id": "84d79e99-9ec5-4c14-a676-628fff49119b",
   "metadata": {
    "id": "84d79e99-9ec5-4c14-a676-628fff49119b"
   },
   "outputs": [],
   "source": [
    "data = data[data.Health_Coverage_count != 9]"
   ]
  },
  {
   "cell_type": "code",
<<<<<<< HEAD
   "execution_count": 105,
=======
   "execution_count": null,
>>>>>>> fa68eca7d5bf1cb8f04a3b58cc0b694bf3308239
   "id": "88c0a4ae-7ad9-4dfd-8c37-8ff25ee9993e",
   "metadata": {
    "colab": {
     "base_uri": "https://localhost:8080/"
    },
    "executionInfo": {
     "elapsed": 130,
     "status": "ok",
     "timestamp": 1665897290456,
     "user": {
      "displayName": "Derek Hu",
      "userId": "14137525769356790466"
     },
     "user_tz": 420
    },
    "id": "88c0a4ae-7ad9-4dfd-8c37-8ff25ee9993e",
    "outputId": "a0edf0a8-67d7-41a6-c8f6-857c888e7469"
   },
   "outputs": [
    {
     "data": {
      "text/plain": [
       "1    194607\n",
       "2     18200\n",
       "Name: Health_Coverage_count, dtype: int64"
      ]
     },
<<<<<<< HEAD
     "execution_count": 105,
=======
     "execution_count": 884,
>>>>>>> fa68eca7d5bf1cb8f04a3b58cc0b694bf3308239
     "metadata": {},
     "output_type": "execute_result"
    }
   ],
   "source": [
    "data['Health_Coverage_count'].value_counts()"
   ]
  },
  {
   "cell_type": "markdown",
   "id": "45ee767a-38f7-49e2-9c36-2933b4d18b3a",
   "metadata": {
    "id": "45ee767a-38f7-49e2-9c36-2933b4d18b3a"
   },
   "source": [
    "***HINOTCOVE - Categorical***"
   ]
  },
  {
   "cell_type": "code",
<<<<<<< HEAD
   "execution_count": 106,
=======
   "execution_count": null,
>>>>>>> fa68eca7d5bf1cb8f04a3b58cc0b694bf3308239
   "id": "b404067f-dfa3-4936-a68d-75efeba79000",
   "metadata": {
    "colab": {
     "base_uri": "https://localhost:8080/"
    },
    "executionInfo": {
     "elapsed": 121,
     "status": "ok",
     "timestamp": 1665897290456,
     "user": {
      "displayName": "Derek Hu",
      "userId": "14137525769356790466"
     },
     "user_tz": 420
    },
    "id": "b404067f-dfa3-4936-a68d-75efeba79000",
    "outputId": "f04ea645-bc1a-4775-d0ff-b4d60f468bd3"
   },
<<<<<<< HEAD
   "outputs": [],
=======
   "outputs": [
    {
     "name": "stderr",
     "output_type": "stream",
     "text": [
      "/usr/local/lib/python3.7/dist-packages/ipykernel_launcher.py:1: SettingWithCopyWarning: \n",
      "A value is trying to be set on a copy of a slice from a DataFrame.\n",
      "Try using .loc[row_indexer,col_indexer] = value instead\n",
      "\n",
      "See the caveats in the documentation: https://pandas.pydata.org/pandas-docs/stable/user_guide/indexing.html#returning-a-view-versus-a-copy\n",
      "  \"\"\"Entry point for launching an IPython kernel.\n"
     ]
    }
   ],
>>>>>>> fa68eca7d5bf1cb8f04a3b58cc0b694bf3308239
   "source": [
    "data['Health_Coverage'] = data.loc[:, 'Health_Coverage_count']"
   ]
  },
  {
   "cell_type": "code",
<<<<<<< HEAD
   "execution_count": 107,
=======
   "execution_count": null,
>>>>>>> fa68eca7d5bf1cb8f04a3b58cc0b694bf3308239
   "id": "daeda39a-a620-4ebc-abe9-378c174e5976",
   "metadata": {
    "id": "daeda39a-a620-4ebc-abe9-378c174e5976"
   },
   "outputs": [],
   "source": [
    "data['Health_Coverage'].replace(to_replace=1,\n",
    "           value=\"Has_healthcoverage\", inplace=True)"
   ]
  },
  {
   "cell_type": "code",
<<<<<<< HEAD
   "execution_count": 108,
=======
   "execution_count": null,
>>>>>>> fa68eca7d5bf1cb8f04a3b58cc0b694bf3308239
   "id": "ae33557d-f8d1-4f1e-b901-c30673d425aa",
   "metadata": {
    "id": "ae33557d-f8d1-4f1e-b901-c30673d425aa"
   },
   "outputs": [],
   "source": [
    "data['Health_Coverage'].replace(to_replace=2,\n",
    "           value=\"No_healthcoverage\", inplace=True)"
   ]
  },
  {
   "cell_type": "code",
<<<<<<< HEAD
   "execution_count": 109,
=======
   "execution_count": null,
>>>>>>> fa68eca7d5bf1cb8f04a3b58cc0b694bf3308239
   "id": "9ef36c66-d8c2-44f4-9bb2-b093031c2651",
   "metadata": {
    "colab": {
     "base_uri": "https://localhost:8080/"
    },
    "executionInfo": {
     "elapsed": 112,
     "status": "ok",
     "timestamp": 1665897290457,
     "user": {
      "displayName": "Derek Hu",
      "userId": "14137525769356790466"
     },
     "user_tz": 420
    },
    "id": "9ef36c66-d8c2-44f4-9bb2-b093031c2651",
    "outputId": "6a9fdb98-389a-49d2-cb55-7542228e7b6c"
   },
   "outputs": [
    {
     "data": {
      "text/plain": [
       "Has_healthcoverage    194607\n",
       "No_healthcoverage      18200\n",
       "Name: Health_Coverage, dtype: int64"
      ]
     },
<<<<<<< HEAD
     "execution_count": 109,
=======
     "execution_count": 888,
>>>>>>> fa68eca7d5bf1cb8f04a3b58cc0b694bf3308239
     "metadata": {},
     "output_type": "execute_result"
    }
   ],
   "source": [
    "data['Health_Coverage'].value_counts()"
   ]
  },
  {
   "cell_type": "markdown",
   "id": "eca76424-3366-4517-942e-a33bd590475d",
   "metadata": {
    "id": "eca76424-3366-4517-942e-a33bd590475d"
   },
   "source": [
    "***EDUC - Educational Attainment (Numerical)***"
   ]
  },
  {
   "cell_type": "code",
<<<<<<< HEAD
   "execution_count": 110,
=======
   "execution_count": null,
>>>>>>> fa68eca7d5bf1cb8f04a3b58cc0b694bf3308239
   "id": "2240cfc7-1e22-42c8-b036-53d4faf9a571",
   "metadata": {
    "id": "2240cfc7-1e22-42c8-b036-53d4faf9a571"
   },
   "outputs": [],
   "source": [
    "#000 - NIU\n",
    "#100 - Grade 12 or less, no high school diploma or equivalent\n",
    "#101 - Grade 8 or less (no further detail)\n",
    "#102 - Never attended/kindergarten only\n",
    "#103 - Grades 1-11 (no further detail)\n",
    "#104 - Grade 1\n",
    "#105 - Grade 2\n",
    "#106 - Grade 3\n",
    "#107 - Grade 4\n",
    "#108 - Grade 5\n",
    "#109 - Grade 6\n",
    "#110 - Grade 7\n",
    "#111 - Grade 8\n",
    "#112 - Grade 9-12, no diploma (no further detail)\n",
    "#113 - Grade 9\n",
    "#114 - Grade 10\n",
    "#115 - Grade 11\n",
    "#116 - 12th grade, no diploma\n",
    "#200 - High school diploma or GED\n",
    "#201 - High school graduate\n",
    "#202 - GED or equivalent\n",
    "#300 - Some college, no 4yr degree\n",
    "#301 - Some college, no degree\n",
    "#302 - AA degree: technical/vocational/occupational\n",
    "#303 - AA degree: academic program\n",
    "#400 - Bachelor's degree (BA,AB,BS,BBA)\n",
    "#500 - Master's, Professional, or Doctoral Degree\n",
    "#501 - Master's degree (MA,MS,Med,MBA)\n",
    "#502 - Professional (MD,DDS,DVM,JD)\n",
    "#503 - Doctoral degree (PhD, EdD)\n",
    "#504 - Other degree\n",
    "#996 - No degree, years of education unknown\n",
    "#997 - Unknown--refused\n",
    "#998 - Unknown--not ascertain ed\n",
    "#999 - Unknown--don't know"
   ]
  },
  {
   "cell_type": "code",
<<<<<<< HEAD
   "execution_count": 111,
=======
   "execution_count": null,
>>>>>>> fa68eca7d5bf1cb8f04a3b58cc0b694bf3308239
   "id": "f27e5434-4230-44ff-bce1-a46c1991c5a8",
   "metadata": {
    "id": "f27e5434-4230-44ff-bce1-a46c1991c5a8"
   },
   "outputs": [],
   "source": [
    "#000 - NIU_educ (0)\n",
    "#100-116 - Grade 12 or less, no high school diploma or equivalent (1)\n",
    "#200-202 - High school diploma or GED (2)\n",
    "#300-303 - Some college, no 4yr degree (3)\n",
    "#400 - Bachelor's degree (BA,AB,BS,BBA) (4)\n",
    "#500-504 - Master's, Professional, or Doctoral Degree (5)"
   ]
  },
  {
   "cell_type": "code",
<<<<<<< HEAD
   "execution_count": 112,
=======
   "execution_count": null,
>>>>>>> fa68eca7d5bf1cb8f04a3b58cc0b694bf3308239
   "id": "2hGVhVu5QzCY",
   "metadata": {
    "id": "2hGVhVu5QzCY"
   },
   "outputs": [],
   "source": [
    "#Education - There is a significant increase which those who don't go to college\n",
    "\n",
    "#https://societyhealth.vcu.edu/work/the-projects/why-education-matters-to-health-exploring-the-causes.html\n",
    "#College educated Americams are more likely to have health insurance, have higher income, \n",
    "#and more easily buy healthy foods and good transportation/housing"
   ]
  },
  {
   "cell_type": "code",
<<<<<<< HEAD
   "execution_count": 113,
=======
   "execution_count": null,
>>>>>>> fa68eca7d5bf1cb8f04a3b58cc0b694bf3308239
   "id": "11c7bf12-1286-4de7-854f-856f86989e50",
   "metadata": {
    "colab": {
     "base_uri": "https://localhost:8080/"
    },
    "executionInfo": {
     "elapsed": 101,
     "status": "ok",
     "timestamp": 1665897290458,
     "user": {
      "displayName": "Derek Hu",
      "userId": "14137525769356790466"
     },
     "user_tz": 420
    },
    "id": "11c7bf12-1286-4de7-854f-856f86989e50",
    "outputId": "da194170-16c9-43e0-adb9-ff973daed895"
   },
   "outputs": [
    {
     "data": {
      "text/plain": [
       "201    36409\n",
       "400    32748\n",
       "301    30416\n",
       "501    14596\n",
       "0      13210\n",
       "302    12070\n",
       "303     6927\n",
       "102     6446\n",
       "115     5815\n",
       "114     5517\n",
       "113     5217\n",
       "111     4822\n",
       "109     4672\n",
       "202     4575\n",
       "116     3636\n",
       "110     3444\n",
       "106     3429\n",
       "108     3410\n",
       "107     3284\n",
       "104     3123\n",
       "105     3101\n",
       "503     2548\n",
       "502     2401\n",
       "999      696\n",
       "997      184\n",
       "998      111\n",
       "Name: EDUC, dtype: int64"
      ]
     },
<<<<<<< HEAD
     "execution_count": 113,
=======
     "execution_count": 892,
>>>>>>> fa68eca7d5bf1cb8f04a3b58cc0b694bf3308239
     "metadata": {},
     "output_type": "execute_result"
    }
   ],
   "source": [
    "#need to categorize certain values\n",
    "data['EDUC'].value_counts()"
   ]
  },
  {
   "cell_type": "code",
<<<<<<< HEAD
   "execution_count": 114,
=======
   "execution_count": null,
>>>>>>> fa68eca7d5bf1cb8f04a3b58cc0b694bf3308239
   "id": "0f587fe7-1dbe-48ca-9fa4-c0e63922ed45",
   "metadata": {
    "id": "0f587fe7-1dbe-48ca-9fa4-c0e63922ed45"
   },
   "outputs": [],
   "source": [
    "data['Education_count'] = data.loc[:, 'EDUC']"
   ]
  },
  {
   "cell_type": "code",
<<<<<<< HEAD
   "execution_count": 115,
=======
   "execution_count": null,
>>>>>>> fa68eca7d5bf1cb8f04a3b58cc0b694bf3308239
   "id": "c39f4e4e-55ac-4402-be78-93ca10f8b920",
   "metadata": {
    "id": "c39f4e4e-55ac-4402-be78-93ca10f8b920"
   },
   "outputs": [],
   "source": [
    "data['Education_count'] = data['Education_count'].replace(0, 0)"
   ]
  },
  {
   "cell_type": "code",
<<<<<<< HEAD
   "execution_count": 116,
=======
   "execution_count": null,
>>>>>>> fa68eca7d5bf1cb8f04a3b58cc0b694bf3308239
   "id": "cd9738a3-b638-4447-95e8-d924a74da5e8",
   "metadata": {
    "id": "cd9738a3-b638-4447-95e8-d924a74da5e8"
   },
   "outputs": [],
   "source": [
    "data['Education_count'] = data['Education_count'].replace([100, 101, 102, 103, 104, 105, 106, 107, 108, 109, 110, 111, 112, 113, 114, 115, 116], 1)"
   ]
  },
  {
   "cell_type": "code",
<<<<<<< HEAD
   "execution_count": 117,
=======
   "execution_count": null,
>>>>>>> fa68eca7d5bf1cb8f04a3b58cc0b694bf3308239
   "id": "2320b779-d1d6-4128-8e23-784e7ca3378f",
   "metadata": {
    "id": "2320b779-d1d6-4128-8e23-784e7ca3378f"
   },
   "outputs": [],
   "source": [
    "data['Education_count'] = data['Education_count'].replace([200, 201, 202], 2)"
   ]
  },
  {
   "cell_type": "code",
<<<<<<< HEAD
   "execution_count": 118,
=======
   "execution_count": null,
>>>>>>> fa68eca7d5bf1cb8f04a3b58cc0b694bf3308239
   "id": "747c1906-5505-4f70-8a9a-55e9003ce5ef",
   "metadata": {
    "id": "747c1906-5505-4f70-8a9a-55e9003ce5ef"
   },
   "outputs": [],
   "source": [
    "data['Education_count'] = data['Education_count'].replace([300, 301, 302, 303], 3)"
   ]
  },
  {
   "cell_type": "code",
<<<<<<< HEAD
   "execution_count": 119,
=======
   "execution_count": null,
>>>>>>> fa68eca7d5bf1cb8f04a3b58cc0b694bf3308239
   "id": "db9e293a-24e2-4b09-bda6-c728d5aef756",
   "metadata": {
    "id": "db9e293a-24e2-4b09-bda6-c728d5aef756"
   },
   "outputs": [],
   "source": [
    "data['Education_count'] = data['Education_count'].replace(400, 4)"
   ]
  },
  {
   "cell_type": "code",
<<<<<<< HEAD
   "execution_count": 120,
=======
   "execution_count": null,
>>>>>>> fa68eca7d5bf1cb8f04a3b58cc0b694bf3308239
   "id": "926ebdf4-97b2-4523-b1a0-97e8c247e8d3",
   "metadata": {
    "id": "926ebdf4-97b2-4523-b1a0-97e8c247e8d3"
   },
   "outputs": [],
   "source": [
    "data['Education_count'] = data['Education_count'].replace([500, 501, 502, 503, 504], 5)"
   ]
  },
  {
   "cell_type": "code",
<<<<<<< HEAD
   "execution_count": 121,
=======
   "execution_count": null,
>>>>>>> fa68eca7d5bf1cb8f04a3b58cc0b694bf3308239
   "id": "9e822ffe-6f86-4910-b5fd-81aa14653d2e",
   "metadata": {
    "id": "9e822ffe-6f86-4910-b5fd-81aa14653d2e"
   },
   "outputs": [],
   "source": [
    "data = data[data['Education_count'] != 996]"
   ]
  },
  {
   "cell_type": "code",
<<<<<<< HEAD
   "execution_count": 122,
=======
   "execution_count": null,
>>>>>>> fa68eca7d5bf1cb8f04a3b58cc0b694bf3308239
   "id": "f795de05-74c9-4c29-a631-a642fda42ffa",
   "metadata": {
    "id": "f795de05-74c9-4c29-a631-a642fda42ffa"
   },
   "outputs": [],
   "source": [
    "data = data[data['Education_count'] != 997]"
   ]
  },
  {
   "cell_type": "code",
<<<<<<< HEAD
   "execution_count": 123,
=======
   "execution_count": null,
>>>>>>> fa68eca7d5bf1cb8f04a3b58cc0b694bf3308239
   "id": "65d564d1-9a30-4b2f-8881-5815140205e3",
   "metadata": {
    "id": "65d564d1-9a30-4b2f-8881-5815140205e3"
   },
   "outputs": [],
   "source": [
    "data = data[data['Education_count'] != 998]"
   ]
  },
  {
   "cell_type": "code",
<<<<<<< HEAD
   "execution_count": 124,
=======
   "execution_count": null,
>>>>>>> fa68eca7d5bf1cb8f04a3b58cc0b694bf3308239
   "id": "625490a1-2a8d-4fe5-bc48-7d49b49b4d9a",
   "metadata": {
    "id": "625490a1-2a8d-4fe5-bc48-7d49b49b4d9a"
   },
   "outputs": [],
   "source": [
    "data = data[data['Education_count'] != 999]"
   ]
  },
  {
   "cell_type": "code",
<<<<<<< HEAD
   "execution_count": 125,
=======
   "execution_count": null,
>>>>>>> fa68eca7d5bf1cb8f04a3b58cc0b694bf3308239
   "id": "3458d529-e928-4423-88c0-2d45262064cf",
   "metadata": {
    "colab": {
     "base_uri": "https://localhost:8080/"
    },
    "executionInfo": {
     "elapsed": 92,
     "status": "ok",
     "timestamp": 1665897290461,
     "user": {
      "displayName": "Derek Hu",
      "userId": "14137525769356790466"
     },
     "user_tz": 420
    },
    "id": "3458d529-e928-4423-88c0-2d45262064cf",
    "outputId": "46cad323-77cc-4dc1-8295-246210ae783c"
   },
   "outputs": [
    {
     "data": {
      "text/plain": [
       "1    55916\n",
       "3    49413\n",
       "2    40984\n",
       "4    32748\n",
       "5    19545\n",
       "0    13210\n",
       "Name: Education_count, dtype: int64"
      ]
     },
<<<<<<< HEAD
     "execution_count": 125,
=======
     "execution_count": 904,
>>>>>>> fa68eca7d5bf1cb8f04a3b58cc0b694bf3308239
     "metadata": {},
     "output_type": "execute_result"
    }
   ],
   "source": [
    "data['Education_count'].value_counts()"
   ]
  },
  {
   "cell_type": "markdown",
   "id": "7d16e9dc-7523-472a-a4ec-5f51e33a4c0e",
   "metadata": {
    "id": "7d16e9dc-7523-472a-a4ec-5f51e33a4c0e"
   },
   "source": [
    "***EDUC - (Categorical)***"
   ]
  },
  {
   "cell_type": "code",
<<<<<<< HEAD
   "execution_count": 126,
=======
   "execution_count": null,
>>>>>>> fa68eca7d5bf1cb8f04a3b58cc0b694bf3308239
   "id": "6e811d8b-f347-4b0e-a288-1e7a25daff26",
   "metadata": {
    "id": "6e811d8b-f347-4b0e-a288-1e7a25daff26"
   },
   "outputs": [],
   "source": [
    "data['Education'] = data.loc[:, 'Education_count']"
   ]
  },
  {
   "cell_type": "code",
<<<<<<< HEAD
   "execution_count": 127,
=======
   "execution_count": null,
>>>>>>> fa68eca7d5bf1cb8f04a3b58cc0b694bf3308239
   "id": "ce5d5839-7a88-4651-b8c8-41b1ae13044d",
   "metadata": {
    "id": "ce5d5839-7a88-4651-b8c8-41b1ae13044d"
   },
   "outputs": [],
   "source": [
    "data['Education'].replace(to_replace=0,\n",
    "           value=\"NIU_educ\", inplace=True)"
   ]
  },
  {
   "cell_type": "code",
<<<<<<< HEAD
   "execution_count": 128,
=======
   "execution_count": null,
>>>>>>> fa68eca7d5bf1cb8f04a3b58cc0b694bf3308239
   "id": "05160608-2cfd-4fc4-8427-bc5bd104f1e6",
   "metadata": {
    "id": "05160608-2cfd-4fc4-8427-bc5bd104f1e6"
   },
   "outputs": [],
   "source": [
    "data['Education'].replace(to_replace=1,\n",
    "           value=\"High_School_Or_Less\", inplace=True)"
   ]
  },
  {
   "cell_type": "code",
<<<<<<< HEAD
   "execution_count": 129,
=======
   "execution_count": null,
>>>>>>> fa68eca7d5bf1cb8f04a3b58cc0b694bf3308239
   "id": "5a41d949-82f4-405b-aacc-61be93d867ab",
   "metadata": {
    "id": "5a41d949-82f4-405b-aacc-61be93d867ab"
   },
   "outputs": [],
   "source": [
    "data['Education'].replace(to_replace=2,\n",
    "           value=\"High_School_Graduate\", inplace=True)"
   ]
  },
  {
   "cell_type": "code",
<<<<<<< HEAD
   "execution_count": 130,
=======
   "execution_count": null,
>>>>>>> fa68eca7d5bf1cb8f04a3b58cc0b694bf3308239
   "id": "68a96190-5ed4-4dc7-8f44-7ef0703413fc",
   "metadata": {
    "id": "68a96190-5ed4-4dc7-8f44-7ef0703413fc"
   },
   "outputs": [],
   "source": [
    "data['Education'].replace(to_replace=3,\n",
    "           value=\"Some_College\", inplace=True)"
   ]
  },
  {
   "cell_type": "code",
<<<<<<< HEAD
   "execution_count": 131,
=======
   "execution_count": null,
>>>>>>> fa68eca7d5bf1cb8f04a3b58cc0b694bf3308239
   "id": "798eb564-ba3f-482b-919d-483a851b9ac5",
   "metadata": {
    "id": "798eb564-ba3f-482b-919d-483a851b9ac5"
   },
   "outputs": [],
   "source": [
    "data['Education'].replace(to_replace=4,\n",
    "           value=\"Bachelors_Degree\", inplace=True)"
   ]
  },
  {
   "cell_type": "code",
<<<<<<< HEAD
   "execution_count": 132,
=======
   "execution_count": null,
>>>>>>> fa68eca7d5bf1cb8f04a3b58cc0b694bf3308239
   "id": "e73f32cb-9164-4b5b-834a-dd2476b04110",
   "metadata": {
    "id": "e73f32cb-9164-4b5b-834a-dd2476b04110"
   },
   "outputs": [],
   "source": [
    "data['Education'].replace(to_replace=5,\n",
    "           value=\"Masters_Degree\", inplace=True)"
   ]
  },
  {
   "cell_type": "code",
<<<<<<< HEAD
   "execution_count": 133,
=======
   "execution_count": null,
>>>>>>> fa68eca7d5bf1cb8f04a3b58cc0b694bf3308239
   "id": "bdf0ab6c-10b9-4753-aa73-0aed7c9e9023",
   "metadata": {
    "colab": {
     "background_save": true,
     "base_uri": "https://localhost:8080/"
    },
    "executionInfo": {
     "elapsed": 83,
     "status": "ok",
     "timestamp": 1665897290463,
     "user": {
      "displayName": "Derek Hu",
      "userId": "14137525769356790466"
     },
     "user_tz": 420
    },
    "id": "bdf0ab6c-10b9-4753-aa73-0aed7c9e9023",
    "outputId": "fbf14015-8e52-4657-ae66-4ece07175197"
   },
   "outputs": [
    {
     "data": {
      "text/plain": [
       "High_School_Or_Less     55916\n",
       "Some_College            49413\n",
       "High_School_Graduate    40984\n",
       "Bachelors_Degree        32748\n",
       "Masters_Degree          19545\n",
       "NIU_educ                13210\n",
       "Name: Education, dtype: int64"
      ]
     },
<<<<<<< HEAD
     "execution_count": 133,
=======
     "execution_count": 912,
>>>>>>> fa68eca7d5bf1cb8f04a3b58cc0b694bf3308239
     "metadata": {},
     "output_type": "execute_result"
    }
   ],
   "source": [
    "data['Education'].value_counts()"
   ]
  },
  {
   "cell_type": "markdown",
   "id": "edeaefae-9b1c-46bc-94d1-8ca6f9655ae7",
   "metadata": {
    "id": "edeaefae-9b1c-46bc-94d1-8ca6f9655ae7"
   },
   "source": [
    "***OCC1995 - Numerical***"
   ]
  },
  {
   "cell_type": "code",
<<<<<<< HEAD
   "execution_count": 134,
=======
   "execution_count": null,
>>>>>>> fa68eca7d5bf1cb8f04a3b58cc0b694bf3308239
   "id": "63860451-8387-4708-b3fa-cfd460b82fd2",
   "metadata": {
    "colab": {
     "background_save": true
    },
    "id": "63860451-8387-4708-b3fa-cfd460b82fd2"
   },
   "outputs": [],
   "source": [
    "# OCC1995 - Occupation\n",
    "\n",
    "#MANAGERIAL AND PROFESSIONAL SPECIALTY OCCUPATIONS\n",
    "#0100                Executive, Administrative, and Managerial Occupations               \n",
    "#0102                Officials and administrators, public administration\n",
    "#0103                Managers and administrators, except public administration\n",
    "#0104                Management related occupations\n",
    "#0200                Professional Specialty Occupations\n",
    "#0210                Engineers, Architechts, Surveyors, and Scientists:\n",
    "#0211                Engineers, scientists, and technicians\n",
    "#0212                Engineers and architects\n",
    "#0213                Engineers\n",
    "#0214                Architects and surveyors\n",
    "#0215                Scientists\n",
    "#0216                Natural mathematical and computer scientists\n",
    "#0220                Health Assessment, Diagnosing, and Treating Occupations:\n",
    "#0221                Health workers\n",
    "#0222                Health diagnosing occupations\n",
    "#0223                Health assessment and treating occupations\n",
    "#0230                Teachers, Librarians, Archivists, and Curators:\n",
    "#0231                Teachers, librarians and counselors\n",
    "#0232                Teachers, including professors and instructors\n",
    "#0240                All other professional specialty occupations\n",
    "#0241                All other professional, technical, and kindred workers\n",
    "#0242                Writers, artists, entertainers and athletes\n",
    "#0243                Other professional specialty occupations\n",
    "\n",
    "#TECHNICAL, SALES, AND ADMINISTRATIVE SUPPORT OCCUPATIONS\n",
    "#0300                Technicians and Related Support Occupations\n",
    "#0301                Health technologists and technicians\n",
    "#0302                Engineering and science technicians\n",
    "#0303                Technologists, technicians except health\n",
    "#0400                Sales Occupations:\n",
    "#0401                Sales workers\n",
    "#0402                Supervisors and proprietors\n",
    "#0403                Sales representatives, commodities and finance\n",
    "#0404                Other sales\n",
    "#0500                Administrative Support Occupations, Including Clerical\n",
    "#0501                Mail carriers, baggagemen, teleg. messengers\n",
    "#0502                Stenos, typists, secretaries, receptionist\n",
    "#0503                Other clerical\n",
    "#0504                Financial records processing occupations\n",
    "#0505                Bookkeepers\n",
    "#0506                Office machine operators\n",
    "#0507                Computer equipment operators\n",
    "#0508                All other clerical workers\n",
    "#0509                Other administrative support\n",
    "\n",
    "#SERVICE OCCUPATIONS\n",
    "#0600                Private Household Occupations:\n",
    "#0601                Private household workers\n",
    "#0602                Housekeepers, laundresses, baby sitters, etc.\n",
    "#0700                Protective Service Occupations\n",
    "#0701                Protective service\n",
    "#0702                Police and firefighters\n",
    "#0703                Other protective service occupations\n",
    "#0800                Service Occupations, Except Protective and Household\n",
    "#0801                All other service workers\n",
    "#0802                Food service\n",
    "#0803                Cleaning and building service\n",
    "#0804                Health and personal service\n",
    "#0805                Health service\n",
    "#0806                Personal service\n",
    "\n",
    "#FARMING, FORESTRY, AND FISHING OCCUPATIONS\n",
    "#0900                Farm Operators and Managers:\n",
    "#0901                Farmers and farm managers\n",
    "#0902                Farmers\n",
    "#0903                Farm managers\n",
    "#1000                Other Agricultural and Related Occupations:\n",
    "#1001                Farm workers and other agricultural workers\n",
    "#1002                Farm laborers and farm foremen\n",
    "#1003                Farm laborers\n",
    "#1004                Forestry and fishing occupations\n",
    "\n",
    "#PRECISION PRODUCTION, CRAFT, AND REPAIR OCCUPATIONS\n",
    "#1100                Mechanics and Repairers Occupation\n",
    "#1101                Mechanics and repairers\n",
    "#1102                Construction, including carpenters\n",
    "#1103                Machinists, mechanics, repairment, and metal craftsmen\n",
    "#1200                Construction and Extractive Trades Occupation\n",
    "#1201                Construction and extractive trades\n",
    "#1202                Apprentice, construction\n",
    "#1203                Carpenters\n",
    "#1204                Other construction craftsmen\n",
    "#1205                Mine operatives and laborers\n",
    "#1300                Precision Production Occupations:\n",
    "#1301                Precision production occupations\n",
    "#1302                Metal craftsmen, except mechanics\n",
    "#1303                All other craftsmen\n",
    "#1304                Apprentice, machinists, mechanics, metals\n",
    "\n",
    "#OPERATORS, FABRICATORS, AND LABORERS\n",
    "#1400                Machine Operators, Assemblers, and Inspectors\n",
    "#1401                Operatives, except transport\n",
    "#1402                Machine operators and tenderers, except precision\n",
    "#1403                Fabricators, assemblers, inspectors, and samplers\n",
    "#1500                Transportation and Material Moving Occupations\n",
    "#1501                Transport equipment operatives\n",
    "#1502                Motor vehicle operators\n",
    "#1503                Other transportation, except motor vehicles\n",
    "#1504                Material moving equipment operators\n",
    "#1505                Construction laborers\n",
    "#1506                Freight, stock and material handlers\n",
    "#1507                All other operatives\n",
    "#1508                Laborers, except farm\n",
    "#1509                All other laborers except farm and mine\n",
    "\n",
    "#MILITARY OCCUPATIONS\n",
    "#1600                Military  \n",
    "\n",
    "#EXPERIENCED UNEMPLOYED NOT CLASSIFIED BY OCCUPATION\n",
    "#7777                Unknown-refused\n",
    "#8888                Unknown-not ascertained\n",
    "#9999                Unknown-don't know"
   ]
  },
  {
   "cell_type": "code",
<<<<<<< HEAD
   "execution_count": 135,
=======
   "execution_count": null,
>>>>>>> fa68eca7d5bf1cb8f04a3b58cc0b694bf3308239
   "id": "wUT8Tkt8RWBO",
   "metadata": {
    "colab": {
     "background_save": true
    },
    "id": "wUT8Tkt8RWBO"
   },
   "outputs": [],
   "source": [
    "#Job occupation \n",
    "#Office jobs has affects such as increased blood pressure, cholestral, and body fat from lack of exercise or movement\n",
    "#Agriculture jobs expose to UV rays and sunlight and agricultural chemicals\n",
    "#Manufacturing - certain certains like rubber/plastics, have toxins \n",
    "#Construction - exposure to abestos, radon, and toxic materials\n",
    "#Miltiary - often exposure to toxic chemicals, burn pits, etc"
   ]
  },
  {
   "cell_type": "code",
<<<<<<< HEAD
   "execution_count": 136,
=======
   "execution_count": null,
>>>>>>> fa68eca7d5bf1cb8f04a3b58cc0b694bf3308239
   "id": "ae6159dc-db36-442c-b282-295ab453d784",
   "metadata": {
    "colab": {
     "background_save": true,
     "base_uri": "https://localhost:8080/"
    },
    "executionInfo": {
     "elapsed": 74,
     "status": "ok",
     "timestamp": 1665897290464,
     "user": {
      "displayName": "Derek Hu",
      "userId": "14137525769356790466"
     },
     "user_tz": 420
    },
    "id": "ae6159dc-db36-442c-b282-295ab453d784",
    "outputId": "af90f9bc-13d1-4852-bc0b-883a6daf8e73"
   },
   "outputs": [
    {
     "data": {
      "text/plain": [
       "0      138429\n",
       "103      6160\n",
       "231      5182\n",
       "509      4810\n",
       "404      4303\n",
       "Name: OCC1995, dtype: int64"
      ]
     },
<<<<<<< HEAD
     "execution_count": 136,
=======
     "execution_count": 915,
>>>>>>> fa68eca7d5bf1cb8f04a3b58cc0b694bf3308239
     "metadata": {},
     "output_type": "execute_result"
    }
   ],
   "source": [
    "data['OCC1995'].value_counts().head(5)"
   ]
  },
  {
   "cell_type": "code",
<<<<<<< HEAD
   "execution_count": 137,
=======
   "execution_count": null,
>>>>>>> fa68eca7d5bf1cb8f04a3b58cc0b694bf3308239
   "id": "91676447-dd33-4056-9331-18289150b322",
   "metadata": {
    "colab": {
     "background_save": true
    },
    "id": "91676447-dd33-4056-9331-18289150b322"
   },
   "outputs": [],
   "source": [
    "#MANAGERIAL AND PROFESSIONAL SPECIALTY OCCUPATIONS (100-243)\n",
    "#TECHNICAL, SALES, AND ADMINISTRATIVE SUPPORT OCCUPATIONS (300-509)\n",
    "#SERVICE OCCUPATIONS (600-806)\n",
    "#FARMING, FORESTRY, AND FISHING OCCUPATIONS (900-1004)\n",
    "#PRECISION PRODUCTION, CRAFT, AND REPAIR OCCUPATIONS (1100-1304)\n",
    "#OPERATORS, FABRICATORS, AND LABORERS (1400-1509)\n",
    "#MILITARY OCCUPATIONS (1600)"
   ]
  },
  {
   "cell_type": "markdown",
   "id": "e342dbd1-c9b6-47f3-99bf-c8cb1d973a26",
   "metadata": {
    "id": "e342dbd1-c9b6-47f3-99bf-c8cb1d973a26"
   },
   "source": [
    "***OCC1995 (Numerical)***"
   ]
  },
  {
   "cell_type": "code",
<<<<<<< HEAD
   "execution_count": 138,
=======
   "execution_count": null,
>>>>>>> fa68eca7d5bf1cb8f04a3b58cc0b694bf3308239
   "id": "a90949f5-be67-4856-b51a-d581b2d078d4",
   "metadata": {
    "colab": {
     "background_save": true
    },
    "id": "a90949f5-be67-4856-b51a-d581b2d078d4"
   },
   "outputs": [],
   "source": [
    "data['JobOccupation_count'] = data.loc[:, 'OCC1995']"
   ]
  },
  {
   "cell_type": "code",
<<<<<<< HEAD
   "execution_count": 139,
=======
   "execution_count": null,
>>>>>>> fa68eca7d5bf1cb8f04a3b58cc0b694bf3308239
   "id": "e4145a76-16f2-459c-a069-012156ae41dd",
   "metadata": {
    "colab": {
     "background_save": true
    },
    "id": "e4145a76-16f2-459c-a069-012156ae41dd"
   },
   "outputs": [],
   "source": [
    "data['JobOccupation_count'] = data['JobOccupation_count'].replace([100, 102, 103, 104], 1)"
   ]
  },
  {
   "cell_type": "code",
<<<<<<< HEAD
   "execution_count": 140,
=======
   "execution_count": null,
>>>>>>> fa68eca7d5bf1cb8f04a3b58cc0b694bf3308239
   "id": "7c2ae38a-c422-4c18-8874-9017d6bdb99f",
   "metadata": {
    "colab": {
     "background_save": true
    },
    "id": "7c2ae38a-c422-4c18-8874-9017d6bdb99f"
   },
   "outputs": [],
   "source": [
    "data['JobOccupation_count'] = data['JobOccupation_count'].replace([200, 210, 211, 212, 213, \n",
    "                                          214, 215, 216, 220, 221, 222, 223, 230, 231, 232,\n",
    "                                           240, 241, 242, 243], 2)"
   ]
  },
  {
   "cell_type": "code",
<<<<<<< HEAD
   "execution_count": 141,
=======
   "execution_count": null,
>>>>>>> fa68eca7d5bf1cb8f04a3b58cc0b694bf3308239
   "id": "0e9e9167-54e3-409a-93b3-261492bb9202",
   "metadata": {
    "colab": {
     "background_save": true
    },
    "id": "0e9e9167-54e3-409a-93b3-261492bb9202"
   },
   "outputs": [],
   "source": [
    "data['JobOccupation_count'] = data['JobOccupation_count'].replace([300, 301, 302, 303], 3)"
   ]
  },
  {
   "cell_type": "code",
<<<<<<< HEAD
   "execution_count": 142,
=======
   "execution_count": null,
>>>>>>> fa68eca7d5bf1cb8f04a3b58cc0b694bf3308239
   "id": "dda51fb6-0435-44a4-a692-df09d55c02d8",
   "metadata": {
    "colab": {
     "background_save": true
    },
    "id": "dda51fb6-0435-44a4-a692-df09d55c02d8"
   },
   "outputs": [],
   "source": [
    "data['JobOccupation_count'] = data['JobOccupation_count'].replace([400, 401, 402, 403, 404], 4)"
   ]
  },
  {
   "cell_type": "code",
<<<<<<< HEAD
   "execution_count": 143,
=======
   "execution_count": null,
>>>>>>> fa68eca7d5bf1cb8f04a3b58cc0b694bf3308239
   "id": "1f7951d2-e5dc-4955-8c64-f70d84a5a1bd",
   "metadata": {
    "colab": {
     "background_save": true
    },
    "id": "1f7951d2-e5dc-4955-8c64-f70d84a5a1bd"
   },
   "outputs": [],
   "source": [
    "data['JobOccupation_count'] = data['JobOccupation_count'].replace([500, 501, 502, 503, 504, 505, 506, 507, 508, 509], 5)"
   ]
  },
  {
   "cell_type": "code",
<<<<<<< HEAD
   "execution_count": 144,
=======
   "execution_count": null,
>>>>>>> fa68eca7d5bf1cb8f04a3b58cc0b694bf3308239
   "id": "bb23cffd-6bb6-42d8-98ac-4b71dad1bb75",
   "metadata": {
    "colab": {
     "background_save": true
    },
    "id": "bb23cffd-6bb6-42d8-98ac-4b71dad1bb75"
   },
   "outputs": [],
   "source": [
    "data['JobOccupation_count'] = data['JobOccupation_count'].replace([600, 601, 602], 6)"
   ]
  },
  {
   "cell_type": "code",
<<<<<<< HEAD
   "execution_count": 145,
=======
   "execution_count": null,
>>>>>>> fa68eca7d5bf1cb8f04a3b58cc0b694bf3308239
   "id": "b495c96a-95e2-42c7-8d70-5e0f7d4f44b2",
   "metadata": {
    "colab": {
     "background_save": true
    },
    "id": "b495c96a-95e2-42c7-8d70-5e0f7d4f44b2"
   },
   "outputs": [],
   "source": [
    "data['JobOccupation_count'] = data['JobOccupation_count'].replace([700, 701, 702, 703], 7)"
   ]
  },
  {
   "cell_type": "code",
<<<<<<< HEAD
   "execution_count": 146,
=======
   "execution_count": null,
>>>>>>> fa68eca7d5bf1cb8f04a3b58cc0b694bf3308239
   "id": "d00e2b33-26d5-49c5-8f9a-c8dca21cdd13",
   "metadata": {
    "colab": {
     "background_save": true
    },
    "id": "d00e2b33-26d5-49c5-8f9a-c8dca21cdd13"
   },
   "outputs": [],
   "source": [
    "data['JobOccupation_count'] = data['JobOccupation_count'].replace([800, 801, 802, 803, 804, 805, 806], 8)"
   ]
  },
  {
   "cell_type": "code",
<<<<<<< HEAD
   "execution_count": 147,
=======
   "execution_count": null,
>>>>>>> fa68eca7d5bf1cb8f04a3b58cc0b694bf3308239
   "id": "223fc868-3235-47b9-908c-da73bd0127be",
   "metadata": {
    "colab": {
     "background_save": true
    },
    "id": "223fc868-3235-47b9-908c-da73bd0127be"
   },
   "outputs": [],
   "source": [
    "data['JobOccupation_count'] = data['JobOccupation_count'].replace([900, 901, 902, 903], 9)"
   ]
  },
  {
   "cell_type": "code",
<<<<<<< HEAD
   "execution_count": 148,
=======
   "execution_count": null,
>>>>>>> fa68eca7d5bf1cb8f04a3b58cc0b694bf3308239
   "id": "68cb2236-a201-4c1c-ae34-b37f720d5ee7",
   "metadata": {
    "colab": {
     "background_save": true
    },
    "id": "68cb2236-a201-4c1c-ae34-b37f720d5ee7"
   },
   "outputs": [],
   "source": [
    "data['JobOccupation_count'] = data['JobOccupation_count'].replace([1000, 1001, 1002, 1003, 1004], 10)"
   ]
  },
  {
   "cell_type": "code",
<<<<<<< HEAD
   "execution_count": 149,
=======
   "execution_count": null,
>>>>>>> fa68eca7d5bf1cb8f04a3b58cc0b694bf3308239
   "id": "245d5d0f-bd43-454e-86c3-3599f27139bc",
   "metadata": {
    "colab": {
     "background_save": true
    },
    "id": "245d5d0f-bd43-454e-86c3-3599f27139bc"
   },
   "outputs": [],
   "source": [
    "data['JobOccupation_count'] = data['JobOccupation_count'].replace([1100, 1101, 1102, 1103], 11)"
   ]
  },
  {
   "cell_type": "code",
<<<<<<< HEAD
   "execution_count": 150,
=======
   "execution_count": null,
>>>>>>> fa68eca7d5bf1cb8f04a3b58cc0b694bf3308239
   "id": "77299ace-d9b6-45b5-8ab2-e1946d14dc80",
   "metadata": {
    "colab": {
     "background_save": true
    },
    "id": "77299ace-d9b6-45b5-8ab2-e1946d14dc80"
   },
   "outputs": [],
   "source": [
    "data['JobOccupation_count'] = data['JobOccupation_count'].replace([1200, 1201, 1202, 1203, 1204, 1205], 12)"
   ]
  },
  {
   "cell_type": "code",
<<<<<<< HEAD
   "execution_count": 151,
=======
   "execution_count": null,
>>>>>>> fa68eca7d5bf1cb8f04a3b58cc0b694bf3308239
   "id": "eb86a227-2ee3-4cd2-a78d-68a54978c9f2",
   "metadata": {
    "colab": {
     "background_save": true
    },
    "id": "eb86a227-2ee3-4cd2-a78d-68a54978c9f2"
   },
   "outputs": [],
   "source": [
    "data['JobOccupation_count'] = data['JobOccupation_count'].replace([1300, 1301, 1302, 1303, 1304], 13)"
   ]
  },
  {
   "cell_type": "code",
<<<<<<< HEAD
   "execution_count": 152,
=======
   "execution_count": null,
>>>>>>> fa68eca7d5bf1cb8f04a3b58cc0b694bf3308239
   "id": "7037aaed-14c2-4b5d-b175-90998c51cbb7",
   "metadata": {
    "colab": {
     "background_save": true
    },
    "id": "7037aaed-14c2-4b5d-b175-90998c51cbb7"
   },
   "outputs": [],
   "source": [
    "data['JobOccupation_count'] = data['JobOccupation_count'].replace([1400, 1401, 1402, 1403], 14)"
   ]
  },
  {
   "cell_type": "code",
<<<<<<< HEAD
   "execution_count": 153,
=======
   "execution_count": null,
>>>>>>> fa68eca7d5bf1cb8f04a3b58cc0b694bf3308239
   "id": "3388cffa-c0da-44d6-9e25-1aac4f322ab6",
   "metadata": {
    "colab": {
     "background_save": true
    },
    "id": "3388cffa-c0da-44d6-9e25-1aac4f322ab6"
   },
   "outputs": [],
   "source": [
    "data['JobOccupation_count'] = data['JobOccupation_count'].replace([1500, 1501, 1502, 1503, 1504, 1505, 1506, 1507, 1508, 1509], 15)"
   ]
  },
  {
   "cell_type": "code",
<<<<<<< HEAD
   "execution_count": 154,
=======
   "execution_count": null,
>>>>>>> fa68eca7d5bf1cb8f04a3b58cc0b694bf3308239
   "id": "3949393e-ef7e-4c87-a778-55ec5bfde9cd",
   "metadata": {
    "colab": {
     "background_save": true
    },
    "id": "3949393e-ef7e-4c87-a778-55ec5bfde9cd"
   },
   "outputs": [],
   "source": [
    "data['JobOccupation_count'] = data['JobOccupation_count'].replace(1600, 16)"
   ]
  },
  {
   "cell_type": "code",
<<<<<<< HEAD
   "execution_count": 155,
=======
   "execution_count": null,
>>>>>>> fa68eca7d5bf1cb8f04a3b58cc0b694bf3308239
   "id": "96894b7d-f463-4c02-8a7d-2deb643aa3ff",
   "metadata": {
    "colab": {
     "background_save": true
    },
    "id": "96894b7d-f463-4c02-8a7d-2deb643aa3ff"
   },
   "outputs": [],
   "source": [
    "data = data[data['JobOccupation_count'] != 7777]"
   ]
  },
  {
   "cell_type": "code",
<<<<<<< HEAD
   "execution_count": 156,
=======
   "execution_count": null,
>>>>>>> fa68eca7d5bf1cb8f04a3b58cc0b694bf3308239
   "id": "a2a0c981-0ee3-438f-8a51-397d9d3bbc28",
   "metadata": {
    "colab": {
     "background_save": true
    },
    "id": "a2a0c981-0ee3-438f-8a51-397d9d3bbc28"
   },
   "outputs": [],
   "source": [
    "data = data[data['JobOccupation_count'] != 8888]"
   ]
  },
  {
   "cell_type": "code",
<<<<<<< HEAD
   "execution_count": 157,
=======
   "execution_count": null,
>>>>>>> fa68eca7d5bf1cb8f04a3b58cc0b694bf3308239
   "id": "7c0b674c-03f2-4320-adf4-021802cc6efc",
   "metadata": {
    "colab": {
     "background_save": true
    },
    "id": "7c0b674c-03f2-4320-adf4-021802cc6efc"
   },
   "outputs": [],
   "source": [
    "data = data[data['JobOccupation_count'] != 9999]"
   ]
  },
  {
   "cell_type": "code",
<<<<<<< HEAD
   "execution_count": 158,
=======
   "execution_count": null,
>>>>>>> fa68eca7d5bf1cb8f04a3b58cc0b694bf3308239
   "id": "18fafa17-a16d-4273-86b7-c9736e41d79b",
   "metadata": {
    "colab": {
     "background_save": true,
     "base_uri": "https://localhost:8080/"
    },
    "executionInfo": {
     "elapsed": 426,
     "status": "ok",
     "timestamp": 1665897292968,
     "user": {
      "displayName": "Derek Hu",
      "userId": "14137525769356790466"
     },
     "user_tz": 420
    },
    "id": "18fafa17-a16d-4273-86b7-c9736e41d79b",
    "outputId": "3e44adeb-db55-4c92-92c0-03daf7e342d5"
   },
   "outputs": [
    {
     "data": {
      "text/plain": [
       "0     138429\n",
       "2      15395\n",
       "1      10767\n",
       "8      10140\n",
       "5       9827\n",
       "4       6790\n",
       "14      4177\n",
       "15      3990\n",
       "12      3419\n",
       "3       2194\n",
       "11      2168\n",
       "7       1388\n",
       "10      1232\n",
       "13       933\n",
       "16       322\n",
       "Name: JobOccupation_count, dtype: int64"
      ]
     },
<<<<<<< HEAD
     "execution_count": 158,
=======
     "execution_count": 937,
>>>>>>> fa68eca7d5bf1cb8f04a3b58cc0b694bf3308239
     "metadata": {},
     "output_type": "execute_result"
    }
   ],
   "source": [
    "data['JobOccupation_count'].value_counts()"
   ]
  },
  {
   "cell_type": "markdown",
   "id": "297b2d77-eeb3-4c68-a91e-9f10a4f44edc",
   "metadata": {
    "id": "297b2d77-eeb3-4c68-a91e-9f10a4f44edc"
   },
   "source": [
    "***OCC1995 (Categorical)***"
   ]
  },
  {
   "cell_type": "code",
<<<<<<< HEAD
   "execution_count": 160,
=======
   "execution_count": null,
>>>>>>> fa68eca7d5bf1cb8f04a3b58cc0b694bf3308239
   "id": "0d622931-8db5-489f-a7b3-aabc218d5967",
   "metadata": {
    "colab": {
     "background_save": true
    },
    "id": "0d622931-8db5-489f-a7b3-aabc218d5967"
   },
   "outputs": [],
   "source": [
    "data['JobOccupation'] = data.loc[:, 'JobOccupation_count']"
   ]
  },
  {
   "cell_type": "code",
<<<<<<< HEAD
   "execution_count": 161,
=======
   "execution_count": null,
>>>>>>> fa68eca7d5bf1cb8f04a3b58cc0b694bf3308239
   "id": "056e36b9-82c9-46e1-9c27-6c734599e772",
   "metadata": {
    "colab": {
     "background_save": true
    },
    "id": "056e36b9-82c9-46e1-9c27-6c734599e772"
   },
   "outputs": [],
   "source": [
    "data['JobOccupation'].replace(to_replace=0,\n",
    "           value=\"Not_In_LaborForce\", inplace=True)"
   ]
  },
  {
   "cell_type": "code",
<<<<<<< HEAD
   "execution_count": 162,
=======
   "execution_count": null,
>>>>>>> fa68eca7d5bf1cb8f04a3b58cc0b694bf3308239
   "id": "315cb433-ad4b-4b8f-a11c-f82455a76c95",
   "metadata": {
    "colab": {
     "background_save": true
    },
    "id": "315cb433-ad4b-4b8f-a11c-f82455a76c95"
   },
   "outputs": [],
   "source": [
    "data['JobOccupation'].replace(to_replace=1,\n",
    "           value=\"Executive, Administrative, and Managerial Occupations\", inplace=True)"
   ]
  },
  {
   "cell_type": "code",
<<<<<<< HEAD
   "execution_count": 163,
=======
   "execution_count": null,
>>>>>>> fa68eca7d5bf1cb8f04a3b58cc0b694bf3308239
   "id": "c8d1dc7b-fcb9-4979-86a9-3f2e1f7a82bb",
   "metadata": {
    "colab": {
     "background_save": true
    },
    "id": "c8d1dc7b-fcb9-4979-86a9-3f2e1f7a82bb"
   },
   "outputs": [],
   "source": [
    "data['JobOccupation'].replace(to_replace=2,\n",
    "           value=\"Professional Specialty Occupations\", inplace=True)"
   ]
  },
  {
   "cell_type": "code",
<<<<<<< HEAD
   "execution_count": 164,
=======
   "execution_count": null,
>>>>>>> fa68eca7d5bf1cb8f04a3b58cc0b694bf3308239
   "id": "d7ad59f9-fe26-473c-a1cd-71dbe31394af",
   "metadata": {
    "colab": {
     "background_save": true
    },
    "id": "d7ad59f9-fe26-473c-a1cd-71dbe31394af"
   },
   "outputs": [],
   "source": [
    "data['JobOccupation'].replace(to_replace=3,\n",
    "           value=\"Technicians and Related Support Occupations\", inplace=True)"
   ]
  },
  {
   "cell_type": "code",
<<<<<<< HEAD
   "execution_count": 165,
=======
   "execution_count": null,
>>>>>>> fa68eca7d5bf1cb8f04a3b58cc0b694bf3308239
   "id": "c9d8c7db-830a-4796-be02-8352e05a8cba",
   "metadata": {
    "colab": {
     "background_save": true
    },
    "id": "c9d8c7db-830a-4796-be02-8352e05a8cba"
   },
   "outputs": [],
   "source": [
    "data['JobOccupation'].replace(to_replace=4,\n",
    "           value=\"Sales Occupations\", inplace=True)"
   ]
  },
  {
   "cell_type": "code",
<<<<<<< HEAD
   "execution_count": 166,
=======
   "execution_count": null,
>>>>>>> fa68eca7d5bf1cb8f04a3b58cc0b694bf3308239
   "id": "e90225f5-f107-4892-8fda-711aaf31986c",
   "metadata": {
    "colab": {
     "background_save": true
    },
    "id": "e90225f5-f107-4892-8fda-711aaf31986c"
   },
   "outputs": [],
   "source": [
    "data['JobOccupation'].replace(to_replace=5,\n",
    "           value=\"Administrative Support Occupations\", inplace=True)"
   ]
  },
  {
   "cell_type": "code",
<<<<<<< HEAD
   "execution_count": 167,
=======
   "execution_count": null,
>>>>>>> fa68eca7d5bf1cb8f04a3b58cc0b694bf3308239
   "id": "364150e9-a43f-43af-8dbe-34a6bd1e7fcb",
   "metadata": {
    "colab": {
     "background_save": true
    },
    "id": "364150e9-a43f-43af-8dbe-34a6bd1e7fcb"
   },
   "outputs": [],
   "source": [
    "data['JobOccupation'].replace(to_replace=6,\n",
    "           value=\"Private Household Occupations\", inplace=True)"
   ]
  },
  {
   "cell_type": "code",
<<<<<<< HEAD
   "execution_count": 168,
=======
   "execution_count": null,
>>>>>>> fa68eca7d5bf1cb8f04a3b58cc0b694bf3308239
   "id": "f8e253fb-49af-4087-8e80-4bfa1b49ad7f",
   "metadata": {
    "colab": {
     "background_save": true
    },
    "id": "f8e253fb-49af-4087-8e80-4bfa1b49ad7f"
   },
   "outputs": [],
   "source": [
    "data['JobOccupation'].replace(to_replace=7,\n",
    "           value=\"Protective Service Occupations\", inplace=True)"
   ]
  },
  {
   "cell_type": "code",
<<<<<<< HEAD
   "execution_count": 169,
=======
   "execution_count": null,
>>>>>>> fa68eca7d5bf1cb8f04a3b58cc0b694bf3308239
   "id": "8a508ca9-52be-45eb-9daf-7503776da093",
   "metadata": {
    "colab": {
     "background_save": true
    },
    "id": "8a508ca9-52be-45eb-9daf-7503776da093"
   },
   "outputs": [],
   "source": [
    "data['JobOccupation'].replace(to_replace=8,\n",
    "           value=\"Service Occupations, Except Protective and Household\", inplace=True)"
   ]
  },
  {
   "cell_type": "code",
<<<<<<< HEAD
   "execution_count": 170,
=======
   "execution_count": null,
>>>>>>> fa68eca7d5bf1cb8f04a3b58cc0b694bf3308239
   "id": "42c73e4d-8534-4919-b000-ab7078bfde0b",
   "metadata": {
    "colab": {
     "background_save": true
    },
    "id": "42c73e4d-8534-4919-b000-ab7078bfde0b"
   },
   "outputs": [],
   "source": [
    "data['JobOccupation'].replace(to_replace=9,\n",
    "           value=\"Farm Operators and Managers\", inplace=True)"
   ]
  },
  {
   "cell_type": "code",
<<<<<<< HEAD
   "execution_count": 171,
=======
   "execution_count": null,
>>>>>>> fa68eca7d5bf1cb8f04a3b58cc0b694bf3308239
   "id": "f3e1c944-6f63-4a75-ab0a-842fee3fa195",
   "metadata": {
    "colab": {
     "background_save": true
    },
    "id": "f3e1c944-6f63-4a75-ab0a-842fee3fa195"
   },
   "outputs": [],
   "source": [
    "data['JobOccupation'].replace(to_replace=10,\n",
    "           value=\"Other Agricultural and Related Occupations\", inplace=True)"
   ]
  },
  {
   "cell_type": "code",
<<<<<<< HEAD
   "execution_count": 172,
=======
   "execution_count": null,
>>>>>>> fa68eca7d5bf1cb8f04a3b58cc0b694bf3308239
   "id": "f3e977cd-d0b1-4817-a3d7-6120eb187026",
   "metadata": {
    "colab": {
     "background_save": true
    },
    "id": "f3e977cd-d0b1-4817-a3d7-6120eb187026"
   },
   "outputs": [],
   "source": [
    "data['JobOccupation'].replace(to_replace=11,\n",
    "           value=\"Mechanics and Repairers Occupation\", inplace=True)"
   ]
  },
  {
   "cell_type": "code",
<<<<<<< HEAD
   "execution_count": 173,
=======
   "execution_count": null,
>>>>>>> fa68eca7d5bf1cb8f04a3b58cc0b694bf3308239
   "id": "284d7e5b-e5fa-49dc-b916-908c68a42983",
   "metadata": {
    "colab": {
     "background_save": true
    },
    "id": "284d7e5b-e5fa-49dc-b916-908c68a42983"
   },
   "outputs": [],
   "source": [
    "data['JobOccupation'].replace(to_replace=12,\n",
    "           value=\"Construction and Extractive Trades Occupation\", inplace=True)"
   ]
  },
  {
   "cell_type": "code",
<<<<<<< HEAD
   "execution_count": 174,
=======
   "execution_count": null,
>>>>>>> fa68eca7d5bf1cb8f04a3b58cc0b694bf3308239
   "id": "f2056bf0-276a-48af-a7d2-c27f4681999d",
   "metadata": {
    "colab": {
     "background_save": true
    },
    "id": "f2056bf0-276a-48af-a7d2-c27f4681999d"
   },
   "outputs": [],
   "source": [
    "data['JobOccupation'].replace(to_replace=13,\n",
    "           value=\"Precision Production Occupations\", inplace=True)"
   ]
  },
  {
   "cell_type": "code",
<<<<<<< HEAD
   "execution_count": 175,
=======
   "execution_count": null,
>>>>>>> fa68eca7d5bf1cb8f04a3b58cc0b694bf3308239
   "id": "b6d33bcd-d96b-45ac-8e6b-8009e947a0aa",
   "metadata": {
    "colab": {
     "background_save": true
    },
    "id": "b6d33bcd-d96b-45ac-8e6b-8009e947a0aa"
   },
   "outputs": [],
   "source": [
    "data['JobOccupation'].replace(to_replace=14,\n",
    "           value=\"Machine Operators, Assemblers, and Inspectors\", inplace=True)"
   ]
  },
  {
   "cell_type": "code",
<<<<<<< HEAD
   "execution_count": 176,
=======
   "execution_count": null,
>>>>>>> fa68eca7d5bf1cb8f04a3b58cc0b694bf3308239
   "id": "e38b4f0a-63b7-4263-b07a-e7d5e2c5682a",
   "metadata": {
    "colab": {
     "background_save": true
    },
    "id": "e38b4f0a-63b7-4263-b07a-e7d5e2c5682a"
   },
   "outputs": [],
   "source": [
    "data['JobOccupation'].replace(to_replace=15,\n",
    "           value=\"Transportation and Material Moving Occupations\", inplace=True)"
   ]
  },
  {
   "cell_type": "code",
<<<<<<< HEAD
   "execution_count": 177,
=======
   "execution_count": null,
>>>>>>> fa68eca7d5bf1cb8f04a3b58cc0b694bf3308239
   "id": "5eba6e03-276e-4fe8-bf0c-97c374ab4383",
   "metadata": {
    "colab": {
     "background_save": true
    },
    "id": "5eba6e03-276e-4fe8-bf0c-97c374ab4383"
   },
   "outputs": [],
   "source": [
    "data['JobOccupation'].replace(to_replace=16,\n",
    "           value=\"Military\", inplace=True)"
   ]
  },
  {
   "cell_type": "code",
<<<<<<< HEAD
   "execution_count": 178,
=======
   "execution_count": null,
>>>>>>> fa68eca7d5bf1cb8f04a3b58cc0b694bf3308239
   "id": "bd29a765-1217-4383-82a7-61be4fd7e646",
   "metadata": {
    "colab": {
     "background_save": true,
     "base_uri": "https://localhost:8080/"
    },
    "executionInfo": {
     "elapsed": 418,
     "status": "ok",
     "timestamp": 1665897292972,
     "user": {
      "displayName": "Derek Hu",
      "userId": "14137525769356790466"
     },
     "user_tz": 420
    },
    "id": "bd29a765-1217-4383-82a7-61be4fd7e646",
    "outputId": "0a8e4b1e-7421-4692-825a-dfc36f9171d2"
   },
   "outputs": [
    {
     "data": {
      "text/plain": [
       "Not_In_LaborForce                                        138429\n",
       "Professional Specialty Occupations                        15395\n",
       "Executive, Administrative, and Managerial Occupations     10767\n",
       "Service Occupations, Except Protective and Household      10140\n",
       "Administrative Support Occupations                         9827\n",
       "Sales Occupations                                          6790\n",
       "Machine Operators, Assemblers, and Inspectors              4177\n",
       "Transportation and Material Moving Occupations             3990\n",
       "Construction and Extractive Trades Occupation              3419\n",
       "Technicians and Related Support Occupations                2194\n",
       "Mechanics and Repairers Occupation                         2168\n",
       "Protective Service Occupations                             1388\n",
       "Other Agricultural and Related Occupations                 1232\n",
       "Precision Production Occupations                            933\n",
       "Military                                                    322\n",
       "Name: JobOccupation, dtype: int64"
      ]
     },
<<<<<<< HEAD
     "execution_count": 178,
=======
     "execution_count": 956,
>>>>>>> fa68eca7d5bf1cb8f04a3b58cc0b694bf3308239
     "metadata": {},
     "output_type": "execute_result"
    }
   ],
   "source": [
    "data['JobOccupation'].value_counts()"
   ]
  },
  {
<<<<<<< HEAD
   "cell_type": "code",
   "execution_count": 184,
   "id": "0450a14e-9ee8-4f98-ab39-5c6cbf0d0f5d",
   "metadata": {},
   "outputs": [
    {
     "data": {
      "text/html": [
       "<div>\n",
       "<style scoped>\n",
       "    .dataframe tbody tr th:only-of-type {\n",
       "        vertical-align: middle;\n",
       "    }\n",
       "\n",
       "    .dataframe tbody tr th {\n",
       "        vertical-align: top;\n",
       "    }\n",
       "\n",
       "    .dataframe thead th {\n",
       "        text-align: right;\n",
       "    }\n",
       "</style>\n",
       "<table border=\"1\" class=\"dataframe\">\n",
       "  <thead>\n",
       "    <tr style=\"text-align: right;\">\n",
       "      <th></th>\n",
       "      <th>JobOccupation</th>\n",
       "      <th>cancer_count</th>\n",
       "    </tr>\n",
       "  </thead>\n",
       "  <tbody>\n",
       "    <tr>\n",
       "      <th>0</th>\n",
       "      <td>Transportation and Material Moving Occupations</td>\n",
       "      <td>0</td>\n",
       "    </tr>\n",
       "    <tr>\n",
       "      <th>1</th>\n",
       "      <td>Not_In_LaborForce</td>\n",
       "      <td>0</td>\n",
       "    </tr>\n",
       "    <tr>\n",
       "      <th>2</th>\n",
       "      <td>Administrative Support Occupations</td>\n",
       "      <td>0</td>\n",
       "    </tr>\n",
       "    <tr>\n",
       "      <th>3</th>\n",
       "      <td>Construction and Extractive Trades Occupation</td>\n",
       "      <td>0</td>\n",
       "    </tr>\n",
       "    <tr>\n",
       "      <th>6</th>\n",
       "      <td>Professional Specialty Occupations</td>\n",
       "      <td>0</td>\n",
       "    </tr>\n",
       "    <tr>\n",
       "      <th>7</th>\n",
       "      <td>Not_In_LaborForce</td>\n",
       "      <td>0</td>\n",
       "    </tr>\n",
       "    <tr>\n",
       "      <th>8</th>\n",
       "      <td>Not_In_LaborForce</td>\n",
       "      <td>0</td>\n",
       "    </tr>\n",
       "    <tr>\n",
       "      <th>9</th>\n",
       "      <td>Not_In_LaborForce</td>\n",
       "      <td>0</td>\n",
       "    </tr>\n",
       "    <tr>\n",
       "      <th>10</th>\n",
       "      <td>Not_In_LaborForce</td>\n",
       "      <td>0</td>\n",
       "    </tr>\n",
       "    <tr>\n",
       "      <th>11</th>\n",
       "      <td>Not_In_LaborForce</td>\n",
       "      <td>0</td>\n",
       "    </tr>\n",
       "    <tr>\n",
       "      <th>12</th>\n",
       "      <td>Not_In_LaborForce</td>\n",
       "      <td>0</td>\n",
       "    </tr>\n",
       "    <tr>\n",
       "      <th>13</th>\n",
       "      <td>Not_In_LaborForce</td>\n",
       "      <td>0</td>\n",
       "    </tr>\n",
       "    <tr>\n",
       "      <th>14</th>\n",
       "      <td>Not_In_LaborForce</td>\n",
       "      <td>0</td>\n",
       "    </tr>\n",
       "    <tr>\n",
       "      <th>15</th>\n",
       "      <td>Not_In_LaborForce</td>\n",
       "      <td>0</td>\n",
       "    </tr>\n",
       "    <tr>\n",
       "      <th>16</th>\n",
       "      <td>Not_In_LaborForce</td>\n",
       "      <td>0</td>\n",
       "    </tr>\n",
       "    <tr>\n",
       "      <th>17</th>\n",
       "      <td>Not_In_LaborForce</td>\n",
       "      <td>0</td>\n",
       "    </tr>\n",
       "    <tr>\n",
       "      <th>18</th>\n",
       "      <td>Not_In_LaborForce</td>\n",
       "      <td>0</td>\n",
       "    </tr>\n",
       "    <tr>\n",
       "      <th>19</th>\n",
       "      <td>Service Occupations, Except Protective and Hou...</td>\n",
       "      <td>0</td>\n",
       "    </tr>\n",
       "    <tr>\n",
       "      <th>20</th>\n",
       "      <td>Not_In_LaborForce</td>\n",
       "      <td>0</td>\n",
       "    </tr>\n",
       "    <tr>\n",
       "      <th>23</th>\n",
       "      <td>Not_In_LaborForce</td>\n",
       "      <td>0</td>\n",
       "    </tr>\n",
       "  </tbody>\n",
       "</table>\n",
       "</div>"
      ],
      "text/plain": [
       "                                        JobOccupation  cancer_count\n",
       "0      Transportation and Material Moving Occupations             0\n",
       "1                                   Not_In_LaborForce             0\n",
       "2                  Administrative Support Occupations             0\n",
       "3       Construction and Extractive Trades Occupation             0\n",
       "6                  Professional Specialty Occupations             0\n",
       "7                                   Not_In_LaborForce             0\n",
       "8                                   Not_In_LaborForce             0\n",
       "9                                   Not_In_LaborForce             0\n",
       "10                                  Not_In_LaborForce             0\n",
       "11                                  Not_In_LaborForce             0\n",
       "12                                  Not_In_LaborForce             0\n",
       "13                                  Not_In_LaborForce             0\n",
       "14                                  Not_In_LaborForce             0\n",
       "15                                  Not_In_LaborForce             0\n",
       "16                                  Not_In_LaborForce             0\n",
       "17                                  Not_In_LaborForce             0\n",
       "18                                  Not_In_LaborForce             0\n",
       "19  Service Occupations, Except Protective and Hou...             0\n",
       "20                                  Not_In_LaborForce             0\n",
       "23                                  Not_In_LaborForce             0"
      ]
     },
     "execution_count": 184,
     "metadata": {},
     "output_type": "execute_result"
    }
   ],
   "source": [
    "data[['JobOccupation', 'cancer_count']].head(20)"
   ]
  },
  {
=======
>>>>>>> fa68eca7d5bf1cb8f04a3b58cc0b694bf3308239
   "cell_type": "markdown",
   "id": "cf5e3bde-970e-4239-b2b0-ef7604331127",
   "metadata": {
    "id": "cf5e3bde-970e-4239-b2b0-ef7604331127"
   },
   "source": [
    "***FSBALANC - Numerical***"
   ]
  },
  {
   "cell_type": "code",
<<<<<<< HEAD
   "execution_count": 177,
=======
   "execution_count": null,
>>>>>>> fa68eca7d5bf1cb8f04a3b58cc0b694bf3308239
   "id": "e983bac2-7657-4c3c-932d-1510b01bcff1",
   "metadata": {
    "colab": {
     "background_save": true
    },
    "id": "e983bac2-7657-4c3c-932d-1510b01bcff1"
   },
   "outputs": [],
   "source": [
    "#1                   Often True\n",
    "#2                   Sometimes true\n",
    "#3                   Never true\n",
    "#7                   Unknown-refused\n",
    "#8                   Unknown-not ascertained\n",
    "#9                   Unknown-don't know"
   ]
  },
  {
   "cell_type": "code",
<<<<<<< HEAD
   "execution_count": 178,
=======
   "execution_count": null,
>>>>>>> fa68eca7d5bf1cb8f04a3b58cc0b694bf3308239
   "id": "d5Jz1BDCR23I",
   "metadata": {
    "colab": {
     "background_save": true
    },
    "id": "d5Jz1BDCR23I"
   },
   "outputs": [],
   "source": [
    "#Balanced meals - Balanced meals, more consumption of fruits, vegetables lowers risk\n",
    "#Processed foods or red meat increased risks of cancer"
   ]
  },
  {
   "cell_type": "code",
<<<<<<< HEAD
   "execution_count": 179,
=======
   "execution_count": null,
>>>>>>> fa68eca7d5bf1cb8f04a3b58cc0b694bf3308239
   "id": "b5a6eb4c-d175-4987-8836-fe05d7a804ae",
   "metadata": {
    "colab": {
     "background_save": true,
     "base_uri": "https://localhost:8080/"
    },
    "executionInfo": {
     "elapsed": 407,
     "status": "ok",
     "timestamp": 1665897292973,
     "user": {
      "displayName": "Derek Hu",
      "userId": "14137525769356790466"
     },
     "user_tz": 420
    },
    "id": "b5a6eb4c-d175-4987-8836-fe05d7a804ae",
    "outputId": "acd9cdfb-ae00-4c20-b782-e037ffbaa4ae"
   },
   "outputs": [
    {
     "data": {
      "text/plain": [
       "3    189129\n",
       "2     15514\n",
       "1      6460\n",
       "9        54\n",
       "7        14\n",
       "Name: FSBALANC, dtype: int64"
      ]
     },
<<<<<<< HEAD
     "execution_count": 179,
=======
     "execution_count": 959,
>>>>>>> fa68eca7d5bf1cb8f04a3b58cc0b694bf3308239
     "metadata": {},
     "output_type": "execute_result"
    }
   ],
   "source": [
    "data['FSBALANC']. value_counts()"
   ]
  },
  {
   "cell_type": "code",
<<<<<<< HEAD
   "execution_count": 180,
=======
   "execution_count": null,
>>>>>>> fa68eca7d5bf1cb8f04a3b58cc0b694bf3308239
   "id": "fd4f922d-1a92-4aac-a506-afc5289b8320",
   "metadata": {
    "colab": {
     "background_save": true
    },
    "id": "fd4f922d-1a92-4aac-a506-afc5289b8320"
   },
   "outputs": [],
   "source": [
    "data['NoBalancedMeals_count'] = data.loc[:, 'FSBALANC']"
   ]
  },
  {
   "cell_type": "code",
<<<<<<< HEAD
   "execution_count": 181,
=======
   "execution_count": null,
>>>>>>> fa68eca7d5bf1cb8f04a3b58cc0b694bf3308239
   "id": "e8bb29e3-7447-477a-980b-d97ce8acf4f9",
   "metadata": {
    "colab": {
     "background_save": true
    },
    "id": "e8bb29e3-7447-477a-980b-d97ce8acf4f9"
   },
   "outputs": [],
   "source": [
    "data = data[data['NoBalancedMeals_count'] != 7]"
   ]
  },
  {
   "cell_type": "code",
<<<<<<< HEAD
   "execution_count": 182,
=======
   "execution_count": null,
>>>>>>> fa68eca7d5bf1cb8f04a3b58cc0b694bf3308239
   "id": "9cc5Ld4uyUdf",
   "metadata": {
    "colab": {
     "background_save": true
    },
    "id": "9cc5Ld4uyUdf"
   },
   "outputs": [],
   "source": [
    "data = data[data['NoBalancedMeals_count'] != 8]"
   ]
  },
  {
   "cell_type": "code",
<<<<<<< HEAD
   "execution_count": 183,
=======
   "execution_count": null,
>>>>>>> fa68eca7d5bf1cb8f04a3b58cc0b694bf3308239
   "id": "b17ce8fe-e478-40ac-9bc6-43649f08f410",
   "metadata": {
    "colab": {
     "background_save": true
    },
    "id": "b17ce8fe-e478-40ac-9bc6-43649f08f410"
   },
   "outputs": [],
   "source": [
    "data = data[data['NoBalancedMeals_count'] != 9]"
   ]
  },
  {
   "cell_type": "code",
<<<<<<< HEAD
   "execution_count": 184,
=======
   "execution_count": null,
>>>>>>> fa68eca7d5bf1cb8f04a3b58cc0b694bf3308239
   "id": "KD0PT3QuyYCV",
   "metadata": {
    "colab": {
     "background_save": true
    },
    "id": "KD0PT3QuyYCV"
   },
   "outputs": [],
   "source": [
    "#***FSBALANC - Categorical***"
   ]
  },
  {
   "cell_type": "code",
<<<<<<< HEAD
   "execution_count": 185,
=======
   "execution_count": null,
>>>>>>> fa68eca7d5bf1cb8f04a3b58cc0b694bf3308239
   "id": "RErcTPD9yb7y",
   "metadata": {
    "colab": {
     "background_save": true,
     "base_uri": "https://localhost:8080/"
    },
    "executionInfo": {
     "elapsed": 397,
     "status": "ok",
     "timestamp": 1665897292975,
     "user": {
      "displayName": "Derek Hu",
      "userId": "14137525769356790466"
     },
     "user_tz": 420
    },
    "id": "RErcTPD9yb7y",
    "outputId": "64183e7a-2302-4190-ffae-804abc157b8b"
   },
<<<<<<< HEAD
   "outputs": [],
=======
   "outputs": [
    {
     "name": "stderr",
     "output_type": "stream",
     "text": [
      "/usr/local/lib/python3.7/dist-packages/ipykernel_launcher.py:1: SettingWithCopyWarning: \n",
      "A value is trying to be set on a copy of a slice from a DataFrame.\n",
      "Try using .loc[row_indexer,col_indexer] = value instead\n",
      "\n",
      "See the caveats in the documentation: https://pandas.pydata.org/pandas-docs/stable/user_guide/indexing.html#returning-a-view-versus-a-copy\n",
      "  \"\"\"Entry point for launching an IPython kernel.\n"
     ]
    }
   ],
>>>>>>> fa68eca7d5bf1cb8f04a3b58cc0b694bf3308239
   "source": [
    "data['NoBalancedMeals'] = data.loc[:, 'NoBalancedMeals_count']"
   ]
  },
  {
   "cell_type": "code",
<<<<<<< HEAD
   "execution_count": 186,
=======
   "execution_count": null,
>>>>>>> fa68eca7d5bf1cb8f04a3b58cc0b694bf3308239
   "id": "h3njm-zQygua",
   "metadata": {
    "colab": {
     "background_save": true
    },
    "id": "h3njm-zQygua"
   },
   "outputs": [],
   "source": [
    "data['NoBalancedMeals'].replace(to_replace=1,\n",
    "           value='Often True', inplace=True)"
   ]
  },
  {
   "cell_type": "code",
<<<<<<< HEAD
   "execution_count": 187,
=======
   "execution_count": null,
>>>>>>> fa68eca7d5bf1cb8f04a3b58cc0b694bf3308239
   "id": "XeMpBCK6yngc",
   "metadata": {
    "colab": {
     "background_save": true
    },
    "id": "XeMpBCK6yngc"
   },
   "outputs": [],
   "source": [
    "data['NoBalancedMeals'].replace(to_replace=2,\n",
    "           value='Sometimes True', inplace=True)"
   ]
  },
  {
   "cell_type": "code",
<<<<<<< HEAD
   "execution_count": 188,
=======
   "execution_count": null,
>>>>>>> fa68eca7d5bf1cb8f04a3b58cc0b694bf3308239
   "id": "mkZbsjylyqrd",
   "metadata": {
    "colab": {
     "background_save": true
    },
    "id": "mkZbsjylyqrd"
   },
   "outputs": [],
   "source": [
    "data['NoBalancedMeals'].replace(to_replace=3,\n",
    "           value='Never True', inplace=True)"
   ]
  },
  {
   "cell_type": "code",
<<<<<<< HEAD
   "execution_count": 189,
=======
   "execution_count": null,
>>>>>>> fa68eca7d5bf1cb8f04a3b58cc0b694bf3308239
   "id": "nXQNkOGnyvg0",
   "metadata": {
    "colab": {
     "background_save": true,
     "base_uri": "https://localhost:8080/"
    },
    "executionInfo": {
     "elapsed": 386,
     "status": "ok",
     "timestamp": 1665897292975,
     "user": {
      "displayName": "Derek Hu",
      "userId": "14137525769356790466"
     },
     "user_tz": 420
    },
    "id": "nXQNkOGnyvg0",
    "outputId": "c5646351-fcca-477d-a24b-9b9bcdf7893d"
   },
   "outputs": [
    {
     "data": {
      "text/plain": [
       "Never True        189129\n",
       "Sometimes True     15514\n",
       "Often True          6460\n",
       "Name: NoBalancedMeals, dtype: int64"
      ]
     },
<<<<<<< HEAD
     "execution_count": 189,
=======
     "execution_count": 969,
>>>>>>> fa68eca7d5bf1cb8f04a3b58cc0b694bf3308239
     "metadata": {},
     "output_type": "execute_result"
    }
   ],
   "source": [
    "data['NoBalancedMeals']. value_counts()"
   ]
  },
  {
   "cell_type": "markdown",
   "id": "20341ef0-5807-4588-bc85-10075cf299c8",
   "metadata": {
    "id": "20341ef0-5807-4588-bc85-10075cf299c8"
   },
   "source": [
    "***OWNERSHIP - Categorical***"
   ]
  },
  {
   "cell_type": "code",
<<<<<<< HEAD
   "execution_count": 190,
=======
   "execution_count": null,
>>>>>>> fa68eca7d5bf1cb8f04a3b58cc0b694bf3308239
   "id": "d4528c11-5903-474b-afd7-2631d259ca7c",
   "metadata": {
    "colab": {
     "background_save": true
    },
    "id": "d4528c11-5903-474b-afd7-2631d259ca7c"
   },
   "outputs": [],
   "source": [
    "#00                  NIU\n",
    "#10                  Owned or being bought\n",
    "#11                  Owned\n",
    "#12                  Being bought\n",
    "#20                  Rented\n",
    "#30                  Other arrangement\n",
    "#40                  Rent free\n",
    "#97                  Unknown--refused\n",
    "#98                  Unknown--not ascertained\n",
    "#99                  Unknown--don't know"
   ]
  },
  {
   "cell_type": "code",
<<<<<<< HEAD
   "execution_count": 191,
=======
   "execution_count": null,
>>>>>>> fa68eca7d5bf1cb8f04a3b58cc0b694bf3308239
   "id": "0IE7_F9lSCHX",
   "metadata": {
    "colab": {
     "background_save": true
    },
    "id": "0IE7_F9lSCHX"
   },
   "outputs": [],
   "source": [
    "#Homeownership - cause is dubious "
   ]
  },
  {
   "cell_type": "code",
<<<<<<< HEAD
   "execution_count": 192,
=======
   "execution_count": null,
>>>>>>> fa68eca7d5bf1cb8f04a3b58cc0b694bf3308239
   "id": "1d4104ad-782f-4331-a4c8-5261fe08e112",
   "metadata": {
    "colab": {
     "background_save": true,
     "base_uri": "https://localhost:8080/"
    },
    "executionInfo": {
     "elapsed": 375,
     "status": "ok",
     "timestamp": 1665897292976,
     "user": {
      "displayName": "Derek Hu",
      "userId": "14137525769356790466"
     },
     "user_tz": 420
    },
    "id": "1d4104ad-782f-4331-a4c8-5261fe08e112",
    "outputId": "c54e6ae0-2fec-4268-d00a-a9a97fe961e0"
   },
   "outputs": [
    {
     "data": {
      "text/plain": [
       "10    140421\n",
       "20     65750\n",
       "30      4786\n",
       "97        64\n",
       "99        46\n",
       "98        36\n",
       "Name: OWNERSHIP, dtype: int64"
      ]
     },
<<<<<<< HEAD
     "execution_count": 192,
=======
     "execution_count": 972,
>>>>>>> fa68eca7d5bf1cb8f04a3b58cc0b694bf3308239
     "metadata": {},
     "output_type": "execute_result"
    }
   ],
   "source": [
    "data.OWNERSHIP.value_counts()"
   ]
  },
  {
   "cell_type": "code",
<<<<<<< HEAD
   "execution_count": 193,
=======
   "execution_count": null,
>>>>>>> fa68eca7d5bf1cb8f04a3b58cc0b694bf3308239
   "id": "521d1e88-1a24-4745-b736-c20c9dd5d2be",
   "metadata": {
    "colab": {
     "background_save": true,
     "base_uri": "https://localhost:8080/"
    },
    "executionInfo": {
     "elapsed": 365,
     "status": "ok",
     "timestamp": 1665897292976,
     "user": {
      "displayName": "Derek Hu",
      "userId": "14137525769356790466"
     },
     "user_tz": 420
    },
    "id": "521d1e88-1a24-4745-b736-c20c9dd5d2be",
    "outputId": "faaf9e17-2ce2-4571-988f-74f4c20d8f52"
   },
<<<<<<< HEAD
   "outputs": [],
=======
   "outputs": [
    {
     "name": "stderr",
     "output_type": "stream",
     "text": [
      "/usr/local/lib/python3.7/dist-packages/ipykernel_launcher.py:1: SettingWithCopyWarning: \n",
      "A value is trying to be set on a copy of a slice from a DataFrame.\n",
      "Try using .loc[row_indexer,col_indexer] = value instead\n",
      "\n",
      "See the caveats in the documentation: https://pandas.pydata.org/pandas-docs/stable/user_guide/indexing.html#returning-a-view-versus-a-copy\n",
      "  \"\"\"Entry point for launching an IPython kernel.\n"
     ]
    }
   ],
>>>>>>> fa68eca7d5bf1cb8f04a3b58cc0b694bf3308239
   "source": [
    "data['Ownership_home'] = data.loc[:, 'OWNERSHIP']"
   ]
  },
  {
   "cell_type": "code",
<<<<<<< HEAD
   "execution_count": 194,
=======
   "execution_count": null,
>>>>>>> fa68eca7d5bf1cb8f04a3b58cc0b694bf3308239
   "id": "d88a9d6e-e381-4466-b6b0-d589f1a28f29",
   "metadata": {
    "colab": {
     "background_save": true
    },
    "id": "d88a9d6e-e381-4466-b6b0-d589f1a28f29"
   },
   "outputs": [],
   "source": [
    "#delete 97, 98, and 99 because they are unknown values\n",
    "data = data[data['Ownership_home'] != 97]"
   ]
  },
  {
   "cell_type": "code",
<<<<<<< HEAD
   "execution_count": 195,
=======
   "execution_count": null,
>>>>>>> fa68eca7d5bf1cb8f04a3b58cc0b694bf3308239
   "id": "76a609ea-96b9-411b-bea7-677eeada71dc",
   "metadata": {
    "colab": {
     "background_save": true
    },
    "id": "76a609ea-96b9-411b-bea7-677eeada71dc"
   },
   "outputs": [],
   "source": [
    "data = data[data['Ownership_home'] != 98]"
   ]
  },
  {
   "cell_type": "code",
<<<<<<< HEAD
   "execution_count": 196,
=======
   "execution_count": null,
>>>>>>> fa68eca7d5bf1cb8f04a3b58cc0b694bf3308239
   "id": "0e948991-a7ea-4e44-ac8c-6f2a85e8aae1",
   "metadata": {
    "colab": {
     "background_save": true
    },
    "id": "0e948991-a7ea-4e44-ac8c-6f2a85e8aae1"
   },
   "outputs": [],
   "source": [
    "data = data[data['Ownership_home'] != 99]"
   ]
  },
  {
   "cell_type": "code",
<<<<<<< HEAD
   "execution_count": 197,
=======
   "execution_count": null,
>>>>>>> fa68eca7d5bf1cb8f04a3b58cc0b694bf3308239
   "id": "209168ec-c095-4dc2-b3ca-2e0946c5a27f",
   "metadata": {
    "colab": {
     "background_save": true
    },
    "id": "209168ec-c095-4dc2-b3ca-2e0946c5a27f"
   },
   "outputs": [],
   "source": [
    "#only want owned or rented\n",
    "data['Ownership_home'] = data['Ownership_home'].replace([10, 11, 12, 30], 1)"
   ]
  },
  {
   "cell_type": "code",
<<<<<<< HEAD
   "execution_count": 198,
=======
   "execution_count": null,
>>>>>>> fa68eca7d5bf1cb8f04a3b58cc0b694bf3308239
   "id": "c46e3a74-d5ef-42f5-8dd1-d5239920f7b2",
   "metadata": {
    "colab": {
     "background_save": true
    },
    "id": "c46e3a74-d5ef-42f5-8dd1-d5239920f7b2"
   },
   "outputs": [],
   "source": [
    "data['Ownership_home'] = data['Ownership_home'].replace([20, 40], 2)"
   ]
  },
  {
   "cell_type": "code",
<<<<<<< HEAD
   "execution_count": 199,
=======
   "execution_count": null,
>>>>>>> fa68eca7d5bf1cb8f04a3b58cc0b694bf3308239
   "id": "0f53a9fa-46bc-4884-8c76-4a34f243ec82",
   "metadata": {
    "colab": {
     "background_save": true
    },
    "id": "0f53a9fa-46bc-4884-8c76-4a34f243ec82"
   },
   "outputs": [],
   "source": [
    "data['Ownership_home'].replace(to_replace=1,\n",
    "           value=\"yes_ownership\", inplace=True)"
   ]
  },
  {
   "cell_type": "code",
<<<<<<< HEAD
   "execution_count": 200,
=======
   "execution_count": null,
>>>>>>> fa68eca7d5bf1cb8f04a3b58cc0b694bf3308239
   "id": "8bc5642c-a105-400c-8c93-766f1a7dd0d1",
   "metadata": {
    "colab": {
     "background_save": true
    },
    "id": "8bc5642c-a105-400c-8c93-766f1a7dd0d1"
   },
   "outputs": [],
   "source": [
    "data['Ownership_home'].replace(to_replace=2,\n",
    "           value=\"no_ownership\", inplace=True)"
   ]
  },
  {
   "cell_type": "code",
<<<<<<< HEAD
   "execution_count": 201,
=======
   "execution_count": null,
>>>>>>> fa68eca7d5bf1cb8f04a3b58cc0b694bf3308239
   "id": "abefbaad-8fa7-4965-b766-3180ca81edf9",
   "metadata": {
    "colab": {
     "background_save": true,
     "base_uri": "https://localhost:8080/"
    },
    "executionInfo": {
     "elapsed": 356,
     "status": "ok",
     "timestamp": 1665897292979,
     "user": {
      "displayName": "Derek Hu",
      "userId": "14137525769356790466"
     },
     "user_tz": 420
    },
    "id": "abefbaad-8fa7-4965-b766-3180ca81edf9",
    "outputId": "288ac67f-d733-4d69-e127-5e203e5b3e38"
   },
   "outputs": [
    {
     "data": {
      "text/plain": [
       "yes_ownership    145207\n",
       "no_ownership      65750\n",
       "Name: Ownership_home, dtype: int64"
      ]
     },
<<<<<<< HEAD
     "execution_count": 201,
=======
     "execution_count": 981,
>>>>>>> fa68eca7d5bf1cb8f04a3b58cc0b694bf3308239
     "metadata": {},
     "output_type": "execute_result"
    }
   ],
   "source": [
    "data['Ownership_home'].value_counts()"
   ]
  },
  {
   "cell_type": "markdown",
   "id": "a96e90fb-0db5-4b0a-9960-354c29ee36ee",
   "metadata": {
    "id": "a96e90fb-0db5-4b0a-9960-354c29ee36ee"
   },
   "source": [
    "***Ownership (Numerical)***"
   ]
  },
  {
   "cell_type": "code",
<<<<<<< HEAD
   "execution_count": 202,
=======
   "execution_count": null,
>>>>>>> fa68eca7d5bf1cb8f04a3b58cc0b694bf3308239
   "id": "305cdd36-0fe0-4045-9f0a-b80ea3da21bb",
   "metadata": {
    "colab": {
     "background_save": true
    },
    "id": "305cdd36-0fe0-4045-9f0a-b80ea3da21bb"
   },
   "outputs": [],
   "source": [
    "data['Ownership_home_count'] = data.loc[:, 'Ownership_home']"
   ]
  },
  {
   "cell_type": "code",
<<<<<<< HEAD
   "execution_count": 203,
=======
   "execution_count": null,
>>>>>>> fa68eca7d5bf1cb8f04a3b58cc0b694bf3308239
   "id": "9a6990ad-b073-4263-942c-e5cfac7eb9dd",
   "metadata": {
    "colab": {
     "background_save": true
    },
    "id": "9a6990ad-b073-4263-942c-e5cfac7eb9dd"
   },
   "outputs": [],
   "source": [
    "data['Ownership_home_count'].replace(to_replace=\"yes_ownership\",\n",
    "           value=1, inplace=True)"
   ]
  },
  {
   "cell_type": "code",
<<<<<<< HEAD
   "execution_count": 204,
=======
   "execution_count": null,
>>>>>>> fa68eca7d5bf1cb8f04a3b58cc0b694bf3308239
   "id": "8f3b08bc-a0be-4b36-b42e-fe5752875508",
   "metadata": {
    "colab": {
     "background_save": true
    },
    "id": "8f3b08bc-a0be-4b36-b42e-fe5752875508"
   },
   "outputs": [],
   "source": [
    "data['Ownership_home_count'].replace(to_replace=\"no_ownership\",\n",
    "           value=2, inplace=True)"
   ]
  },
  {
   "cell_type": "code",
<<<<<<< HEAD
   "execution_count": 205,
=======
   "execution_count": null,
>>>>>>> fa68eca7d5bf1cb8f04a3b58cc0b694bf3308239
   "id": "689af27b-5e63-4e10-a5df-915de2b659fa",
   "metadata": {
    "colab": {
     "background_save": true,
     "base_uri": "https://localhost:8080/"
    },
    "executionInfo": {
     "elapsed": 343,
     "status": "ok",
     "timestamp": 1665897292979,
     "user": {
      "displayName": "Derek Hu",
      "userId": "14137525769356790466"
     },
     "user_tz": 420
    },
    "id": "689af27b-5e63-4e10-a5df-915de2b659fa",
    "outputId": "059e1799-4801-40d2-a118-91bf31caa4d2"
   },
   "outputs": [
    {
     "data": {
      "text/plain": [
       "1    145207\n",
       "2     65750\n",
       "Name: Ownership_home_count, dtype: int64"
      ]
     },
<<<<<<< HEAD
     "execution_count": 205,
=======
     "execution_count": 985,
>>>>>>> fa68eca7d5bf1cb8f04a3b58cc0b694bf3308239
     "metadata": {},
     "output_type": "execute_result"
    }
   ],
   "source": [
    "data['Ownership_home_count'].value_counts()"
   ]
  },
  {
   "cell_type": "markdown",
   "id": "763a1108-94c9-4a92-b32e-2f4b150abdc1",
   "metadata": {
    "id": "763a1108-94c9-4a92-b32e-2f4b150abdc1"
   },
   "source": [
    "***CHOLHIGHEV- (Categorical)***"
   ]
  },
  {
   "cell_type": "code",
<<<<<<< HEAD
   "execution_count": 206,
=======
   "execution_count": null,
>>>>>>> fa68eca7d5bf1cb8f04a3b58cc0b694bf3308239
   "id": "f455a099-74ca-4504-b73d-98e195f2a5f1",
   "metadata": {
    "colab": {
     "background_save": true
    },
    "id": "f455a099-74ca-4504-b73d-98e195f2a5f1"
   },
   "outputs": [],
   "source": [
    "#0                   NIU\n",
    "#1                   No\n",
    "#2                   Yes\n",
    "#7                   Unknown-refused\n",
    "#8                   Unknown-not ascertained\n",
    "#9                   Unknown-don't know"
   ]
  },
  {
   "cell_type": "code",
<<<<<<< HEAD
   "execution_count": 207,
=======
   "execution_count": null,
>>>>>>> fa68eca7d5bf1cb8f04a3b58cc0b694bf3308239
   "id": "2fUnxCZtSFA4",
   "metadata": {
    "colab": {
     "background_save": true
    },
    "id": "2fUnxCZtSFA4"
   },
   "outputs": [],
   "source": [
    "#Cholestral has huge impact on cancer rates"
   ]
  },
  {
   "cell_type": "code",
<<<<<<< HEAD
   "execution_count": 208,
=======
   "execution_count": null,
>>>>>>> fa68eca7d5bf1cb8f04a3b58cc0b694bf3308239
   "id": "7142d2dc-1fad-415a-94e6-c3efedbe88c0",
   "metadata": {
    "colab": {
     "background_save": true,
     "base_uri": "https://localhost:8080/"
    },
    "executionInfo": {
     "elapsed": 333,
     "status": "ok",
     "timestamp": 1665897292980,
     "user": {
      "displayName": "Derek Hu",
      "userId": "14137525769356790466"
     },
     "user_tz": 420
    },
    "id": "7142d2dc-1fad-415a-94e6-c3efedbe88c0",
    "outputId": "e86a982a-0f27-4269-94d4-bd0ea1905590"
   },
   "outputs": [
    {
     "data": {
      "text/plain": [
       "0    135061\n",
       "1     52141\n",
       "2     23568\n",
       "9       160\n",
       "7        27\n",
       "Name: CHOLHIGHEV, dtype: int64"
      ]
     },
<<<<<<< HEAD
     "execution_count": 208,
=======
     "execution_count": 988,
>>>>>>> fa68eca7d5bf1cb8f04a3b58cc0b694bf3308239
     "metadata": {},
     "output_type": "execute_result"
    }
   ],
   "source": [
    "data['CHOLHIGHEV'].value_counts()"
   ]
  },
  {
   "cell_type": "code",
<<<<<<< HEAD
   "execution_count": 209,
=======
   "execution_count": null,
>>>>>>> fa68eca7d5bf1cb8f04a3b58cc0b694bf3308239
   "id": "8980ade9-8da8-4603-90a3-fd093b34aa62",
   "metadata": {
    "colab": {
     "background_save": true
    },
    "id": "8980ade9-8da8-4603-90a3-fd093b34aa62"
   },
   "outputs": [],
   "source": [
    "data['highchol'] = data.loc[:, 'CHOLHIGHEV']"
   ]
  },
  {
   "cell_type": "code",
<<<<<<< HEAD
   "execution_count": 210,
=======
   "execution_count": null,
>>>>>>> fa68eca7d5bf1cb8f04a3b58cc0b694bf3308239
   "id": "bdc4957a-b59f-4255-9531-06d3a716bfb6",
   "metadata": {
    "colab": {
     "background_save": true
    },
    "id": "bdc4957a-b59f-4255-9531-06d3a716bfb6"
   },
   "outputs": [],
   "source": [
    "data['highchol'].replace(to_replace=[0, 1],\n",
    "           value=\"No_highchol\", inplace=True)"
   ]
  },
  {
   "cell_type": "code",
<<<<<<< HEAD
   "execution_count": 211,
=======
   "execution_count": null,
>>>>>>> fa68eca7d5bf1cb8f04a3b58cc0b694bf3308239
   "id": "73058c27-08dc-48fe-ac8e-6f06c77bf952",
   "metadata": {
    "colab": {
     "background_save": true
    },
    "id": "73058c27-08dc-48fe-ac8e-6f06c77bf952"
   },
   "outputs": [],
   "source": [
    "data['highchol'].replace(to_replace=2,\n",
    "           value=\"highchol\", inplace=True)"
   ]
  },
  {
   "cell_type": "code",
<<<<<<< HEAD
   "execution_count": 212,
=======
   "execution_count": null,
>>>>>>> fa68eca7d5bf1cb8f04a3b58cc0b694bf3308239
   "id": "fd4a9125-a2c4-4fd0-934b-592a65833136",
   "metadata": {
    "id": "fd4a9125-a2c4-4fd0-934b-592a65833136"
   },
   "outputs": [],
   "source": [
    "data = data[data['highchol'] != 7]"
   ]
  },
  {
   "cell_type": "code",
<<<<<<< HEAD
   "execution_count": 213,
=======
   "execution_count": null,
>>>>>>> fa68eca7d5bf1cb8f04a3b58cc0b694bf3308239
   "id": "29efa1e2-c77d-45e9-941e-8356618b2664",
   "metadata": {
    "id": "29efa1e2-c77d-45e9-941e-8356618b2664"
   },
   "outputs": [],
   "source": [
    "data = data[data['highchol'] != 9]"
   ]
  },
  {
   "cell_type": "code",
<<<<<<< HEAD
   "execution_count": 214,
=======
   "execution_count": null,
>>>>>>> fa68eca7d5bf1cb8f04a3b58cc0b694bf3308239
   "id": "10da68c7-328b-4fef-8d43-00fcee974c8e",
   "metadata": {
    "colab": {
     "base_uri": "https://localhost:8080/"
    },
    "executionInfo": {
     "elapsed": 323,
     "status": "ok",
     "timestamp": 1665897292981,
     "user": {
      "displayName": "Derek Hu",
      "userId": "14137525769356790466"
     },
     "user_tz": 420
    },
    "id": "10da68c7-328b-4fef-8d43-00fcee974c8e",
    "outputId": "c0a3ef97-ca26-4108-e4dd-e02d1fae496c"
   },
   "outputs": [
    {
     "data": {
      "text/plain": [
       "No_highchol    187202\n",
       "highchol        23568\n",
       "Name: highchol, dtype: int64"
      ]
     },
<<<<<<< HEAD
     "execution_count": 214,
=======
     "execution_count": 994,
>>>>>>> fa68eca7d5bf1cb8f04a3b58cc0b694bf3308239
     "metadata": {},
     "output_type": "execute_result"
    }
   ],
   "source": [
    "data['highchol'].value_counts()"
   ]
  },
  {
   "cell_type": "markdown",
   "id": "feff17e9-d959-47f1-ae0c-9be7405a7961",
   "metadata": {
    "id": "feff17e9-d959-47f1-ae0c-9be7405a7961"
   },
   "source": [
    "***CHOLMEDNOW - (Numerical)***"
   ]
  },
  {
   "cell_type": "code",
<<<<<<< HEAD
   "execution_count": 215,
=======
   "execution_count": null,
>>>>>>> fa68eca7d5bf1cb8f04a3b58cc0b694bf3308239
   "id": "fcab22ca-05f7-479e-8251-73e933784a42",
   "metadata": {
    "colab": {
     "base_uri": "https://localhost:8080/"
    },
    "executionInfo": {
     "elapsed": 314,
     "status": "ok",
     "timestamp": 1665897292982,
     "user": {
      "displayName": "Derek Hu",
      "userId": "14137525769356790466"
     },
     "user_tz": 420
    },
    "id": "fcab22ca-05f7-479e-8251-73e933784a42",
    "outputId": "f1307668-a1b5-4d8f-9c68-be1e6f4c3724"
   },
<<<<<<< HEAD
   "outputs": [],
=======
   "outputs": [
    {
     "name": "stderr",
     "output_type": "stream",
     "text": [
      "/usr/local/lib/python3.7/dist-packages/ipykernel_launcher.py:1: SettingWithCopyWarning: \n",
      "A value is trying to be set on a copy of a slice from a DataFrame.\n",
      "Try using .loc[row_indexer,col_indexer] = value instead\n",
      "\n",
      "See the caveats in the documentation: https://pandas.pydata.org/pandas-docs/stable/user_guide/indexing.html#returning-a-view-versus-a-copy\n",
      "  \"\"\"Entry point for launching an IPython kernel.\n"
     ]
    }
   ],
>>>>>>> fa68eca7d5bf1cb8f04a3b58cc0b694bf3308239
   "source": [
    "data['highchol_count'] = data.loc[:, 'highchol']"
   ]
  },
  {
   "cell_type": "code",
<<<<<<< HEAD
   "execution_count": 216,
=======
   "execution_count": null,
>>>>>>> fa68eca7d5bf1cb8f04a3b58cc0b694bf3308239
   "id": "6f04463a-ee1f-43b0-ace0-87a0c914d8d6",
   "metadata": {
    "id": "6f04463a-ee1f-43b0-ace0-87a0c914d8d6"
   },
   "outputs": [],
   "source": [
    "data['highchol_count'].replace(to_replace=\"No_highchol\",\n",
    "           value=0, inplace=True)"
   ]
  },
  {
   "cell_type": "code",
<<<<<<< HEAD
   "execution_count": 217,
=======
   "execution_count": null,
>>>>>>> fa68eca7d5bf1cb8f04a3b58cc0b694bf3308239
   "id": "88a27c11-0d71-4a9c-aba7-3ad377467277",
   "metadata": {
    "id": "88a27c11-0d71-4a9c-aba7-3ad377467277"
   },
   "outputs": [],
   "source": [
    "data['highchol_count'].replace(to_replace=\"highchol\",\n",
    "           value=1, inplace=True)"
   ]
  },
  {
   "cell_type": "code",
<<<<<<< HEAD
   "execution_count": 218,
=======
   "execution_count": null,
>>>>>>> fa68eca7d5bf1cb8f04a3b58cc0b694bf3308239
   "id": "e75e65e0-8135-472c-9f3b-990b8bacb46a",
   "metadata": {
    "colab": {
     "base_uri": "https://localhost:8080/"
    },
    "executionInfo": {
     "elapsed": 303,
     "status": "ok",
     "timestamp": 1665897292982,
     "user": {
      "displayName": "Derek Hu",
      "userId": "14137525769356790466"
     },
     "user_tz": 420
    },
    "id": "e75e65e0-8135-472c-9f3b-990b8bacb46a",
    "outputId": "20c3d5b1-027a-4d72-b0ab-78a363ecfb64"
   },
   "outputs": [
    {
     "data": {
      "text/plain": [
       "0    187202\n",
       "1     23568\n",
       "Name: highchol_count, dtype: int64"
      ]
     },
<<<<<<< HEAD
     "execution_count": 218,
=======
     "execution_count": 998,
>>>>>>> fa68eca7d5bf1cb8f04a3b58cc0b694bf3308239
     "metadata": {},
     "output_type": "execute_result"
    }
   ],
   "source": [
    "data['highchol_count'].value_counts()"
   ]
  },
  {
   "cell_type": "markdown",
   "id": "764855ec-31b4-4726-ab6a-2ac9daf783c7",
   "metadata": {
    "id": "764855ec-31b4-4726-ab6a-2ac9daf783c7"
   },
   "source": [
    "***WORMEDBILL - Categorical***"
   ]
  },
  {
   "cell_type": "code",
<<<<<<< HEAD
   "execution_count": 219,
=======
   "execution_count": null,
>>>>>>> fa68eca7d5bf1cb8f04a3b58cc0b694bf3308239
   "id": "51219256-4616-4319-9854-db64a66c4a1a",
   "metadata": {
    "id": "51219256-4616-4319-9854-db64a66c4a1a"
   },
   "outputs": [],
   "source": [
    "#0                   NIU\n",
    "#1                   Very worried\n",
    "#2                   Somewhat worried\n",
    "#3                   Not at all worried\n",
    "#7                   Unknown-refused\n",
    "#8                   Unknown-not ascertained\n",
    "#9                   Unknown-don't know"
   ]
  },
  {
   "cell_type": "code",
<<<<<<< HEAD
   "execution_count": 220,
=======
   "execution_count": null,
>>>>>>> fa68eca7d5bf1cb8f04a3b58cc0b694bf3308239
   "id": "z5N8_eAaSKFi",
   "metadata": {
    "id": "z5N8_eAaSKFi"
   },
   "outputs": [],
   "source": [
    "#Stress levels - potentially change hormone levels causing increased cancer risk"
   ]
  },
  {
   "cell_type": "code",
<<<<<<< HEAD
   "execution_count": 222,
=======
   "execution_count": null,
   "id": "936ef463-d961-4c37-bd0e-eeaa6b7d23f1",
   "metadata": {
    "colab": {
     "base_uri": "https://localhost:8080/"
    },
    "executionInfo": {
     "elapsed": 294,
     "status": "ok",
     "timestamp": 1665897292983,
     "user": {
      "displayName": "Derek Hu",
      "userId": "14137525769356790466"
     },
     "user_tz": 420
    },
    "id": "936ef463-d961-4c37-bd0e-eeaa6b7d23f1",
    "outputId": "ac3a16a8-e5b9-4c8d-e7c7-a7df2a5808a0"
   },
   "outputs": [
    {
     "data": {
      "text/plain": [
       "0    135061\n",
       "3     42947\n",
       "2     21976\n",
       "1     10145\n",
       "8       536\n",
       "9        90\n",
       "7        15\n",
       "Name: WORMEDBILL, dtype: int64"
      ]
     },
     "execution_count": 1001,
     "metadata": {},
     "output_type": "execute_result"
    }
   ],
   "source": [
    "data['WORMEDBILL'].value_counts()"
   ]
  },
  {
   "cell_type": "code",
   "execution_count": null,
>>>>>>> fa68eca7d5bf1cb8f04a3b58cc0b694bf3308239
   "id": "6d18ea89-58e1-4566-970b-96aa71af88a1",
   "metadata": {
    "id": "6d18ea89-58e1-4566-970b-96aa71af88a1"
   },
   "outputs": [],
   "source": [
    "data['worrymedbills'] = data.loc[:, 'WORMEDBILL']"
   ]
  },
  {
   "cell_type": "code",
<<<<<<< HEAD
   "execution_count": 223,
=======
   "execution_count": null,
>>>>>>> fa68eca7d5bf1cb8f04a3b58cc0b694bf3308239
   "id": "ad24b4d7-7e12-41c3-bbfa-fbb9b8eeea25",
   "metadata": {
    "id": "ad24b4d7-7e12-41c3-bbfa-fbb9b8eeea25"
   },
   "outputs": [],
   "source": [
    "data['worrymedbills'].replace(to_replace=[0, 3],\n",
    "           value=\"not_worried_medbills\", inplace=True)"
   ]
  },
  {
   "cell_type": "code",
<<<<<<< HEAD
   "execution_count": 224,
=======
   "execution_count": null,
>>>>>>> fa68eca7d5bf1cb8f04a3b58cc0b694bf3308239
   "id": "33595da8-52ab-4707-b30a-5c4027b9a3c5",
   "metadata": {
    "id": "33595da8-52ab-4707-b30a-5c4027b9a3c5"
   },
   "outputs": [],
   "source": [
    "data['worrymedbills'].replace(to_replace=2,\n",
    "           value=\"somewhat_worried_medbills\", inplace=True)"
   ]
  },
  {
   "cell_type": "code",
<<<<<<< HEAD
   "execution_count": 225,
=======
   "execution_count": null,
>>>>>>> fa68eca7d5bf1cb8f04a3b58cc0b694bf3308239
   "id": "0732a062-83d0-49e2-b520-98d704fa86c0",
   "metadata": {
    "id": "0732a062-83d0-49e2-b520-98d704fa86c0"
   },
   "outputs": [],
   "source": [
    "data['worrymedbills'].replace(to_replace=1,\n",
    "           value=\"very_worried_medbills\", inplace=True)"
   ]
  },
  {
   "cell_type": "code",
<<<<<<< HEAD
   "execution_count": 226,
=======
   "execution_count": null,
>>>>>>> fa68eca7d5bf1cb8f04a3b58cc0b694bf3308239
   "id": "9d578850-01b4-435e-9cef-cd4d4bed3ede",
   "metadata": {
    "id": "9d578850-01b4-435e-9cef-cd4d4bed3ede"
   },
   "outputs": [],
   "source": [
    "data = data[data['worrymedbills'] != 7]"
   ]
  },
  {
   "cell_type": "code",
<<<<<<< HEAD
   "execution_count": 227,
=======
   "execution_count": null,
>>>>>>> fa68eca7d5bf1cb8f04a3b58cc0b694bf3308239
   "id": "b966a8f0-17cf-4c1e-a34c-ed55c00b13ed",
   "metadata": {
    "id": "b966a8f0-17cf-4c1e-a34c-ed55c00b13ed"
   },
   "outputs": [],
   "source": [
    "data = data[data['worrymedbills'] != 8]"
   ]
  },
  {
   "cell_type": "code",
<<<<<<< HEAD
   "execution_count": 228,
=======
   "execution_count": null,
>>>>>>> fa68eca7d5bf1cb8f04a3b58cc0b694bf3308239
   "id": "4a8f8463-b51d-4c53-babf-2c2119e7dc53",
   "metadata": {
    "id": "4a8f8463-b51d-4c53-babf-2c2119e7dc53"
   },
   "outputs": [],
   "source": [
    "data = data[data['worrymedbills'] != 9]"
   ]
  },
  {
   "cell_type": "code",
<<<<<<< HEAD
   "execution_count": 229,
=======
   "execution_count": null,
>>>>>>> fa68eca7d5bf1cb8f04a3b58cc0b694bf3308239
   "id": "c59e4956-1e1d-4c49-9f44-7314fd13e286",
   "metadata": {
    "colab": {
     "base_uri": "https://localhost:8080/"
    },
    "executionInfo": {
     "elapsed": 287,
     "status": "ok",
     "timestamp": 1665897292988,
     "user": {
      "displayName": "Derek Hu",
      "userId": "14137525769356790466"
     },
     "user_tz": 420
    },
    "id": "c59e4956-1e1d-4c49-9f44-7314fd13e286",
    "outputId": "9cbe23b5-72a3-4aa0-ebf9-0797d25ad037"
   },
   "outputs": [
    {
     "data": {
      "text/plain": [
       "not_worried_medbills         178008\n",
       "somewhat_worried_medbills     21976\n",
       "very_worried_medbills         10145\n",
       "Name: worrymedbills, dtype: int64"
      ]
     },
<<<<<<< HEAD
     "execution_count": 229,
=======
     "execution_count": 1009,
>>>>>>> fa68eca7d5bf1cb8f04a3b58cc0b694bf3308239
     "metadata": {},
     "output_type": "execute_result"
    }
   ],
   "source": [
    "data['worrymedbills'].value_counts()"
   ]
  },
  {
   "cell_type": "markdown",
   "id": "de871ed4-6463-4b61-82da-716644a79cea",
   "metadata": {
    "id": "de871ed4-6463-4b61-82da-716644a79cea"
   },
   "source": [
    "***Worry_MedBills (Numerical))***"
   ]
  },
  {
   "cell_type": "code",
<<<<<<< HEAD
   "execution_count": 230,
=======
   "execution_count": null,
>>>>>>> fa68eca7d5bf1cb8f04a3b58cc0b694bf3308239
   "id": "03542e6a-1f27-4c5d-aaef-f2784a38d35a",
   "metadata": {
    "colab": {
     "base_uri": "https://localhost:8080/"
    },
    "executionInfo": {
     "elapsed": 278,
     "status": "ok",
     "timestamp": 1665897292989,
     "user": {
      "displayName": "Derek Hu",
      "userId": "14137525769356790466"
     },
     "user_tz": 420
    },
    "id": "03542e6a-1f27-4c5d-aaef-f2784a38d35a",
    "outputId": "100f3997-4d36-4f6d-bc66-6beccd895153"
   },
<<<<<<< HEAD
   "outputs": [],
=======
   "outputs": [
    {
     "name": "stderr",
     "output_type": "stream",
     "text": [
      "/usr/local/lib/python3.7/dist-packages/ipykernel_launcher.py:1: SettingWithCopyWarning: \n",
      "A value is trying to be set on a copy of a slice from a DataFrame.\n",
      "Try using .loc[row_indexer,col_indexer] = value instead\n",
      "\n",
      "See the caveats in the documentation: https://pandas.pydata.org/pandas-docs/stable/user_guide/indexing.html#returning-a-view-versus-a-copy\n",
      "  \"\"\"Entry point for launching an IPython kernel.\n"
     ]
    }
   ],
>>>>>>> fa68eca7d5bf1cb8f04a3b58cc0b694bf3308239
   "source": [
    "data['worrymedbills_count'] = data.loc[:, 'worrymedbills']"
   ]
  },
  {
   "cell_type": "code",
<<<<<<< HEAD
   "execution_count": 231,
=======
   "execution_count": null,
>>>>>>> fa68eca7d5bf1cb8f04a3b58cc0b694bf3308239
   "id": "87752848-4034-4572-a716-61b9ec1a1c3c",
   "metadata": {
    "id": "87752848-4034-4572-a716-61b9ec1a1c3c"
   },
   "outputs": [],
   "source": [
    "data['worrymedbills_count'].replace(to_replace=\"very_worried_medbills\",\n",
    "           value=0, inplace=True)"
   ]
  },
  {
   "cell_type": "code",
<<<<<<< HEAD
   "execution_count": 232,
=======
   "execution_count": null,
>>>>>>> fa68eca7d5bf1cb8f04a3b58cc0b694bf3308239
   "id": "83646362-1915-465b-a670-141ce46338aa",
   "metadata": {
    "id": "83646362-1915-465b-a670-141ce46338aa"
   },
   "outputs": [],
   "source": [
    "data['worrymedbills_count'].replace(to_replace=\"somewhat_worried_medbills\",\n",
    "           value=1, inplace=True)"
   ]
  },
  {
   "cell_type": "code",
<<<<<<< HEAD
   "execution_count": 233,
=======
   "execution_count": null,
>>>>>>> fa68eca7d5bf1cb8f04a3b58cc0b694bf3308239
   "id": "dfe26d78-8898-4f23-8de3-60c1bfb5ac3a",
   "metadata": {
    "id": "dfe26d78-8898-4f23-8de3-60c1bfb5ac3a"
   },
   "outputs": [],
   "source": [
    "data['worrymedbills_count'].replace(to_replace=\"not_worried_medbills\",\n",
    "           value=2, inplace=True)"
   ]
  },
  {
   "cell_type": "code",
<<<<<<< HEAD
   "execution_count": 234,
=======
   "execution_count": null,
>>>>>>> fa68eca7d5bf1cb8f04a3b58cc0b694bf3308239
   "id": "e3e8c0be-b67c-47e3-8a0f-099283a2628b",
   "metadata": {
    "colab": {
     "base_uri": "https://localhost:8080/"
    },
    "executionInfo": {
     "elapsed": 265,
     "status": "ok",
     "timestamp": 1665897292990,
     "user": {
      "displayName": "Derek Hu",
      "userId": "14137525769356790466"
     },
     "user_tz": 420
    },
    "id": "e3e8c0be-b67c-47e3-8a0f-099283a2628b",
    "outputId": "b29e0259-9976-4d25-964e-232ff96125a0"
   },
   "outputs": [
    {
     "data": {
      "text/plain": [
       "2    178008\n",
       "1     21976\n",
       "0     10145\n",
       "Name: worrymedbills_count, dtype: int64"
      ]
     },
<<<<<<< HEAD
     "execution_count": 234,
=======
     "execution_count": 1014,
>>>>>>> fa68eca7d5bf1cb8f04a3b58cc0b694bf3308239
     "metadata": {},
     "output_type": "execute_result"
    }
   ],
   "source": [
    "data['worrymedbills_count'].value_counts()"
   ]
  },
  {
   "cell_type": "markdown",
   "id": "83356dac-e5ce-4a87-8763-1e292b39db76",
   "metadata": {
    "id": "83356dac-e5ce-4a87-8763-1e292b39db76"
   },
   "source": [
    "***INSULIN - (Categorical)***"
   ]
  },
  {
   "cell_type": "code",
<<<<<<< HEAD
   "execution_count": 235,
=======
   "execution_count": null,
>>>>>>> fa68eca7d5bf1cb8f04a3b58cc0b694bf3308239
   "id": "a66d123f-102e-4873-b10f-b79149d19d0a",
   "metadata": {
    "id": "a66d123f-102e-4873-b10f-b79149d19d0a"
   },
   "outputs": [],
   "source": [
    "#0                   NIU\n",
    "#1                   No\n",
    "#2                   Yes\n",
    "#7                   Unknown-refused\n",
    "#8                   Unknown-not ascertained\n",
    "#9                   Unknown-don't know"
   ]
  },
  {
   "cell_type": "code",
<<<<<<< HEAD
   "execution_count": 236,
=======
   "execution_count": null,
>>>>>>> fa68eca7d5bf1cb8f04a3b58cc0b694bf3308239
   "id": "WPPhaGnLSRMJ",
   "metadata": {
    "id": "WPPhaGnLSRMJ"
   },
   "outputs": [],
   "source": [
    "#Insulin - could be correlated to diabetes which causes increased cancer risks"
   ]
  },
  {
   "cell_type": "code",
<<<<<<< HEAD
   "execution_count": 237,
=======
   "execution_count": null,
>>>>>>> fa68eca7d5bf1cb8f04a3b58cc0b694bf3308239
   "id": "60261e69-7455-49bf-9be7-4e9b5811ea77",
   "metadata": {
    "colab": {
     "base_uri": "https://localhost:8080/"
    },
    "executionInfo": {
     "elapsed": 254,
     "status": "ok",
     "timestamp": 1665897292990,
     "user": {
      "displayName": "Derek Hu",
      "userId": "14137525769356790466"
     },
     "user_tz": 420
    },
    "id": "60261e69-7455-49bf-9be7-4e9b5811ea77",
    "outputId": "dd97bf76-fa2a-409a-8404-deb77f3d7c71"
   },
   "outputs": [
    {
     "data": {
      "text/plain": [
       "0    196377\n",
       "1     11204\n",
       "2      2543\n",
       "9         5\n",
       "Name: INSULIN, dtype: int64"
      ]
     },
<<<<<<< HEAD
     "execution_count": 237,
=======
     "execution_count": 1017,
>>>>>>> fa68eca7d5bf1cb8f04a3b58cc0b694bf3308239
     "metadata": {},
     "output_type": "execute_result"
    }
   ],
   "source": [
    "data['INSULIN'].value_counts()"
   ]
  },
  {
   "cell_type": "code",
<<<<<<< HEAD
   "execution_count": 238,
=======
   "execution_count": null,
>>>>>>> fa68eca7d5bf1cb8f04a3b58cc0b694bf3308239
   "id": "f539eb9d-bd0b-4283-ab0e-e978deb555fd",
   "metadata": {
    "id": "f539eb9d-bd0b-4283-ab0e-e978deb555fd"
   },
   "outputs": [],
   "source": [
    "data['insulin'] = data.loc[:, 'INSULIN']"
   ]
  },
  {
   "cell_type": "code",
<<<<<<< HEAD
   "execution_count": 239,
=======
   "execution_count": null,
>>>>>>> fa68eca7d5bf1cb8f04a3b58cc0b694bf3308239
   "id": "55fd3622-d77e-4df2-99b4-5f34e0e4e71e",
   "metadata": {
    "id": "55fd3622-d77e-4df2-99b4-5f34e0e4e71e"
   },
   "outputs": [],
   "source": [
    "data['insulin'].replace(to_replace=[0, 1],\n",
    "           value=\"No_Insulin\", inplace=True)"
   ]
  },
  {
   "cell_type": "code",
<<<<<<< HEAD
   "execution_count": 240,
=======
   "execution_count": null,
>>>>>>> fa68eca7d5bf1cb8f04a3b58cc0b694bf3308239
   "id": "473e4b68-cbfb-4aab-a76a-ab63bf5d16ac",
   "metadata": {
    "id": "473e4b68-cbfb-4aab-a76a-ab63bf5d16ac"
   },
   "outputs": [],
   "source": [
    "data['insulin'].replace(to_replace=2,\n",
    "           value=\"Yes_Insulin\", inplace=True)"
   ]
  },
  {
   "cell_type": "code",
<<<<<<< HEAD
   "execution_count": 241,
=======
   "execution_count": null,
>>>>>>> fa68eca7d5bf1cb8f04a3b58cc0b694bf3308239
   "id": "cbf88825-bf79-499f-b6ec-f32d0e594193",
   "metadata": {
    "id": "cbf88825-bf79-499f-b6ec-f32d0e594193"
   },
   "outputs": [],
   "source": [
    "data = data[data['insulin'] != 7]"
   ]
  },
  {
   "cell_type": "code",
<<<<<<< HEAD
   "execution_count": 242,
=======
   "execution_count": null,
>>>>>>> fa68eca7d5bf1cb8f04a3b58cc0b694bf3308239
   "id": "d8ca4a2a-c622-41d6-9a0c-2e23374fa2c6",
   "metadata": {
    "id": "d8ca4a2a-c622-41d6-9a0c-2e23374fa2c6"
   },
   "outputs": [],
   "source": [
    "data = data[data['insulin'] != 8]"
   ]
  },
  {
   "cell_type": "code",
<<<<<<< HEAD
   "execution_count": 243,
=======
   "execution_count": null,
>>>>>>> fa68eca7d5bf1cb8f04a3b58cc0b694bf3308239
   "id": "e7939922-a282-4b2e-8422-a1ea9b29e2ea",
   "metadata": {
    "id": "e7939922-a282-4b2e-8422-a1ea9b29e2ea"
   },
   "outputs": [],
   "source": [
    "data = data[data['insulin'] != 9]"
   ]
  },
  {
   "cell_type": "code",
<<<<<<< HEAD
   "execution_count": 244,
=======
   "execution_count": null,
>>>>>>> fa68eca7d5bf1cb8f04a3b58cc0b694bf3308239
   "id": "c79b5601-2078-45cc-af15-0035dc48d399",
   "metadata": {
    "colab": {
     "base_uri": "https://localhost:8080/"
    },
    "executionInfo": {
     "elapsed": 245,
     "status": "ok",
     "timestamp": 1665897292992,
     "user": {
      "displayName": "Derek Hu",
      "userId": "14137525769356790466"
     },
     "user_tz": 420
    },
    "id": "c79b5601-2078-45cc-af15-0035dc48d399",
    "outputId": "c2c652fb-661f-425e-b4cd-8ca45d2775a5"
   },
   "outputs": [
    {
     "data": {
      "text/plain": [
       "No_Insulin     207581\n",
       "Yes_Insulin      2543\n",
       "Name: insulin, dtype: int64"
      ]
     },
<<<<<<< HEAD
     "execution_count": 244,
=======
     "execution_count": 1024,
>>>>>>> fa68eca7d5bf1cb8f04a3b58cc0b694bf3308239
     "metadata": {},
     "output_type": "execute_result"
    }
   ],
   "source": [
    "data['insulin'].value_counts()"
   ]
  },
  {
   "cell_type": "markdown",
   "id": "756714a6-64cc-4eb1-9b50-66f45b2d8913",
   "metadata": {
    "id": "756714a6-64cc-4eb1-9b50-66f45b2d8913"
   },
   "source": [
    "***INSULIN - (Numerical)***"
   ]
  },
  {
   "cell_type": "code",
<<<<<<< HEAD
   "execution_count": 245,
=======
   "execution_count": null,
>>>>>>> fa68eca7d5bf1cb8f04a3b58cc0b694bf3308239
   "id": "b84e5681-d28f-4a8c-b817-495c08082b00",
   "metadata": {
    "id": "b84e5681-d28f-4a8c-b817-495c08082b00"
   },
   "outputs": [],
   "source": [
    "data['insulin_count'] = data.loc[:, 'insulin']"
   ]
  },
  {
   "cell_type": "code",
<<<<<<< HEAD
   "execution_count": 246,
=======
   "execution_count": null,
>>>>>>> fa68eca7d5bf1cb8f04a3b58cc0b694bf3308239
   "id": "105bc45c-d604-446f-a3e2-60df2e3fc3d5",
   "metadata": {
    "id": "105bc45c-d604-446f-a3e2-60df2e3fc3d5"
   },
   "outputs": [],
   "source": [
    "data['insulin_count'].replace(to_replace=\"No_Insulin\",\n",
    "           value=0, inplace=True)"
   ]
  },
  {
   "cell_type": "code",
<<<<<<< HEAD
   "execution_count": 247,
=======
   "execution_count": null,
>>>>>>> fa68eca7d5bf1cb8f04a3b58cc0b694bf3308239
   "id": "3498f974-1d93-4b28-bf2b-6367d2e9ce4c",
   "metadata": {
    "id": "3498f974-1d93-4b28-bf2b-6367d2e9ce4c"
   },
   "outputs": [],
   "source": [
    "data['insulin_count'].replace(to_replace=\"Yes_Insulin\",\n",
    "           value=1, inplace=True)"
   ]
  },
  {
   "cell_type": "code",
<<<<<<< HEAD
   "execution_count": 248,
=======
   "execution_count": null,
>>>>>>> fa68eca7d5bf1cb8f04a3b58cc0b694bf3308239
   "id": "8596ecf5-9cc7-4bea-84a2-a5fc6fce7ce7",
   "metadata": {
    "colab": {
     "base_uri": "https://localhost:8080/"
    },
    "executionInfo": {
     "elapsed": 236,
     "status": "ok",
     "timestamp": 1665897292993,
     "user": {
      "displayName": "Derek Hu",
      "userId": "14137525769356790466"
     },
     "user_tz": 420
    },
    "id": "8596ecf5-9cc7-4bea-84a2-a5fc6fce7ce7",
    "outputId": "99294d71-fc42-40b4-cb5a-5c832aaa1134"
   },
   "outputs": [
    {
     "data": {
      "text/plain": [
       "0    207581\n",
       "1      2543\n",
       "Name: insulin_count, dtype: int64"
      ]
     },
<<<<<<< HEAD
     "execution_count": 248,
=======
     "execution_count": 1028,
>>>>>>> fa68eca7d5bf1cb8f04a3b58cc0b694bf3308239
     "metadata": {},
     "output_type": "execute_result"
    }
   ],
   "source": [
    "data['insulin_count'].value_counts()"
   ]
  },
  {
   "cell_type": "markdown",
   "id": "4bf71f22-4f74-46f4-a695-cb7bead0fdd7",
   "metadata": {
    "id": "4bf71f22-4f74-46f4-a695-cb7bead0fdd7"
   },
   "source": [
    "***FSSTATDET - (Category)***"
   ]
  },
  {
   "cell_type": "code",
<<<<<<< HEAD
   "execution_count": 249,
=======
   "execution_count": null,
>>>>>>> fa68eca7d5bf1cb8f04a3b58cc0b694bf3308239
   "id": "7114c967-a129-4158-9f8a-08a2a1150951",
   "metadata": {
    "id": "7114c967-a129-4158-9f8a-08a2a1150951"
   },
   "outputs": [],
   "source": [
    "#1                   High food security (raw score 0)\n",
    "#2                   Marginal food security (raw score 1-2)\n",
    "#3                   Low food security (raw score 3-5)\n",
    "#4                   Very low food security (raw score 6-10)\n",
    "#9                   Unknown"
   ]
  },
  {
   "cell_type": "code",
<<<<<<< HEAD
   "execution_count": 250,
=======
   "execution_count": null,
>>>>>>> fa68eca7d5bf1cb8f04a3b58cc0b694bf3308239
   "id": "iQtj3oSDSUte",
   "metadata": {
    "id": "iQtj3oSDSUte"
   },
   "outputs": [],
   "source": [
    "#Food security - does not affect cancer rates"
   ]
  },
  {
   "cell_type": "code",
<<<<<<< HEAD
   "execution_count": 251,
=======
   "execution_count": null,
>>>>>>> fa68eca7d5bf1cb8f04a3b58cc0b694bf3308239
   "id": "a1d58204-6131-41c6-abc9-1a527680638d",
   "metadata": {
    "id": "a1d58204-6131-41c6-abc9-1a527680638d"
   },
   "outputs": [],
   "source": [
    "data['foodsecurity'] = data.loc[:, 'FSSTATDET']"
   ]
  },
  {
   "cell_type": "code",
<<<<<<< HEAD
   "execution_count": 252,
=======
   "execution_count": null,
>>>>>>> fa68eca7d5bf1cb8f04a3b58cc0b694bf3308239
   "id": "1b62e2ef-364f-426e-8261-12eed2303679",
   "metadata": {
    "id": "1b62e2ef-364f-426e-8261-12eed2303679"
   },
   "outputs": [],
   "source": [
    "data['foodsecurity'].replace(to_replace=1,\n",
    "           value=\"High_food_security\", inplace=True)"
   ]
  },
  {
   "cell_type": "code",
<<<<<<< HEAD
   "execution_count": 253,
=======
   "execution_count": null,
>>>>>>> fa68eca7d5bf1cb8f04a3b58cc0b694bf3308239
   "id": "21a6b264-6749-41f9-af31-a458b5bb34ee",
   "metadata": {
    "id": "21a6b264-6749-41f9-af31-a458b5bb34ee"
   },
   "outputs": [],
   "source": [
    "data['foodsecurity'].replace(to_replace=2,\n",
    "           value=\"Marginal_food_security\", inplace=True)"
   ]
  },
  {
   "cell_type": "code",
<<<<<<< HEAD
   "execution_count": 254,
=======
   "execution_count": null,
>>>>>>> fa68eca7d5bf1cb8f04a3b58cc0b694bf3308239
   "id": "8b50b371-1510-46c3-a733-d9b1910c7a89",
   "metadata": {
    "id": "8b50b371-1510-46c3-a733-d9b1910c7a89"
   },
   "outputs": [],
   "source": [
    "data['foodsecurity'].replace(to_replace=3,\n",
    "           value=\"Low_food_security\", inplace=True)"
   ]
  },
  {
   "cell_type": "code",
<<<<<<< HEAD
   "execution_count": 255,
=======
   "execution_count": null,
>>>>>>> fa68eca7d5bf1cb8f04a3b58cc0b694bf3308239
   "id": "33b05605-ff97-47fd-972d-410db84dff6c",
   "metadata": {
    "id": "33b05605-ff97-47fd-972d-410db84dff6c"
   },
   "outputs": [],
   "source": [
    "data['foodsecurity'].replace(to_replace=4,\n",
    "           value=\"Very_low_food_security\", inplace=True)"
   ]
  },
  {
   "cell_type": "code",
<<<<<<< HEAD
   "execution_count": 256,
=======
   "execution_count": null,
>>>>>>> fa68eca7d5bf1cb8f04a3b58cc0b694bf3308239
   "id": "d2244422-f951-47a1-8df1-43b23e2711da",
   "metadata": {
    "id": "d2244422-f951-47a1-8df1-43b23e2711da"
   },
   "outputs": [],
   "source": [
    "data = data[data['foodsecurity'] != 9]"
   ]
  },
  {
   "cell_type": "code",
<<<<<<< HEAD
   "execution_count": 257,
=======
   "execution_count": null,
>>>>>>> fa68eca7d5bf1cb8f04a3b58cc0b694bf3308239
   "id": "28859562-d8d9-4594-897c-2b8004ccc066",
   "metadata": {
    "colab": {
     "base_uri": "https://localhost:8080/"
    },
    "executionInfo": {
     "elapsed": 227,
     "status": "ok",
     "timestamp": 1665897292995,
     "user": {
      "displayName": "Derek Hu",
      "userId": "14137525769356790466"
     },
     "user_tz": 420
    },
    "id": "28859562-d8d9-4594-897c-2b8004ccc066",
    "outputId": "149017f7-1d16-4c95-8523-843af0dd5a89"
   },
   "outputs": [
    {
     "data": {
      "text/plain": [
       "High_food_security        174952\n",
       "Marginal_food_security     15461\n",
       "Low_food_security          11066\n",
       "Very_low_food_security      8645\n",
       "Name: foodsecurity, dtype: int64"
      ]
     },
<<<<<<< HEAD
     "execution_count": 257,
=======
     "execution_count": 1037,
>>>>>>> fa68eca7d5bf1cb8f04a3b58cc0b694bf3308239
     "metadata": {},
     "output_type": "execute_result"
    }
   ],
   "source": [
    "data['foodsecurity'].value_counts()"
   ]
  },
  {
   "cell_type": "markdown",
   "id": "05f234b0-2ab6-4b84-9f19-d130e6c319c7",
   "metadata": {
    "id": "05f234b0-2ab6-4b84-9f19-d130e6c319c7"
   },
   "source": [
    "***Food Security (Numerical)***"
   ]
  },
  {
   "cell_type": "code",
<<<<<<< HEAD
   "execution_count": 258,
=======
   "execution_count": null,
>>>>>>> fa68eca7d5bf1cb8f04a3b58cc0b694bf3308239
   "id": "3c319476-682e-468c-a7ea-e7c5fc83f576",
   "metadata": {
    "id": "3c319476-682e-468c-a7ea-e7c5fc83f576"
   },
   "outputs": [],
   "source": [
    "data['foodsecurity_count'] = data.loc[:, 'foodsecurity']"
   ]
  },
  {
   "cell_type": "code",
<<<<<<< HEAD
   "execution_count": 259,
=======
   "execution_count": null,
>>>>>>> fa68eca7d5bf1cb8f04a3b58cc0b694bf3308239
   "id": "aed041d5-4b39-47bb-b559-6b74d8fa0d09",
   "metadata": {
    "id": "aed041d5-4b39-47bb-b559-6b74d8fa0d09"
   },
   "outputs": [],
   "source": [
    "data['foodsecurity_count'].replace(to_replace=\"High_food_security\",\n",
    "           value=1, inplace=True)"
   ]
  },
  {
   "cell_type": "code",
<<<<<<< HEAD
   "execution_count": 260,
=======
   "execution_count": null,
>>>>>>> fa68eca7d5bf1cb8f04a3b58cc0b694bf3308239
   "id": "c67154d1-8b53-4634-9071-1dd77626ed70",
   "metadata": {
    "id": "c67154d1-8b53-4634-9071-1dd77626ed70"
   },
   "outputs": [],
   "source": [
    "data['foodsecurity_count'].replace(to_replace=\"Marginal_food_security\",\n",
    "           value=2, inplace=True)"
   ]
  },
  {
   "cell_type": "code",
<<<<<<< HEAD
   "execution_count": 261,
=======
   "execution_count": null,
>>>>>>> fa68eca7d5bf1cb8f04a3b58cc0b694bf3308239
   "id": "99a77e23-ccd2-47dc-a62d-bad617ae3eab",
   "metadata": {
    "id": "99a77e23-ccd2-47dc-a62d-bad617ae3eab"
   },
   "outputs": [],
   "source": [
    "data['foodsecurity_count'].replace(to_replace=\"Low_food_security\",\n",
    "           value=3, inplace=True)"
   ]
  },
  {
   "cell_type": "code",
<<<<<<< HEAD
   "execution_count": 262,
=======
   "execution_count": null,
>>>>>>> fa68eca7d5bf1cb8f04a3b58cc0b694bf3308239
   "id": "a920d04e-4c26-45fb-bbb8-32d974321618",
   "metadata": {
    "id": "a920d04e-4c26-45fb-bbb8-32d974321618"
   },
   "outputs": [],
   "source": [
    "data['foodsecurity_count'].replace(to_replace=\"Very_low_food_security\",\n",
    "           value=4, inplace=True)"
   ]
  },
  {
   "cell_type": "code",
<<<<<<< HEAD
   "execution_count": 263,
=======
   "execution_count": null,
>>>>>>> fa68eca7d5bf1cb8f04a3b58cc0b694bf3308239
   "id": "cc23acda-b6a1-4726-be94-78e9e019a33f",
   "metadata": {
    "colab": {
     "base_uri": "https://localhost:8080/"
    },
    "executionInfo": {
     "elapsed": 218,
     "status": "ok",
     "timestamp": 1665897292997,
     "user": {
      "displayName": "Derek Hu",
      "userId": "14137525769356790466"
     },
     "user_tz": 420
    },
    "id": "cc23acda-b6a1-4726-be94-78e9e019a33f",
    "outputId": "a04205fd-3ec9-41a2-cd0e-8e3f82fd4957"
   },
   "outputs": [
    {
     "data": {
      "text/plain": [
       "1    174952\n",
       "2     15461\n",
       "3     11066\n",
       "4      8645\n",
       "Name: foodsecurity_count, dtype: int64"
      ]
     },
<<<<<<< HEAD
     "execution_count": 263,
=======
     "execution_count": 1043,
>>>>>>> fa68eca7d5bf1cb8f04a3b58cc0b694bf3308239
     "metadata": {},
     "output_type": "execute_result"
    }
   ],
   "source": [
    "data['foodsecurity_count'].value_counts()"
   ]
  },
  {
   "cell_type": "code",
<<<<<<< HEAD
   "execution_count": 264,
=======
   "execution_count": null,
>>>>>>> fa68eca7d5bf1cb8f04a3b58cc0b694bf3308239
   "id": "J7cGg9yZqQiS",
   "metadata": {
    "id": "J7cGg9yZqQiS"
   },
   "outputs": [],
   "source": [
    "#***RACENEW (Categorical)***"
   ]
  },
  {
   "cell_type": "code",
<<<<<<< HEAD
   "execution_count": 265,
=======
   "execution_count": null,
>>>>>>> fa68eca7d5bf1cb8f04a3b58cc0b694bf3308239
   "id": "XBiemnGjqZZM",
   "metadata": {
    "id": "XBiemnGjqZZM"
   },
   "outputs": [],
   "source": [
    "#100                 White only\n",
    "#200                 Black/African American only\n",
    "#300                 American Indian/Alaska Native only\n",
    "#400                 Asian only\n",
    "#500                 Other Race and Multiple Race\n",
    "#510                 Other Race and Multiple Race (2019-forward: Excluding American Indian/Alaska"
   ]
  },
  {
   "cell_type": "code",
<<<<<<< HEAD
   "execution_count": 266,
=======
   "execution_count": null,
>>>>>>> fa68eca7d5bf1cb8f04a3b58cc0b694bf3308239
   "id": "Msx3VzhCqfel",
   "metadata": {
    "id": "Msx3VzhCqfel"
   },
   "outputs": [],
   "source": [
    "data['race'] = data.loc[:, 'RACENEW']"
   ]
  },
  {
   "cell_type": "code",
<<<<<<< HEAD
   "execution_count": 267,
=======
   "execution_count": null,
>>>>>>> fa68eca7d5bf1cb8f04a3b58cc0b694bf3308239
   "id": "J3djXHh_qm1T",
   "metadata": {
    "id": "J3djXHh_qm1T"
   },
   "outputs": [],
   "source": [
    "data['race'].replace(to_replace=100,\n",
    "           value=\"White\", inplace=True)"
   ]
  },
  {
   "cell_type": "code",
<<<<<<< HEAD
   "execution_count": 268,
=======
   "execution_count": null,
>>>>>>> fa68eca7d5bf1cb8f04a3b58cc0b694bf3308239
   "id": "ojbs_N5l2qJm",
   "metadata": {
    "id": "ojbs_N5l2qJm"
   },
   "outputs": [],
   "source": [
    "data['race'].replace(to_replace=200,\n",
    "           value=\"Black\", inplace=True)"
   ]
  },
  {
   "cell_type": "code",
<<<<<<< HEAD
   "execution_count": 269,
=======
   "execution_count": null,
>>>>>>> fa68eca7d5bf1cb8f04a3b58cc0b694bf3308239
   "id": "brI__JoH2snQ",
   "metadata": {
    "id": "brI__JoH2snQ"
   },
   "outputs": [],
   "source": [
    "data['race'].replace(to_replace=300,\n",
    "           value=\"Native-American\", inplace=True)"
   ]
  },
  {
   "cell_type": "code",
<<<<<<< HEAD
   "execution_count": 270,
=======
   "execution_count": null,
>>>>>>> fa68eca7d5bf1cb8f04a3b58cc0b694bf3308239
   "id": "X861I6GV2wSm",
   "metadata": {
    "id": "X861I6GV2wSm"
   },
   "outputs": [],
   "source": [
    "data['race'].replace(to_replace=400,\n",
    "           value=\"Asian\", inplace=True)"
   ]
  },
  {
   "cell_type": "code",
<<<<<<< HEAD
   "execution_count": 271,
=======
   "execution_count": null,
>>>>>>> fa68eca7d5bf1cb8f04a3b58cc0b694bf3308239
   "id": "DqmBg-xP2zeX",
   "metadata": {
    "id": "DqmBg-xP2zeX"
   },
   "outputs": [],
   "source": [
    "data['race'].replace(to_replace=[500, 541, 530],\n",
    "           value=\"Other_Races\", inplace=True)"
   ]
  },
  {
   "cell_type": "code",
<<<<<<< HEAD
   "execution_count": 272,
=======
   "execution_count": null,
>>>>>>> fa68eca7d5bf1cb8f04a3b58cc0b694bf3308239
   "id": "ZI_gTPrf223Z",
   "metadata": {
    "colab": {
     "base_uri": "https://localhost:8080/"
    },
    "executionInfo": {
     "elapsed": 209,
     "status": "ok",
     "timestamp": 1665897292999,
     "user": {
      "displayName": "Derek Hu",
      "userId": "14137525769356790466"
     },
     "user_tz": 420
    },
    "id": "ZI_gTPrf223Z",
    "outputId": "36034c03-83ea-4da7-fc48-12e6aec42d19"
   },
   "outputs": [
    {
     "data": {
      "text/plain": [
       "White              165716\n",
       "Black               22793\n",
       "Asian               12015\n",
       "Other_Races          6794\n",
       "Native-American      2806\n",
       "Name: race, dtype: int64"
      ]
     },
<<<<<<< HEAD
     "execution_count": 272,
=======
     "execution_count": 1052,
>>>>>>> fa68eca7d5bf1cb8f04a3b58cc0b694bf3308239
     "metadata": {},
     "output_type": "execute_result"
    }
   ],
   "source": [
    "data['race'].value_counts()"
   ]
  },
  {
   "cell_type": "code",
<<<<<<< HEAD
   "execution_count": 273,
=======
   "execution_count": null,
>>>>>>> fa68eca7d5bf1cb8f04a3b58cc0b694bf3308239
   "id": "uOswlicz25JB",
   "metadata": {
    "id": "uOswlicz25JB"
   },
   "outputs": [],
   "source": [
    "#RACENEW (Numerical)"
   ]
  },
  {
   "cell_type": "code",
<<<<<<< HEAD
   "execution_count": 274,
=======
   "execution_count": null,
>>>>>>> fa68eca7d5bf1cb8f04a3b58cc0b694bf3308239
   "id": "K89WDamG28Qb",
   "metadata": {
    "id": "K89WDamG28Qb"
   },
   "outputs": [],
   "source": [
    "data['race_count'] = data.loc[:, 'race']"
   ]
  },
  {
   "cell_type": "code",
<<<<<<< HEAD
   "execution_count": 275,
=======
   "execution_count": null,
>>>>>>> fa68eca7d5bf1cb8f04a3b58cc0b694bf3308239
   "id": "XsaQp7Np3Hxw",
   "metadata": {
    "id": "XsaQp7Np3Hxw"
   },
   "outputs": [],
   "source": [
    "data['race_count'].replace(to_replace='White',\n",
    "           value=1, inplace=True)"
   ]
  },
  {
   "cell_type": "code",
<<<<<<< HEAD
   "execution_count": 276,
=======
   "execution_count": null,
>>>>>>> fa68eca7d5bf1cb8f04a3b58cc0b694bf3308239
   "id": "pmxeZkbt3LBQ",
   "metadata": {
    "id": "pmxeZkbt3LBQ"
   },
   "outputs": [],
   "source": [
    "data['race_count'].replace(to_replace='Black',\n",
    "           value=2, inplace=True)"
   ]
  },
  {
   "cell_type": "code",
<<<<<<< HEAD
   "execution_count": 277,
=======
   "execution_count": null,
>>>>>>> fa68eca7d5bf1cb8f04a3b58cc0b694bf3308239
   "id": "EvkgBP2s3Nw9",
   "metadata": {
    "id": "EvkgBP2s3Nw9"
   },
   "outputs": [],
   "source": [
    "data['race_count'].replace(to_replace='Native-American',\n",
    "           value=3, inplace=True)"
   ]
  },
  {
   "cell_type": "code",
<<<<<<< HEAD
   "execution_count": 278,
=======
   "execution_count": null,
>>>>>>> fa68eca7d5bf1cb8f04a3b58cc0b694bf3308239
   "id": "7CC7R0B4gYz5",
   "metadata": {
    "id": "7CC7R0B4gYz5"
   },
   "outputs": [],
   "source": [
    "data['race_count'].replace(to_replace='Asian',\n",
    "           value=4, inplace=True)"
   ]
  },
  {
   "cell_type": "code",
<<<<<<< HEAD
   "execution_count": 279,
=======
   "execution_count": null,
>>>>>>> fa68eca7d5bf1cb8f04a3b58cc0b694bf3308239
   "id": "lrVBls-igd-G",
   "metadata": {
    "id": "lrVBls-igd-G"
   },
   "outputs": [],
   "source": [
    "data['race_count'].replace(to_replace='Other_Races',\n",
    "           value=5, inplace=True)"
   ]
  },
  {
   "cell_type": "code",
<<<<<<< HEAD
   "execution_count": 280,
=======
   "execution_count": null,
>>>>>>> fa68eca7d5bf1cb8f04a3b58cc0b694bf3308239
   "id": "ISuvRVSG3XDW",
   "metadata": {
    "colab": {
     "base_uri": "https://localhost:8080/"
    },
    "executionInfo": {
     "elapsed": 199,
     "status": "ok",
     "timestamp": 1665897293001,
     "user": {
      "displayName": "Derek Hu",
      "userId": "14137525769356790466"
     },
     "user_tz": 420
    },
    "id": "ISuvRVSG3XDW",
    "outputId": "895af03e-bd51-44f6-ecae-8c8f8e4e9ade"
   },
   "outputs": [
    {
     "data": {
      "text/plain": [
       "1    165716\n",
       "2     22793\n",
       "4     12015\n",
       "5      6794\n",
       "3      2806\n",
       "Name: race_count, dtype: int64"
      ]
     },
<<<<<<< HEAD
     "execution_count": 280,
=======
     "execution_count": 1060,
>>>>>>> fa68eca7d5bf1cb8f04a3b58cc0b694bf3308239
     "metadata": {},
     "output_type": "execute_result"
    }
   ],
   "source": [
    "data['race_count'].value_counts()"
   ]
  },
  {
   "cell_type": "code",
<<<<<<< HEAD
   "execution_count": 281,
=======
   "execution_count": null,
>>>>>>> fa68eca7d5bf1cb8f04a3b58cc0b694bf3308239
   "id": "L8RuTPdk3tdI",
   "metadata": {
    "id": "L8RuTPdk3tdI"
   },
   "outputs": [],
   "source": [
    "#WELFMO (Categorical)"
   ]
  },
  {
   "cell_type": "code",
<<<<<<< HEAD
   "execution_count": 282,
=======
   "execution_count": null,
>>>>>>> fa68eca7d5bf1cb8f04a3b58cc0b694bf3308239
   "id": "NKG7dHR_32vx",
   "metadata": {
    "id": "NKG7dHR_32vx"
   },
   "outputs": [],
   "source": [
    "#00                  NIU\n",
    "#01                  1 month\n",
    "#02                  2 months\n",
    "#03                  3 months\n",
    "#04                  4 months\n",
    "#05                  5 months\n",
    "#06                  6 months\n",
    "#07                  7 months\n",
    "#08                  8 months\n",
    "#09                  9 months\n",
    "#10                  10 months\n",
    "#11                  11 months\n",
    "#12                  12 months\n",
    "#97                  Unknown-refused\n",
    "#98                  Unknown-not ascertained\n",
    "#99                  Unknown-don't know"
   ]
  },
  {
   "cell_type": "code",
<<<<<<< HEAD
   "execution_count": 283,
=======
   "execution_count": null,
>>>>>>> fa68eca7d5bf1cb8f04a3b58cc0b694bf3308239
   "id": "MQg8fNS5Sa8Y",
   "metadata": {
    "id": "MQg8fNS5Sa8Y"
   },
   "outputs": [],
   "source": [
    "#Welfare - linked to lower food quality, more processed foods due to budget constraints"
   ]
  },
  {
   "cell_type": "code",
<<<<<<< HEAD
   "execution_count": 284,
=======
   "execution_count": null,
>>>>>>> fa68eca7d5bf1cb8f04a3b58cc0b694bf3308239
   "id": "jFeM3AQq39Ng",
   "metadata": {
    "id": "jFeM3AQq39Ng"
   },
   "outputs": [],
   "source": [
    "data['Welfare'] = data.loc[:, 'WELFMO']"
   ]
  },
  {
   "cell_type": "code",
<<<<<<< HEAD
   "execution_count": 285,
=======
   "execution_count": null,
>>>>>>> fa68eca7d5bf1cb8f04a3b58cc0b694bf3308239
   "id": "O_7v6FEA4hjU",
   "metadata": {
    "colab": {
     "base_uri": "https://localhost:8080/"
    },
    "executionInfo": {
     "elapsed": 190,
     "status": "ok",
     "timestamp": 1665897293002,
     "user": {
      "displayName": "Derek Hu",
      "userId": "14137525769356790466"
     },
     "user_tz": 420
    },
    "id": "O_7v6FEA4hjU",
    "outputId": "adb3f1ce-afc1-42dc-e7ff-ade31753fe35"
   },
   "outputs": [
    {
     "data": {
      "text/plain": [
       "0     208188\n",
       "12      1137\n",
       "1        210\n",
       "2        130\n",
       "3         93\n",
       "6         79\n",
       "4         63\n",
       "5         55\n",
       "99        46\n",
       "10        39\n",
       "9         32\n",
       "8         19\n",
       "7         12\n",
       "11         8\n",
       "97         8\n",
       "98         5\n",
       "Name: Welfare, dtype: int64"
      ]
     },
<<<<<<< HEAD
     "execution_count": 285,
=======
     "execution_count": 1065,
>>>>>>> fa68eca7d5bf1cb8f04a3b58cc0b694bf3308239
     "metadata": {},
     "output_type": "execute_result"
    }
   ],
   "source": [
    "data['Welfare'].value_counts()"
   ]
  },
  {
   "cell_type": "code",
<<<<<<< HEAD
   "execution_count": 286,
=======
   "execution_count": null,
>>>>>>> fa68eca7d5bf1cb8f04a3b58cc0b694bf3308239
   "id": "wdWRfGsw4Bc0",
   "metadata": {
    "id": "wdWRfGsw4Bc0"
   },
   "outputs": [],
   "source": [
    "data['Welfare'].replace(to_replace=0,\n",
    "           value='Not_Welfare', inplace=True)"
   ]
  },
  {
   "cell_type": "code",
<<<<<<< HEAD
   "execution_count": 287,
=======
   "execution_count": null,
>>>>>>> fa68eca7d5bf1cb8f04a3b58cc0b694bf3308239
   "id": "tL4DE98F4JEe",
   "metadata": {
    "id": "tL4DE98F4JEe"
   },
   "outputs": [],
   "source": [
    "data['Welfare'].replace(to_replace=[1, 2, 3, 4, 5, 6, 7, 8, 9, 10, 11, 12],\n",
    "           value='On_Welfare', inplace=True)"
   ]
  },
  {
   "cell_type": "code",
<<<<<<< HEAD
   "execution_count": 288,
=======
   "execution_count": null,
>>>>>>> fa68eca7d5bf1cb8f04a3b58cc0b694bf3308239
   "id": "rIhm2Xmo4PZb",
   "metadata": {
    "id": "rIhm2Xmo4PZb"
   },
   "outputs": [],
   "source": [
    "data = data[data['Welfare'] != 97]"
   ]
  },
  {
   "cell_type": "code",
<<<<<<< HEAD
   "execution_count": 289,
=======
   "execution_count": null,
>>>>>>> fa68eca7d5bf1cb8f04a3b58cc0b694bf3308239
   "id": "HevHIlyU4wB7",
   "metadata": {
    "id": "HevHIlyU4wB7"
   },
   "outputs": [],
   "source": [
    "data = data[data['Welfare'] != 98]"
   ]
  },
  {
   "cell_type": "code",
<<<<<<< HEAD
   "execution_count": 290,
=======
   "execution_count": null,
>>>>>>> fa68eca7d5bf1cb8f04a3b58cc0b694bf3308239
   "id": "Ers6qLnA4x2_",
   "metadata": {
    "id": "Ers6qLnA4x2_"
   },
   "outputs": [],
   "source": [
    "data = data[data['Welfare'] != 99]"
   ]
  },
  {
   "cell_type": "code",
<<<<<<< HEAD
   "execution_count": 291,
=======
   "execution_count": null,
>>>>>>> fa68eca7d5bf1cb8f04a3b58cc0b694bf3308239
   "id": "znXgo8zL4y1m",
   "metadata": {
    "colab": {
     "base_uri": "https://localhost:8080/"
    },
    "executionInfo": {
     "elapsed": 181,
     "status": "ok",
     "timestamp": 1665897293004,
     "user": {
      "displayName": "Derek Hu",
      "userId": "14137525769356790466"
     },
     "user_tz": 420
    },
    "id": "znXgo8zL4y1m",
    "outputId": "1190200b-7678-48f8-be68-b6e195940719"
   },
   "outputs": [
    {
     "data": {
      "text/plain": [
       "Not_Welfare    208188\n",
       "On_Welfare       1877\n",
       "Name: Welfare, dtype: int64"
      ]
     },
<<<<<<< HEAD
     "execution_count": 291,
=======
     "execution_count": 1071,
>>>>>>> fa68eca7d5bf1cb8f04a3b58cc0b694bf3308239
     "metadata": {},
     "output_type": "execute_result"
    }
   ],
   "source": [
    "data['Welfare'].value_counts()"
   ]
  },
  {
   "cell_type": "code",
<<<<<<< HEAD
   "execution_count": 292,
=======
   "execution_count": null,
>>>>>>> fa68eca7d5bf1cb8f04a3b58cc0b694bf3308239
   "id": "6BEdkonB41Dh",
   "metadata": {
    "id": "6BEdkonB41Dh"
   },
   "outputs": [],
   "source": [
    "#WELFMO (Numerical)"
   ]
  },
  {
   "cell_type": "code",
<<<<<<< HEAD
   "execution_count": 293,
=======
   "execution_count": null,
>>>>>>> fa68eca7d5bf1cb8f04a3b58cc0b694bf3308239
   "id": "dO1srdxh5AI1",
   "metadata": {
    "id": "dO1srdxh5AI1"
   },
   "outputs": [],
   "source": [
    "data['Welfare_count'] = data.loc[:, 'Welfare']"
   ]
  },
  {
   "cell_type": "code",
<<<<<<< HEAD
   "execution_count": 294,
=======
   "execution_count": null,
>>>>>>> fa68eca7d5bf1cb8f04a3b58cc0b694bf3308239
   "id": "Vf2Czmzj46gd",
   "metadata": {
    "id": "Vf2Czmzj46gd"
   },
   "outputs": [],
   "source": [
    "data['Welfare_count'].replace(to_replace=\"Not_Welfare\",\n",
    "           value=0, inplace=True)"
   ]
  },
  {
   "cell_type": "code",
<<<<<<< HEAD
   "execution_count": 295,
=======
   "execution_count": null,
>>>>>>> fa68eca7d5bf1cb8f04a3b58cc0b694bf3308239
   "id": "W12V7qmT49jI",
   "metadata": {
    "id": "W12V7qmT49jI"
   },
   "outputs": [],
   "source": [
    "data['Welfare_count'].replace(to_replace=\"On_Welfare\",\n",
    "           value=1, inplace=True)"
   ]
  },
  {
   "cell_type": "code",
<<<<<<< HEAD
   "execution_count": 296,
=======
   "execution_count": null,
>>>>>>> fa68eca7d5bf1cb8f04a3b58cc0b694bf3308239
   "id": "Cuufz3Tl5F2p",
   "metadata": {
    "colab": {
     "base_uri": "https://localhost:8080/"
    },
    "executionInfo": {
     "elapsed": 172,
     "status": "ok",
     "timestamp": 1665897293005,
     "user": {
      "displayName": "Derek Hu",
      "userId": "14137525769356790466"
     },
     "user_tz": 420
    },
    "id": "Cuufz3Tl5F2p",
    "outputId": "8589e77e-29da-42bc-cac4-fd3a08d84c0c"
   },
   "outputs": [
    {
     "data": {
      "text/plain": [
       "0    208188\n",
       "1      1877\n",
       "Name: Welfare_count, dtype: int64"
      ]
     },
<<<<<<< HEAD
     "execution_count": 296,
=======
     "execution_count": 1076,
>>>>>>> fa68eca7d5bf1cb8f04a3b58cc0b694bf3308239
     "metadata": {},
     "output_type": "execute_result"
    }
   ],
   "source": [
    "data['Welfare_count'].value_counts()"
   ]
  },
  {
   "cell_type": "code",
<<<<<<< HEAD
   "execution_count": 297,
=======
   "execution_count": null,
>>>>>>> fa68eca7d5bf1cb8f04a3b58cc0b694bf3308239
   "id": "7a7RrrSL5IJ6",
   "metadata": {
    "id": "7a7RrrSL5IJ6"
   },
   "outputs": [],
   "source": [
    "#***DELAYCOST*** (Numerical)"
   ]
  },
  {
   "cell_type": "code",
<<<<<<< HEAD
   "execution_count": 298,
=======
   "execution_count": null,
>>>>>>> fa68eca7d5bf1cb8f04a3b58cc0b694bf3308239
   "id": "PoD6lEZ_5UcB",
   "metadata": {
    "id": "PoD6lEZ_5UcB"
   },
   "outputs": [],
   "source": [
    "#0                   NIU\n",
    "#1                   No\n",
    "#2                   Yes\n",
    "#7                   Unknown-refused\n",
    "#8                   Unknown-not ascertained\n",
    "#9                   Unknown-don't know (1993-96: DK or refused)"
   ]
  },
  {
   "cell_type": "code",
<<<<<<< HEAD
   "execution_count": 299,
=======
   "execution_count": null,
>>>>>>> fa68eca7d5bf1cb8f04a3b58cc0b694bf3308239
   "id": "2kT8-YsDSfFY",
   "metadata": {
    "id": "2kT8-YsDSfFY"
   },
   "outputs": [],
   "source": [
    "#Delayed medical cost. Could be correlated to income"
   ]
  },
  {
   "cell_type": "code",
<<<<<<< HEAD
   "execution_count": 300,
=======
   "execution_count": null,
>>>>>>> fa68eca7d5bf1cb8f04a3b58cc0b694bf3308239
   "id": "IsyJBShe5X4u",
   "metadata": {
    "colab": {
     "base_uri": "https://localhost:8080/"
    },
    "executionInfo": {
     "elapsed": 163,
     "status": "ok",
     "timestamp": 1665897293006,
     "user": {
      "displayName": "Derek Hu",
      "userId": "14137525769356790466"
     },
     "user_tz": 420
    },
    "id": "IsyJBShe5X4u",
    "outputId": "5820854f-a6ed-481a-92c3-f5c953e74967"
   },
   "outputs": [
    {
     "data": {
      "text/plain": [
       "1    195460\n",
       "2     14557\n",
       "9        46\n",
       "7         2\n",
       "Name: DELAYCOST, dtype: int64"
      ]
     },
<<<<<<< HEAD
     "execution_count": 300,
=======
     "execution_count": 1080,
>>>>>>> fa68eca7d5bf1cb8f04a3b58cc0b694bf3308239
     "metadata": {},
     "output_type": "execute_result"
    }
   ],
   "source": [
    "data['DELAYCOST'].value_counts()"
   ]
  },
  {
   "cell_type": "code",
<<<<<<< HEAD
   "execution_count": 301,
=======
   "execution_count": null,
>>>>>>> fa68eca7d5bf1cb8f04a3b58cc0b694bf3308239
   "id": "rujkmM-p5dK3",
   "metadata": {
    "id": "rujkmM-p5dK3"
   },
   "outputs": [],
   "source": [
    "data['Delay_MedCost_count'] = data.loc[:, 'DELAYCOST']"
   ]
  },
  {
   "cell_type": "code",
<<<<<<< HEAD
   "execution_count": 302,
=======
   "execution_count": null,
>>>>>>> fa68eca7d5bf1cb8f04a3b58cc0b694bf3308239
   "id": "xKmLJ3vw5kWJ",
   "metadata": {
    "id": "xKmLJ3vw5kWJ"
   },
   "outputs": [],
   "source": [
    "data = data[data['Delay_MedCost_count'] != 9]"
   ]
  },
  {
   "cell_type": "code",
<<<<<<< HEAD
   "execution_count": 303,
=======
   "execution_count": null,
>>>>>>> fa68eca7d5bf1cb8f04a3b58cc0b694bf3308239
   "id": "Yr9zNUlU5wWa",
   "metadata": {
    "id": "Yr9zNUlU5wWa"
   },
   "outputs": [],
   "source": [
    "data = data[data['Delay_MedCost_count'] != 7]"
   ]
  },
  {
   "cell_type": "code",
<<<<<<< HEAD
   "execution_count": 304,
=======
   "execution_count": null,
>>>>>>> fa68eca7d5bf1cb8f04a3b58cc0b694bf3308239
   "id": "D099Wh3M5xp0",
   "metadata": {
    "colab": {
     "base_uri": "https://localhost:8080/"
    },
    "executionInfo": {
     "elapsed": 154,
     "status": "ok",
     "timestamp": 1665897293007,
     "user": {
      "displayName": "Derek Hu",
      "userId": "14137525769356790466"
     },
     "user_tz": 420
    },
    "id": "D099Wh3M5xp0",
    "outputId": "60ea219b-2d08-4948-8656-bc48e2fe7bf1"
   },
   "outputs": [
    {
     "data": {
      "text/plain": [
       "1    195460\n",
       "2     14557\n",
       "Name: Delay_MedCost_count, dtype: int64"
      ]
     },
<<<<<<< HEAD
     "execution_count": 304,
=======
     "execution_count": 1084,
>>>>>>> fa68eca7d5bf1cb8f04a3b58cc0b694bf3308239
     "metadata": {},
     "output_type": "execute_result"
    }
   ],
   "source": [
    "data['Delay_MedCost_count'].value_counts()"
   ]
  },
  {
   "cell_type": "code",
<<<<<<< HEAD
   "execution_count": 305,
=======
   "execution_count": null,
>>>>>>> fa68eca7d5bf1cb8f04a3b58cc0b694bf3308239
   "id": "xZqSDcN55zut",
   "metadata": {
    "id": "xZqSDcN55zut"
   },
   "outputs": [],
   "source": [
    "#***DELAYCOST*** (Categorical)"
   ]
  },
  {
   "cell_type": "code",
<<<<<<< HEAD
   "execution_count": 306,
=======
   "execution_count": null,
>>>>>>> fa68eca7d5bf1cb8f04a3b58cc0b694bf3308239
   "id": "NZt7MD8m54on",
   "metadata": {
    "id": "NZt7MD8m54on"
   },
   "outputs": [],
   "source": [
    "data['Delay_MedCost'] = data.loc[:, 'Delay_MedCost_count']"
   ]
  },
  {
   "cell_type": "code",
<<<<<<< HEAD
   "execution_count": 307,
=======
   "execution_count": null,
>>>>>>> fa68eca7d5bf1cb8f04a3b58cc0b694bf3308239
   "id": "Of5kYzoc5-q9",
   "metadata": {
    "id": "Of5kYzoc5-q9"
   },
   "outputs": [],
   "source": [
    "data['Delay_MedCost'].replace(to_replace=1,\n",
    "           value='No_DelayMed_Cost', inplace=True)"
   ]
  },
  {
   "cell_type": "code",
<<<<<<< HEAD
   "execution_count": 308,
=======
   "execution_count": null,
>>>>>>> fa68eca7d5bf1cb8f04a3b58cc0b694bf3308239
   "id": "punlB0cl6H6A",
   "metadata": {
    "id": "punlB0cl6H6A"
   },
   "outputs": [],
   "source": [
    "data['Delay_MedCost'].replace(to_replace=2,\n",
    "           value='DelayMed_Cost', inplace=True)"
   ]
  },
  {
   "cell_type": "code",
<<<<<<< HEAD
   "execution_count": 309,
=======
   "execution_count": null,
>>>>>>> fa68eca7d5bf1cb8f04a3b58cc0b694bf3308239
   "id": "b2GblXay6LPt",
   "metadata": {
    "colab": {
     "base_uri": "https://localhost:8080/"
    },
    "executionInfo": {
     "elapsed": 144,
     "status": "ok",
     "timestamp": 1665897293008,
     "user": {
      "displayName": "Derek Hu",
      "userId": "14137525769356790466"
     },
     "user_tz": 420
    },
    "id": "b2GblXay6LPt",
    "outputId": "055bc90a-6b31-4639-fad6-e22e57fcc6da"
   },
   "outputs": [
    {
     "data": {
      "text/plain": [
       "No_DelayMed_Cost    195460\n",
       "DelayMed_Cost        14557\n",
       "Name: Delay_MedCost, dtype: int64"
      ]
     },
<<<<<<< HEAD
     "execution_count": 309,
=======
     "execution_count": 1089,
>>>>>>> fa68eca7d5bf1cb8f04a3b58cc0b694bf3308239
     "metadata": {},
     "output_type": "execute_result"
    }
   ],
   "source": [
    "data['Delay_MedCost'].value_counts()"
   ]
  },
  {
   "cell_type": "code",
<<<<<<< HEAD
   "execution_count": 310,
=======
   "execution_count": null,
>>>>>>> fa68eca7d5bf1cb8f04a3b58cc0b694bf3308239
   "id": "HE3ToZkW6M_r",
   "metadata": {
    "id": "HE3ToZkW6M_r"
   },
   "outputs": [],
   "source": [
    "#***DIAPRECOND (Diabetic)***"
   ]
  },
  {
   "cell_type": "code",
<<<<<<< HEAD
   "execution_count": 311,
=======
   "execution_count": null,
>>>>>>> fa68eca7d5bf1cb8f04a3b58cc0b694bf3308239
   "id": "8PIcOPTMSjI3",
   "metadata": {
    "id": "8PIcOPTMSjI3"
   },
   "outputs": [],
   "source": [
    "#Highly correlated to cancer rates. "
   ]
  },
  {
   "cell_type": "code",
<<<<<<< HEAD
   "execution_count": 312,
=======
   "execution_count": null,
>>>>>>> fa68eca7d5bf1cb8f04a3b58cc0b694bf3308239
   "id": "aNx2a-r_6eDD",
   "metadata": {
    "colab": {
     "base_uri": "https://localhost:8080/"
    },
    "executionInfo": {
     "elapsed": 135,
     "status": "ok",
     "timestamp": 1665897293008,
     "user": {
      "displayName": "Derek Hu",
      "userId": "14137525769356790466"
     },
     "user_tz": 420
    },
    "id": "aNx2a-r_6eDD",
    "outputId": "9af264f4-11e9-4e63-f9f4-39ed1baa4158"
   },
   "outputs": [
    {
     "data": {
      "text/plain": [
       "0    143094\n",
       "1     61254\n",
       "2      5631\n",
       "9        35\n",
       "7         3\n",
       "Name: DIAPRECOND, dtype: int64"
      ]
     },
<<<<<<< HEAD
     "execution_count": 312,
=======
     "execution_count": 1092,
>>>>>>> fa68eca7d5bf1cb8f04a3b58cc0b694bf3308239
     "metadata": {},
     "output_type": "execute_result"
    }
   ],
   "source": [
    "data['DIAPRECOND'].value_counts()"
   ]
  },
  {
   "cell_type": "code",
<<<<<<< HEAD
   "execution_count": 313,
=======
   "execution_count": null,
>>>>>>> fa68eca7d5bf1cb8f04a3b58cc0b694bf3308239
   "id": "d51WQGIJ6hTK",
   "metadata": {
    "id": "d51WQGIJ6hTK"
   },
   "outputs": [],
   "source": [
    "data['Diabetic'] = data.loc[:, 'DIAPRECOND']"
   ]
  },
  {
   "cell_type": "code",
<<<<<<< HEAD
   "execution_count": 314,
=======
   "execution_count": null,
>>>>>>> fa68eca7d5bf1cb8f04a3b58cc0b694bf3308239
   "id": "LHgfpW7y6nU6",
   "metadata": {
    "id": "LHgfpW7y6nU6"
   },
   "outputs": [],
   "source": [
    "data['Diabetic'].replace(to_replace=[0, 1],\n",
    "           value='Not_Diabetic', inplace=True)"
   ]
  },
  {
   "cell_type": "code",
<<<<<<< HEAD
   "execution_count": 315,
=======
   "execution_count": null,
>>>>>>> fa68eca7d5bf1cb8f04a3b58cc0b694bf3308239
   "id": "y51KqCdy6uql",
   "metadata": {
    "id": "y51KqCdy6uql"
   },
   "outputs": [],
   "source": [
    "data['Diabetic'].replace(to_replace=[2],\n",
    "           value='Diabetic', inplace=True)"
   ]
  },
  {
   "cell_type": "code",
<<<<<<< HEAD
   "execution_count": 316,
=======
   "execution_count": null,
>>>>>>> fa68eca7d5bf1cb8f04a3b58cc0b694bf3308239
   "id": "Mi03cRiE6xgh",
   "metadata": {
    "id": "Mi03cRiE6xgh"
   },
   "outputs": [],
   "source": [
    "data = data[data['Diabetic'] != 7]"
   ]
  },
  {
   "cell_type": "code",
<<<<<<< HEAD
   "execution_count": 317,
=======
   "execution_count": null,
>>>>>>> fa68eca7d5bf1cb8f04a3b58cc0b694bf3308239
   "id": "FtxGxF3D62Qu",
   "metadata": {
    "id": "FtxGxF3D62Qu"
   },
   "outputs": [],
   "source": [
    "data = data[data['Diabetic'] != 9]"
   ]
  },
  {
   "cell_type": "code",
<<<<<<< HEAD
   "execution_count": 318,
=======
   "execution_count": null,
>>>>>>> fa68eca7d5bf1cb8f04a3b58cc0b694bf3308239
   "id": "E1QRH71m63YQ",
   "metadata": {
    "colab": {
     "base_uri": "https://localhost:8080/"
    },
    "executionInfo": {
     "elapsed": 126,
     "status": "ok",
     "timestamp": 1665897293010,
     "user": {
      "displayName": "Derek Hu",
      "userId": "14137525769356790466"
     },
     "user_tz": 420
    },
    "id": "E1QRH71m63YQ",
    "outputId": "bc9ce7c7-dd84-4f41-97a5-575b33f6c4f0"
   },
   "outputs": [
    {
     "data": {
      "text/plain": [
       "Not_Diabetic    204348\n",
       "Diabetic          5631\n",
       "Name: Diabetic, dtype: int64"
      ]
     },
<<<<<<< HEAD
     "execution_count": 318,
=======
     "execution_count": 1098,
>>>>>>> fa68eca7d5bf1cb8f04a3b58cc0b694bf3308239
     "metadata": {},
     "output_type": "execute_result"
    }
   ],
   "source": [
    "data['Diabetic'].value_counts()"
   ]
  },
  {
   "cell_type": "code",
<<<<<<< HEAD
   "execution_count": 319,
=======
   "execution_count": null,
>>>>>>> fa68eca7d5bf1cb8f04a3b58cc0b694bf3308239
   "id": "FnthTsxf65RK",
   "metadata": {
    "id": "FnthTsxf65RK"
   },
   "outputs": [],
   "source": [
    "#***DIAPRECOND (Numeric)***"
   ]
  },
  {
   "cell_type": "code",
<<<<<<< HEAD
   "execution_count": 320,
=======
   "execution_count": null,
>>>>>>> fa68eca7d5bf1cb8f04a3b58cc0b694bf3308239
   "id": "XvV0Hv7m7Aec",
   "metadata": {
    "id": "XvV0Hv7m7Aec"
   },
   "outputs": [],
   "source": [
    "data['Diabetic_count'] = data.loc[:, 'Diabetic']"
   ]
  },
  {
   "cell_type": "code",
<<<<<<< HEAD
   "execution_count": 321,
=======
   "execution_count": null,
>>>>>>> fa68eca7d5bf1cb8f04a3b58cc0b694bf3308239
   "id": "eMhRcsQV7Dwa",
   "metadata": {
    "id": "eMhRcsQV7Dwa"
   },
   "outputs": [],
   "source": [
    "data['Diabetic_count'].replace(to_replace='Diabetic',\n",
    "           value=1, inplace=True)"
   ]
  },
  {
   "cell_type": "code",
<<<<<<< HEAD
   "execution_count": 322,
=======
   "execution_count": null,
>>>>>>> fa68eca7d5bf1cb8f04a3b58cc0b694bf3308239
   "id": "-U3Yb-Lg7IMU",
   "metadata": {
    "id": "-U3Yb-Lg7IMU"
   },
   "outputs": [],
   "source": [
    "data['Diabetic_count'].replace(to_replace='Not_Diabetic',\n",
    "           value=0, inplace=True)"
   ]
  },
  {
   "cell_type": "code",
<<<<<<< HEAD
   "execution_count": 323,
=======
   "execution_count": null,
>>>>>>> fa68eca7d5bf1cb8f04a3b58cc0b694bf3308239
   "id": "dBmJw1Ju7OGA",
   "metadata": {
    "colab": {
     "base_uri": "https://localhost:8080/"
    },
    "executionInfo": {
     "elapsed": 116,
     "status": "ok",
     "timestamp": 1665897293011,
     "user": {
      "displayName": "Derek Hu",
      "userId": "14137525769356790466"
     },
     "user_tz": 420
    },
    "id": "dBmJw1Ju7OGA",
    "outputId": "0129d885-7ba4-4fc7-fdd6-b84ef9c76796"
   },
   "outputs": [
    {
     "data": {
      "text/plain": [
       "0    204348\n",
       "1      5631\n",
       "Name: Diabetic_count, dtype: int64"
      ]
     },
<<<<<<< HEAD
     "execution_count": 323,
=======
     "execution_count": 1103,
>>>>>>> fa68eca7d5bf1cb8f04a3b58cc0b694bf3308239
     "metadata": {},
     "output_type": "execute_result"
    }
   ],
   "source": [
    "data['Diabetic_count'].value_counts()"
   ]
  },
  {
   "cell_type": "code",
<<<<<<< HEAD
   "execution_count": 324,
=======
   "execution_count": null,
>>>>>>> fa68eca7d5bf1cb8f04a3b58cc0b694bf3308239
   "id": "XYiLA_iu7RFH",
   "metadata": {
    "id": "XYiLA_iu7RFH"
   },
   "outputs": [],
   "source": [
    "#***ALCAMT (Categorical)*** "
   ]
  },
  {
   "cell_type": "code",
<<<<<<< HEAD
   "execution_count": 325,
=======
   "execution_count": null,
>>>>>>> fa68eca7d5bf1cb8f04a3b58cc0b694bf3308239
   "id": "U0DNTuDv7Tuq",
   "metadata": {
    "id": "U0DNTuDv7Tuq"
   },
   "outputs": [],
   "source": [
    "data['Alcohol'] = data.loc[:, 'ALCAMT']"
   ]
  },
  {
   "cell_type": "code",
<<<<<<< HEAD
   "execution_count": 326,
=======
   "execution_count": null,
>>>>>>> fa68eca7d5bf1cb8f04a3b58cc0b694bf3308239
   "id": "5IFqIGw97X_i",
   "metadata": {
    "colab": {
     "base_uri": "https://localhost:8080/"
    },
    "executionInfo": {
     "elapsed": 108,
     "status": "ok",
     "timestamp": 1665897293012,
     "user": {
      "displayName": "Derek Hu",
      "userId": "14137525769356790466"
     },
     "user_tz": 420
    },
    "id": "5IFqIGw97X_i",
    "outputId": "47e88c5f-3659-43e0-dce8-7273475bf26d"
   },
   "outputs": [
    {
     "data": {
      "text/plain": [
       "0    159677\n",
       "1     19243\n",
       "2     16845\n",
       "3      6857\n",
       "4      2949\n",
       "Name: Alcohol, dtype: int64"
      ]
     },
<<<<<<< HEAD
     "execution_count": 326,
=======
     "execution_count": 1106,
>>>>>>> fa68eca7d5bf1cb8f04a3b58cc0b694bf3308239
     "metadata": {},
     "output_type": "execute_result"
    }
   ],
   "source": [
    "data['Alcohol'].value_counts().head(5)"
   ]
  },
  {
   "cell_type": "code",
<<<<<<< HEAD
   "execution_count": 327,
=======
   "execution_count": null,
>>>>>>> fa68eca7d5bf1cb8f04a3b58cc0b694bf3308239
   "id": "x6eIyQiC7ZVG",
   "metadata": {
    "id": "x6eIyQiC7ZVG"
   },
   "outputs": [],
   "source": [
    "data['Alcohol'].replace(to_replace=0,\n",
    "           value='No_Drinking', inplace=True)"
   ]
  },
  {
   "cell_type": "code",
<<<<<<< HEAD
   "execution_count": 328,
=======
   "execution_count": null,
>>>>>>> fa68eca7d5bf1cb8f04a3b58cc0b694bf3308239
   "id": "SSlTrU7m7uf5",
   "metadata": {
    "id": "SSlTrU7m7uf5"
   },
   "outputs": [],
   "source": [
    "data['Alcohol'].replace(to_replace=1,\n",
    "           value='1_Drink', inplace=True)"
   ]
  },
  {
   "cell_type": "code",
<<<<<<< HEAD
   "execution_count": 329,
=======
   "execution_count": null,
>>>>>>> fa68eca7d5bf1cb8f04a3b58cc0b694bf3308239
   "id": "RLrGozzY7y_2",
   "metadata": {
    "id": "RLrGozzY7y_2"
   },
   "outputs": [],
   "source": [
    "data['Alcohol'].replace(to_replace=2,\n",
    "           value='2_Drinks', inplace=True)"
   ]
  },
  {
   "cell_type": "code",
<<<<<<< HEAD
   "execution_count": 330,
=======
   "execution_count": null,
>>>>>>> fa68eca7d5bf1cb8f04a3b58cc0b694bf3308239
   "id": "vzMQbNUt71c1",
   "metadata": {
    "id": "vzMQbNUt71c1"
   },
   "outputs": [],
   "source": [
    "#data.loc[(data['Alcohol'] >= 3), 'Alcohol'] = 3"
   ]
  },
  {
   "cell_type": "code",
<<<<<<< HEAD
   "execution_count": 331,
=======
   "execution_count": null,
>>>>>>> fa68eca7d5bf1cb8f04a3b58cc0b694bf3308239
   "id": "AtKN_3JR8Q7m",
   "metadata": {
    "colab": {
     "base_uri": "https://localhost:8080/"
    },
    "executionInfo": {
     "elapsed": 99,
     "status": "ok",
     "timestamp": 1665897293013,
     "user": {
      "displayName": "Derek Hu",
      "userId": "14137525769356790466"
     },
     "user_tz": 420
    },
    "id": "AtKN_3JR8Q7m",
    "outputId": "1ea5f0f9-5452-46e1-8862-ab0597b34da5"
   },
   "outputs": [
    {
     "data": {
      "text/plain": [
       "No_Drinking    159677\n",
       "1_Drink         19243\n",
       "2_Drinks        16845\n",
       "3                6857\n",
       "4                2949\n",
       "6                1488\n",
       "5                1458\n",
       "8                 305\n",
       "7                 269\n",
       "10                266\n",
       "12                252\n",
       "99                158\n",
       "9                  54\n",
       "15                 39\n",
       "20                 23\n",
       "97                 19\n",
       "18                 16\n",
       "24                 13\n",
       "30                  8\n",
       "13                  6\n",
       "95                  5\n",
       "11                  5\n",
       "50                  3\n",
       "14                  3\n",
       "25                  2\n",
       "36                  2\n",
       "16                  2\n",
       "40                  2\n",
       "42                  1\n",
       "21                  1\n",
       "32                  1\n",
       "27                  1\n",
       "76                  1\n",
       "60                  1\n",
       "22                  1\n",
       "35                  1\n",
       "52                  1\n",
       "90                  1\n",
       "Name: Alcohol, dtype: int64"
      ]
     },
<<<<<<< HEAD
     "execution_count": 331,
=======
     "execution_count": 1111,
>>>>>>> fa68eca7d5bf1cb8f04a3b58cc0b694bf3308239
     "metadata": {},
     "output_type": "execute_result"
    }
   ],
   "source": [
    "data['Alcohol'].value_counts()"
   ]
  },
  {
   "cell_type": "code",
<<<<<<< HEAD
   "execution_count": 332,
=======
   "execution_count": null,
>>>>>>> fa68eca7d5bf1cb8f04a3b58cc0b694bf3308239
   "id": "61B2J_6i9RzI",
   "metadata": {
    "id": "61B2J_6i9RzI"
   },
   "outputs": [],
   "source": [
    "#SMOKFREQNOW (Categorical)"
   ]
  },
  {
   "cell_type": "code",
<<<<<<< HEAD
   "execution_count": 333,
=======
   "execution_count": null,
>>>>>>> fa68eca7d5bf1cb8f04a3b58cc0b694bf3308239
   "id": "Kg8tUYhd9y73",
   "metadata": {
    "id": "Kg8tUYhd9y73"
   },
   "outputs": [],
   "source": [
    "#0                   NIU\n",
    "#1                   Not at all\n",
    "#2                   Some days\n",
    "#3                   Every day\n",
    "#7                   Unknown-refused\n",
    "#8                   Unknown-not ascertained\n",
    "#9                   Unknown-don't know"
   ]
  },
  {
   "cell_type": "code",
<<<<<<< HEAD
   "execution_count": 334,
=======
   "execution_count": null,
>>>>>>> fa68eca7d5bf1cb8f04a3b58cc0b694bf3308239
   "id": "GHUjt4aC9bIK",
   "metadata": {
    "colab": {
     "base_uri": "https://localhost:8080/"
    },
    "executionInfo": {
     "elapsed": 90,
     "status": "ok",
     "timestamp": 1665897293014,
     "user": {
      "displayName": "Derek Hu",
      "userId": "14137525769356790466"
     },
     "user_tz": 420
    },
    "id": "GHUjt4aC9bIK",
    "outputId": "94496d00-01e6-4e90-a68b-7c907075ccd5"
   },
   "outputs": [
    {
     "data": {
      "text/plain": [
       "0    179543\n",
       "1     18563\n",
       "3      9075\n",
       "2      2794\n",
       "7         3\n",
       "9         1\n",
       "Name: SMOKFREQNOW, dtype: int64"
      ]
     },
<<<<<<< HEAD
     "execution_count": 334,
=======
     "execution_count": 1114,
>>>>>>> fa68eca7d5bf1cb8f04a3b58cc0b694bf3308239
     "metadata": {},
     "output_type": "execute_result"
    }
   ],
   "source": [
    "data['SMOKFREQNOW'].value_counts()"
   ]
  },
  {
   "cell_type": "code",
<<<<<<< HEAD
   "execution_count": 335,
=======
   "execution_count": null,
>>>>>>> fa68eca7d5bf1cb8f04a3b58cc0b694bf3308239
   "id": "iXRLIFl996Ew",
   "metadata": {
    "id": "iXRLIFl996Ew"
   },
   "outputs": [],
   "source": [
    "data['Smoking'] = data.loc[:, 'SMOKFREQNOW']"
   ]
  },
  {
   "cell_type": "code",
<<<<<<< HEAD
   "execution_count": 336,
=======
   "execution_count": null,
>>>>>>> fa68eca7d5bf1cb8f04a3b58cc0b694bf3308239
   "id": "Dvnw_LS5-kG3",
   "metadata": {
    "id": "Dvnw_LS5-kG3"
   },
   "outputs": [],
   "source": [
    "data = data[data['Smoking'] != 7]"
   ]
  },
  {
   "cell_type": "code",
<<<<<<< HEAD
   "execution_count": 337,
=======
   "execution_count": null,
>>>>>>> fa68eca7d5bf1cb8f04a3b58cc0b694bf3308239
   "id": "OBDzzmD3-qrS",
   "metadata": {
    "id": "OBDzzmD3-qrS"
   },
   "outputs": [],
   "source": [
    "data = data[data['Smoking'] != 8]"
   ]
  },
  {
   "cell_type": "code",
<<<<<<< HEAD
   "execution_count": 338,
=======
   "execution_count": null,
>>>>>>> fa68eca7d5bf1cb8f04a3b58cc0b694bf3308239
   "id": "GgoPVdyT-r6a",
   "metadata": {
    "id": "GgoPVdyT-r6a"
   },
   "outputs": [],
   "source": [
    "data = data[data['Smoking'] != 9]"
   ]
  },
  {
   "cell_type": "code",
<<<<<<< HEAD
   "execution_count": 339,
=======
   "execution_count": null,
>>>>>>> fa68eca7d5bf1cb8f04a3b58cc0b694bf3308239
   "id": "wKN0skzs-srq",
   "metadata": {
    "id": "wKN0skzs-srq"
   },
   "outputs": [],
   "source": [
    "data['Smoking'].replace(to_replace=[0, 1],\n",
    "           value='No_Smoking', inplace=True)"
   ]
  },
  {
   "cell_type": "code",
<<<<<<< HEAD
   "execution_count": 340,
=======
   "execution_count": null,
>>>>>>> fa68eca7d5bf1cb8f04a3b58cc0b694bf3308239
   "id": "lSa_aCSD-zEd",
   "metadata": {
    "id": "lSa_aCSD-zEd"
   },
   "outputs": [],
   "source": [
    "data['Smoking'].replace(to_replace=[2, 3],\n",
    "           value='Smoking', inplace=True)"
   ]
  },
  {
   "cell_type": "code",
<<<<<<< HEAD
   "execution_count": 341,
=======
   "execution_count": null,
>>>>>>> fa68eca7d5bf1cb8f04a3b58cc0b694bf3308239
   "id": "uQ43s9zs-x1v",
   "metadata": {
    "colab": {
     "base_uri": "https://localhost:8080/"
    },
    "executionInfo": {
     "elapsed": 42,
     "status": "ok",
     "timestamp": 1665897294623,
     "user": {
      "displayName": "Derek Hu",
      "userId": "14137525769356790466"
     },
     "user_tz": 420
    },
    "id": "uQ43s9zs-x1v",
    "outputId": "3c6a4ff4-acd6-42b2-be87-4ba154589416"
   },
   "outputs": [
    {
     "data": {
      "text/plain": [
       "No_Smoking    198106\n",
       "Smoking        11869\n",
       "Name: Smoking, dtype: int64"
      ]
     },
<<<<<<< HEAD
     "execution_count": 341,
=======
     "execution_count": 1121,
>>>>>>> fa68eca7d5bf1cb8f04a3b58cc0b694bf3308239
     "metadata": {},
     "output_type": "execute_result"
    }
   ],
   "source": [
    "data['Smoking'].value_counts()"
   ]
  },
  {
   "cell_type": "code",
<<<<<<< HEAD
   "execution_count": 342,
=======
   "execution_count": null,
>>>>>>> fa68eca7d5bf1cb8f04a3b58cc0b694bf3308239
   "id": "P5WnhoVA-87Q",
   "metadata": {
    "id": "P5WnhoVA-87Q"
   },
   "outputs": [],
   "source": [
    "#SMOKFREQNOW (Numerical)"
   ]
  },
  {
   "cell_type": "code",
<<<<<<< HEAD
   "execution_count": 343,
=======
   "execution_count": null,
>>>>>>> fa68eca7d5bf1cb8f04a3b58cc0b694bf3308239
   "id": "o3WvVHJs_BTC",
   "metadata": {
    "id": "o3WvVHJs_BTC"
   },
   "outputs": [],
   "source": [
    "data['Smoking_count'] = data.loc[:, 'Smoking']"
   ]
  },
  {
   "cell_type": "code",
<<<<<<< HEAD
   "execution_count": 344,
=======
   "execution_count": null,
>>>>>>> fa68eca7d5bf1cb8f04a3b58cc0b694bf3308239
   "id": "fkazRAfB_E0s",
   "metadata": {
    "id": "fkazRAfB_E0s"
   },
   "outputs": [],
   "source": [
    "data['Smoking_count'].replace(to_replace='No_Smoking',\n",
    "           value=0, inplace=True)"
   ]
  },
  {
   "cell_type": "code",
<<<<<<< HEAD
   "execution_count": 345,
=======
   "execution_count": null,
>>>>>>> fa68eca7d5bf1cb8f04a3b58cc0b694bf3308239
   "id": "ysX7KcrR_I0P",
   "metadata": {
    "id": "ysX7KcrR_I0P"
   },
   "outputs": [],
   "source": [
    "data['Smoking_count'].replace(to_replace='Smoking',\n",
    "           value=1, inplace=True)"
   ]
  },
  {
   "cell_type": "code",
<<<<<<< HEAD
   "execution_count": 346,
=======
   "execution_count": null,
>>>>>>> fa68eca7d5bf1cb8f04a3b58cc0b694bf3308239
   "id": "s9b1lr2x_K4G",
   "metadata": {
    "colab": {
     "base_uri": "https://localhost:8080/"
    },
    "executionInfo": {
     "elapsed": 41,
     "status": "ok",
     "timestamp": 1665897294624,
     "user": {
      "displayName": "Derek Hu",
      "userId": "14137525769356790466"
     },
     "user_tz": 420
    },
    "id": "s9b1lr2x_K4G",
    "outputId": "d0b7074a-b93f-485d-e5ed-4442f98d85f9"
   },
   "outputs": [
    {
     "data": {
      "text/plain": [
       "0    198106\n",
       "1     11869\n",
       "Name: Smoking_count, dtype: int64"
      ]
     },
<<<<<<< HEAD
     "execution_count": 346,
=======
     "execution_count": 1126,
>>>>>>> fa68eca7d5bf1cb8f04a3b58cc0b694bf3308239
     "metadata": {},
     "output_type": "execute_result"
    }
   ],
   "source": [
    "data['Smoking_count'].value_counts()"
   ]
  },
  {
   "cell_type": "code",
<<<<<<< HEAD
   "execution_count": 347,
=======
   "execution_count": null,
>>>>>>> fa68eca7d5bf1cb8f04a3b58cc0b694bf3308239
   "id": "g9e7IAeQ_QEm",
   "metadata": {
    "id": "g9e7IAeQ_QEm"
   },
   "outputs": [],
   "source": [
    "#DEPFREQ (Categorical)"
   ]
  },
  {
   "cell_type": "code",
<<<<<<< HEAD
   "execution_count": 348,
=======
   "execution_count": null,
>>>>>>> fa68eca7d5bf1cb8f04a3b58cc0b694bf3308239
   "id": "yH6-_uGc_VkP",
   "metadata": {
    "id": "yH6-_uGc_VkP"
   },
   "outputs": [],
   "source": [
    "#0                   Not true\n",
    "#1                   Somewhat true\n",
    "#2                   Certainly true\n",
    "#6                   NIU\n",
    "#7                   Unknown-refused\n",
    "#8                   Unknown-not ascertained\n",
    "#9                   Unknown-don't know"
   ]
  },
  {
   "cell_type": "code",
<<<<<<< HEAD
   "execution_count": 349,
=======
   "execution_count": null,
>>>>>>> fa68eca7d5bf1cb8f04a3b58cc0b694bf3308239
   "id": "Yd_sHKvA_YwF",
   "metadata": {
    "colab": {
     "base_uri": "https://localhost:8080/"
    },
    "executionInfo": {
     "elapsed": 31,
     "status": "ok",
     "timestamp": 1665897294624,
     "user": {
      "displayName": "Derek Hu",
      "userId": "14137525769356790466"
     },
     "user_tz": 420
    },
    "id": "Yd_sHKvA_YwF",
    "outputId": "c65409a9-b615-41a7-9691-40f3a04e6a23"
   },
   "outputs": [
    {
     "data": {
      "text/plain": [
       "0    161300\n",
       "5     27679\n",
       "4     12064\n",
       "3      3004\n",
       "2      2647\n",
       "1      2071\n",
       "8       974\n",
       "9       128\n",
       "7       108\n",
       "Name: DEPFREQ, dtype: int64"
      ]
     },
<<<<<<< HEAD
     "execution_count": 349,
=======
     "execution_count": 1129,
>>>>>>> fa68eca7d5bf1cb8f04a3b58cc0b694bf3308239
     "metadata": {},
     "output_type": "execute_result"
    }
   ],
   "source": [
    "data['DEPFREQ'].value_counts()"
   ]
  },
  {
   "cell_type": "code",
<<<<<<< HEAD
   "execution_count": 350,
=======
   "execution_count": null,
>>>>>>> fa68eca7d5bf1cb8f04a3b58cc0b694bf3308239
   "id": "tFFoF9MO_tem",
   "metadata": {
    "id": "tFFoF9MO_tem"
   },
   "outputs": [],
   "source": [
    "data['Depressed'] = data.loc[:, 'DEPFREQ']"
   ]
  },
  {
   "cell_type": "code",
<<<<<<< HEAD
   "execution_count": 351,
=======
   "execution_count": null,
>>>>>>> fa68eca7d5bf1cb8f04a3b58cc0b694bf3308239
   "id": "7Shs98yb_aea",
   "metadata": {
    "id": "7Shs98yb_aea"
   },
   "outputs": [],
   "source": [
    "data = data[data['Depressed'] != 7]"
   ]
  },
  {
   "cell_type": "code",
<<<<<<< HEAD
   "execution_count": 352,
=======
   "execution_count": null,
>>>>>>> fa68eca7d5bf1cb8f04a3b58cc0b694bf3308239
   "id": "1hiIMKNy_zXr",
   "metadata": {
    "id": "1hiIMKNy_zXr"
   },
   "outputs": [],
   "source": [
    "data = data[data['Depressed'] != 8]"
   ]
  },
  {
   "cell_type": "code",
<<<<<<< HEAD
   "execution_count": 353,
=======
   "execution_count": null,
>>>>>>> fa68eca7d5bf1cb8f04a3b58cc0b694bf3308239
   "id": "4LqZqg3K_4oP",
   "metadata": {
    "id": "4LqZqg3K_4oP"
   },
   "outputs": [],
   "source": [
    "data = data[data['Depressed'] != 9]"
   ]
  },
  {
   "cell_type": "code",
<<<<<<< HEAD
   "execution_count": 354,
=======
   "execution_count": null,
>>>>>>> fa68eca7d5bf1cb8f04a3b58cc0b694bf3308239
   "id": "AxCTPMtz_5T0",
   "metadata": {
    "id": "AxCTPMtz_5T0"
   },
   "outputs": [],
   "source": [
    "data['Depressed'].replace(to_replace=0,\n",
    "           value='NIU_Depressed', inplace=True)"
   ]
  },
  {
   "cell_type": "code",
<<<<<<< HEAD
   "execution_count": 355,
=======
   "execution_count": null,
>>>>>>> fa68eca7d5bf1cb8f04a3b58cc0b694bf3308239
   "id": "M_fM3a2e_9Sg",
   "metadata": {
    "id": "M_fM3a2e_9Sg"
   },
   "outputs": [],
   "source": [
    "data['Depressed'].replace(to_replace=[1, 2, 3, 4],\n",
    "           value='Depressed', inplace=True)"
   ]
  },
  {
   "cell_type": "code",
<<<<<<< HEAD
   "execution_count": 356,
=======
   "execution_count": null,
>>>>>>> fa68eca7d5bf1cb8f04a3b58cc0b694bf3308239
   "id": "97DbLbyUAEoW",
   "metadata": {
    "id": "97DbLbyUAEoW"
   },
   "outputs": [],
   "source": [
    "data['Depressed'].replace(to_replace=5,\n",
    "           value='Not_Depressed', inplace=True)"
   ]
  },
  {
   "cell_type": "code",
<<<<<<< HEAD
   "execution_count": 357,
=======
   "execution_count": null,
>>>>>>> fa68eca7d5bf1cb8f04a3b58cc0b694bf3308239
   "id": "zG58fydxAGlP",
   "metadata": {
    "colab": {
     "base_uri": "https://localhost:8080/"
    },
    "executionInfo": {
     "elapsed": 21,
     "status": "ok",
     "timestamp": 1665897294626,
     "user": {
      "displayName": "Derek Hu",
      "userId": "14137525769356790466"
     },
     "user_tz": 420
    },
    "id": "zG58fydxAGlP",
    "outputId": "e0243582-ddbe-4691-b338-746bc87e796e"
   },
   "outputs": [
    {
     "data": {
      "text/plain": [
       "NIU_Depressed    161300\n",
       "Not_Depressed     27679\n",
       "Depressed         19786\n",
       "Name: Depressed, dtype: int64"
      ]
     },
<<<<<<< HEAD
     "execution_count": 357,
=======
     "execution_count": 1137,
>>>>>>> fa68eca7d5bf1cb8f04a3b58cc0b694bf3308239
     "metadata": {},
     "output_type": "execute_result"
    }
   ],
   "source": [
    "data['Depressed'].value_counts()"
   ]
  },
  {
   "cell_type": "code",
<<<<<<< HEAD
   "execution_count": 358,
=======
   "execution_count": null,
>>>>>>> fa68eca7d5bf1cb8f04a3b58cc0b694bf3308239
   "id": "qR2cbmQPAPBT",
   "metadata": {
    "id": "qR2cbmQPAPBT"
   },
   "outputs": [],
   "source": [
    "#DEPFREQ (Numerical)"
   ]
  },
  {
   "cell_type": "code",
<<<<<<< HEAD
   "execution_count": 359,
=======
   "execution_count": null,
>>>>>>> fa68eca7d5bf1cb8f04a3b58cc0b694bf3308239
   "id": "KvA9cORcAWG_",
   "metadata": {
    "id": "KvA9cORcAWG_"
   },
   "outputs": [],
   "source": [
    "data['Depressed_count'] = data.loc[:, 'Depressed']"
   ]
  },
  {
   "cell_type": "code",
<<<<<<< HEAD
   "execution_count": 360,
=======
   "execution_count": null,
>>>>>>> fa68eca7d5bf1cb8f04a3b58cc0b694bf3308239
   "id": "llns4MEeAYxY",
   "metadata": {
    "id": "llns4MEeAYxY"
   },
   "outputs": [],
   "source": [
    "data['Depressed_count'].replace(to_replace='NIU_Depressed',\n",
    "           value=0, inplace=True)"
   ]
  },
  {
   "cell_type": "code",
<<<<<<< HEAD
   "execution_count": 361,
=======
   "execution_count": null,
>>>>>>> fa68eca7d5bf1cb8f04a3b58cc0b694bf3308239
   "id": "LpUAqCN6AbX0",
   "metadata": {
    "id": "LpUAqCN6AbX0"
   },
   "outputs": [],
   "source": [
    "data['Depressed_count'].replace(to_replace='Depressed',\n",
    "           value=1, inplace=True)"
   ]
  },
  {
   "cell_type": "code",
<<<<<<< HEAD
   "execution_count": 362,
=======
   "execution_count": null,
>>>>>>> fa68eca7d5bf1cb8f04a3b58cc0b694bf3308239
   "id": "zNuG6TT5AfV1",
   "metadata": {
    "id": "zNuG6TT5AfV1"
   },
   "outputs": [],
   "source": [
    "data['Depressed_count'].replace(to_replace='Not_Depressed',\n",
    "           value=2, inplace=True)"
   ]
  },
  {
   "cell_type": "code",
<<<<<<< HEAD
   "execution_count": 363,
=======
   "execution_count": null,
>>>>>>> fa68eca7d5bf1cb8f04a3b58cc0b694bf3308239
   "id": "mNR5COCehZEW",
   "metadata": {
    "colab": {
     "base_uri": "https://localhost:8080/"
    },
    "executionInfo": {
     "elapsed": 3,
     "status": "ok",
     "timestamp": 1665897330500,
     "user": {
      "displayName": "Derek Hu",
      "userId": "14137525769356790466"
     },
     "user_tz": 420
    },
    "id": "mNR5COCehZEW",
    "outputId": "def2019c-c872-48df-ee83-605a0809ff57"
   },
   "outputs": [
    {
     "data": {
      "text/plain": [
       "0    161300\n",
       "2     27679\n",
       "1     19786\n",
       "Name: Depressed_count, dtype: int64"
      ]
     },
<<<<<<< HEAD
     "execution_count": 363,
=======
     "execution_count": 1147,
>>>>>>> fa68eca7d5bf1cb8f04a3b58cc0b694bf3308239
     "metadata": {},
     "output_type": "execute_result"
    }
   ],
   "source": [
    "data['Depressed_count'].value_counts()"
   ]
  },
  {
   "cell_type": "code",
<<<<<<< HEAD
   "execution_count": 364,
=======
   "execution_count": null,
>>>>>>> fa68eca7d5bf1cb8f04a3b58cc0b694bf3308239
   "id": "USiMBeBbN_VG",
   "metadata": {
    "colab": {
     "base_uri": "https://localhost:8080/",
     "height": 317
    },
    "executionInfo": {
     "elapsed": 292,
     "status": "ok",
     "timestamp": 1665897333001,
     "user": {
      "displayName": "Derek Hu",
      "userId": "14137525769356790466"
     },
     "user_tz": 420
    },
    "id": "USiMBeBbN_VG",
    "outputId": "1bc96eb5-ca57-4386-e97f-84631b1a3fce"
   },
   "outputs": [
    {
     "data": {
      "text/html": [
<<<<<<< HEAD
       "<div>\n",
=======
       "\n",
       "  <div id=\"df-1d1f7703-385d-44bd-b463-5f1af4f6c12e\">\n",
       "    <div class=\"colab-df-container\">\n",
       "      <div>\n",
>>>>>>> fa68eca7d5bf1cb8f04a3b58cc0b694bf3308239
       "<style scoped>\n",
       "    .dataframe tbody tr th:only-of-type {\n",
       "        vertical-align: middle;\n",
       "    }\n",
       "\n",
       "    .dataframe tbody tr th {\n",
       "        vertical-align: top;\n",
       "    }\n",
       "\n",
       "    .dataframe thead th {\n",
       "        text-align: right;\n",
       "    }\n",
       "</style>\n",
       "<table border=\"1\" class=\"dataframe\">\n",
       "  <thead>\n",
       "    <tr style=\"text-align: right;\">\n",
       "      <th></th>\n",
       "      <th>Unnamed: 0</th>\n",
       "      <th>YEAR</th>\n",
       "      <th>SERIAL</th>\n",
       "      <th>STRATA</th>\n",
       "      <th>PSU</th>\n",
       "      <th>NHISHID</th>\n",
       "      <th>HHWEIGHT</th>\n",
       "      <th>LIVINGQTR</th>\n",
       "      <th>PERNUM</th>\n",
       "      <th>NHISPID</th>\n",
       "      <th>...</th>\n",
       "      <th>Welfare_count</th>\n",
       "      <th>Delay_MedCost_count</th>\n",
       "      <th>Delay_MedCost</th>\n",
       "      <th>Diabetic</th>\n",
       "      <th>Diabetic_count</th>\n",
       "      <th>Alcohol</th>\n",
       "      <th>Smoking</th>\n",
       "      <th>Smoking_count</th>\n",
       "      <th>Depressed</th>\n",
       "      <th>Depressed_count</th>\n",
       "    </tr>\n",
       "  </thead>\n",
       "  <tbody>\n",
       "    <tr>\n",
       "      <th>0</th>\n",
       "      <td>0</td>\n",
       "      <td>2016</td>\n",
       "      <td>1</td>\n",
       "      <td>7131</td>\n",
       "      <td>20</td>\n",
       "      <td>2016000001</td>\n",
       "      <td>5621</td>\n",
       "      <td>21</td>\n",
       "      <td>1</td>\n",
       "      <td>20160000010101</td>\n",
       "      <td>...</td>\n",
       "      <td>0</td>\n",
       "      <td>2</td>\n",
       "      <td>DelayMed_Cost</td>\n",
       "      <td>Not_Diabetic</td>\n",
       "      <td>0</td>\n",
       "      <td>3</td>\n",
       "      <td>No_Smoking</td>\n",
       "      <td>0</td>\n",
       "      <td>NIU_Depressed</td>\n",
       "      <td>0</td>\n",
       "    </tr>\n",
       "    <tr>\n",
       "      <th>1</th>\n",
       "      <td>1</td>\n",
       "      <td>2016</td>\n",
       "      <td>1</td>\n",
       "      <td>7131</td>\n",
       "      <td>20</td>\n",
       "      <td>2016000001</td>\n",
       "      <td>5621</td>\n",
       "      <td>21</td>\n",
       "      <td>2</td>\n",
       "      <td>20160000010102</td>\n",
       "      <td>...</td>\n",
       "      <td>0</td>\n",
       "      <td>2</td>\n",
       "      <td>DelayMed_Cost</td>\n",
       "      <td>Not_Diabetic</td>\n",
       "      <td>0</td>\n",
       "      <td>No_Drinking</td>\n",
       "      <td>No_Smoking</td>\n",
       "      <td>0</td>\n",
       "      <td>NIU_Depressed</td>\n",
       "      <td>0</td>\n",
       "    </tr>\n",
       "    <tr>\n",
       "      <th>2</th>\n",
       "      <td>2</td>\n",
       "      <td>2016</td>\n",
       "      <td>1</td>\n",
       "      <td>7131</td>\n",
       "      <td>20</td>\n",
       "      <td>2016000001</td>\n",
       "      <td>5621</td>\n",
       "      <td>21</td>\n",
       "      <td>3</td>\n",
       "      <td>20160000010201</td>\n",
       "      <td>...</td>\n",
       "      <td>0</td>\n",
       "      <td>1</td>\n",
       "      <td>No_DelayMed_Cost</td>\n",
       "      <td>Not_Diabetic</td>\n",
       "      <td>0</td>\n",
       "      <td>2_Drinks</td>\n",
       "      <td>No_Smoking</td>\n",
       "      <td>0</td>\n",
       "      <td>Not_Depressed</td>\n",
       "      <td>2</td>\n",
       "    </tr>\n",
       "    <tr>\n",
       "      <th>3</th>\n",
       "      <td>3</td>\n",
       "      <td>2016</td>\n",
       "      <td>2</td>\n",
       "      <td>7149</td>\n",
       "      <td>2</td>\n",
       "      <td>2016000002</td>\n",
       "      <td>1752</td>\n",
       "      <td>21</td>\n",
       "      <td>1</td>\n",
       "      <td>20160000020101</td>\n",
       "      <td>...</td>\n",
       "      <td>0</td>\n",
       "      <td>1</td>\n",
       "      <td>No_DelayMed_Cost</td>\n",
       "      <td>Not_Diabetic</td>\n",
       "      <td>0</td>\n",
       "      <td>No_Drinking</td>\n",
       "      <td>No_Smoking</td>\n",
       "      <td>0</td>\n",
       "      <td>Not_Depressed</td>\n",
       "      <td>2</td>\n",
       "    </tr>\n",
       "    <tr>\n",
       "      <th>6</th>\n",
       "      <td>6</td>\n",
       "      <td>2016</td>\n",
       "      <td>5</td>\n",
       "      <td>7149</td>\n",
       "      <td>58</td>\n",
       "      <td>2016000005</td>\n",
       "      <td>3301</td>\n",
       "      <td>21</td>\n",
       "      <td>1</td>\n",
       "      <td>20160000050101</td>\n",
       "      <td>...</td>\n",
       "      <td>0</td>\n",
       "      <td>1</td>\n",
       "      <td>No_DelayMed_Cost</td>\n",
       "      <td>Not_Diabetic</td>\n",
       "      <td>0</td>\n",
       "      <td>1_Drink</td>\n",
       "      <td>Smoking</td>\n",
       "      <td>1</td>\n",
       "      <td>NIU_Depressed</td>\n",
       "      <td>0</td>\n",
       "    </tr>\n",
       "  </tbody>\n",
       "</table>\n",
<<<<<<< HEAD
       "<p>5 rows × 185 columns</p>\n",
       "</div>"
=======
       "<p>5 rows × 155 columns</p>\n",
       "</div>\n",
       "      <button class=\"colab-df-convert\" onclick=\"convertToInteractive('df-1d1f7703-385d-44bd-b463-5f1af4f6c12e')\"\n",
       "              title=\"Convert this dataframe to an interactive table.\"\n",
       "              style=\"display:none;\">\n",
       "        \n",
       "  <svg xmlns=\"http://www.w3.org/2000/svg\" height=\"24px\"viewBox=\"0 0 24 24\"\n",
       "       width=\"24px\">\n",
       "    <path d=\"M0 0h24v24H0V0z\" fill=\"none\"/>\n",
       "    <path d=\"M18.56 5.44l.94 2.06.94-2.06 2.06-.94-2.06-.94-.94-2.06-.94 2.06-2.06.94zm-11 1L8.5 8.5l.94-2.06 2.06-.94-2.06-.94L8.5 2.5l-.94 2.06-2.06.94zm10 10l.94 2.06.94-2.06 2.06-.94-2.06-.94-.94-2.06-.94 2.06-2.06.94z\"/><path d=\"M17.41 7.96l-1.37-1.37c-.4-.4-.92-.59-1.43-.59-.52 0-1.04.2-1.43.59L10.3 9.45l-7.72 7.72c-.78.78-.78 2.05 0 2.83L4 21.41c.39.39.9.59 1.41.59.51 0 1.02-.2 1.41-.59l7.78-7.78 2.81-2.81c.8-.78.8-2.07 0-2.86zM5.41 20L4 18.59l7.72-7.72 1.47 1.35L5.41 20z\"/>\n",
       "  </svg>\n",
       "      </button>\n",
       "      \n",
       "  <style>\n",
       "    .colab-df-container {\n",
       "      display:flex;\n",
       "      flex-wrap:wrap;\n",
       "      gap: 12px;\n",
       "    }\n",
       "\n",
       "    .colab-df-convert {\n",
       "      background-color: #E8F0FE;\n",
       "      border: none;\n",
       "      border-radius: 50%;\n",
       "      cursor: pointer;\n",
       "      display: none;\n",
       "      fill: #1967D2;\n",
       "      height: 32px;\n",
       "      padding: 0 0 0 0;\n",
       "      width: 32px;\n",
       "    }\n",
       "\n",
       "    .colab-df-convert:hover {\n",
       "      background-color: #E2EBFA;\n",
       "      box-shadow: 0px 1px 2px rgba(60, 64, 67, 0.3), 0px 1px 3px 1px rgba(60, 64, 67, 0.15);\n",
       "      fill: #174EA6;\n",
       "    }\n",
       "\n",
       "    [theme=dark] .colab-df-convert {\n",
       "      background-color: #3B4455;\n",
       "      fill: #D2E3FC;\n",
       "    }\n",
       "\n",
       "    [theme=dark] .colab-df-convert:hover {\n",
       "      background-color: #434B5C;\n",
       "      box-shadow: 0px 1px 3px 1px rgba(0, 0, 0, 0.15);\n",
       "      filter: drop-shadow(0px 1px 2px rgba(0, 0, 0, 0.3));\n",
       "      fill: #FFFFFF;\n",
       "    }\n",
       "  </style>\n",
       "\n",
       "      <script>\n",
       "        const buttonEl =\n",
       "          document.querySelector('#df-1d1f7703-385d-44bd-b463-5f1af4f6c12e button.colab-df-convert');\n",
       "        buttonEl.style.display =\n",
       "          google.colab.kernel.accessAllowed ? 'block' : 'none';\n",
       "\n",
       "        async function convertToInteractive(key) {\n",
       "          const element = document.querySelector('#df-1d1f7703-385d-44bd-b463-5f1af4f6c12e');\n",
       "          const dataTable =\n",
       "            await google.colab.kernel.invokeFunction('convertToInteractive',\n",
       "                                                     [key], {});\n",
       "          if (!dataTable) return;\n",
       "\n",
       "          const docLinkHtml = 'Like what you see? Visit the ' +\n",
       "            '<a target=\"_blank\" href=https://colab.research.google.com/notebooks/data_table.ipynb>data table notebook</a>'\n",
       "            + ' to learn more about interactive tables.';\n",
       "          element.innerHTML = '';\n",
       "          dataTable['output_type'] = 'display_data';\n",
       "          await google.colab.output.renderOutput(dataTable, element);\n",
       "          const docLink = document.createElement('div');\n",
       "          docLink.innerHTML = docLinkHtml;\n",
       "          element.appendChild(docLink);\n",
       "        }\n",
       "      </script>\n",
       "    </div>\n",
       "  </div>\n",
       "  "
>>>>>>> fa68eca7d5bf1cb8f04a3b58cc0b694bf3308239
      ],
      "text/plain": [
       "   Unnamed: 0  YEAR  SERIAL  STRATA  PSU     NHISHID  HHWEIGHT  LIVINGQTR  \\\n",
       "0           0  2016       1    7131   20  2016000001      5621         21   \n",
       "1           1  2016       1    7131   20  2016000001      5621         21   \n",
       "2           2  2016       1    7131   20  2016000001      5621         21   \n",
       "3           3  2016       2    7149    2  2016000002      1752         21   \n",
       "6           6  2016       5    7149   58  2016000005      3301         21   \n",
       "\n",
       "   PERNUM         NHISPID  ...  Welfare_count  Delay_MedCost_count  \\\n",
       "0       1  20160000010101  ...              0                    2   \n",
       "1       2  20160000010102  ...              0                    2   \n",
       "2       3  20160000010201  ...              0                    1   \n",
       "3       1  20160000020101  ...              0                    1   \n",
       "6       1  20160000050101  ...              0                    1   \n",
       "\n",
       "      Delay_MedCost      Diabetic  Diabetic_count      Alcohol     Smoking  \\\n",
       "0     DelayMed_Cost  Not_Diabetic               0            3  No_Smoking   \n",
       "1     DelayMed_Cost  Not_Diabetic               0  No_Drinking  No_Smoking   \n",
       "2  No_DelayMed_Cost  Not_Diabetic               0     2_Drinks  No_Smoking   \n",
       "3  No_DelayMed_Cost  Not_Diabetic               0  No_Drinking  No_Smoking   \n",
       "6  No_DelayMed_Cost  Not_Diabetic               0      1_Drink     Smoking   \n",
       "\n",
       "   Smoking_count      Depressed  Depressed_count  \n",
       "0              0  NIU_Depressed                0  \n",
       "1              0  NIU_Depressed                0  \n",
       "2              0  Not_Depressed                2  \n",
       "3              0  Not_Depressed                2  \n",
       "6              1  NIU_Depressed                0  \n",
       "\n",
<<<<<<< HEAD
       "[5 rows x 185 columns]"
      ]
     },
     "execution_count": 364,
=======
       "[5 rows x 155 columns]"
      ]
     },
     "execution_count": 1148,
>>>>>>> fa68eca7d5bf1cb8f04a3b58cc0b694bf3308239
     "metadata": {},
     "output_type": "execute_result"
    }
   ],
   "source": [
    "data.head()"
   ]
  },
  {
   "cell_type": "markdown",
   "id": "70c53e1f-55fe-4815-8af4-2566a6a85a4e",
   "metadata": {
    "id": "70c53e1f-55fe-4815-8af4-2566a6a85a4e"
   },
   "source": [
    "***Concat/Merge Variables***"
   ]
  },
  {
   "cell_type": "code",
<<<<<<< HEAD
   "execution_count": 365,
=======
   "execution_count": null,
>>>>>>> fa68eca7d5bf1cb8f04a3b58cc0b694bf3308239
   "id": "64cf8f35-ee3d-4211-a702-91d2f233bb72",
   "metadata": {
    "id": "64cf8f35-ee3d-4211-a702-91d2f233bb72"
   },
   "outputs": [],
   "source": [
    "data1 = data[['YEAR', 'age', 'cancer_count', 'hrswrk', 'health', 'income', 'SSI', 'Health_Coverage', 'Education', 'JobOccupation', \n",
    "             'NoBalancedMeals', 'Ownership_home', 'highchol', 'worrymedbills', 'insulin', 'foodsecurity', 'race', 'Welfare', \n",
    "              'Delay_MedCost', 'Diabetic', 'Smoking', 'Depressed']]"
   ]
  },
  {
   "cell_type": "code",
<<<<<<< HEAD
   "execution_count": 377,
=======
   "execution_count": null,
>>>>>>> fa68eca7d5bf1cb8f04a3b58cc0b694bf3308239
   "id": "3a30ee50-05ff-473d-a96a-31e0142a8a68",
   "metadata": {
    "colab": {
     "base_uri": "https://localhost:8080/",
     "height": 456
    },
    "executionInfo": {
     "elapsed": 18,
     "status": "ok",
     "timestamp": 1665897295092,
     "user": {
      "displayName": "Derek Hu",
      "userId": "14137525769356790466"
     },
     "user_tz": 420
    },
    "id": "3a30ee50-05ff-473d-a96a-31e0142a8a68",
    "outputId": "859ce703-a2e3-43fb-c4ce-26fb99dcf93c"
   },
   "outputs": [
    {
     "data": {
      "text/html": [
<<<<<<< HEAD
       "<div>\n",
=======
       "\n",
       "  <div id=\"df-2f1d3d7c-dc08-41fd-bdd6-487d0f66d007\">\n",
       "    <div class=\"colab-df-container\">\n",
       "      <div>\n",
>>>>>>> fa68eca7d5bf1cb8f04a3b58cc0b694bf3308239
       "<style scoped>\n",
       "    .dataframe tbody tr th:only-of-type {\n",
       "        vertical-align: middle;\n",
       "    }\n",
       "\n",
       "    .dataframe tbody tr th {\n",
       "        vertical-align: top;\n",
       "    }\n",
       "\n",
       "    .dataframe thead th {\n",
       "        text-align: right;\n",
       "    }\n",
       "</style>\n",
       "<table border=\"1\" class=\"dataframe\">\n",
       "  <thead>\n",
       "    <tr style=\"text-align: right;\">\n",
       "      <th></th>\n",
       "      <th>YEAR</th>\n",
       "      <th>age</th>\n",
       "      <th>cancer_count</th>\n",
       "      <th>hrswrk</th>\n",
       "      <th>health</th>\n",
       "      <th>income</th>\n",
       "      <th>SSI</th>\n",
       "      <th>Health_Coverage</th>\n",
       "      <th>Education</th>\n",
       "      <th>JobOccupation</th>\n",
       "      <th>...</th>\n",
       "      <th>highchol</th>\n",
       "      <th>worrymedbills</th>\n",
       "      <th>insulin</th>\n",
       "      <th>foodsecurity</th>\n",
       "      <th>race</th>\n",
       "      <th>Welfare</th>\n",
       "      <th>Delay_MedCost</th>\n",
       "      <th>Diabetic</th>\n",
       "      <th>Smoking</th>\n",
       "      <th>Depressed</th>\n",
       "    </tr>\n",
       "  </thead>\n",
       "  <tbody>\n",
       "    <tr>\n",
       "      <th>0</th>\n",
       "      <td>2016</td>\n",
       "      <td>Lower_Middle_Aged</td>\n",
       "      <td>0</td>\n",
       "      <td>HoursWrk_0-30</td>\n",
       "      <td>Good_Health</td>\n",
       "      <td>Low-Income</td>\n",
       "      <td>No_SSI</td>\n",
       "      <td>Has_healthcoverage</td>\n",
       "      <td>Some_College</td>\n",
       "      <td>Transportation and Material Moving Occupations</td>\n",
       "      <td>...</td>\n",
       "      <td>No_highchol</td>\n",
       "      <td>somewhat_worried_medbills</td>\n",
       "      <td>No_Insulin</td>\n",
       "      <td>High_food_security</td>\n",
       "      <td>Black</td>\n",
       "      <td>Not_Welfare</td>\n",
       "      <td>DelayMed_Cost</td>\n",
       "      <td>Not_Diabetic</td>\n",
       "      <td>No_Smoking</td>\n",
       "      <td>NIU_Depressed</td>\n",
       "    </tr>\n",
       "    <tr>\n",
       "      <th>1</th>\n",
       "      <td>2016</td>\n",
       "      <td>Lower_Middle_Aged</td>\n",
       "      <td>0</td>\n",
       "      <td>HoursWrk_30-40</td>\n",
       "      <td>Good_Health</td>\n",
       "      <td>Low-Income</td>\n",
       "      <td>No_SSI</td>\n",
       "      <td>Has_healthcoverage</td>\n",
       "      <td>Some_College</td>\n",
       "      <td>Not_In_LaborForce</td>\n",
       "      <td>...</td>\n",
       "      <td>No_highchol</td>\n",
       "      <td>not_worried_medbills</td>\n",
       "      <td>No_Insulin</td>\n",
       "      <td>High_food_security</td>\n",
       "      <td>Black</td>\n",
       "      <td>Not_Welfare</td>\n",
       "      <td>DelayMed_Cost</td>\n",
       "      <td>Not_Diabetic</td>\n",
       "      <td>No_Smoking</td>\n",
       "      <td>NIU_Depressed</td>\n",
       "    </tr>\n",
       "    <tr>\n",
       "      <th>2</th>\n",
       "      <td>2016</td>\n",
       "      <td>Lower_Middle_Aged</td>\n",
       "      <td>0</td>\n",
       "      <td>HoursWrk_40-60</td>\n",
       "      <td>Excellent_Health</td>\n",
       "      <td>Middle-Income</td>\n",
       "      <td>No_SSI</td>\n",
       "      <td>Has_healthcoverage</td>\n",
       "      <td>Bachelors_Degree</td>\n",
       "      <td>Administrative Support Occupations</td>\n",
       "      <td>...</td>\n",
       "      <td>No_highchol</td>\n",
       "      <td>somewhat_worried_medbills</td>\n",
       "      <td>No_Insulin</td>\n",
       "      <td>High_food_security</td>\n",
       "      <td>Black</td>\n",
       "      <td>Not_Welfare</td>\n",
       "      <td>No_DelayMed_Cost</td>\n",
       "      <td>Not_Diabetic</td>\n",
       "      <td>No_Smoking</td>\n",
       "      <td>Not_Depressed</td>\n",
       "    </tr>\n",
       "    <tr>\n",
       "      <th>3</th>\n",
       "      <td>2016</td>\n",
       "      <td>Elderly</td>\n",
       "      <td>0</td>\n",
       "      <td>HoursWrk_0-30</td>\n",
       "      <td>Good_Health</td>\n",
       "      <td>Low-Income</td>\n",
       "      <td>No_SSI</td>\n",
       "      <td>Has_healthcoverage</td>\n",
       "      <td>High_School_Graduate</td>\n",
       "      <td>Construction and Extractive Trades Occupation</td>\n",
       "      <td>...</td>\n",
       "      <td>highchol</td>\n",
       "      <td>not_worried_medbills</td>\n",
       "      <td>No_Insulin</td>\n",
       "      <td>High_food_security</td>\n",
       "      <td>White</td>\n",
       "      <td>Not_Welfare</td>\n",
       "      <td>No_DelayMed_Cost</td>\n",
       "      <td>Not_Diabetic</td>\n",
       "      <td>No_Smoking</td>\n",
       "      <td>Not_Depressed</td>\n",
       "    </tr>\n",
       "    <tr>\n",
       "      <th>6</th>\n",
       "      <td>2016</td>\n",
       "      <td>Middle_Aged</td>\n",
       "      <td>0</td>\n",
       "      <td>HoursWrk_30-40</td>\n",
       "      <td>Excellent_Health</td>\n",
       "      <td>Lower-Middle-Income</td>\n",
       "      <td>No_SSI</td>\n",
       "      <td>Has_healthcoverage</td>\n",
       "      <td>Some_College</td>\n",
       "      <td>Professional Specialty Occupations</td>\n",
       "      <td>...</td>\n",
       "      <td>No_highchol</td>\n",
       "      <td>not_worried_medbills</td>\n",
       "      <td>No_Insulin</td>\n",
       "      <td>High_food_security</td>\n",
       "      <td>White</td>\n",
       "      <td>Not_Welfare</td>\n",
       "      <td>No_DelayMed_Cost</td>\n",
       "      <td>Not_Diabetic</td>\n",
       "      <td>Smoking</td>\n",
       "      <td>NIU_Depressed</td>\n",
       "    </tr>\n",
       "  </tbody>\n",
       "</table>\n",
       "<p>5 rows × 22 columns</p>\n",
<<<<<<< HEAD
       "</div>"
=======
       "</div>\n",
       "      <button class=\"colab-df-convert\" onclick=\"convertToInteractive('df-2f1d3d7c-dc08-41fd-bdd6-487d0f66d007')\"\n",
       "              title=\"Convert this dataframe to an interactive table.\"\n",
       "              style=\"display:none;\">\n",
       "        \n",
       "  <svg xmlns=\"http://www.w3.org/2000/svg\" height=\"24px\"viewBox=\"0 0 24 24\"\n",
       "       width=\"24px\">\n",
       "    <path d=\"M0 0h24v24H0V0z\" fill=\"none\"/>\n",
       "    <path d=\"M18.56 5.44l.94 2.06.94-2.06 2.06-.94-2.06-.94-.94-2.06-.94 2.06-2.06.94zm-11 1L8.5 8.5l.94-2.06 2.06-.94-2.06-.94L8.5 2.5l-.94 2.06-2.06.94zm10 10l.94 2.06.94-2.06 2.06-.94-2.06-.94-.94-2.06-.94 2.06-2.06.94z\"/><path d=\"M17.41 7.96l-1.37-1.37c-.4-.4-.92-.59-1.43-.59-.52 0-1.04.2-1.43.59L10.3 9.45l-7.72 7.72c-.78.78-.78 2.05 0 2.83L4 21.41c.39.39.9.59 1.41.59.51 0 1.02-.2 1.41-.59l7.78-7.78 2.81-2.81c.8-.78.8-2.07 0-2.86zM5.41 20L4 18.59l7.72-7.72 1.47 1.35L5.41 20z\"/>\n",
       "  </svg>\n",
       "      </button>\n",
       "      \n",
       "  <style>\n",
       "    .colab-df-container {\n",
       "      display:flex;\n",
       "      flex-wrap:wrap;\n",
       "      gap: 12px;\n",
       "    }\n",
       "\n",
       "    .colab-df-convert {\n",
       "      background-color: #E8F0FE;\n",
       "      border: none;\n",
       "      border-radius: 50%;\n",
       "      cursor: pointer;\n",
       "      display: none;\n",
       "      fill: #1967D2;\n",
       "      height: 32px;\n",
       "      padding: 0 0 0 0;\n",
       "      width: 32px;\n",
       "    }\n",
       "\n",
       "    .colab-df-convert:hover {\n",
       "      background-color: #E2EBFA;\n",
       "      box-shadow: 0px 1px 2px rgba(60, 64, 67, 0.3), 0px 1px 3px 1px rgba(60, 64, 67, 0.15);\n",
       "      fill: #174EA6;\n",
       "    }\n",
       "\n",
       "    [theme=dark] .colab-df-convert {\n",
       "      background-color: #3B4455;\n",
       "      fill: #D2E3FC;\n",
       "    }\n",
       "\n",
       "    [theme=dark] .colab-df-convert:hover {\n",
       "      background-color: #434B5C;\n",
       "      box-shadow: 0px 1px 3px 1px rgba(0, 0, 0, 0.15);\n",
       "      filter: drop-shadow(0px 1px 2px rgba(0, 0, 0, 0.3));\n",
       "      fill: #FFFFFF;\n",
       "    }\n",
       "  </style>\n",
       "\n",
       "      <script>\n",
       "        const buttonEl =\n",
       "          document.querySelector('#df-2f1d3d7c-dc08-41fd-bdd6-487d0f66d007 button.colab-df-convert');\n",
       "        buttonEl.style.display =\n",
       "          google.colab.kernel.accessAllowed ? 'block' : 'none';\n",
       "\n",
       "        async function convertToInteractive(key) {\n",
       "          const element = document.querySelector('#df-2f1d3d7c-dc08-41fd-bdd6-487d0f66d007');\n",
       "          const dataTable =\n",
       "            await google.colab.kernel.invokeFunction('convertToInteractive',\n",
       "                                                     [key], {});\n",
       "          if (!dataTable) return;\n",
       "\n",
       "          const docLinkHtml = 'Like what you see? Visit the ' +\n",
       "            '<a target=\"_blank\" href=https://colab.research.google.com/notebooks/data_table.ipynb>data table notebook</a>'\n",
       "            + ' to learn more about interactive tables.';\n",
       "          element.innerHTML = '';\n",
       "          dataTable['output_type'] = 'display_data';\n",
       "          await google.colab.output.renderOutput(dataTable, element);\n",
       "          const docLink = document.createElement('div');\n",
       "          docLink.innerHTML = docLinkHtml;\n",
       "          element.appendChild(docLink);\n",
       "        }\n",
       "      </script>\n",
       "    </div>\n",
       "  </div>\n",
       "  "
>>>>>>> fa68eca7d5bf1cb8f04a3b58cc0b694bf3308239
      ],
      "text/plain": [
       "   YEAR                age  cancer_count          hrswrk            health  \\\n",
       "0  2016  Lower_Middle_Aged             0   HoursWrk_0-30       Good_Health   \n",
       "1  2016  Lower_Middle_Aged             0  HoursWrk_30-40       Good_Health   \n",
       "2  2016  Lower_Middle_Aged             0  HoursWrk_40-60  Excellent_Health   \n",
       "3  2016            Elderly             0   HoursWrk_0-30       Good_Health   \n",
       "6  2016        Middle_Aged             0  HoursWrk_30-40  Excellent_Health   \n",
       "\n",
       "                income     SSI     Health_Coverage             Education  \\\n",
       "0           Low-Income  No_SSI  Has_healthcoverage          Some_College   \n",
       "1           Low-Income  No_SSI  Has_healthcoverage          Some_College   \n",
       "2        Middle-Income  No_SSI  Has_healthcoverage      Bachelors_Degree   \n",
       "3           Low-Income  No_SSI  Has_healthcoverage  High_School_Graduate   \n",
       "6  Lower-Middle-Income  No_SSI  Has_healthcoverage          Some_College   \n",
       "\n",
       "                                    JobOccupation  ...     highchol  \\\n",
       "0  Transportation and Material Moving Occupations  ...  No_highchol   \n",
       "1                               Not_In_LaborForce  ...  No_highchol   \n",
       "2              Administrative Support Occupations  ...  No_highchol   \n",
       "3   Construction and Extractive Trades Occupation  ...     highchol   \n",
       "6              Professional Specialty Occupations  ...  No_highchol   \n",
       "\n",
       "               worrymedbills     insulin        foodsecurity   race  \\\n",
       "0  somewhat_worried_medbills  No_Insulin  High_food_security  Black   \n",
       "1       not_worried_medbills  No_Insulin  High_food_security  Black   \n",
       "2  somewhat_worried_medbills  No_Insulin  High_food_security  Black   \n",
       "3       not_worried_medbills  No_Insulin  High_food_security  White   \n",
       "6       not_worried_medbills  No_Insulin  High_food_security  White   \n",
       "\n",
       "       Welfare     Delay_MedCost      Diabetic     Smoking      Depressed  \n",
       "0  Not_Welfare     DelayMed_Cost  Not_Diabetic  No_Smoking  NIU_Depressed  \n",
       "1  Not_Welfare     DelayMed_Cost  Not_Diabetic  No_Smoking  NIU_Depressed  \n",
       "2  Not_Welfare  No_DelayMed_Cost  Not_Diabetic  No_Smoking  Not_Depressed  \n",
       "3  Not_Welfare  No_DelayMed_Cost  Not_Diabetic  No_Smoking  Not_Depressed  \n",
       "6  Not_Welfare  No_DelayMed_Cost  Not_Diabetic     Smoking  NIU_Depressed  \n",
       "\n",
       "[5 rows x 22 columns]"
      ]
     },
<<<<<<< HEAD
     "execution_count": 377,
=======
     "execution_count": 1145,
>>>>>>> fa68eca7d5bf1cb8f04a3b58cc0b694bf3308239
     "metadata": {},
     "output_type": "execute_result"
    }
   ],
   "source": [
    "data1.head()"
   ]
  },
  {
   "cell_type": "code",
<<<<<<< HEAD
   "execution_count": 367,
=======
   "execution_count": null,
>>>>>>> fa68eca7d5bf1cb8f04a3b58cc0b694bf3308239
   "id": "0f08bcdc-7b18-4ba6-96a3-e6be71afa5a9",
   "metadata": {
    "colab": {
     "base_uri": "https://localhost:8080/",
     "height": 381
    },
    "executionInfo": {
     "elapsed": 5,
     "status": "error",
     "timestamp": 1665897351037,
     "user": {
      "displayName": "Derek Hu",
      "userId": "14137525769356790466"
     },
     "user_tz": 420
    },
    "id": "0f08bcdc-7b18-4ba6-96a3-e6be71afa5a9",
    "outputId": "6add0fcf-4a9c-4a47-c739-14af0174bd2e"
   },
<<<<<<< HEAD
   "outputs": [],
=======
   "outputs": [
    {
     "ename": "KeyError",
     "evalue": "ignored",
     "output_type": "error",
     "traceback": [
      "\u001b[0;31m---------------------------------------------------------------------------\u001b[0m",
      "\u001b[0;31mKeyError\u001b[0m                                  Traceback (most recent call last)",
      "\u001b[0;32m<ipython-input-1149-eaf1673ed5a8>\u001b[0m in \u001b[0;36m<module>\u001b[0;34m\u001b[0m\n\u001b[1;32m      1\u001b[0m data2 = data[['YEAR', 'AGE', 'age_count', 'cancer_count', 'hrswrk_count', 'health_count', 'income_count', 'SSI_count', 'Health_Coverage_count', 'Education_count', 'JobOccupation_count', \n\u001b[1;32m      2\u001b[0m              \u001b[0;34m'NoBalancedMeals_count'\u001b[0m\u001b[0;34m,\u001b[0m \u001b[0;34m'Ownership_home_count'\u001b[0m\u001b[0;34m,\u001b[0m \u001b[0;34m'highchol_count'\u001b[0m\u001b[0;34m,\u001b[0m \u001b[0;34m'worrymedbills_count'\u001b[0m\u001b[0;34m,\u001b[0m \u001b[0;34m'insulin_count'\u001b[0m\u001b[0;34m,\u001b[0m \u001b[0;34m'foodsecurity_count'\u001b[0m\u001b[0;34m,\u001b[0m \u001b[0;34m'race_count'\u001b[0m\u001b[0;34m,\u001b[0m \u001b[0;34m'Welfare_count'\u001b[0m\u001b[0;34m,\u001b[0m\u001b[0;34m\u001b[0m\u001b[0;34m\u001b[0m\u001b[0m\n\u001b[0;32m----> 3\u001b[0;31m               'Delay_MedCost_count', 'Diabetic_count', 'Smoking_count', 'Depressed_count']]\n\u001b[0m",
      "\u001b[0;32m/usr/local/lib/python3.7/dist-packages/pandas/core/frame.py\u001b[0m in \u001b[0;36m__getitem__\u001b[0;34m(self, key)\u001b[0m\n\u001b[1;32m   3462\u001b[0m             \u001b[0;32mif\u001b[0m \u001b[0mis_iterator\u001b[0m\u001b[0;34m(\u001b[0m\u001b[0mkey\u001b[0m\u001b[0;34m)\u001b[0m\u001b[0;34m:\u001b[0m\u001b[0;34m\u001b[0m\u001b[0;34m\u001b[0m\u001b[0m\n\u001b[1;32m   3463\u001b[0m                 \u001b[0mkey\u001b[0m \u001b[0;34m=\u001b[0m \u001b[0mlist\u001b[0m\u001b[0;34m(\u001b[0m\u001b[0mkey\u001b[0m\u001b[0;34m)\u001b[0m\u001b[0;34m\u001b[0m\u001b[0;34m\u001b[0m\u001b[0m\n\u001b[0;32m-> 3464\u001b[0;31m             \u001b[0mindexer\u001b[0m \u001b[0;34m=\u001b[0m \u001b[0mself\u001b[0m\u001b[0;34m.\u001b[0m\u001b[0mloc\u001b[0m\u001b[0;34m.\u001b[0m\u001b[0m_get_listlike_indexer\u001b[0m\u001b[0;34m(\u001b[0m\u001b[0mkey\u001b[0m\u001b[0;34m,\u001b[0m \u001b[0maxis\u001b[0m\u001b[0;34m=\u001b[0m\u001b[0;36m1\u001b[0m\u001b[0;34m)\u001b[0m\u001b[0;34m[\u001b[0m\u001b[0;36m1\u001b[0m\u001b[0;34m]\u001b[0m\u001b[0;34m\u001b[0m\u001b[0;34m\u001b[0m\u001b[0m\n\u001b[0m\u001b[1;32m   3465\u001b[0m \u001b[0;34m\u001b[0m\u001b[0m\n\u001b[1;32m   3466\u001b[0m         \u001b[0;31m# take() does not accept boolean indexers\u001b[0m\u001b[0;34m\u001b[0m\u001b[0;34m\u001b[0m\u001b[0;34m\u001b[0m\u001b[0m\n",
      "\u001b[0;32m/usr/local/lib/python3.7/dist-packages/pandas/core/indexing.py\u001b[0m in \u001b[0;36m_get_listlike_indexer\u001b[0;34m(self, key, axis)\u001b[0m\n\u001b[1;32m   1312\u001b[0m             \u001b[0mkeyarr\u001b[0m\u001b[0;34m,\u001b[0m \u001b[0mindexer\u001b[0m\u001b[0;34m,\u001b[0m \u001b[0mnew_indexer\u001b[0m \u001b[0;34m=\u001b[0m \u001b[0max\u001b[0m\u001b[0;34m.\u001b[0m\u001b[0m_reindex_non_unique\u001b[0m\u001b[0;34m(\u001b[0m\u001b[0mkeyarr\u001b[0m\u001b[0;34m)\u001b[0m\u001b[0;34m\u001b[0m\u001b[0;34m\u001b[0m\u001b[0m\n\u001b[1;32m   1313\u001b[0m \u001b[0;34m\u001b[0m\u001b[0m\n\u001b[0;32m-> 1314\u001b[0;31m         \u001b[0mself\u001b[0m\u001b[0;34m.\u001b[0m\u001b[0m_validate_read_indexer\u001b[0m\u001b[0;34m(\u001b[0m\u001b[0mkeyarr\u001b[0m\u001b[0;34m,\u001b[0m \u001b[0mindexer\u001b[0m\u001b[0;34m,\u001b[0m \u001b[0maxis\u001b[0m\u001b[0;34m)\u001b[0m\u001b[0;34m\u001b[0m\u001b[0;34m\u001b[0m\u001b[0m\n\u001b[0m\u001b[1;32m   1315\u001b[0m \u001b[0;34m\u001b[0m\u001b[0m\n\u001b[1;32m   1316\u001b[0m         if needs_i8_conversion(ax.dtype) or isinstance(\n",
      "\u001b[0;32m/usr/local/lib/python3.7/dist-packages/pandas/core/indexing.py\u001b[0m in \u001b[0;36m_validate_read_indexer\u001b[0;34m(self, key, indexer, axis)\u001b[0m\n\u001b[1;32m   1375\u001b[0m \u001b[0;34m\u001b[0m\u001b[0m\n\u001b[1;32m   1376\u001b[0m             \u001b[0mnot_found\u001b[0m \u001b[0;34m=\u001b[0m \u001b[0mlist\u001b[0m\u001b[0;34m(\u001b[0m\u001b[0mensure_index\u001b[0m\u001b[0;34m(\u001b[0m\u001b[0mkey\u001b[0m\u001b[0;34m)\u001b[0m\u001b[0;34m[\u001b[0m\u001b[0mmissing_mask\u001b[0m\u001b[0;34m.\u001b[0m\u001b[0mnonzero\u001b[0m\u001b[0;34m(\u001b[0m\u001b[0;34m)\u001b[0m\u001b[0;34m[\u001b[0m\u001b[0;36m0\u001b[0m\u001b[0;34m]\u001b[0m\u001b[0;34m]\u001b[0m\u001b[0;34m.\u001b[0m\u001b[0munique\u001b[0m\u001b[0;34m(\u001b[0m\u001b[0;34m)\u001b[0m\u001b[0;34m)\u001b[0m\u001b[0;34m\u001b[0m\u001b[0;34m\u001b[0m\u001b[0m\n\u001b[0;32m-> 1377\u001b[0;31m             \u001b[0;32mraise\u001b[0m \u001b[0mKeyError\u001b[0m\u001b[0;34m(\u001b[0m\u001b[0;34mf\"{not_found} not in index\"\u001b[0m\u001b[0;34m)\u001b[0m\u001b[0;34m\u001b[0m\u001b[0;34m\u001b[0m\u001b[0m\n\u001b[0m\u001b[1;32m   1378\u001b[0m \u001b[0;34m\u001b[0m\u001b[0m\n\u001b[1;32m   1379\u001b[0m \u001b[0;34m\u001b[0m\u001b[0m\n",
      "\u001b[0;31mKeyError\u001b[0m: \"['AGE'] not in index\""
     ]
    }
   ],
>>>>>>> fa68eca7d5bf1cb8f04a3b58cc0b694bf3308239
   "source": [
    "data2 = data[['YEAR','age_count', 'cancer_count', 'hrswrk_count', 'health_count', 'income_count', 'SSI_count', 'Health_Coverage_count', 'Education_count', 'JobOccupation_count', \n",
    "             'NoBalancedMeals_count', 'Ownership_home_count', 'highchol_count', 'worrymedbills_count', 'insulin_count', 'foodsecurity_count', 'race_count', 'Welfare_count', \n",
    "              'Delay_MedCost_count', 'Diabetic_count', 'Smoking_count', 'Depressed_count']]"
   ]
  },
  {
   "cell_type": "code",
<<<<<<< HEAD
   "execution_count": 368,
=======
   "execution_count": null,
>>>>>>> fa68eca7d5bf1cb8f04a3b58cc0b694bf3308239
   "id": "d0102d08-dbdc-4f3f-8b55-5bbd929bcfff",
   "metadata": {
    "id": "d0102d08-dbdc-4f3f-8b55-5bbd929bcfff"
   },
<<<<<<< HEAD
   "outputs": [
    {
     "data": {
      "text/html": [
       "<div>\n",
       "<style scoped>\n",
       "    .dataframe tbody tr th:only-of-type {\n",
       "        vertical-align: middle;\n",
       "    }\n",
       "\n",
       "    .dataframe tbody tr th {\n",
       "        vertical-align: top;\n",
       "    }\n",
       "\n",
       "    .dataframe thead th {\n",
       "        text-align: right;\n",
       "    }\n",
       "</style>\n",
       "<table border=\"1\" class=\"dataframe\">\n",
       "  <thead>\n",
       "    <tr style=\"text-align: right;\">\n",
       "      <th></th>\n",
       "      <th>YEAR</th>\n",
       "      <th>age_count</th>\n",
       "      <th>cancer_count</th>\n",
       "      <th>hrswrk_count</th>\n",
       "      <th>health_count</th>\n",
       "      <th>income_count</th>\n",
       "      <th>SSI_count</th>\n",
       "      <th>Health_Coverage_count</th>\n",
       "      <th>Education_count</th>\n",
       "      <th>JobOccupation_count</th>\n",
       "      <th>...</th>\n",
       "      <th>highchol_count</th>\n",
       "      <th>worrymedbills_count</th>\n",
       "      <th>insulin_count</th>\n",
       "      <th>foodsecurity_count</th>\n",
       "      <th>race_count</th>\n",
       "      <th>Welfare_count</th>\n",
       "      <th>Delay_MedCost_count</th>\n",
       "      <th>Diabetic_count</th>\n",
       "      <th>Smoking_count</th>\n",
       "      <th>Depressed_count</th>\n",
       "    </tr>\n",
       "  </thead>\n",
       "  <tbody>\n",
       "    <tr>\n",
       "      <th>0</th>\n",
       "      <td>2016</td>\n",
       "      <td>2</td>\n",
       "      <td>0</td>\n",
       "      <td>1</td>\n",
       "      <td>3</td>\n",
       "      <td>1</td>\n",
       "      <td>0</td>\n",
       "      <td>1</td>\n",
       "      <td>3</td>\n",
       "      <td>15</td>\n",
       "      <td>...</td>\n",
       "      <td>0</td>\n",
       "      <td>1</td>\n",
       "      <td>0</td>\n",
       "      <td>1</td>\n",
       "      <td>2</td>\n",
       "      <td>0</td>\n",
       "      <td>2</td>\n",
       "      <td>0</td>\n",
       "      <td>0</td>\n",
       "      <td>0</td>\n",
       "    </tr>\n",
       "    <tr>\n",
       "      <th>1</th>\n",
       "      <td>2016</td>\n",
       "      <td>2</td>\n",
       "      <td>0</td>\n",
       "      <td>2</td>\n",
       "      <td>3</td>\n",
       "      <td>1</td>\n",
       "      <td>0</td>\n",
       "      <td>1</td>\n",
       "      <td>3</td>\n",
       "      <td>0</td>\n",
       "      <td>...</td>\n",
       "      <td>0</td>\n",
       "      <td>2</td>\n",
       "      <td>0</td>\n",
       "      <td>1</td>\n",
       "      <td>2</td>\n",
       "      <td>0</td>\n",
       "      <td>2</td>\n",
       "      <td>0</td>\n",
       "      <td>0</td>\n",
       "      <td>0</td>\n",
       "    </tr>\n",
       "    <tr>\n",
       "      <th>2</th>\n",
       "      <td>2016</td>\n",
       "      <td>2</td>\n",
       "      <td>0</td>\n",
       "      <td>3</td>\n",
       "      <td>1</td>\n",
       "      <td>3</td>\n",
       "      <td>0</td>\n",
       "      <td>1</td>\n",
       "      <td>4</td>\n",
       "      <td>5</td>\n",
       "      <td>...</td>\n",
       "      <td>0</td>\n",
       "      <td>1</td>\n",
       "      <td>0</td>\n",
       "      <td>1</td>\n",
       "      <td>2</td>\n",
       "      <td>0</td>\n",
       "      <td>1</td>\n",
       "      <td>0</td>\n",
       "      <td>0</td>\n",
       "      <td>2</td>\n",
       "    </tr>\n",
       "    <tr>\n",
       "      <th>3</th>\n",
       "      <td>2016</td>\n",
       "      <td>5</td>\n",
       "      <td>0</td>\n",
       "      <td>1</td>\n",
       "      <td>3</td>\n",
       "      <td>1</td>\n",
       "      <td>0</td>\n",
       "      <td>1</td>\n",
       "      <td>2</td>\n",
       "      <td>12</td>\n",
       "      <td>...</td>\n",
       "      <td>1</td>\n",
       "      <td>2</td>\n",
       "      <td>0</td>\n",
       "      <td>1</td>\n",
       "      <td>1</td>\n",
       "      <td>0</td>\n",
       "      <td>1</td>\n",
       "      <td>0</td>\n",
       "      <td>0</td>\n",
       "      <td>2</td>\n",
       "    </tr>\n",
       "    <tr>\n",
       "      <th>6</th>\n",
       "      <td>2016</td>\n",
       "      <td>3</td>\n",
       "      <td>0</td>\n",
       "      <td>2</td>\n",
       "      <td>1</td>\n",
       "      <td>2</td>\n",
       "      <td>0</td>\n",
       "      <td>1</td>\n",
       "      <td>3</td>\n",
       "      <td>2</td>\n",
       "      <td>...</td>\n",
       "      <td>0</td>\n",
       "      <td>2</td>\n",
       "      <td>0</td>\n",
       "      <td>1</td>\n",
       "      <td>1</td>\n",
       "      <td>0</td>\n",
       "      <td>1</td>\n",
       "      <td>0</td>\n",
       "      <td>1</td>\n",
       "      <td>0</td>\n",
       "    </tr>\n",
       "  </tbody>\n",
       "</table>\n",
       "<p>5 rows × 22 columns</p>\n",
       "</div>"
      ],
      "text/plain": [
       "   YEAR  age_count  cancer_count  hrswrk_count  health_count  income_count  \\\n",
       "0  2016          2             0             1             3             1   \n",
       "1  2016          2             0             2             3             1   \n",
       "2  2016          2             0             3             1             3   \n",
       "3  2016          5             0             1             3             1   \n",
       "6  2016          3             0             2             1             2   \n",
       "\n",
       "   SSI_count  Health_Coverage_count  Education_count  JobOccupation_count  \\\n",
       "0          0                      1                3                   15   \n",
       "1          0                      1                3                    0   \n",
       "2          0                      1                4                    5   \n",
       "3          0                      1                2                   12   \n",
       "6          0                      1                3                    2   \n",
       "\n",
       "   ...  highchol_count  worrymedbills_count  insulin_count  \\\n",
       "0  ...               0                    1              0   \n",
       "1  ...               0                    2              0   \n",
       "2  ...               0                    1              0   \n",
       "3  ...               1                    2              0   \n",
       "6  ...               0                    2              0   \n",
       "\n",
       "   foodsecurity_count  race_count  Welfare_count  Delay_MedCost_count  \\\n",
       "0                   1           2              0                    2   \n",
       "1                   1           2              0                    2   \n",
       "2                   1           2              0                    1   \n",
       "3                   1           1              0                    1   \n",
       "6                   1           1              0                    1   \n",
       "\n",
       "   Diabetic_count  Smoking_count  Depressed_count  \n",
       "0               0              0                0  \n",
       "1               0              0                0  \n",
       "2               0              0                2  \n",
       "3               0              0                2  \n",
       "6               0              1                0  \n",
       "\n",
       "[5 rows x 22 columns]"
      ]
     },
     "execution_count": 368,
     "metadata": {},
     "output_type": "execute_result"
    }
   ],
=======
   "outputs": [],
>>>>>>> fa68eca7d5bf1cb8f04a3b58cc0b694bf3308239
   "source": [
    "data2.head()"
   ]
  },
  {
   "cell_type": "markdown",
   "id": "7fdcee68-ff68-4be4-bc04-8c3fe956ae4a",
   "metadata": {
    "id": "7fdcee68-ff68-4be4-bc04-8c3fe956ae4a"
   },
   "source": [
    "***DataFrame/FilePath***"
   ]
  },
  {
   "cell_type": "markdown",
   "id": "f763644d-d4a4-4e63-a5a2-9a51f5945dc4",
   "metadata": {
    "id": "f763644d-d4a4-4e63-a5a2-9a51f5945dc4"
   },
   "source": [
    "***Categorical Data**"
   ]
  },
  {
   "cell_type": "code",
<<<<<<< HEAD
   "execution_count": 369,
=======
   "execution_count": null,
>>>>>>> fa68eca7d5bf1cb8f04a3b58cc0b694bf3308239
   "id": "83329ef3-2240-4943-8ff9-1a9103bccb1c",
   "metadata": {
    "id": "83329ef3-2240-4943-8ff9-1a9103bccb1c"
   },
   "outputs": [],
   "source": [
    "df = pd.DataFrame(data1)"
   ]
  },
  {
   "cell_type": "code",
<<<<<<< HEAD
   "execution_count": 370,
=======
   "execution_count": null,
>>>>>>> fa68eca7d5bf1cb8f04a3b58cc0b694bf3308239
   "id": "b1aaf758-464b-46e9-9a56-979778d7c99f",
   "metadata": {
    "colab": {
     "base_uri": "https://localhost:8080/",
     "height": 34
    },
    "executionInfo": {
     "elapsed": 2885,
     "status": "ok",
     "timestamp": 1665895765724,
     "user": {
      "displayName": "Derek Hu",
      "userId": "14137525769356790466"
     },
     "user_tz": 420
    },
    "id": "b1aaf758-464b-46e9-9a56-979778d7c99f",
    "outputId": "930199b9-2993-482c-c65d-2f6069f5263b"
   },
<<<<<<< HEAD
   "outputs": [],
=======
   "outputs": [
    {
     "data": {
      "application/javascript": [
       "\n",
       "    async function download(id, filename, size) {\n",
       "      if (!google.colab.kernel.accessAllowed) {\n",
       "        return;\n",
       "      }\n",
       "      const div = document.createElement('div');\n",
       "      const label = document.createElement('label');\n",
       "      label.textContent = `Downloading \"${filename}\": `;\n",
       "      div.appendChild(label);\n",
       "      const progress = document.createElement('progress');\n",
       "      progress.max = size;\n",
       "      div.appendChild(progress);\n",
       "      document.body.appendChild(div);\n",
       "\n",
       "      const buffers = [];\n",
       "      let downloaded = 0;\n",
       "\n",
       "      const channel = await google.colab.kernel.comms.open(id);\n",
       "      // Send a message to notify the kernel that we're ready.\n",
       "      channel.send({})\n",
       "\n",
       "      for await (const message of channel.messages) {\n",
       "        // Send a message to notify the kernel that we're ready.\n",
       "        channel.send({})\n",
       "        if (message.buffers) {\n",
       "          for (const buffer of message.buffers) {\n",
       "            buffers.push(buffer);\n",
       "            downloaded += buffer.byteLength;\n",
       "            progress.value = downloaded;\n",
       "          }\n",
       "        }\n",
       "      }\n",
       "      const blob = new Blob(buffers, {type: 'application/binary'});\n",
       "      const a = document.createElement('a');\n",
       "      a.href = window.URL.createObjectURL(blob);\n",
       "      a.download = filename;\n",
       "      div.appendChild(a);\n",
       "      a.click();\n",
       "      div.remove();\n",
       "    }\n",
       "  "
      ],
      "text/plain": [
       "<IPython.core.display.Javascript object>"
      ]
     },
     "metadata": {},
     "output_type": "display_data"
    },
    {
     "data": {
      "application/javascript": [
       "download(\"download_cbeca804-08d2-4201-b5b7-7e0d29ae9972\", \"data_categorical.csv\", 62385728)"
      ],
      "text/plain": [
       "<IPython.core.display.Javascript object>"
      ]
     },
     "metadata": {},
     "output_type": "display_data"
    }
   ],
>>>>>>> fa68eca7d5bf1cb8f04a3b58cc0b694bf3308239
   "source": [
    "df.to_csv('data_categorical.csv') "
   ]
  },
  {
   "cell_type": "code",
<<<<<<< HEAD
   "execution_count": 371,
=======
   "execution_count": null,
>>>>>>> fa68eca7d5bf1cb8f04a3b58cc0b694bf3308239
   "id": "4594affb-badb-4542-8715-5c2dbf272bb6",
   "metadata": {
    "id": "4594affb-badb-4542-8715-5c2dbf272bb6"
   },
   "outputs": [],
   "source": [
    "#df.to_csv('./data_categorical.csv')"
   ]
  },
  {
   "cell_type": "markdown",
   "id": "8df97c8b-43c1-487c-b49a-87f6eb39c4ab",
   "metadata": {
    "id": "8df97c8b-43c1-487c-b49a-87f6eb39c4ab"
   },
   "source": [
    "***Numerical Data***"
   ]
  },
  {
   "cell_type": "code",
<<<<<<< HEAD
   "execution_count": 380,
=======
   "execution_count": null,
>>>>>>> fa68eca7d5bf1cb8f04a3b58cc0b694bf3308239
   "id": "2b9e96a2-7df2-4561-b1ec-47c39fadac3b",
   "metadata": {
    "id": "2b9e96a2-7df2-4561-b1ec-47c39fadac3b"
   },
   "outputs": [],
   "source": [
    "df1 = pd.DataFrame(data2)"
   ]
  },
  {
   "cell_type": "code",
<<<<<<< HEAD
   "execution_count": 373,
=======
   "execution_count": null,
>>>>>>> fa68eca7d5bf1cb8f04a3b58cc0b694bf3308239
   "id": "c2ab2948-e222-49ac-a1a5-797882107845",
   "metadata": {
    "colab": {
     "base_uri": "https://localhost:8080/",
     "height": 17
    },
    "executionInfo": {
     "elapsed": 971,
     "status": "ok",
     "timestamp": 1665895766691,
     "user": {
      "displayName": "Derek Hu",
      "userId": "14137525769356790466"
     },
     "user_tz": 420
    },
    "id": "c2ab2948-e222-49ac-a1a5-797882107845",
    "outputId": "9df13725-4a70-45be-cf89-5625c63d0ef3"
   },
<<<<<<< HEAD
   "outputs": [],
=======
   "outputs": [
    {
     "data": {
      "application/javascript": [
       "\n",
       "    async function download(id, filename, size) {\n",
       "      if (!google.colab.kernel.accessAllowed) {\n",
       "        return;\n",
       "      }\n",
       "      const div = document.createElement('div');\n",
       "      const label = document.createElement('label');\n",
       "      label.textContent = `Downloading \"${filename}\": `;\n",
       "      div.appendChild(label);\n",
       "      const progress = document.createElement('progress');\n",
       "      progress.max = size;\n",
       "      div.appendChild(progress);\n",
       "      document.body.appendChild(div);\n",
       "\n",
       "      const buffers = [];\n",
       "      let downloaded = 0;\n",
       "\n",
       "      const channel = await google.colab.kernel.comms.open(id);\n",
       "      // Send a message to notify the kernel that we're ready.\n",
       "      channel.send({})\n",
       "\n",
       "      for await (const message of channel.messages) {\n",
       "        // Send a message to notify the kernel that we're ready.\n",
       "        channel.send({})\n",
       "        if (message.buffers) {\n",
       "          for (const buffer of message.buffers) {\n",
       "            buffers.push(buffer);\n",
       "            downloaded += buffer.byteLength;\n",
       "            progress.value = downloaded;\n",
       "          }\n",
       "        }\n",
       "      }\n",
       "      const blob = new Blob(buffers, {type: 'application/binary'});\n",
       "      const a = document.createElement('a');\n",
       "      a.href = window.URL.createObjectURL(blob);\n",
       "      a.download = filename;\n",
       "      div.appendChild(a);\n",
       "      a.click();\n",
       "      div.remove();\n",
       "    }\n",
       "  "
      ],
      "text/plain": [
       "<IPython.core.display.Javascript object>"
      ]
     },
     "metadata": {},
     "output_type": "display_data"
    },
    {
     "data": {
      "application/javascript": [
       "download(\"download_c3f40ec9-daa0-4ab0-af6e-7c9de80b8681\", \"data_numerical.csv\", 11196429)"
      ],
      "text/plain": [
       "<IPython.core.display.Javascript object>"
      ]
     },
     "metadata": {},
     "output_type": "display_data"
    }
   ],
>>>>>>> fa68eca7d5bf1cb8f04a3b58cc0b694bf3308239
   "source": [
    "df1.to_csv('data_numerical.csv') "
   ]
  },
  {
   "cell_type": "code",
<<<<<<< HEAD
   "execution_count": 374,
=======
   "execution_count": null,
>>>>>>> fa68eca7d5bf1cb8f04a3b58cc0b694bf3308239
   "id": "8391c3e3-cbb2-4778-ad91-511ba3c95188",
   "metadata": {
    "id": "8391c3e3-cbb2-4778-ad91-511ba3c95188"
   },
   "outputs": [],
   "source": [
    "#Tableau Data"
   ]
  },
  {
   "cell_type": "code",
<<<<<<< HEAD
   "execution_count": 390,
=======
   "execution_count": null,
>>>>>>> fa68eca7d5bf1cb8f04a3b58cc0b694bf3308239
   "id": "16nm1-2WtnFO",
   "metadata": {
    "id": "16nm1-2WtnFO"
   },
   "outputs": [],
   "source": [
    "#merge categorical and numerical data together\n",
    "data_tableau = pd.concat([df, df1], axis=1)"
   ]
  },
  {
   "cell_type": "code",
<<<<<<< HEAD
   "execution_count": 392,
   "id": "534d76a9-f4ff-469d-8d15-00ee37a115a8",
   "metadata": {},
   "outputs": [],
   "source": [
    "#delete duplicate columns\n",
    "data_tableau = data_tableau.loc[:,~data_tableau.columns.duplicated()].copy()"
   ]
  },
  {
   "cell_type": "code",
   "execution_count": 393,
   "id": "92489fc2-57f5-4b16-a6de-c522841c46e7",
   "metadata": {},
   "outputs": [
    {
     "data": {
      "text/plain": [
       "0    200559\n",
       "1      8206\n",
       "Name: cancer_count, dtype: int64"
      ]
     },
     "execution_count": 393,
     "metadata": {},
     "output_type": "execute_result"
    }
   ],
   "source": [
    "data_tableau['cancer_count'].value_counts()"
   ]
  },
  {
   "cell_type": "code",
   "execution_count": 395,
=======
   "execution_count": null,
>>>>>>> fa68eca7d5bf1cb8f04a3b58cc0b694bf3308239
   "id": "Bepaodqnt8Ex",
   "metadata": {
    "colab": {
     "base_uri": "https://localhost:8080/",
     "height": 34
    },
    "executionInfo": {
     "elapsed": 3247,
     "status": "ok",
     "timestamp": 1665895769935,
     "user": {
      "displayName": "Derek Hu",
      "userId": "14137525769356790466"
     },
     "user_tz": 420
    },
    "id": "Bepaodqnt8Ex",
    "outputId": "8ef9c980-77e2-4e12-8244-8f4d94d55783"
   },
<<<<<<< HEAD
   "outputs": [],
=======
   "outputs": [
    {
     "data": {
      "application/javascript": [
       "\n",
       "    async function download(id, filename, size) {\n",
       "      if (!google.colab.kernel.accessAllowed) {\n",
       "        return;\n",
       "      }\n",
       "      const div = document.createElement('div');\n",
       "      const label = document.createElement('label');\n",
       "      label.textContent = `Downloading \"${filename}\": `;\n",
       "      div.appendChild(label);\n",
       "      const progress = document.createElement('progress');\n",
       "      progress.max = size;\n",
       "      div.appendChild(progress);\n",
       "      document.body.appendChild(div);\n",
       "\n",
       "      const buffers = [];\n",
       "      let downloaded = 0;\n",
       "\n",
       "      const channel = await google.colab.kernel.comms.open(id);\n",
       "      // Send a message to notify the kernel that we're ready.\n",
       "      channel.send({})\n",
       "\n",
       "      for await (const message of channel.messages) {\n",
       "        // Send a message to notify the kernel that we're ready.\n",
       "        channel.send({})\n",
       "        if (message.buffers) {\n",
       "          for (const buffer of message.buffers) {\n",
       "            buffers.push(buffer);\n",
       "            downloaded += buffer.byteLength;\n",
       "            progress.value = downloaded;\n",
       "          }\n",
       "        }\n",
       "      }\n",
       "      const blob = new Blob(buffers, {type: 'application/binary'});\n",
       "      const a = document.createElement('a');\n",
       "      a.href = window.URL.createObjectURL(blob);\n",
       "      a.download = filename;\n",
       "      div.appendChild(a);\n",
       "      a.click();\n",
       "      div.remove();\n",
       "    }\n",
       "  "
      ],
      "text/plain": [
       "<IPython.core.display.Javascript object>"
      ]
     },
     "metadata": {},
     "output_type": "display_data"
    },
    {
     "data": {
      "application/javascript": [
       "download(\"download_826418b7-dfc1-44c1-909b-6c10e5f04387\", \"data_tableau.csv\", 72213755)"
      ],
      "text/plain": [
       "<IPython.core.display.Javascript object>"
      ]
     },
     "metadata": {},
     "output_type": "display_data"
    }
   ],
>>>>>>> fa68eca7d5bf1cb8f04a3b58cc0b694bf3308239
   "source": [
    "data_tableau.to_csv('data_tableau.csv') "
   ]
  },
  {
   "cell_type": "code",
   "execution_count": null,
<<<<<<< HEAD
   "id": "351ce023-53ec-49cb-8eab-8ba9935a735a",
   "metadata": {},
=======
   "id": "mqhQPXIRLPMb",
   "metadata": {
    "id": "mqhQPXIRLPMb"
   },
>>>>>>> fa68eca7d5bf1cb8f04a3b58cc0b694bf3308239
   "outputs": [],
   "source": []
  }
 ],
 "metadata": {
  "colab": {
   "collapsed_sections": [],
   "provenance": []
  },
  "kernelspec": {
   "display_name": "Python 3 (ipykernel)",
   "language": "python",
   "name": "python3"
  },
  "language_info": {
   "codemirror_mode": {
    "name": "ipython",
    "version": 3
   },
   "file_extension": ".py",
   "mimetype": "text/x-python",
   "name": "python",
   "nbconvert_exporter": "python",
   "pygments_lexer": "ipython3",
   "version": "3.9.7"
  }
 },
 "nbformat": 4,
 "nbformat_minor": 5
}
