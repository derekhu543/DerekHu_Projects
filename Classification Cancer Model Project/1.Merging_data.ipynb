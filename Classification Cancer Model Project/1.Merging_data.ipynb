{
 "cells": [
  {
   "cell_type": "code",
   "execution_count": 2,
   "metadata": {
    "id": "zK52oXG9_V8z"
   },
   "outputs": [],
   "source": [
    "#Executive Summary\n",
    "\n",
    "#The goal of this project is to use classification models to predict the probability of a person testing positive for cancer\n",
    "#based on 20 or so socioeconomic and health variables. My data was taken from IPUMS which provides census and survey data\n",
    "#IPUMS is a massive database that collects American and international census records and surveys. Their data includes health,\n",
    "#population, housing, education, and historical data. My metrics are confusion matrix, sensitivity, and accuracy. "
   ]
  },
  {
   "cell_type": "code",
   "execution_count": 174,
   "metadata": {},
   "outputs": [],
   "source": [
    "#Here is my presentation\n",
    "#https://docs.google.com/presentation/d/1PAKrvbSBUsXfa_DXmC4J_ZrADge-Ve3rQv6icB3FCCM/edit#slide=id.gfff6384ca7_1_22"
   ]
  },
  {
   "cell_type": "code",
   "execution_count": 1,
   "metadata": {
    "id": "AedBw7Oj_ZE0"
   },
   "outputs": [],
   "source": [
    "import pandas as pd"
   ]
  },
  {
   "cell_type": "code",
   "execution_count": 2,
   "metadata": {
    "colab": {
     "base_uri": "https://localhost:8080/",
     "height": 73
    },
    "executionInfo": {
     "elapsed": 56686,
     "status": "ok",
     "timestamp": 1665775663303,
     "user": {
      "displayName": "Derek Hu",
      "userId": "14137525769356790466"
     },
     "user_tz": 420
    },
    "id": "qAjfCDQiClW8",
    "outputId": "e831f269-bd52-423d-af55-7aa5235cf7d1"
   },
   "outputs": [],
   "source": [
    "#Originally, I only wanted to include breast cancer as my binary target value. However, I realized my data is extreamely unbalanced.\n",
    "#Only about 1.5 percent of respondents have cancer while 98.5 percent do not. Therefore, I decided to make my y-value be a binary\n",
    "#value where those with any kind of cancer would be 1, while those without cancer would be 0.\n",
    "\n",
    "#I imported my original data nhis_00013.csv"
   ]
  },
  {
   "cell_type": "code",
   "execution_count": 3,
   "metadata": {
    "id": "3WG8pjEvB7bC"
   },
   "outputs": [],
   "source": [
    "data = pd.read_csv('./Data_Files/nhis_00013.csv.gz')"
   ]
  },
  {
   "cell_type": "code",
   "execution_count": 4,
   "metadata": {
    "colab": {
     "base_uri": "https://localhost:8080/"
    },
    "executionInfo": {
     "elapsed": 8,
     "status": "ok",
     "timestamp": 1665775674600,
     "user": {
      "displayName": "Derek Hu",
      "userId": "14137525769356790466"
     },
     "user_tz": 420
    },
    "id": "sLQaWyQ5DXue",
    "outputId": "c612bcf3-5671-4574-8e9e-ecfb65f82b0f"
   },
   "outputs": [
    {
     "data": {
      "text/plain": [
       "Index(['YEAR', 'SERIAL', 'STRATA', 'PSU', 'NHISHID', 'HHWEIGHT', 'LIVINGQTR',\n",
       "       'PERNUM', 'NHISPID', 'HHX',\n",
       "       ...\n",
       "       'ALCAMT', 'CIGDAYMO', 'SMOKFREQNOW', 'STRONGFWK', 'HRSLEEP',\n",
       "       'WORFEELEVL', 'DEPFREQ', 'UNHAPPY', 'MORTELIG', 'MORTWTSA'],\n",
       "      dtype='object', length=112)"
      ]
     },
     "execution_count": 4,
     "metadata": {},
     "output_type": "execute_result"
    }
   ],
   "source": [
    "#I have about 112 columns, I need to delete most of them and find the relevant ones using Tableau visualization as my feature selection.\n",
    "#Classification values are not suited for correlation\n",
    "data.columns"
   ]
  },
  {
   "cell_type": "code",
   "execution_count": 5,
   "metadata": {
    "id": "2fSMxzSYsHSI"
   },
   "outputs": [],
   "source": [
    "#CNBLAD - Ever had cancer: Bladder"
   ]
  },
  {
   "cell_type": "code",
   "execution_count": 6,
   "metadata": {
    "colab": {
     "base_uri": "https://localhost:8080/"
    },
    "executionInfo": {
     "elapsed": 230,
     "status": "ok",
     "timestamp": 1665775675705,
     "user": {
      "displayName": "Derek Hu",
      "userId": "14137525769356790466"
     },
     "user_tz": 420
    },
    "id": "EuRG35Y_E51-",
    "outputId": "f5f023bf-8a14-4609-9846-07e120c26d8d"
   },
   "outputs": [
    {
     "data": {
      "text/plain": [
       "(248132, 112)"
      ]
     },
     "execution_count": 6,
     "metadata": {},
     "output_type": "execute_result"
    }
   ],
   "source": [
    "data.shape"
   ]
  },
  {
   "cell_type": "code",
   "execution_count": 7,
   "metadata": {
    "id": "_VOy08KGsIeI"
   },
   "outputs": [],
   "source": [
    "#For the rest of the cells, those who test positive for cancer will be represented by 1, while those testing negative for cancer will be 0."
   ]
  },
  {
   "cell_type": "code",
   "execution_count": 8,
   "metadata": {
    "id": "m068i-0osQox"
   },
   "outputs": [],
   "source": [
    "data['bladder_cancer'] = data.loc[:, 'CNBLAD']"
   ]
  },
  {
   "cell_type": "code",
   "execution_count": 9,
   "metadata": {
    "id": "PLQZ8kUmsV2b"
   },
   "outputs": [],
   "source": [
    "data['bladder_cancer'] = data['bladder_cancer'].replace([0, 1], 0)"
   ]
  },
  {
   "cell_type": "code",
   "execution_count": 10,
   "metadata": {
    "id": "sb1NOJGVsdex"
   },
   "outputs": [],
   "source": [
    "data['bladder_cancer'] = data['bladder_cancer'].replace(2, 1)"
   ]
  },
  {
   "cell_type": "code",
   "execution_count": 11,
   "metadata": {
    "id": "YVG0MO_1si2b"
   },
   "outputs": [],
   "source": [
    "data = data[data['bladder_cancer'] != 9]\n",
    "data = data[data['bladder_cancer'] != 8]\n",
    "data = data[data['bladder_cancer'] != 7]"
   ]
  },
  {
   "cell_type": "code",
   "execution_count": 12,
   "metadata": {
    "colab": {
     "base_uri": "https://localhost:8080/"
    },
    "executionInfo": {
     "elapsed": 47,
     "status": "ok",
     "timestamp": 1665775681428,
     "user": {
      "displayName": "Derek Hu",
      "userId": "14137525769356790466"
     },
     "user_tz": 420
    },
    "id": "ANrHaobksp2F",
    "outputId": "9814c140-d0d1-40f9-9c3c-a324eb733389"
   },
   "outputs": [
    {
     "data": {
      "text/plain": [
       "0    247836\n",
       "1       256\n",
       "Name: bladder_cancer, dtype: int64"
      ]
     },
     "execution_count": 12,
     "metadata": {},
     "output_type": "execute_result"
    }
   ],
   "source": [
    "data['bladder_cancer'].value_counts()"
   ]
  },
  {
   "cell_type": "code",
   "execution_count": 13,
   "metadata": {
    "id": "b-m0YO7NsmTq"
   },
   "outputs": [],
   "source": [
    "#CNBLOD - Ever had cancer: Blood"
   ]
  },
  {
   "cell_type": "code",
   "execution_count": 14,
   "metadata": {
    "id": "jfl2AarjszLD"
   },
   "outputs": [],
   "source": [
    "data['blood_cancer'] = data.loc[:, 'CNBLOD']"
   ]
  },
  {
   "cell_type": "code",
   "execution_count": 15,
   "metadata": {
    "id": "Pi68ZObvs2_F"
   },
   "outputs": [],
   "source": [
    "data['blood_cancer'] = data['blood_cancer'].replace([0, 1], 0)\n",
    "data['blood_cancer'] = data['blood_cancer'].replace(2, 1)"
   ]
  },
  {
   "cell_type": "code",
   "execution_count": 16,
   "metadata": {
    "id": "0HLE1SSTs8dP"
   },
   "outputs": [],
   "source": [
    "data = data[data['blood_cancer'] != 9]\n",
    "data = data[data['blood_cancer'] != 8]\n",
    "data = data[data['blood_cancer'] != 7]"
   ]
  },
  {
   "cell_type": "code",
   "execution_count": 17,
   "metadata": {
    "colab": {
     "base_uri": "https://localhost:8080/"
    },
    "executionInfo": {
     "elapsed": 80,
     "status": "ok",
     "timestamp": 1665775690583,
     "user": {
      "displayName": "Derek Hu",
      "userId": "14137525769356790466"
     },
     "user_tz": 420
    },
    "id": "r0RPeuCCs_6m",
    "outputId": "97564a53-b1b8-4355-e507-beddf6e3fe02"
   },
   "outputs": [
    {
     "data": {
      "text/plain": [
       "0    248035\n",
       "1        57\n",
       "Name: blood_cancer, dtype: int64"
      ]
     },
     "execution_count": 17,
     "metadata": {},
     "output_type": "execute_result"
    }
   ],
   "source": [
    "data['blood_cancer'].value_counts()"
   ]
  },
  {
   "cell_type": "code",
   "execution_count": 18,
   "metadata": {
    "id": "WDtSdHm-tCf5"
   },
   "outputs": [],
   "source": [
    "#CNBONE - Ever had cancer: Bone"
   ]
  },
  {
   "cell_type": "code",
   "execution_count": 19,
   "metadata": {
    "id": "8IYdrMwVtFmw"
   },
   "outputs": [],
   "source": [
    "data['bone_cancer'] = data.loc[:, 'CNBONE']"
   ]
  },
  {
   "cell_type": "code",
   "execution_count": 20,
   "metadata": {
    "id": "-Zvh5U6-tIf9"
   },
   "outputs": [],
   "source": [
    "data['bone_cancer'] = data['bone_cancer'].replace([0, 1], 0)\n",
    "data['bone_cancer'] = data['bone_cancer'].replace(2, 1)"
   ]
  },
  {
   "cell_type": "code",
   "execution_count": 21,
   "metadata": {
    "id": "nN5bHnwUtL5Y"
   },
   "outputs": [],
   "source": [
    "data = data[data['bone_cancer'] != 9]\n",
    "data = data[data['bone_cancer'] != 8]\n",
    "data = data[data['bone_cancer'] != 7]"
   ]
  },
  {
   "cell_type": "code",
   "execution_count": 22,
   "metadata": {
    "colab": {
     "base_uri": "https://localhost:8080/"
    },
    "executionInfo": {
     "elapsed": 47,
     "status": "ok",
     "timestamp": 1665775690588,
     "user": {
      "displayName": "Derek Hu",
      "userId": "14137525769356790466"
     },
     "user_tz": 420
    },
    "id": "2QBD3J3OtPph",
    "outputId": "dc8f5ffc-9164-4401-afe5-1c31a46acc78"
   },
   "outputs": [
    {
     "data": {
      "text/plain": [
       "0    248007\n",
       "1        85\n",
       "Name: bone_cancer, dtype: int64"
      ]
     },
     "execution_count": 22,
     "metadata": {},
     "output_type": "execute_result"
    }
   ],
   "source": [
    "data['bone_cancer'].value_counts()"
   ]
  },
  {
   "cell_type": "code",
   "execution_count": 23,
   "metadata": {
    "id": "gqOd8sXwtSYj"
   },
   "outputs": [],
   "source": [
    "#CNBRAN - Ever had cancer: Brain"
   ]
  },
  {
   "cell_type": "code",
   "execution_count": 24,
   "metadata": {
    "id": "oG44Ov8gtVuk"
   },
   "outputs": [],
   "source": [
    "data['brain_cancer'] = data.loc[:, 'CNBRAN']"
   ]
  },
  {
   "cell_type": "code",
   "execution_count": 25,
   "metadata": {
    "id": "5TeWOcyHtYw7"
   },
   "outputs": [],
   "source": [
    "data['brain_cancer'] = data['brain_cancer'].replace([0, 1], 0)\n",
    "data['brain_cancer'] = data['brain_cancer'].replace(2, 1)"
   ]
  },
  {
   "cell_type": "code",
   "execution_count": 26,
   "metadata": {
    "id": "5kiSbR9VtcZ8"
   },
   "outputs": [],
   "source": [
    "data = data[data['brain_cancer'] != 9]\n",
    "data = data[data['brain_cancer'] != 8]\n",
    "data = data[data['brain_cancer'] != 7]"
   ]
  },
  {
   "cell_type": "code",
   "execution_count": 27,
   "metadata": {
    "colab": {
     "base_uri": "https://localhost:8080/"
    },
    "executionInfo": {
     "elapsed": 123,
     "status": "ok",
     "timestamp": 1665775699338,
     "user": {
      "displayName": "Derek Hu",
      "userId": "14137525769356790466"
     },
     "user_tz": 420
    },
    "id": "olKqP9WVtf7B",
    "outputId": "1b7e61f7-7a7d-452f-f4e1-8db66d472940"
   },
   "outputs": [
    {
     "data": {
      "text/plain": [
       "0    248027\n",
       "1        65\n",
       "Name: brain_cancer, dtype: int64"
      ]
     },
     "execution_count": 27,
     "metadata": {},
     "output_type": "execute_result"
    }
   ],
   "source": [
    "data['brain_cancer'].value_counts()"
   ]
  },
  {
   "cell_type": "code",
   "execution_count": 28,
   "metadata": {
    "id": "TeXm7CO5thdC"
   },
   "outputs": [],
   "source": [
    "#CNBRES - Ever had cancer: Breast"
   ]
  },
  {
   "cell_type": "code",
   "execution_count": 29,
   "metadata": {
    "id": "aGIjMmZttoP6"
   },
   "outputs": [],
   "source": [
    "data['breast_cancer'] = data.loc[:, 'CNBRES']"
   ]
  },
  {
   "cell_type": "code",
   "execution_count": 30,
   "metadata": {
    "id": "OqAOf3U-tr0Y"
   },
   "outputs": [],
   "source": [
    "data['breast_cancer'] = data['breast_cancer'].replace([0, 1], 0)\n",
    "data['breast_cancer'] = data['breast_cancer'].replace(2, 1)"
   ]
  },
  {
   "cell_type": "code",
   "execution_count": 31,
   "metadata": {
    "id": "l4aI7yJ2tu8w"
   },
   "outputs": [],
   "source": [
    "data = data[data['breast_cancer'] != 9]\n",
    "data = data[data['breast_cancer'] != 8]\n",
    "data = data[data['breast_cancer'] != 7]"
   ]
  },
  {
   "cell_type": "code",
   "execution_count": 32,
   "metadata": {
    "colab": {
     "base_uri": "https://localhost:8080/"
    },
    "executionInfo": {
     "elapsed": 120,
     "status": "ok",
     "timestamp": 1665775699342,
     "user": {
      "displayName": "Derek Hu",
      "userId": "14137525769356790466"
     },
     "user_tz": 420
    },
    "id": "qJg56vSYtyQ_",
    "outputId": "26446683-c4bb-4f65-8dfd-3d6a04b273e6"
   },
   "outputs": [
    {
     "data": {
      "text/plain": [
       "0    246251\n",
       "1      1841\n",
       "Name: breast_cancer, dtype: int64"
      ]
     },
     "execution_count": 32,
     "metadata": {},
     "output_type": "execute_result"
    }
   ],
   "source": [
    "data['breast_cancer'].value_counts()"
   ]
  },
  {
   "cell_type": "code",
   "execution_count": 33,
   "metadata": {
    "id": "1e5iLd8htz5g"
   },
   "outputs": [],
   "source": [
    "#CNCERV - Ever had cancer: Cervix"
   ]
  },
  {
   "cell_type": "code",
   "execution_count": 34,
   "metadata": {
    "id": "aXQGBaNBt419"
   },
   "outputs": [],
   "source": [
    "data['cervix_cancer'] = data.loc[:, 'CNCERV']"
   ]
  },
  {
   "cell_type": "code",
   "execution_count": 35,
   "metadata": {
    "id": "HFFeVb1et3RV"
   },
   "outputs": [],
   "source": [
    "data['cervix_cancer'] = data['cervix_cancer'].replace([0, 1], 0)\n",
    "data['cervix_cancer'] = data['cervix_cancer'].replace(2, 1)"
   ]
  },
  {
   "cell_type": "code",
   "execution_count": 36,
   "metadata": {
    "id": "IRWeyHWLt_C_"
   },
   "outputs": [],
   "source": [
    "data = data[data['cervix_cancer'] != 9]\n",
    "data = data[data['cervix_cancer'] != 8]\n",
    "data = data[data['cervix_cancer'] != 7]"
   ]
  },
  {
   "cell_type": "code",
   "execution_count": 37,
   "metadata": {
    "colab": {
     "base_uri": "https://localhost:8080/"
    },
    "executionInfo": {
     "elapsed": 112,
     "status": "ok",
     "timestamp": 1665775699346,
     "user": {
      "displayName": "Derek Hu",
      "userId": "14137525769356790466"
     },
     "user_tz": 420
    },
    "id": "mY-oxX8euIA9",
    "outputId": "007d4785-f2b5-46d4-db12-370449ebe45a"
   },
   "outputs": [
    {
     "data": {
      "text/plain": [
       "0    247561\n",
       "1       531\n",
       "Name: cervix_cancer, dtype: int64"
      ]
     },
     "execution_count": 37,
     "metadata": {},
     "output_type": "execute_result"
    }
   ],
   "source": [
    "data['cervix_cancer'].value_counts()"
   ]
  },
  {
   "cell_type": "code",
   "execution_count": 38,
   "metadata": {
    "id": "M0gGyxA9uJ3J"
   },
   "outputs": [],
   "source": [
    "#CNCOLN - Ever had cancer: Colon"
   ]
  },
  {
   "cell_type": "code",
   "execution_count": 39,
   "metadata": {
    "id": "FvrHkPHQuPjd"
   },
   "outputs": [],
   "source": [
    "data['colon_cancer'] = data.loc[:, 'CNCOLN']"
   ]
  },
  {
   "cell_type": "code",
   "execution_count": 40,
   "metadata": {
    "id": "oyanivFduSbf"
   },
   "outputs": [],
   "source": [
    "data['colon_cancer'] = data['colon_cancer'].replace([0, 1], 0)\n",
    "data['colon_cancer'] = data['colon_cancer'].replace(2, 1)"
   ]
  },
  {
   "cell_type": "code",
   "execution_count": 41,
   "metadata": {
    "id": "cTu3A9rduVy6"
   },
   "outputs": [],
   "source": [
    "data = data[data['colon_cancer'] != 9]\n",
    "data = data[data['colon_cancer'] != 8]\n",
    "data = data[data['colon_cancer'] != 7]"
   ]
  },
  {
   "cell_type": "code",
   "execution_count": 42,
   "metadata": {
    "colab": {
     "base_uri": "https://localhost:8080/"
    },
    "executionInfo": {
     "elapsed": 88,
     "status": "ok",
     "timestamp": 1665775699361,
     "user": {
      "displayName": "Derek Hu",
      "userId": "14137525769356790466"
     },
     "user_tz": 420
    },
    "id": "cgZRQPi9uZkP",
    "outputId": "54cec5f5-367b-4fa2-c1a5-0bcb698f3b6f"
   },
   "outputs": [
    {
     "data": {
      "text/plain": [
       "0    247530\n",
       "1       562\n",
       "Name: colon_cancer, dtype: int64"
      ]
     },
     "execution_count": 42,
     "metadata": {},
     "output_type": "execute_result"
    }
   ],
   "source": [
    "data['colon_cancer'].value_counts()"
   ]
  },
  {
   "cell_type": "code",
   "execution_count": 43,
   "metadata": {
    "id": "9k9l0vFdudM6"
   },
   "outputs": [],
   "source": [
    "#CNESOP - Ever had cancer: Esophagus"
   ]
  },
  {
   "cell_type": "code",
   "execution_count": 44,
   "metadata": {
    "id": "J7rzpgNVuibQ"
   },
   "outputs": [],
   "source": [
    "data['esophagus_cancer'] = data.loc[:, 'CNESOP']"
   ]
  },
  {
   "cell_type": "code",
   "execution_count": 45,
   "metadata": {
    "id": "yy3KfoNSulZV"
   },
   "outputs": [],
   "source": [
    "data['esophagus_cancer'] = data['esophagus_cancer'].replace([0, 1], 0)\n",
    "data['esophagus_cancer'] = data['esophagus_cancer'].replace(2, 1)"
   ]
  },
  {
   "cell_type": "code",
   "execution_count": 46,
   "metadata": {
    "id": "xdTRg3Ucuozt"
   },
   "outputs": [],
   "source": [
    "data = data[data['esophagus_cancer'] != 9]\n",
    "data = data[data['esophagus_cancer'] != 8]\n",
    "data = data[data['esophagus_cancer'] != 7]"
   ]
  },
  {
   "cell_type": "code",
   "execution_count": 47,
   "metadata": {
    "colab": {
     "base_uri": "https://localhost:8080/"
    },
    "executionInfo": {
     "elapsed": 78,
     "status": "ok",
     "timestamp": 1665775699383,
     "user": {
      "displayName": "Derek Hu",
      "userId": "14137525769356790466"
     },
     "user_tz": 420
    },
    "id": "V5TEckYwurH0",
    "outputId": "91e05be9-285d-4462-fb83-dba57534ce95"
   },
   "outputs": [
    {
     "data": {
      "text/plain": [
       "0    248032\n",
       "1        60\n",
       "Name: esophagus_cancer, dtype: int64"
      ]
     },
     "execution_count": 47,
     "metadata": {},
     "output_type": "execute_result"
    }
   ],
   "source": [
    "data['esophagus_cancer'].value_counts()"
   ]
  },
  {
   "cell_type": "code",
   "execution_count": 48,
   "metadata": {
    "id": "RkRvyttfutqo"
   },
   "outputs": [],
   "source": [
    "#CNGALL - Ever had cancer: Gall bladder"
   ]
  },
  {
   "cell_type": "code",
   "execution_count": 49,
   "metadata": {
    "id": "LbIpn4gTuy_E"
   },
   "outputs": [],
   "source": [
    "data['gallbladder_cancer'] = data.loc[:, 'CNGALL']"
   ]
  },
  {
   "cell_type": "code",
   "execution_count": 50,
   "metadata": {
    "id": "s0VaSLHYu4HR"
   },
   "outputs": [],
   "source": [
    "data['gallbladder_cancer'] = data['gallbladder_cancer'].replace([0, 1], 0)\n",
    "data['gallbladder_cancer'] = data['gallbladder_cancer'].replace(2, 1)"
   ]
  },
  {
   "cell_type": "code",
   "execution_count": 51,
   "metadata": {
    "id": "GQZRXAK5u7jN"
   },
   "outputs": [],
   "source": [
    "data = data[data['gallbladder_cancer'] != 9]\n",
    "data = data[data['gallbladder_cancer'] != 8]\n",
    "data = data[data['gallbladder_cancer'] != 7]"
   ]
  },
  {
   "cell_type": "code",
   "execution_count": 52,
   "metadata": {
    "colab": {
     "base_uri": "https://localhost:8080/"
    },
    "executionInfo": {
     "elapsed": 240,
     "status": "ok",
     "timestamp": 1665775720892,
     "user": {
      "displayName": "Derek Hu",
      "userId": "14137525769356790466"
     },
     "user_tz": 420
    },
    "id": "-Y6CXhMHu-R3",
    "outputId": "b198d710-3017-43b6-fbf9-0741c28c990b"
   },
   "outputs": [
    {
     "data": {
      "text/plain": [
       "0    248082\n",
       "1        10\n",
       "Name: gallbladder_cancer, dtype: int64"
      ]
     },
     "execution_count": 52,
     "metadata": {},
     "output_type": "execute_result"
    }
   ],
   "source": [
    "data['gallbladder_cancer'].value_counts()"
   ]
  },
  {
   "cell_type": "code",
   "execution_count": 53,
   "metadata": {
    "id": "ctDbXK5BvALD"
   },
   "outputs": [],
   "source": [
    "#CNKIDN - Ever had cancer: Kidney"
   ]
  },
  {
   "cell_type": "code",
   "execution_count": 54,
   "metadata": {
    "id": "e6wsNSM1vDBE"
   },
   "outputs": [],
   "source": [
    "data['kidney_cancer'] = data.loc[:, 'CNKIDN']"
   ]
  },
  {
   "cell_type": "code",
   "execution_count": 55,
   "metadata": {
    "id": "tEahC1V_vGd4"
   },
   "outputs": [],
   "source": [
    "data['kidney_cancer'] = data['kidney_cancer'].replace([0, 1], 0)\n",
    "data['kidney_cancer'] = data['kidney_cancer'].replace(2, 1)"
   ]
  },
  {
   "cell_type": "code",
   "execution_count": 56,
   "metadata": {
    "id": "2zc1YruwvJyJ"
   },
   "outputs": [],
   "source": [
    "data = data[data['kidney_cancer'] != 9]\n",
    "data = data[data['kidney_cancer'] != 8]\n",
    "data = data[data['kidney_cancer'] != 7]"
   ]
  },
  {
   "cell_type": "code",
   "execution_count": 57,
   "metadata": {
    "colab": {
     "background_save": true,
     "base_uri": "https://localhost:8080/"
    },
    "executionInfo": {
     "elapsed": 236,
     "status": "ok",
     "timestamp": 1665775720899,
     "user": {
      "displayName": "Derek Hu",
      "userId": "14137525769356790466"
     },
     "user_tz": 420
    },
    "id": "UNqXBhVvvMpX",
    "outputId": "694b51be-344b-4cda-996b-4dbdb97cc5ab"
   },
   "outputs": [
    {
     "data": {
      "text/plain": [
       "0    247881\n",
       "1       211\n",
       "Name: kidney_cancer, dtype: int64"
      ]
     },
     "execution_count": 57,
     "metadata": {},
     "output_type": "execute_result"
    }
   ],
   "source": [
    "data['kidney_cancer'].value_counts()"
   ]
  },
  {
   "cell_type": "code",
   "execution_count": 58,
   "metadata": {
    "colab": {
     "background_save": true
    },
    "id": "keFixhE9vP_g"
   },
   "outputs": [],
   "source": [
    "#CNLARX - Ever had cancer: Larynx-windpipe"
   ]
  },
  {
   "cell_type": "code",
   "execution_count": 59,
   "metadata": {
    "id": "goPYAiFTvqu2"
   },
   "outputs": [],
   "source": [
    "data['larynx_cancer'] = data.loc[:, 'CNLARX']"
   ]
  },
  {
   "cell_type": "code",
   "execution_count": 60,
   "metadata": {
    "id": "QPLtchwkvuEl"
   },
   "outputs": [],
   "source": [
    "data['larynx_cancer'] = data['larynx_cancer'].replace([0, 1], 0)\n",
    "data['larynx_cancer'] = data['larynx_cancer'].replace(2, 1)"
   ]
  },
  {
   "cell_type": "code",
   "execution_count": 61,
   "metadata": {
    "id": "7RBXSqsfvwqt"
   },
   "outputs": [],
   "source": [
    "data = data[data['larynx_cancer'] != 9]\n",
    "data = data[data['larynx_cancer'] != 8]\n",
    "data = data[data['larynx_cancer'] != 7]"
   ]
  },
  {
   "cell_type": "code",
   "execution_count": 62,
   "metadata": {
    "colab": {
     "base_uri": "https://localhost:8080/"
    },
    "executionInfo": {
     "elapsed": 238,
     "status": "ok",
     "timestamp": 1665775720914,
     "user": {
      "displayName": "Derek Hu",
      "userId": "14137525769356790466"
     },
     "user_tz": 420
    },
    "id": "febe5fIVvz8Y",
    "outputId": "fbdfa30c-a074-4fb7-f717-a8407c6ee50b"
   },
   "outputs": [
    {
     "data": {
      "text/plain": [
       "0    248064\n",
       "1        28\n",
       "Name: larynx_cancer, dtype: int64"
      ]
     },
     "execution_count": 62,
     "metadata": {},
     "output_type": "execute_result"
    }
   ],
   "source": [
    "data['larynx_cancer'].value_counts()"
   ]
  },
  {
   "cell_type": "code",
   "execution_count": 63,
   "metadata": {
    "id": "dCMMFa6mv18o"
   },
   "outputs": [],
   "source": [
    "#CNLEUK - Ever had cancer: Leukemia"
   ]
  },
  {
   "cell_type": "code",
   "execution_count": 64,
   "metadata": {
    "id": "yVUuTn7Dv4NJ"
   },
   "outputs": [],
   "source": [
    "data['leukemia_cancer'] = data.loc[:, 'CNLEUK']"
   ]
  },
  {
   "cell_type": "code",
   "execution_count": 65,
   "metadata": {
    "id": "iCAhkRfwv64a"
   },
   "outputs": [],
   "source": [
    "data['leukemia_cancer'] = data['leukemia_cancer'].replace([0, 1], 0)\n",
    "data['leukemia_cancer'] = data['leukemia_cancer'].replace(2, 1)"
   ]
  },
  {
   "cell_type": "code",
   "execution_count": 66,
   "metadata": {
    "id": "kIF5uqTuv98O"
   },
   "outputs": [],
   "source": [
    "data = data[data['leukemia_cancer'] != 9]\n",
    "data = data[data['leukemia_cancer'] != 8]\n",
    "data = data[data['leukemia_cancer'] != 7]"
   ]
  },
  {
   "cell_type": "code",
   "execution_count": 67,
   "metadata": {
    "colab": {
     "base_uri": "https://localhost:8080/"
    },
    "executionInfo": {
     "elapsed": 217,
     "status": "ok",
     "timestamp": 1665775720923,
     "user": {
      "displayName": "Derek Hu",
      "userId": "14137525769356790466"
     },
     "user_tz": 420
    },
    "id": "_H7chnl8wAPw",
    "outputId": "d7ef3416-2d11-4a5c-c538-431cb11dc512"
   },
   "outputs": [
    {
     "data": {
      "text/plain": [
       "0    247953\n",
       "1       139\n",
       "Name: leukemia_cancer, dtype: int64"
      ]
     },
     "execution_count": 67,
     "metadata": {},
     "output_type": "execute_result"
    }
   ],
   "source": [
    "data['leukemia_cancer'].value_counts()"
   ]
  },
  {
   "cell_type": "code",
   "execution_count": 68,
   "metadata": {
    "id": "ip4KzvE2wB76"
   },
   "outputs": [],
   "source": [
    "#CNLIVR - Ever had cancer: Liver"
   ]
  },
  {
   "cell_type": "code",
   "execution_count": 69,
   "metadata": {
    "id": "Lb6-tLXMwEay"
   },
   "outputs": [],
   "source": [
    "data['liver_cancer'] = data.loc[:, 'CNLIVR']"
   ]
  },
  {
   "cell_type": "code",
   "execution_count": 70,
   "metadata": {
    "id": "wk4pAhe6wHf5"
   },
   "outputs": [],
   "source": [
    "data['liver_cancer'] = data['liver_cancer'].replace([0, 1], 0)\n",
    "data['liver_cancer'] = data['liver_cancer'].replace(2, 1)"
   ]
  },
  {
   "cell_type": "code",
   "execution_count": 71,
   "metadata": {
    "id": "88jB_GAgwKrL"
   },
   "outputs": [],
   "source": [
    "data = data[data['liver_cancer'] != 9]\n",
    "data = data[data['liver_cancer'] != 8]\n",
    "data = data[data['liver_cancer'] != 7]"
   ]
  },
  {
   "cell_type": "code",
   "execution_count": 72,
   "metadata": {
    "colab": {
     "base_uri": "https://localhost:8080/"
    },
    "executionInfo": {
     "elapsed": 205,
     "status": "ok",
     "timestamp": 1665775720927,
     "user": {
      "displayName": "Derek Hu",
      "userId": "14137525769356790466"
     },
     "user_tz": 420
    },
    "id": "QBl0i-9awOq3",
    "outputId": "73353c6f-aefa-4f00-c291-c121c1428371"
   },
   "outputs": [
    {
     "data": {
      "text/plain": [
       "0    248025\n",
       "1        67\n",
       "Name: liver_cancer, dtype: int64"
      ]
     },
     "execution_count": 72,
     "metadata": {},
     "output_type": "execute_result"
    }
   ],
   "source": [
    "data['liver_cancer'].value_counts()"
   ]
  },
  {
   "cell_type": "code",
   "execution_count": 73,
   "metadata": {
    "id": "XGvfqnubwQqm"
   },
   "outputs": [],
   "source": [
    "#CNLUNG - Ever had cancer: Lung"
   ]
  },
  {
   "cell_type": "code",
   "execution_count": 248,
   "metadata": {
    "id": "olr9Ayb7wU1h"
   },
   "outputs": [],
   "source": [
    "data['lung_cancer'] = data.loc[:, 'CNLUNG']"
   ]
  },
  {
   "cell_type": "code",
   "execution_count": 249,
   "metadata": {
    "id": "ZOWmp2BmwTVj"
   },
   "outputs": [],
   "source": [
    "data['lung_cancer'] = data['lung_cancer'].replace([0, 1], 0)\n",
    "data['lung_cancer'] = data['lung_cancer'].replace(2, 1)"
   ]
  },
  {
   "cell_type": "code",
   "execution_count": 250,
   "metadata": {
    "id": "3NJvtf-Ywbou"
   },
   "outputs": [],
   "source": [
    "data = data[data['lung_cancer'] != 9]\n",
    "data = data[data['lung_cancer'] != 8]\n",
    "data = data[data['lung_cancer'] != 7]"
   ]
  },
  {
   "cell_type": "code",
   "execution_count": 251,
   "metadata": {
    "colab": {
     "base_uri": "https://localhost:8080/"
    },
    "executionInfo": {
     "elapsed": 207,
     "status": "ok",
     "timestamp": 1665775720939,
     "user": {
      "displayName": "Derek Hu",
      "userId": "14137525769356790466"
     },
     "user_tz": 420
    },
    "id": "RMCDfTZ_wk35",
    "outputId": "2c6ef5aa-9df8-44b5-acfe-40843f39056b"
   },
   "outputs": [
    {
     "data": {
      "text/plain": [
       "0    247774\n",
       "1       318\n",
       "Name: lung_cancer, dtype: int64"
      ]
     },
     "execution_count": 251,
     "metadata": {},
     "output_type": "execute_result"
    }
   ],
   "source": [
    "data['lung_cancer'].value_counts()"
   ]
  },
  {
   "cell_type": "code",
   "execution_count": 252,
   "metadata": {
    "id": "d7Pi9MxwwmsF"
   },
   "outputs": [],
   "source": [
    "#CNLYMP - Ever had cancer: Lymphoma"
   ]
  },
  {
   "cell_type": "code",
   "execution_count": 253,
   "metadata": {
    "id": "-mDEa8v3wpRI"
   },
   "outputs": [],
   "source": [
    "data['Lymphoma_cancer'] = data.loc[:, 'CNLYMP']"
   ]
  },
  {
   "cell_type": "code",
   "execution_count": 254,
   "metadata": {
    "id": "nOnn9J-Mwu5r"
   },
   "outputs": [],
   "source": [
    "data['Lymphoma_cancer'] = data['Lymphoma_cancer'].replace([0, 1], 0)\n",
    "data['Lymphoma_cancer'] = data['Lymphoma_cancer'].replace(2, 1)"
   ]
  },
  {
   "cell_type": "code",
   "execution_count": 255,
   "metadata": {
    "id": "BUSPI0npwyur"
   },
   "outputs": [],
   "source": [
    "data = data[data['Lymphoma_cancer'] != 9]\n",
    "data = data[data['Lymphoma_cancer'] != 8]\n",
    "data = data[data['Lymphoma_cancer'] != 7]"
   ]
  },
  {
   "cell_type": "code",
   "execution_count": 256,
   "metadata": {
    "colab": {
     "base_uri": "https://localhost:8080/"
    },
    "executionInfo": {
     "elapsed": 201,
     "status": "ok",
     "timestamp": 1665775720944,
     "user": {
      "displayName": "Derek Hu",
      "userId": "14137525769356790466"
     },
     "user_tz": 420
    },
    "id": "wDcF5IvWw1wA",
    "outputId": "554e1d5e-1fad-453a-c2f2-a3474fbe70a6"
   },
   "outputs": [
    {
     "data": {
      "text/plain": [
       "0    247787\n",
       "1       305\n",
       "Name: Lymphoma_cancer, dtype: int64"
      ]
     },
     "execution_count": 256,
     "metadata": {},
     "output_type": "execute_result"
    }
   ],
   "source": [
    "data['Lymphoma_cancer'].value_counts()"
   ]
  },
  {
   "cell_type": "code",
   "execution_count": 257,
   "metadata": {
    "id": "Anc9ZpLuw3d8"
   },
   "outputs": [],
   "source": [
    "#CNMELN - Ever had cancer: Melanoma"
   ]
  },
  {
   "cell_type": "code",
   "execution_count": 258,
   "metadata": {
    "id": "SQWnxfKUw-hh"
   },
   "outputs": [],
   "source": [
    "data['Melanoma_cancer'] = data.loc[:, 'CNMELN']"
   ]
  },
  {
   "cell_type": "code",
   "execution_count": 259,
   "metadata": {
    "id": "94rewUpnxCxW"
   },
   "outputs": [],
   "source": [
    "data['Melanoma_cancer'] = data['Melanoma_cancer'].replace([0, 1], 0)\n",
    "data['Melanoma_cancer'] = data['Melanoma_cancer'].replace(2, 1)"
   ]
  },
  {
   "cell_type": "code",
   "execution_count": 260,
   "metadata": {
    "id": "-9Wns-gKxFn6"
   },
   "outputs": [],
   "source": [
    "data = data[data['Melanoma_cancer'] != 9]\n",
    "data = data[data['Melanoma_cancer'] != 8]\n",
    "data = data[data['Melanoma_cancer'] != 7]"
   ]
  },
  {
   "cell_type": "code",
   "execution_count": 261,
   "metadata": {
    "colab": {
     "base_uri": "https://localhost:8080/"
    },
    "executionInfo": {
     "elapsed": 183,
     "status": "ok",
     "timestamp": 1665775720947,
     "user": {
      "displayName": "Derek Hu",
      "userId": "14137525769356790466"
     },
     "user_tz": 420
    },
    "id": "QGz-vP7YxIRr",
    "outputId": "beccc353-b176-40f3-f14f-df2d34a9834f"
   },
   "outputs": [
    {
     "data": {
      "text/plain": [
       "0    247356\n",
       "1       736\n",
       "Name: Melanoma_cancer, dtype: int64"
      ]
     },
     "execution_count": 261,
     "metadata": {},
     "output_type": "execute_result"
    }
   ],
   "source": [
    "data['Melanoma_cancer'].value_counts()"
   ]
  },
  {
   "cell_type": "code",
   "execution_count": 262,
   "metadata": {
    "id": "-DA99G-cxKDj"
   },
   "outputs": [],
   "source": [
    "#CNMOTH - Ever had cancer: Mouth/tongue/lip"
   ]
  },
  {
   "cell_type": "code",
   "execution_count": 263,
   "metadata": {
    "id": "n3Epczv7xMOn"
   },
   "outputs": [],
   "source": [
    "data['Mouth_cancer'] = data.loc[:, 'CNMOTH']"
   ]
  },
  {
   "cell_type": "code",
   "execution_count": 264,
   "metadata": {
    "id": "6REqUqmqxQWP"
   },
   "outputs": [],
   "source": [
    "data['Mouth_cancer'] = data['Mouth_cancer'].replace([0, 1], 0)\n",
    "data['Mouth_cancer'] = data['Mouth_cancer'].replace(2, 1)"
   ]
  },
  {
   "cell_type": "code",
   "execution_count": 265,
   "metadata": {
    "id": "2ATUmcXoxTw8"
   },
   "outputs": [],
   "source": [
    "data = data[data['Mouth_cancer'] != 9]\n",
    "data = data[data['Mouth_cancer'] != 8]\n",
    "data = data[data['Mouth_cancer'] != 7]"
   ]
  },
  {
   "cell_type": "code",
   "execution_count": 266,
   "metadata": {
    "colab": {
     "base_uri": "https://localhost:8080/"
    },
    "executionInfo": {
     "elapsed": 162,
     "status": "ok",
     "timestamp": 1665775720951,
     "user": {
      "displayName": "Derek Hu",
      "userId": "14137525769356790466"
     },
     "user_tz": 420
    },
    "id": "6DP-PAuixbVr",
    "outputId": "1ea63a8b-c63a-4f89-b5e8-3a92a737aa8d"
   },
   "outputs": [
    {
     "data": {
      "text/plain": [
       "0    248051\n",
       "1        41\n",
       "Name: Mouth_cancer, dtype: int64"
      ]
     },
     "execution_count": 266,
     "metadata": {},
     "output_type": "execute_result"
    }
   ],
   "source": [
    "data['Mouth_cancer'].value_counts()"
   ]
  },
  {
   "cell_type": "code",
   "execution_count": 267,
   "metadata": {
    "id": "ZbROsHT5xdRk"
   },
   "outputs": [],
   "source": [
    "#CNOTHR - Ever had cancer: Other kind"
   ]
  },
  {
   "cell_type": "code",
   "execution_count": 268,
   "metadata": {
    "id": "-gABdP28xfYk"
   },
   "outputs": [],
   "source": [
    "data['Other_cancer'] = data.loc[:, 'CNOTHR']"
   ]
  },
  {
   "cell_type": "code",
   "execution_count": 269,
   "metadata": {
    "id": "MltrsTEJxhm6"
   },
   "outputs": [],
   "source": [
    "data['Other_cancer'] = data['Other_cancer'].replace([0, 1], 0)\n",
    "data['Other_cancer'] = data['Other_cancer'].replace(2, 1)"
   ]
  },
  {
   "cell_type": "code",
   "execution_count": 270,
   "metadata": {
    "id": "b0zPk3NexkpW"
   },
   "outputs": [],
   "source": [
    "data = data[data['Other_cancer'] != 9]\n",
    "data = data[data['Other_cancer'] != 8]\n",
    "data = data[data['Other_cancer'] != 7]"
   ]
  },
  {
   "cell_type": "code",
   "execution_count": 271,
   "metadata": {
    "colab": {
     "base_uri": "https://localhost:8080/"
    },
    "executionInfo": {
     "elapsed": 153,
     "status": "ok",
     "timestamp": 1665775720954,
     "user": {
      "displayName": "Derek Hu",
      "userId": "14137525769356790466"
     },
     "user_tz": 420
    },
    "id": "pyUl64QGxnz-",
    "outputId": "e18ef2c7-6fbc-499c-a20c-e5be80558fce"
   },
   "outputs": [
    {
     "data": {
      "text/plain": [
       "0    247578\n",
       "1       514\n",
       "Name: Other_cancer, dtype: int64"
      ]
     },
     "execution_count": 271,
     "metadata": {},
     "output_type": "execute_result"
    }
   ],
   "source": [
    "data['Other_cancer'].value_counts()"
   ]
  },
  {
   "cell_type": "code",
   "execution_count": 272,
   "metadata": {
    "id": "jalCcffjxpqg"
   },
   "outputs": [],
   "source": [
    "#CNOVAR - Ever had cancer: Ovarian"
   ]
  },
  {
   "cell_type": "code",
   "execution_count": 273,
   "metadata": {
    "id": "1YqxH9oWxsCT"
   },
   "outputs": [],
   "source": [
    "data['Ovarian_cancer'] = data.loc[:, 'CNOVAR']"
   ]
  },
  {
   "cell_type": "code",
   "execution_count": 274,
   "metadata": {
    "id": "lWnhwqPTxxq5"
   },
   "outputs": [],
   "source": [
    "data['Ovarian_cancer'] = data['Ovarian_cancer'].replace([0, 1], 0)\n",
    "data['Ovarian_cancer'] = data['Ovarian_cancer'].replace(2, 1)"
   ]
  },
  {
   "cell_type": "code",
   "execution_count": 275,
   "metadata": {
    "id": "l8UF_88Ux0i3"
   },
   "outputs": [],
   "source": [
    "data = data[data['Ovarian_cancer'] != 9]\n",
    "data = data[data['Ovarian_cancer'] != 8]\n",
    "data = data[data['Ovarian_cancer'] != 7]"
   ]
  },
  {
   "cell_type": "code",
   "execution_count": 276,
   "metadata": {
    "colab": {
     "base_uri": "https://localhost:8080/"
    },
    "executionInfo": {
     "elapsed": 47,
     "status": "ok",
     "timestamp": 1665775722167,
     "user": {
      "displayName": "Derek Hu",
      "userId": "14137525769356790466"
     },
     "user_tz": 420
    },
    "id": "IoLzWa_ex24M",
    "outputId": "c3428d3f-5267-4003-a142-ac632e2c788f"
   },
   "outputs": [
    {
     "data": {
      "text/plain": [
       "0    247890\n",
       "1       202\n",
       "Name: Ovarian_cancer, dtype: int64"
      ]
     },
     "execution_count": 276,
     "metadata": {},
     "output_type": "execute_result"
    }
   ],
   "source": [
    "data['Ovarian_cancer'].value_counts()"
   ]
  },
  {
   "cell_type": "code",
   "execution_count": 277,
   "metadata": {
    "id": "zxWf0w1fx4wH"
   },
   "outputs": [],
   "source": [
    "#CNPANC - Ever had cancer: Pancreatic"
   ]
  },
  {
   "cell_type": "code",
   "execution_count": 278,
   "metadata": {
    "id": "TcHWjicdx7r9"
   },
   "outputs": [],
   "source": [
    "data['Pancreatic_cancer'] = data.loc[:, 'CNPANC']"
   ]
  },
  {
   "cell_type": "code",
   "execution_count": 279,
   "metadata": {
    "id": "TjIhhKEnx-k-"
   },
   "outputs": [],
   "source": [
    "data['Pancreatic_cancer'] = data['Pancreatic_cancer'].replace([0, 1], 0)\n",
    "data['Pancreatic_cancer'] = data['Pancreatic_cancer'].replace(2, 1)"
   ]
  },
  {
   "cell_type": "code",
   "execution_count": 280,
   "metadata": {
    "id": "WWt7YPEvyCTK"
   },
   "outputs": [],
   "source": [
    "data = data[data['Pancreatic_cancer'] != 9]\n",
    "data = data[data['Pancreatic_cancer'] != 8]\n",
    "data = data[data['Pancreatic_cancer'] != 7]"
   ]
  },
  {
   "cell_type": "code",
   "execution_count": 281,
   "metadata": {
    "colab": {
     "base_uri": "https://localhost:8080/"
    },
    "executionInfo": {
     "elapsed": 30,
     "status": "ok",
     "timestamp": 1665775722172,
     "user": {
      "displayName": "Derek Hu",
      "userId": "14137525769356790466"
     },
     "user_tz": 420
    },
    "id": "gbS7Dly3yGkM",
    "outputId": "fb91015e-08ac-41a3-8af7-166908858e1a"
   },
   "outputs": [
    {
     "data": {
      "text/plain": [
       "0    248040\n",
       "1        52\n",
       "Name: Pancreatic_cancer, dtype: int64"
      ]
     },
     "execution_count": 281,
     "metadata": {},
     "output_type": "execute_result"
    }
   ],
   "source": [
    "data['Pancreatic_cancer'].value_counts()"
   ]
  },
  {
   "cell_type": "code",
   "execution_count": 282,
   "metadata": {
    "id": "GE16g7IIyJiL"
   },
   "outputs": [],
   "source": [
    "#CNPROS - Ever had cancer: Prostate"
   ]
  },
  {
   "cell_type": "code",
   "execution_count": 283,
   "metadata": {
    "id": "FRnXLrPPyL0q"
   },
   "outputs": [],
   "source": [
    "data['Prostate_cancer'] = data.loc[:, 'CNPROS']"
   ]
  },
  {
   "cell_type": "code",
   "execution_count": 284,
   "metadata": {
    "id": "gBFcckROyPoE"
   },
   "outputs": [],
   "source": [
    "data['Prostate_cancer'] = data['Prostate_cancer'].replace([0, 1], 0)\n",
    "data['Prostate_cancer'] = data['Prostate_cancer'].replace(2, 1)"
   ]
  },
  {
   "cell_type": "code",
   "execution_count": 285,
   "metadata": {
    "id": "mgT98jRQySpB"
   },
   "outputs": [],
   "source": [
    "data = data[data['Prostate_cancer'] != 9]\n",
    "data = data[data['Prostate_cancer'] != 8]\n",
    "data = data[data['Prostate_cancer'] != 7]"
   ]
  },
  {
   "cell_type": "code",
   "execution_count": 286,
   "metadata": {
    "colab": {
     "base_uri": "https://localhost:8080/"
    },
    "executionInfo": {
     "elapsed": 78,
     "status": "ok",
     "timestamp": 1665775722973,
     "user": {
      "displayName": "Derek Hu",
      "userId": "14137525769356790466"
     },
     "user_tz": 420
    },
    "id": "JHHbD-J0yVl-",
    "outputId": "1dd23307-381c-4feb-9683-4200cab09792"
   },
   "outputs": [
    {
     "data": {
      "text/plain": [
       "0    246942\n",
       "1      1150\n",
       "Name: Prostate_cancer, dtype: int64"
      ]
     },
     "execution_count": 286,
     "metadata": {},
     "output_type": "execute_result"
    }
   ],
   "source": [
    "data['Prostate_cancer'].value_counts()"
   ]
  },
  {
   "cell_type": "code",
   "execution_count": 287,
   "metadata": {
    "id": "dwY-EsNPyYjG"
   },
   "outputs": [],
   "source": [
    "#CNRECT - Ever had cancer: Rectal"
   ]
  },
  {
   "cell_type": "code",
   "execution_count": 288,
   "metadata": {
    "id": "-1QPYoK_ybC7"
   },
   "outputs": [],
   "source": [
    "data['Rectal_cancer'] = data.loc[:, 'CNRECT']"
   ]
  },
  {
   "cell_type": "code",
   "execution_count": 289,
   "metadata": {
    "id": "8TSxSEpSyeJJ"
   },
   "outputs": [],
   "source": [
    "data['Rectal_cancer'] = data['Rectal_cancer'].replace([0, 1], 0)\n",
    "data['Rectal_cancer'] = data['Rectal_cancer'].replace(2, 1)"
   ]
  },
  {
   "cell_type": "code",
   "execution_count": 290,
   "metadata": {
    "id": "BOJ2GR4LylaQ"
   },
   "outputs": [],
   "source": [
    "data = data[data['Rectal_cancer'] != 9]\n",
    "data = data[data['Rectal_cancer'] != 8]\n",
    "data = data[data['Rectal_cancer'] != 7]"
   ]
  },
  {
   "cell_type": "code",
   "execution_count": 291,
   "metadata": {
    "colab": {
     "base_uri": "https://localhost:8080/"
    },
    "executionInfo": {
     "elapsed": 63,
     "status": "ok",
     "timestamp": 1665775722979,
     "user": {
      "displayName": "Derek Hu",
      "userId": "14137525769356790466"
     },
     "user_tz": 420
    },
    "id": "-PnuzPPyynp_",
    "outputId": "599213b1-e518-40d0-c03b-f5ab67a3eb36"
   },
   "outputs": [
    {
     "data": {
      "text/plain": [
       "0    248028\n",
       "1        64\n",
       "Name: Rectal_cancer, dtype: int64"
      ]
     },
     "execution_count": 291,
     "metadata": {},
     "output_type": "execute_result"
    }
   ],
   "source": [
    "data['Rectal_cancer'].value_counts()"
   ]
  },
  {
   "cell_type": "code",
   "execution_count": 292,
   "metadata": {
    "id": "kXz7YPCKyrTA"
   },
   "outputs": [],
   "source": [
    "#CNSKDK - Ever had cancer: Skin (don't know what kind)"
   ]
  },
  {
   "cell_type": "code",
   "execution_count": 293,
   "metadata": {
    "id": "A96mxDbDytw_"
   },
   "outputs": [],
   "source": [
    "data['Skin_cancer'] = data.loc[:, 'CNSKDK']"
   ]
  },
  {
   "cell_type": "code",
   "execution_count": 294,
   "metadata": {
    "id": "M7ogAlwvywkA"
   },
   "outputs": [],
   "source": [
    "data['Skin_cancer'] = data['Skin_cancer'].replace([0, 1], 0)\n",
    "data['Skin_cancer'] = data['Skin_cancer'].replace(2, 1)"
   ]
  },
  {
   "cell_type": "code",
   "execution_count": 295,
   "metadata": {
    "id": "bgR6W0iGy1Mt"
   },
   "outputs": [],
   "source": [
    "data = data[data['Skin_cancer'] != 9]\n",
    "data = data[data['Skin_cancer'] != 8]\n",
    "data = data[data['Skin_cancer'] != 7]"
   ]
  },
  {
   "cell_type": "code",
   "execution_count": 296,
   "metadata": {
    "colab": {
     "base_uri": "https://localhost:8080/"
    },
    "executionInfo": {
     "elapsed": 668,
     "status": "ok",
     "timestamp": 1665775723623,
     "user": {
      "displayName": "Derek Hu",
      "userId": "14137525769356790466"
     },
     "user_tz": 420
    },
    "id": "cBlxEulNy4Tu",
    "outputId": "5caf28f6-b334-4000-f808-cd534f31c4f8"
   },
   "outputs": [
    {
     "data": {
      "text/plain": [
       "0    247191\n",
       "1       901\n",
       "Name: Skin_cancer, dtype: int64"
      ]
     },
     "execution_count": 296,
     "metadata": {},
     "output_type": "execute_result"
    }
   ],
   "source": [
    "data['Skin_cancer'].value_counts()"
   ]
  },
  {
   "cell_type": "code",
   "execution_count": 297,
   "metadata": {
    "id": "PEanlckSy5rz"
   },
   "outputs": [],
   "source": [
    "#CNSKNM - Ever had cancer: Skin (non-melanoma)"
   ]
  },
  {
   "cell_type": "code",
   "execution_count": 298,
   "metadata": {
    "id": "xHRTve2Fy8xM"
   },
   "outputs": [],
   "source": [
    "data['Skin1_cancer'] = data.loc[:, 'CNSKNM']"
   ]
  },
  {
   "cell_type": "code",
   "execution_count": 299,
   "metadata": {
    "id": "FcyTelWVy_h1"
   },
   "outputs": [],
   "source": [
    "data['Skin1_cancer'] = data['Skin1_cancer'].replace([0, 1], 0)\n",
    "data['Skin1_cancer'] = data['Skin1_cancer'].replace(2, 1)"
   ]
  },
  {
   "cell_type": "code",
   "execution_count": 300,
   "metadata": {
    "id": "Q-Lf1KD4zBOZ"
   },
   "outputs": [],
   "source": [
    "data = data[data['Skin1_cancer'] != 9]\n",
    "data = data[data['Skin1_cancer'] != 8]\n",
    "data = data[data['Skin1_cancer'] != 7]"
   ]
  },
  {
   "cell_type": "code",
   "execution_count": 301,
   "metadata": {
    "colab": {
     "base_uri": "https://localhost:8080/"
    },
    "executionInfo": {
     "elapsed": 16,
     "status": "ok",
     "timestamp": 1665775723626,
     "user": {
      "displayName": "Derek Hu",
      "userId": "14137525769356790466"
     },
     "user_tz": 420
    },
    "id": "dkey_VaJzDFO",
    "outputId": "477ecd40-01cf-417f-a348-b2d4b453a4a1"
   },
   "outputs": [
    {
     "data": {
      "text/plain": [
       "0    245989\n",
       "1      2103\n",
       "Name: Skin1_cancer, dtype: int64"
      ]
     },
     "execution_count": 301,
     "metadata": {},
     "output_type": "execute_result"
    }
   ],
   "source": [
    "data['Skin1_cancer'].value_counts()"
   ]
  },
  {
   "cell_type": "code",
   "execution_count": 302,
   "metadata": {
    "id": "PIJCuaq9zEel"
   },
   "outputs": [],
   "source": [
    "#CNSOFT - Ever had cancer: Soft tissue (muscle)"
   ]
  },
  {
   "cell_type": "code",
   "execution_count": 303,
   "metadata": {
    "id": "EQwcJ1qzzG0b"
   },
   "outputs": [],
   "source": [
    "data['Skin2_cancer'] = data.loc[:, 'CNSOFT']"
   ]
  },
  {
   "cell_type": "code",
   "execution_count": 304,
   "metadata": {
    "id": "-WcrmnBBzJNB"
   },
   "outputs": [],
   "source": [
    "data['Skin2_cancer'] = data['Skin2_cancer'].replace([0, 1], 0)\n",
    "data['Skin2_cancer'] = data['Skin2_cancer'].replace(2, 1)"
   ]
  },
  {
   "cell_type": "code",
   "execution_count": 305,
   "metadata": {
    "id": "xYhmcWKzzLul"
   },
   "outputs": [],
   "source": [
    "data = data[data['Skin2_cancer'] != 9]\n",
    "data = data[data['Skin2_cancer'] != 8]\n",
    "data = data[data['Skin2_cancer'] != 7]"
   ]
  },
  {
   "cell_type": "code",
   "execution_count": 306,
   "metadata": {
    "colab": {
     "base_uri": "https://localhost:8080/"
    },
    "executionInfo": {
     "elapsed": 13,
     "status": "ok",
     "timestamp": 1665775723986,
     "user": {
      "displayName": "Derek Hu",
      "userId": "14137525769356790466"
     },
     "user_tz": 420
    },
    "id": "Cc2UtTWVzNhc",
    "outputId": "2d2a8e2a-3b3e-4064-b4f1-e37e3b9b7b24"
   },
   "outputs": [
    {
     "data": {
      "text/plain": [
       "0    248052\n",
       "1        40\n",
       "Name: Skin2_cancer, dtype: int64"
      ]
     },
     "execution_count": 306,
     "metadata": {},
     "output_type": "execute_result"
    }
   ],
   "source": [
    "data['Skin2_cancer'].value_counts()"
   ]
  },
  {
   "cell_type": "code",
   "execution_count": 307,
   "metadata": {
    "id": "eMRtVxjQzPBh"
   },
   "outputs": [],
   "source": [
    "#CNSTOM - Ever had cancer: Stomach"
   ]
  },
  {
   "cell_type": "code",
   "execution_count": 308,
   "metadata": {
    "id": "4fw7399AzSN1"
   },
   "outputs": [],
   "source": [
    "data['Stomach_cancer'] = data.loc[:, 'CNSTOM']"
   ]
  },
  {
   "cell_type": "code",
   "execution_count": 309,
   "metadata": {
    "id": "Qj65-m77zU9T"
   },
   "outputs": [],
   "source": [
    "data['Stomach_cancer'] = data['Stomach_cancer'].replace([0, 1], 0)\n",
    "data['Stomach_cancer'] = data['Stomach_cancer'].replace(2, 1)"
   ]
  },
  {
   "cell_type": "code",
   "execution_count": 310,
   "metadata": {
    "id": "rylMM9KQzY9_"
   },
   "outputs": [],
   "source": [
    "data = data[data['Stomach_cancer'] != 9]\n",
    "data = data[data['Stomach_cancer'] != 8]\n",
    "data = data[data['Stomach_cancer'] != 7]"
   ]
  },
  {
   "cell_type": "code",
   "execution_count": 311,
   "metadata": {
    "colab": {
     "base_uri": "https://localhost:8080/"
    },
    "executionInfo": {
     "elapsed": 12,
     "status": "ok",
     "timestamp": 1665775724493,
     "user": {
      "displayName": "Derek Hu",
      "userId": "14137525769356790466"
     },
     "user_tz": 420
    },
    "id": "KBzE5QVuzboN",
    "outputId": "2299e93d-ab7b-41ce-a333-f4be050aeb52"
   },
   "outputs": [
    {
     "data": {
      "text/plain": [
       "0    248030\n",
       "1        62\n",
       "Name: Stomach_cancer, dtype: int64"
      ]
     },
     "execution_count": 311,
     "metadata": {},
     "output_type": "execute_result"
    }
   ],
   "source": [
    "data['Stomach_cancer'].value_counts()"
   ]
  },
  {
   "cell_type": "code",
   "execution_count": 312,
   "metadata": {
    "id": "M6HcOo52zdJ-"
   },
   "outputs": [],
   "source": [
    "#CNTEST - Ever had cancer: Testicular"
   ]
  },
  {
   "cell_type": "code",
   "execution_count": 313,
   "metadata": {
    "id": "k_rWwp1QzfB8"
   },
   "outputs": [],
   "source": [
    "data['Testicular_cancer'] = data.loc[:, 'CNTEST']"
   ]
  },
  {
   "cell_type": "code",
   "execution_count": 314,
   "metadata": {
    "id": "i4Bh8LXLzhvR"
   },
   "outputs": [],
   "source": [
    "data['Testicular_cancer'] = data['Testicular_cancer'].replace([0, 1], 0)\n",
    "data['Testicular_cancer'] = data['Testicular_cancer'].replace(2, 1)"
   ]
  },
  {
   "cell_type": "code",
   "execution_count": 315,
   "metadata": {
    "id": "y1lzsqVEzlHm"
   },
   "outputs": [],
   "source": [
    "data = data[data['Testicular_cancer'] != 9]\n",
    "data = data[data['Testicular_cancer'] != 8]\n",
    "data = data[data['Testicular_cancer'] != 7]"
   ]
  },
  {
   "cell_type": "code",
   "execution_count": 316,
   "metadata": {
    "colab": {
     "base_uri": "https://localhost:8080/"
    },
    "executionInfo": {
     "elapsed": 10,
     "status": "ok",
     "timestamp": 1665775724897,
     "user": {
      "displayName": "Derek Hu",
      "userId": "14137525769356790466"
     },
     "user_tz": 420
    },
    "id": "VIMe9rozzncV",
    "outputId": "a0e52e2c-8154-4881-b7f8-157d48921a9f"
   },
   "outputs": [
    {
     "data": {
      "text/plain": [
       "0    248014\n",
       "1        78\n",
       "Name: Testicular_cancer, dtype: int64"
      ]
     },
     "execution_count": 316,
     "metadata": {},
     "output_type": "execute_result"
    }
   ],
   "source": [
    "data['Testicular_cancer'].value_counts()"
   ]
  },
  {
   "cell_type": "code",
   "execution_count": 317,
   "metadata": {
    "id": "oq0ikAUuzo7P"
   },
   "outputs": [],
   "source": [
    "#CNTHRO - Ever had cancer: Throat-pharynx"
   ]
  },
  {
   "cell_type": "code",
   "execution_count": 318,
   "metadata": {
    "id": "-lVtUCE5zrLW"
   },
   "outputs": [],
   "source": [
    "data['Throat_cancer'] = data.loc[:, 'CNTHRO']"
   ]
  },
  {
   "cell_type": "code",
   "execution_count": 319,
   "metadata": {
    "id": "bReZfev5zvHy"
   },
   "outputs": [],
   "source": [
    "data['Throat_cancer'] = data['Throat_cancer'].replace([0, 1], 0)\n",
    "data['Throat_cancer'] = data['Throat_cancer'].replace(2, 1)"
   ]
  },
  {
   "cell_type": "code",
   "execution_count": 320,
   "metadata": {
    "id": "inZi-DyJz0Pi"
   },
   "outputs": [],
   "source": [
    "data = data[data['Throat_cancer'] != 9]\n",
    "data = data[data['Throat_cancer'] != 8]\n",
    "data = data[data['Throat_cancer'] != 7]"
   ]
  },
  {
   "cell_type": "code",
   "execution_count": 321,
   "metadata": {
    "colab": {
     "base_uri": "https://localhost:8080/"
    },
    "executionInfo": {
     "elapsed": 10,
     "status": "ok",
     "timestamp": 1665775725585,
     "user": {
      "displayName": "Derek Hu",
      "userId": "14137525769356790466"
     },
     "user_tz": 420
    },
    "id": "QFXD5roiz2vr",
    "outputId": "e4d11204-2d16-487a-cce0-e62fce92d9d7"
   },
   "outputs": [
    {
     "data": {
      "text/plain": [
       "0    248012\n",
       "1        80\n",
       "Name: Throat_cancer, dtype: int64"
      ]
     },
     "execution_count": 321,
     "metadata": {},
     "output_type": "execute_result"
    }
   ],
   "source": [
    "data['Throat_cancer'].value_counts()"
   ]
  },
  {
   "cell_type": "code",
   "execution_count": 322,
   "metadata": {
    "id": "p_GsViRkz3_b"
   },
   "outputs": [],
   "source": [
    "#CNTHYR - Ever had cancer: Thyroid"
   ]
  },
  {
   "cell_type": "code",
   "execution_count": 323,
   "metadata": {
    "id": "ZhI1H_YWz6YQ"
   },
   "outputs": [],
   "source": [
    "data['Thyroid_cancer'] = data.loc[:, 'CNTHYR']"
   ]
  },
  {
   "cell_type": "code",
   "execution_count": 324,
   "metadata": {
    "id": "iH2JUfULz9cN"
   },
   "outputs": [],
   "source": [
    "data['Thyroid_cancer'] = data['Thyroid_cancer'].replace([0, 1], 0)\n",
    "data['Thyroid_cancer'] = data['Thyroid_cancer'].replace(2, 1)"
   ]
  },
  {
   "cell_type": "code",
   "execution_count": 325,
   "metadata": {
    "id": "3zrsYFUlz_9W"
   },
   "outputs": [],
   "source": [
    "data = data[data['Thyroid_cancer'] != 9]\n",
    "data = data[data['Thyroid_cancer'] != 8]\n",
    "data = data[data['Thyroid_cancer'] != 7]"
   ]
  },
  {
   "cell_type": "code",
   "execution_count": 326,
   "metadata": {
    "colab": {
     "base_uri": "https://localhost:8080/"
    },
    "executionInfo": {
     "elapsed": 31,
     "status": "ok",
     "timestamp": 1665775726365,
     "user": {
      "displayName": "Derek Hu",
      "userId": "14137525769356790466"
     },
     "user_tz": 420
    },
    "id": "XW_BhzJg0ChO",
    "outputId": "a73d9fd6-3afb-4560-c43b-ba57dbcb1cab"
   },
   "outputs": [
    {
     "data": {
      "text/plain": [
       "0    247827\n",
       "1       265\n",
       "Name: Thyroid_cancer, dtype: int64"
      ]
     },
     "execution_count": 326,
     "metadata": {},
     "output_type": "execute_result"
    }
   ],
   "source": [
    "data['Thyroid_cancer'].value_counts()"
   ]
  },
  {
   "cell_type": "code",
   "execution_count": 327,
   "metadata": {
    "id": "6AjdnyEJ0EAr"
   },
   "outputs": [],
   "source": [
    "#CNUTER - Ever had cancer: Uterine"
   ]
  },
  {
   "cell_type": "code",
   "execution_count": 328,
   "metadata": {
    "id": "6LYFguHe0GUL"
   },
   "outputs": [],
   "source": [
    "data['Uterine_cancer'] = data.loc[:, 'CNUTER']"
   ]
  },
  {
   "cell_type": "code",
   "execution_count": 329,
   "metadata": {
    "id": "GgfGhRE10JKu"
   },
   "outputs": [],
   "source": [
    "data['Uterine_cancer'] = data['Uterine_cancer'].replace([0, 1], 0)\n",
    "data['Uterine_cancer'] = data['Uterine_cancer'].replace(2, 1)"
   ]
  },
  {
   "cell_type": "code",
   "execution_count": 330,
   "metadata": {
    "id": "MUVTrZ060NQL"
   },
   "outputs": [],
   "source": [
    "data = data[data['Uterine_cancer'] != 9]\n",
    "data = data[data['Uterine_cancer'] != 8]\n",
    "data = data[data['Uterine_cancer'] != 7]"
   ]
  },
  {
   "cell_type": "code",
   "execution_count": 331,
   "metadata": {
    "colab": {
     "base_uri": "https://localhost:8080/"
    },
    "executionInfo": {
     "elapsed": 6,
     "status": "ok",
     "timestamp": 1665775726741,
     "user": {
      "displayName": "Derek Hu",
      "userId": "14137525769356790466"
     },
     "user_tz": 420
    },
    "id": "bVPEqZk50PGc",
    "outputId": "78c4905d-34e3-4c34-9566-c33589035ea7"
   },
   "outputs": [
    {
     "data": {
      "text/plain": [
       "0    247705\n",
       "1       387\n",
       "Name: Uterine_cancer, dtype: int64"
      ]
     },
     "execution_count": 331,
     "metadata": {},
     "output_type": "execute_result"
    }
   ],
   "source": [
    "data['Uterine_cancer'].value_counts()"
   ]
  },
  {
   "cell_type": "code",
   "execution_count": 332,
   "metadata": {
    "colab": {
     "base_uri": "https://localhost:8080/"
    },
    "executionInfo": {
     "elapsed": 253,
     "status": "ok",
     "timestamp": 1665775726990,
     "user": {
      "displayName": "Derek Hu",
      "userId": "14137525769356790466"
     },
     "user_tz": 420
    },
    "id": "zra0snfA0nZN",
    "outputId": "72a45439-b40b-41a4-c559-25cc9751fcaa"
   },
   "outputs": [
    {
     "name": "stdout",
     "output_type": "stream",
     "text": [
      "['YEAR', 'SERIAL', 'STRATA', 'PSU', 'NHISHID', 'HHWEIGHT', 'LIVINGQTR', 'PERNUM', 'NHISPID', 'HHX', 'FMX', 'PX', 'PERWEIGHT', 'SAMPWEIGHT', 'FWEIGHT', 'SUPP1WT', 'ASTATFLG', 'CSTATFLG', 'AGE', 'SEX', 'SEXORIEN', 'MARST', 'RACENEW', 'NOWAF', 'ARMFCC', 'EDUC', 'EMPSTAT', 'OCC', 'OCC1995', 'IND1995', 'HOURSWRK', 'PAIDSICK', 'CLASSWK2', 'OCCUPN204', 'INDSTRN204', 'POORYN', 'INCFAM07ON', 'WELFMO', 'GOTWELF', 'GOTNEWELF', 'GOTSSIWHY', 'GOTWAGE', 'GOTSEMP', 'STAMPMO', 'FSBALANC', 'FSHUNGRY', 'FSSTATDET', 'OWNERSHIP', 'LOWRENT', 'HEALTH', 'BMI', 'NBHDTRUST', 'DELAYCOST', 'YBARMEDS', 'YBARMENTAL', 'WORMEDBILL', 'YDELAYMEDYR', 'HIPCONAFFORD', 'HCSATIS12M', 'HIUNABLEPAY', 'HINOTCOVE', 'HIPRIVATEE', 'HINOTCOV', 'ADDEV', 'ANGIPECEV', 'ARTHGLUPEV', 'ASTHMAEV', 'AUTISMEV', 'CHEARTDIEV', 'CHOLHIGHEV', 'CNBLAD', 'CNBLOD', 'CNBONE', 'CNBRAN', 'CNBRES', 'CNCERV', 'CNCOLN', 'CNESOP', 'CNGALL', 'CNKIDN', 'CNLARX', 'CNLEUK', 'CNLIVR', 'CNLUNG', 'CNLYMP', 'CNMELN', 'CNMOTH', 'CNOTHR', 'CNOVAR', 'CNPANC', 'CNPROS', 'CNRECT', 'CNSKDK', 'CNSKNM', 'CNSOFT', 'CNSTOM', 'CNTEST', 'CNTHRO', 'CNTHYR', 'CNUTER', 'INSULIN', 'DIAPRECOND', 'ALCAMT', 'CIGDAYMO', 'SMOKFREQNOW', 'STRONGFWK', 'HRSLEEP', 'WORFEELEVL', 'DEPFREQ', 'UNHAPPY', 'MORTELIG', 'MORTWTSA', 'bladder_cancer', 'blood_cancer', 'bone_cancer', 'brain_cancer', 'breast_cancer', 'cervix_cancer', 'colon_cancer', 'esophagus_cancer', 'gallbladder_cancer', 'kidney_cancer', 'larynx_cancer', 'leukemia_cancer', 'liver_cancer', 'lung_cancer', 'Lymphoma_cancer', 'Melanoma_cancer', 'Mouth_cancer', 'Other_cancer', 'Ovarian_cancer', 'Pancreatic_cancer', 'Prostate_cancer', 'Rectal_cancer', 'Skin_cancer', 'Skin1_cancer', 'Skin2_cancer', 'Stomach_cancer', 'Testicular_cancer', 'Throat_cancer', 'Thyroid_cancer', 'Uterine_cancer']\n"
     ]
    }
   ],
   "source": [
    "#Now I'm finished turning all of the cancer variables into binary numerical ones\n",
    "print(data.columns.tolist())"
   ]
  },
  {
   "cell_type": "code",
   "execution_count": 333,
   "metadata": {
    "id": "uw8yjMIR0jEh"
   },
   "outputs": [],
   "source": [
    "#all of my cancer data, turned into binary values of 0 for no cancer, 1 for with cancer\n",
    "cols = data[['bladder_cancer', 'blood_cancer', 'bone_cancer', 'brain_cancer', 'breast_cancer', \n",
    "             'cervix_cancer', 'colon_cancer', 'esophagus_cancer', 'gallbladder_cancer', \n",
    "             'kidney_cancer', 'larynx_cancer', 'leukemia_cancer', 'liver_cancer', 'lung_cancer', \n",
    "             'Lymphoma_cancer', 'Melanoma_cancer', 'Mouth_cancer', 'Other_cancer', 'Ovarian_cancer', \n",
    "             'Pancreatic_cancer', 'Prostate_cancer', 'Rectal_cancer', 'Skin_cancer', 'Skin1_cancer', \n",
    "             'Skin2_cancer', 'Stomach_cancer', 'Testicular_cancer', 'Throat_cancer', 'Thyroid_cancer', \n",
    "             'Uterine_cancer']]"
   ]
  },
  {
   "cell_type": "code",
   "execution_count": 334,
   "metadata": {
    "colab": {
     "base_uri": "https://localhost:8080/"
    },
    "executionInfo": {
     "elapsed": 5,
     "status": "ok",
     "timestamp": 1665775727840,
     "user": {
      "displayName": "Derek Hu",
      "userId": "14137525769356790466"
     },
     "user_tz": 420
    },
    "id": "zaFY9hPXLNHH",
    "outputId": "ebdb7517-3fcf-41a8-b570-c5b0b9eebdac"
   },
   "outputs": [
    {
     "data": {
      "text/plain": [
       "0.03891298389307193"
      ]
     },
     "execution_count": 334,
     "metadata": {},
     "output_type": "execute_result"
    }
   ],
   "source": [
    "#I want my target column to be cancer_count. Roughly 3.9% of the population have cancer, this makes my data more balanced\n",
    "#compared to if I had only used breast cancer which has a value of only 1.7%. It's not ideal but this is what I have to work with.\n",
    "sum([x if x == 0 else 1 for x in cols.sum(axis=1)]) / data.shape[0]\n",
    "#cols.sum(axis=1)"
   ]
  },
  {
   "cell_type": "code",
   "execution_count": 335,
   "metadata": {
    "id": "YzeuZdNyMQxT"
   },
   "outputs": [],
   "source": [
    "#This function makes it so that anyone who tests positive for cancer will be represented by the value 1. \n",
    "#Those who test negative for cancer will be represented by the value 0.\n",
    "def my_list(data):\n",
    "    if ((data['bladder_cancer'] == 1) or (data['blood_cancer'] == 1) or (data['bone_cancer'] == 1) \n",
    "    or (data['brain_cancer'] == 1) or (data['breast_cancer'] == 1) or (data['cervix_cancer'] == 1)\n",
    "    or (data['colon_cancer'] == 1) or (data['esophagus_cancer'] == 1) or (data['gallbladder_cancer'] == 1)\n",
    "    or (data['kidney_cancer'] == 1) or (data['larynx_cancer'] == 1) or (data['leukemia_cancer'] == 1)\n",
    "    or (data['liver_cancer'] == 1) or (data['lung_cancer'] == 1) or (data['Lymphoma_cancer'] == 1)\n",
    "    or (data['Melanoma_cancer'] == 1) or (data['Mouth_cancer'] == 1) or (data['Other_cancer'] == 1)\n",
    "    or (data['Ovarian_cancer'] == 1) or (data['Pancreatic_cancer'] == 1) or (data['Prostate_cancer'] == 1)\n",
    "    or (data['Rectal_cancer'] == 1) or (data['Skin_cancer'] == 1) or (data['Skin1_cancer'] == 1)\n",
    "    or (data['Skin2_cancer'] == 1) or (data['Stomach_cancer'] == 1) or (data['Testicular_cancer'] == 1)\n",
    "    or (data['Throat_cancer'] == 1) or (data['Thyroid_cancer'] == 1) or (data['Uterine_cancer'] == 1)):\n",
    "        return 1\n",
    "    else:\n",
    "        return 0"
   ]
  },
  {
   "cell_type": "code",
   "execution_count": 336,
   "metadata": {
    "id": "l97jBUCg3AHw"
   },
   "outputs": [],
   "source": [
    "data['cancer_count'] = data.apply(my_list, axis=1)"
   ]
  },
  {
   "cell_type": "code",
   "execution_count": 337,
   "metadata": {
    "colab": {
     "base_uri": "https://localhost:8080/"
    },
    "executionInfo": {
     "elapsed": 11,
     "status": "ok",
     "timestamp": 1665775763081,
     "user": {
      "displayName": "Derek Hu",
      "userId": "14137525769356790466"
     },
     "user_tz": 420
    },
    "id": "KmZj-dGWHNkJ",
    "outputId": "6598d1a1-88dc-4349-c59f-8ec86903dcf1"
   },
   "outputs": [
    {
     "data": {
      "text/plain": [
       "0.03897377929391817"
      ]
     },
     "execution_count": 337,
     "metadata": {},
     "output_type": "execute_result"
    }
   ],
   "source": [
    "9654 / 247705"
   ]
  },
  {
   "cell_type": "code",
   "execution_count": 338,
   "metadata": {
    "colab": {
     "base_uri": "https://localhost:8080/",
     "height": 206
    },
    "executionInfo": {
     "elapsed": 7,
     "status": "ok",
     "timestamp": 1665775800845,
     "user": {
      "displayName": "Derek Hu",
      "userId": "14137525769356790466"
     },
     "user_tz": 420
    },
    "id": "oJav-TFwIMQH",
    "outputId": "171ff9a6-7fbb-49cb-d53a-79d34f53f6c5"
   },
   "outputs": [
    {
     "data": {
      "text/html": [
       "<div>\n",
       "<style scoped>\n",
       "    .dataframe tbody tr th:only-of-type {\n",
       "        vertical-align: middle;\n",
       "    }\n",
       "\n",
       "    .dataframe tbody tr th {\n",
       "        vertical-align: top;\n",
       "    }\n",
       "\n",
       "    .dataframe thead th {\n",
       "        text-align: right;\n",
       "    }\n",
       "</style>\n",
       "<table border=\"1\" class=\"dataframe\">\n",
       "  <thead>\n",
       "    <tr style=\"text-align: right;\">\n",
       "      <th></th>\n",
       "      <th>cancer_count</th>\n",
       "    </tr>\n",
       "  </thead>\n",
       "  <tbody>\n",
       "    <tr>\n",
       "      <th>0</th>\n",
       "      <td>0</td>\n",
       "    </tr>\n",
       "    <tr>\n",
       "      <th>1</th>\n",
       "      <td>0</td>\n",
       "    </tr>\n",
       "    <tr>\n",
       "      <th>2</th>\n",
       "      <td>0</td>\n",
       "    </tr>\n",
       "    <tr>\n",
       "      <th>3</th>\n",
       "      <td>0</td>\n",
       "    </tr>\n",
       "    <tr>\n",
       "      <th>4</th>\n",
       "      <td>0</td>\n",
       "    </tr>\n",
       "  </tbody>\n",
       "</table>\n",
       "</div>"
      ],
      "text/plain": [
       "   cancer_count\n",
       "0             0\n",
       "1             0\n",
       "2             0\n",
       "3             0\n",
       "4             0"
      ]
     },
     "execution_count": 338,
     "metadata": {},
     "output_type": "execute_result"
    }
   ],
   "source": [
    "data[['cancer_count']].head()"
   ]
  },
  {
   "cell_type": "code",
   "execution_count": 339,
   "metadata": {
    "id": "5U6EpJVJ9fi9"
   },
   "outputs": [],
   "source": [
    "#I'm dropping these cancer binary variables because they are no longer needed. Only want the cancer_count variable \n",
    "#data.drop(columns=['bladder_cancer', 'blood_cancer', 'bone_cancer', 'brain_cancer', 'breast_cancer', \n",
    "#             'cervix_cancer', 'colon_cancer', 'esophagus_cancer', 'gallbladder_cancer', \n",
    "#             'kidney_cancer', 'larynx_cancer', 'leukemia_cancer', 'liver_cancer', 'lung_cancer', \n",
    "#             'Lymphoma_cancer', 'Melanoma_cancer', 'Mouth_cancer', 'Other_cancer', 'Ovarian_cancer', \n",
    "#             'Pancreatic_cancer', 'Prostate_cancer', 'Rectal_cancer', 'Skin_cancer', 'Skin1_cancer', \n",
    "#             'Skin2_cancer', 'Stomach_cancer', 'Testicular_cancer', 'Throat_cancer', 'Thyroid_cancer', \n",
    "#             'Uterine_cancer'], inplace=True)"
   ]
  },
  {
   "cell_type": "code",
   "execution_count": 340,
   "metadata": {
    "colab": {
     "base_uri": "https://localhost:8080/",
     "height": 299
    },
    "executionInfo": {
     "elapsed": 160,
     "status": "ok",
     "timestamp": 1665776141214,
     "user": {
      "displayName": "Derek Hu",
      "userId": "14137525769356790466"
     },
     "user_tz": 420
    },
    "id": "6IUIHM1Q-NYc",
    "outputId": "66031eec-d797-40e7-9485-6069ba7a9913"
   },
   "outputs": [
    {
     "data": {
      "text/html": [
       "<div>\n",
       "<style scoped>\n",
       "    .dataframe tbody tr th:only-of-type {\n",
       "        vertical-align: middle;\n",
       "    }\n",
       "\n",
       "    .dataframe tbody tr th {\n",
       "        vertical-align: top;\n",
       "    }\n",
       "\n",
       "    .dataframe thead th {\n",
       "        text-align: right;\n",
       "    }\n",
       "</style>\n",
       "<table border=\"1\" class=\"dataframe\">\n",
       "  <thead>\n",
       "    <tr style=\"text-align: right;\">\n",
       "      <th></th>\n",
       "      <th>YEAR</th>\n",
       "      <th>SERIAL</th>\n",
       "      <th>STRATA</th>\n",
       "      <th>PSU</th>\n",
       "      <th>NHISHID</th>\n",
       "      <th>HHWEIGHT</th>\n",
       "      <th>LIVINGQTR</th>\n",
       "      <th>PERNUM</th>\n",
       "      <th>NHISPID</th>\n",
       "      <th>HHX</th>\n",
       "      <th>...</th>\n",
       "      <th>Rectal_cancer</th>\n",
       "      <th>Skin_cancer</th>\n",
       "      <th>Skin1_cancer</th>\n",
       "      <th>Skin2_cancer</th>\n",
       "      <th>Stomach_cancer</th>\n",
       "      <th>Testicular_cancer</th>\n",
       "      <th>Throat_cancer</th>\n",
       "      <th>Thyroid_cancer</th>\n",
       "      <th>Uterine_cancer</th>\n",
       "      <th>cancer_count</th>\n",
       "    </tr>\n",
       "  </thead>\n",
       "  <tbody>\n",
       "    <tr>\n",
       "      <th>0</th>\n",
       "      <td>2016</td>\n",
       "      <td>1</td>\n",
       "      <td>7131</td>\n",
       "      <td>20</td>\n",
       "      <td>2016000001</td>\n",
       "      <td>5621</td>\n",
       "      <td>21</td>\n",
       "      <td>1</td>\n",
       "      <td>20160000010101</td>\n",
       "      <td>1</td>\n",
       "      <td>...</td>\n",
       "      <td>0</td>\n",
       "      <td>0</td>\n",
       "      <td>0</td>\n",
       "      <td>0</td>\n",
       "      <td>0</td>\n",
       "      <td>0</td>\n",
       "      <td>0</td>\n",
       "      <td>0</td>\n",
       "      <td>0</td>\n",
       "      <td>0</td>\n",
       "    </tr>\n",
       "    <tr>\n",
       "      <th>1</th>\n",
       "      <td>2016</td>\n",
       "      <td>1</td>\n",
       "      <td>7131</td>\n",
       "      <td>20</td>\n",
       "      <td>2016000001</td>\n",
       "      <td>5621</td>\n",
       "      <td>21</td>\n",
       "      <td>2</td>\n",
       "      <td>20160000010102</td>\n",
       "      <td>1</td>\n",
       "      <td>...</td>\n",
       "      <td>0</td>\n",
       "      <td>0</td>\n",
       "      <td>0</td>\n",
       "      <td>0</td>\n",
       "      <td>0</td>\n",
       "      <td>0</td>\n",
       "      <td>0</td>\n",
       "      <td>0</td>\n",
       "      <td>0</td>\n",
       "      <td>0</td>\n",
       "    </tr>\n",
       "    <tr>\n",
       "      <th>2</th>\n",
       "      <td>2016</td>\n",
       "      <td>1</td>\n",
       "      <td>7131</td>\n",
       "      <td>20</td>\n",
       "      <td>2016000001</td>\n",
       "      <td>5621</td>\n",
       "      <td>21</td>\n",
       "      <td>3</td>\n",
       "      <td>20160000010201</td>\n",
       "      <td>1</td>\n",
       "      <td>...</td>\n",
       "      <td>0</td>\n",
       "      <td>0</td>\n",
       "      <td>0</td>\n",
       "      <td>0</td>\n",
       "      <td>0</td>\n",
       "      <td>0</td>\n",
       "      <td>0</td>\n",
       "      <td>0</td>\n",
       "      <td>0</td>\n",
       "      <td>0</td>\n",
       "    </tr>\n",
       "    <tr>\n",
       "      <th>3</th>\n",
       "      <td>2016</td>\n",
       "      <td>2</td>\n",
       "      <td>7149</td>\n",
       "      <td>2</td>\n",
       "      <td>2016000002</td>\n",
       "      <td>1752</td>\n",
       "      <td>21</td>\n",
       "      <td>1</td>\n",
       "      <td>20160000020101</td>\n",
       "      <td>2</td>\n",
       "      <td>...</td>\n",
       "      <td>0</td>\n",
       "      <td>0</td>\n",
       "      <td>0</td>\n",
       "      <td>0</td>\n",
       "      <td>0</td>\n",
       "      <td>0</td>\n",
       "      <td>0</td>\n",
       "      <td>0</td>\n",
       "      <td>0</td>\n",
       "      <td>0</td>\n",
       "    </tr>\n",
       "    <tr>\n",
       "      <th>4</th>\n",
       "      <td>2016</td>\n",
       "      <td>3</td>\n",
       "      <td>7129</td>\n",
       "      <td>2</td>\n",
       "      <td>2016000003</td>\n",
       "      <td>4442</td>\n",
       "      <td>21</td>\n",
       "      <td>1</td>\n",
       "      <td>20160000030101</td>\n",
       "      <td>3</td>\n",
       "      <td>...</td>\n",
       "      <td>0</td>\n",
       "      <td>0</td>\n",
       "      <td>0</td>\n",
       "      <td>0</td>\n",
       "      <td>0</td>\n",
       "      <td>0</td>\n",
       "      <td>0</td>\n",
       "      <td>0</td>\n",
       "      <td>0</td>\n",
       "      <td>0</td>\n",
       "    </tr>\n",
       "  </tbody>\n",
       "</table>\n",
       "<p>5 rows × 143 columns</p>\n",
       "</div>"
      ],
      "text/plain": [
       "   YEAR  SERIAL  STRATA  PSU     NHISHID  HHWEIGHT  LIVINGQTR  PERNUM  \\\n",
       "0  2016       1    7131   20  2016000001      5621         21       1   \n",
       "1  2016       1    7131   20  2016000001      5621         21       2   \n",
       "2  2016       1    7131   20  2016000001      5621         21       3   \n",
       "3  2016       2    7149    2  2016000002      1752         21       1   \n",
       "4  2016       3    7129    2  2016000003      4442         21       1   \n",
       "\n",
       "          NHISPID  HHX  ...  Rectal_cancer  Skin_cancer  Skin1_cancer  \\\n",
       "0  20160000010101    1  ...              0            0             0   \n",
       "1  20160000010102    1  ...              0            0             0   \n",
       "2  20160000010201    1  ...              0            0             0   \n",
       "3  20160000020101    2  ...              0            0             0   \n",
       "4  20160000030101    3  ...              0            0             0   \n",
       "\n",
       "   Skin2_cancer  Stomach_cancer  Testicular_cancer  Throat_cancer  \\\n",
       "0             0               0                  0              0   \n",
       "1             0               0                  0              0   \n",
       "2             0               0                  0              0   \n",
       "3             0               0                  0              0   \n",
       "4             0               0                  0              0   \n",
       "\n",
       "   Thyroid_cancer  Uterine_cancer  cancer_count  \n",
       "0               0               0             0  \n",
       "1               0               0             0  \n",
       "2               0               0             0  \n",
       "3               0               0             0  \n",
       "4               0               0             0  \n",
       "\n",
       "[5 rows x 143 columns]"
      ]
     },
     "execution_count": 340,
     "metadata": {},
     "output_type": "execute_result"
    }
   ],
   "source": [
    "#Here is my data with the column cancer_count which is my y-value.\n",
    "#Cancer_count variable is the last column on the right side\n",
    "data.head()"
   ]
  },
  {
   "cell_type": "code",
   "execution_count": 341,
   "metadata": {
    "colab": {
     "base_uri": "https://localhost:8080/",
     "height": 17
    },
    "executionInfo": {
     "elapsed": 6331,
     "status": "ok",
     "timestamp": 1665776164627,
     "user": {
      "displayName": "Derek Hu",
      "userId": "14137525769356790466"
     },
     "user_tz": 420
    },
    "id": "2-l2ewR072RX",
    "outputId": "e7337e0c-d343-455a-ca7d-36d52caec3f7"
   },
   "outputs": [],
   "source": [
    "#My data is exported as cancer_data.csv\n",
    "data.to_csv('cancer_data.csv') "
   ]
  },
  {
   "cell_type": "code",
   "execution_count": null,
   "metadata": {
    "id": "6UxC-T7X79C4"
   },
   "outputs": [],
   "source": []
  }
 ],
 "metadata": {
  "colab": {
   "authorship_tag": "ABX9TyPFcTP797KQ/MWsA3u2SU7i",
   "collapsed_sections": [],
   "provenance": []
  },
  "kernelspec": {
   "display_name": "Python 3 (ipykernel)",
   "language": "python",
   "name": "python3"
  },
  "language_info": {
   "codemirror_mode": {
    "name": "ipython",
    "version": 3
   },
   "file_extension": ".py",
   "mimetype": "text/x-python",
   "name": "python",
   "nbconvert_exporter": "python",
   "pygments_lexer": "ipython3",
   "version": "3.9.7"
  }
 },
 "nbformat": 4,
 "nbformat_minor": 4
}
