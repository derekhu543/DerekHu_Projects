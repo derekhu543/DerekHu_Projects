{
 "cells": [
  {
   "cell_type": "code",
   "execution_count": null,
   "id": "4f2b83e0-ddb5-4257-9bc5-4ac93f47c09d",
   "metadata": {
    "id": "4f2b83e0-ddb5-4257-9bc5-4ac93f47c09d"
   },
   "outputs": [],
   "source": [
    "import pandas as pd"
   ]
  },
  {
   "cell_type": "code",
   "execution_count": null,
   "id": "HVbi41pyh-CJ",
   "metadata": {
    "id": "HVbi41pyh-CJ"
   },
   "outputs": [],
   "source": [
    "data = pd.read_csv('./Data_Files/data_numerical.csv')"
   ]
  },
  {
   "cell_type": "code",
   "execution_count": null,
   "id": "77b2f2f8-9560-4e5a-a11f-d0a14e219ec5",
   "metadata": {
    "id": "77b2f2f8-9560-4e5a-a11f-d0a14e219ec5"
   },
   "outputs": [],
   "source": [
    "pd.set_option('display.max_columns', None)"
   ]
  },
  {
   "cell_type": "code",
   "execution_count": null,
   "id": "d531b425-03fb-4396-9849-c4da81e19245",
   "metadata": {
    "colab": {
     "base_uri": "https://localhost:8080/",
     "height": 225
    },
    "executionInfo": {
     "elapsed": 9,
     "status": "ok",
     "timestamp": 1665777448102,
     "user": {
      "displayName": "Derek Hu",
      "userId": "14137525769356790466"
     },
     "user_tz": 420
    },
    "id": "d531b425-03fb-4396-9849-c4da81e19245",
    "outputId": "d7f839ed-2789-4617-e8cd-31e24ba8c7eb"
   },
   "outputs": [
    {
     "data": {
      "text/html": [
       "\n",
       "  <div id=\"df-b3f0f351-8e39-4b14-a438-e6b13dc446af\">\n",
       "    <div class=\"colab-df-container\">\n",
       "      <div>\n",
       "<style scoped>\n",
       "    .dataframe tbody tr th:only-of-type {\n",
       "        vertical-align: middle;\n",
       "    }\n",
       "\n",
       "    .dataframe tbody tr th {\n",
       "        vertical-align: top;\n",
       "    }\n",
       "\n",
       "    .dataframe thead th {\n",
       "        text-align: right;\n",
       "    }\n",
       "</style>\n",
       "<table border=\"1\" class=\"dataframe\">\n",
       "  <thead>\n",
       "    <tr style=\"text-align: right;\">\n",
       "      <th></th>\n",
       "      <th>Unnamed: 0</th>\n",
       "      <th>age_count</th>\n",
       "      <th>cancer_count</th>\n",
       "      <th>hrswrk_count</th>\n",
       "      <th>health_count</th>\n",
       "      <th>income_count</th>\n",
       "      <th>SSI_count</th>\n",
       "      <th>Health_Coverage_count</th>\n",
       "      <th>Education_count</th>\n",
       "      <th>JobOccupation_count</th>\n",
       "      <th>NoBalancedMeals_count</th>\n",
       "      <th>Ownership_home_count</th>\n",
       "      <th>highchol_count</th>\n",
       "      <th>worrymedbills_count</th>\n",
       "      <th>insulin_count</th>\n",
       "      <th>foodsecurity_count</th>\n",
       "      <th>race_count</th>\n",
       "      <th>Welfare_count</th>\n",
       "      <th>Delay_MedCost_count</th>\n",
       "      <th>Diabetic_count</th>\n",
       "      <th>Smoking_count</th>\n",
       "      <th>Depressed_count</th>\n",
       "    </tr>\n",
       "  </thead>\n",
       "  <tbody>\n",
       "    <tr>\n",
       "      <th>0</th>\n",
       "      <td>0</td>\n",
       "      <td>2</td>\n",
       "      <td>0</td>\n",
       "      <td>1</td>\n",
       "      <td>3</td>\n",
       "      <td>1</td>\n",
       "      <td>0</td>\n",
       "      <td>1</td>\n",
       "      <td>3</td>\n",
       "      <td>15</td>\n",
       "      <td>3</td>\n",
       "      <td>2</td>\n",
       "      <td>0</td>\n",
       "      <td>1</td>\n",
       "      <td>0</td>\n",
       "      <td>1</td>\n",
       "      <td>2</td>\n",
       "      <td>0</td>\n",
       "      <td>2</td>\n",
       "      <td>0</td>\n",
       "      <td>0</td>\n",
       "      <td>0</td>\n",
       "    </tr>\n",
       "    <tr>\n",
       "      <th>1</th>\n",
       "      <td>1</td>\n",
       "      <td>2</td>\n",
       "      <td>0</td>\n",
       "      <td>2</td>\n",
       "      <td>3</td>\n",
       "      <td>1</td>\n",
       "      <td>0</td>\n",
       "      <td>1</td>\n",
       "      <td>3</td>\n",
       "      <td>0</td>\n",
       "      <td>3</td>\n",
       "      <td>2</td>\n",
       "      <td>0</td>\n",
       "      <td>2</td>\n",
       "      <td>0</td>\n",
       "      <td>1</td>\n",
       "      <td>2</td>\n",
       "      <td>0</td>\n",
       "      <td>2</td>\n",
       "      <td>0</td>\n",
       "      <td>0</td>\n",
       "      <td>0</td>\n",
       "    </tr>\n",
       "    <tr>\n",
       "      <th>2</th>\n",
       "      <td>2</td>\n",
       "      <td>2</td>\n",
       "      <td>0</td>\n",
       "      <td>3</td>\n",
       "      <td>1</td>\n",
       "      <td>3</td>\n",
       "      <td>0</td>\n",
       "      <td>1</td>\n",
       "      <td>4</td>\n",
       "      <td>5</td>\n",
       "      <td>3</td>\n",
       "      <td>2</td>\n",
       "      <td>0</td>\n",
       "      <td>1</td>\n",
       "      <td>0</td>\n",
       "      <td>1</td>\n",
       "      <td>2</td>\n",
       "      <td>0</td>\n",
       "      <td>1</td>\n",
       "      <td>0</td>\n",
       "      <td>0</td>\n",
       "      <td>2</td>\n",
       "    </tr>\n",
       "  </tbody>\n",
       "</table>\n",
       "</div>\n",
       "      <button class=\"colab-df-convert\" onclick=\"convertToInteractive('df-b3f0f351-8e39-4b14-a438-e6b13dc446af')\"\n",
       "              title=\"Convert this dataframe to an interactive table.\"\n",
       "              style=\"display:none;\">\n",
       "        \n",
       "  <svg xmlns=\"http://www.w3.org/2000/svg\" height=\"24px\"viewBox=\"0 0 24 24\"\n",
       "       width=\"24px\">\n",
       "    <path d=\"M0 0h24v24H0V0z\" fill=\"none\"/>\n",
       "    <path d=\"M18.56 5.44l.94 2.06.94-2.06 2.06-.94-2.06-.94-.94-2.06-.94 2.06-2.06.94zm-11 1L8.5 8.5l.94-2.06 2.06-.94-2.06-.94L8.5 2.5l-.94 2.06-2.06.94zm10 10l.94 2.06.94-2.06 2.06-.94-2.06-.94-.94-2.06-.94 2.06-2.06.94z\"/><path d=\"M17.41 7.96l-1.37-1.37c-.4-.4-.92-.59-1.43-.59-.52 0-1.04.2-1.43.59L10.3 9.45l-7.72 7.72c-.78.78-.78 2.05 0 2.83L4 21.41c.39.39.9.59 1.41.59.51 0 1.02-.2 1.41-.59l7.78-7.78 2.81-2.81c.8-.78.8-2.07 0-2.86zM5.41 20L4 18.59l7.72-7.72 1.47 1.35L5.41 20z\"/>\n",
       "  </svg>\n",
       "      </button>\n",
       "      \n",
       "  <style>\n",
       "    .colab-df-container {\n",
       "      display:flex;\n",
       "      flex-wrap:wrap;\n",
       "      gap: 12px;\n",
       "    }\n",
       "\n",
       "    .colab-df-convert {\n",
       "      background-color: #E8F0FE;\n",
       "      border: none;\n",
       "      border-radius: 50%;\n",
       "      cursor: pointer;\n",
       "      display: none;\n",
       "      fill: #1967D2;\n",
       "      height: 32px;\n",
       "      padding: 0 0 0 0;\n",
       "      width: 32px;\n",
       "    }\n",
       "\n",
       "    .colab-df-convert:hover {\n",
       "      background-color: #E2EBFA;\n",
       "      box-shadow: 0px 1px 2px rgba(60, 64, 67, 0.3), 0px 1px 3px 1px rgba(60, 64, 67, 0.15);\n",
       "      fill: #174EA6;\n",
       "    }\n",
       "\n",
       "    [theme=dark] .colab-df-convert {\n",
       "      background-color: #3B4455;\n",
       "      fill: #D2E3FC;\n",
       "    }\n",
       "\n",
       "    [theme=dark] .colab-df-convert:hover {\n",
       "      background-color: #434B5C;\n",
       "      box-shadow: 0px 1px 3px 1px rgba(0, 0, 0, 0.15);\n",
       "      filter: drop-shadow(0px 1px 2px rgba(0, 0, 0, 0.3));\n",
       "      fill: #FFFFFF;\n",
       "    }\n",
       "  </style>\n",
       "\n",
       "      <script>\n",
       "        const buttonEl =\n",
       "          document.querySelector('#df-b3f0f351-8e39-4b14-a438-e6b13dc446af button.colab-df-convert');\n",
       "        buttonEl.style.display =\n",
       "          google.colab.kernel.accessAllowed ? 'block' : 'none';\n",
       "\n",
       "        async function convertToInteractive(key) {\n",
       "          const element = document.querySelector('#df-b3f0f351-8e39-4b14-a438-e6b13dc446af');\n",
       "          const dataTable =\n",
       "            await google.colab.kernel.invokeFunction('convertToInteractive',\n",
       "                                                     [key], {});\n",
       "          if (!dataTable) return;\n",
       "\n",
       "          const docLinkHtml = 'Like what you see? Visit the ' +\n",
       "            '<a target=\"_blank\" href=https://colab.research.google.com/notebooks/data_table.ipynb>data table notebook</a>'\n",
       "            + ' to learn more about interactive tables.';\n",
       "          element.innerHTML = '';\n",
       "          dataTable['output_type'] = 'display_data';\n",
       "          await google.colab.output.renderOutput(dataTable, element);\n",
       "          const docLink = document.createElement('div');\n",
       "          docLink.innerHTML = docLinkHtml;\n",
       "          element.appendChild(docLink);\n",
       "        }\n",
       "      </script>\n",
       "    </div>\n",
       "  </div>\n",
       "  "
      ],
      "text/plain": [
       "   Unnamed: 0  age_count  cancer_count  hrswrk_count  health_count  \\\n",
       "0           0          2             0             1             3   \n",
       "1           1          2             0             2             3   \n",
       "2           2          2             0             3             1   \n",
       "\n",
       "   income_count  SSI_count  Health_Coverage_count  Education_count  \\\n",
       "0             1          0                      1                3   \n",
       "1             1          0                      1                3   \n",
       "2             3          0                      1                4   \n",
       "\n",
       "   JobOccupation_count  NoBalancedMeals_count  Ownership_home_count  \\\n",
       "0                   15                      3                     2   \n",
       "1                    0                      3                     2   \n",
       "2                    5                      3                     2   \n",
       "\n",
       "   highchol_count  worrymedbills_count  insulin_count  foodsecurity_count  \\\n",
       "0               0                    1              0                   1   \n",
       "1               0                    2              0                   1   \n",
       "2               0                    1              0                   1   \n",
       "\n",
       "   race_count  Welfare_count  Delay_MedCost_count  Diabetic_count  \\\n",
       "0           2              0                    2               0   \n",
       "1           2              0                    2               0   \n",
       "2           2              0                    1               0   \n",
       "\n",
       "   Smoking_count  Depressed_count  \n",
       "0              0                0  \n",
       "1              0                0  \n",
       "2              0                2  "
      ]
     },
     "execution_count": 5,
     "metadata": {},
     "output_type": "execute_result"
    }
   ],
   "source": [
    "data.head(3)"
   ]
  },
  {
   "cell_type": "code",
   "execution_count": null,
   "id": "szHk5f3BilP-",
   "metadata": {
    "colab": {
     "base_uri": "https://localhost:8080/"
    },
    "executionInfo": {
     "elapsed": 346,
     "status": "ok",
     "timestamp": 1665777449706,
     "user": {
      "displayName": "Derek Hu",
      "userId": "14137525769356790466"
     },
     "user_tz": 420
    },
    "id": "szHk5f3BilP-",
    "outputId": "5e2f7d9b-c515-458f-d7ae-355e209c86ef"
   },
   "outputs": [
    {
     "data": {
      "text/plain": [
       "Index(['Unnamed: 0', 'age_count', 'cancer_count', 'hrswrk_count',\n",
       "       'health_count', 'income_count', 'SSI_count', 'Health_Coverage_count',\n",
       "       'Education_count', 'JobOccupation_count', 'NoBalancedMeals_count',\n",
       "       'Ownership_home_count', 'highchol_count', 'worrymedbills_count',\n",
       "       'insulin_count', 'foodsecurity_count', 'race_count', 'Welfare_count',\n",
       "       'Delay_MedCost_count', 'Diabetic_count', 'Smoking_count',\n",
       "       'Depressed_count'],\n",
       "      dtype='object')"
      ]
     },
     "execution_count": 6,
     "metadata": {},
     "output_type": "execute_result"
    }
   ],
   "source": [
    "data.columns"
   ]
  },
  {
   "cell_type": "code",
   "execution_count": null,
   "id": "aeeed336-f78c-45fe-97af-8b73fb173aa2",
   "metadata": {
    "id": "aeeed336-f78c-45fe-97af-8b73fb173aa2"
   },
   "outputs": [],
   "source": [
    "#I cut out urban/rural count - too many NA\n",
    "data1 = data[['Unnamed: 0', 'age_count', 'cancer_count', 'hrswrk_count',\n",
    "       'health_count', 'income_count', 'SSI_count', 'Health_Coverage_count',\n",
    "       'Education_count', 'JobOccupation_count', 'NoBalancedMeals_count',\n",
    "       'Ownership_home_count', 'highchol_count', 'worrymedbills_count',\n",
    "       'insulin_count', 'foodsecurity_count', 'race_count', 'Welfare_count',\n",
    "       'Delay_MedCost_count', 'Diabetic_count', 'Smoking_count',\n",
    "       'Depressed_count']]"
   ]
  },
  {
   "cell_type": "markdown",
   "id": "a0719489-086e-4166-916d-ad6c5226433a",
   "metadata": {
    "id": "a0719489-086e-4166-916d-ad6c5226433a"
   },
   "source": [
    "***Feature Selection***"
   ]
  },
  {
   "cell_type": "code",
   "execution_count": null,
   "id": "39f63e60-98b9-45fa-9e5c-9c7b9bf4e7c3",
   "metadata": {
    "id": "39f63e60-98b9-45fa-9e5c-9c7b9bf4e7c3"
   },
   "outputs": [],
   "source": [
    "#Standardize data first\n",
    "from sklearn.preprocessing import StandardScaler\n",
    "\n",
    "ss = StandardScaler()\n",
    "data2 = ss.fit_transform(data1)\n",
    "\n",
    "data2 = pd.DataFrame(data2, columns=data1.columns)"
   ]
  },
  {
   "cell_type": "code",
   "execution_count": null,
   "id": "0b4c83d6-e3b3-4575-9dd1-f06462576d6c",
   "metadata": {
    "colab": {
     "base_uri": "https://localhost:8080/",
     "height": 996
    },
    "executionInfo": {
     "elapsed": 3639,
     "status": "ok",
     "timestamp": 1665777460216,
     "user": {
      "displayName": "Derek Hu",
      "userId": "14137525769356790466"
     },
     "user_tz": 420
    },
    "id": "0b4c83d6-e3b3-4575-9dd1-f06462576d6c",
    "outputId": "796c478e-1300-45f6-edba-1b74c92310a8"
   },
   "outputs": [
    {
     "data": {
      "text/plain": [
       "<matplotlib.axes._subplots.AxesSubplot at 0x7efd39453bd0>"
      ]
     },
     "execution_count": 9,
     "metadata": {},
     "output_type": "execute_result"
    },
    {
     "data": {
      "image/png": "[encoded data removed]",
      "text/plain": [
       "<Figure size 1440x1080 with 2 Axes>"
      ]
     },
     "metadata": {
      "needs_background": "light"
     },
     "output_type": "display_data"
    }
   ],
   "source": [
    "#I will NOT be depending on .corr() for feature selection because I'm using categorical variables\n",
    "#I used Tableau visualizations to see if there is a correlation between cancer_count and another variable\n",
    "#See my Tableau_Visualization ipynb for more information\n",
    "import matplotlib.pyplot as plt\n",
    "import seaborn as sns\n",
    "plt.figure(figsize=(20,15))\n",
    "sns.heatmap(data2.corr(), vmin=0, annot=True, fmt='.2f', cmap='YlGnBu')"
   ]
  },
  {
   "cell_type": "code",
   "execution_count": null,
   "id": "57bca59b-adcc-4bf2-8562-e6b5b6bee23d",
   "metadata": {
    "id": "57bca59b-adcc-4bf2-8562-e6b5b6bee23d"
   },
   "outputs": [],
   "source": [
    "#Choose certain variables that correlate the most to cancer_count (0.06)\n",
    "#worrymedbills_count, health_count, JobOccupation_count, Drinking_count, cholmeds_count, insulin_count"
   ]
  },
  {
   "cell_type": "code",
   "execution_count": null,
   "id": "790f35dd-2481-4b30-b25e-62fdf2036f26",
   "metadata": {
    "id": "790f35dd-2481-4b30-b25e-62fdf2036f26"
   },
   "outputs": [],
   "source": [
    "#I will not exclude any variables right now\n",
    "#I might add additional variables later on"
   ]
  },
  {
   "cell_type": "markdown",
   "id": "a8384426-49fd-4f4e-9cea-d13e6f304196",
   "metadata": {
    "id": "a8384426-49fd-4f4e-9cea-d13e6f304196"
   },
   "source": [
    "***get rid of missing values using simple imputer***"
   ]
  },
  {
   "cell_type": "code",
   "execution_count": null,
   "id": "3ed66de0-0494-4ab3-b14b-92f6d2410b57",
   "metadata": {
    "id": "3ed66de0-0494-4ab3-b14b-92f6d2410b57"
   },
   "outputs": [],
   "source": [
    "import numpy as np"
   ]
  },
  {
   "cell_type": "code",
   "execution_count": null,
   "id": "a9dc7548-794d-4aa2-b1eb-6b8efe0d712f",
   "metadata": {
    "id": "a9dc7548-794d-4aa2-b1eb-6b8efe0d712f"
   },
   "outputs": [],
   "source": [
    "#replace missing values by proportion"
   ]
  },
  {
   "cell_type": "code",
   "execution_count": null,
   "id": "9e3b880f-9117-47c8-a1ef-05290572ae1a",
   "metadata": {
    "colab": {
     "base_uri": "https://localhost:8080/"
    },
    "executionInfo": {
     "elapsed": 7,
     "status": "ok",
     "timestamp": 1665777479561,
     "user": {
      "displayName": "Derek Hu",
      "userId": "14137525769356790466"
     },
     "user_tz": 420
    },
    "id": "9e3b880f-9117-47c8-a1ef-05290572ae1a",
    "outputId": "a5153306-907b-4723-9f5d-934a9b21ebc4"
   },
   "outputs": [
    {
     "data": {
      "text/plain": [
       "(208765, 22)"
      ]
     },
     "execution_count": 14,
     "metadata": {},
     "output_type": "execute_result"
    }
   ],
   "source": [
    "data1.shape"
   ]
  },
  {
   "cell_type": "code",
   "execution_count": null,
   "id": "c2e29b34-7d57-43e5-9e79-5c257284e642",
   "metadata": {
    "colab": {
     "base_uri": "https://localhost:8080/"
    },
    "executionInfo": {
     "elapsed": 6,
     "status": "ok",
     "timestamp": 1665777480426,
     "user": {
      "displayName": "Derek Hu",
      "userId": "14137525769356790466"
     },
     "user_tz": 420
    },
    "id": "c2e29b34-7d57-43e5-9e79-5c257284e642",
    "outputId": "a7ae8dc2-8ead-43a8-eda8-71358bea5288"
   },
   "outputs": [
    {
     "data": {
      "text/plain": [
       "Unnamed: 0               0\n",
       "age_count                0\n",
       "cancer_count             0\n",
       "hrswrk_count             0\n",
       "health_count             0\n",
       "income_count             0\n",
       "SSI_count                0\n",
       "Health_Coverage_count    0\n",
       "Education_count          0\n",
       "JobOccupation_count      0\n",
       "NoBalancedMeals_count    0\n",
       "Ownership_home_count     0\n",
       "highchol_count           0\n",
       "worrymedbills_count      0\n",
       "insulin_count            0\n",
       "foodsecurity_count       0\n",
       "race_count               0\n",
       "Welfare_count            0\n",
       "Delay_MedCost_count      0\n",
       "Diabetic_count           0\n",
       "Smoking_count            0\n",
       "Depressed_count          0\n",
       "dtype: int64"
      ]
     },
     "execution_count": 15,
     "metadata": {},
     "output_type": "execute_result"
    }
   ],
   "source": [
    "#During my previous datasets, I had many missing values. \n",
    "#I deleted some previous variables due to feature selection so now, none of my variables have misssing values\n",
    "data1.isnull().sum()"
   ]
  },
  {
   "cell_type": "code",
   "execution_count": null,
   "id": "89305080-a72c-40e9-a227-477f7648b3a0",
   "metadata": {
    "colab": {
     "base_uri": "https://localhost:8080/"
    },
    "executionInfo": {
     "elapsed": 196,
     "status": "ok",
     "timestamp": 1665777488405,
     "user": {
      "displayName": "Derek Hu",
      "userId": "14137525769356790466"
     },
     "user_tz": 420
    },
    "id": "89305080-a72c-40e9-a227-477f7648b3a0",
    "outputId": "144c112b-5330-4cb4-fe96-e1a089991632"
   },
   "outputs": [
    {
     "data": {
      "text/plain": [
       "Unnamed: 0               int64\n",
       "age_count                int64\n",
       "cancer_count             int64\n",
       "hrswrk_count             int64\n",
       "health_count             int64\n",
       "income_count             int64\n",
       "SSI_count                int64\n",
       "Health_Coverage_count    int64\n",
       "Education_count          int64\n",
       "JobOccupation_count      int64\n",
       "NoBalancedMeals_count    int64\n",
       "Ownership_home_count     int64\n",
       "highchol_count           int64\n",
       "worrymedbills_count      int64\n",
       "insulin_count            int64\n",
       "foodsecurity_count       int64\n",
       "race_count               int64\n",
       "Welfare_count            int64\n",
       "Delay_MedCost_count      int64\n",
       "Diabetic_count           int64\n",
       "Smoking_count            int64\n",
       "Depressed_count          int64\n",
       "dtype: object"
      ]
     },
     "execution_count": 16,
     "metadata": {},
     "output_type": "execute_result"
    }
   ],
   "source": [
    "data1.dtypes"
   ]
  },
  {
   "cell_type": "markdown",
   "id": "f93157f6-2906-45da-b58e-46f6a2b978c3",
   "metadata": {
    "id": "f93157f6-2906-45da-b58e-46f6a2b978c3"
   },
   "source": [
    "***Fill in missing values***"
   ]
  },
  {
   "cell_type": "code",
   "execution_count": null,
   "id": "23ddb7a6-bb79-4871-aaf3-d821f8ee73dc",
   "metadata": {
    "id": "23ddb7a6-bb79-4871-aaf3-d821f8ee73dc"
   },
   "outputs": [],
   "source": [
    "#Iterative Imputer\n",
    "#from sklearn.experimental import enable_iterative_imputer\n",
    "#from sklearn.impute import IterativeImputer, KNNImputer\n",
    "#from sklearn.linear_model import LinearRegression, LogisticRegression"
   ]
  },
  {
   "cell_type": "code",
   "execution_count": null,
   "id": "ada191ce-fe02-4ee4-a9b7-fad51fafdad3",
   "metadata": {
    "id": "ada191ce-fe02-4ee4-a9b7-fad51fafdad3"
   },
   "outputs": [],
   "source": [
    "#During my previous data cleaning, I successfully used KNNImputer to remove missing values\n",
    "#KNNImputer replaces missing values using the K-nearest method. \n",
    "#I commented this out as I don't have missing values but here is the method for anyone who needs to use it\n",
    "\n",
    "#imp = KNNImputer(missing_values=np.nan, n_neighbors=5)\n",
    "#data2 = imp.fit_transform(data1)"
   ]
  },
  {
   "cell_type": "code",
   "execution_count": null,
   "id": "19d5d872-190b-4f28-aaba-ba3e8d48735d",
   "metadata": {
    "id": "19d5d872-190b-4f28-aaba-ba3e8d48735d"
   },
   "outputs": [],
   "source": [
    "data2 = pd.DataFrame(data2, columns=[['Unnamed: 0', 'age_count', 'cancer_count', 'hrswrk_count',\n",
    "       'health_count', 'income_count', 'SSI_count', 'Health_Coverage_count',\n",
    "       'Education_count', 'JobOccupation_count', 'NoBalancedMeals_count',\n",
    "       'Ownership_home_count', 'highchol_count', 'worrymedbills_count',\n",
    "       'insulin_count', 'foodsecurity_count', 'race_count', 'Welfare_count',\n",
    "       'Delay_MedCost_count', 'Diabetic_count', 'Smoking_count',\n",
    "       'Depressed_count']])"
   ]
  },
  {
   "cell_type": "code",
   "execution_count": null,
   "id": "lharhyptrsaM",
   "metadata": {
    "colab": {
     "base_uri": "https://localhost:8080/",
     "height": 17
    },
    "executionInfo": {
     "elapsed": 3026,
     "status": "ok",
     "timestamp": 1665777958666,
     "user": {
      "displayName": "Derek Hu",
      "userId": "14137525769356790466"
     },
     "user_tz": 420
    },
    "id": "lharhyptrsaM",
    "outputId": "7db56ad1-2520-4412-f5b8-eb637c7f0008"
   },
   "outputs": [
    {
     "data": {
      "application/javascript": [
       "\n",
       "    async function download(id, filename, size) {\n",
       "      if (!google.colab.kernel.accessAllowed) {\n",
       "        return;\n",
       "      }\n",
       "      const div = document.createElement('div');\n",
       "      const label = document.createElement('label');\n",
       "      label.textContent = `Downloading \"${filename}\": `;\n",
       "      div.appendChild(label);\n",
       "      const progress = document.createElement('progress');\n",
       "      progress.max = size;\n",
       "      div.appendChild(progress);\n",
       "      document.body.appendChild(div);\n",
       "\n",
       "      const buffers = [];\n",
       "      let downloaded = 0;\n",
       "\n",
       "      const channel = await google.colab.kernel.comms.open(id);\n",
       "      // Send a message to notify the kernel that we're ready.\n",
       "      channel.send({})\n",
       "\n",
       "      for await (const message of channel.messages) {\n",
       "        // Send a message to notify the kernel that we're ready.\n",
       "        channel.send({})\n",
       "        if (message.buffers) {\n",
       "          for (const buffer of message.buffers) {\n",
       "            buffers.push(buffer);\n",
       "            downloaded += buffer.byteLength;\n",
       "            progress.value = downloaded;\n",
       "          }\n",
       "        }\n",
       "      }\n",
       "      const blob = new Blob(buffers, {type: 'application/binary'});\n",
       "      const a = document.createElement('a');\n",
       "      a.href = window.URL.createObjectURL(blob);\n",
       "      a.download = filename;\n",
       "      div.appendChild(a);\n",
       "      a.click();\n",
       "      div.remove();\n",
       "    }\n",
       "  "
      ],
      "text/plain": [
       "<IPython.core.display.Javascript object>"
      ]
     },
     "metadata": {},
     "output_type": "display_data"
    },
    {
     "data": {
      "application/javascript": [
       "download(\"download_79321b4b-31dd-434e-bedb-8ac4512ae18d\", \"cleaned_data\", 5943418)"
      ],
      "text/plain": [
       "<IPython.core.display.Javascript object>"
      ]
     },
     "metadata": {},
     "output_type": "display_data"
    }
   ],
   "source": [
    "from google.colab import files\n",
    "data2.to_csv('cleaned_data') \n",
    "files.download('cleaned_data')"
   ]
  },
  {
   "cell_type": "code",
   "execution_count": null,
   "id": "Vd2P6ib0GnFc",
   "metadata": {
    "colab": {
     "base_uri": "https://localhost:8080/",
     "height": 73
    },
    "executionInfo": {
     "elapsed": 64076,
     "status": "ok",
     "timestamp": 1665778187862,
     "user": {
      "displayName": "Derek Hu",
      "userId": "14137525769356790466"
     },
     "user_tz": 420
    },
    "id": "Vd2P6ib0GnFc",
    "outputId": "49499f2b-a3cf-4c9f-97ca-05c14fbab371"
   },
   "outputs": [
    {
     "data": {
      "text/html": [
       "\n",
       "     <input type=\"file\" id=\"files-79e35a5c-51d3-4268-bcc8-e6b52eaf4a4a\" name=\"files[]\" multiple disabled\n",
       "        style=\"border:none\" />\n",
       "     <output id=\"result-79e35a5c-51d3-4268-bcc8-e6b52eaf4a4a\">\n",
       "      Upload widget is only available when the cell has been executed in the\n",
       "      current browser session. Please rerun this cell to enable.\n",
       "      </output>\n",
       "      <script>// Copyright 2017 Google LLC\n",
       "//\n",
       "// Licensed under the Apache License, Version 2.0 (the \"License\");\n",
       "// you may not use this file except in compliance with the License.\n",
       "// You may obtain a copy of the License at\n",
       "//\n",
       "//      http://www.apache.org/licenses/LICENSE-2.0\n",
       "//\n",
       "// Unless required by applicable law or agreed to in writing, software\n",
       "// distributed under the License is distributed on an \"AS IS\" BASIS,\n",
       "// WITHOUT WARRANTIES OR CONDITIONS OF ANY KIND, either express or implied.\n",
       "// See the License for the specific language governing permissions and\n",
       "// limitations under the License.\n",
       "\n",
       "/**\n",
       " * @fileoverview Helpers for google.colab Python module.\n",
       " */\n",
       "(function(scope) {\n",
       "function span(text, styleAttributes = {}) {\n",
       "  const element = document.createElement('span');\n",
       "  element.textContent = text;\n",
       "  for (const key of Object.keys(styleAttributes)) {\n",
       "    element.style[key] = styleAttributes[key];\n",
       "  }\n",
       "  return element;\n",
       "}\n",
       "\n",
       "// Max number of bytes which will be uploaded at a time.\n",
       "const MAX_PAYLOAD_SIZE = 100 * 1024;\n",
       "\n",
       "function _uploadFiles(inputId, outputId) {\n",
       "  const steps = uploadFilesStep(inputId, outputId);\n",
       "  const outputElement = document.getElementById(outputId);\n",
       "  // Cache steps on the outputElement to make it available for the next call\n",
       "  // to uploadFilesContinue from Python.\n",
       "  outputElement.steps = steps;\n",
       "\n",
       "  return _uploadFilesContinue(outputId);\n",
       "}\n",
       "\n",
       "// This is roughly an async generator (not supported in the browser yet),\n",
       "// where there are multiple asynchronous steps and the Python side is going\n",
       "// to poll for completion of each step.\n",
       "// This uses a Promise to block the python side on completion of each step,\n",
       "// then passes the result of the previous step as the input to the next step.\n",
       "function _uploadFilesContinue(outputId) {\n",
       "  const outputElement = document.getElementById(outputId);\n",
       "  const steps = outputElement.steps;\n",
       "\n",
       "  const next = steps.next(outputElement.lastPromiseValue);\n",
       "  return Promise.resolve(next.value.promise).then((value) => {\n",
       "    // Cache the last promise value to make it available to the next\n",
       "    // step of the generator.\n",
       "    outputElement.lastPromiseValue = value;\n",
       "    return next.value.response;\n",
       "  });\n",
       "}\n",
       "\n",
       "/**\n",
       " * Generator function which is called between each async step of the upload\n",
       " * process.\n",
       " * @param {string} inputId Element ID of the input file picker element.\n",
       " * @param {string} outputId Element ID of the output display.\n",
       " * @return {!Iterable<!Object>} Iterable of next steps.\n",
       " */\n",
       "function* uploadFilesStep(inputId, outputId) {\n",
       "  const inputElement = document.getElementById(inputId);\n",
       "  inputElement.disabled = false;\n",
       "\n",
       "  const outputElement = document.getElementById(outputId);\n",
       "  outputElement.innerHTML = '';\n",
       "\n",
       "  const pickedPromise = new Promise((resolve) => {\n",
       "    inputElement.addEventListener('change', (e) => {\n",
       "      resolve(e.target.files);\n",
       "    });\n",
       "  });\n",
       "\n",
       "  const cancel = document.createElement('button');\n",
       "  inputElement.parentElement.appendChild(cancel);\n",
       "  cancel.textContent = 'Cancel upload';\n",
       "  const cancelPromise = new Promise((resolve) => {\n",
       "    cancel.onclick = () => {\n",
       "      resolve(null);\n",
       "    };\n",
       "  });\n",
       "\n",
       "  // Wait for the user to pick the files.\n",
       "  const files = yield {\n",
       "    promise: Promise.race([pickedPromise, cancelPromise]),\n",
       "    response: {\n",
       "      action: 'starting',\n",
       "    }\n",
       "  };\n",
       "\n",
       "  cancel.remove();\n",
       "\n",
       "  // Disable the input element since further picks are not allowed.\n",
       "  inputElement.disabled = true;\n",
       "\n",
       "  if (!files) {\n",
       "    return {\n",
       "      response: {\n",
       "        action: 'complete',\n",
       "      }\n",
       "    };\n",
       "  }\n",
       "\n",
       "  for (const file of files) {\n",
       "    const li = document.createElement('li');\n",
       "    li.append(span(file.name, {fontWeight: 'bold'}));\n",
       "    li.append(span(\n",
       "        `(${file.type || 'n/a'}) - ${file.size} bytes, ` +\n",
       "        `last modified: ${\n",
       "            file.lastModifiedDate ? file.lastModifiedDate.toLocaleDateString() :\n",
       "                                    'n/a'} - `));\n",
       "    const percent = span('0% done');\n",
       "    li.appendChild(percent);\n",
       "\n",
       "    outputElement.appendChild(li);\n",
       "\n",
       "    const fileDataPromise = new Promise((resolve) => {\n",
       "      const reader = new FileReader();\n",
       "      reader.onload = (e) => {\n",
       "        resolve(e.target.result);\n",
       "      };\n",
       "      reader.readAsArrayBuffer(file);\n",
       "    });\n",
       "    // Wait for the data to be ready.\n",
       "    let fileData = yield {\n",
       "      promise: fileDataPromise,\n",
       "      response: {\n",
       "        action: 'continue',\n",
       "      }\n",
       "    };\n",
       "\n",
       "    // Use a chunked sending to avoid message size limits. See b/62115660.\n",
       "    let position = 0;\n",
       "    do {\n",
       "      const length = Math.min(fileData.byteLength - position, MAX_PAYLOAD_SIZE);\n",
       "      const chunk = new Uint8Array(fileData, position, length);\n",
       "      position += length;\n",
       "\n",
       "      const base64 = btoa(String.fromCharCode.apply(null, chunk));\n",
       "      yield {\n",
       "        response: {\n",
       "          action: 'append',\n",
       "          file: file.name,\n",
       "          data: base64,\n",
       "        },\n",
       "      };\n",
       "\n",
       "      let percentDone = fileData.byteLength === 0 ?\n",
       "          100 :\n",
       "          Math.round((position / fileData.byteLength) * 100);\n",
       "      percent.textContent = `${percentDone}% done`;\n",
       "\n",
       "    } while (position < fileData.byteLength);\n",
       "  }\n",
       "\n",
       "  // All done.\n",
       "  yield {\n",
       "    response: {\n",
       "      action: 'complete',\n",
       "    }\n",
       "  };\n",
       "}\n",
       "\n",
       "scope.google = scope.google || {};\n",
       "scope.google.colab = scope.google.colab || {};\n",
       "scope.google.colab._files = {\n",
       "  _uploadFiles,\n",
       "  _uploadFilesContinue,\n",
       "};\n",
       "})(self);\n",
       "</script> "
      ],
      "text/plain": [
       "<IPython.core.display.HTML object>"
      ]
     },
     "metadata": {},
     "output_type": "display_data"
    },
    {
     "name": "stdout",
     "output_type": "stream",
     "text": [
      "Saving data_numerical.csv to data_numerical (1).csv\n"
     ]
    }
   ],
   "source": [
    "#Imported data_numerical - this was the data I cleaned in the Tableau ipynb\n",
    "from google.colab import files\n",
    "uploaded = files.upload()"
   ]
  },
  {
   "cell_type": "code",
   "execution_count": null,
   "id": "00KTqAtSnAG9",
   "metadata": {
    "id": "00KTqAtSnAG9"
   },
   "outputs": [],
   "source": [
    "#data = pd.read_csv('./cleaned_data.csv')\n",
    "from google.colab import files\n",
    "data = pd.read_csv('./data_numerical (1).csv')"
   ]
  },
  {
   "cell_type": "markdown",
   "id": "LFnG_G3WFSTe",
   "metadata": {
    "id": "LFnG_G3WFSTe"
   },
   "source": [
    "# New Section"
   ]
  },
  {
   "cell_type": "code",
   "execution_count": null,
   "id": "EB38kiDMC6h_",
   "metadata": {
    "id": "EB38kiDMC6h_"
   },
   "outputs": [],
   "source": [
    "#This section is a repeat of my Tableau.ipynb\n",
    "#I plan to clean the 20 selected variables that I believe would be related to cancer rates\n",
    "#I chose these 20 variables based on research and common sense.\n",
    "#Some variables I wanted to use such as drinking frequency, BMI, and location were unusable due to high rate of missing values.\n",
    "#Most of my data are numerical categorical. They will all be needed to cleaned and converted to categorical dummy variables.\n",
    "\n",
    "#Other variables such as exercising amount contain too many missing values that I was unable to get it to work. "
   ]
  },
  {
   "cell_type": "code",
   "execution_count": null,
   "id": "I2RlvtV16oKi",
   "metadata": {
    "colab": {
     "base_uri": "https://localhost:8080/",
     "height": 287
    },
    "executionInfo": {
     "elapsed": 28,
     "status": "ok",
     "timestamp": 1665778470098,
     "user": {
      "displayName": "Derek Hu",
      "userId": "14137525769356790466"
     },
     "user_tz": 420
    },
    "id": "I2RlvtV16oKi",
    "outputId": "845e591b-c0cc-44d2-bc3c-a1c9e03b4107"
   },
   "outputs": [
    {
     "data": {
      "text/html": [
       "\n",
       "  <div id=\"df-f18990ba-3545-4e59-a0c1-95a5a4b20bce\">\n",
       "    <div class=\"colab-df-container\">\n",
       "      <div>\n",
       "<style scoped>\n",
       "    .dataframe tbody tr th:only-of-type {\n",
       "        vertical-align: middle;\n",
       "    }\n",
       "\n",
       "    .dataframe tbody tr th {\n",
       "        vertical-align: top;\n",
       "    }\n",
       "\n",
       "    .dataframe thead th {\n",
       "        text-align: right;\n",
       "    }\n",
       "</style>\n",
       "<table border=\"1\" class=\"dataframe\">\n",
       "  <thead>\n",
       "    <tr style=\"text-align: right;\">\n",
       "      <th></th>\n",
       "      <th>Unnamed: 0</th>\n",
       "      <th>age_count</th>\n",
       "      <th>cancer_count</th>\n",
       "      <th>hrswrk_count</th>\n",
       "      <th>health_count</th>\n",
       "      <th>income_count</th>\n",
       "      <th>SSI_count</th>\n",
       "      <th>Health_Coverage_count</th>\n",
       "      <th>Education_count</th>\n",
       "      <th>JobOccupation_count</th>\n",
       "      <th>NoBalancedMeals_count</th>\n",
       "      <th>Ownership_home_count</th>\n",
       "      <th>highchol_count</th>\n",
       "      <th>worrymedbills_count</th>\n",
       "      <th>insulin_count</th>\n",
       "      <th>foodsecurity_count</th>\n",
       "      <th>race_count</th>\n",
       "      <th>Welfare_count</th>\n",
       "      <th>Delay_MedCost_count</th>\n",
       "      <th>Diabetic_count</th>\n",
       "      <th>Smoking_count</th>\n",
       "      <th>Depressed_count</th>\n",
       "    </tr>\n",
       "  </thead>\n",
       "  <tbody>\n",
       "    <tr>\n",
       "      <th>0</th>\n",
       "      <td>0</td>\n",
       "      <td>2</td>\n",
       "      <td>0</td>\n",
       "      <td>1</td>\n",
       "      <td>3</td>\n",
       "      <td>1</td>\n",
       "      <td>0</td>\n",
       "      <td>1</td>\n",
       "      <td>3</td>\n",
       "      <td>15</td>\n",
       "      <td>3</td>\n",
       "      <td>2</td>\n",
       "      <td>0</td>\n",
       "      <td>1</td>\n",
       "      <td>0</td>\n",
       "      <td>1</td>\n",
       "      <td>2</td>\n",
       "      <td>0</td>\n",
       "      <td>2</td>\n",
       "      <td>0</td>\n",
       "      <td>0</td>\n",
       "      <td>0</td>\n",
       "    </tr>\n",
       "    <tr>\n",
       "      <th>1</th>\n",
       "      <td>1</td>\n",
       "      <td>2</td>\n",
       "      <td>0</td>\n",
       "      <td>2</td>\n",
       "      <td>3</td>\n",
       "      <td>1</td>\n",
       "      <td>0</td>\n",
       "      <td>1</td>\n",
       "      <td>3</td>\n",
       "      <td>0</td>\n",
       "      <td>3</td>\n",
       "      <td>2</td>\n",
       "      <td>0</td>\n",
       "      <td>2</td>\n",
       "      <td>0</td>\n",
       "      <td>1</td>\n",
       "      <td>2</td>\n",
       "      <td>0</td>\n",
       "      <td>2</td>\n",
       "      <td>0</td>\n",
       "      <td>0</td>\n",
       "      <td>0</td>\n",
       "    </tr>\n",
       "    <tr>\n",
       "      <th>2</th>\n",
       "      <td>2</td>\n",
       "      <td>2</td>\n",
       "      <td>0</td>\n",
       "      <td>3</td>\n",
       "      <td>1</td>\n",
       "      <td>3</td>\n",
       "      <td>0</td>\n",
       "      <td>1</td>\n",
       "      <td>4</td>\n",
       "      <td>5</td>\n",
       "      <td>3</td>\n",
       "      <td>2</td>\n",
       "      <td>0</td>\n",
       "      <td>1</td>\n",
       "      <td>0</td>\n",
       "      <td>1</td>\n",
       "      <td>2</td>\n",
       "      <td>0</td>\n",
       "      <td>1</td>\n",
       "      <td>0</td>\n",
       "      <td>0</td>\n",
       "      <td>2</td>\n",
       "    </tr>\n",
       "    <tr>\n",
       "      <th>3</th>\n",
       "      <td>3</td>\n",
       "      <td>5</td>\n",
       "      <td>0</td>\n",
       "      <td>1</td>\n",
       "      <td>3</td>\n",
       "      <td>1</td>\n",
       "      <td>0</td>\n",
       "      <td>1</td>\n",
       "      <td>2</td>\n",
       "      <td>12</td>\n",
       "      <td>3</td>\n",
       "      <td>1</td>\n",
       "      <td>1</td>\n",
       "      <td>2</td>\n",
       "      <td>0</td>\n",
       "      <td>1</td>\n",
       "      <td>1</td>\n",
       "      <td>0</td>\n",
       "      <td>1</td>\n",
       "      <td>0</td>\n",
       "      <td>0</td>\n",
       "      <td>2</td>\n",
       "    </tr>\n",
       "    <tr>\n",
       "      <th>4</th>\n",
       "      <td>6</td>\n",
       "      <td>3</td>\n",
       "      <td>0</td>\n",
       "      <td>2</td>\n",
       "      <td>1</td>\n",
       "      <td>2</td>\n",
       "      <td>0</td>\n",
       "      <td>1</td>\n",
       "      <td>3</td>\n",
       "      <td>2</td>\n",
       "      <td>3</td>\n",
       "      <td>2</td>\n",
       "      <td>0</td>\n",
       "      <td>2</td>\n",
       "      <td>0</td>\n",
       "      <td>1</td>\n",
       "      <td>1</td>\n",
       "      <td>0</td>\n",
       "      <td>1</td>\n",
       "      <td>0</td>\n",
       "      <td>1</td>\n",
       "      <td>0</td>\n",
       "    </tr>\n",
       "  </tbody>\n",
       "</table>\n",
       "</div>\n",
       "      <button class=\"colab-df-convert\" onclick=\"convertToInteractive('df-f18990ba-3545-4e59-a0c1-95a5a4b20bce')\"\n",
       "              title=\"Convert this dataframe to an interactive table.\"\n",
       "              style=\"display:none;\">\n",
       "        \n",
       "  <svg xmlns=\"http://www.w3.org/2000/svg\" height=\"24px\"viewBox=\"0 0 24 24\"\n",
       "       width=\"24px\">\n",
       "    <path d=\"M0 0h24v24H0V0z\" fill=\"none\"/>\n",
       "    <path d=\"M18.56 5.44l.94 2.06.94-2.06 2.06-.94-2.06-.94-.94-2.06-.94 2.06-2.06.94zm-11 1L8.5 8.5l.94-2.06 2.06-.94-2.06-.94L8.5 2.5l-.94 2.06-2.06.94zm10 10l.94 2.06.94-2.06 2.06-.94-2.06-.94-.94-2.06-.94 2.06-2.06.94z\"/><path d=\"M17.41 7.96l-1.37-1.37c-.4-.4-.92-.59-1.43-.59-.52 0-1.04.2-1.43.59L10.3 9.45l-7.72 7.72c-.78.78-.78 2.05 0 2.83L4 21.41c.39.39.9.59 1.41.59.51 0 1.02-.2 1.41-.59l7.78-7.78 2.81-2.81c.8-.78.8-2.07 0-2.86zM5.41 20L4 18.59l7.72-7.72 1.47 1.35L5.41 20z\"/>\n",
       "  </svg>\n",
       "      </button>\n",
       "      \n",
       "  <style>\n",
       "    .colab-df-container {\n",
       "      display:flex;\n",
       "      flex-wrap:wrap;\n",
       "      gap: 12px;\n",
       "    }\n",
       "\n",
       "    .colab-df-convert {\n",
       "      background-color: #E8F0FE;\n",
       "      border: none;\n",
       "      border-radius: 50%;\n",
       "      cursor: pointer;\n",
       "      display: none;\n",
       "      fill: #1967D2;\n",
       "      height: 32px;\n",
       "      padding: 0 0 0 0;\n",
       "      width: 32px;\n",
       "    }\n",
       "\n",
       "    .colab-df-convert:hover {\n",
       "      background-color: #E2EBFA;\n",
       "      box-shadow: 0px 1px 2px rgba(60, 64, 67, 0.3), 0px 1px 3px 1px rgba(60, 64, 67, 0.15);\n",
       "      fill: #174EA6;\n",
       "    }\n",
       "\n",
       "    [theme=dark] .colab-df-convert {\n",
       "      background-color: #3B4455;\n",
       "      fill: #D2E3FC;\n",
       "    }\n",
       "\n",
       "    [theme=dark] .colab-df-convert:hover {\n",
       "      background-color: #434B5C;\n",
       "      box-shadow: 0px 1px 3px 1px rgba(0, 0, 0, 0.15);\n",
       "      filter: drop-shadow(0px 1px 2px rgba(0, 0, 0, 0.3));\n",
       "      fill: #FFFFFF;\n",
       "    }\n",
       "  </style>\n",
       "\n",
       "      <script>\n",
       "        const buttonEl =\n",
       "          document.querySelector('#df-f18990ba-3545-4e59-a0c1-95a5a4b20bce button.colab-df-convert');\n",
       "        buttonEl.style.display =\n",
       "          google.colab.kernel.accessAllowed ? 'block' : 'none';\n",
       "\n",
       "        async function convertToInteractive(key) {\n",
       "          const element = document.querySelector('#df-f18990ba-3545-4e59-a0c1-95a5a4b20bce');\n",
       "          const dataTable =\n",
       "            await google.colab.kernel.invokeFunction('convertToInteractive',\n",
       "                                                     [key], {});\n",
       "          if (!dataTable) return;\n",
       "\n",
       "          const docLinkHtml = 'Like what you see? Visit the ' +\n",
       "            '<a target=\"_blank\" href=https://colab.research.google.com/notebooks/data_table.ipynb>data table notebook</a>'\n",
       "            + ' to learn more about interactive tables.';\n",
       "          element.innerHTML = '';\n",
       "          dataTable['output_type'] = 'display_data';\n",
       "          await google.colab.output.renderOutput(dataTable, element);\n",
       "          const docLink = document.createElement('div');\n",
       "          docLink.innerHTML = docLinkHtml;\n",
       "          element.appendChild(docLink);\n",
       "        }\n",
       "      </script>\n",
       "    </div>\n",
       "  </div>\n",
       "  "
      ],
      "text/plain": [
       "   Unnamed: 0  age_count  cancer_count  hrswrk_count  health_count  \\\n",
       "0           0          2             0             1             3   \n",
       "1           1          2             0             2             3   \n",
       "2           2          2             0             3             1   \n",
       "3           3          5             0             1             3   \n",
       "4           6          3             0             2             1   \n",
       "\n",
       "   income_count  SSI_count  Health_Coverage_count  Education_count  \\\n",
       "0             1          0                      1                3   \n",
       "1             1          0                      1                3   \n",
       "2             3          0                      1                4   \n",
       "3             1          0                      1                2   \n",
       "4             2          0                      1                3   \n",
       "\n",
       "   JobOccupation_count  NoBalancedMeals_count  Ownership_home_count  \\\n",
       "0                   15                      3                     2   \n",
       "1                    0                      3                     2   \n",
       "2                    5                      3                     2   \n",
       "3                   12                      3                     1   \n",
       "4                    2                      3                     2   \n",
       "\n",
       "   highchol_count  worrymedbills_count  insulin_count  foodsecurity_count  \\\n",
       "0               0                    1              0                   1   \n",
       "1               0                    2              0                   1   \n",
       "2               0                    1              0                   1   \n",
       "3               1                    2              0                   1   \n",
       "4               0                    2              0                   1   \n",
       "\n",
       "   race_count  Welfare_count  Delay_MedCost_count  Diabetic_count  \\\n",
       "0           2              0                    2               0   \n",
       "1           2              0                    2               0   \n",
       "2           2              0                    1               0   \n",
       "3           1              0                    1               0   \n",
       "4           1              0                    1               0   \n",
       "\n",
       "   Smoking_count  Depressed_count  \n",
       "0              0                0  \n",
       "1              0                0  \n",
       "2              0                2  \n",
       "3              0                2  \n",
       "4              1                0  "
      ]
     },
     "execution_count": 225,
     "metadata": {},
     "output_type": "execute_result"
    }
   ],
   "source": [
    "data.head()"
   ]
  },
  {
   "cell_type": "code",
   "execution_count": null,
   "id": "jV5rbydmoQmS",
   "metadata": {
    "id": "jV5rbydmoQmS"
   },
   "outputs": [],
   "source": [
    "## ***AGE - NUMERICAL***\n",
    "#https://www.cancer.gov/about-cancer/causes-prevention/risk/age#:~:text=The%20incidence%20rates%20for%20cancer,groups%2060%20years%20and%20older.\n",
    "#According to cancer.gov, advanced age one of the MOST important risk factor overall to cancer risk\n",
    "#Cancer rates climb significantly the older you get.\n",
    "#Median age for cancer is in the low to upper 60s"
   ]
  },
  {
   "cell_type": "code",
   "execution_count": null,
   "id": "0SA97y01oTEW",
   "metadata": {
    "id": "0SA97y01oTEW"
   },
   "outputs": [],
   "source": [
    "data['age'] = data.loc[:, 'age_count']"
   ]
  },
  {
   "cell_type": "code",
   "execution_count": null,
   "id": "5i60_789oTH5",
   "metadata": {
    "id": "5i60_789oTH5"
   },
   "outputs": [],
   "source": [
    "data['age'].replace(to_replace=1,\n",
    "           value=\"Young\", inplace=True)"
   ]
  },
  {
   "cell_type": "code",
   "execution_count": null,
   "id": "6dEKLGr0oVWM",
   "metadata": {
    "id": "6dEKLGr0oVWM"
   },
   "outputs": [],
   "source": [
    "data['age'].replace(to_replace=2,\n",
    "           value=\"Lower_Middle_Aged\", inplace=True)"
   ]
  },
  {
   "cell_type": "code",
   "execution_count": null,
   "id": "YeE0TmMRoWt7",
   "metadata": {
    "id": "YeE0TmMRoWt7"
   },
   "outputs": [],
   "source": [
    "data['age'].replace(to_replace=3,\n",
    "           value=\"Middle_Aged\", inplace=True)"
   ]
  },
  {
   "cell_type": "code",
   "execution_count": null,
   "id": "2jjt-dK8oX5f",
   "metadata": {
    "id": "2jjt-dK8oX5f"
   },
   "outputs": [],
   "source": [
    "data['age'].replace(to_replace=4,\n",
    "           value=\"Upper_Middle_Aged\", inplace=True)"
   ]
  },
  {
   "cell_type": "code",
   "execution_count": null,
   "id": "EH3-VfgRoY1h",
   "metadata": {
    "id": "EH3-VfgRoY1h"
   },
   "outputs": [],
   "source": [
    "data['age'].replace(to_replace=5,\n",
    "           value=\"Elderly\", inplace=True)"
   ]
  },
  {
   "cell_type": "code",
   "execution_count": null,
   "id": "iQfrpHBzoZxP",
   "metadata": {
    "colab": {
     "base_uri": "https://localhost:8080/"
    },
    "executionInfo": {
     "elapsed": 51,
     "status": "ok",
     "timestamp": 1665778471957,
     "user": {
      "displayName": "Derek Hu",
      "userId": "14137525769356790466"
     },
     "user_tz": 420
    },
    "id": "iQfrpHBzoZxP",
    "outputId": "51711b64-ef76-4f37-84ec-1589b08b9211"
   },
   "outputs": [
    {
     "data": {
      "text/plain": [
       "Young                53199\n",
       "Elderly              44431\n",
       "Upper_Middle_Aged    41931\n",
       "Middle_Aged          39551\n",
       "Lower_Middle_Aged    29653\n",
       "Name: age, dtype: int64"
      ]
     },
     "execution_count": 235,
     "metadata": {},
     "output_type": "execute_result"
    }
   ],
   "source": [
    "data['age'].value_counts()"
   ]
  },
  {
   "cell_type": "markdown",
   "id": "61a10618-244a-42a3-94c7-8ccec6868e78",
   "metadata": {
    "id": "61a10618-244a-42a3-94c7-8ccec6868e78"
   },
   "source": [
    "***HOURSWRK (Categorical)***"
   ]
  },
  {
   "cell_type": "code",
   "execution_count": 1,
   "id": "1eee6b27-3d09-41b1-b0c4-eac3118dc4ab",
   "metadata": {
    "executionInfo": {
     "elapsed": 4,
     "status": "ok",
     "timestamp": 1665978463746,
     "user": {
      "displayName": "Derek Hu",
      "userId": "14137525769356790466"
     },
     "user_tz": 420
    },
    "id": "1eee6b27-3d09-41b1-b0c4-eac3118dc4ab"
   },
   "outputs": [],
   "source": [
    "#hrs worked - 0 to 95, don't include 97-99\n",
    "#0-95 - # work hours per week a year\n",
    "#97 - Unknown--refused\n",
    "#98 - Unknown--not ascertained\n",
    "#99 - Unknown--don't know"
   ]
  },
  {
   "cell_type": "code",
   "execution_count": null,
   "id": "TVIMLbvGDd6L",
   "metadata": {
    "id": "TVIMLbvGDd6L"
   },
   "outputs": [],
   "source": [
    "#I split the number of hours worked per week to four categories. \n",
    "#This included people who work part time below 40 hours and those who work overtime up to over 60 hours\n",
    "\n",
    "#https://www.nature.com/articles/bjc20169#:~:text=We%20observed%20no%20association%20between,CI%3A%200.76%2C%200.98).\n",
    "#According to them, they observed no significant relation towards work hours and cancer rates\n",
    "#People who work less have slightly less cancer rate, so I will include this variable to see its impact and remove it if it's insignificant"
   ]
  },
  {
   "cell_type": "code",
   "execution_count": null,
   "id": "MkRqXHBlor-3",
   "metadata": {
    "id": "MkRqXHBlor-3"
   },
   "outputs": [],
   "source": [
    "data['hrswrk'] = data.loc[:, 'hrswrk_count']"
   ]
  },
  {
   "cell_type": "code",
   "execution_count": null,
   "id": "v6mLdL63ovjs",
   "metadata": {
    "id": "v6mLdL63ovjs"
   },
   "outputs": [],
   "source": [
    "data['hrswrk'].replace(to_replace=1,\n",
    "           value=\"HoursWrk_0-30\", inplace=True)"
   ]
  },
  {
   "cell_type": "code",
   "execution_count": null,
   "id": "3_ZhSUtPo2Vq",
   "metadata": {
    "id": "3_ZhSUtPo2Vq"
   },
   "outputs": [],
   "source": [
    "data['hrswrk'].replace(to_replace=2,\n",
    "           value=\"HoursWrk_30-40\", inplace=True)"
   ]
  },
  {
   "cell_type": "code",
   "execution_count": null,
   "id": "o0c_Kr8fqi2k",
   "metadata": {
    "id": "o0c_Kr8fqi2k"
   },
   "outputs": [],
   "source": [
    "data['hrswrk'].replace(to_replace=3,\n",
    "           value=\"HoursWrk_40-60\", inplace=True)"
   ]
  },
  {
   "cell_type": "code",
   "execution_count": null,
   "id": "OISKesHaqj5E",
   "metadata": {
    "id": "OISKesHaqj5E"
   },
   "outputs": [],
   "source": [
    "data['hrswrk'].replace(to_replace=4,\n",
    "           value=\"HoursWrk_60+\", inplace=True)"
   ]
  },
  {
   "cell_type": "code",
   "execution_count": null,
   "id": "wKuFySvQqlBE",
   "metadata": {
    "colab": {
     "base_uri": "https://localhost:8080/"
    },
    "executionInfo": {
     "elapsed": 49,
     "status": "ok",
     "timestamp": 1665778471965,
     "user": {
      "displayName": "Derek Hu",
      "userId": "14137525769356790466"
     },
     "user_tz": 420
    },
    "id": "wKuFySvQqlBE",
    "outputId": "5d9c7ba6-455e-4d1b-a1ec-e966aa8edcd4"
   },
   "outputs": [
    {
     "data": {
      "text/plain": [
       "HoursWrk_0-30     128851\n",
       "HoursWrk_30-40     50620\n",
       "HoursWrk_40-60     25486\n",
       "HoursWrk_60+        3808\n",
       "Name: hrswrk, dtype: int64"
      ]
     },
     "execution_count": 242,
     "metadata": {},
     "output_type": "execute_result"
    }
   ],
   "source": [
    "data['hrswrk'].value_counts()"
   ]
  },
  {
   "cell_type": "markdown",
   "id": "d886c0e3-49cd-4f6e-93aa-7e7ee07a8100",
   "metadata": {
    "id": "d886c0e3-49cd-4f6e-93aa-7e7ee07a8100"
   },
   "source": [
    "***Health - Categorical***"
   ]
  },
  {
   "cell_type": "code",
   "execution_count": 2,
   "id": "t6MWHwx7Df72",
   "metadata": {
    "executionInfo": {
     "elapsed": 420,
     "status": "ok",
     "timestamp": 1665978473841,
     "user": {
      "displayName": "Derek Hu",
      "userId": "14137525769356790466"
     },
     "user_tz": 420
    },
    "id": "t6MWHwx7Df72"
   },
   "outputs": [],
   "source": [
    "#This is of course debatable. This asks people how healthy they feel. It's plausable that those who are in poor health believe they are healthy.\n",
    "#Everyone has different standards towards health. Many can feel healthy but suffer from unknown conditions as well\n",
    "#Overall, I expect for people in poor health to have higher rates of cancer"
   ]
  },
  {
   "cell_type": "code",
   "execution_count": null,
   "id": "4b8_t2_TDhnT",
   "metadata": {
    "id": "4b8_t2_TDhnT"
   },
   "outputs": [],
   "source": [
    "#1 - Excellent\n",
    "#2 - Very Good\n",
    "#3 - Good\n",
    "#4 - Fair\n",
    "#5 - Poor\n",
    "#7 - Unknown-refused\n",
    "#8 - Unknown-not ascertained\n",
    "#9 - Unknown-don't know"
   ]
  },
  {
   "cell_type": "code",
   "execution_count": null,
   "id": "d8b4608a-dbd5-4ed4-8c01-88a7c55f5abb",
   "metadata": {
    "id": "d8b4608a-dbd5-4ed4-8c01-88a7c55f5abb"
   },
   "outputs": [],
   "source": [
    "data['health'] = data.loc[:, 'health_count']"
   ]
  },
  {
   "cell_type": "code",
   "execution_count": null,
   "id": "f2674edf-312b-4781-a8b4-7bdf4a1df62c",
   "metadata": {
    "id": "f2674edf-312b-4781-a8b4-7bdf4a1df62c"
   },
   "outputs": [],
   "source": [
    "#Health into dummy variables\n",
    "data['health'].replace(to_replace=1,\n",
    "           value=\"Excellent_Health\", inplace=True)"
   ]
  },
  {
   "cell_type": "code",
   "execution_count": null,
   "id": "yXg6emNFqt5p",
   "metadata": {
    "id": "yXg6emNFqt5p"
   },
   "outputs": [],
   "source": [
    "data['health'].replace(to_replace=2,\n",
    "           value=\"Very_Good_Health\", inplace=True)"
   ]
  },
  {
   "cell_type": "code",
   "execution_count": null,
   "id": "Lz45lj-uqu39",
   "metadata": {
    "id": "Lz45lj-uqu39"
   },
   "outputs": [],
   "source": [
    "data['health'].replace(to_replace=3,\n",
    "           value=\"Good_Health\", inplace=True)"
   ]
  },
  {
   "cell_type": "code",
   "execution_count": null,
   "id": "9lxT2IKdqv7o",
   "metadata": {
    "id": "9lxT2IKdqv7o"
   },
   "outputs": [],
   "source": [
    "data['health'].replace(to_replace=4,\n",
    "           value=\"Fair\", inplace=True)"
   ]
  },
  {
   "cell_type": "code",
   "execution_count": null,
   "id": "jbXFuCn5qw-K",
   "metadata": {
    "id": "jbXFuCn5qw-K"
   },
   "outputs": [],
   "source": [
    "data['health'].replace(to_replace=5,\n",
    "           value=\"Poor_Health\", inplace=True)"
   ]
  },
  {
   "cell_type": "code",
   "execution_count": null,
   "id": "oCO-1taSH-2H",
   "metadata": {
    "id": "oCO-1taSH-2H"
   },
   "outputs": [],
   "source": [
    "data = data[data.health != 8]"
   ]
  },
  {
   "cell_type": "code",
   "execution_count": null,
   "id": "rXnkoIAiqx2y",
   "metadata": {
    "colab": {
     "base_uri": "https://localhost:8080/"
    },
    "executionInfo": {
     "elapsed": 20,
     "status": "ok",
     "timestamp": 1665778472696,
     "user": {
      "displayName": "Derek Hu",
      "userId": "14137525769356790466"
     },
     "user_tz": 420
    },
    "id": "rXnkoIAiqx2y",
    "outputId": "a002d4bb-827a-4c9e-cda0-7b2cdb151dfd"
   },
   "outputs": [
    {
     "data": {
      "text/plain": [
       "Excellent_Health    73331\n",
       "Very_Good_Health    66156\n",
       "Good_Health         48469\n",
       "Fair                16120\n",
       "Poor_Health          4688\n",
       "Name: health, dtype: int64"
      ]
     },
     "execution_count": 250,
     "metadata": {},
     "output_type": "execute_result"
    }
   ],
   "source": [
    "data['health'].value_counts()"
   ]
  },
  {
   "cell_type": "markdown",
   "id": "e82369cd-9104-453a-ac46-c69ea9f47c01",
   "metadata": {
    "id": "e82369cd-9104-453a-ac46-c69ea9f47c01"
   },
   "source": [
    "***INCFAM07ON (Categorical)***"
   ]
  },
  {
   "cell_type": "code",
   "execution_count": null,
   "id": "qEaPCVStDjB9",
   "metadata": {
    "id": "qEaPCVStDjB9"
   },
   "outputs": [],
   "source": [
    "#11 - 0 to 35k, 12 - 35k-50k, 22 = 50k to 75k, 23 - 75k to 100k, 24 - 100k and up\n",
    "#This represents a person's income. \n",
    "\n",
    "#https://www.ncbi.nlm.nih.gov/pmc/articles/PMC6318397/#:~:text=By%20contrast%2C%20those%20of%20lung,of%20certain%20forms%20of%20cancer.\n",
    "#Lower income is linked to unhealthy food, poorer healthcare, less cancer screening, and more cancer rates\n",
    "#Lower income can indicate higher alcohol and smoking usage\n",
    "#Income is a significant indicator of cancer\n",
    "data['INCFAM07ON'].value_counts()"
   ]
  },
  {
   "cell_type": "code",
   "execution_count": null,
   "id": "3e2f394f-a866-4ba9-bac1-6ac38a0e5735",
   "metadata": {
    "id": "3e2f394f-a866-4ba9-bac1-6ac38a0e5735"
   },
   "outputs": [],
   "source": [
    "data['income'] = data.loc[:, 'income_count']"
   ]
  },
  {
   "cell_type": "code",
   "execution_count": null,
   "id": "b58d0ca7-9350-4341-ac23-36dfea22e3b6",
   "metadata": {
    "id": "b58d0ca7-9350-4341-ac23-36dfea22e3b6"
   },
   "outputs": [],
   "source": [
    "data['income'].replace(to_replace=1,\n",
    "           value=\"Low-Income\", inplace=True)"
   ]
  },
  {
   "cell_type": "code",
   "execution_count": null,
   "id": "esRj96R5q9dq",
   "metadata": {
    "id": "esRj96R5q9dq"
   },
   "outputs": [],
   "source": [
    "data['income'].replace(to_replace=2,\n",
    "           value=\"Lower-Middle-Income\", inplace=True)"
   ]
  },
  {
   "cell_type": "code",
   "execution_count": null,
   "id": "m57FcxGZq_nx",
   "metadata": {
    "id": "m57FcxGZq_nx"
   },
   "outputs": [],
   "source": [
    "data['income'].replace(to_replace=3,\n",
    "           value=\"Middle-Income\", inplace=True)"
   ]
  },
  {
   "cell_type": "code",
   "execution_count": null,
   "id": "cJKECQJlrBeO",
   "metadata": {
    "id": "cJKECQJlrBeO"
   },
   "outputs": [],
   "source": [
    "data['income'].replace(to_replace=4,\n",
    "           value=\"High-Income\", inplace=True)"
   ]
  },
  {
   "cell_type": "code",
   "execution_count": null,
   "id": "10kMkS-2rD3-",
   "metadata": {
    "id": "10kMkS-2rD3-"
   },
   "outputs": [],
   "source": [
    "data['income'].replace(to_replace=5,\n",
    "           value=\"Very-High-Income\", inplace=True)"
   ]
  },
  {
   "cell_type": "code",
   "execution_count": null,
   "id": "dN7nJhSdrFlR",
   "metadata": {
    "colab": {
     "base_uri": "https://localhost:8080/"
    },
    "executionInfo": {
     "elapsed": 206,
     "status": "ok",
     "timestamp": 1665778496088,
     "user": {
      "displayName": "Derek Hu",
      "userId": "14137525769356790466"
     },
     "user_tz": 420
    },
    "id": "dN7nJhSdrFlR",
    "outputId": "cf3f9531-e35e-4ad9-86a0-f639e8e1e937"
   },
   "outputs": [
    {
     "data": {
      "text/plain": [
       "Very-High-Income       66053\n",
       "Low-Income             55790\n",
       "Middle-Income          35950\n",
       "High-Income            27796\n",
       "Lower-Middle-Income    23175\n",
       "Name: income, dtype: int64"
      ]
     },
     "execution_count": 257,
     "metadata": {},
     "output_type": "execute_result"
    }
   ],
   "source": [
    "data['income'].value_counts()"
   ]
  },
  {
   "cell_type": "markdown",
   "id": "49eb68a6-13c1-4293-be19-b11d8e4b1d5c",
   "metadata": {
    "id": "49eb68a6-13c1-4293-be19-b11d8e4b1d5c"
   },
   "source": [
    "***GOTSSIWHY (Numerical)***"
   ]
  },
  {
   "cell_type": "code",
   "execution_count": 3,
   "id": "de0fd957-5d82-44bc-8e4a-d1bb6bb54675",
   "metadata": {
    "executionInfo": {
     "elapsed": 3,
     "status": "ok",
     "timestamp": 1665978495038,
     "user": {
      "displayName": "Derek Hu",
      "userId": "14137525769356790466"
     },
     "user_tz": 420
    },
    "id": "de0fd957-5d82-44bc-8e4a-d1bb6bb54675"
   },
   "outputs": [],
   "source": [
    "#0                   NIU\n",
    "#1                   No\n",
    "#2                   Yes\n",
    "#7                   Unknown-refused\n",
    "#8                   Unknown-not ascertained\n",
    "#9                   Unknown-don't know"
   ]
  },
  {
   "cell_type": "code",
   "execution_count": null,
   "id": "zeRXS_ftDmu4",
   "metadata": {
    "id": "zeRXS_ftDmu4"
   },
   "outputs": [],
   "source": [
    "#Whether a person is on SSI. Use of SSI usually correlates to higher age"
   ]
  },
  {
   "cell_type": "code",
   "execution_count": null,
   "id": "c1239f55-b8d5-4efe-9cd2-e4cc524d69ca",
   "metadata": {
    "id": "c1239f55-b8d5-4efe-9cd2-e4cc524d69ca"
   },
   "outputs": [],
   "source": [
    "data['SSI'] = data.loc[:, 'SSI_count']"
   ]
  },
  {
   "cell_type": "code",
   "execution_count": null,
   "id": "9482c460-7062-46a3-b3cb-1bc817fccf41",
   "metadata": {
    "id": "9482c460-7062-46a3-b3cb-1bc817fccf41"
   },
   "outputs": [],
   "source": [
    "data['SSI'].replace(to_replace=0,\n",
    "           value=\"No_SSI\", inplace=True)"
   ]
  },
  {
   "cell_type": "code",
   "execution_count": null,
   "id": "40e1b83c-e428-4747-8705-faed9ef3f91b",
   "metadata": {
    "id": "40e1b83c-e428-4747-8705-faed9ef3f91b"
   },
   "outputs": [],
   "source": [
    "data['SSI'].replace(to_replace=1,\n",
    "           value=\"Yes_SSI\", inplace=True)"
   ]
  },
  {
   "cell_type": "code",
   "execution_count": null,
   "id": "d2e4c7a2-8d92-456f-8acc-bea64a071050",
   "metadata": {
    "colab": {
     "base_uri": "https://localhost:8080/"
    },
    "executionInfo": {
     "elapsed": 203,
     "status": "ok",
     "timestamp": 1665778496092,
     "user": {
      "displayName": "Derek Hu",
      "userId": "14137525769356790466"
     },
     "user_tz": 420
    },
    "id": "d2e4c7a2-8d92-456f-8acc-bea64a071050",
    "outputId": "f045a337-55f6-410b-80a0-c70f362517a9"
   },
   "outputs": [
    {
     "data": {
      "text/plain": [
       "No_SSI     204748\n",
       "Yes_SSI      4016\n",
       "Name: SSI, dtype: int64"
      ]
     },
     "execution_count": 262,
     "metadata": {},
     "output_type": "execute_result"
    }
   ],
   "source": [
    "data['SSI'].value_counts()"
   ]
  },
  {
   "cell_type": "markdown",
   "id": "5f78b7da-1e33-474e-b445-b257afb1fde4",
   "metadata": {
    "id": "5f78b7da-1e33-474e-b445-b257afb1fde4"
   },
   "source": [
    "***HINOTCOVE - Numerical***"
   ]
  },
  {
   "cell_type": "code",
   "execution_count": 4,
   "id": "HZ6yJN2gDodI",
   "metadata": {
    "executionInfo": {
     "elapsed": 259,
     "status": "ok",
     "timestamp": 1665978507293,
     "user": {
      "displayName": "Derek Hu",
      "userId": "14137525769356790466"
     },
     "user_tz": 420
    },
    "id": "HZ6yJN2gDodI"
   },
   "outputs": [],
   "source": [
    "#0 - NIU\n",
    "#1 - No, has coverage\n",
    "#2 - Yes, has no coverage\n",
    "#7 - Unknown-refused\n",
    "#8 - Unknown-not ascertained\n",
    "#9 - Unknown-don't know"
   ]
  },
  {
   "cell_type": "code",
   "execution_count": null,
   "id": "-io6_qYADpxW",
   "metadata": {
    "id": "-io6_qYADpxW"
   },
   "outputs": [],
   "source": [
    "#Whether a person has heathcare coverage. In 2018, over 90% of americans have health coverage\n",
    "#https://www.commonwealthfund.org/publications/issue-briefs/2019/aug/who-are-remaining-uninsured-and-why-do-they-lack-coverage\n",
    "#Uninsured are generally lower-income but younger (below 35 years old), this could mean it doesn't correlate to cancer rates\n",
    "#I thought it would be worthwhile to see if cancer rates would be actually lower due to the age factor"
   ]
  },
  {
   "cell_type": "code",
   "execution_count": null,
   "id": "9e661cfb-815c-44ad-8421-d84464e3310c",
   "metadata": {
    "id": "9e661cfb-815c-44ad-8421-d84464e3310c"
   },
   "outputs": [],
   "source": [
    "data['Health_Coverage'] = data.loc[:, 'Health_Coverage_count']"
   ]
  },
  {
   "cell_type": "code",
   "execution_count": null,
   "id": "0b459ff6-170e-4954-877b-7382403e3b71",
   "metadata": {
    "colab": {
     "base_uri": "https://localhost:8080/"
    },
    "executionInfo": {
     "elapsed": 183,
     "status": "ok",
     "timestamp": 1665778496093,
     "user": {
      "displayName": "Derek Hu",
      "userId": "14137525769356790466"
     },
     "user_tz": 420
    },
    "id": "0b459ff6-170e-4954-877b-7382403e3b71",
    "outputId": "3666901f-0cfd-4db1-f6e4-c3b37381c38e"
   },
   "outputs": [
    {
     "data": {
      "text/plain": [
       "1    191051\n",
       "2     17713\n",
       "Name: Health_Coverage_count, dtype: int64"
      ]
     },
     "execution_count": 264,
     "metadata": {},
     "output_type": "execute_result"
    }
   ],
   "source": [
    "data['Health_Coverage_count'].value_counts()"
   ]
  },
  {
   "cell_type": "code",
   "execution_count": null,
   "id": "9209a9a6-523a-41d5-95d0-460ed1954a23",
   "metadata": {
    "id": "9209a9a6-523a-41d5-95d0-460ed1954a23"
   },
   "outputs": [],
   "source": [
    "data['Health_Coverage'].replace(to_replace=1,\n",
    "           value=\"Has_healthcoverage\", inplace=True)"
   ]
  },
  {
   "cell_type": "code",
   "execution_count": null,
   "id": "01074bb6-103f-45c7-9ebb-176fdbc06027",
   "metadata": {
    "id": "01074bb6-103f-45c7-9ebb-176fdbc06027"
   },
   "outputs": [],
   "source": [
    "data['Health_Coverage'].replace(to_replace=2,\n",
    "           value=\"No_healthcoverage\", inplace=True)"
   ]
  },
  {
   "cell_type": "code",
   "execution_count": null,
   "id": "38372ea5-0ca9-4654-828f-0d0fc415f953",
   "metadata": {
    "colab": {
     "base_uri": "https://localhost:8080/"
    },
    "executionInfo": {
     "elapsed": 174,
     "status": "ok",
     "timestamp": 1665778496096,
     "user": {
      "displayName": "Derek Hu",
      "userId": "14137525769356790466"
     },
     "user_tz": 420
    },
    "id": "38372ea5-0ca9-4654-828f-0d0fc415f953",
    "outputId": "6b4ffd30-fe31-45ae-f396-0ea6dd4a1cbe"
   },
   "outputs": [
    {
     "data": {
      "text/plain": [
       "Has_healthcoverage    191051\n",
       "No_healthcoverage      17713\n",
       "Name: Health_Coverage, dtype: int64"
      ]
     },
     "execution_count": 267,
     "metadata": {},
     "output_type": "execute_result"
    }
   ],
   "source": [
    "data['Health_Coverage'].value_counts()"
   ]
  },
  {
   "cell_type": "markdown",
   "id": "e45b82fb-9d59-450f-88ef-5e9e8bff06e2",
   "metadata": {
    "id": "e45b82fb-9d59-450f-88ef-5e9e8bff06e2"
   },
   "source": [
    "***EDUC - (Categorical)***"
   ]
  },
  {
   "cell_type": "code",
   "execution_count": null,
   "id": "0rNEC1-Trj0f",
   "metadata": {
    "id": "0rNEC1-Trj0f"
   },
   "outputs": [],
   "source": [
    "#000 - NIU\n",
    "#100 - Grade 12 or less, no high school diploma or equivalent\n",
    "#101 - Grade 8 or less (no further detail)\n",
    "#102 - Never attended/kindergarten only\n",
    "#103 - Grades 1-11 (no further detail)\n",
    "#104 - Grade 1\n",
    "#105 - Grade 2\n",
    "#106 - Grade 3\n",
    "#107 - Grade 4\n",
    "#108 - Grade 5\n",
    "#109 - Grade 6\n",
    "#110 - Grade 7\n",
    "#111 - Grade 8\n",
    "#112 - Grade 9-12, no diploma (no further detail)\n",
    "#113 - Grade 9\n",
    "#114 - Grade 10\n",
    "#115 - Grade 11\n",
    "#116 - 12th grade, no diploma\n",
    "#200 - High school diploma or GED\n",
    "#201 - High school graduate\n",
    "#202 - GED or equivalent\n",
    "#300 - Some college, no 4yr degree\n",
    "#301 - Some college, no degree\n",
    "#302 - AA degree: technical/vocational/occupational\n",
    "#303 - AA degree: academic program\n",
    "#400 - Bachelor's degree (BA,AB,BS,BBA)\n",
    "#500 - Master's, Professional, or Doctoral Degree\n",
    "#501 - Master's degree (MA,MS,Med,MBA)\n",
    "#502 - Professional (MD,DDS,DVM,JD)\n",
    "#503 - Doctoral degree (PhD, EdD)\n",
    "#504 - Other degree\n",
    "#996 - No degree, years of education unknown\n",
    "#997 - Unknown--refused\n",
    "#998 - Unknown--not ascertain ed\n",
    "#999 - Unknown--don't know"
   ]
  },
  {
   "cell_type": "code",
   "execution_count": 5,
   "id": "Zx7EnJekrliR",
   "metadata": {
    "executionInfo": {
     "elapsed": 5,
     "status": "ok",
     "timestamp": 1665978514362,
     "user": {
      "displayName": "Derek Hu",
      "userId": "14137525769356790466"
     },
     "user_tz": 420
    },
    "id": "Zx7EnJekrliR"
   },
   "outputs": [],
   "source": [
    "#000 - NIU_educ (0)\n",
    "#100-116 - Grade 12 or less, no high school diploma or equivalent (1)\n",
    "#200-202 - High school diploma or GED (2)\n",
    "#300-303 - Some college, no 4yr degree (3)\n",
    "#400 - Bachelor's degree (BA,AB,BS,BBA) (4)\n",
    "#500-504 - Master's, Professional, or Doctoral Degree (5)"
   ]
  },
  {
   "cell_type": "code",
   "execution_count": null,
   "id": "xQFk8U_DDrgO",
   "metadata": {
    "id": "xQFk8U_DDrgO"
   },
   "outputs": [],
   "source": [
    "#Education - There is a significant increase which those who don't go to college\n",
    "\n",
    "#https://societyhealth.vcu.edu/work/the-projects/why-education-matters-to-health-exploring-the-causes.html\n",
    "#College educated Americams are more likely to have health insurance, have higher income, \n",
    "#and more easily buy healthy foods and good transportation/housing"
   ]
  },
  {
   "cell_type": "code",
   "execution_count": null,
   "id": "41b77818-b999-4112-9523-200694b1d765",
   "metadata": {
    "id": "41b77818-b999-4112-9523-200694b1d765"
   },
   "outputs": [],
   "source": [
    "data['Education'] = data.loc[:, 'Education_count']"
   ]
  },
  {
   "cell_type": "code",
   "execution_count": null,
   "id": "0e827be3-6c9b-4771-ac55-5e292100c4b9",
   "metadata": {
    "id": "0e827be3-6c9b-4771-ac55-5e292100c4b9"
   },
   "outputs": [],
   "source": [
    "data['Education'].replace(to_replace=0,\n",
    "           value=\"NIU_educ\", inplace=True)"
   ]
  },
  {
   "cell_type": "code",
   "execution_count": null,
   "id": "8da7fd82-ddcd-4879-be64-f7dea0d3d818",
   "metadata": {
    "id": "8da7fd82-ddcd-4879-be64-f7dea0d3d818"
   },
   "outputs": [],
   "source": [
    "data['Education'].replace(to_replace=1,\n",
    "           value=\"High_School_Or_Less\", inplace=True)"
   ]
  },
  {
   "cell_type": "code",
   "execution_count": null,
   "id": "720b608e-fa59-4b56-87a0-9e92148cec01",
   "metadata": {
    "id": "720b608e-fa59-4b56-87a0-9e92148cec01"
   },
   "outputs": [],
   "source": [
    "data['Education'].replace(to_replace=2,\n",
    "           value=\"High_School_Graduate\", inplace=True)"
   ]
  },
  {
   "cell_type": "code",
   "execution_count": null,
   "id": "8904eed5-92d9-41ec-aa87-d0719364f513",
   "metadata": {
    "id": "8904eed5-92d9-41ec-aa87-d0719364f513"
   },
   "outputs": [],
   "source": [
    "data['Education'].replace(to_replace=3,\n",
    "           value=\"Some_College\", inplace=True)"
   ]
  },
  {
   "cell_type": "code",
   "execution_count": null,
   "id": "2bad0d8a-253a-4a17-aeeb-127d4ad7ae33",
   "metadata": {
    "id": "2bad0d8a-253a-4a17-aeeb-127d4ad7ae33"
   },
   "outputs": [],
   "source": [
    "data['Education'].replace(to_replace=4,\n",
    "           value=\"Bachelors_Degree\", inplace=True)"
   ]
  },
  {
   "cell_type": "code",
   "execution_count": null,
   "id": "1fa7051d-46f7-4d3b-b896-cce0b093a74e",
   "metadata": {
    "id": "1fa7051d-46f7-4d3b-b896-cce0b093a74e"
   },
   "outputs": [],
   "source": [
    "data['Education'].replace(to_replace=5,\n",
    "           value=\"Masters_Degree\", inplace=True)"
   ]
  },
  {
   "cell_type": "code",
   "execution_count": null,
   "id": "d35ca62a-c066-41cc-a8ba-c9c5edaa1d86",
   "metadata": {
    "colab": {
     "base_uri": "https://localhost:8080/"
    },
    "executionInfo": {
     "elapsed": 163,
     "status": "ok",
     "timestamp": 1665778496102,
     "user": {
      "displayName": "Derek Hu",
      "userId": "14137525769356790466"
     },
     "user_tz": 420
    },
    "id": "d35ca62a-c066-41cc-a8ba-c9c5edaa1d86",
    "outputId": "10ed36a8-6443-4791-fb8c-a628833f3387"
   },
   "outputs": [
    {
     "data": {
      "text/plain": [
       "High_School_Or_Less     55431\n",
       "Some_College            48552\n",
       "High_School_Graduate    40165\n",
       "Bachelors_Degree        32196\n",
       "Masters_Degree          19229\n",
       "NIU_educ                13191\n",
       "Name: Education, dtype: int64"
      ]
     },
     "execution_count": 277,
     "metadata": {},
     "output_type": "execute_result"
    }
   ],
   "source": [
    "data['Education'].value_counts()"
   ]
  },
  {
   "cell_type": "markdown",
   "id": "637ba8a8-f6f8-4084-b1d1-e375f175bf44",
   "metadata": {
    "id": "637ba8a8-f6f8-4084-b1d1-e375f175bf44"
   },
   "source": [
    "***OCC1995 - Categorical***"
   ]
  },
  {
   "cell_type": "code",
   "execution_count": 6,
   "id": "bW3w8qMGr1jZ",
   "metadata": {
    "executionInfo": {
     "elapsed": 2,
     "status": "ok",
     "timestamp": 1665978525861,
     "user": {
      "displayName": "Derek Hu",
      "userId": "14137525769356790466"
     },
     "user_tz": 420
    },
    "id": "bW3w8qMGr1jZ"
   },
   "outputs": [],
   "source": [
    "# OCC1995 - Occupation\n",
    "\n",
    "#MANAGERIAL AND PROFESSIONAL SPECIALTY OCCUPATIONS\n",
    "#0100                Executive, Administrative, and Managerial Occupations               \n",
    "#0102                Officials and administrators, public administration\n",
    "#0103                Managers and administrators, except public administration\n",
    "#0104                Management related occupations\n",
    "#0200                Professional Specialty Occupations\n",
    "#0210                Engineers, Architechts, Surveyors, and Scientists:\n",
    "#0211                Engineers, scientists, and technicians\n",
    "#0212                Engineers and architects\n",
    "#0213                Engineers\n",
    "#0214                Architects and surveyors\n",
    "#0215                Scientists\n",
    "#0216                Natural mathematical and computer scientists\n",
    "#0220                Health Assessment, Diagnosing, and Treating Occupations:\n",
    "#0221                Health workers\n",
    "#0222                Health diagnosing occupations\n",
    "#0223                Health assessment and treating occupations\n",
    "#0230                Teachers, Librarians, Archivists, and Curators:\n",
    "#0231                Teachers, librarians and counselors\n",
    "#0232                Teachers, including professors and instructors\n",
    "#0240                All other professional specialty occupations\n",
    "#0241                All other professional, technical, and kindred workers\n",
    "#0242                Writers, artists, entertainers and athletes\n",
    "#0243                Other professional specialty occupations\n",
    "\n",
    "#TECHNICAL, SALES, AND ADMINISTRATIVE SUPPORT OCCUPATIONS\n",
    "#0300                Technicians and Related Support Occupations\n",
    "#0301                Health technologists and technicians\n",
    "#0302                Engineering and science technicians\n",
    "#0303                Technologists, technicians except health\n",
    "#0400                Sales Occupations:\n",
    "#0401                Sales workers\n",
    "#0402                Supervisors and proprietors\n",
    "#0403                Sales representatives, commodities and finance\n",
    "#0404                Other sales\n",
    "#0500                Administrative Support Occupations, Including Clerical\n",
    "#0501                Mail carriers, baggagemen, teleg. messengers\n",
    "#0502                Stenos, typists, secretaries, receptionist\n",
    "#0503                Other clerical\n",
    "#0504                Financial records processing occupations\n",
    "#0505                Bookkeepers\n",
    "#0506                Office machine operators\n",
    "#0507                Computer equipment operators\n",
    "#0508                All other clerical workers\n",
    "#0509                Other administrative support\n",
    "\n",
    "#SERVICE OCCUPATIONS\n",
    "#0600                Private Household Occupations:\n",
    "#0601                Private household workers\n",
    "#0602                Housekeepers, laundresses, baby sitters, etc.\n",
    "#0700                Protective Service Occupations\n",
    "#0701                Protective service\n",
    "#0702                Police and firefighters\n",
    "#0703                Other protective service occupations\n",
    "#0800                Service Occupations, Except Protective and Household\n",
    "#0801                All other service workers\n",
    "#0802                Food service\n",
    "#0803                Cleaning and building service\n",
    "#0804                Health and personal service\n",
    "#0805                Health service\n",
    "#0806                Personal service\n",
    "\n",
    "#FARMING, FORESTRY, AND FISHING OCCUPATIONS\n",
    "#0900                Farm Operators and Managers:\n",
    "#0901                Farmers and farm managers\n",
    "#0902                Farmers\n",
    "#0903                Farm managers\n",
    "#1000                Other Agricultural and Related Occupations:\n",
    "#1001                Farm workers and other agricultural workers\n",
    "#1002                Farm laborers and farm foremen\n",
    "#1003                Farm laborers\n",
    "#1004                Forestry and fishing occupations\n",
    "\n",
    "#PRECISION PRODUCTION, CRAFT, AND REPAIR OCCUPATIONS\n",
    "#1100                Mechanics and Repairers Occupation\n",
    "#1101                Mechanics and repairers\n",
    "#1102                Construction, including carpenters\n",
    "#1103                Machinists, mechanics, repairment, and metal craftsmen\n",
    "#1200                Construction and Extractive Trades Occupation\n",
    "#1201                Construction and extractive trades\n",
    "#1202                Apprentice, construction\n",
    "#1203                Carpenters\n",
    "#1204                Other construction craftsmen\n",
    "#1205                Mine operatives and laborers\n",
    "#1300                Precision Production Occupations:\n",
    "#1301                Precision production occupations\n",
    "#1302                Metal craftsmen, except mechanics\n",
    "#1303                All other craftsmen\n",
    "#1304                Apprentice, machinists, mechanics, metals\n",
    "\n",
    "#OPERATORS, FABRICATORS, AND LABORERS\n",
    "#1400                Machine Operators, Assemblers, and Inspectors\n",
    "#1401                Operatives, except transport\n",
    "#1402                Machine operators and tenderers, except precision\n",
    "#1403                Fabricators, assemblers, inspectors, and samplers\n",
    "#1500                Transportation and Material Moving Occupations\n",
    "#1501                Transport equipment operatives\n",
    "#1502                Motor vehicle operators\n",
    "#1503                Other transportation, except motor vehicles\n",
    "#1504                Material moving equipment operators\n",
    "#1505                Construction laborers\n",
    "#1506                Freight, stock and material handlers\n",
    "#1507                All other operatives\n",
    "#1508                Laborers, except farm\n",
    "#1509                All other laborers except farm and mine\n",
    "\n",
    "#MILITARY OCCUPATIONS\n",
    "#1600                Military\n",
    "\n",
    "#EXPERIENCED UNEMPLOYED NOT CLASSIFIED BY OCCUPATION\n",
    "#7777                Unknown-refused\n",
    "#8888                Unknown-not ascertained\n",
    "#9999                Unknown-don't know"
   ]
  },
  {
   "cell_type": "code",
   "execution_count": null,
   "id": "4M2m6JnoDuXK",
   "metadata": {
    "id": "4M2m6JnoDuXK"
   },
   "outputs": [],
   "source": [
    "#Job occupation \n",
    "#Office jobs has affects such as increased blood pressure, cholestral, and body fat from lack of exercise or movement\n",
    "#Agriculture jobs expose to UV rays and sunlight and agricultural chemicals\n",
    "#Manufacturing - certain certains like rubber/plastics, have toxins \n",
    "#Construction - exposure to abestos, radon, and toxic materials\n",
    "#Miltiary - often exposure to toxic chemicals, burn pits, etc"
   ]
  },
  {
   "cell_type": "code",
   "execution_count": null,
   "id": "ece77f33-2246-4bea-a1b3-1d5e54c4c6bd",
   "metadata": {
    "id": "ece77f33-2246-4bea-a1b3-1d5e54c4c6bd"
   },
   "outputs": [],
   "source": [
    "data['JobOccupation'] = data.loc[:, 'JobOccupation_count']"
   ]
  },
  {
   "cell_type": "code",
   "execution_count": null,
   "id": "2460f73d-1a5d-4d1e-a712-824804bff787",
   "metadata": {
    "id": "2460f73d-1a5d-4d1e-a712-824804bff787"
   },
   "outputs": [],
   "source": [
    "data['JobOccupation'].replace(to_replace=0,\n",
    "           value=\"Not_In_LaborForce\", inplace=True)"
   ]
  },
  {
   "cell_type": "code",
   "execution_count": null,
   "id": "bP6v6H8dsAkQ",
   "metadata": {
    "id": "bP6v6H8dsAkQ"
   },
   "outputs": [],
   "source": [
    "data['JobOccupation'].replace(to_replace=1,\n",
    "           value=\"Executive, Administrative, and Managerial Occupations\", inplace=True)"
   ]
  },
  {
   "cell_type": "code",
   "execution_count": null,
   "id": "TIT4skLmsBrG",
   "metadata": {
    "id": "TIT4skLmsBrG"
   },
   "outputs": [],
   "source": [
    "data['JobOccupation'].replace(to_replace=2,\n",
    "           value=\"Professional Specialty Occupations\", inplace=True)"
   ]
  },
  {
   "cell_type": "code",
   "execution_count": null,
   "id": "gKZJjppisDDW",
   "metadata": {
    "id": "gKZJjppisDDW"
   },
   "outputs": [],
   "source": [
    "data['JobOccupation'].replace(to_replace=3,\n",
    "           value=\"Technicians and Related Support Occupations\", inplace=True)"
   ]
  },
  {
   "cell_type": "code",
   "execution_count": null,
   "id": "QBkRopOlsEHU",
   "metadata": {
    "id": "QBkRopOlsEHU"
   },
   "outputs": [],
   "source": [
    "data['JobOccupation'].replace(to_replace=4,\n",
    "           value=\"Sales Occupations\", inplace=True)"
   ]
  },
  {
   "cell_type": "code",
   "execution_count": null,
   "id": "4SVxKNpTsE90",
   "metadata": {
    "id": "4SVxKNpTsE90"
   },
   "outputs": [],
   "source": [
    "data['JobOccupation'].replace(to_replace=5,\n",
    "           value=\"Administrative Support Occupations\", inplace=True)"
   ]
  },
  {
   "cell_type": "code",
   "execution_count": null,
   "id": "OjVM6pKSsF5k",
   "metadata": {
    "id": "OjVM6pKSsF5k"
   },
   "outputs": [],
   "source": [
    "data['JobOccupation'].replace(to_replace=6,\n",
    "           value=\"Private Household Occupations\", inplace=True)"
   ]
  },
  {
   "cell_type": "code",
   "execution_count": null,
   "id": "DtdOsMP0sG-X",
   "metadata": {
    "id": "DtdOsMP0sG-X"
   },
   "outputs": [],
   "source": [
    "data['JobOccupation'].replace(to_replace=7,\n",
    "           value=\"Protective Service Occupations\", inplace=True)"
   ]
  },
  {
   "cell_type": "code",
   "execution_count": null,
   "id": "IuUUQO1TsH0i",
   "metadata": {
    "id": "IuUUQO1TsH0i"
   },
   "outputs": [],
   "source": [
    "data['JobOccupation'].replace(to_replace=8,\n",
    "           value=\"Service Occupations, Except Protective and Household\", inplace=True)"
   ]
  },
  {
   "cell_type": "code",
   "execution_count": null,
   "id": "uCCjVb_ZsIv_",
   "metadata": {
    "id": "uCCjVb_ZsIv_"
   },
   "outputs": [],
   "source": [
    "data['JobOccupation'].replace(to_replace=9,\n",
    "           value=\"Farm Operators and Managers\", inplace=True)"
   ]
  },
  {
   "cell_type": "code",
   "execution_count": null,
   "id": "5OLKl-CosJ9u",
   "metadata": {
    "id": "5OLKl-CosJ9u"
   },
   "outputs": [],
   "source": [
    "data['JobOccupation'].replace(to_replace=10,\n",
    "           value=\"Other Agricultural and Related Occupations\", inplace=True)"
   ]
  },
  {
   "cell_type": "code",
   "execution_count": null,
   "id": "UrR-NVF1sKwi",
   "metadata": {
    "id": "UrR-NVF1sKwi"
   },
   "outputs": [],
   "source": [
    "data['JobOccupation'].replace(to_replace=11,\n",
    "           value=\"Mechanics and Repairers Occupation\", inplace=True)"
   ]
  },
  {
   "cell_type": "code",
   "execution_count": null,
   "id": "LCh2gzUAsMoj",
   "metadata": {
    "id": "LCh2gzUAsMoj"
   },
   "outputs": [],
   "source": [
    "data['JobOccupation'].replace(to_replace=12,\n",
    "           value=\"Construction and Extractive Trades Occupation\", inplace=True)"
   ]
  },
  {
   "cell_type": "code",
   "execution_count": null,
   "id": "06eaj8rBsNqX",
   "metadata": {
    "id": "06eaj8rBsNqX"
   },
   "outputs": [],
   "source": [
    "data['JobOccupation'].replace(to_replace=13,\n",
    "           value=\"Precision Production Occupations\", inplace=True)"
   ]
  },
  {
   "cell_type": "code",
   "execution_count": null,
   "id": "GJ8r9KxtsOjH",
   "metadata": {
    "id": "GJ8r9KxtsOjH"
   },
   "outputs": [],
   "source": [
    "data['JobOccupation'].replace(to_replace=14,\n",
    "           value=\"Machine Operators, Assemblers, and Inspectors\", inplace=True)"
   ]
  },
  {
   "cell_type": "code",
   "execution_count": null,
   "id": "uDAo0pO7sPoy",
   "metadata": {
    "id": "uDAo0pO7sPoy"
   },
   "outputs": [],
   "source": [
    "data['JobOccupation'].replace(to_replace=15,\n",
    "           value=\"Transportation and Material Moving Occupations\", inplace=True)"
   ]
  },
  {
   "cell_type": "code",
   "execution_count": null,
   "id": "P5O6wJKZsQco",
   "metadata": {
    "id": "P5O6wJKZsQco"
   },
   "outputs": [],
   "source": [
    "data['JobOccupation'].replace(to_replace=16,\n",
    "           value=\"Military\", inplace=True)"
   ]
  },
  {
   "cell_type": "code",
   "execution_count": null,
   "id": "1JXyzF0asRcO",
   "metadata": {
    "colab": {
     "base_uri": "https://localhost:8080/"
    },
    "executionInfo": {
     "elapsed": 155,
     "status": "ok",
     "timestamp": 1665778496126,
     "user": {
      "displayName": "Derek Hu",
      "userId": "14137525769356790466"
     },
     "user_tz": 420
    },
    "id": "1JXyzF0asRcO",
    "outputId": "343d7e67-27fb-4288-b1df-7efad3ce80df"
   },
   "outputs": [
    {
     "data": {
      "text/plain": [
       "Not_In_LaborForce                                        138057\n",
       "Professional Specialty Occupations                        15004\n",
       "Executive, Administrative, and Managerial Occupations     10522\n",
       "Service Occupations, Except Protective and Household       9810\n",
       "Administrative Support Occupations                         9572\n",
       "Sales Occupations                                          6586\n",
       "Machine Operators, Assemblers, and Inspectors              4047\n",
       "Transportation and Material Moving Occupations             3850\n",
       "Construction and Extractive Trades Occupation              3312\n",
       "Technicians and Related Support Occupations                2134\n",
       "Mechanics and Repairers Occupation                         2111\n",
       "Protective Service Occupations                             1343\n",
       "Other Agricultural and Related Occupations                 1194\n",
       "Precision Production Occupations                            908\n",
       "Military                                                    314\n",
       "Name: JobOccupation, dtype: int64"
      ]
     },
     "execution_count": 297,
     "metadata": {},
     "output_type": "execute_result"
    }
   ],
   "source": [
    "data['JobOccupation'].value_counts()"
   ]
  },
  {
   "cell_type": "markdown",
   "id": "5b3bbf2a-ceeb-4f39-a352-19e5f43d1e19",
   "metadata": {
    "id": "5b3bbf2a-ceeb-4f39-a352-19e5f43d1e19"
   },
   "source": [
    "***FSBALANC - Numerical***"
   ]
  },
  {
   "cell_type": "code",
   "execution_count": 7,
   "id": "a512ecad-c007-409f-873a-cadbe959f876",
   "metadata": {
    "executionInfo": {
     "elapsed": 331,
     "status": "ok",
     "timestamp": 1665978537445,
     "user": {
      "displayName": "Derek Hu",
      "userId": "14137525769356790466"
     },
     "user_tz": 420
    },
    "id": "a512ecad-c007-409f-873a-cadbe959f876"
   },
   "outputs": [],
   "source": [
    "#1                   Often True\n",
    "#2                   Sometimes true\n",
    "#3                   Never true\n",
    "#7                   Unknown-refused\n",
    "#8                   Unknown-not ascertained\n",
    "#9                   Unknown-don't know"
   ]
  },
  {
   "cell_type": "code",
   "execution_count": null,
   "id": "wywE9vS2DxMA",
   "metadata": {
    "id": "wywE9vS2DxMA"
   },
   "outputs": [],
   "source": [
    "#Balanced meals - Balanced meals, more consumption of fruits, vegetables lowers risk\n",
    "#Processed foods or red meat increased risks of cancer"
   ]
  },
  {
   "cell_type": "code",
   "execution_count": null,
   "id": "J4MnfroesVAO",
   "metadata": {
    "id": "J4MnfroesVAO"
   },
   "outputs": [],
   "source": [
    "data['NoBalancedMeals'] = data.loc[:, 'NoBalancedMeals_count']"
   ]
  },
  {
   "cell_type": "code",
   "execution_count": null,
   "id": "m-GPMDyRsXjl",
   "metadata": {
    "id": "m-GPMDyRsXjl"
   },
   "outputs": [],
   "source": [
    "data['NoBalancedMeals'].replace(to_replace=1,\n",
    "           value='Often True', inplace=True)"
   ]
  },
  {
   "cell_type": "code",
   "execution_count": null,
   "id": "bLuirthysYco",
   "metadata": {
    "id": "bLuirthysYco"
   },
   "outputs": [],
   "source": [
    "data['NoBalancedMeals'].replace(to_replace=2,\n",
    "           value='Sometimes True', inplace=True)"
   ]
  },
  {
   "cell_type": "code",
   "execution_count": null,
   "id": "Ima7LzHZsZVE",
   "metadata": {
    "id": "Ima7LzHZsZVE"
   },
   "outputs": [],
   "source": [
    "data['NoBalancedMeals'].replace(to_replace=3,\n",
    "           value='Never True', inplace=True)"
   ]
  },
  {
   "cell_type": "code",
   "execution_count": null,
   "id": "q83mLoyasaSO",
   "metadata": {
    "colab": {
     "base_uri": "https://localhost:8080/"
    },
    "executionInfo": {
     "elapsed": 126,
     "status": "ok",
     "timestamp": 1665778496136,
     "user": {
      "displayName": "Derek Hu",
      "userId": "14137525769356790466"
     },
     "user_tz": 420
    },
    "id": "q83mLoyasaSO",
    "outputId": "abb5c804-ad26-46c6-d2f8-7a1b0c66646e"
   },
   "outputs": [
    {
     "data": {
      "text/plain": [
       "Never True        187124\n",
       "Sometimes True     15267\n",
       "Often True          6373\n",
       "Name: NoBalancedMeals, dtype: int64"
      ]
     },
     "execution_count": 303,
     "metadata": {},
     "output_type": "execute_result"
    }
   ],
   "source": [
    "data['NoBalancedMeals']. value_counts()"
   ]
  },
  {
   "cell_type": "markdown",
   "id": "0ac3cf78-2a5a-449b-bfdf-b9871627fcd6",
   "metadata": {
    "id": "0ac3cf78-2a5a-449b-bfdf-b9871627fcd6"
   },
   "source": [
    "***Ownership (Categorical)***"
   ]
  },
  {
   "cell_type": "code",
   "execution_count": 8,
   "id": "2th5KKdfse2y",
   "metadata": {
    "executionInfo": {
     "elapsed": 3,
     "status": "ok",
     "timestamp": 1665978547299,
     "user": {
      "displayName": "Derek Hu",
      "userId": "14137525769356790466"
     },
     "user_tz": 420
    },
    "id": "2th5KKdfse2y"
   },
   "outputs": [],
   "source": [
    "#00                  NIU\n",
    "#10                  Owned or being bought\n",
    "#11                  Owned\n",
    "#12                  Being bought\n",
    "#20                  Rented\n",
    "#30                  Other arrangement\n",
    "#40                  Rent free\n",
    "#97                  Unknown--refused\n",
    "#98                  Unknown--not ascertained\n",
    "#99                  Unknown--don't know"
   ]
  },
  {
   "cell_type": "code",
   "execution_count": null,
   "id": "fzvxeKJiDzp2",
   "metadata": {
    "id": "fzvxeKJiDzp2"
   },
   "outputs": [],
   "source": [
    "#Homeownership - cause is dubious "
   ]
  },
  {
   "cell_type": "code",
   "execution_count": null,
   "id": "d653b1c9-2dbb-4f08-a135-d023e4a448d3",
   "metadata": {
    "id": "d653b1c9-2dbb-4f08-a135-d023e4a448d3"
   },
   "outputs": [],
   "source": [
    "data['Ownership_home'] = data.loc[:, 'Ownership_home_count']"
   ]
  },
  {
   "cell_type": "code",
   "execution_count": null,
   "id": "12f99279-b39e-42ac-98ee-9f271b04df51",
   "metadata": {
    "id": "12f99279-b39e-42ac-98ee-9f271b04df51"
   },
   "outputs": [],
   "source": [
    "data['Ownership_home'].replace(to_replace=1,\n",
    "           value=\"yes_ownership\", inplace=True)"
   ]
  },
  {
   "cell_type": "code",
   "execution_count": null,
   "id": "4clYKEG7si84",
   "metadata": {
    "id": "4clYKEG7si84"
   },
   "outputs": [],
   "source": [
    "data['Ownership_home'].replace(to_replace=2,\n",
    "           value=\"no_ownership\", inplace=True)"
   ]
  },
  {
   "cell_type": "code",
   "execution_count": null,
   "id": "bzeDE2ehsl6k",
   "metadata": {
    "colab": {
     "base_uri": "https://localhost:8080/"
    },
    "executionInfo": {
     "elapsed": 9,
     "status": "ok",
     "timestamp": 1665778497473,
     "user": {
      "displayName": "Derek Hu",
      "userId": "14137525769356790466"
     },
     "user_tz": 420
    },
    "id": "bzeDE2ehsl6k",
    "outputId": "5ea61781-bee5-4e10-d500-4bff53b69536"
   },
   "outputs": [
    {
     "data": {
      "text/plain": [
       "yes_ownership    143861\n",
       "no_ownership      64903\n",
       "Name: Ownership_home, dtype: int64"
      ]
     },
     "execution_count": 308,
     "metadata": {},
     "output_type": "execute_result"
    }
   ],
   "source": [
    "data['Ownership_home'].value_counts()"
   ]
  },
  {
   "cell_type": "code",
   "execution_count": 9,
   "id": "Ixh0tt9EsppM",
   "metadata": {
    "executionInfo": {
     "elapsed": 251,
     "status": "ok",
     "timestamp": 1665978559198,
     "user": {
      "displayName": "Derek Hu",
      "userId": "14137525769356790466"
     },
     "user_tz": 420
    },
    "id": "Ixh0tt9EsppM"
   },
   "outputs": [],
   "source": [
    "#***CHOlHIGHEV (Categorical)***"
   ]
  },
  {
   "cell_type": "code",
   "execution_count": null,
   "id": "gqVsUajgD2ew",
   "metadata": {
    "id": "gqVsUajgD2ew"
   },
   "outputs": [],
   "source": [
    "#0                   NIU\n",
    "#1                   No\n",
    "#2                   Yes\n",
    "#7                   Unknown-refused\n",
    "#8                   Unknown-not ascertained\n",
    "#9                   Unknown-don't know"
   ]
  },
  {
   "cell_type": "code",
   "execution_count": null,
   "id": "9J-Q-OlPsr_K",
   "metadata": {
    "id": "9J-Q-OlPsr_K"
   },
   "outputs": [],
   "source": [
    "#Cholestral has huge impact on cancer rates"
   ]
  },
  {
   "cell_type": "code",
   "execution_count": null,
   "id": "0vtk6i3KstGf",
   "metadata": {
    "id": "0vtk6i3KstGf"
   },
   "outputs": [],
   "source": [
    "data['highchol'] = data.loc[:, 'highchol_count']"
   ]
  },
  {
   "cell_type": "code",
   "execution_count": null,
   "id": "1zzH_4O8sv2Q",
   "metadata": {
    "id": "1zzH_4O8sv2Q"
   },
   "outputs": [],
   "source": [
    "data['highchol'].replace(to_replace=[0, 0.2],\n",
    "           value=\"No_highchol\", inplace=True)"
   ]
  },
  {
   "cell_type": "code",
   "execution_count": null,
   "id": "60obojelsy0o",
   "metadata": {
    "id": "60obojelsy0o"
   },
   "outputs": [],
   "source": [
    "data['highchol'].replace(to_replace=1,\n",
    "           value=\"highchol\", inplace=True)"
   ]
  },
  {
   "cell_type": "code",
   "execution_count": null,
   "id": "PLPhCx1ws1IL",
   "metadata": {
    "colab": {
     "base_uri": "https://localhost:8080/"
    },
    "executionInfo": {
     "elapsed": 69,
     "status": "ok",
     "timestamp": 1665778498000,
     "user": {
      "displayName": "Derek Hu",
      "userId": "14137525769356790466"
     },
     "user_tz": 420
    },
    "id": "PLPhCx1ws1IL",
    "outputId": "47ef8755-cf87-43c9-abf6-05ae9f71b05c"
   },
   "outputs": [
    {
     "data": {
      "text/plain": [
       "No_highchol    185789\n",
       "highchol        22975\n",
       "Name: highchol, dtype: int64"
      ]
     },
     "execution_count": 314,
     "metadata": {},
     "output_type": "execute_result"
    }
   ],
   "source": [
    "data['highchol'].value_counts()"
   ]
  },
  {
   "cell_type": "code",
   "execution_count": 10,
   "id": "GwsYELlNs221",
   "metadata": {
    "executionInfo": {
     "elapsed": 277,
     "status": "ok",
     "timestamp": 1665978579526,
     "user": {
      "displayName": "Derek Hu",
      "userId": "14137525769356790466"
     },
     "user_tz": 420
    },
    "id": "GwsYELlNs221"
   },
   "outputs": [],
   "source": [
    "#***WORMEDBILL***"
   ]
  },
  {
   "cell_type": "code",
   "execution_count": null,
   "id": "gSVbyOZND7aP",
   "metadata": {
    "id": "gSVbyOZND7aP"
   },
   "outputs": [],
   "source": [
    "#0                   NIU\n",
    "#1                   Very worried\n",
    "#2                   Somewhat worried\n",
    "#3                   Not at all worried\n",
    "#7                   Unknown-refused\n",
    "#8                   Unknown-not ascertained\n",
    "#9                   Unknown-don't know"
   ]
  },
  {
   "cell_type": "code",
   "execution_count": null,
   "id": "jNLhIj-Ys-jO",
   "metadata": {
    "id": "jNLhIj-Ys-jO"
   },
   "outputs": [],
   "source": [
    "#Stress levels - potentially change hormone levels causing increased cancer risk"
   ]
  },
  {
   "cell_type": "code",
   "execution_count": null,
   "id": "OUq9o3Hns_ad",
   "metadata": {
    "id": "OUq9o3Hns_ad"
   },
   "outputs": [],
   "source": [
    "data['worrymedbills'] = data.loc[:, 'worrymedbills_count']"
   ]
  },
  {
   "cell_type": "code",
   "execution_count": null,
   "id": "9SNYvDhZtC8j",
   "metadata": {
    "id": "9SNYvDhZtC8j"
   },
   "outputs": [],
   "source": [
    "data['worrymedbills'].replace(to_replace=0,\n",
    "           value=\"not_worried_medbills\", inplace=True)"
   ]
  },
  {
   "cell_type": "code",
   "execution_count": null,
   "id": "m3G6rox3tGu6",
   "metadata": {
    "id": "m3G6rox3tGu6"
   },
   "outputs": [],
   "source": [
    "data['worrymedbills'].replace(to_replace=1,\n",
    "           value=\"somewhat_worried_medbills\", inplace=True)"
   ]
  },
  {
   "cell_type": "code",
   "execution_count": null,
   "id": "gF2fQjqwtKTc",
   "metadata": {
    "id": "gF2fQjqwtKTc"
   },
   "outputs": [],
   "source": [
    "data['worrymedbills'].replace(to_replace=2,\n",
    "           value=\"not_worried_medbills\", inplace=True)"
   ]
  },
  {
   "cell_type": "code",
   "execution_count": null,
   "id": "wfQuDa0HtMre",
   "metadata": {
    "colab": {
     "base_uri": "https://localhost:8080/"
    },
    "executionInfo": {
     "elapsed": 130,
     "status": "ok",
     "timestamp": 1665778517879,
     "user": {
      "displayName": "Derek Hu",
      "userId": "14137525769356790466"
     },
     "user_tz": 420
    },
    "id": "wfQuDa0HtMre",
    "outputId": "685c32f1-5d8c-4b08-efe1-cdc86ac9af6b"
   },
   "outputs": [
    {
     "data": {
      "text/plain": [
       "not_worried_medbills         187155\n",
       "somewhat_worried_medbills     21609\n",
       "Name: worrymedbills, dtype: int64"
      ]
     },
     "execution_count": 321,
     "metadata": {},
     "output_type": "execute_result"
    }
   ],
   "source": [
    "data['worrymedbills'].value_counts()"
   ]
  },
  {
   "cell_type": "code",
   "execution_count": null,
   "id": "9kW1VlwAtqsd",
   "metadata": {
    "id": "9kW1VlwAtqsd"
   },
   "outputs": [],
   "source": [
    "#***Insulin***"
   ]
  },
  {
   "cell_type": "code",
   "execution_count": 11,
   "id": "GGi1EPo9tr8Z",
   "metadata": {
    "executionInfo": {
     "elapsed": 256,
     "status": "ok",
     "timestamp": 1665978599556,
     "user": {
      "displayName": "Derek Hu",
      "userId": "14137525769356790466"
     },
     "user_tz": 420
    },
    "id": "GGi1EPo9tr8Z"
   },
   "outputs": [],
   "source": [
    "#0                   NIU\n",
    "#1                   No\n",
    "#2                   Yes\n",
    "#7                   Unknown-refused\n",
    "#8                   Unknown-not ascertained\n",
    "#9                   Unknown-don't know"
   ]
  },
  {
   "cell_type": "code",
   "execution_count": null,
   "id": "neyIQBS7EAYW",
   "metadata": {
    "id": "neyIQBS7EAYW"
   },
   "outputs": [],
   "source": [
    "#Insulin - could be correlated to diabetes which causes increased cancer risks"
   ]
  },
  {
   "cell_type": "code",
   "execution_count": null,
   "id": "HA-n3-f_ts4F",
   "metadata": {
    "id": "HA-n3-f_ts4F"
   },
   "outputs": [],
   "source": [
    "data['insulin'] = data.loc[:, 'insulin_count']"
   ]
  },
  {
   "cell_type": "code",
   "execution_count": null,
   "id": "bpQAiXiYtuJk",
   "metadata": {
    "id": "bpQAiXiYtuJk"
   },
   "outputs": [],
   "source": [
    "data['insulin'].replace(to_replace=0,\n",
    "           value=\"No_Insulin\", inplace=True)"
   ]
  },
  {
   "cell_type": "code",
   "execution_count": null,
   "id": "RBypkziptz5R",
   "metadata": {
    "id": "RBypkziptz5R"
   },
   "outputs": [],
   "source": [
    "data['insulin'].replace(to_replace=1,\n",
    "           value=\"Yes_Insulin\", inplace=True)"
   ]
  },
  {
   "cell_type": "code",
   "execution_count": null,
   "id": "dTFJ9z0ot2Q6",
   "metadata": {
    "colab": {
     "base_uri": "https://localhost:8080/"
    },
    "executionInfo": {
     "elapsed": 126,
     "status": "ok",
     "timestamp": 1665778517884,
     "user": {
      "displayName": "Derek Hu",
      "userId": "14137525769356790466"
     },
     "user_tz": 420
    },
    "id": "dTFJ9z0ot2Q6",
    "outputId": "3edfb4a2-6728-4f43-acbc-c92fcc8e7762"
   },
   "outputs": [
    {
     "data": {
      "text/plain": [
       "No_Insulin     206269\n",
       "Yes_Insulin      2495\n",
       "Name: insulin, dtype: int64"
      ]
     },
     "execution_count": 327,
     "metadata": {},
     "output_type": "execute_result"
    }
   ],
   "source": [
    "data['insulin'].value_counts()"
   ]
  },
  {
   "cell_type": "code",
   "execution_count": null,
   "id": "BPyelW2-t5yd",
   "metadata": {
    "id": "BPyelW2-t5yd"
   },
   "outputs": [],
   "source": [
    "#***FSSTATDET (Category)"
   ]
  },
  {
   "cell_type": "code",
   "execution_count": 12,
   "id": "20vy-lVPt7mh",
   "metadata": {
    "executionInfo": {
     "elapsed": 395,
     "status": "ok",
     "timestamp": 1665978611806,
     "user": {
      "displayName": "Derek Hu",
      "userId": "14137525769356790466"
     },
     "user_tz": 420
    },
    "id": "20vy-lVPt7mh"
   },
   "outputs": [],
   "source": [
    "#1                   High food security (raw score 0)\n",
    "#2                   Marginal food security (raw score 1-2)\n",
    "#3                   Low food security (raw score 3-5)\n",
    "#4                   Very low food security (raw score 6-10)\n",
    "#9                   Unknown"
   ]
  },
  {
   "cell_type": "code",
   "execution_count": null,
   "id": "UA4Is3wqEDQy",
   "metadata": {
    "id": "UA4Is3wqEDQy"
   },
   "outputs": [],
   "source": [
    "#Food security - does not affect cancer rates"
   ]
  },
  {
   "cell_type": "code",
   "execution_count": null,
   "id": "w87XNaldt88n",
   "metadata": {
    "id": "w87XNaldt88n"
   },
   "outputs": [],
   "source": [
    "data['foodsecurity'] = data.loc[:, 'foodsecurity_count']"
   ]
  },
  {
   "cell_type": "code",
   "execution_count": null,
   "id": "2aHYCXmYt_ks",
   "metadata": {
    "id": "2aHYCXmYt_ks"
   },
   "outputs": [],
   "source": [
    "data['foodsecurity'].replace(to_replace=1,\n",
    "           value=\"High_food_security\", inplace=True)"
   ]
  },
  {
   "cell_type": "code",
   "execution_count": null,
   "id": "sjErVrg1uCFs",
   "metadata": {
    "id": "sjErVrg1uCFs"
   },
   "outputs": [],
   "source": [
    "data['foodsecurity'].replace(to_replace=2,\n",
    "           value=\"Marginal_food_security\", inplace=True)"
   ]
  },
  {
   "cell_type": "code",
   "execution_count": null,
   "id": "McVTpdfduDC0",
   "metadata": {
    "id": "McVTpdfduDC0"
   },
   "outputs": [],
   "source": [
    "data['foodsecurity'].replace(to_replace=3,\n",
    "           value=\"Low_food_security\", inplace=True)"
   ]
  },
  {
   "cell_type": "code",
   "execution_count": null,
   "id": "o6Zh1jtwuD6A",
   "metadata": {
    "id": "o6Zh1jtwuD6A"
   },
   "outputs": [],
   "source": [
    "data['foodsecurity'].replace(to_replace=4,\n",
    "           value=\"Very_low_food_security\", inplace=True)"
   ]
  },
  {
   "cell_type": "code",
   "execution_count": null,
   "id": "_x8p_MXUuE_M",
   "metadata": {
    "colab": {
     "base_uri": "https://localhost:8080/"
    },
    "executionInfo": {
     "elapsed": 121,
     "status": "ok",
     "timestamp": 1665778517893,
     "user": {
      "displayName": "Derek Hu",
      "userId": "14137525769356790466"
     },
     "user_tz": 420
    },
    "id": "_x8p_MXUuE_M",
    "outputId": "dfb49644-f153-41ae-8fa1-69cd692144dc"
   },
   "outputs": [
    {
     "data": {
      "text/plain": [
       "High_food_security        173887\n",
       "Marginal_food_security     15344\n",
       "Low_food_security          10962\n",
       "Very_low_food_security      8571\n",
       "Name: foodsecurity, dtype: int64"
      ]
     },
     "execution_count": 335,
     "metadata": {},
     "output_type": "execute_result"
    }
   ],
   "source": [
    "data['foodsecurity'].value_counts()"
   ]
  },
  {
   "cell_type": "code",
   "execution_count": null,
   "id": "iuP9qFJXuGI-",
   "metadata": {
    "id": "iuP9qFJXuGI-"
   },
   "outputs": [],
   "source": [
    "#***RACENEW (Categorical)***"
   ]
  },
  {
   "cell_type": "code",
   "execution_count": null,
   "id": "2gOMi8DMuIcr",
   "metadata": {
    "id": "2gOMi8DMuIcr"
   },
   "outputs": [],
   "source": [
    "#100                 White only\n",
    "#200                 Black/African American only\n",
    "#300                 American Indian/Alaska Native only\n",
    "#400                 Asian only\n",
    "#500                 Other Race and Multiple Race\n",
    "#510                 Other Race and Multiple Race (2019-forward: Excluding American Indian/Alaska"
   ]
  },
  {
   "cell_type": "code",
   "execution_count": null,
   "id": "BcjWy9YpuJZg",
   "metadata": {
    "id": "BcjWy9YpuJZg"
   },
   "outputs": [],
   "source": [
    "data['race'] = data.loc[:, 'race_count']"
   ]
  },
  {
   "cell_type": "code",
   "execution_count": null,
   "id": "CME1MgnDuLkI",
   "metadata": {
    "id": "CME1MgnDuLkI"
   },
   "outputs": [],
   "source": [
    "data['race'].replace(to_replace=1,\n",
    "           value=\"White\", inplace=True)"
   ]
  },
  {
   "cell_type": "code",
   "execution_count": null,
   "id": "qpfKOB6euOPI",
   "metadata": {
    "id": "qpfKOB6euOPI"
   },
   "outputs": [],
   "source": [
    "data['race'].replace(to_replace=2,\n",
    "           value=\"Black\", inplace=True)"
   ]
  },
  {
   "cell_type": "code",
   "execution_count": null,
   "id": "wobkpIGZuRBl",
   "metadata": {
    "id": "wobkpIGZuRBl"
   },
   "outputs": [],
   "source": [
    "data['race'].replace(to_replace=3,\n",
    "           value=\"Native-American\", inplace=True)"
   ]
  },
  {
   "cell_type": "code",
   "execution_count": null,
   "id": "obwkt-eLuSt9",
   "metadata": {
    "id": "obwkt-eLuSt9"
   },
   "outputs": [],
   "source": [
    "data['race'].replace(to_replace=4,\n",
    "           value=\"Asian\", inplace=True)"
   ]
  },
  {
   "cell_type": "code",
   "execution_count": null,
   "id": "TQaumtasuUDR",
   "metadata": {
    "id": "TQaumtasuUDR"
   },
   "outputs": [],
   "source": [
    "data['race'].replace(to_replace=5,\n",
    "           value=\"Other_Races\", inplace=True)"
   ]
  },
  {
   "cell_type": "code",
   "execution_count": null,
   "id": "pIIrfcPguV2H",
   "metadata": {
    "colab": {
     "base_uri": "https://localhost:8080/"
    },
    "executionInfo": {
     "elapsed": 98,
     "status": "ok",
     "timestamp": 1665778517902,
     "user": {
      "displayName": "Derek Hu",
      "userId": "14137525769356790466"
     },
     "user_tz": 420
    },
    "id": "pIIrfcPguV2H",
    "outputId": "e7ee0c55-9288-4e51-c71d-3bf825ccff7e"
   },
   "outputs": [
    {
     "data": {
      "text/plain": [
       "White              164685\n",
       "Black               22604\n",
       "Asian               11933\n",
       "Other_Races          6756\n",
       "Native-American      2786\n",
       "Name: race, dtype: int64"
      ]
     },
     "execution_count": 344,
     "metadata": {},
     "output_type": "execute_result"
    }
   ],
   "source": [
    "data['race'].value_counts()"
   ]
  },
  {
   "cell_type": "code",
   "execution_count": null,
   "id": "FP0L19DRuW8o",
   "metadata": {
    "id": "FP0L19DRuW8o"
   },
   "outputs": [],
   "source": [
    "#WELFMO (Categorical)"
   ]
  },
  {
   "cell_type": "code",
   "execution_count": 13,
   "id": "QEsKGnDjuZew",
   "metadata": {
    "executionInfo": {
     "elapsed": 270,
     "status": "ok",
     "timestamp": 1665978624540,
     "user": {
      "displayName": "Derek Hu",
      "userId": "14137525769356790466"
     },
     "user_tz": 420
    },
    "id": "QEsKGnDjuZew"
   },
   "outputs": [],
   "source": [
    "#00                  NIU\n",
    "#01                  1 month\n",
    "#02                  2 months\n",
    "#03                  3 months\n",
    "#04                  4 months\n",
    "#05                  5 months\n",
    "#06                  6 months\n",
    "#07                  7 months\n",
    "#08                  8 months\n",
    "#09                  9 months\n",
    "#10                  10 months\n",
    "#11                  11 months\n",
    "#12                  12 months\n",
    "#97                  Unknown-refused\n",
    "#98                  Unknown-not ascertained\n",
    "#99                  Unknown-don't know"
   ]
  },
  {
   "cell_type": "code",
   "execution_count": null,
   "id": "u2Ugvx9HEGb6",
   "metadata": {
    "id": "u2Ugvx9HEGb6"
   },
   "outputs": [],
   "source": [
    "#Welfare - linked to lower food quality, more processed foods due to budget constraints"
   ]
  },
  {
   "cell_type": "code",
   "execution_count": null,
   "id": "WvZUaYTRuaQW",
   "metadata": {
    "id": "WvZUaYTRuaQW"
   },
   "outputs": [],
   "source": [
    "data['Welfare'] = data.loc[:, 'Welfare_count']"
   ]
  },
  {
   "cell_type": "code",
   "execution_count": null,
   "id": "cf04_PxDucPs",
   "metadata": {
    "id": "cf04_PxDucPs"
   },
   "outputs": [],
   "source": [
    "data['Welfare'].replace(to_replace=0,\n",
    "           value='Not_Welfare', inplace=True)"
   ]
  },
  {
   "cell_type": "code",
   "execution_count": null,
   "id": "do-8p3kgufLK",
   "metadata": {
    "id": "do-8p3kgufLK"
   },
   "outputs": [],
   "source": [
    "data['Welfare'].replace(to_replace=1,\n",
    "           value='On_Welfare', inplace=True)"
   ]
  },
  {
   "cell_type": "code",
   "execution_count": null,
   "id": "cA8UuomUuhHY",
   "metadata": {
    "colab": {
     "base_uri": "https://localhost:8080/"
    },
    "executionInfo": {
     "elapsed": 72,
     "status": "ok",
     "timestamp": 1665778517908,
     "user": {
      "displayName": "Derek Hu",
      "userId": "14137525769356790466"
     },
     "user_tz": 420
    },
    "id": "cA8UuomUuhHY",
    "outputId": "45c4eedb-ea43-44c6-e215-cba6e43ec891"
   },
   "outputs": [
    {
     "data": {
      "text/plain": [
       "Not_Welfare    206907\n",
       "On_Welfare       1857\n",
       "Name: Welfare, dtype: int64"
      ]
     },
     "execution_count": 350,
     "metadata": {},
     "output_type": "execute_result"
    }
   ],
   "source": [
    "data['Welfare'].value_counts()"
   ]
  },
  {
   "cell_type": "code",
   "execution_count": null,
   "id": "0Xgl9MawujSV",
   "metadata": {
    "id": "0Xgl9MawujSV"
   },
   "outputs": [],
   "source": [
    "#***DELAYCOST*** (Numerical)"
   ]
  },
  {
   "cell_type": "code",
   "execution_count": 14,
   "id": "xFx41MEVulIr",
   "metadata": {
    "executionInfo": {
     "elapsed": 244,
     "status": "ok",
     "timestamp": 1665978628736,
     "user": {
      "displayName": "Derek Hu",
      "userId": "14137525769356790466"
     },
     "user_tz": 420
    },
    "id": "xFx41MEVulIr"
   },
   "outputs": [],
   "source": [
    "#0                   NIU\n",
    "#1                   No\n",
    "#2                   Yes\n",
    "#7                   Unknown-refused\n",
    "#8                   Unknown-not ascertained\n",
    "#9                   Unknown-don't know (1993-96: DK or refused)"
   ]
  },
  {
   "cell_type": "code",
   "execution_count": null,
   "id": "zGVQxc_DEHgr",
   "metadata": {
    "id": "zGVQxc_DEHgr"
   },
   "outputs": [],
   "source": [
    "#Delayed medical cost. Could be correlated to income"
   ]
  },
  {
   "cell_type": "code",
   "execution_count": null,
   "id": "vvP7mhIxuzbc",
   "metadata": {
    "id": "vvP7mhIxuzbc"
   },
   "outputs": [],
   "source": [
    "data['Delay_MedCost'] = data.loc[:, 'Delay_MedCost_count']"
   ]
  },
  {
   "cell_type": "code",
   "execution_count": null,
   "id": "xJBUDW90u2uq",
   "metadata": {
    "id": "xJBUDW90u2uq"
   },
   "outputs": [],
   "source": [
    "data['Delay_MedCost'].replace(to_replace=1,\n",
    "           value='No_DelayMed_Cost', inplace=True)"
   ]
  },
  {
   "cell_type": "code",
   "execution_count": null,
   "id": "AS-zL4dvu4dz",
   "metadata": {
    "id": "AS-zL4dvu4dz"
   },
   "outputs": [],
   "source": [
    "data['Delay_MedCost'].replace(to_replace=2,\n",
    "           value='DelayMed_Cost', inplace=True)"
   ]
  },
  {
   "cell_type": "code",
   "execution_count": null,
   "id": "v3Uskv-Du5W7",
   "metadata": {
    "colab": {
     "base_uri": "https://localhost:8080/"
    },
    "executionInfo": {
     "elapsed": 288,
     "status": "ok",
     "timestamp": 1665778527199,
     "user": {
      "displayName": "Derek Hu",
      "userId": "14137525769356790466"
     },
     "user_tz": 420
    },
    "id": "v3Uskv-Du5W7",
    "outputId": "d30ca592-56ab-413c-c14f-de34b18b1215"
   },
   "outputs": [
    {
     "data": {
      "text/plain": [
       "No_DelayMed_Cost    194361\n",
       "DelayMed_Cost        14403\n",
       "Name: Delay_MedCost, dtype: int64"
      ]
     },
     "execution_count": 356,
     "metadata": {},
     "output_type": "execute_result"
    }
   ],
   "source": [
    "data['Delay_MedCost'].value_counts()"
   ]
  },
  {
   "cell_type": "code",
   "execution_count": 15,
   "id": "_GJBxZeBu6ke",
   "metadata": {
    "executionInfo": {
     "elapsed": 261,
     "status": "ok",
     "timestamp": 1665978638776,
     "user": {
      "displayName": "Derek Hu",
      "userId": "14137525769356790466"
     },
     "user_tz": 420
    },
    "id": "_GJBxZeBu6ke"
   },
   "outputs": [],
   "source": [
    "#***DIAPRECOND (Diabetic)***"
   ]
  },
  {
   "cell_type": "code",
   "execution_count": null,
   "id": "zIbKQuXqEJ5G",
   "metadata": {
    "id": "zIbKQuXqEJ5G"
   },
   "outputs": [],
   "source": [
    "#Highly correlated to cancer rates. "
   ]
  },
  {
   "cell_type": "code",
   "execution_count": null,
   "id": "IvbaW8seu8vw",
   "metadata": {
    "id": "IvbaW8seu8vw"
   },
   "outputs": [],
   "source": [
    "data['Diabetic'] = data.loc[:, 'Diabetic_count']"
   ]
  },
  {
   "cell_type": "code",
   "execution_count": null,
   "id": "BReX_7ebu_gN",
   "metadata": {
    "id": "BReX_7ebu_gN"
   },
   "outputs": [],
   "source": [
    "data['Diabetic'].replace(to_replace=1,\n",
    "           value='Diabetic', inplace=True)"
   ]
  },
  {
   "cell_type": "code",
   "execution_count": null,
   "id": "6IQ0AUDgvD4A",
   "metadata": {
    "id": "6IQ0AUDgvD4A"
   },
   "outputs": [],
   "source": [
    "data['Diabetic'].replace(to_replace=0,\n",
    "           value='Not_Diabetic', inplace=True)"
   ]
  },
  {
   "cell_type": "code",
   "execution_count": null,
   "id": "BoNC41GivGxO",
   "metadata": {
    "colab": {
     "base_uri": "https://localhost:8080/"
    },
    "executionInfo": {
     "elapsed": 289,
     "status": "ok",
     "timestamp": 1665778527206,
     "user": {
      "displayName": "Derek Hu",
      "userId": "14137525769356790466"
     },
     "user_tz": 420
    },
    "id": "BoNC41GivGxO",
    "outputId": "b4138b0e-e381-4fbd-f8b5-7e7727e6fb04"
   },
   "outputs": [
    {
     "data": {
      "text/plain": [
       "Not_Diabetic    203215\n",
       "Diabetic          5549\n",
       "Name: Diabetic, dtype: int64"
      ]
     },
     "execution_count": 361,
     "metadata": {},
     "output_type": "execute_result"
    }
   ],
   "source": [
    "data['Diabetic'].value_counts()"
   ]
  },
  {
   "cell_type": "code",
   "execution_count": 16,
   "id": "rV9Yku_1vIyx",
   "metadata": {
    "executionInfo": {
     "elapsed": 246,
     "status": "ok",
     "timestamp": 1665978649946,
     "user": {
      "displayName": "Derek Hu",
      "userId": "14137525769356790466"
     },
     "user_tz": 420
    },
    "id": "rV9Yku_1vIyx"
   },
   "outputs": [],
   "source": [
    "#SMOKFREQNOW (Categorical)"
   ]
  },
  {
   "cell_type": "code",
   "execution_count": null,
   "id": "MPtX9nfEvLIO",
   "metadata": {
    "id": "MPtX9nfEvLIO"
   },
   "outputs": [],
   "source": [
    "#0                   NIU\n",
    "#1                   Not at all\n",
    "#2                   Some days\n",
    "#3                   Every day\n",
    "#7                   Unknown-refused\n",
    "#8                   Unknown-not ascertained\n",
    "#9                   Unknown-don't know"
   ]
  },
  {
   "cell_type": "code",
   "execution_count": null,
   "id": "ZbTlyGrdvMlz",
   "metadata": {
    "id": "ZbTlyGrdvMlz"
   },
   "outputs": [],
   "source": [
    "data['Smoking'] = data.loc[:, 'Smoking_count']"
   ]
  },
  {
   "cell_type": "code",
   "execution_count": null,
   "id": "YF5xFNIyvPJl",
   "metadata": {
    "id": "YF5xFNIyvPJl"
   },
   "outputs": [],
   "source": [
    "data['Smoking'].replace(to_replace=0,\n",
    "           value='No_Smoking', inplace=True)"
   ]
  },
  {
   "cell_type": "code",
   "execution_count": null,
   "id": "vJ4ZLPy6vSNN",
   "metadata": {
    "id": "vJ4ZLPy6vSNN"
   },
   "outputs": [],
   "source": [
    "data['Smoking'].replace(to_replace=1,\n",
    "           value='Smoking', inplace=True)"
   ]
  },
  {
   "cell_type": "code",
   "execution_count": null,
   "id": "EtpKC0dHvUmP",
   "metadata": {
    "colab": {
     "base_uri": "https://localhost:8080/"
    },
    "executionInfo": {
     "elapsed": 284,
     "status": "ok",
     "timestamp": 1665778527219,
     "user": {
      "displayName": "Derek Hu",
      "userId": "14137525769356790466"
     },
     "user_tz": 420
    },
    "id": "EtpKC0dHvUmP",
    "outputId": "2764c636-e4b3-4889-cb00-dcc6720afef7"
   },
   "outputs": [
    {
     "data": {
      "text/plain": [
       "No_Smoking    197120\n",
       "Smoking        11644\n",
       "Name: Smoking, dtype: int64"
      ]
     },
     "execution_count": 367,
     "metadata": {},
     "output_type": "execute_result"
    }
   ],
   "source": [
    "data['Smoking'].value_counts()"
   ]
  },
  {
   "cell_type": "code",
   "execution_count": null,
   "id": "i7YE9mERvWEB",
   "metadata": {
    "id": "i7YE9mERvWEB"
   },
   "outputs": [],
   "source": [
    "#UNHAPPY (Categorical)"
   ]
  },
  {
   "cell_type": "code",
   "execution_count": null,
   "id": "QF29hgqtvXmF",
   "metadata": {
    "id": "QF29hgqtvXmF"
   },
   "outputs": [],
   "source": [
    "#0                   Not true\n",
    "#1                   Somewhat true\n",
    "#2                   Certainly true\n",
    "#6                   NIU\n",
    "#7                   Unknown-refused\n",
    "#8                   Unknown-not ascertained\n",
    "#9                   Unknown-don't know"
   ]
  },
  {
   "cell_type": "code",
   "execution_count": null,
   "id": "8bZJldauvYaf",
   "metadata": {
    "id": "8bZJldauvYaf"
   },
   "outputs": [],
   "source": [
    "data['Depressed'] = data.loc[:, 'Depressed_count']"
   ]
  },
  {
   "cell_type": "code",
   "execution_count": null,
   "id": "iAqJwWWuvezw",
   "metadata": {
    "id": "iAqJwWWuvezw"
   },
   "outputs": [],
   "source": [
    "data['Depressed'].replace(to_replace=0,\n",
    "           value='NIU_Depressed', inplace=True)"
   ]
  },
  {
   "cell_type": "code",
   "execution_count": null,
   "id": "er9Z8hiyvjVc",
   "metadata": {
    "id": "er9Z8hiyvjVc"
   },
   "outputs": [],
   "source": [
    "data['Depressed'].replace(to_replace=1,\n",
    "           value='Depressed', inplace=True)"
   ]
  },
  {
   "cell_type": "code",
   "execution_count": null,
   "id": "MbPfSwjnvmYk",
   "metadata": {
    "id": "MbPfSwjnvmYk"
   },
   "outputs": [],
   "source": [
    "data['Depressed'].replace(to_replace=2,\n",
    "           value='Not_Depressed', inplace=True)"
   ]
  },
  {
   "cell_type": "code",
   "execution_count": null,
   "id": "QmJQyn79voaT",
   "metadata": {
    "colab": {
     "base_uri": "https://localhost:8080/"
    },
    "executionInfo": {
     "elapsed": 294,
     "status": "ok",
     "timestamp": 1665778527258,
     "user": {
      "displayName": "Derek Hu",
      "userId": "14137525769356790466"
     },
     "user_tz": 420
    },
    "id": "QmJQyn79voaT",
    "outputId": "dace082d-48b9-4764-ccc0-fecea7d29dc5"
   },
   "outputs": [
    {
     "data": {
      "text/plain": [
       "NIU_Depressed    161299\n",
       "Not_Depressed     27679\n",
       "Depressed         19786\n",
       "Name: Depressed, dtype: int64"
      ]
     },
     "execution_count": 374,
     "metadata": {},
     "output_type": "execute_result"
    }
   ],
   "source": [
    "data['Depressed'].value_counts()"
   ]
  },
  {
   "cell_type": "markdown",
   "id": "d755f99e-305d-49f3-b5a7-8f77813f5fe7",
   "metadata": {
    "id": "d755f99e-305d-49f3-b5a7-8f77813f5fe7"
   },
   "source": [
    "***Dummy Variables***"
   ]
  },
  {
   "cell_type": "code",
   "execution_count": null,
   "id": "lKpZq6ObwLrM",
   "metadata": {
    "id": "lKpZq6ObwLrM"
   },
   "outputs": [],
   "source": [
    "#Index(['Unnamed: 0', 'age_count', 'cancer_count', 'hrswrk_count',\n",
    "#       'health_count', 'income_count', 'SSI_count', 'Health_Coverage_count',\n",
    "#       'Education_count', 'JobOccupation_count', 'NoBalancedMeals_count',\n",
    "#       'Ownership_home_count', 'highchol_count', 'worrymedbills_count',\n",
    "#       'insulin_count', 'foodsecurity_count', 'race_count', 'Welfare_count',\n",
    "#       'Delay_MedCost_count', 'Diabetic_count', 'Smoking_count',\n",
    "#       'Depressed_count'],\n",
    "#      dtype='object')"
   ]
  },
  {
   "cell_type": "code",
   "execution_count": null,
   "id": "5e055e3a-9824-4d5f-bbdd-2f0a36312d4f",
   "metadata": {
    "colab": {
     "base_uri": "https://localhost:8080/"
    },
    "executionInfo": {
     "elapsed": 290,
     "status": "ok",
     "timestamp": 1665778527265,
     "user": {
      "displayName": "Derek Hu",
      "userId": "14137525769356790466"
     },
     "user_tz": 420
    },
    "id": "5e055e3a-9824-4d5f-bbdd-2f0a36312d4f",
    "outputId": "a3cc0261-dfb7-4bb5-f29b-6774c5b8ce90"
   },
   "outputs": [
    {
     "data": {
      "text/plain": [
       "OneHotEncoder(drop='first', handle_unknown='ignore')"
      ]
     },
     "execution_count": 376,
     "metadata": {},
     "output_type": "execute_result"
    }
   ],
   "source": [
    "#Use one_hot_encoder\n",
    "from sklearn.preprocessing import OneHotEncoder\n",
    "ohe = OneHotEncoder(handle_unknown='ignore', drop='first')\n",
    "ohe.fit(data[['age']])"
   ]
  },
  {
   "cell_type": "code",
   "execution_count": null,
   "id": "940f0c01-197c-4973-ac51-c7ea1b6a2af4",
   "metadata": {
    "colab": {
     "base_uri": "https://localhost:8080/",
     "height": 206
    },
    "executionInfo": {
     "elapsed": 274,
     "status": "ok",
     "timestamp": 1665778527267,
     "user": {
      "displayName": "Derek Hu",
      "userId": "14137525769356790466"
     },
     "user_tz": 420
    },
    "id": "940f0c01-197c-4973-ac51-c7ea1b6a2af4",
    "outputId": "dc3aea83-5eb7-4553-935a-5707c145fc26"
   },
   "outputs": [
    {
     "data": {
      "text/html": [
       "\n",
       "  <div id=\"df-da06beed-17ec-44df-aa08-c6d224f08f52\">\n",
       "    <div class=\"colab-df-container\">\n",
       "      <div>\n",
       "<style scoped>\n",
       "    .dataframe tbody tr th:only-of-type {\n",
       "        vertical-align: middle;\n",
       "    }\n",
       "\n",
       "    .dataframe tbody tr th {\n",
       "        vertical-align: top;\n",
       "    }\n",
       "\n",
       "    .dataframe thead th {\n",
       "        text-align: right;\n",
       "    }\n",
       "</style>\n",
       "<table border=\"1\" class=\"dataframe\">\n",
       "  <thead>\n",
       "    <tr style=\"text-align: right;\">\n",
       "      <th></th>\n",
       "      <th>age_Lower_Middle_Aged</th>\n",
       "      <th>age_Middle_Aged</th>\n",
       "      <th>age_Upper_Middle_Aged</th>\n",
       "      <th>age_Young</th>\n",
       "    </tr>\n",
       "  </thead>\n",
       "  <tbody>\n",
       "    <tr>\n",
       "      <th>0</th>\n",
       "      <td>1.0</td>\n",
       "      <td>0.0</td>\n",
       "      <td>0.0</td>\n",
       "      <td>0.0</td>\n",
       "    </tr>\n",
       "    <tr>\n",
       "      <th>1</th>\n",
       "      <td>1.0</td>\n",
       "      <td>0.0</td>\n",
       "      <td>0.0</td>\n",
       "      <td>0.0</td>\n",
       "    </tr>\n",
       "    <tr>\n",
       "      <th>2</th>\n",
       "      <td>1.0</td>\n",
       "      <td>0.0</td>\n",
       "      <td>0.0</td>\n",
       "      <td>0.0</td>\n",
       "    </tr>\n",
       "    <tr>\n",
       "      <th>3</th>\n",
       "      <td>0.0</td>\n",
       "      <td>0.0</td>\n",
       "      <td>0.0</td>\n",
       "      <td>0.0</td>\n",
       "    </tr>\n",
       "    <tr>\n",
       "      <th>4</th>\n",
       "      <td>0.0</td>\n",
       "      <td>1.0</td>\n",
       "      <td>0.0</td>\n",
       "      <td>0.0</td>\n",
       "    </tr>\n",
       "  </tbody>\n",
       "</table>\n",
       "</div>\n",
       "      <button class=\"colab-df-convert\" onclick=\"convertToInteractive('df-da06beed-17ec-44df-aa08-c6d224f08f52')\"\n",
       "              title=\"Convert this dataframe to an interactive table.\"\n",
       "              style=\"display:none;\">\n",
       "        \n",
       "  <svg xmlns=\"http://www.w3.org/2000/svg\" height=\"24px\"viewBox=\"0 0 24 24\"\n",
       "       width=\"24px\">\n",
       "    <path d=\"M0 0h24v24H0V0z\" fill=\"none\"/>\n",
       "    <path d=\"M18.56 5.44l.94 2.06.94-2.06 2.06-.94-2.06-.94-.94-2.06-.94 2.06-2.06.94zm-11 1L8.5 8.5l.94-2.06 2.06-.94-2.06-.94L8.5 2.5l-.94 2.06-2.06.94zm10 10l.94 2.06.94-2.06 2.06-.94-2.06-.94-.94-2.06-.94 2.06-2.06.94z\"/><path d=\"M17.41 7.96l-1.37-1.37c-.4-.4-.92-.59-1.43-.59-.52 0-1.04.2-1.43.59L10.3 9.45l-7.72 7.72c-.78.78-.78 2.05 0 2.83L4 21.41c.39.39.9.59 1.41.59.51 0 1.02-.2 1.41-.59l7.78-7.78 2.81-2.81c.8-.78.8-2.07 0-2.86zM5.41 20L4 18.59l7.72-7.72 1.47 1.35L5.41 20z\"/>\n",
       "  </svg>\n",
       "      </button>\n",
       "      \n",
       "  <style>\n",
       "    .colab-df-container {\n",
       "      display:flex;\n",
       "      flex-wrap:wrap;\n",
       "      gap: 12px;\n",
       "    }\n",
       "\n",
       "    .colab-df-convert {\n",
       "      background-color: #E8F0FE;\n",
       "      border: none;\n",
       "      border-radius: 50%;\n",
       "      cursor: pointer;\n",
       "      display: none;\n",
       "      fill: #1967D2;\n",
       "      height: 32px;\n",
       "      padding: 0 0 0 0;\n",
       "      width: 32px;\n",
       "    }\n",
       "\n",
       "    .colab-df-convert:hover {\n",
       "      background-color: #E2EBFA;\n",
       "      box-shadow: 0px 1px 2px rgba(60, 64, 67, 0.3), 0px 1px 3px 1px rgba(60, 64, 67, 0.15);\n",
       "      fill: #174EA6;\n",
       "    }\n",
       "\n",
       "    [theme=dark] .colab-df-convert {\n",
       "      background-color: #3B4455;\n",
       "      fill: #D2E3FC;\n",
       "    }\n",
       "\n",
       "    [theme=dark] .colab-df-convert:hover {\n",
       "      background-color: #434B5C;\n",
       "      box-shadow: 0px 1px 3px 1px rgba(0, 0, 0, 0.15);\n",
       "      filter: drop-shadow(0px 1px 2px rgba(0, 0, 0, 0.3));\n",
       "      fill: #FFFFFF;\n",
       "    }\n",
       "  </style>\n",
       "\n",
       "      <script>\n",
       "        const buttonEl =\n",
       "          document.querySelector('#df-da06beed-17ec-44df-aa08-c6d224f08f52 button.colab-df-convert');\n",
       "        buttonEl.style.display =\n",
       "          google.colab.kernel.accessAllowed ? 'block' : 'none';\n",
       "\n",
       "        async function convertToInteractive(key) {\n",
       "          const element = document.querySelector('#df-da06beed-17ec-44df-aa08-c6d224f08f52');\n",
       "          const dataTable =\n",
       "            await google.colab.kernel.invokeFunction('convertToInteractive',\n",
       "                                                     [key], {});\n",
       "          if (!dataTable) return;\n",
       "\n",
       "          const docLinkHtml = 'Like what you see? Visit the ' +\n",
       "            '<a target=\"_blank\" href=https://colab.research.google.com/notebooks/data_table.ipynb>data table notebook</a>'\n",
       "            + ' to learn more about interactive tables.';\n",
       "          element.innerHTML = '';\n",
       "          dataTable['output_type'] = 'display_data';\n",
       "          await google.colab.output.renderOutput(dataTable, element);\n",
       "          const docLink = document.createElement('div');\n",
       "          docLink.innerHTML = docLinkHtml;\n",
       "          element.appendChild(docLink);\n",
       "        }\n",
       "      </script>\n",
       "    </div>\n",
       "  </div>\n",
       "  "
      ],
      "text/plain": [
       "   age_Lower_Middle_Aged  age_Middle_Aged  age_Upper_Middle_Aged  age_Young\n",
       "0                    1.0              0.0                    0.0        0.0\n",
       "1                    1.0              0.0                    0.0        0.0\n",
       "2                    1.0              0.0                    0.0        0.0\n",
       "3                    0.0              0.0                    0.0        0.0\n",
       "4                    0.0              1.0                    0.0        0.0"
      ]
     },
     "execution_count": 377,
     "metadata": {},
     "output_type": "execute_result"
    }
   ],
   "source": [
    "#dropped elderly\n",
    "age = pd.DataFrame(\n",
    "    ohe.transform(data[['age']]).todense(),\n",
    "    columns = ohe.get_feature_names_out(),\n",
    "    index = data.index\n",
    ")\n",
    "\n",
    "age.head()"
   ]
  },
  {
   "cell_type": "code",
   "execution_count": null,
   "id": "lGEFRuEPxYN0",
   "metadata": {
    "colab": {
     "base_uri": "https://localhost:8080/"
    },
    "executionInfo": {
     "elapsed": 268,
     "status": "ok",
     "timestamp": 1665778527268,
     "user": {
      "displayName": "Derek Hu",
      "userId": "14137525769356790466"
     },
     "user_tz": 420
    },
    "id": "lGEFRuEPxYN0",
    "outputId": "ce2e457f-bda8-4a4b-b36c-ed8d19d53976"
   },
   "outputs": [
    {
     "data": {
      "text/plain": [
       "OneHotEncoder(drop='first', handle_unknown='ignore')"
      ]
     },
     "execution_count": 378,
     "metadata": {},
     "output_type": "execute_result"
    }
   ],
   "source": [
    "#Use one_hot_encoder\n",
    "from sklearn.preprocessing import OneHotEncoder\n",
    "ohe = OneHotEncoder(handle_unknown='ignore', drop='first')\n",
    "ohe.fit(data[['hrswrk']])"
   ]
  },
  {
   "cell_type": "code",
   "execution_count": null,
   "id": "-5-fjCdvxbSw",
   "metadata": {
    "colab": {
     "base_uri": "https://localhost:8080/",
     "height": 206
    },
    "executionInfo": {
     "elapsed": 255,
     "status": "ok",
     "timestamp": 1665778527270,
     "user": {
      "displayName": "Derek Hu",
      "userId": "14137525769356790466"
     },
     "user_tz": 420
    },
    "id": "-5-fjCdvxbSw",
    "outputId": "4cf392de-b57b-41a4-8ff3-fa07c8b444b5"
   },
   "outputs": [
    {
     "data": {
      "text/html": [
       "\n",
       "  <div id=\"df-d03ebcf2-67d9-47e5-9da6-f6c8e31fbab9\">\n",
       "    <div class=\"colab-df-container\">\n",
       "      <div>\n",
       "<style scoped>\n",
       "    .dataframe tbody tr th:only-of-type {\n",
       "        vertical-align: middle;\n",
       "    }\n",
       "\n",
       "    .dataframe tbody tr th {\n",
       "        vertical-align: top;\n",
       "    }\n",
       "\n",
       "    .dataframe thead th {\n",
       "        text-align: right;\n",
       "    }\n",
       "</style>\n",
       "<table border=\"1\" class=\"dataframe\">\n",
       "  <thead>\n",
       "    <tr style=\"text-align: right;\">\n",
       "      <th></th>\n",
       "      <th>hrswrk_HoursWrk_30-40</th>\n",
       "      <th>hrswrk_HoursWrk_40-60</th>\n",
       "      <th>hrswrk_HoursWrk_60+</th>\n",
       "    </tr>\n",
       "  </thead>\n",
       "  <tbody>\n",
       "    <tr>\n",
       "      <th>0</th>\n",
       "      <td>0.0</td>\n",
       "      <td>0.0</td>\n",
       "      <td>0.0</td>\n",
       "    </tr>\n",
       "    <tr>\n",
       "      <th>1</th>\n",
       "      <td>1.0</td>\n",
       "      <td>0.0</td>\n",
       "      <td>0.0</td>\n",
       "    </tr>\n",
       "    <tr>\n",
       "      <th>2</th>\n",
       "      <td>0.0</td>\n",
       "      <td>1.0</td>\n",
       "      <td>0.0</td>\n",
       "    </tr>\n",
       "    <tr>\n",
       "      <th>3</th>\n",
       "      <td>0.0</td>\n",
       "      <td>0.0</td>\n",
       "      <td>0.0</td>\n",
       "    </tr>\n",
       "    <tr>\n",
       "      <th>4</th>\n",
       "      <td>1.0</td>\n",
       "      <td>0.0</td>\n",
       "      <td>0.0</td>\n",
       "    </tr>\n",
       "  </tbody>\n",
       "</table>\n",
       "</div>\n",
       "      <button class=\"colab-df-convert\" onclick=\"convertToInteractive('df-d03ebcf2-67d9-47e5-9da6-f6c8e31fbab9')\"\n",
       "              title=\"Convert this dataframe to an interactive table.\"\n",
       "              style=\"display:none;\">\n",
       "        \n",
       "  <svg xmlns=\"http://www.w3.org/2000/svg\" height=\"24px\"viewBox=\"0 0 24 24\"\n",
       "       width=\"24px\">\n",
       "    <path d=\"M0 0h24v24H0V0z\" fill=\"none\"/>\n",
       "    <path d=\"M18.56 5.44l.94 2.06.94-2.06 2.06-.94-2.06-.94-.94-2.06-.94 2.06-2.06.94zm-11 1L8.5 8.5l.94-2.06 2.06-.94-2.06-.94L8.5 2.5l-.94 2.06-2.06.94zm10 10l.94 2.06.94-2.06 2.06-.94-2.06-.94-.94-2.06-.94 2.06-2.06.94z\"/><path d=\"M17.41 7.96l-1.37-1.37c-.4-.4-.92-.59-1.43-.59-.52 0-1.04.2-1.43.59L10.3 9.45l-7.72 7.72c-.78.78-.78 2.05 0 2.83L4 21.41c.39.39.9.59 1.41.59.51 0 1.02-.2 1.41-.59l7.78-7.78 2.81-2.81c.8-.78.8-2.07 0-2.86zM5.41 20L4 18.59l7.72-7.72 1.47 1.35L5.41 20z\"/>\n",
       "  </svg>\n",
       "      </button>\n",
       "      \n",
       "  <style>\n",
       "    .colab-df-container {\n",
       "      display:flex;\n",
       "      flex-wrap:wrap;\n",
       "      gap: 12px;\n",
       "    }\n",
       "\n",
       "    .colab-df-convert {\n",
       "      background-color: #E8F0FE;\n",
       "      border: none;\n",
       "      border-radius: 50%;\n",
       "      cursor: pointer;\n",
       "      display: none;\n",
       "      fill: #1967D2;\n",
       "      height: 32px;\n",
       "      padding: 0 0 0 0;\n",
       "      width: 32px;\n",
       "    }\n",
       "\n",
       "    .colab-df-convert:hover {\n",
       "      background-color: #E2EBFA;\n",
       "      box-shadow: 0px 1px 2px rgba(60, 64, 67, 0.3), 0px 1px 3px 1px rgba(60, 64, 67, 0.15);\n",
       "      fill: #174EA6;\n",
       "    }\n",
       "\n",
       "    [theme=dark] .colab-df-convert {\n",
       "      background-color: #3B4455;\n",
       "      fill: #D2E3FC;\n",
       "    }\n",
       "\n",
       "    [theme=dark] .colab-df-convert:hover {\n",
       "      background-color: #434B5C;\n",
       "      box-shadow: 0px 1px 3px 1px rgba(0, 0, 0, 0.15);\n",
       "      filter: drop-shadow(0px 1px 2px rgba(0, 0, 0, 0.3));\n",
       "      fill: #FFFFFF;\n",
       "    }\n",
       "  </style>\n",
       "\n",
       "      <script>\n",
       "        const buttonEl =\n",
       "          document.querySelector('#df-d03ebcf2-67d9-47e5-9da6-f6c8e31fbab9 button.colab-df-convert');\n",
       "        buttonEl.style.display =\n",
       "          google.colab.kernel.accessAllowed ? 'block' : 'none';\n",
       "\n",
       "        async function convertToInteractive(key) {\n",
       "          const element = document.querySelector('#df-d03ebcf2-67d9-47e5-9da6-f6c8e31fbab9');\n",
       "          const dataTable =\n",
       "            await google.colab.kernel.invokeFunction('convertToInteractive',\n",
       "                                                     [key], {});\n",
       "          if (!dataTable) return;\n",
       "\n",
       "          const docLinkHtml = 'Like what you see? Visit the ' +\n",
       "            '<a target=\"_blank\" href=https://colab.research.google.com/notebooks/data_table.ipynb>data table notebook</a>'\n",
       "            + ' to learn more about interactive tables.';\n",
       "          element.innerHTML = '';\n",
       "          dataTable['output_type'] = 'display_data';\n",
       "          await google.colab.output.renderOutput(dataTable, element);\n",
       "          const docLink = document.createElement('div');\n",
       "          docLink.innerHTML = docLinkHtml;\n",
       "          element.appendChild(docLink);\n",
       "        }\n",
       "      </script>\n",
       "    </div>\n",
       "  </div>\n",
       "  "
      ],
      "text/plain": [
       "   hrswrk_HoursWrk_30-40  hrswrk_HoursWrk_40-60  hrswrk_HoursWrk_60+\n",
       "0                    0.0                    0.0                  0.0\n",
       "1                    1.0                    0.0                  0.0\n",
       "2                    0.0                    1.0                  0.0\n",
       "3                    0.0                    0.0                  0.0\n",
       "4                    1.0                    0.0                  0.0"
      ]
     },
     "execution_count": 379,
     "metadata": {},
     "output_type": "execute_result"
    }
   ],
   "source": [
    "#dropped hrswrk_HoursWrk_0-30\n",
    "hrswrk = pd.DataFrame(\n",
    "    ohe.transform(data[['hrswrk']]).todense(),\n",
    "    columns = ohe.get_feature_names_out(),\n",
    "    index = data.index\n",
    ")\n",
    "\n",
    "hrswrk.head()"
   ]
  },
  {
   "cell_type": "code",
   "execution_count": null,
   "id": "lEmP0cLnxfGh",
   "metadata": {
    "colab": {
     "base_uri": "https://localhost:8080/"
    },
    "executionInfo": {
     "elapsed": 254,
     "status": "ok",
     "timestamp": 1665778527272,
     "user": {
      "displayName": "Derek Hu",
      "userId": "14137525769356790466"
     },
     "user_tz": 420
    },
    "id": "lEmP0cLnxfGh",
    "outputId": "3fd59e49-bbe9-4869-efd2-72c7d0a9cb66"
   },
   "outputs": [
    {
     "data": {
      "text/plain": [
       "OneHotEncoder(drop='first', handle_unknown='ignore')"
      ]
     },
     "execution_count": 380,
     "metadata": {},
     "output_type": "execute_result"
    }
   ],
   "source": [
    "#Use one_hot_encoder\n",
    "from sklearn.preprocessing import OneHotEncoder\n",
    "ohe = OneHotEncoder(handle_unknown='ignore', drop='first')\n",
    "ohe.fit(data[['health']])"
   ]
  },
  {
   "cell_type": "code",
   "execution_count": null,
   "id": "HavQfQqFxjUE",
   "metadata": {
    "colab": {
     "base_uri": "https://localhost:8080/",
     "height": 206
    },
    "executionInfo": {
     "elapsed": 244,
     "status": "ok",
     "timestamp": 1665778527274,
     "user": {
      "displayName": "Derek Hu",
      "userId": "14137525769356790466"
     },
     "user_tz": 420
    },
    "id": "HavQfQqFxjUE",
    "outputId": "740c2667-7c02-4652-b42f-5cb85d3893d9"
   },
   "outputs": [
    {
     "data": {
      "text/html": [
       "\n",
       "  <div id=\"df-eebba958-a493-4fb7-867e-fe5379169fd7\">\n",
       "    <div class=\"colab-df-container\">\n",
       "      <div>\n",
       "<style scoped>\n",
       "    .dataframe tbody tr th:only-of-type {\n",
       "        vertical-align: middle;\n",
       "    }\n",
       "\n",
       "    .dataframe tbody tr th {\n",
       "        vertical-align: top;\n",
       "    }\n",
       "\n",
       "    .dataframe thead th {\n",
       "        text-align: right;\n",
       "    }\n",
       "</style>\n",
       "<table border=\"1\" class=\"dataframe\">\n",
       "  <thead>\n",
       "    <tr style=\"text-align: right;\">\n",
       "      <th></th>\n",
       "      <th>health_Fair</th>\n",
       "      <th>health_Good_Health</th>\n",
       "      <th>health_Poor_Health</th>\n",
       "      <th>health_Very_Good_Health</th>\n",
       "    </tr>\n",
       "  </thead>\n",
       "  <tbody>\n",
       "    <tr>\n",
       "      <th>0</th>\n",
       "      <td>0.0</td>\n",
       "      <td>1.0</td>\n",
       "      <td>0.0</td>\n",
       "      <td>0.0</td>\n",
       "    </tr>\n",
       "    <tr>\n",
       "      <th>1</th>\n",
       "      <td>0.0</td>\n",
       "      <td>1.0</td>\n",
       "      <td>0.0</td>\n",
       "      <td>0.0</td>\n",
       "    </tr>\n",
       "    <tr>\n",
       "      <th>2</th>\n",
       "      <td>0.0</td>\n",
       "      <td>0.0</td>\n",
       "      <td>0.0</td>\n",
       "      <td>0.0</td>\n",
       "    </tr>\n",
       "    <tr>\n",
       "      <th>3</th>\n",
       "      <td>0.0</td>\n",
       "      <td>1.0</td>\n",
       "      <td>0.0</td>\n",
       "      <td>0.0</td>\n",
       "    </tr>\n",
       "    <tr>\n",
       "      <th>4</th>\n",
       "      <td>0.0</td>\n",
       "      <td>0.0</td>\n",
       "      <td>0.0</td>\n",
       "      <td>0.0</td>\n",
       "    </tr>\n",
       "  </tbody>\n",
       "</table>\n",
       "</div>\n",
       "      <button class=\"colab-df-convert\" onclick=\"convertToInteractive('df-eebba958-a493-4fb7-867e-fe5379169fd7')\"\n",
       "              title=\"Convert this dataframe to an interactive table.\"\n",
       "              style=\"display:none;\">\n",
       "        \n",
       "  <svg xmlns=\"http://www.w3.org/2000/svg\" height=\"24px\"viewBox=\"0 0 24 24\"\n",
       "       width=\"24px\">\n",
       "    <path d=\"M0 0h24v24H0V0z\" fill=\"none\"/>\n",
       "    <path d=\"M18.56 5.44l.94 2.06.94-2.06 2.06-.94-2.06-.94-.94-2.06-.94 2.06-2.06.94zm-11 1L8.5 8.5l.94-2.06 2.06-.94-2.06-.94L8.5 2.5l-.94 2.06-2.06.94zm10 10l.94 2.06.94-2.06 2.06-.94-2.06-.94-.94-2.06-.94 2.06-2.06.94z\"/><path d=\"M17.41 7.96l-1.37-1.37c-.4-.4-.92-.59-1.43-.59-.52 0-1.04.2-1.43.59L10.3 9.45l-7.72 7.72c-.78.78-.78 2.05 0 2.83L4 21.41c.39.39.9.59 1.41.59.51 0 1.02-.2 1.41-.59l7.78-7.78 2.81-2.81c.8-.78.8-2.07 0-2.86zM5.41 20L4 18.59l7.72-7.72 1.47 1.35L5.41 20z\"/>\n",
       "  </svg>\n",
       "      </button>\n",
       "      \n",
       "  <style>\n",
       "    .colab-df-container {\n",
       "      display:flex;\n",
       "      flex-wrap:wrap;\n",
       "      gap: 12px;\n",
       "    }\n",
       "\n",
       "    .colab-df-convert {\n",
       "      background-color: #E8F0FE;\n",
       "      border: none;\n",
       "      border-radius: 50%;\n",
       "      cursor: pointer;\n",
       "      display: none;\n",
       "      fill: #1967D2;\n",
       "      height: 32px;\n",
       "      padding: 0 0 0 0;\n",
       "      width: 32px;\n",
       "    }\n",
       "\n",
       "    .colab-df-convert:hover {\n",
       "      background-color: #E2EBFA;\n",
       "      box-shadow: 0px 1px 2px rgba(60, 64, 67, 0.3), 0px 1px 3px 1px rgba(60, 64, 67, 0.15);\n",
       "      fill: #174EA6;\n",
       "    }\n",
       "\n",
       "    [theme=dark] .colab-df-convert {\n",
       "      background-color: #3B4455;\n",
       "      fill: #D2E3FC;\n",
       "    }\n",
       "\n",
       "    [theme=dark] .colab-df-convert:hover {\n",
       "      background-color: #434B5C;\n",
       "      box-shadow: 0px 1px 3px 1px rgba(0, 0, 0, 0.15);\n",
       "      filter: drop-shadow(0px 1px 2px rgba(0, 0, 0, 0.3));\n",
       "      fill: #FFFFFF;\n",
       "    }\n",
       "  </style>\n",
       "\n",
       "      <script>\n",
       "        const buttonEl =\n",
       "          document.querySelector('#df-eebba958-a493-4fb7-867e-fe5379169fd7 button.colab-df-convert');\n",
       "        buttonEl.style.display =\n",
       "          google.colab.kernel.accessAllowed ? 'block' : 'none';\n",
       "\n",
       "        async function convertToInteractive(key) {\n",
       "          const element = document.querySelector('#df-eebba958-a493-4fb7-867e-fe5379169fd7');\n",
       "          const dataTable =\n",
       "            await google.colab.kernel.invokeFunction('convertToInteractive',\n",
       "                                                     [key], {});\n",
       "          if (!dataTable) return;\n",
       "\n",
       "          const docLinkHtml = 'Like what you see? Visit the ' +\n",
       "            '<a target=\"_blank\" href=https://colab.research.google.com/notebooks/data_table.ipynb>data table notebook</a>'\n",
       "            + ' to learn more about interactive tables.';\n",
       "          element.innerHTML = '';\n",
       "          dataTable['output_type'] = 'display_data';\n",
       "          await google.colab.output.renderOutput(dataTable, element);\n",
       "          const docLink = document.createElement('div');\n",
       "          docLink.innerHTML = docLinkHtml;\n",
       "          element.appendChild(docLink);\n",
       "        }\n",
       "      </script>\n",
       "    </div>\n",
       "  </div>\n",
       "  "
      ],
      "text/plain": [
       "   health_Fair  health_Good_Health  health_Poor_Health  \\\n",
       "0          0.0                 1.0                 0.0   \n",
       "1          0.0                 1.0                 0.0   \n",
       "2          0.0                 0.0                 0.0   \n",
       "3          0.0                 1.0                 0.0   \n",
       "4          0.0                 0.0                 0.0   \n",
       "\n",
       "   health_Very_Good_Health  \n",
       "0                      0.0  \n",
       "1                      0.0  \n",
       "2                      0.0  \n",
       "3                      0.0  \n",
       "4                      0.0  "
      ]
     },
     "execution_count": 381,
     "metadata": {},
     "output_type": "execute_result"
    }
   ],
   "source": [
    "#excellent health\n",
    "health = pd.DataFrame(\n",
    "    ohe.transform(data[['health']]).todense(),\n",
    "    columns = ohe.get_feature_names_out(),\n",
    "    index = data.index\n",
    ")\n",
    "\n",
    "health.head()"
   ]
  },
  {
   "cell_type": "code",
   "execution_count": null,
   "id": "xNsLEJHDxm_n",
   "metadata": {
    "colab": {
     "base_uri": "https://localhost:8080/"
    },
    "executionInfo": {
     "elapsed": 242,
     "status": "ok",
     "timestamp": 1665778527275,
     "user": {
      "displayName": "Derek Hu",
      "userId": "14137525769356790466"
     },
     "user_tz": 420
    },
    "id": "xNsLEJHDxm_n",
    "outputId": "6a94d022-8e26-413d-de44-250aef41b912"
   },
   "outputs": [
    {
     "data": {
      "text/plain": [
       "OneHotEncoder(drop='first', handle_unknown='ignore')"
      ]
     },
     "execution_count": 382,
     "metadata": {},
     "output_type": "execute_result"
    }
   ],
   "source": [
    "#Use one_hot_encoder to get dummy variables. Drop first column \n",
    "from sklearn.preprocessing import OneHotEncoder\n",
    "ohe = OneHotEncoder(handle_unknown='ignore', drop='first')\n",
    "ohe.fit(data[['income']])"
   ]
  },
  {
   "cell_type": "code",
   "execution_count": null,
   "id": "8DCQFrw4xqKd",
   "metadata": {
    "colab": {
     "base_uri": "https://localhost:8080/",
     "height": 206
    },
    "executionInfo": {
     "elapsed": 222,
     "status": "ok",
     "timestamp": 1665778527276,
     "user": {
      "displayName": "Derek Hu",
      "userId": "14137525769356790466"
     },
     "user_tz": 420
    },
    "id": "8DCQFrw4xqKd",
    "outputId": "331c86c9-aeae-4d4a-c84f-ddf2eaaa53aa"
   },
   "outputs": [
    {
     "data": {
      "text/html": [
       "\n",
       "  <div id=\"df-59164e7f-b2ad-4128-9f37-4687171a0135\">\n",
       "    <div class=\"colab-df-container\">\n",
       "      <div>\n",
       "<style scoped>\n",
       "    .dataframe tbody tr th:only-of-type {\n",
       "        vertical-align: middle;\n",
       "    }\n",
       "\n",
       "    .dataframe tbody tr th {\n",
       "        vertical-align: top;\n",
       "    }\n",
       "\n",
       "    .dataframe thead th {\n",
       "        text-align: right;\n",
       "    }\n",
       "</style>\n",
       "<table border=\"1\" class=\"dataframe\">\n",
       "  <thead>\n",
       "    <tr style=\"text-align: right;\">\n",
       "      <th></th>\n",
       "      <th>income_Low-Income</th>\n",
       "      <th>income_Lower-Middle-Income</th>\n",
       "      <th>income_Middle-Income</th>\n",
       "      <th>income_Very-High-Income</th>\n",
       "    </tr>\n",
       "  </thead>\n",
       "  <tbody>\n",
       "    <tr>\n",
       "      <th>0</th>\n",
       "      <td>1.0</td>\n",
       "      <td>0.0</td>\n",
       "      <td>0.0</td>\n",
       "      <td>0.0</td>\n",
       "    </tr>\n",
       "    <tr>\n",
       "      <th>1</th>\n",
       "      <td>1.0</td>\n",
       "      <td>0.0</td>\n",
       "      <td>0.0</td>\n",
       "      <td>0.0</td>\n",
       "    </tr>\n",
       "    <tr>\n",
       "      <th>2</th>\n",
       "      <td>0.0</td>\n",
       "      <td>0.0</td>\n",
       "      <td>1.0</td>\n",
       "      <td>0.0</td>\n",
       "    </tr>\n",
       "    <tr>\n",
       "      <th>3</th>\n",
       "      <td>1.0</td>\n",
       "      <td>0.0</td>\n",
       "      <td>0.0</td>\n",
       "      <td>0.0</td>\n",
       "    </tr>\n",
       "    <tr>\n",
       "      <th>4</th>\n",
       "      <td>0.0</td>\n",
       "      <td>1.0</td>\n",
       "      <td>0.0</td>\n",
       "      <td>0.0</td>\n",
       "    </tr>\n",
       "  </tbody>\n",
       "</table>\n",
       "</div>\n",
       "      <button class=\"colab-df-convert\" onclick=\"convertToInteractive('df-59164e7f-b2ad-4128-9f37-4687171a0135')\"\n",
       "              title=\"Convert this dataframe to an interactive table.\"\n",
       "              style=\"display:none;\">\n",
       "        \n",
       "  <svg xmlns=\"http://www.w3.org/2000/svg\" height=\"24px\"viewBox=\"0 0 24 24\"\n",
       "       width=\"24px\">\n",
       "    <path d=\"M0 0h24v24H0V0z\" fill=\"none\"/>\n",
       "    <path d=\"M18.56 5.44l.94 2.06.94-2.06 2.06-.94-2.06-.94-.94-2.06-.94 2.06-2.06.94zm-11 1L8.5 8.5l.94-2.06 2.06-.94-2.06-.94L8.5 2.5l-.94 2.06-2.06.94zm10 10l.94 2.06.94-2.06 2.06-.94-2.06-.94-.94-2.06-.94 2.06-2.06.94z\"/><path d=\"M17.41 7.96l-1.37-1.37c-.4-.4-.92-.59-1.43-.59-.52 0-1.04.2-1.43.59L10.3 9.45l-7.72 7.72c-.78.78-.78 2.05 0 2.83L4 21.41c.39.39.9.59 1.41.59.51 0 1.02-.2 1.41-.59l7.78-7.78 2.81-2.81c.8-.78.8-2.07 0-2.86zM5.41 20L4 18.59l7.72-7.72 1.47 1.35L5.41 20z\"/>\n",
       "  </svg>\n",
       "      </button>\n",
       "      \n",
       "  <style>\n",
       "    .colab-df-container {\n",
       "      display:flex;\n",
       "      flex-wrap:wrap;\n",
       "      gap: 12px;\n",
       "    }\n",
       "\n",
       "    .colab-df-convert {\n",
       "      background-color: #E8F0FE;\n",
       "      border: none;\n",
       "      border-radius: 50%;\n",
       "      cursor: pointer;\n",
       "      display: none;\n",
       "      fill: #1967D2;\n",
       "      height: 32px;\n",
       "      padding: 0 0 0 0;\n",
       "      width: 32px;\n",
       "    }\n",
       "\n",
       "    .colab-df-convert:hover {\n",
       "      background-color: #E2EBFA;\n",
       "      box-shadow: 0px 1px 2px rgba(60, 64, 67, 0.3), 0px 1px 3px 1px rgba(60, 64, 67, 0.15);\n",
       "      fill: #174EA6;\n",
       "    }\n",
       "\n",
       "    [theme=dark] .colab-df-convert {\n",
       "      background-color: #3B4455;\n",
       "      fill: #D2E3FC;\n",
       "    }\n",
       "\n",
       "    [theme=dark] .colab-df-convert:hover {\n",
       "      background-color: #434B5C;\n",
       "      box-shadow: 0px 1px 3px 1px rgba(0, 0, 0, 0.15);\n",
       "      filter: drop-shadow(0px 1px 2px rgba(0, 0, 0, 0.3));\n",
       "      fill: #FFFFFF;\n",
       "    }\n",
       "  </style>\n",
       "\n",
       "      <script>\n",
       "        const buttonEl =\n",
       "          document.querySelector('#df-59164e7f-b2ad-4128-9f37-4687171a0135 button.colab-df-convert');\n",
       "        buttonEl.style.display =\n",
       "          google.colab.kernel.accessAllowed ? 'block' : 'none';\n",
       "\n",
       "        async function convertToInteractive(key) {\n",
       "          const element = document.querySelector('#df-59164e7f-b2ad-4128-9f37-4687171a0135');\n",
       "          const dataTable =\n",
       "            await google.colab.kernel.invokeFunction('convertToInteractive',\n",
       "                                                     [key], {});\n",
       "          if (!dataTable) return;\n",
       "\n",
       "          const docLinkHtml = 'Like what you see? Visit the ' +\n",
       "            '<a target=\"_blank\" href=https://colab.research.google.com/notebooks/data_table.ipynb>data table notebook</a>'\n",
       "            + ' to learn more about interactive tables.';\n",
       "          element.innerHTML = '';\n",
       "          dataTable['output_type'] = 'display_data';\n",
       "          await google.colab.output.renderOutput(dataTable, element);\n",
       "          const docLink = document.createElement('div');\n",
       "          docLink.innerHTML = docLinkHtml;\n",
       "          element.appendChild(docLink);\n",
       "        }\n",
       "      </script>\n",
       "    </div>\n",
       "  </div>\n",
       "  "
      ],
      "text/plain": [
       "   income_Low-Income  income_Lower-Middle-Income  income_Middle-Income  \\\n",
       "0                1.0                         0.0                   0.0   \n",
       "1                1.0                         0.0                   0.0   \n",
       "2                0.0                         0.0                   1.0   \n",
       "3                1.0                         0.0                   0.0   \n",
       "4                0.0                         1.0                   0.0   \n",
       "\n",
       "   income_Very-High-Income  \n",
       "0                      0.0  \n",
       "1                      0.0  \n",
       "2                      0.0  \n",
       "3                      0.0  \n",
       "4                      0.0  "
      ]
     },
     "execution_count": 383,
     "metadata": {},
     "output_type": "execute_result"
    }
   ],
   "source": [
    "#drop high income\n",
    "income = pd.DataFrame(\n",
    "    ohe.transform(data[['income']]).todense(),\n",
    "    columns = ohe.get_feature_names_out(),\n",
    "    index = data.index\n",
    ")\n",
    "\n",
    "income.head()"
   ]
  },
  {
   "cell_type": "code",
   "execution_count": null,
   "id": "tgXyCWfjxqMX",
   "metadata": {
    "colab": {
     "base_uri": "https://localhost:8080/"
    },
    "executionInfo": {
     "elapsed": 211,
     "status": "ok",
     "timestamp": 1665778527277,
     "user": {
      "displayName": "Derek Hu",
      "userId": "14137525769356790466"
     },
     "user_tz": 420
    },
    "id": "tgXyCWfjxqMX",
    "outputId": "fc1b0ef3-43ef-4361-870b-0a18d8142365"
   },
   "outputs": [
    {
     "data": {
      "text/plain": [
       "OneHotEncoder(drop='first', handle_unknown='ignore')"
      ]
     },
     "execution_count": 384,
     "metadata": {},
     "output_type": "execute_result"
    }
   ],
   "source": [
    "#Use one_hot_encoder\n",
    "from sklearn.preprocessing import OneHotEncoder\n",
    "ohe = OneHotEncoder(handle_unknown='ignore', drop='first')\n",
    "ohe.fit(data[['SSI']])"
   ]
  },
  {
   "cell_type": "code",
   "execution_count": null,
   "id": "n1O3JMJAxwJn",
   "metadata": {
    "colab": {
     "base_uri": "https://localhost:8080/",
     "height": 206
    },
    "executionInfo": {
     "elapsed": 173,
     "status": "ok",
     "timestamp": 1665778527278,
     "user": {
      "displayName": "Derek Hu",
      "userId": "14137525769356790466"
     },
     "user_tz": 420
    },
    "id": "n1O3JMJAxwJn",
    "outputId": "d67e5069-876a-424c-e7f4-2c9741d9d973"
   },
   "outputs": [
    {
     "data": {
      "text/html": [
       "\n",
       "  <div id=\"df-a372fc4f-4453-4683-80e9-8b1958c4974c\">\n",
       "    <div class=\"colab-df-container\">\n",
       "      <div>\n",
       "<style scoped>\n",
       "    .dataframe tbody tr th:only-of-type {\n",
       "        vertical-align: middle;\n",
       "    }\n",
       "\n",
       "    .dataframe tbody tr th {\n",
       "        vertical-align: top;\n",
       "    }\n",
       "\n",
       "    .dataframe thead th {\n",
       "        text-align: right;\n",
       "    }\n",
       "</style>\n",
       "<table border=\"1\" class=\"dataframe\">\n",
       "  <thead>\n",
       "    <tr style=\"text-align: right;\">\n",
       "      <th></th>\n",
       "      <th>SSI_Yes_SSI</th>\n",
       "    </tr>\n",
       "  </thead>\n",
       "  <tbody>\n",
       "    <tr>\n",
       "      <th>0</th>\n",
       "      <td>0.0</td>\n",
       "    </tr>\n",
       "    <tr>\n",
       "      <th>1</th>\n",
       "      <td>0.0</td>\n",
       "    </tr>\n",
       "    <tr>\n",
       "      <th>2</th>\n",
       "      <td>0.0</td>\n",
       "    </tr>\n",
       "    <tr>\n",
       "      <th>3</th>\n",
       "      <td>0.0</td>\n",
       "    </tr>\n",
       "    <tr>\n",
       "      <th>4</th>\n",
       "      <td>0.0</td>\n",
       "    </tr>\n",
       "  </tbody>\n",
       "</table>\n",
       "</div>\n",
       "      <button class=\"colab-df-convert\" onclick=\"convertToInteractive('df-a372fc4f-4453-4683-80e9-8b1958c4974c')\"\n",
       "              title=\"Convert this dataframe to an interactive table.\"\n",
       "              style=\"display:none;\">\n",
       "        \n",
       "  <svg xmlns=\"http://www.w3.org/2000/svg\" height=\"24px\"viewBox=\"0 0 24 24\"\n",
       "       width=\"24px\">\n",
       "    <path d=\"M0 0h24v24H0V0z\" fill=\"none\"/>\n",
       "    <path d=\"M18.56 5.44l.94 2.06.94-2.06 2.06-.94-2.06-.94-.94-2.06-.94 2.06-2.06.94zm-11 1L8.5 8.5l.94-2.06 2.06-.94-2.06-.94L8.5 2.5l-.94 2.06-2.06.94zm10 10l.94 2.06.94-2.06 2.06-.94-2.06-.94-.94-2.06-.94 2.06-2.06.94z\"/><path d=\"M17.41 7.96l-1.37-1.37c-.4-.4-.92-.59-1.43-.59-.52 0-1.04.2-1.43.59L10.3 9.45l-7.72 7.72c-.78.78-.78 2.05 0 2.83L4 21.41c.39.39.9.59 1.41.59.51 0 1.02-.2 1.41-.59l7.78-7.78 2.81-2.81c.8-.78.8-2.07 0-2.86zM5.41 20L4 18.59l7.72-7.72 1.47 1.35L5.41 20z\"/>\n",
       "  </svg>\n",
       "      </button>\n",
       "      \n",
       "  <style>\n",
       "    .colab-df-container {\n",
       "      display:flex;\n",
       "      flex-wrap:wrap;\n",
       "      gap: 12px;\n",
       "    }\n",
       "\n",
       "    .colab-df-convert {\n",
       "      background-color: #E8F0FE;\n",
       "      border: none;\n",
       "      border-radius: 50%;\n",
       "      cursor: pointer;\n",
       "      display: none;\n",
       "      fill: #1967D2;\n",
       "      height: 32px;\n",
       "      padding: 0 0 0 0;\n",
       "      width: 32px;\n",
       "    }\n",
       "\n",
       "    .colab-df-convert:hover {\n",
       "      background-color: #E2EBFA;\n",
       "      box-shadow: 0px 1px 2px rgba(60, 64, 67, 0.3), 0px 1px 3px 1px rgba(60, 64, 67, 0.15);\n",
       "      fill: #174EA6;\n",
       "    }\n",
       "\n",
       "    [theme=dark] .colab-df-convert {\n",
       "      background-color: #3B4455;\n",
       "      fill: #D2E3FC;\n",
       "    }\n",
       "\n",
       "    [theme=dark] .colab-df-convert:hover {\n",
       "      background-color: #434B5C;\n",
       "      box-shadow: 0px 1px 3px 1px rgba(0, 0, 0, 0.15);\n",
       "      filter: drop-shadow(0px 1px 2px rgba(0, 0, 0, 0.3));\n",
       "      fill: #FFFFFF;\n",
       "    }\n",
       "  </style>\n",
       "\n",
       "      <script>\n",
       "        const buttonEl =\n",
       "          document.querySelector('#df-a372fc4f-4453-4683-80e9-8b1958c4974c button.colab-df-convert');\n",
       "        buttonEl.style.display =\n",
       "          google.colab.kernel.accessAllowed ? 'block' : 'none';\n",
       "\n",
       "        async function convertToInteractive(key) {\n",
       "          const element = document.querySelector('#df-a372fc4f-4453-4683-80e9-8b1958c4974c');\n",
       "          const dataTable =\n",
       "            await google.colab.kernel.invokeFunction('convertToInteractive',\n",
       "                                                     [key], {});\n",
       "          if (!dataTable) return;\n",
       "\n",
       "          const docLinkHtml = 'Like what you see? Visit the ' +\n",
       "            '<a target=\"_blank\" href=https://colab.research.google.com/notebooks/data_table.ipynb>data table notebook</a>'\n",
       "            + ' to learn more about interactive tables.';\n",
       "          element.innerHTML = '';\n",
       "          dataTable['output_type'] = 'display_data';\n",
       "          await google.colab.output.renderOutput(dataTable, element);\n",
       "          const docLink = document.createElement('div');\n",
       "          docLink.innerHTML = docLinkHtml;\n",
       "          element.appendChild(docLink);\n",
       "        }\n",
       "      </script>\n",
       "    </div>\n",
       "  </div>\n",
       "  "
      ],
      "text/plain": [
       "   SSI_Yes_SSI\n",
       "0          0.0\n",
       "1          0.0\n",
       "2          0.0\n",
       "3          0.0\n",
       "4          0.0"
      ]
     },
     "execution_count": 385,
     "metadata": {},
     "output_type": "execute_result"
    }
   ],
   "source": [
    "#drop no ssi\n",
    "SSI = pd.DataFrame(\n",
    "    ohe.transform(data[['SSI']]).todense(),\n",
    "    columns = ohe.get_feature_names_out(),\n",
    "    index = data.index\n",
    ")\n",
    "\n",
    "SSI.head()"
   ]
  },
  {
   "cell_type": "code",
   "execution_count": null,
   "id": "RANZe5NqxzD2",
   "metadata": {
    "colab": {
     "base_uri": "https://localhost:8080/"
    },
    "executionInfo": {
     "elapsed": 165,
     "status": "ok",
     "timestamp": 1665778527279,
     "user": {
      "displayName": "Derek Hu",
      "userId": "14137525769356790466"
     },
     "user_tz": 420
    },
    "id": "RANZe5NqxzD2",
    "outputId": "dd57279f-cac5-4b85-cc44-88e2ac31abaf"
   },
   "outputs": [
    {
     "data": {
      "text/plain": [
       "OneHotEncoder(drop='first', handle_unknown='ignore')"
      ]
     },
     "execution_count": 386,
     "metadata": {},
     "output_type": "execute_result"
    }
   ],
   "source": [
    "#drop has healthcoverage\n",
    "from sklearn.preprocessing import OneHotEncoder\n",
    "ohe = OneHotEncoder(handle_unknown='ignore', drop='first')\n",
    "ohe.fit(data[['Health_Coverage']])"
   ]
  },
  {
   "cell_type": "code",
   "execution_count": null,
   "id": "ftRT62B1x3yZ",
   "metadata": {
    "colab": {
     "base_uri": "https://localhost:8080/",
     "height": 206
    },
    "executionInfo": {
     "elapsed": 153,
     "status": "ok",
     "timestamp": 1665778527280,
     "user": {
      "displayName": "Derek Hu",
      "userId": "14137525769356790466"
     },
     "user_tz": 420
    },
    "id": "ftRT62B1x3yZ",
    "outputId": "5863a254-fbc1-47d3-daaa-55d1fb78908f"
   },
   "outputs": [
    {
     "data": {
      "text/html": [
       "\n",
       "  <div id=\"df-7fe9192c-692b-48ff-b399-ffe5e59f15ca\">\n",
       "    <div class=\"colab-df-container\">\n",
       "      <div>\n",
       "<style scoped>\n",
       "    .dataframe tbody tr th:only-of-type {\n",
       "        vertical-align: middle;\n",
       "    }\n",
       "\n",
       "    .dataframe tbody tr th {\n",
       "        vertical-align: top;\n",
       "    }\n",
       "\n",
       "    .dataframe thead th {\n",
       "        text-align: right;\n",
       "    }\n",
       "</style>\n",
       "<table border=\"1\" class=\"dataframe\">\n",
       "  <thead>\n",
       "    <tr style=\"text-align: right;\">\n",
       "      <th></th>\n",
       "      <th>Health_Coverage_No_healthcoverage</th>\n",
       "    </tr>\n",
       "  </thead>\n",
       "  <tbody>\n",
       "    <tr>\n",
       "      <th>0</th>\n",
       "      <td>0.0</td>\n",
       "    </tr>\n",
       "    <tr>\n",
       "      <th>1</th>\n",
       "      <td>0.0</td>\n",
       "    </tr>\n",
       "    <tr>\n",
       "      <th>2</th>\n",
       "      <td>0.0</td>\n",
       "    </tr>\n",
       "    <tr>\n",
       "      <th>3</th>\n",
       "      <td>0.0</td>\n",
       "    </tr>\n",
       "    <tr>\n",
       "      <th>4</th>\n",
       "      <td>0.0</td>\n",
       "    </tr>\n",
       "  </tbody>\n",
       "</table>\n",
       "</div>\n",
       "      <button class=\"colab-df-convert\" onclick=\"convertToInteractive('df-7fe9192c-692b-48ff-b399-ffe5e59f15ca')\"\n",
       "              title=\"Convert this dataframe to an interactive table.\"\n",
       "              style=\"display:none;\">\n",
       "        \n",
       "  <svg xmlns=\"http://www.w3.org/2000/svg\" height=\"24px\"viewBox=\"0 0 24 24\"\n",
       "       width=\"24px\">\n",
       "    <path d=\"M0 0h24v24H0V0z\" fill=\"none\"/>\n",
       "    <path d=\"M18.56 5.44l.94 2.06.94-2.06 2.06-.94-2.06-.94-.94-2.06-.94 2.06-2.06.94zm-11 1L8.5 8.5l.94-2.06 2.06-.94-2.06-.94L8.5 2.5l-.94 2.06-2.06.94zm10 10l.94 2.06.94-2.06 2.06-.94-2.06-.94-.94-2.06-.94 2.06-2.06.94z\"/><path d=\"M17.41 7.96l-1.37-1.37c-.4-.4-.92-.59-1.43-.59-.52 0-1.04.2-1.43.59L10.3 9.45l-7.72 7.72c-.78.78-.78 2.05 0 2.83L4 21.41c.39.39.9.59 1.41.59.51 0 1.02-.2 1.41-.59l7.78-7.78 2.81-2.81c.8-.78.8-2.07 0-2.86zM5.41 20L4 18.59l7.72-7.72 1.47 1.35L5.41 20z\"/>\n",
       "  </svg>\n",
       "      </button>\n",
       "      \n",
       "  <style>\n",
       "    .colab-df-container {\n",
       "      display:flex;\n",
       "      flex-wrap:wrap;\n",
       "      gap: 12px;\n",
       "    }\n",
       "\n",
       "    .colab-df-convert {\n",
       "      background-color: #E8F0FE;\n",
       "      border: none;\n",
       "      border-radius: 50%;\n",
       "      cursor: pointer;\n",
       "      display: none;\n",
       "      fill: #1967D2;\n",
       "      height: 32px;\n",
       "      padding: 0 0 0 0;\n",
       "      width: 32px;\n",
       "    }\n",
       "\n",
       "    .colab-df-convert:hover {\n",
       "      background-color: #E2EBFA;\n",
       "      box-shadow: 0px 1px 2px rgba(60, 64, 67, 0.3), 0px 1px 3px 1px rgba(60, 64, 67, 0.15);\n",
       "      fill: #174EA6;\n",
       "    }\n",
       "\n",
       "    [theme=dark] .colab-df-convert {\n",
       "      background-color: #3B4455;\n",
       "      fill: #D2E3FC;\n",
       "    }\n",
       "\n",
       "    [theme=dark] .colab-df-convert:hover {\n",
       "      background-color: #434B5C;\n",
       "      box-shadow: 0px 1px 3px 1px rgba(0, 0, 0, 0.15);\n",
       "      filter: drop-shadow(0px 1px 2px rgba(0, 0, 0, 0.3));\n",
       "      fill: #FFFFFF;\n",
       "    }\n",
       "  </style>\n",
       "\n",
       "      <script>\n",
       "        const buttonEl =\n",
       "          document.querySelector('#df-7fe9192c-692b-48ff-b399-ffe5e59f15ca button.colab-df-convert');\n",
       "        buttonEl.style.display =\n",
       "          google.colab.kernel.accessAllowed ? 'block' : 'none';\n",
       "\n",
       "        async function convertToInteractive(key) {\n",
       "          const element = document.querySelector('#df-7fe9192c-692b-48ff-b399-ffe5e59f15ca');\n",
       "          const dataTable =\n",
       "            await google.colab.kernel.invokeFunction('convertToInteractive',\n",
       "                                                     [key], {});\n",
       "          if (!dataTable) return;\n",
       "\n",
       "          const docLinkHtml = 'Like what you see? Visit the ' +\n",
       "            '<a target=\"_blank\" href=https://colab.research.google.com/notebooks/data_table.ipynb>data table notebook</a>'\n",
       "            + ' to learn more about interactive tables.';\n",
       "          element.innerHTML = '';\n",
       "          dataTable['output_type'] = 'display_data';\n",
       "          await google.colab.output.renderOutput(dataTable, element);\n",
       "          const docLink = document.createElement('div');\n",
       "          docLink.innerHTML = docLinkHtml;\n",
       "          element.appendChild(docLink);\n",
       "        }\n",
       "      </script>\n",
       "    </div>\n",
       "  </div>\n",
       "  "
      ],
      "text/plain": [
       "   Health_Coverage_No_healthcoverage\n",
       "0                                0.0\n",
       "1                                0.0\n",
       "2                                0.0\n",
       "3                                0.0\n",
       "4                                0.0"
      ]
     },
     "execution_count": 387,
     "metadata": {},
     "output_type": "execute_result"
    }
   ],
   "source": [
    "Health_Coverage = pd.DataFrame(\n",
    "    ohe.transform(data[['Health_Coverage']]).todense(),\n",
    "    columns = ohe.get_feature_names_out(),\n",
    "    index = data.index\n",
    ")\n",
    "\n",
    "Health_Coverage.head()"
   ]
  },
  {
   "cell_type": "code",
   "execution_count": null,
   "id": "-crCAwE7x6u2",
   "metadata": {
    "colab": {
     "base_uri": "https://localhost:8080/"
    },
    "executionInfo": {
     "elapsed": 4,
     "status": "ok",
     "timestamp": 1665778532083,
     "user": {
      "displayName": "Derek Hu",
      "userId": "14137525769356790466"
     },
     "user_tz": 420
    },
    "id": "-crCAwE7x6u2",
    "outputId": "97c51e81-0bb3-4f76-92ec-db7109231b40"
   },
   "outputs": [
    {
     "data": {
      "text/plain": [
       "OneHotEncoder(drop='first', handle_unknown='ignore')"
      ]
     },
     "execution_count": 388,
     "metadata": {},
     "output_type": "execute_result"
    }
   ],
   "source": [
    "#Use one_hot_encoder\n",
    "from sklearn.preprocessing import OneHotEncoder\n",
    "ohe = OneHotEncoder(handle_unknown='ignore', drop='first')\n",
    "ohe.fit(data[['Education']])"
   ]
  },
  {
   "cell_type": "code",
   "execution_count": null,
   "id": "G8K-Y1Rbx_Qh",
   "metadata": {
    "colab": {
     "base_uri": "https://localhost:8080/",
     "height": 206
    },
    "executionInfo": {
     "elapsed": 29,
     "status": "ok",
     "timestamp": 1665778532316,
     "user": {
      "displayName": "Derek Hu",
      "userId": "14137525769356790466"
     },
     "user_tz": 420
    },
    "id": "G8K-Y1Rbx_Qh",
    "outputId": "a0039db0-6078-4641-bb35-9670250a85d2"
   },
   "outputs": [
    {
     "data": {
      "text/html": [
       "\n",
       "  <div id=\"df-7476d1aa-6040-4a5a-ad40-22ff4e8af758\">\n",
       "    <div class=\"colab-df-container\">\n",
       "      <div>\n",
       "<style scoped>\n",
       "    .dataframe tbody tr th:only-of-type {\n",
       "        vertical-align: middle;\n",
       "    }\n",
       "\n",
       "    .dataframe tbody tr th {\n",
       "        vertical-align: top;\n",
       "    }\n",
       "\n",
       "    .dataframe thead th {\n",
       "        text-align: right;\n",
       "    }\n",
       "</style>\n",
       "<table border=\"1\" class=\"dataframe\">\n",
       "  <thead>\n",
       "    <tr style=\"text-align: right;\">\n",
       "      <th></th>\n",
       "      <th>Education_High_School_Graduate</th>\n",
       "      <th>Education_High_School_Or_Less</th>\n",
       "      <th>Education_Masters_Degree</th>\n",
       "      <th>Education_NIU_educ</th>\n",
       "      <th>Education_Some_College</th>\n",
       "    </tr>\n",
       "  </thead>\n",
       "  <tbody>\n",
       "    <tr>\n",
       "      <th>0</th>\n",
       "      <td>0.0</td>\n",
       "      <td>0.0</td>\n",
       "      <td>0.0</td>\n",
       "      <td>0.0</td>\n",
       "      <td>1.0</td>\n",
       "    </tr>\n",
       "    <tr>\n",
       "      <th>1</th>\n",
       "      <td>0.0</td>\n",
       "      <td>0.0</td>\n",
       "      <td>0.0</td>\n",
       "      <td>0.0</td>\n",
       "      <td>1.0</td>\n",
       "    </tr>\n",
       "    <tr>\n",
       "      <th>2</th>\n",
       "      <td>0.0</td>\n",
       "      <td>0.0</td>\n",
       "      <td>0.0</td>\n",
       "      <td>0.0</td>\n",
       "      <td>0.0</td>\n",
       "    </tr>\n",
       "    <tr>\n",
       "      <th>3</th>\n",
       "      <td>1.0</td>\n",
       "      <td>0.0</td>\n",
       "      <td>0.0</td>\n",
       "      <td>0.0</td>\n",
       "      <td>0.0</td>\n",
       "    </tr>\n",
       "    <tr>\n",
       "      <th>4</th>\n",
       "      <td>0.0</td>\n",
       "      <td>0.0</td>\n",
       "      <td>0.0</td>\n",
       "      <td>0.0</td>\n",
       "      <td>1.0</td>\n",
       "    </tr>\n",
       "  </tbody>\n",
       "</table>\n",
       "</div>\n",
       "      <button class=\"colab-df-convert\" onclick=\"convertToInteractive('df-7476d1aa-6040-4a5a-ad40-22ff4e8af758')\"\n",
       "              title=\"Convert this dataframe to an interactive table.\"\n",
       "              style=\"display:none;\">\n",
       "        \n",
       "  <svg xmlns=\"http://www.w3.org/2000/svg\" height=\"24px\"viewBox=\"0 0 24 24\"\n",
       "       width=\"24px\">\n",
       "    <path d=\"M0 0h24v24H0V0z\" fill=\"none\"/>\n",
       "    <path d=\"M18.56 5.44l.94 2.06.94-2.06 2.06-.94-2.06-.94-.94-2.06-.94 2.06-2.06.94zm-11 1L8.5 8.5l.94-2.06 2.06-.94-2.06-.94L8.5 2.5l-.94 2.06-2.06.94zm10 10l.94 2.06.94-2.06 2.06-.94-2.06-.94-.94-2.06-.94 2.06-2.06.94z\"/><path d=\"M17.41 7.96l-1.37-1.37c-.4-.4-.92-.59-1.43-.59-.52 0-1.04.2-1.43.59L10.3 9.45l-7.72 7.72c-.78.78-.78 2.05 0 2.83L4 21.41c.39.39.9.59 1.41.59.51 0 1.02-.2 1.41-.59l7.78-7.78 2.81-2.81c.8-.78.8-2.07 0-2.86zM5.41 20L4 18.59l7.72-7.72 1.47 1.35L5.41 20z\"/>\n",
       "  </svg>\n",
       "      </button>\n",
       "      \n",
       "  <style>\n",
       "    .colab-df-container {\n",
       "      display:flex;\n",
       "      flex-wrap:wrap;\n",
       "      gap: 12px;\n",
       "    }\n",
       "\n",
       "    .colab-df-convert {\n",
       "      background-color: #E8F0FE;\n",
       "      border: none;\n",
       "      border-radius: 50%;\n",
       "      cursor: pointer;\n",
       "      display: none;\n",
       "      fill: #1967D2;\n",
       "      height: 32px;\n",
       "      padding: 0 0 0 0;\n",
       "      width: 32px;\n",
       "    }\n",
       "\n",
       "    .colab-df-convert:hover {\n",
       "      background-color: #E2EBFA;\n",
       "      box-shadow: 0px 1px 2px rgba(60, 64, 67, 0.3), 0px 1px 3px 1px rgba(60, 64, 67, 0.15);\n",
       "      fill: #174EA6;\n",
       "    }\n",
       "\n",
       "    [theme=dark] .colab-df-convert {\n",
       "      background-color: #3B4455;\n",
       "      fill: #D2E3FC;\n",
       "    }\n",
       "\n",
       "    [theme=dark] .colab-df-convert:hover {\n",
       "      background-color: #434B5C;\n",
       "      box-shadow: 0px 1px 3px 1px rgba(0, 0, 0, 0.15);\n",
       "      filter: drop-shadow(0px 1px 2px rgba(0, 0, 0, 0.3));\n",
       "      fill: #FFFFFF;\n",
       "    }\n",
       "  </style>\n",
       "\n",
       "      <script>\n",
       "        const buttonEl =\n",
       "          document.querySelector('#df-7476d1aa-6040-4a5a-ad40-22ff4e8af758 button.colab-df-convert');\n",
       "        buttonEl.style.display =\n",
       "          google.colab.kernel.accessAllowed ? 'block' : 'none';\n",
       "\n",
       "        async function convertToInteractive(key) {\n",
       "          const element = document.querySelector('#df-7476d1aa-6040-4a5a-ad40-22ff4e8af758');\n",
       "          const dataTable =\n",
       "            await google.colab.kernel.invokeFunction('convertToInteractive',\n",
       "                                                     [key], {});\n",
       "          if (!dataTable) return;\n",
       "\n",
       "          const docLinkHtml = 'Like what you see? Visit the ' +\n",
       "            '<a target=\"_blank\" href=https://colab.research.google.com/notebooks/data_table.ipynb>data table notebook</a>'\n",
       "            + ' to learn more about interactive tables.';\n",
       "          element.innerHTML = '';\n",
       "          dataTable['output_type'] = 'display_data';\n",
       "          await google.colab.output.renderOutput(dataTable, element);\n",
       "          const docLink = document.createElement('div');\n",
       "          docLink.innerHTML = docLinkHtml;\n",
       "          element.appendChild(docLink);\n",
       "        }\n",
       "      </script>\n",
       "    </div>\n",
       "  </div>\n",
       "  "
      ],
      "text/plain": [
       "   Education_High_School_Graduate  Education_High_School_Or_Less  \\\n",
       "0                             0.0                            0.0   \n",
       "1                             0.0                            0.0   \n",
       "2                             0.0                            0.0   \n",
       "3                             1.0                            0.0   \n",
       "4                             0.0                            0.0   \n",
       "\n",
       "   Education_Masters_Degree  Education_NIU_educ  Education_Some_College  \n",
       "0                       0.0                 0.0                     1.0  \n",
       "1                       0.0                 0.0                     1.0  \n",
       "2                       0.0                 0.0                     0.0  \n",
       "3                       0.0                 0.0                     0.0  \n",
       "4                       0.0                 0.0                     1.0  "
      ]
     },
     "execution_count": 389,
     "metadata": {},
     "output_type": "execute_result"
    }
   ],
   "source": [
    "#drop bachelors degree\n",
    "Education = pd.DataFrame(\n",
    "    ohe.transform(data[['Education']]).todense(),\n",
    "    columns = ohe.get_feature_names_out(),\n",
    "    index = data.index\n",
    ")\n",
    "\n",
    "Education.head()"
   ]
  },
  {
   "cell_type": "code",
   "execution_count": null,
   "id": "2SAnRU9pyDHH",
   "metadata": {
    "colab": {
     "base_uri": "https://localhost:8080/"
    },
    "executionInfo": {
     "elapsed": 23,
     "status": "ok",
     "timestamp": 1665778532318,
     "user": {
      "displayName": "Derek Hu",
      "userId": "14137525769356790466"
     },
     "user_tz": 420
    },
    "id": "2SAnRU9pyDHH",
    "outputId": "83afa143-a618-4ced-e467-b41f4a45c21f"
   },
   "outputs": [
    {
     "data": {
      "text/plain": [
       "OneHotEncoder(drop='first', handle_unknown='ignore')"
      ]
     },
     "execution_count": 390,
     "metadata": {},
     "output_type": "execute_result"
    }
   ],
   "source": [
    "#Use one_hot_encoder\n",
    "from sklearn.preprocessing import OneHotEncoder\n",
    "ohe = OneHotEncoder(handle_unknown='ignore', drop='first')\n",
    "ohe.fit(data[['JobOccupation']])"
   ]
  },
  {
   "cell_type": "code",
   "execution_count": null,
   "id": "9sn192lSyIrv",
   "metadata": {
    "colab": {
     "base_uri": "https://localhost:8080/",
     "height": 322
    },
    "executionInfo": {
     "elapsed": 13,
     "status": "ok",
     "timestamp": 1665778532319,
     "user": {
      "displayName": "Derek Hu",
      "userId": "14137525769356790466"
     },
     "user_tz": 420
    },
    "id": "9sn192lSyIrv",
    "outputId": "f1c7af71-3003-40e5-c3d6-0656688ccb02"
   },
   "outputs": [
    {
     "data": {
      "text/html": [
       "\n",
       "  <div id=\"df-cc3cec53-d195-473e-b3ac-8a74c876200e\">\n",
       "    <div class=\"colab-df-container\">\n",
       "      <div>\n",
       "<style scoped>\n",
       "    .dataframe tbody tr th:only-of-type {\n",
       "        vertical-align: middle;\n",
       "    }\n",
       "\n",
       "    .dataframe tbody tr th {\n",
       "        vertical-align: top;\n",
       "    }\n",
       "\n",
       "    .dataframe thead th {\n",
       "        text-align: right;\n",
       "    }\n",
       "</style>\n",
       "<table border=\"1\" class=\"dataframe\">\n",
       "  <thead>\n",
       "    <tr style=\"text-align: right;\">\n",
       "      <th></th>\n",
       "      <th>JobOccupation_Construction and Extractive Trades Occupation</th>\n",
       "      <th>JobOccupation_Executive, Administrative, and Managerial Occupations</th>\n",
       "      <th>JobOccupation_Machine Operators, Assemblers, and Inspectors</th>\n",
       "      <th>JobOccupation_Mechanics and Repairers Occupation</th>\n",
       "      <th>JobOccupation_Military</th>\n",
       "      <th>JobOccupation_Not_In_LaborForce</th>\n",
       "      <th>JobOccupation_Other Agricultural and Related Occupations</th>\n",
       "      <th>JobOccupation_Precision Production Occupations</th>\n",
       "      <th>JobOccupation_Professional Specialty Occupations</th>\n",
       "      <th>JobOccupation_Protective Service Occupations</th>\n",
       "      <th>JobOccupation_Sales Occupations</th>\n",
       "      <th>JobOccupation_Service Occupations, Except Protective and Household</th>\n",
       "      <th>JobOccupation_Technicians and Related Support Occupations</th>\n",
       "      <th>JobOccupation_Transportation and Material Moving Occupations</th>\n",
       "    </tr>\n",
       "  </thead>\n",
       "  <tbody>\n",
       "    <tr>\n",
       "      <th>0</th>\n",
       "      <td>0.0</td>\n",
       "      <td>0.0</td>\n",
       "      <td>0.0</td>\n",
       "      <td>0.0</td>\n",
       "      <td>0.0</td>\n",
       "      <td>0.0</td>\n",
       "      <td>0.0</td>\n",
       "      <td>0.0</td>\n",
       "      <td>0.0</td>\n",
       "      <td>0.0</td>\n",
       "      <td>0.0</td>\n",
       "      <td>0.0</td>\n",
       "      <td>0.0</td>\n",
       "      <td>1.0</td>\n",
       "    </tr>\n",
       "    <tr>\n",
       "      <th>1</th>\n",
       "      <td>0.0</td>\n",
       "      <td>0.0</td>\n",
       "      <td>0.0</td>\n",
       "      <td>0.0</td>\n",
       "      <td>0.0</td>\n",
       "      <td>1.0</td>\n",
       "      <td>0.0</td>\n",
       "      <td>0.0</td>\n",
       "      <td>0.0</td>\n",
       "      <td>0.0</td>\n",
       "      <td>0.0</td>\n",
       "      <td>0.0</td>\n",
       "      <td>0.0</td>\n",
       "      <td>0.0</td>\n",
       "    </tr>\n",
       "    <tr>\n",
       "      <th>2</th>\n",
       "      <td>0.0</td>\n",
       "      <td>0.0</td>\n",
       "      <td>0.0</td>\n",
       "      <td>0.0</td>\n",
       "      <td>0.0</td>\n",
       "      <td>0.0</td>\n",
       "      <td>0.0</td>\n",
       "      <td>0.0</td>\n",
       "      <td>0.0</td>\n",
       "      <td>0.0</td>\n",
       "      <td>0.0</td>\n",
       "      <td>0.0</td>\n",
       "      <td>0.0</td>\n",
       "      <td>0.0</td>\n",
       "    </tr>\n",
       "    <tr>\n",
       "      <th>3</th>\n",
       "      <td>1.0</td>\n",
       "      <td>0.0</td>\n",
       "      <td>0.0</td>\n",
       "      <td>0.0</td>\n",
       "      <td>0.0</td>\n",
       "      <td>0.0</td>\n",
       "      <td>0.0</td>\n",
       "      <td>0.0</td>\n",
       "      <td>0.0</td>\n",
       "      <td>0.0</td>\n",
       "      <td>0.0</td>\n",
       "      <td>0.0</td>\n",
       "      <td>0.0</td>\n",
       "      <td>0.0</td>\n",
       "    </tr>\n",
       "    <tr>\n",
       "      <th>4</th>\n",
       "      <td>0.0</td>\n",
       "      <td>0.0</td>\n",
       "      <td>0.0</td>\n",
       "      <td>0.0</td>\n",
       "      <td>0.0</td>\n",
       "      <td>0.0</td>\n",
       "      <td>0.0</td>\n",
       "      <td>0.0</td>\n",
       "      <td>1.0</td>\n",
       "      <td>0.0</td>\n",
       "      <td>0.0</td>\n",
       "      <td>0.0</td>\n",
       "      <td>0.0</td>\n",
       "      <td>0.0</td>\n",
       "    </tr>\n",
       "  </tbody>\n",
       "</table>\n",
       "</div>\n",
       "      <button class=\"colab-df-convert\" onclick=\"convertToInteractive('df-cc3cec53-d195-473e-b3ac-8a74c876200e')\"\n",
       "              title=\"Convert this dataframe to an interactive table.\"\n",
       "              style=\"display:none;\">\n",
       "        \n",
       "  <svg xmlns=\"http://www.w3.org/2000/svg\" height=\"24px\"viewBox=\"0 0 24 24\"\n",
       "       width=\"24px\">\n",
       "    <path d=\"M0 0h24v24H0V0z\" fill=\"none\"/>\n",
       "    <path d=\"M18.56 5.44l.94 2.06.94-2.06 2.06-.94-2.06-.94-.94-2.06-.94 2.06-2.06.94zm-11 1L8.5 8.5l.94-2.06 2.06-.94-2.06-.94L8.5 2.5l-.94 2.06-2.06.94zm10 10l.94 2.06.94-2.06 2.06-.94-2.06-.94-.94-2.06-.94 2.06-2.06.94z\"/><path d=\"M17.41 7.96l-1.37-1.37c-.4-.4-.92-.59-1.43-.59-.52 0-1.04.2-1.43.59L10.3 9.45l-7.72 7.72c-.78.78-.78 2.05 0 2.83L4 21.41c.39.39.9.59 1.41.59.51 0 1.02-.2 1.41-.59l7.78-7.78 2.81-2.81c.8-.78.8-2.07 0-2.86zM5.41 20L4 18.59l7.72-7.72 1.47 1.35L5.41 20z\"/>\n",
       "  </svg>\n",
       "      </button>\n",
       "      \n",
       "  <style>\n",
       "    .colab-df-container {\n",
       "      display:flex;\n",
       "      flex-wrap:wrap;\n",
       "      gap: 12px;\n",
       "    }\n",
       "\n",
       "    .colab-df-convert {\n",
       "      background-color: #E8F0FE;\n",
       "      border: none;\n",
       "      border-radius: 50%;\n",
       "      cursor: pointer;\n",
       "      display: none;\n",
       "      fill: #1967D2;\n",
       "      height: 32px;\n",
       "      padding: 0 0 0 0;\n",
       "      width: 32px;\n",
       "    }\n",
       "\n",
       "    .colab-df-convert:hover {\n",
       "      background-color: #E2EBFA;\n",
       "      box-shadow: 0px 1px 2px rgba(60, 64, 67, 0.3), 0px 1px 3px 1px rgba(60, 64, 67, 0.15);\n",
       "      fill: #174EA6;\n",
       "    }\n",
       "\n",
       "    [theme=dark] .colab-df-convert {\n",
       "      background-color: #3B4455;\n",
       "      fill: #D2E3FC;\n",
       "    }\n",
       "\n",
       "    [theme=dark] .colab-df-convert:hover {\n",
       "      background-color: #434B5C;\n",
       "      box-shadow: 0px 1px 3px 1px rgba(0, 0, 0, 0.15);\n",
       "      filter: drop-shadow(0px 1px 2px rgba(0, 0, 0, 0.3));\n",
       "      fill: #FFFFFF;\n",
       "    }\n",
       "  </style>\n",
       "\n",
       "      <script>\n",
       "        const buttonEl =\n",
       "          document.querySelector('#df-cc3cec53-d195-473e-b3ac-8a74c876200e button.colab-df-convert');\n",
       "        buttonEl.style.display =\n",
       "          google.colab.kernel.accessAllowed ? 'block' : 'none';\n",
       "\n",
       "        async function convertToInteractive(key) {\n",
       "          const element = document.querySelector('#df-cc3cec53-d195-473e-b3ac-8a74c876200e');\n",
       "          const dataTable =\n",
       "            await google.colab.kernel.invokeFunction('convertToInteractive',\n",
       "                                                     [key], {});\n",
       "          if (!dataTable) return;\n",
       "\n",
       "          const docLinkHtml = 'Like what you see? Visit the ' +\n",
       "            '<a target=\"_blank\" href=https://colab.research.google.com/notebooks/data_table.ipynb>data table notebook</a>'\n",
       "            + ' to learn more about interactive tables.';\n",
       "          element.innerHTML = '';\n",
       "          dataTable['output_type'] = 'display_data';\n",
       "          await google.colab.output.renderOutput(dataTable, element);\n",
       "          const docLink = document.createElement('div');\n",
       "          docLink.innerHTML = docLinkHtml;\n",
       "          element.appendChild(docLink);\n",
       "        }\n",
       "      </script>\n",
       "    </div>\n",
       "  </div>\n",
       "  "
      ],
      "text/plain": [
       "   JobOccupation_Construction and Extractive Trades Occupation  \\\n",
       "0                                                0.0             \n",
       "1                                                0.0             \n",
       "2                                                0.0             \n",
       "3                                                1.0             \n",
       "4                                                0.0             \n",
       "\n",
       "   JobOccupation_Executive, Administrative, and Managerial Occupations  \\\n",
       "0                                                0.0                     \n",
       "1                                                0.0                     \n",
       "2                                                0.0                     \n",
       "3                                                0.0                     \n",
       "4                                                0.0                     \n",
       "\n",
       "   JobOccupation_Machine Operators, Assemblers, and Inspectors  \\\n",
       "0                                                0.0             \n",
       "1                                                0.0             \n",
       "2                                                0.0             \n",
       "3                                                0.0             \n",
       "4                                                0.0             \n",
       "\n",
       "   JobOccupation_Mechanics and Repairers Occupation  JobOccupation_Military  \\\n",
       "0                                               0.0                     0.0   \n",
       "1                                               0.0                     0.0   \n",
       "2                                               0.0                     0.0   \n",
       "3                                               0.0                     0.0   \n",
       "4                                               0.0                     0.0   \n",
       "\n",
       "   JobOccupation_Not_In_LaborForce  \\\n",
       "0                              0.0   \n",
       "1                              1.0   \n",
       "2                              0.0   \n",
       "3                              0.0   \n",
       "4                              0.0   \n",
       "\n",
       "   JobOccupation_Other Agricultural and Related Occupations  \\\n",
       "0                                                0.0          \n",
       "1                                                0.0          \n",
       "2                                                0.0          \n",
       "3                                                0.0          \n",
       "4                                                0.0          \n",
       "\n",
       "   JobOccupation_Precision Production Occupations  \\\n",
       "0                                             0.0   \n",
       "1                                             0.0   \n",
       "2                                             0.0   \n",
       "3                                             0.0   \n",
       "4                                             0.0   \n",
       "\n",
       "   JobOccupation_Professional Specialty Occupations  \\\n",
       "0                                               0.0   \n",
       "1                                               0.0   \n",
       "2                                               0.0   \n",
       "3                                               0.0   \n",
       "4                                               1.0   \n",
       "\n",
       "   JobOccupation_Protective Service Occupations  \\\n",
       "0                                           0.0   \n",
       "1                                           0.0   \n",
       "2                                           0.0   \n",
       "3                                           0.0   \n",
       "4                                           0.0   \n",
       "\n",
       "   JobOccupation_Sales Occupations  \\\n",
       "0                              0.0   \n",
       "1                              0.0   \n",
       "2                              0.0   \n",
       "3                              0.0   \n",
       "4                              0.0   \n",
       "\n",
       "   JobOccupation_Service Occupations, Except Protective and Household  \\\n",
       "0                                                0.0                    \n",
       "1                                                0.0                    \n",
       "2                                                0.0                    \n",
       "3                                                0.0                    \n",
       "4                                                0.0                    \n",
       "\n",
       "   JobOccupation_Technicians and Related Support Occupations  \\\n",
       "0                                                0.0           \n",
       "1                                                0.0           \n",
       "2                                                0.0           \n",
       "3                                                0.0           \n",
       "4                                                0.0           \n",
       "\n",
       "   JobOccupation_Transportation and Material Moving Occupations  \n",
       "0                                                1.0             \n",
       "1                                                0.0             \n",
       "2                                                0.0             \n",
       "3                                                0.0             \n",
       "4                                                0.0             "
      ]
     },
     "execution_count": 391,
     "metadata": {},
     "output_type": "execute_result"
    }
   ],
   "source": [
    "#drop admin support occupations\n",
    "JobOccupation = pd.DataFrame(\n",
    "    ohe.transform(data[['JobOccupation']]).todense(),\n",
    "    columns = ohe.get_feature_names_out(),\n",
    "    index = data.index\n",
    ")\n",
    "\n",
    "JobOccupation.head()"
   ]
  },
  {
   "cell_type": "code",
   "execution_count": null,
   "id": "9uncUh8VyLpH",
   "metadata": {
    "colab": {
     "base_uri": "https://localhost:8080/"
    },
    "executionInfo": {
     "elapsed": 1591,
     "status": "ok",
     "timestamp": 1665778537478,
     "user": {
      "displayName": "Derek Hu",
      "userId": "14137525769356790466"
     },
     "user_tz": 420
    },
    "id": "9uncUh8VyLpH",
    "outputId": "21344b6c-7efa-440d-b3db-71e007b4879c"
   },
   "outputs": [
    {
     "data": {
      "text/plain": [
       "OneHotEncoder(drop='first', handle_unknown='ignore')"
      ]
     },
     "execution_count": 392,
     "metadata": {},
     "output_type": "execute_result"
    }
   ],
   "source": [
    "#Use one_hot_encoder\n",
    "from sklearn.preprocessing import OneHotEncoder\n",
    "ohe = OneHotEncoder(handle_unknown='ignore', drop='first')\n",
    "ohe.fit(data[['NoBalancedMeals']])"
   ]
  },
  {
   "cell_type": "code",
   "execution_count": null,
   "id": "kFLpTdTbyQcT",
   "metadata": {
    "colab": {
     "base_uri": "https://localhost:8080/",
     "height": 206
    },
    "executionInfo": {
     "elapsed": 257,
     "status": "ok",
     "timestamp": 1665778539334,
     "user": {
      "displayName": "Derek Hu",
      "userId": "14137525769356790466"
     },
     "user_tz": 420
    },
    "id": "kFLpTdTbyQcT",
    "outputId": "9ff8070b-eb96-4d06-f078-fb150c292b8b"
   },
   "outputs": [
    {
     "data": {
      "text/html": [
       "\n",
       "  <div id=\"df-843e381a-193e-458f-98ff-3995beffd60c\">\n",
       "    <div class=\"colab-df-container\">\n",
       "      <div>\n",
       "<style scoped>\n",
       "    .dataframe tbody tr th:only-of-type {\n",
       "        vertical-align: middle;\n",
       "    }\n",
       "\n",
       "    .dataframe tbody tr th {\n",
       "        vertical-align: top;\n",
       "    }\n",
       "\n",
       "    .dataframe thead th {\n",
       "        text-align: right;\n",
       "    }\n",
       "</style>\n",
       "<table border=\"1\" class=\"dataframe\">\n",
       "  <thead>\n",
       "    <tr style=\"text-align: right;\">\n",
       "      <th></th>\n",
       "      <th>NoBalancedMeals_Often True</th>\n",
       "      <th>NoBalancedMeals_Sometimes True</th>\n",
       "    </tr>\n",
       "  </thead>\n",
       "  <tbody>\n",
       "    <tr>\n",
       "      <th>0</th>\n",
       "      <td>0.0</td>\n",
       "      <td>0.0</td>\n",
       "    </tr>\n",
       "    <tr>\n",
       "      <th>1</th>\n",
       "      <td>0.0</td>\n",
       "      <td>0.0</td>\n",
       "    </tr>\n",
       "    <tr>\n",
       "      <th>2</th>\n",
       "      <td>0.0</td>\n",
       "      <td>0.0</td>\n",
       "    </tr>\n",
       "    <tr>\n",
       "      <th>3</th>\n",
       "      <td>0.0</td>\n",
       "      <td>0.0</td>\n",
       "    </tr>\n",
       "    <tr>\n",
       "      <th>4</th>\n",
       "      <td>0.0</td>\n",
       "      <td>0.0</td>\n",
       "    </tr>\n",
       "  </tbody>\n",
       "</table>\n",
       "</div>\n",
       "      <button class=\"colab-df-convert\" onclick=\"convertToInteractive('df-843e381a-193e-458f-98ff-3995beffd60c')\"\n",
       "              title=\"Convert this dataframe to an interactive table.\"\n",
       "              style=\"display:none;\">\n",
       "        \n",
       "  <svg xmlns=\"http://www.w3.org/2000/svg\" height=\"24px\"viewBox=\"0 0 24 24\"\n",
       "       width=\"24px\">\n",
       "    <path d=\"M0 0h24v24H0V0z\" fill=\"none\"/>\n",
       "    <path d=\"M18.56 5.44l.94 2.06.94-2.06 2.06-.94-2.06-.94-.94-2.06-.94 2.06-2.06.94zm-11 1L8.5 8.5l.94-2.06 2.06-.94-2.06-.94L8.5 2.5l-.94 2.06-2.06.94zm10 10l.94 2.06.94-2.06 2.06-.94-2.06-.94-.94-2.06-.94 2.06-2.06.94z\"/><path d=\"M17.41 7.96l-1.37-1.37c-.4-.4-.92-.59-1.43-.59-.52 0-1.04.2-1.43.59L10.3 9.45l-7.72 7.72c-.78.78-.78 2.05 0 2.83L4 21.41c.39.39.9.59 1.41.59.51 0 1.02-.2 1.41-.59l7.78-7.78 2.81-2.81c.8-.78.8-2.07 0-2.86zM5.41 20L4 18.59l7.72-7.72 1.47 1.35L5.41 20z\"/>\n",
       "  </svg>\n",
       "      </button>\n",
       "      \n",
       "  <style>\n",
       "    .colab-df-container {\n",
       "      display:flex;\n",
       "      flex-wrap:wrap;\n",
       "      gap: 12px;\n",
       "    }\n",
       "\n",
       "    .colab-df-convert {\n",
       "      background-color: #E8F0FE;\n",
       "      border: none;\n",
       "      border-radius: 50%;\n",
       "      cursor: pointer;\n",
       "      display: none;\n",
       "      fill: #1967D2;\n",
       "      height: 32px;\n",
       "      padding: 0 0 0 0;\n",
       "      width: 32px;\n",
       "    }\n",
       "\n",
       "    .colab-df-convert:hover {\n",
       "      background-color: #E2EBFA;\n",
       "      box-shadow: 0px 1px 2px rgba(60, 64, 67, 0.3), 0px 1px 3px 1px rgba(60, 64, 67, 0.15);\n",
       "      fill: #174EA6;\n",
       "    }\n",
       "\n",
       "    [theme=dark] .colab-df-convert {\n",
       "      background-color: #3B4455;\n",
       "      fill: #D2E3FC;\n",
       "    }\n",
       "\n",
       "    [theme=dark] .colab-df-convert:hover {\n",
       "      background-color: #434B5C;\n",
       "      box-shadow: 0px 1px 3px 1px rgba(0, 0, 0, 0.15);\n",
       "      filter: drop-shadow(0px 1px 2px rgba(0, 0, 0, 0.3));\n",
       "      fill: #FFFFFF;\n",
       "    }\n",
       "  </style>\n",
       "\n",
       "      <script>\n",
       "        const buttonEl =\n",
       "          document.querySelector('#df-843e381a-193e-458f-98ff-3995beffd60c button.colab-df-convert');\n",
       "        buttonEl.style.display =\n",
       "          google.colab.kernel.accessAllowed ? 'block' : 'none';\n",
       "\n",
       "        async function convertToInteractive(key) {\n",
       "          const element = document.querySelector('#df-843e381a-193e-458f-98ff-3995beffd60c');\n",
       "          const dataTable =\n",
       "            await google.colab.kernel.invokeFunction('convertToInteractive',\n",
       "                                                     [key], {});\n",
       "          if (!dataTable) return;\n",
       "\n",
       "          const docLinkHtml = 'Like what you see? Visit the ' +\n",
       "            '<a target=\"_blank\" href=https://colab.research.google.com/notebooks/data_table.ipynb>data table notebook</a>'\n",
       "            + ' to learn more about interactive tables.';\n",
       "          element.innerHTML = '';\n",
       "          dataTable['output_type'] = 'display_data';\n",
       "          await google.colab.output.renderOutput(dataTable, element);\n",
       "          const docLink = document.createElement('div');\n",
       "          docLink.innerHTML = docLinkHtml;\n",
       "          element.appendChild(docLink);\n",
       "        }\n",
       "      </script>\n",
       "    </div>\n",
       "  </div>\n",
       "  "
      ],
      "text/plain": [
       "   NoBalancedMeals_Often True  NoBalancedMeals_Sometimes True\n",
       "0                         0.0                             0.0\n",
       "1                         0.0                             0.0\n",
       "2                         0.0                             0.0\n",
       "3                         0.0                             0.0\n",
       "4                         0.0                             0.0"
      ]
     },
     "execution_count": 393,
     "metadata": {},
     "output_type": "execute_result"
    }
   ],
   "source": [
    "#never true\n",
    "NoBalancedMeals = pd.DataFrame(\n",
    "    ohe.transform(data[['NoBalancedMeals']]).todense(),\n",
    "    columns = ohe.get_feature_names_out(),\n",
    "    index = data.index\n",
    ")\n",
    "\n",
    "NoBalancedMeals.head()"
   ]
  },
  {
   "cell_type": "code",
   "execution_count": null,
   "id": "vildoYvuyUvL",
   "metadata": {
    "colab": {
     "base_uri": "https://localhost:8080/"
    },
    "executionInfo": {
     "elapsed": 32,
     "status": "ok",
     "timestamp": 1665778539335,
     "user": {
      "displayName": "Derek Hu",
      "userId": "14137525769356790466"
     },
     "user_tz": 420
    },
    "id": "vildoYvuyUvL",
    "outputId": "9a743558-3e7f-45d0-cbee-ba71208d37d0"
   },
   "outputs": [
    {
     "data": {
      "text/plain": [
       "OneHotEncoder(drop='first', handle_unknown='ignore')"
      ]
     },
     "execution_count": 394,
     "metadata": {},
     "output_type": "execute_result"
    }
   ],
   "source": [
    "#Use one_hot_encoder\n",
    "from sklearn.preprocessing import OneHotEncoder\n",
    "ohe = OneHotEncoder(handle_unknown='ignore', drop='first')\n",
    "ohe.fit(data[['Ownership_home']])"
   ]
  },
  {
   "cell_type": "code",
   "execution_count": null,
   "id": "lyizclZNyZV2",
   "metadata": {
    "colab": {
     "base_uri": "https://localhost:8080/",
     "height": 206
    },
    "executionInfo": {
     "elapsed": 21,
     "status": "ok",
     "timestamp": 1665778539337,
     "user": {
      "displayName": "Derek Hu",
      "userId": "14137525769356790466"
     },
     "user_tz": 420
    },
    "id": "lyizclZNyZV2",
    "outputId": "a65c6f5b-2c5a-4198-ad4b-8facd7a25535"
   },
   "outputs": [
    {
     "data": {
      "text/html": [
       "\n",
       "  <div id=\"df-ea96f1b5-9ac5-4e46-98a7-4808154e7bb1\">\n",
       "    <div class=\"colab-df-container\">\n",
       "      <div>\n",
       "<style scoped>\n",
       "    .dataframe tbody tr th:only-of-type {\n",
       "        vertical-align: middle;\n",
       "    }\n",
       "\n",
       "    .dataframe tbody tr th {\n",
       "        vertical-align: top;\n",
       "    }\n",
       "\n",
       "    .dataframe thead th {\n",
       "        text-align: right;\n",
       "    }\n",
       "</style>\n",
       "<table border=\"1\" class=\"dataframe\">\n",
       "  <thead>\n",
       "    <tr style=\"text-align: right;\">\n",
       "      <th></th>\n",
       "      <th>Ownership_home_yes_ownership</th>\n",
       "    </tr>\n",
       "  </thead>\n",
       "  <tbody>\n",
       "    <tr>\n",
       "      <th>0</th>\n",
       "      <td>0.0</td>\n",
       "    </tr>\n",
       "    <tr>\n",
       "      <th>1</th>\n",
       "      <td>0.0</td>\n",
       "    </tr>\n",
       "    <tr>\n",
       "      <th>2</th>\n",
       "      <td>0.0</td>\n",
       "    </tr>\n",
       "    <tr>\n",
       "      <th>3</th>\n",
       "      <td>1.0</td>\n",
       "    </tr>\n",
       "    <tr>\n",
       "      <th>4</th>\n",
       "      <td>0.0</td>\n",
       "    </tr>\n",
       "  </tbody>\n",
       "</table>\n",
       "</div>\n",
       "      <button class=\"colab-df-convert\" onclick=\"convertToInteractive('df-ea96f1b5-9ac5-4e46-98a7-4808154e7bb1')\"\n",
       "              title=\"Convert this dataframe to an interactive table.\"\n",
       "              style=\"display:none;\">\n",
       "        \n",
       "  <svg xmlns=\"http://www.w3.org/2000/svg\" height=\"24px\"viewBox=\"0 0 24 24\"\n",
       "       width=\"24px\">\n",
       "    <path d=\"M0 0h24v24H0V0z\" fill=\"none\"/>\n",
       "    <path d=\"M18.56 5.44l.94 2.06.94-2.06 2.06-.94-2.06-.94-.94-2.06-.94 2.06-2.06.94zm-11 1L8.5 8.5l.94-2.06 2.06-.94-2.06-.94L8.5 2.5l-.94 2.06-2.06.94zm10 10l.94 2.06.94-2.06 2.06-.94-2.06-.94-.94-2.06-.94 2.06-2.06.94z\"/><path d=\"M17.41 7.96l-1.37-1.37c-.4-.4-.92-.59-1.43-.59-.52 0-1.04.2-1.43.59L10.3 9.45l-7.72 7.72c-.78.78-.78 2.05 0 2.83L4 21.41c.39.39.9.59 1.41.59.51 0 1.02-.2 1.41-.59l7.78-7.78 2.81-2.81c.8-.78.8-2.07 0-2.86zM5.41 20L4 18.59l7.72-7.72 1.47 1.35L5.41 20z\"/>\n",
       "  </svg>\n",
       "      </button>\n",
       "      \n",
       "  <style>\n",
       "    .colab-df-container {\n",
       "      display:flex;\n",
       "      flex-wrap:wrap;\n",
       "      gap: 12px;\n",
       "    }\n",
       "\n",
       "    .colab-df-convert {\n",
       "      background-color: #E8F0FE;\n",
       "      border: none;\n",
       "      border-radius: 50%;\n",
       "      cursor: pointer;\n",
       "      display: none;\n",
       "      fill: #1967D2;\n",
       "      height: 32px;\n",
       "      padding: 0 0 0 0;\n",
       "      width: 32px;\n",
       "    }\n",
       "\n",
       "    .colab-df-convert:hover {\n",
       "      background-color: #E2EBFA;\n",
       "      box-shadow: 0px 1px 2px rgba(60, 64, 67, 0.3), 0px 1px 3px 1px rgba(60, 64, 67, 0.15);\n",
       "      fill: #174EA6;\n",
       "    }\n",
       "\n",
       "    [theme=dark] .colab-df-convert {\n",
       "      background-color: #3B4455;\n",
       "      fill: #D2E3FC;\n",
       "    }\n",
       "\n",
       "    [theme=dark] .colab-df-convert:hover {\n",
       "      background-color: #434B5C;\n",
       "      box-shadow: 0px 1px 3px 1px rgba(0, 0, 0, 0.15);\n",
       "      filter: drop-shadow(0px 1px 2px rgba(0, 0, 0, 0.3));\n",
       "      fill: #FFFFFF;\n",
       "    }\n",
       "  </style>\n",
       "\n",
       "      <script>\n",
       "        const buttonEl =\n",
       "          document.querySelector('#df-ea96f1b5-9ac5-4e46-98a7-4808154e7bb1 button.colab-df-convert');\n",
       "        buttonEl.style.display =\n",
       "          google.colab.kernel.accessAllowed ? 'block' : 'none';\n",
       "\n",
       "        async function convertToInteractive(key) {\n",
       "          const element = document.querySelector('#df-ea96f1b5-9ac5-4e46-98a7-4808154e7bb1');\n",
       "          const dataTable =\n",
       "            await google.colab.kernel.invokeFunction('convertToInteractive',\n",
       "                                                     [key], {});\n",
       "          if (!dataTable) return;\n",
       "\n",
       "          const docLinkHtml = 'Like what you see? Visit the ' +\n",
       "            '<a target=\"_blank\" href=https://colab.research.google.com/notebooks/data_table.ipynb>data table notebook</a>'\n",
       "            + ' to learn more about interactive tables.';\n",
       "          element.innerHTML = '';\n",
       "          dataTable['output_type'] = 'display_data';\n",
       "          await google.colab.output.renderOutput(dataTable, element);\n",
       "          const docLink = document.createElement('div');\n",
       "          docLink.innerHTML = docLinkHtml;\n",
       "          element.appendChild(docLink);\n",
       "        }\n",
       "      </script>\n",
       "    </div>\n",
       "  </div>\n",
       "  "
      ],
      "text/plain": [
       "   Ownership_home_yes_ownership\n",
       "0                           0.0\n",
       "1                           0.0\n",
       "2                           0.0\n",
       "3                           1.0\n",
       "4                           0.0"
      ]
     },
     "execution_count": 395,
     "metadata": {},
     "output_type": "execute_result"
    }
   ],
   "source": [
    "#no home ownership\n",
    "Ownership_home = pd.DataFrame(\n",
    "    ohe.transform(data[['Ownership_home']]).todense(),\n",
    "    columns = ohe.get_feature_names_out(),\n",
    "    index = data.index\n",
    ")\n",
    "\n",
    "Ownership_home.head()"
   ]
  },
  {
   "cell_type": "code",
   "execution_count": null,
   "id": "XvDyIxJuyfPG",
   "metadata": {
    "colab": {
     "base_uri": "https://localhost:8080/"
    },
    "executionInfo": {
     "elapsed": 40,
     "status": "ok",
     "timestamp": 1665778542810,
     "user": {
      "displayName": "Derek Hu",
      "userId": "14137525769356790466"
     },
     "user_tz": 420
    },
    "id": "XvDyIxJuyfPG",
    "outputId": "c0af1f84-bc25-494c-a128-e861137c1fe3"
   },
   "outputs": [
    {
     "data": {
      "text/plain": [
       "OneHotEncoder(drop='first', handle_unknown='ignore')"
      ]
     },
     "execution_count": 396,
     "metadata": {},
     "output_type": "execute_result"
    }
   ],
   "source": [
    "#Use one_hot_encoder\n",
    "from sklearn.preprocessing import OneHotEncoder\n",
    "ohe = OneHotEncoder(handle_unknown='ignore', drop='first')\n",
    "ohe.fit(data[['highchol']])"
   ]
  },
  {
   "cell_type": "code",
   "execution_count": null,
   "id": "bn30HIHTykNp",
   "metadata": {
    "colab": {
     "base_uri": "https://localhost:8080/",
     "height": 206
    },
    "executionInfo": {
     "elapsed": 31,
     "status": "ok",
     "timestamp": 1665778542811,
     "user": {
      "displayName": "Derek Hu",
      "userId": "14137525769356790466"
     },
     "user_tz": 420
    },
    "id": "bn30HIHTykNp",
    "outputId": "f03ecb5b-465a-499b-cfc9-1b3c02736d67"
   },
   "outputs": [
    {
     "data": {
      "text/html": [
       "\n",
       "  <div id=\"df-482848fa-3027-42bd-8d7a-63c749fccc6a\">\n",
       "    <div class=\"colab-df-container\">\n",
       "      <div>\n",
       "<style scoped>\n",
       "    .dataframe tbody tr th:only-of-type {\n",
       "        vertical-align: middle;\n",
       "    }\n",
       "\n",
       "    .dataframe tbody tr th {\n",
       "        vertical-align: top;\n",
       "    }\n",
       "\n",
       "    .dataframe thead th {\n",
       "        text-align: right;\n",
       "    }\n",
       "</style>\n",
       "<table border=\"1\" class=\"dataframe\">\n",
       "  <thead>\n",
       "    <tr style=\"text-align: right;\">\n",
       "      <th></th>\n",
       "      <th>highchol_highchol</th>\n",
       "    </tr>\n",
       "  </thead>\n",
       "  <tbody>\n",
       "    <tr>\n",
       "      <th>0</th>\n",
       "      <td>0.0</td>\n",
       "    </tr>\n",
       "    <tr>\n",
       "      <th>1</th>\n",
       "      <td>0.0</td>\n",
       "    </tr>\n",
       "    <tr>\n",
       "      <th>2</th>\n",
       "      <td>0.0</td>\n",
       "    </tr>\n",
       "    <tr>\n",
       "      <th>3</th>\n",
       "      <td>1.0</td>\n",
       "    </tr>\n",
       "    <tr>\n",
       "      <th>4</th>\n",
       "      <td>0.0</td>\n",
       "    </tr>\n",
       "  </tbody>\n",
       "</table>\n",
       "</div>\n",
       "      <button class=\"colab-df-convert\" onclick=\"convertToInteractive('df-482848fa-3027-42bd-8d7a-63c749fccc6a')\"\n",
       "              title=\"Convert this dataframe to an interactive table.\"\n",
       "              style=\"display:none;\">\n",
       "        \n",
       "  <svg xmlns=\"http://www.w3.org/2000/svg\" height=\"24px\"viewBox=\"0 0 24 24\"\n",
       "       width=\"24px\">\n",
       "    <path d=\"M0 0h24v24H0V0z\" fill=\"none\"/>\n",
       "    <path d=\"M18.56 5.44l.94 2.06.94-2.06 2.06-.94-2.06-.94-.94-2.06-.94 2.06-2.06.94zm-11 1L8.5 8.5l.94-2.06 2.06-.94-2.06-.94L8.5 2.5l-.94 2.06-2.06.94zm10 10l.94 2.06.94-2.06 2.06-.94-2.06-.94-.94-2.06-.94 2.06-2.06.94z\"/><path d=\"M17.41 7.96l-1.37-1.37c-.4-.4-.92-.59-1.43-.59-.52 0-1.04.2-1.43.59L10.3 9.45l-7.72 7.72c-.78.78-.78 2.05 0 2.83L4 21.41c.39.39.9.59 1.41.59.51 0 1.02-.2 1.41-.59l7.78-7.78 2.81-2.81c.8-.78.8-2.07 0-2.86zM5.41 20L4 18.59l7.72-7.72 1.47 1.35L5.41 20z\"/>\n",
       "  </svg>\n",
       "      </button>\n",
       "      \n",
       "  <style>\n",
       "    .colab-df-container {\n",
       "      display:flex;\n",
       "      flex-wrap:wrap;\n",
       "      gap: 12px;\n",
       "    }\n",
       "\n",
       "    .colab-df-convert {\n",
       "      background-color: #E8F0FE;\n",
       "      border: none;\n",
       "      border-radius: 50%;\n",
       "      cursor: pointer;\n",
       "      display: none;\n",
       "      fill: #1967D2;\n",
       "      height: 32px;\n",
       "      padding: 0 0 0 0;\n",
       "      width: 32px;\n",
       "    }\n",
       "\n",
       "    .colab-df-convert:hover {\n",
       "      background-color: #E2EBFA;\n",
       "      box-shadow: 0px 1px 2px rgba(60, 64, 67, 0.3), 0px 1px 3px 1px rgba(60, 64, 67, 0.15);\n",
       "      fill: #174EA6;\n",
       "    }\n",
       "\n",
       "    [theme=dark] .colab-df-convert {\n",
       "      background-color: #3B4455;\n",
       "      fill: #D2E3FC;\n",
       "    }\n",
       "\n",
       "    [theme=dark] .colab-df-convert:hover {\n",
       "      background-color: #434B5C;\n",
       "      box-shadow: 0px 1px 3px 1px rgba(0, 0, 0, 0.15);\n",
       "      filter: drop-shadow(0px 1px 2px rgba(0, 0, 0, 0.3));\n",
       "      fill: #FFFFFF;\n",
       "    }\n",
       "  </style>\n",
       "\n",
       "      <script>\n",
       "        const buttonEl =\n",
       "          document.querySelector('#df-482848fa-3027-42bd-8d7a-63c749fccc6a button.colab-df-convert');\n",
       "        buttonEl.style.display =\n",
       "          google.colab.kernel.accessAllowed ? 'block' : 'none';\n",
       "\n",
       "        async function convertToInteractive(key) {\n",
       "          const element = document.querySelector('#df-482848fa-3027-42bd-8d7a-63c749fccc6a');\n",
       "          const dataTable =\n",
       "            await google.colab.kernel.invokeFunction('convertToInteractive',\n",
       "                                                     [key], {});\n",
       "          if (!dataTable) return;\n",
       "\n",
       "          const docLinkHtml = 'Like what you see? Visit the ' +\n",
       "            '<a target=\"_blank\" href=https://colab.research.google.com/notebooks/data_table.ipynb>data table notebook</a>'\n",
       "            + ' to learn more about interactive tables.';\n",
       "          element.innerHTML = '';\n",
       "          dataTable['output_type'] = 'display_data';\n",
       "          await google.colab.output.renderOutput(dataTable, element);\n",
       "          const docLink = document.createElement('div');\n",
       "          docLink.innerHTML = docLinkHtml;\n",
       "          element.appendChild(docLink);\n",
       "        }\n",
       "      </script>\n",
       "    </div>\n",
       "  </div>\n",
       "  "
      ],
      "text/plain": [
       "   highchol_highchol\n",
       "0                0.0\n",
       "1                0.0\n",
       "2                0.0\n",
       "3                1.0\n",
       "4                0.0"
      ]
     },
     "execution_count": 397,
     "metadata": {},
     "output_type": "execute_result"
    }
   ],
   "source": [
    "#no high chol\n",
    "highchol = pd.DataFrame(\n",
    "    ohe.transform(data[['highchol']]).todense(),\n",
    "    columns = ohe.get_feature_names_out(),\n",
    "    index = data.index\n",
    ")\n",
    "\n",
    "highchol.head()"
   ]
  },
  {
   "cell_type": "code",
   "execution_count": null,
   "id": "3boPlM_3ynmf",
   "metadata": {
    "colab": {
     "base_uri": "https://localhost:8080/"
    },
    "executionInfo": {
     "elapsed": 23,
     "status": "ok",
     "timestamp": 1665778542811,
     "user": {
      "displayName": "Derek Hu",
      "userId": "14137525769356790466"
     },
     "user_tz": 420
    },
    "id": "3boPlM_3ynmf",
    "outputId": "7280725b-0345-4127-f910-b5d83aaa94f1"
   },
   "outputs": [
    {
     "data": {
      "text/plain": [
       "OneHotEncoder(drop='first', handle_unknown='ignore')"
      ]
     },
     "execution_count": 398,
     "metadata": {},
     "output_type": "execute_result"
    }
   ],
   "source": [
    "#Use one_hot_encoder\n",
    "from sklearn.preprocessing import OneHotEncoder\n",
    "ohe = OneHotEncoder(handle_unknown='ignore', drop='first')\n",
    "ohe.fit(data[['worrymedbills']])"
   ]
  },
  {
   "cell_type": "code",
   "execution_count": null,
   "id": "8oYejirnyuvU",
   "metadata": {
    "colab": {
     "base_uri": "https://localhost:8080/",
     "height": 206
    },
    "executionInfo": {
     "elapsed": 12,
     "status": "ok",
     "timestamp": 1665778542812,
     "user": {
      "displayName": "Derek Hu",
      "userId": "14137525769356790466"
     },
     "user_tz": 420
    },
    "id": "8oYejirnyuvU",
    "outputId": "27e4526c-9b83-44da-b2cd-0842f751b49c"
   },
   "outputs": [
    {
     "data": {
      "text/html": [
       "\n",
       "  <div id=\"df-3d6f2b14-203f-4dbc-aeb3-97a67c65d774\">\n",
       "    <div class=\"colab-df-container\">\n",
       "      <div>\n",
       "<style scoped>\n",
       "    .dataframe tbody tr th:only-of-type {\n",
       "        vertical-align: middle;\n",
       "    }\n",
       "\n",
       "    .dataframe tbody tr th {\n",
       "        vertical-align: top;\n",
       "    }\n",
       "\n",
       "    .dataframe thead th {\n",
       "        text-align: right;\n",
       "    }\n",
       "</style>\n",
       "<table border=\"1\" class=\"dataframe\">\n",
       "  <thead>\n",
       "    <tr style=\"text-align: right;\">\n",
       "      <th></th>\n",
       "      <th>worrymedbills_somewhat_worried_medbills</th>\n",
       "    </tr>\n",
       "  </thead>\n",
       "  <tbody>\n",
       "    <tr>\n",
       "      <th>0</th>\n",
       "      <td>1.0</td>\n",
       "    </tr>\n",
       "    <tr>\n",
       "      <th>1</th>\n",
       "      <td>0.0</td>\n",
       "    </tr>\n",
       "    <tr>\n",
       "      <th>2</th>\n",
       "      <td>1.0</td>\n",
       "    </tr>\n",
       "    <tr>\n",
       "      <th>3</th>\n",
       "      <td>0.0</td>\n",
       "    </tr>\n",
       "    <tr>\n",
       "      <th>4</th>\n",
       "      <td>0.0</td>\n",
       "    </tr>\n",
       "  </tbody>\n",
       "</table>\n",
       "</div>\n",
       "      <button class=\"colab-df-convert\" onclick=\"convertToInteractive('df-3d6f2b14-203f-4dbc-aeb3-97a67c65d774')\"\n",
       "              title=\"Convert this dataframe to an interactive table.\"\n",
       "              style=\"display:none;\">\n",
       "        \n",
       "  <svg xmlns=\"http://www.w3.org/2000/svg\" height=\"24px\"viewBox=\"0 0 24 24\"\n",
       "       width=\"24px\">\n",
       "    <path d=\"M0 0h24v24H0V0z\" fill=\"none\"/>\n",
       "    <path d=\"M18.56 5.44l.94 2.06.94-2.06 2.06-.94-2.06-.94-.94-2.06-.94 2.06-2.06.94zm-11 1L8.5 8.5l.94-2.06 2.06-.94-2.06-.94L8.5 2.5l-.94 2.06-2.06.94zm10 10l.94 2.06.94-2.06 2.06-.94-2.06-.94-.94-2.06-.94 2.06-2.06.94z\"/><path d=\"M17.41 7.96l-1.37-1.37c-.4-.4-.92-.59-1.43-.59-.52 0-1.04.2-1.43.59L10.3 9.45l-7.72 7.72c-.78.78-.78 2.05 0 2.83L4 21.41c.39.39.9.59 1.41.59.51 0 1.02-.2 1.41-.59l7.78-7.78 2.81-2.81c.8-.78.8-2.07 0-2.86zM5.41 20L4 18.59l7.72-7.72 1.47 1.35L5.41 20z\"/>\n",
       "  </svg>\n",
       "      </button>\n",
       "      \n",
       "  <style>\n",
       "    .colab-df-container {\n",
       "      display:flex;\n",
       "      flex-wrap:wrap;\n",
       "      gap: 12px;\n",
       "    }\n",
       "\n",
       "    .colab-df-convert {\n",
       "      background-color: #E8F0FE;\n",
       "      border: none;\n",
       "      border-radius: 50%;\n",
       "      cursor: pointer;\n",
       "      display: none;\n",
       "      fill: #1967D2;\n",
       "      height: 32px;\n",
       "      padding: 0 0 0 0;\n",
       "      width: 32px;\n",
       "    }\n",
       "\n",
       "    .colab-df-convert:hover {\n",
       "      background-color: #E2EBFA;\n",
       "      box-shadow: 0px 1px 2px rgba(60, 64, 67, 0.3), 0px 1px 3px 1px rgba(60, 64, 67, 0.15);\n",
       "      fill: #174EA6;\n",
       "    }\n",
       "\n",
       "    [theme=dark] .colab-df-convert {\n",
       "      background-color: #3B4455;\n",
       "      fill: #D2E3FC;\n",
       "    }\n",
       "\n",
       "    [theme=dark] .colab-df-convert:hover {\n",
       "      background-color: #434B5C;\n",
       "      box-shadow: 0px 1px 3px 1px rgba(0, 0, 0, 0.15);\n",
       "      filter: drop-shadow(0px 1px 2px rgba(0, 0, 0, 0.3));\n",
       "      fill: #FFFFFF;\n",
       "    }\n",
       "  </style>\n",
       "\n",
       "      <script>\n",
       "        const buttonEl =\n",
       "          document.querySelector('#df-3d6f2b14-203f-4dbc-aeb3-97a67c65d774 button.colab-df-convert');\n",
       "        buttonEl.style.display =\n",
       "          google.colab.kernel.accessAllowed ? 'block' : 'none';\n",
       "\n",
       "        async function convertToInteractive(key) {\n",
       "          const element = document.querySelector('#df-3d6f2b14-203f-4dbc-aeb3-97a67c65d774');\n",
       "          const dataTable =\n",
       "            await google.colab.kernel.invokeFunction('convertToInteractive',\n",
       "                                                     [key], {});\n",
       "          if (!dataTable) return;\n",
       "\n",
       "          const docLinkHtml = 'Like what you see? Visit the ' +\n",
       "            '<a target=\"_blank\" href=https://colab.research.google.com/notebooks/data_table.ipynb>data table notebook</a>'\n",
       "            + ' to learn more about interactive tables.';\n",
       "          element.innerHTML = '';\n",
       "          dataTable['output_type'] = 'display_data';\n",
       "          await google.colab.output.renderOutput(dataTable, element);\n",
       "          const docLink = document.createElement('div');\n",
       "          docLink.innerHTML = docLinkHtml;\n",
       "          element.appendChild(docLink);\n",
       "        }\n",
       "      </script>\n",
       "    </div>\n",
       "  </div>\n",
       "  "
      ],
      "text/plain": [
       "   worrymedbills_somewhat_worried_medbills\n",
       "0                                      1.0\n",
       "1                                      0.0\n",
       "2                                      1.0\n",
       "3                                      0.0\n",
       "4                                      0.0"
      ]
     },
     "execution_count": 399,
     "metadata": {},
     "output_type": "execute_result"
    }
   ],
   "source": [
    "#not worried medbills\n",
    "worrymedbills = pd.DataFrame(\n",
    "    ohe.transform(data[['worrymedbills']]).todense(),\n",
    "    columns = ohe.get_feature_names_out(),\n",
    "    index = data.index\n",
    ")\n",
    "\n",
    "worrymedbills.head()"
   ]
  },
  {
   "cell_type": "code",
   "execution_count": null,
   "id": "VWNsCVLZyxqR",
   "metadata": {
    "colab": {
     "base_uri": "https://localhost:8080/"
    },
    "executionInfo": {
     "elapsed": 382,
     "status": "ok",
     "timestamp": 1665778543184,
     "user": {
      "displayName": "Derek Hu",
      "userId": "14137525769356790466"
     },
     "user_tz": 420
    },
    "id": "VWNsCVLZyxqR",
    "outputId": "7cd49d0c-cc5f-4ad5-dc95-26163b9f1aa9"
   },
   "outputs": [
    {
     "data": {
      "text/plain": [
       "OneHotEncoder(drop='first', handle_unknown='ignore')"
      ]
     },
     "execution_count": 400,
     "metadata": {},
     "output_type": "execute_result"
    }
   ],
   "source": [
    "#Use one_hot_encoder\n",
    "from sklearn.preprocessing import OneHotEncoder\n",
    "ohe = OneHotEncoder(handle_unknown='ignore', drop='first')\n",
    "ohe.fit(data[['insulin']])"
   ]
  },
  {
   "cell_type": "code",
   "execution_count": null,
   "id": "XBSG8DzDy12w",
   "metadata": {
    "colab": {
     "base_uri": "https://localhost:8080/",
     "height": 206
    },
    "executionInfo": {
     "elapsed": 7,
     "status": "ok",
     "timestamp": 1665778543185,
     "user": {
      "displayName": "Derek Hu",
      "userId": "14137525769356790466"
     },
     "user_tz": 420
    },
    "id": "XBSG8DzDy12w",
    "outputId": "0380c974-6670-43d9-ab59-af0998b630e8"
   },
   "outputs": [
    {
     "data": {
      "text/html": [
       "\n",
       "  <div id=\"df-5b894556-8312-4250-a861-2919d0ba56d4\">\n",
       "    <div class=\"colab-df-container\">\n",
       "      <div>\n",
       "<style scoped>\n",
       "    .dataframe tbody tr th:only-of-type {\n",
       "        vertical-align: middle;\n",
       "    }\n",
       "\n",
       "    .dataframe tbody tr th {\n",
       "        vertical-align: top;\n",
       "    }\n",
       "\n",
       "    .dataframe thead th {\n",
       "        text-align: right;\n",
       "    }\n",
       "</style>\n",
       "<table border=\"1\" class=\"dataframe\">\n",
       "  <thead>\n",
       "    <tr style=\"text-align: right;\">\n",
       "      <th></th>\n",
       "      <th>insulin_Yes_Insulin</th>\n",
       "    </tr>\n",
       "  </thead>\n",
       "  <tbody>\n",
       "    <tr>\n",
       "      <th>0</th>\n",
       "      <td>0.0</td>\n",
       "    </tr>\n",
       "    <tr>\n",
       "      <th>1</th>\n",
       "      <td>0.0</td>\n",
       "    </tr>\n",
       "    <tr>\n",
       "      <th>2</th>\n",
       "      <td>0.0</td>\n",
       "    </tr>\n",
       "    <tr>\n",
       "      <th>3</th>\n",
       "      <td>0.0</td>\n",
       "    </tr>\n",
       "    <tr>\n",
       "      <th>4</th>\n",
       "      <td>0.0</td>\n",
       "    </tr>\n",
       "  </tbody>\n",
       "</table>\n",
       "</div>\n",
       "      <button class=\"colab-df-convert\" onclick=\"convertToInteractive('df-5b894556-8312-4250-a861-2919d0ba56d4')\"\n",
       "              title=\"Convert this dataframe to an interactive table.\"\n",
       "              style=\"display:none;\">\n",
       "        \n",
       "  <svg xmlns=\"http://www.w3.org/2000/svg\" height=\"24px\"viewBox=\"0 0 24 24\"\n",
       "       width=\"24px\">\n",
       "    <path d=\"M0 0h24v24H0V0z\" fill=\"none\"/>\n",
       "    <path d=\"M18.56 5.44l.94 2.06.94-2.06 2.06-.94-2.06-.94-.94-2.06-.94 2.06-2.06.94zm-11 1L8.5 8.5l.94-2.06 2.06-.94-2.06-.94L8.5 2.5l-.94 2.06-2.06.94zm10 10l.94 2.06.94-2.06 2.06-.94-2.06-.94-.94-2.06-.94 2.06-2.06.94z\"/><path d=\"M17.41 7.96l-1.37-1.37c-.4-.4-.92-.59-1.43-.59-.52 0-1.04.2-1.43.59L10.3 9.45l-7.72 7.72c-.78.78-.78 2.05 0 2.83L4 21.41c.39.39.9.59 1.41.59.51 0 1.02-.2 1.41-.59l7.78-7.78 2.81-2.81c.8-.78.8-2.07 0-2.86zM5.41 20L4 18.59l7.72-7.72 1.47 1.35L5.41 20z\"/>\n",
       "  </svg>\n",
       "      </button>\n",
       "      \n",
       "  <style>\n",
       "    .colab-df-container {\n",
       "      display:flex;\n",
       "      flex-wrap:wrap;\n",
       "      gap: 12px;\n",
       "    }\n",
       "\n",
       "    .colab-df-convert {\n",
       "      background-color: #E8F0FE;\n",
       "      border: none;\n",
       "      border-radius: 50%;\n",
       "      cursor: pointer;\n",
       "      display: none;\n",
       "      fill: #1967D2;\n",
       "      height: 32px;\n",
       "      padding: 0 0 0 0;\n",
       "      width: 32px;\n",
       "    }\n",
       "\n",
       "    .colab-df-convert:hover {\n",
       "      background-color: #E2EBFA;\n",
       "      box-shadow: 0px 1px 2px rgba(60, 64, 67, 0.3), 0px 1px 3px 1px rgba(60, 64, 67, 0.15);\n",
       "      fill: #174EA6;\n",
       "    }\n",
       "\n",
       "    [theme=dark] .colab-df-convert {\n",
       "      background-color: #3B4455;\n",
       "      fill: #D2E3FC;\n",
       "    }\n",
       "\n",
       "    [theme=dark] .colab-df-convert:hover {\n",
       "      background-color: #434B5C;\n",
       "      box-shadow: 0px 1px 3px 1px rgba(0, 0, 0, 0.15);\n",
       "      filter: drop-shadow(0px 1px 2px rgba(0, 0, 0, 0.3));\n",
       "      fill: #FFFFFF;\n",
       "    }\n",
       "  </style>\n",
       "\n",
       "      <script>\n",
       "        const buttonEl =\n",
       "          document.querySelector('#df-5b894556-8312-4250-a861-2919d0ba56d4 button.colab-df-convert');\n",
       "        buttonEl.style.display =\n",
       "          google.colab.kernel.accessAllowed ? 'block' : 'none';\n",
       "\n",
       "        async function convertToInteractive(key) {\n",
       "          const element = document.querySelector('#df-5b894556-8312-4250-a861-2919d0ba56d4');\n",
       "          const dataTable =\n",
       "            await google.colab.kernel.invokeFunction('convertToInteractive',\n",
       "                                                     [key], {});\n",
       "          if (!dataTable) return;\n",
       "\n",
       "          const docLinkHtml = 'Like what you see? Visit the ' +\n",
       "            '<a target=\"_blank\" href=https://colab.research.google.com/notebooks/data_table.ipynb>data table notebook</a>'\n",
       "            + ' to learn more about interactive tables.';\n",
       "          element.innerHTML = '';\n",
       "          dataTable['output_type'] = 'display_data';\n",
       "          await google.colab.output.renderOutput(dataTable, element);\n",
       "          const docLink = document.createElement('div');\n",
       "          docLink.innerHTML = docLinkHtml;\n",
       "          element.appendChild(docLink);\n",
       "        }\n",
       "      </script>\n",
       "    </div>\n",
       "  </div>\n",
       "  "
      ],
      "text/plain": [
       "   insulin_Yes_Insulin\n",
       "0                  0.0\n",
       "1                  0.0\n",
       "2                  0.0\n",
       "3                  0.0\n",
       "4                  0.0"
      ]
     },
     "execution_count": 401,
     "metadata": {},
     "output_type": "execute_result"
    }
   ],
   "source": [
    "#no insulin\n",
    "insulin = pd.DataFrame(\n",
    "    ohe.transform(data[['insulin']]).todense(),\n",
    "    columns = ohe.get_feature_names_out(),\n",
    "    index = data.index\n",
    ")\n",
    "\n",
    "insulin.head()"
   ]
  },
  {
   "cell_type": "code",
   "execution_count": null,
   "id": "V06J3bcoy4vN",
   "metadata": {
    "colab": {
     "base_uri": "https://localhost:8080/"
    },
    "executionInfo": {
     "elapsed": 109,
     "status": "ok",
     "timestamp": 1665778550501,
     "user": {
      "displayName": "Derek Hu",
      "userId": "14137525769356790466"
     },
     "user_tz": 420
    },
    "id": "V06J3bcoy4vN",
    "outputId": "78a9ab0a-7b00-4c09-c511-0f361a81f0c3"
   },
   "outputs": [
    {
     "data": {
      "text/plain": [
       "OneHotEncoder(drop='first', handle_unknown='ignore')"
      ]
     },
     "execution_count": 402,
     "metadata": {},
     "output_type": "execute_result"
    }
   ],
   "source": [
    "#Use one_hot_encoder\n",
    "from sklearn.preprocessing import OneHotEncoder\n",
    "ohe = OneHotEncoder(handle_unknown='ignore', drop='first')\n",
    "ohe.fit(data[['foodsecurity']])"
   ]
  },
  {
   "cell_type": "code",
   "execution_count": null,
   "id": "YQdr_s9ey-c3",
   "metadata": {
    "colab": {
     "base_uri": "https://localhost:8080/",
     "height": 206
    },
    "executionInfo": {
     "elapsed": 106,
     "status": "ok",
     "timestamp": 1665778550502,
     "user": {
      "displayName": "Derek Hu",
      "userId": "14137525769356790466"
     },
     "user_tz": 420
    },
    "id": "YQdr_s9ey-c3",
    "outputId": "9833dec8-a603-4e2a-a5eb-ec96f871f5fb"
   },
   "outputs": [
    {
     "data": {
      "text/html": [
       "\n",
       "  <div id=\"df-3d206945-62d9-465d-ba05-428024ec84d6\">\n",
       "    <div class=\"colab-df-container\">\n",
       "      <div>\n",
       "<style scoped>\n",
       "    .dataframe tbody tr th:only-of-type {\n",
       "        vertical-align: middle;\n",
       "    }\n",
       "\n",
       "    .dataframe tbody tr th {\n",
       "        vertical-align: top;\n",
       "    }\n",
       "\n",
       "    .dataframe thead th {\n",
       "        text-align: right;\n",
       "    }\n",
       "</style>\n",
       "<table border=\"1\" class=\"dataframe\">\n",
       "  <thead>\n",
       "    <tr style=\"text-align: right;\">\n",
       "      <th></th>\n",
       "      <th>foodsecurity_Low_food_security</th>\n",
       "      <th>foodsecurity_Marginal_food_security</th>\n",
       "      <th>foodsecurity_Very_low_food_security</th>\n",
       "    </tr>\n",
       "  </thead>\n",
       "  <tbody>\n",
       "    <tr>\n",
       "      <th>0</th>\n",
       "      <td>0.0</td>\n",
       "      <td>0.0</td>\n",
       "      <td>0.0</td>\n",
       "    </tr>\n",
       "    <tr>\n",
       "      <th>1</th>\n",
       "      <td>0.0</td>\n",
       "      <td>0.0</td>\n",
       "      <td>0.0</td>\n",
       "    </tr>\n",
       "    <tr>\n",
       "      <th>2</th>\n",
       "      <td>0.0</td>\n",
       "      <td>0.0</td>\n",
       "      <td>0.0</td>\n",
       "    </tr>\n",
       "    <tr>\n",
       "      <th>3</th>\n",
       "      <td>0.0</td>\n",
       "      <td>0.0</td>\n",
       "      <td>0.0</td>\n",
       "    </tr>\n",
       "    <tr>\n",
       "      <th>4</th>\n",
       "      <td>0.0</td>\n",
       "      <td>0.0</td>\n",
       "      <td>0.0</td>\n",
       "    </tr>\n",
       "  </tbody>\n",
       "</table>\n",
       "</div>\n",
       "      <button class=\"colab-df-convert\" onclick=\"convertToInteractive('df-3d206945-62d9-465d-ba05-428024ec84d6')\"\n",
       "              title=\"Convert this dataframe to an interactive table.\"\n",
       "              style=\"display:none;\">\n",
       "        \n",
       "  <svg xmlns=\"http://www.w3.org/2000/svg\" height=\"24px\"viewBox=\"0 0 24 24\"\n",
       "       width=\"24px\">\n",
       "    <path d=\"M0 0h24v24H0V0z\" fill=\"none\"/>\n",
       "    <path d=\"M18.56 5.44l.94 2.06.94-2.06 2.06-.94-2.06-.94-.94-2.06-.94 2.06-2.06.94zm-11 1L8.5 8.5l.94-2.06 2.06-.94-2.06-.94L8.5 2.5l-.94 2.06-2.06.94zm10 10l.94 2.06.94-2.06 2.06-.94-2.06-.94-.94-2.06-.94 2.06-2.06.94z\"/><path d=\"M17.41 7.96l-1.37-1.37c-.4-.4-.92-.59-1.43-.59-.52 0-1.04.2-1.43.59L10.3 9.45l-7.72 7.72c-.78.78-.78 2.05 0 2.83L4 21.41c.39.39.9.59 1.41.59.51 0 1.02-.2 1.41-.59l7.78-7.78 2.81-2.81c.8-.78.8-2.07 0-2.86zM5.41 20L4 18.59l7.72-7.72 1.47 1.35L5.41 20z\"/>\n",
       "  </svg>\n",
       "      </button>\n",
       "      \n",
       "  <style>\n",
       "    .colab-df-container {\n",
       "      display:flex;\n",
       "      flex-wrap:wrap;\n",
       "      gap: 12px;\n",
       "    }\n",
       "\n",
       "    .colab-df-convert {\n",
       "      background-color: #E8F0FE;\n",
       "      border: none;\n",
       "      border-radius: 50%;\n",
       "      cursor: pointer;\n",
       "      display: none;\n",
       "      fill: #1967D2;\n",
       "      height: 32px;\n",
       "      padding: 0 0 0 0;\n",
       "      width: 32px;\n",
       "    }\n",
       "\n",
       "    .colab-df-convert:hover {\n",
       "      background-color: #E2EBFA;\n",
       "      box-shadow: 0px 1px 2px rgba(60, 64, 67, 0.3), 0px 1px 3px 1px rgba(60, 64, 67, 0.15);\n",
       "      fill: #174EA6;\n",
       "    }\n",
       "\n",
       "    [theme=dark] .colab-df-convert {\n",
       "      background-color: #3B4455;\n",
       "      fill: #D2E3FC;\n",
       "    }\n",
       "\n",
       "    [theme=dark] .colab-df-convert:hover {\n",
       "      background-color: #434B5C;\n",
       "      box-shadow: 0px 1px 3px 1px rgba(0, 0, 0, 0.15);\n",
       "      filter: drop-shadow(0px 1px 2px rgba(0, 0, 0, 0.3));\n",
       "      fill: #FFFFFF;\n",
       "    }\n",
       "  </style>\n",
       "\n",
       "      <script>\n",
       "        const buttonEl =\n",
       "          document.querySelector('#df-3d206945-62d9-465d-ba05-428024ec84d6 button.colab-df-convert');\n",
       "        buttonEl.style.display =\n",
       "          google.colab.kernel.accessAllowed ? 'block' : 'none';\n",
       "\n",
       "        async function convertToInteractive(key) {\n",
       "          const element = document.querySelector('#df-3d206945-62d9-465d-ba05-428024ec84d6');\n",
       "          const dataTable =\n",
       "            await google.colab.kernel.invokeFunction('convertToInteractive',\n",
       "                                                     [key], {});\n",
       "          if (!dataTable) return;\n",
       "\n",
       "          const docLinkHtml = 'Like what you see? Visit the ' +\n",
       "            '<a target=\"_blank\" href=https://colab.research.google.com/notebooks/data_table.ipynb>data table notebook</a>'\n",
       "            + ' to learn more about interactive tables.';\n",
       "          element.innerHTML = '';\n",
       "          dataTable['output_type'] = 'display_data';\n",
       "          await google.colab.output.renderOutput(dataTable, element);\n",
       "          const docLink = document.createElement('div');\n",
       "          docLink.innerHTML = docLinkHtml;\n",
       "          element.appendChild(docLink);\n",
       "        }\n",
       "      </script>\n",
       "    </div>\n",
       "  </div>\n",
       "  "
      ],
      "text/plain": [
       "   foodsecurity_Low_food_security  foodsecurity_Marginal_food_security  \\\n",
       "0                             0.0                                  0.0   \n",
       "1                             0.0                                  0.0   \n",
       "2                             0.0                                  0.0   \n",
       "3                             0.0                                  0.0   \n",
       "4                             0.0                                  0.0   \n",
       "\n",
       "   foodsecurity_Very_low_food_security  \n",
       "0                                  0.0  \n",
       "1                                  0.0  \n",
       "2                                  0.0  \n",
       "3                                  0.0  \n",
       "4                                  0.0  "
      ]
     },
     "execution_count": 403,
     "metadata": {},
     "output_type": "execute_result"
    }
   ],
   "source": [
    "#high food security\n",
    "foodsecurity = pd.DataFrame(\n",
    "    ohe.transform(data[['foodsecurity']]).todense(),\n",
    "    columns = ohe.get_feature_names_out(),\n",
    "    index = data.index\n",
    ")\n",
    "\n",
    "foodsecurity.head()"
   ]
  },
  {
   "cell_type": "code",
   "execution_count": null,
   "id": "jCremw87zBHP",
   "metadata": {
    "colab": {
     "base_uri": "https://localhost:8080/"
    },
    "executionInfo": {
     "elapsed": 103,
     "status": "ok",
     "timestamp": 1665778550503,
     "user": {
      "displayName": "Derek Hu",
      "userId": "14137525769356790466"
     },
     "user_tz": 420
    },
    "id": "jCremw87zBHP",
    "outputId": "e1686b9f-9f04-4fbf-823b-c7474406135f"
   },
   "outputs": [
    {
     "data": {
      "text/plain": [
       "OneHotEncoder(drop='first', handle_unknown='ignore')"
      ]
     },
     "execution_count": 404,
     "metadata": {},
     "output_type": "execute_result"
    }
   ],
   "source": [
    "#Use one_hot_encoder\n",
    "from sklearn.preprocessing import OneHotEncoder\n",
    "ohe = OneHotEncoder(handle_unknown='ignore', drop='first')\n",
    "ohe.fit(data[['race']])"
   ]
  },
  {
   "cell_type": "code",
   "execution_count": null,
   "id": "7gsUYKHazKUS",
   "metadata": {
    "colab": {
     "base_uri": "https://localhost:8080/",
     "height": 206
    },
    "executionInfo": {
     "elapsed": 86,
     "status": "ok",
     "timestamp": 1665778550503,
     "user": {
      "displayName": "Derek Hu",
      "userId": "14137525769356790466"
     },
     "user_tz": 420
    },
    "id": "7gsUYKHazKUS",
    "outputId": "4bb9b005-1c4d-4462-873d-aa7d9d6f355b"
   },
   "outputs": [
    {
     "data": {
      "text/html": [
       "\n",
       "  <div id=\"df-1365beff-f545-4c9c-b275-78ebd5e30baf\">\n",
       "    <div class=\"colab-df-container\">\n",
       "      <div>\n",
       "<style scoped>\n",
       "    .dataframe tbody tr th:only-of-type {\n",
       "        vertical-align: middle;\n",
       "    }\n",
       "\n",
       "    .dataframe tbody tr th {\n",
       "        vertical-align: top;\n",
       "    }\n",
       "\n",
       "    .dataframe thead th {\n",
       "        text-align: right;\n",
       "    }\n",
       "</style>\n",
       "<table border=\"1\" class=\"dataframe\">\n",
       "  <thead>\n",
       "    <tr style=\"text-align: right;\">\n",
       "      <th></th>\n",
       "      <th>race_Black</th>\n",
       "      <th>race_Native-American</th>\n",
       "      <th>race_Other_Races</th>\n",
       "      <th>race_White</th>\n",
       "    </tr>\n",
       "  </thead>\n",
       "  <tbody>\n",
       "    <tr>\n",
       "      <th>0</th>\n",
       "      <td>1.0</td>\n",
       "      <td>0.0</td>\n",
       "      <td>0.0</td>\n",
       "      <td>0.0</td>\n",
       "    </tr>\n",
       "    <tr>\n",
       "      <th>1</th>\n",
       "      <td>1.0</td>\n",
       "      <td>0.0</td>\n",
       "      <td>0.0</td>\n",
       "      <td>0.0</td>\n",
       "    </tr>\n",
       "    <tr>\n",
       "      <th>2</th>\n",
       "      <td>1.0</td>\n",
       "      <td>0.0</td>\n",
       "      <td>0.0</td>\n",
       "      <td>0.0</td>\n",
       "    </tr>\n",
       "    <tr>\n",
       "      <th>3</th>\n",
       "      <td>0.0</td>\n",
       "      <td>0.0</td>\n",
       "      <td>0.0</td>\n",
       "      <td>1.0</td>\n",
       "    </tr>\n",
       "    <tr>\n",
       "      <th>4</th>\n",
       "      <td>0.0</td>\n",
       "      <td>0.0</td>\n",
       "      <td>0.0</td>\n",
       "      <td>1.0</td>\n",
       "    </tr>\n",
       "  </tbody>\n",
       "</table>\n",
       "</div>\n",
       "      <button class=\"colab-df-convert\" onclick=\"convertToInteractive('df-1365beff-f545-4c9c-b275-78ebd5e30baf')\"\n",
       "              title=\"Convert this dataframe to an interactive table.\"\n",
       "              style=\"display:none;\">\n",
       "        \n",
       "  <svg xmlns=\"http://www.w3.org/2000/svg\" height=\"24px\"viewBox=\"0 0 24 24\"\n",
       "       width=\"24px\">\n",
       "    <path d=\"M0 0h24v24H0V0z\" fill=\"none\"/>\n",
       "    <path d=\"M18.56 5.44l.94 2.06.94-2.06 2.06-.94-2.06-.94-.94-2.06-.94 2.06-2.06.94zm-11 1L8.5 8.5l.94-2.06 2.06-.94-2.06-.94L8.5 2.5l-.94 2.06-2.06.94zm10 10l.94 2.06.94-2.06 2.06-.94-2.06-.94-.94-2.06-.94 2.06-2.06.94z\"/><path d=\"M17.41 7.96l-1.37-1.37c-.4-.4-.92-.59-1.43-.59-.52 0-1.04.2-1.43.59L10.3 9.45l-7.72 7.72c-.78.78-.78 2.05 0 2.83L4 21.41c.39.39.9.59 1.41.59.51 0 1.02-.2 1.41-.59l7.78-7.78 2.81-2.81c.8-.78.8-2.07 0-2.86zM5.41 20L4 18.59l7.72-7.72 1.47 1.35L5.41 20z\"/>\n",
       "  </svg>\n",
       "      </button>\n",
       "      \n",
       "  <style>\n",
       "    .colab-df-container {\n",
       "      display:flex;\n",
       "      flex-wrap:wrap;\n",
       "      gap: 12px;\n",
       "    }\n",
       "\n",
       "    .colab-df-convert {\n",
       "      background-color: #E8F0FE;\n",
       "      border: none;\n",
       "      border-radius: 50%;\n",
       "      cursor: pointer;\n",
       "      display: none;\n",
       "      fill: #1967D2;\n",
       "      height: 32px;\n",
       "      padding: 0 0 0 0;\n",
       "      width: 32px;\n",
       "    }\n",
       "\n",
       "    .colab-df-convert:hover {\n",
       "      background-color: #E2EBFA;\n",
       "      box-shadow: 0px 1px 2px rgba(60, 64, 67, 0.3), 0px 1px 3px 1px rgba(60, 64, 67, 0.15);\n",
       "      fill: #174EA6;\n",
       "    }\n",
       "\n",
       "    [theme=dark] .colab-df-convert {\n",
       "      background-color: #3B4455;\n",
       "      fill: #D2E3FC;\n",
       "    }\n",
       "\n",
       "    [theme=dark] .colab-df-convert:hover {\n",
       "      background-color: #434B5C;\n",
       "      box-shadow: 0px 1px 3px 1px rgba(0, 0, 0, 0.15);\n",
       "      filter: drop-shadow(0px 1px 2px rgba(0, 0, 0, 0.3));\n",
       "      fill: #FFFFFF;\n",
       "    }\n",
       "  </style>\n",
       "\n",
       "      <script>\n",
       "        const buttonEl =\n",
       "          document.querySelector('#df-1365beff-f545-4c9c-b275-78ebd5e30baf button.colab-df-convert');\n",
       "        buttonEl.style.display =\n",
       "          google.colab.kernel.accessAllowed ? 'block' : 'none';\n",
       "\n",
       "        async function convertToInteractive(key) {\n",
       "          const element = document.querySelector('#df-1365beff-f545-4c9c-b275-78ebd5e30baf');\n",
       "          const dataTable =\n",
       "            await google.colab.kernel.invokeFunction('convertToInteractive',\n",
       "                                                     [key], {});\n",
       "          if (!dataTable) return;\n",
       "\n",
       "          const docLinkHtml = 'Like what you see? Visit the ' +\n",
       "            '<a target=\"_blank\" href=https://colab.research.google.com/notebooks/data_table.ipynb>data table notebook</a>'\n",
       "            + ' to learn more about interactive tables.';\n",
       "          element.innerHTML = '';\n",
       "          dataTable['output_type'] = 'display_data';\n",
       "          await google.colab.output.renderOutput(dataTable, element);\n",
       "          const docLink = document.createElement('div');\n",
       "          docLink.innerHTML = docLinkHtml;\n",
       "          element.appendChild(docLink);\n",
       "        }\n",
       "      </script>\n",
       "    </div>\n",
       "  </div>\n",
       "  "
      ],
      "text/plain": [
       "   race_Black  race_Native-American  race_Other_Races  race_White\n",
       "0         1.0                   0.0               0.0         0.0\n",
       "1         1.0                   0.0               0.0         0.0\n",
       "2         1.0                   0.0               0.0         0.0\n",
       "3         0.0                   0.0               0.0         1.0\n",
       "4         0.0                   0.0               0.0         1.0"
      ]
     },
     "execution_count": 405,
     "metadata": {},
     "output_type": "execute_result"
    }
   ],
   "source": [
    "#asian\n",
    "race = pd.DataFrame(\n",
    "    ohe.transform(data[['race']]).todense(),\n",
    "    columns = ohe.get_feature_names_out(),\n",
    "    index = data.index\n",
    ")\n",
    "\n",
    "race.head()"
   ]
  },
  {
   "cell_type": "code",
   "execution_count": null,
   "id": "Qj3RLJULzNOX",
   "metadata": {
    "colab": {
     "base_uri": "https://localhost:8080/"
    },
    "executionInfo": {
     "elapsed": 82,
     "status": "ok",
     "timestamp": 1665778550504,
     "user": {
      "displayName": "Derek Hu",
      "userId": "14137525769356790466"
     },
     "user_tz": 420
    },
    "id": "Qj3RLJULzNOX",
    "outputId": "12b679b0-daf8-4282-f23f-f8b208a335cc"
   },
   "outputs": [
    {
     "data": {
      "text/plain": [
       "OneHotEncoder(drop='first', handle_unknown='ignore')"
      ]
     },
     "execution_count": 406,
     "metadata": {},
     "output_type": "execute_result"
    }
   ],
   "source": [
    "#Use one_hot_encoder\n",
    "from sklearn.preprocessing import OneHotEncoder\n",
    "ohe = OneHotEncoder(handle_unknown='ignore', drop='first')\n",
    "ohe.fit(data[['Welfare']])"
   ]
  },
  {
   "cell_type": "code",
   "execution_count": null,
   "id": "XU6oD8K2zSqe",
   "metadata": {
    "colab": {
     "base_uri": "https://localhost:8080/",
     "height": 206
    },
    "executionInfo": {
     "elapsed": 68,
     "status": "ok",
     "timestamp": 1665778550505,
     "user": {
      "displayName": "Derek Hu",
      "userId": "14137525769356790466"
     },
     "user_tz": 420
    },
    "id": "XU6oD8K2zSqe",
    "outputId": "04a645a2-b5f0-409f-8f20-6e8203abd765"
   },
   "outputs": [
    {
     "data": {
      "text/html": [
       "\n",
       "  <div id=\"df-f090cb40-c7e2-409c-9320-60358d9e1fc3\">\n",
       "    <div class=\"colab-df-container\">\n",
       "      <div>\n",
       "<style scoped>\n",
       "    .dataframe tbody tr th:only-of-type {\n",
       "        vertical-align: middle;\n",
       "    }\n",
       "\n",
       "    .dataframe tbody tr th {\n",
       "        vertical-align: top;\n",
       "    }\n",
       "\n",
       "    .dataframe thead th {\n",
       "        text-align: right;\n",
       "    }\n",
       "</style>\n",
       "<table border=\"1\" class=\"dataframe\">\n",
       "  <thead>\n",
       "    <tr style=\"text-align: right;\">\n",
       "      <th></th>\n",
       "      <th>Welfare_On_Welfare</th>\n",
       "    </tr>\n",
       "  </thead>\n",
       "  <tbody>\n",
       "    <tr>\n",
       "      <th>0</th>\n",
       "      <td>0.0</td>\n",
       "    </tr>\n",
       "    <tr>\n",
       "      <th>1</th>\n",
       "      <td>0.0</td>\n",
       "    </tr>\n",
       "    <tr>\n",
       "      <th>2</th>\n",
       "      <td>0.0</td>\n",
       "    </tr>\n",
       "    <tr>\n",
       "      <th>3</th>\n",
       "      <td>0.0</td>\n",
       "    </tr>\n",
       "    <tr>\n",
       "      <th>4</th>\n",
       "      <td>0.0</td>\n",
       "    </tr>\n",
       "  </tbody>\n",
       "</table>\n",
       "</div>\n",
       "      <button class=\"colab-df-convert\" onclick=\"convertToInteractive('df-f090cb40-c7e2-409c-9320-60358d9e1fc3')\"\n",
       "              title=\"Convert this dataframe to an interactive table.\"\n",
       "              style=\"display:none;\">\n",
       "        \n",
       "  <svg xmlns=\"http://www.w3.org/2000/svg\" height=\"24px\"viewBox=\"0 0 24 24\"\n",
       "       width=\"24px\">\n",
       "    <path d=\"M0 0h24v24H0V0z\" fill=\"none\"/>\n",
       "    <path d=\"M18.56 5.44l.94 2.06.94-2.06 2.06-.94-2.06-.94-.94-2.06-.94 2.06-2.06.94zm-11 1L8.5 8.5l.94-2.06 2.06-.94-2.06-.94L8.5 2.5l-.94 2.06-2.06.94zm10 10l.94 2.06.94-2.06 2.06-.94-2.06-.94-.94-2.06-.94 2.06-2.06.94z\"/><path d=\"M17.41 7.96l-1.37-1.37c-.4-.4-.92-.59-1.43-.59-.52 0-1.04.2-1.43.59L10.3 9.45l-7.72 7.72c-.78.78-.78 2.05 0 2.83L4 21.41c.39.39.9.59 1.41.59.51 0 1.02-.2 1.41-.59l7.78-7.78 2.81-2.81c.8-.78.8-2.07 0-2.86zM5.41 20L4 18.59l7.72-7.72 1.47 1.35L5.41 20z\"/>\n",
       "  </svg>\n",
       "      </button>\n",
       "      \n",
       "  <style>\n",
       "    .colab-df-container {\n",
       "      display:flex;\n",
       "      flex-wrap:wrap;\n",
       "      gap: 12px;\n",
       "    }\n",
       "\n",
       "    .colab-df-convert {\n",
       "      background-color: #E8F0FE;\n",
       "      border: none;\n",
       "      border-radius: 50%;\n",
       "      cursor: pointer;\n",
       "      display: none;\n",
       "      fill: #1967D2;\n",
       "      height: 32px;\n",
       "      padding: 0 0 0 0;\n",
       "      width: 32px;\n",
       "    }\n",
       "\n",
       "    .colab-df-convert:hover {\n",
       "      background-color: #E2EBFA;\n",
       "      box-shadow: 0px 1px 2px rgba(60, 64, 67, 0.3), 0px 1px 3px 1px rgba(60, 64, 67, 0.15);\n",
       "      fill: #174EA6;\n",
       "    }\n",
       "\n",
       "    [theme=dark] .colab-df-convert {\n",
       "      background-color: #3B4455;\n",
       "      fill: #D2E3FC;\n",
       "    }\n",
       "\n",
       "    [theme=dark] .colab-df-convert:hover {\n",
       "      background-color: #434B5C;\n",
       "      box-shadow: 0px 1px 3px 1px rgba(0, 0, 0, 0.15);\n",
       "      filter: drop-shadow(0px 1px 2px rgba(0, 0, 0, 0.3));\n",
       "      fill: #FFFFFF;\n",
       "    }\n",
       "  </style>\n",
       "\n",
       "      <script>\n",
       "        const buttonEl =\n",
       "          document.querySelector('#df-f090cb40-c7e2-409c-9320-60358d9e1fc3 button.colab-df-convert');\n",
       "        buttonEl.style.display =\n",
       "          google.colab.kernel.accessAllowed ? 'block' : 'none';\n",
       "\n",
       "        async function convertToInteractive(key) {\n",
       "          const element = document.querySelector('#df-f090cb40-c7e2-409c-9320-60358d9e1fc3');\n",
       "          const dataTable =\n",
       "            await google.colab.kernel.invokeFunction('convertToInteractive',\n",
       "                                                     [key], {});\n",
       "          if (!dataTable) return;\n",
       "\n",
       "          const docLinkHtml = 'Like what you see? Visit the ' +\n",
       "            '<a target=\"_blank\" href=https://colab.research.google.com/notebooks/data_table.ipynb>data table notebook</a>'\n",
       "            + ' to learn more about interactive tables.';\n",
       "          element.innerHTML = '';\n",
       "          dataTable['output_type'] = 'display_data';\n",
       "          await google.colab.output.renderOutput(dataTable, element);\n",
       "          const docLink = document.createElement('div');\n",
       "          docLink.innerHTML = docLinkHtml;\n",
       "          element.appendChild(docLink);\n",
       "        }\n",
       "      </script>\n",
       "    </div>\n",
       "  </div>\n",
       "  "
      ],
      "text/plain": [
       "   Welfare_On_Welfare\n",
       "0                 0.0\n",
       "1                 0.0\n",
       "2                 0.0\n",
       "3                 0.0\n",
       "4                 0.0"
      ]
     },
     "execution_count": 407,
     "metadata": {},
     "output_type": "execute_result"
    }
   ],
   "source": [
    "#not welfare\n",
    "Welfare = pd.DataFrame(\n",
    "    ohe.transform(data[['Welfare']]).todense(),\n",
    "    columns = ohe.get_feature_names_out(),\n",
    "    index = data.index\n",
    ")\n",
    "\n",
    "Welfare.head()"
   ]
  },
  {
   "cell_type": "code",
   "execution_count": null,
   "id": "_gc8o2UKzVdz",
   "metadata": {
    "colab": {
     "base_uri": "https://localhost:8080/"
    },
    "executionInfo": {
     "elapsed": 65,
     "status": "ok",
     "timestamp": 1665778550506,
     "user": {
      "displayName": "Derek Hu",
      "userId": "14137525769356790466"
     },
     "user_tz": 420
    },
    "id": "_gc8o2UKzVdz",
    "outputId": "5271ad52-152f-41d5-cbb9-77b1ce347acb"
   },
   "outputs": [
    {
     "data": {
      "text/plain": [
       "OneHotEncoder(drop='first', handle_unknown='ignore')"
      ]
     },
     "execution_count": 408,
     "metadata": {},
     "output_type": "execute_result"
    }
   ],
   "source": [
    "#Use one_hot_encoder\n",
    "from sklearn.preprocessing import OneHotEncoder\n",
    "ohe = OneHotEncoder(handle_unknown='ignore', drop='first')\n",
    "ohe.fit(data[['Delay_MedCost']])"
   ]
  },
  {
   "cell_type": "code",
   "execution_count": null,
   "id": "H0jr5wwbzcbB",
   "metadata": {
    "colab": {
     "base_uri": "https://localhost:8080/",
     "height": 206
    },
    "executionInfo": {
     "elapsed": 30,
     "status": "ok",
     "timestamp": 1665778550507,
     "user": {
      "displayName": "Derek Hu",
      "userId": "14137525769356790466"
     },
     "user_tz": 420
    },
    "id": "H0jr5wwbzcbB",
    "outputId": "81e50ee1-2188-447d-92ee-73db7d60f3c9"
   },
   "outputs": [
    {
     "data": {
      "text/html": [
       "\n",
       "  <div id=\"df-3ed43b48-94d1-4d88-bd0e-ea955dab4c6d\">\n",
       "    <div class=\"colab-df-container\">\n",
       "      <div>\n",
       "<style scoped>\n",
       "    .dataframe tbody tr th:only-of-type {\n",
       "        vertical-align: middle;\n",
       "    }\n",
       "\n",
       "    .dataframe tbody tr th {\n",
       "        vertical-align: top;\n",
       "    }\n",
       "\n",
       "    .dataframe thead th {\n",
       "        text-align: right;\n",
       "    }\n",
       "</style>\n",
       "<table border=\"1\" class=\"dataframe\">\n",
       "  <thead>\n",
       "    <tr style=\"text-align: right;\">\n",
       "      <th></th>\n",
       "      <th>Delay_MedCost_No_DelayMed_Cost</th>\n",
       "    </tr>\n",
       "  </thead>\n",
       "  <tbody>\n",
       "    <tr>\n",
       "      <th>0</th>\n",
       "      <td>0.0</td>\n",
       "    </tr>\n",
       "    <tr>\n",
       "      <th>1</th>\n",
       "      <td>0.0</td>\n",
       "    </tr>\n",
       "    <tr>\n",
       "      <th>2</th>\n",
       "      <td>1.0</td>\n",
       "    </tr>\n",
       "    <tr>\n",
       "      <th>3</th>\n",
       "      <td>1.0</td>\n",
       "    </tr>\n",
       "    <tr>\n",
       "      <th>4</th>\n",
       "      <td>1.0</td>\n",
       "    </tr>\n",
       "  </tbody>\n",
       "</table>\n",
       "</div>\n",
       "      <button class=\"colab-df-convert\" onclick=\"convertToInteractive('df-3ed43b48-94d1-4d88-bd0e-ea955dab4c6d')\"\n",
       "              title=\"Convert this dataframe to an interactive table.\"\n",
       "              style=\"display:none;\">\n",
       "        \n",
       "  <svg xmlns=\"http://www.w3.org/2000/svg\" height=\"24px\"viewBox=\"0 0 24 24\"\n",
       "       width=\"24px\">\n",
       "    <path d=\"M0 0h24v24H0V0z\" fill=\"none\"/>\n",
       "    <path d=\"M18.56 5.44l.94 2.06.94-2.06 2.06-.94-2.06-.94-.94-2.06-.94 2.06-2.06.94zm-11 1L8.5 8.5l.94-2.06 2.06-.94-2.06-.94L8.5 2.5l-.94 2.06-2.06.94zm10 10l.94 2.06.94-2.06 2.06-.94-2.06-.94-.94-2.06-.94 2.06-2.06.94z\"/><path d=\"M17.41 7.96l-1.37-1.37c-.4-.4-.92-.59-1.43-.59-.52 0-1.04.2-1.43.59L10.3 9.45l-7.72 7.72c-.78.78-.78 2.05 0 2.83L4 21.41c.39.39.9.59 1.41.59.51 0 1.02-.2 1.41-.59l7.78-7.78 2.81-2.81c.8-.78.8-2.07 0-2.86zM5.41 20L4 18.59l7.72-7.72 1.47 1.35L5.41 20z\"/>\n",
       "  </svg>\n",
       "      </button>\n",
       "      \n",
       "  <style>\n",
       "    .colab-df-container {\n",
       "      display:flex;\n",
       "      flex-wrap:wrap;\n",
       "      gap: 12px;\n",
       "    }\n",
       "\n",
       "    .colab-df-convert {\n",
       "      background-color: #E8F0FE;\n",
       "      border: none;\n",
       "      border-radius: 50%;\n",
       "      cursor: pointer;\n",
       "      display: none;\n",
       "      fill: #1967D2;\n",
       "      height: 32px;\n",
       "      padding: 0 0 0 0;\n",
       "      width: 32px;\n",
       "    }\n",
       "\n",
       "    .colab-df-convert:hover {\n",
       "      background-color: #E2EBFA;\n",
       "      box-shadow: 0px 1px 2px rgba(60, 64, 67, 0.3), 0px 1px 3px 1px rgba(60, 64, 67, 0.15);\n",
       "      fill: #174EA6;\n",
       "    }\n",
       "\n",
       "    [theme=dark] .colab-df-convert {\n",
       "      background-color: #3B4455;\n",
       "      fill: #D2E3FC;\n",
       "    }\n",
       "\n",
       "    [theme=dark] .colab-df-convert:hover {\n",
       "      background-color: #434B5C;\n",
       "      box-shadow: 0px 1px 3px 1px rgba(0, 0, 0, 0.15);\n",
       "      filter: drop-shadow(0px 1px 2px rgba(0, 0, 0, 0.3));\n",
       "      fill: #FFFFFF;\n",
       "    }\n",
       "  </style>\n",
       "\n",
       "      <script>\n",
       "        const buttonEl =\n",
       "          document.querySelector('#df-3ed43b48-94d1-4d88-bd0e-ea955dab4c6d button.colab-df-convert');\n",
       "        buttonEl.style.display =\n",
       "          google.colab.kernel.accessAllowed ? 'block' : 'none';\n",
       "\n",
       "        async function convertToInteractive(key) {\n",
       "          const element = document.querySelector('#df-3ed43b48-94d1-4d88-bd0e-ea955dab4c6d');\n",
       "          const dataTable =\n",
       "            await google.colab.kernel.invokeFunction('convertToInteractive',\n",
       "                                                     [key], {});\n",
       "          if (!dataTable) return;\n",
       "\n",
       "          const docLinkHtml = 'Like what you see? Visit the ' +\n",
       "            '<a target=\"_blank\" href=https://colab.research.google.com/notebooks/data_table.ipynb>data table notebook</a>'\n",
       "            + ' to learn more about interactive tables.';\n",
       "          element.innerHTML = '';\n",
       "          dataTable['output_type'] = 'display_data';\n",
       "          await google.colab.output.renderOutput(dataTable, element);\n",
       "          const docLink = document.createElement('div');\n",
       "          docLink.innerHTML = docLinkHtml;\n",
       "          element.appendChild(docLink);\n",
       "        }\n",
       "      </script>\n",
       "    </div>\n",
       "  </div>\n",
       "  "
      ],
      "text/plain": [
       "   Delay_MedCost_No_DelayMed_Cost\n",
       "0                             0.0\n",
       "1                             0.0\n",
       "2                             1.0\n",
       "3                             1.0\n",
       "4                             1.0"
      ]
     },
     "execution_count": 409,
     "metadata": {},
     "output_type": "execute_result"
    }
   ],
   "source": [
    "Delay_MedCost = pd.DataFrame(\n",
    "    ohe.transform(data[['Delay_MedCost']]).todense(),\n",
    "    columns = ohe.get_feature_names_out(),\n",
    "    index = data.index\n",
    ")\n",
    "\n",
    "Delay_MedCost.head()"
   ]
  },
  {
   "cell_type": "code",
   "execution_count": null,
   "id": "rt-17lMKzf2s",
   "metadata": {
    "colab": {
     "base_uri": "https://localhost:8080/"
    },
    "executionInfo": {
     "elapsed": 30,
     "status": "ok",
     "timestamp": 1665778553999,
     "user": {
      "displayName": "Derek Hu",
      "userId": "14137525769356790466"
     },
     "user_tz": 420
    },
    "id": "rt-17lMKzf2s",
    "outputId": "a689401f-0226-468d-f4f5-6de7da2db4c1"
   },
   "outputs": [
    {
     "data": {
      "text/plain": [
       "OneHotEncoder(drop='first', handle_unknown='ignore')"
      ]
     },
     "execution_count": 410,
     "metadata": {},
     "output_type": "execute_result"
    }
   ],
   "source": [
    "#Use one_hot_encoder\n",
    "from sklearn.preprocessing import OneHotEncoder\n",
    "ohe = OneHotEncoder(handle_unknown='ignore', drop='first')\n",
    "ohe.fit(data[['Diabetic']])"
   ]
  },
  {
   "cell_type": "code",
   "execution_count": null,
   "id": "JZhIBWjOzkUw",
   "metadata": {
    "colab": {
     "base_uri": "https://localhost:8080/",
     "height": 206
    },
    "executionInfo": {
     "elapsed": 37,
     "status": "ok",
     "timestamp": 1665778554011,
     "user": {
      "displayName": "Derek Hu",
      "userId": "14137525769356790466"
     },
     "user_tz": 420
    },
    "id": "JZhIBWjOzkUw",
    "outputId": "235f80b0-bb00-4d13-9e7d-35d315e90406"
   },
   "outputs": [
    {
     "data": {
      "text/html": [
       "\n",
       "  <div id=\"df-af0bb73e-d1e1-4961-8c67-1585ef576e59\">\n",
       "    <div class=\"colab-df-container\">\n",
       "      <div>\n",
       "<style scoped>\n",
       "    .dataframe tbody tr th:only-of-type {\n",
       "        vertical-align: middle;\n",
       "    }\n",
       "\n",
       "    .dataframe tbody tr th {\n",
       "        vertical-align: top;\n",
       "    }\n",
       "\n",
       "    .dataframe thead th {\n",
       "        text-align: right;\n",
       "    }\n",
       "</style>\n",
       "<table border=\"1\" class=\"dataframe\">\n",
       "  <thead>\n",
       "    <tr style=\"text-align: right;\">\n",
       "      <th></th>\n",
       "      <th>Diabetic_Not_Diabetic</th>\n",
       "    </tr>\n",
       "  </thead>\n",
       "  <tbody>\n",
       "    <tr>\n",
       "      <th>0</th>\n",
       "      <td>1.0</td>\n",
       "    </tr>\n",
       "    <tr>\n",
       "      <th>1</th>\n",
       "      <td>1.0</td>\n",
       "    </tr>\n",
       "    <tr>\n",
       "      <th>2</th>\n",
       "      <td>1.0</td>\n",
       "    </tr>\n",
       "    <tr>\n",
       "      <th>3</th>\n",
       "      <td>1.0</td>\n",
       "    </tr>\n",
       "    <tr>\n",
       "      <th>4</th>\n",
       "      <td>1.0</td>\n",
       "    </tr>\n",
       "  </tbody>\n",
       "</table>\n",
       "</div>\n",
       "      <button class=\"colab-df-convert\" onclick=\"convertToInteractive('df-af0bb73e-d1e1-4961-8c67-1585ef576e59')\"\n",
       "              title=\"Convert this dataframe to an interactive table.\"\n",
       "              style=\"display:none;\">\n",
       "        \n",
       "  <svg xmlns=\"http://www.w3.org/2000/svg\" height=\"24px\"viewBox=\"0 0 24 24\"\n",
       "       width=\"24px\">\n",
       "    <path d=\"M0 0h24v24H0V0z\" fill=\"none\"/>\n",
       "    <path d=\"M18.56 5.44l.94 2.06.94-2.06 2.06-.94-2.06-.94-.94-2.06-.94 2.06-2.06.94zm-11 1L8.5 8.5l.94-2.06 2.06-.94-2.06-.94L8.5 2.5l-.94 2.06-2.06.94zm10 10l.94 2.06.94-2.06 2.06-.94-2.06-.94-.94-2.06-.94 2.06-2.06.94z\"/><path d=\"M17.41 7.96l-1.37-1.37c-.4-.4-.92-.59-1.43-.59-.52 0-1.04.2-1.43.59L10.3 9.45l-7.72 7.72c-.78.78-.78 2.05 0 2.83L4 21.41c.39.39.9.59 1.41.59.51 0 1.02-.2 1.41-.59l7.78-7.78 2.81-2.81c.8-.78.8-2.07 0-2.86zM5.41 20L4 18.59l7.72-7.72 1.47 1.35L5.41 20z\"/>\n",
       "  </svg>\n",
       "      </button>\n",
       "      \n",
       "  <style>\n",
       "    .colab-df-container {\n",
       "      display:flex;\n",
       "      flex-wrap:wrap;\n",
       "      gap: 12px;\n",
       "    }\n",
       "\n",
       "    .colab-df-convert {\n",
       "      background-color: #E8F0FE;\n",
       "      border: none;\n",
       "      border-radius: 50%;\n",
       "      cursor: pointer;\n",
       "      display: none;\n",
       "      fill: #1967D2;\n",
       "      height: 32px;\n",
       "      padding: 0 0 0 0;\n",
       "      width: 32px;\n",
       "    }\n",
       "\n",
       "    .colab-df-convert:hover {\n",
       "      background-color: #E2EBFA;\n",
       "      box-shadow: 0px 1px 2px rgba(60, 64, 67, 0.3), 0px 1px 3px 1px rgba(60, 64, 67, 0.15);\n",
       "      fill: #174EA6;\n",
       "    }\n",
       "\n",
       "    [theme=dark] .colab-df-convert {\n",
       "      background-color: #3B4455;\n",
       "      fill: #D2E3FC;\n",
       "    }\n",
       "\n",
       "    [theme=dark] .colab-df-convert:hover {\n",
       "      background-color: #434B5C;\n",
       "      box-shadow: 0px 1px 3px 1px rgba(0, 0, 0, 0.15);\n",
       "      filter: drop-shadow(0px 1px 2px rgba(0, 0, 0, 0.3));\n",
       "      fill: #FFFFFF;\n",
       "    }\n",
       "  </style>\n",
       "\n",
       "      <script>\n",
       "        const buttonEl =\n",
       "          document.querySelector('#df-af0bb73e-d1e1-4961-8c67-1585ef576e59 button.colab-df-convert');\n",
       "        buttonEl.style.display =\n",
       "          google.colab.kernel.accessAllowed ? 'block' : 'none';\n",
       "\n",
       "        async function convertToInteractive(key) {\n",
       "          const element = document.querySelector('#df-af0bb73e-d1e1-4961-8c67-1585ef576e59');\n",
       "          const dataTable =\n",
       "            await google.colab.kernel.invokeFunction('convertToInteractive',\n",
       "                                                     [key], {});\n",
       "          if (!dataTable) return;\n",
       "\n",
       "          const docLinkHtml = 'Like what you see? Visit the ' +\n",
       "            '<a target=\"_blank\" href=https://colab.research.google.com/notebooks/data_table.ipynb>data table notebook</a>'\n",
       "            + ' to learn more about interactive tables.';\n",
       "          element.innerHTML = '';\n",
       "          dataTable['output_type'] = 'display_data';\n",
       "          await google.colab.output.renderOutput(dataTable, element);\n",
       "          const docLink = document.createElement('div');\n",
       "          docLink.innerHTML = docLinkHtml;\n",
       "          element.appendChild(docLink);\n",
       "        }\n",
       "      </script>\n",
       "    </div>\n",
       "  </div>\n",
       "  "
      ],
      "text/plain": [
       "   Diabetic_Not_Diabetic\n",
       "0                    1.0\n",
       "1                    1.0\n",
       "2                    1.0\n",
       "3                    1.0\n",
       "4                    1.0"
      ]
     },
     "execution_count": 411,
     "metadata": {},
     "output_type": "execute_result"
    }
   ],
   "source": [
    "Diabetic = pd.DataFrame(\n",
    "    ohe.transform(data[['Diabetic']]).todense(),\n",
    "    columns = ohe.get_feature_names_out(),\n",
    "    index = data.index\n",
    ")\n",
    "\n",
    "Diabetic.head()"
   ]
  },
  {
   "cell_type": "code",
   "execution_count": null,
   "id": "1IIjm0mwzn71",
   "metadata": {
    "colab": {
     "base_uri": "https://localhost:8080/"
    },
    "executionInfo": {
     "elapsed": 39,
     "status": "ok",
     "timestamp": 1665778554015,
     "user": {
      "displayName": "Derek Hu",
      "userId": "14137525769356790466"
     },
     "user_tz": 420
    },
    "id": "1IIjm0mwzn71",
    "outputId": "338bcdd7-954b-4b2f-c5ad-208baf48f7ac"
   },
   "outputs": [
    {
     "data": {
      "text/plain": [
       "OneHotEncoder(drop='first', handle_unknown='ignore')"
      ]
     },
     "execution_count": 412,
     "metadata": {},
     "output_type": "execute_result"
    }
   ],
   "source": [
    "#Use one_hot_encoder\n",
    "from sklearn.preprocessing import OneHotEncoder\n",
    "ohe = OneHotEncoder(handle_unknown='ignore', drop='first')\n",
    "ohe.fit(data[['Smoking']])"
   ]
  },
  {
   "cell_type": "code",
   "execution_count": null,
   "id": "j8ENxBtlztZG",
   "metadata": {
    "colab": {
     "base_uri": "https://localhost:8080/",
     "height": 206
    },
    "executionInfo": {
     "elapsed": 48,
     "status": "ok",
     "timestamp": 1665778554867,
     "user": {
      "displayName": "Derek Hu",
      "userId": "14137525769356790466"
     },
     "user_tz": 420
    },
    "id": "j8ENxBtlztZG",
    "outputId": "46d69891-4d86-4599-c28b-68614c36aafc"
   },
   "outputs": [
    {
     "data": {
      "text/html": [
       "\n",
       "  <div id=\"df-011ae662-3354-4785-993e-8c6eabf62a94\">\n",
       "    <div class=\"colab-df-container\">\n",
       "      <div>\n",
       "<style scoped>\n",
       "    .dataframe tbody tr th:only-of-type {\n",
       "        vertical-align: middle;\n",
       "    }\n",
       "\n",
       "    .dataframe tbody tr th {\n",
       "        vertical-align: top;\n",
       "    }\n",
       "\n",
       "    .dataframe thead th {\n",
       "        text-align: right;\n",
       "    }\n",
       "</style>\n",
       "<table border=\"1\" class=\"dataframe\">\n",
       "  <thead>\n",
       "    <tr style=\"text-align: right;\">\n",
       "      <th></th>\n",
       "      <th>Smoking_Smoking</th>\n",
       "    </tr>\n",
       "  </thead>\n",
       "  <tbody>\n",
       "    <tr>\n",
       "      <th>0</th>\n",
       "      <td>0.0</td>\n",
       "    </tr>\n",
       "    <tr>\n",
       "      <th>1</th>\n",
       "      <td>0.0</td>\n",
       "    </tr>\n",
       "    <tr>\n",
       "      <th>2</th>\n",
       "      <td>0.0</td>\n",
       "    </tr>\n",
       "    <tr>\n",
       "      <th>3</th>\n",
       "      <td>0.0</td>\n",
       "    </tr>\n",
       "    <tr>\n",
       "      <th>4</th>\n",
       "      <td>1.0</td>\n",
       "    </tr>\n",
       "  </tbody>\n",
       "</table>\n",
       "</div>\n",
       "      <button class=\"colab-df-convert\" onclick=\"convertToInteractive('df-011ae662-3354-4785-993e-8c6eabf62a94')\"\n",
       "              title=\"Convert this dataframe to an interactive table.\"\n",
       "              style=\"display:none;\">\n",
       "        \n",
       "  <svg xmlns=\"http://www.w3.org/2000/svg\" height=\"24px\"viewBox=\"0 0 24 24\"\n",
       "       width=\"24px\">\n",
       "    <path d=\"M0 0h24v24H0V0z\" fill=\"none\"/>\n",
       "    <path d=\"M18.56 5.44l.94 2.06.94-2.06 2.06-.94-2.06-.94-.94-2.06-.94 2.06-2.06.94zm-11 1L8.5 8.5l.94-2.06 2.06-.94-2.06-.94L8.5 2.5l-.94 2.06-2.06.94zm10 10l.94 2.06.94-2.06 2.06-.94-2.06-.94-.94-2.06-.94 2.06-2.06.94z\"/><path d=\"M17.41 7.96l-1.37-1.37c-.4-.4-.92-.59-1.43-.59-.52 0-1.04.2-1.43.59L10.3 9.45l-7.72 7.72c-.78.78-.78 2.05 0 2.83L4 21.41c.39.39.9.59 1.41.59.51 0 1.02-.2 1.41-.59l7.78-7.78 2.81-2.81c.8-.78.8-2.07 0-2.86zM5.41 20L4 18.59l7.72-7.72 1.47 1.35L5.41 20z\"/>\n",
       "  </svg>\n",
       "      </button>\n",
       "      \n",
       "  <style>\n",
       "    .colab-df-container {\n",
       "      display:flex;\n",
       "      flex-wrap:wrap;\n",
       "      gap: 12px;\n",
       "    }\n",
       "\n",
       "    .colab-df-convert {\n",
       "      background-color: #E8F0FE;\n",
       "      border: none;\n",
       "      border-radius: 50%;\n",
       "      cursor: pointer;\n",
       "      display: none;\n",
       "      fill: #1967D2;\n",
       "      height: 32px;\n",
       "      padding: 0 0 0 0;\n",
       "      width: 32px;\n",
       "    }\n",
       "\n",
       "    .colab-df-convert:hover {\n",
       "      background-color: #E2EBFA;\n",
       "      box-shadow: 0px 1px 2px rgba(60, 64, 67, 0.3), 0px 1px 3px 1px rgba(60, 64, 67, 0.15);\n",
       "      fill: #174EA6;\n",
       "    }\n",
       "\n",
       "    [theme=dark] .colab-df-convert {\n",
       "      background-color: #3B4455;\n",
       "      fill: #D2E3FC;\n",
       "    }\n",
       "\n",
       "    [theme=dark] .colab-df-convert:hover {\n",
       "      background-color: #434B5C;\n",
       "      box-shadow: 0px 1px 3px 1px rgba(0, 0, 0, 0.15);\n",
       "      filter: drop-shadow(0px 1px 2px rgba(0, 0, 0, 0.3));\n",
       "      fill: #FFFFFF;\n",
       "    }\n",
       "  </style>\n",
       "\n",
       "      <script>\n",
       "        const buttonEl =\n",
       "          document.querySelector('#df-011ae662-3354-4785-993e-8c6eabf62a94 button.colab-df-convert');\n",
       "        buttonEl.style.display =\n",
       "          google.colab.kernel.accessAllowed ? 'block' : 'none';\n",
       "\n",
       "        async function convertToInteractive(key) {\n",
       "          const element = document.querySelector('#df-011ae662-3354-4785-993e-8c6eabf62a94');\n",
       "          const dataTable =\n",
       "            await google.colab.kernel.invokeFunction('convertToInteractive',\n",
       "                                                     [key], {});\n",
       "          if (!dataTable) return;\n",
       "\n",
       "          const docLinkHtml = 'Like what you see? Visit the ' +\n",
       "            '<a target=\"_blank\" href=https://colab.research.google.com/notebooks/data_table.ipynb>data table notebook</a>'\n",
       "            + ' to learn more about interactive tables.';\n",
       "          element.innerHTML = '';\n",
       "          dataTable['output_type'] = 'display_data';\n",
       "          await google.colab.output.renderOutput(dataTable, element);\n",
       "          const docLink = document.createElement('div');\n",
       "          docLink.innerHTML = docLinkHtml;\n",
       "          element.appendChild(docLink);\n",
       "        }\n",
       "      </script>\n",
       "    </div>\n",
       "  </div>\n",
       "  "
      ],
      "text/plain": [
       "   Smoking_Smoking\n",
       "0              0.0\n",
       "1              0.0\n",
       "2              0.0\n",
       "3              0.0\n",
       "4              1.0"
      ]
     },
     "execution_count": 413,
     "metadata": {},
     "output_type": "execute_result"
    }
   ],
   "source": [
    "Smoking = pd.DataFrame(\n",
    "    ohe.transform(data[['Smoking']]).todense(),\n",
    "    columns = ohe.get_feature_names_out(),\n",
    "    index = data.index\n",
    ")\n",
    "\n",
    "Smoking.head()"
   ]
  },
  {
   "cell_type": "code",
   "execution_count": null,
   "id": "qZFvomRizwk5",
   "metadata": {
    "colab": {
     "base_uri": "https://localhost:8080/"
    },
    "executionInfo": {
     "elapsed": 42,
     "status": "ok",
     "timestamp": 1665778554868,
     "user": {
      "displayName": "Derek Hu",
      "userId": "14137525769356790466"
     },
     "user_tz": 420
    },
    "id": "qZFvomRizwk5",
    "outputId": "441e57fe-7e6a-4234-8d68-878450152b4a"
   },
   "outputs": [
    {
     "data": {
      "text/plain": [
       "OneHotEncoder(drop='first', handle_unknown='ignore')"
      ]
     },
     "execution_count": 414,
     "metadata": {},
     "output_type": "execute_result"
    }
   ],
   "source": [
    "#Use one_hot_encoder\n",
    "from sklearn.preprocessing import OneHotEncoder\n",
    "ohe = OneHotEncoder(handle_unknown='ignore', drop='first')\n",
    "ohe.fit(data[['Depressed']])"
   ]
  },
  {
   "cell_type": "code",
   "execution_count": null,
   "id": "TSGw7-OPz2Zb",
   "metadata": {
    "colab": {
     "base_uri": "https://localhost:8080/",
     "height": 206
    },
    "executionInfo": {
     "elapsed": 31,
     "status": "ok",
     "timestamp": 1665778554869,
     "user": {
      "displayName": "Derek Hu",
      "userId": "14137525769356790466"
     },
     "user_tz": 420
    },
    "id": "TSGw7-OPz2Zb",
    "outputId": "7718168e-948a-4587-c134-8f9a7c17ea0b"
   },
   "outputs": [
    {
     "data": {
      "text/html": [
       "\n",
       "  <div id=\"df-fc5af1fb-acef-4c9f-8df1-ad6410e99eda\">\n",
       "    <div class=\"colab-df-container\">\n",
       "      <div>\n",
       "<style scoped>\n",
       "    .dataframe tbody tr th:only-of-type {\n",
       "        vertical-align: middle;\n",
       "    }\n",
       "\n",
       "    .dataframe tbody tr th {\n",
       "        vertical-align: top;\n",
       "    }\n",
       "\n",
       "    .dataframe thead th {\n",
       "        text-align: right;\n",
       "    }\n",
       "</style>\n",
       "<table border=\"1\" class=\"dataframe\">\n",
       "  <thead>\n",
       "    <tr style=\"text-align: right;\">\n",
       "      <th></th>\n",
       "      <th>Depressed_NIU_Depressed</th>\n",
       "      <th>Depressed_Not_Depressed</th>\n",
       "    </tr>\n",
       "  </thead>\n",
       "  <tbody>\n",
       "    <tr>\n",
       "      <th>0</th>\n",
       "      <td>1.0</td>\n",
       "      <td>0.0</td>\n",
       "    </tr>\n",
       "    <tr>\n",
       "      <th>1</th>\n",
       "      <td>1.0</td>\n",
       "      <td>0.0</td>\n",
       "    </tr>\n",
       "    <tr>\n",
       "      <th>2</th>\n",
       "      <td>0.0</td>\n",
       "      <td>1.0</td>\n",
       "    </tr>\n",
       "    <tr>\n",
       "      <th>3</th>\n",
       "      <td>0.0</td>\n",
       "      <td>1.0</td>\n",
       "    </tr>\n",
       "    <tr>\n",
       "      <th>4</th>\n",
       "      <td>1.0</td>\n",
       "      <td>0.0</td>\n",
       "    </tr>\n",
       "  </tbody>\n",
       "</table>\n",
       "</div>\n",
       "      <button class=\"colab-df-convert\" onclick=\"convertToInteractive('df-fc5af1fb-acef-4c9f-8df1-ad6410e99eda')\"\n",
       "              title=\"Convert this dataframe to an interactive table.\"\n",
       "              style=\"display:none;\">\n",
       "        \n",
       "  <svg xmlns=\"http://www.w3.org/2000/svg\" height=\"24px\"viewBox=\"0 0 24 24\"\n",
       "       width=\"24px\">\n",
       "    <path d=\"M0 0h24v24H0V0z\" fill=\"none\"/>\n",
       "    <path d=\"M18.56 5.44l.94 2.06.94-2.06 2.06-.94-2.06-.94-.94-2.06-.94 2.06-2.06.94zm-11 1L8.5 8.5l.94-2.06 2.06-.94-2.06-.94L8.5 2.5l-.94 2.06-2.06.94zm10 10l.94 2.06.94-2.06 2.06-.94-2.06-.94-.94-2.06-.94 2.06-2.06.94z\"/><path d=\"M17.41 7.96l-1.37-1.37c-.4-.4-.92-.59-1.43-.59-.52 0-1.04.2-1.43.59L10.3 9.45l-7.72 7.72c-.78.78-.78 2.05 0 2.83L4 21.41c.39.39.9.59 1.41.59.51 0 1.02-.2 1.41-.59l7.78-7.78 2.81-2.81c.8-.78.8-2.07 0-2.86zM5.41 20L4 18.59l7.72-7.72 1.47 1.35L5.41 20z\"/>\n",
       "  </svg>\n",
       "      </button>\n",
       "      \n",
       "  <style>\n",
       "    .colab-df-container {\n",
       "      display:flex;\n",
       "      flex-wrap:wrap;\n",
       "      gap: 12px;\n",
       "    }\n",
       "\n",
       "    .colab-df-convert {\n",
       "      background-color: #E8F0FE;\n",
       "      border: none;\n",
       "      border-radius: 50%;\n",
       "      cursor: pointer;\n",
       "      display: none;\n",
       "      fill: #1967D2;\n",
       "      height: 32px;\n",
       "      padding: 0 0 0 0;\n",
       "      width: 32px;\n",
       "    }\n",
       "\n",
       "    .colab-df-convert:hover {\n",
       "      background-color: #E2EBFA;\n",
       "      box-shadow: 0px 1px 2px rgba(60, 64, 67, 0.3), 0px 1px 3px 1px rgba(60, 64, 67, 0.15);\n",
       "      fill: #174EA6;\n",
       "    }\n",
       "\n",
       "    [theme=dark] .colab-df-convert {\n",
       "      background-color: #3B4455;\n",
       "      fill: #D2E3FC;\n",
       "    }\n",
       "\n",
       "    [theme=dark] .colab-df-convert:hover {\n",
       "      background-color: #434B5C;\n",
       "      box-shadow: 0px 1px 3px 1px rgba(0, 0, 0, 0.15);\n",
       "      filter: drop-shadow(0px 1px 2px rgba(0, 0, 0, 0.3));\n",
       "      fill: #FFFFFF;\n",
       "    }\n",
       "  </style>\n",
       "\n",
       "      <script>\n",
       "        const buttonEl =\n",
       "          document.querySelector('#df-fc5af1fb-acef-4c9f-8df1-ad6410e99eda button.colab-df-convert');\n",
       "        buttonEl.style.display =\n",
       "          google.colab.kernel.accessAllowed ? 'block' : 'none';\n",
       "\n",
       "        async function convertToInteractive(key) {\n",
       "          const element = document.querySelector('#df-fc5af1fb-acef-4c9f-8df1-ad6410e99eda');\n",
       "          const dataTable =\n",
       "            await google.colab.kernel.invokeFunction('convertToInteractive',\n",
       "                                                     [key], {});\n",
       "          if (!dataTable) return;\n",
       "\n",
       "          const docLinkHtml = 'Like what you see? Visit the ' +\n",
       "            '<a target=\"_blank\" href=https://colab.research.google.com/notebooks/data_table.ipynb>data table notebook</a>'\n",
       "            + ' to learn more about interactive tables.';\n",
       "          element.innerHTML = '';\n",
       "          dataTable['output_type'] = 'display_data';\n",
       "          await google.colab.output.renderOutput(dataTable, element);\n",
       "          const docLink = document.createElement('div');\n",
       "          docLink.innerHTML = docLinkHtml;\n",
       "          element.appendChild(docLink);\n",
       "        }\n",
       "      </script>\n",
       "    </div>\n",
       "  </div>\n",
       "  "
      ],
      "text/plain": [
       "   Depressed_NIU_Depressed  Depressed_Not_Depressed\n",
       "0                      1.0                      0.0\n",
       "1                      1.0                      0.0\n",
       "2                      0.0                      1.0\n",
       "3                      0.0                      1.0\n",
       "4                      1.0                      0.0"
      ]
     },
     "execution_count": 415,
     "metadata": {},
     "output_type": "execute_result"
    }
   ],
   "source": [
    "Depressed = pd.DataFrame(\n",
    "    ohe.transform(data[['Depressed']]).todense(),\n",
    "    columns = ohe.get_feature_names_out(),\n",
    "    index = data.index\n",
    ")\n",
    "\n",
    "Depressed.head()"
   ]
  },
  {
   "cell_type": "code",
   "execution_count": null,
   "id": "20db4022-8857-4f9d-bc30-4a8f50cb6864",
   "metadata": {
    "id": "20db4022-8857-4f9d-bc30-4a8f50cb6864"
   },
   "outputs": [],
   "source": [
    "data_x = pd.concat([age, hrswrk, health, income, SSI, Health_Coverage,\n",
    "       Education, JobOccupation, NoBalancedMeals, Ownership_home, \n",
    "       highchol, worrymedbills, insulin, foodsecurity, race,\n",
    "       Welfare, Delay_MedCost, Diabetic, Smoking, Depressed], axis=1)"
   ]
  },
  {
   "cell_type": "code",
   "execution_count": null,
   "id": "E0zH5ATaYmkD",
   "metadata": {
    "id": "E0zH5ATaYmkD"
   },
   "outputs": [],
   "source": [
    "data_y = data[['cancer_count']]"
   ]
  },
  {
   "cell_type": "code",
   "execution_count": null,
   "id": "x3jDKl8RmbPe",
   "metadata": {
    "colab": {
     "base_uri": "https://localhost:8080/",
     "height": 206
    },
    "executionInfo": {
     "elapsed": 26,
     "status": "ok",
     "timestamp": 1665778554873,
     "user": {
      "displayName": "Derek Hu",
      "userId": "14137525769356790466"
     },
     "user_tz": 420
    },
    "id": "x3jDKl8RmbPe",
    "outputId": "0db94085-573c-4ae6-859b-e004b5afe85b"
   },
   "outputs": [
    {
     "data": {
      "text/html": [
       "\n",
       "  <div id=\"df-e58ad0db-9cdb-486e-9314-a2b8281550a2\">\n",
       "    <div class=\"colab-df-container\">\n",
       "      <div>\n",
       "<style scoped>\n",
       "    .dataframe tbody tr th:only-of-type {\n",
       "        vertical-align: middle;\n",
       "    }\n",
       "\n",
       "    .dataframe tbody tr th {\n",
       "        vertical-align: top;\n",
       "    }\n",
       "\n",
       "    .dataframe thead th {\n",
       "        text-align: right;\n",
       "    }\n",
       "</style>\n",
       "<table border=\"1\" class=\"dataframe\">\n",
       "  <thead>\n",
       "    <tr style=\"text-align: right;\">\n",
       "      <th></th>\n",
       "      <th>cancer_count</th>\n",
       "    </tr>\n",
       "  </thead>\n",
       "  <tbody>\n",
       "    <tr>\n",
       "      <th>0</th>\n",
       "      <td>0</td>\n",
       "    </tr>\n",
       "    <tr>\n",
       "      <th>1</th>\n",
       "      <td>0</td>\n",
       "    </tr>\n",
       "    <tr>\n",
       "      <th>2</th>\n",
       "      <td>0</td>\n",
       "    </tr>\n",
       "    <tr>\n",
       "      <th>3</th>\n",
       "      <td>0</td>\n",
       "    </tr>\n",
       "    <tr>\n",
       "      <th>4</th>\n",
       "      <td>0</td>\n",
       "    </tr>\n",
       "  </tbody>\n",
       "</table>\n",
       "</div>\n",
       "      <button class=\"colab-df-convert\" onclick=\"convertToInteractive('df-e58ad0db-9cdb-486e-9314-a2b8281550a2')\"\n",
       "              title=\"Convert this dataframe to an interactive table.\"\n",
       "              style=\"display:none;\">\n",
       "        \n",
       "  <svg xmlns=\"http://www.w3.org/2000/svg\" height=\"24px\"viewBox=\"0 0 24 24\"\n",
       "       width=\"24px\">\n",
       "    <path d=\"M0 0h24v24H0V0z\" fill=\"none\"/>\n",
       "    <path d=\"M18.56 5.44l.94 2.06.94-2.06 2.06-.94-2.06-.94-.94-2.06-.94 2.06-2.06.94zm-11 1L8.5 8.5l.94-2.06 2.06-.94-2.06-.94L8.5 2.5l-.94 2.06-2.06.94zm10 10l.94 2.06.94-2.06 2.06-.94-2.06-.94-.94-2.06-.94 2.06-2.06.94z\"/><path d=\"M17.41 7.96l-1.37-1.37c-.4-.4-.92-.59-1.43-.59-.52 0-1.04.2-1.43.59L10.3 9.45l-7.72 7.72c-.78.78-.78 2.05 0 2.83L4 21.41c.39.39.9.59 1.41.59.51 0 1.02-.2 1.41-.59l7.78-7.78 2.81-2.81c.8-.78.8-2.07 0-2.86zM5.41 20L4 18.59l7.72-7.72 1.47 1.35L5.41 20z\"/>\n",
       "  </svg>\n",
       "      </button>\n",
       "      \n",
       "  <style>\n",
       "    .colab-df-container {\n",
       "      display:flex;\n",
       "      flex-wrap:wrap;\n",
       "      gap: 12px;\n",
       "    }\n",
       "\n",
       "    .colab-df-convert {\n",
       "      background-color: #E8F0FE;\n",
       "      border: none;\n",
       "      border-radius: 50%;\n",
       "      cursor: pointer;\n",
       "      display: none;\n",
       "      fill: #1967D2;\n",
       "      height: 32px;\n",
       "      padding: 0 0 0 0;\n",
       "      width: 32px;\n",
       "    }\n",
       "\n",
       "    .colab-df-convert:hover {\n",
       "      background-color: #E2EBFA;\n",
       "      box-shadow: 0px 1px 2px rgba(60, 64, 67, 0.3), 0px 1px 3px 1px rgba(60, 64, 67, 0.15);\n",
       "      fill: #174EA6;\n",
       "    }\n",
       "\n",
       "    [theme=dark] .colab-df-convert {\n",
       "      background-color: #3B4455;\n",
       "      fill: #D2E3FC;\n",
       "    }\n",
       "\n",
       "    [theme=dark] .colab-df-convert:hover {\n",
       "      background-color: #434B5C;\n",
       "      box-shadow: 0px 1px 3px 1px rgba(0, 0, 0, 0.15);\n",
       "      filter: drop-shadow(0px 1px 2px rgba(0, 0, 0, 0.3));\n",
       "      fill: #FFFFFF;\n",
       "    }\n",
       "  </style>\n",
       "\n",
       "      <script>\n",
       "        const buttonEl =\n",
       "          document.querySelector('#df-e58ad0db-9cdb-486e-9314-a2b8281550a2 button.colab-df-convert');\n",
       "        buttonEl.style.display =\n",
       "          google.colab.kernel.accessAllowed ? 'block' : 'none';\n",
       "\n",
       "        async function convertToInteractive(key) {\n",
       "          const element = document.querySelector('#df-e58ad0db-9cdb-486e-9314-a2b8281550a2');\n",
       "          const dataTable =\n",
       "            await google.colab.kernel.invokeFunction('convertToInteractive',\n",
       "                                                     [key], {});\n",
       "          if (!dataTable) return;\n",
       "\n",
       "          const docLinkHtml = 'Like what you see? Visit the ' +\n",
       "            '<a target=\"_blank\" href=https://colab.research.google.com/notebooks/data_table.ipynb>data table notebook</a>'\n",
       "            + ' to learn more about interactive tables.';\n",
       "          element.innerHTML = '';\n",
       "          dataTable['output_type'] = 'display_data';\n",
       "          await google.colab.output.renderOutput(dataTable, element);\n",
       "          const docLink = document.createElement('div');\n",
       "          docLink.innerHTML = docLinkHtml;\n",
       "          element.appendChild(docLink);\n",
       "        }\n",
       "      </script>\n",
       "    </div>\n",
       "  </div>\n",
       "  "
      ],
      "text/plain": [
       "   cancer_count\n",
       "0             0\n",
       "1             0\n",
       "2             0\n",
       "3             0\n",
       "4             0"
      ]
     },
     "execution_count": 418,
     "metadata": {},
     "output_type": "execute_result"
    }
   ],
   "source": [
    "data_y.head()"
   ]
  },
  {
   "cell_type": "code",
   "execution_count": null,
   "id": "g1RshcbYiy-n",
   "metadata": {
    "colab": {
     "base_uri": "https://localhost:8080/",
     "height": 322
    },
    "executionInfo": {
     "elapsed": 381,
     "status": "ok",
     "timestamp": 1665778556237,
     "user": {
      "displayName": "Derek Hu",
      "userId": "14137525769356790466"
     },
     "user_tz": 420
    },
    "id": "g1RshcbYiy-n",
    "outputId": "074d8964-526a-4d70-a814-91dd80c89110"
   },
   "outputs": [
    {
     "data": {
      "text/html": [
       "\n",
       "  <div id=\"df-e2f0893a-b7cd-4c81-9876-356ae6442448\">\n",
       "    <div class=\"colab-df-container\">\n",
       "      <div>\n",
       "<style scoped>\n",
       "    .dataframe tbody tr th:only-of-type {\n",
       "        vertical-align: middle;\n",
       "    }\n",
       "\n",
       "    .dataframe tbody tr th {\n",
       "        vertical-align: top;\n",
       "    }\n",
       "\n",
       "    .dataframe thead th {\n",
       "        text-align: right;\n",
       "    }\n",
       "</style>\n",
       "<table border=\"1\" class=\"dataframe\">\n",
       "  <thead>\n",
       "    <tr style=\"text-align: right;\">\n",
       "      <th></th>\n",
       "      <th>age_Lower_Middle_Aged</th>\n",
       "      <th>age_Middle_Aged</th>\n",
       "      <th>age_Upper_Middle_Aged</th>\n",
       "      <th>age_Young</th>\n",
       "      <th>hrswrk_HoursWrk_30-40</th>\n",
       "      <th>hrswrk_HoursWrk_40-60</th>\n",
       "      <th>hrswrk_HoursWrk_60+</th>\n",
       "      <th>health_Fair</th>\n",
       "      <th>health_Good_Health</th>\n",
       "      <th>health_Poor_Health</th>\n",
       "      <th>health_Very_Good_Health</th>\n",
       "      <th>income_Low-Income</th>\n",
       "      <th>income_Lower-Middle-Income</th>\n",
       "      <th>income_Middle-Income</th>\n",
       "      <th>income_Very-High-Income</th>\n",
       "      <th>SSI_Yes_SSI</th>\n",
       "      <th>Health_Coverage_No_healthcoverage</th>\n",
       "      <th>Education_High_School_Graduate</th>\n",
       "      <th>Education_High_School_Or_Less</th>\n",
       "      <th>Education_Masters_Degree</th>\n",
       "      <th>Education_NIU_educ</th>\n",
       "      <th>Education_Some_College</th>\n",
       "      <th>JobOccupation_Construction and Extractive Trades Occupation</th>\n",
       "      <th>JobOccupation_Executive, Administrative, and Managerial Occupations</th>\n",
       "      <th>JobOccupation_Machine Operators, Assemblers, and Inspectors</th>\n",
       "      <th>JobOccupation_Mechanics and Repairers Occupation</th>\n",
       "      <th>JobOccupation_Military</th>\n",
       "      <th>JobOccupation_Not_In_LaborForce</th>\n",
       "      <th>JobOccupation_Other Agricultural and Related Occupations</th>\n",
       "      <th>JobOccupation_Precision Production Occupations</th>\n",
       "      <th>JobOccupation_Professional Specialty Occupations</th>\n",
       "      <th>JobOccupation_Protective Service Occupations</th>\n",
       "      <th>JobOccupation_Sales Occupations</th>\n",
       "      <th>JobOccupation_Service Occupations, Except Protective and Household</th>\n",
       "      <th>JobOccupation_Technicians and Related Support Occupations</th>\n",
       "      <th>JobOccupation_Transportation and Material Moving Occupations</th>\n",
       "      <th>NoBalancedMeals_Often True</th>\n",
       "      <th>NoBalancedMeals_Sometimes True</th>\n",
       "      <th>Ownership_home_yes_ownership</th>\n",
       "      <th>highchol_highchol</th>\n",
       "      <th>worrymedbills_somewhat_worried_medbills</th>\n",
       "      <th>insulin_Yes_Insulin</th>\n",
       "      <th>foodsecurity_Low_food_security</th>\n",
       "      <th>foodsecurity_Marginal_food_security</th>\n",
       "      <th>foodsecurity_Very_low_food_security</th>\n",
       "      <th>race_Black</th>\n",
       "      <th>race_Native-American</th>\n",
       "      <th>race_Other_Races</th>\n",
       "      <th>race_White</th>\n",
       "      <th>Welfare_On_Welfare</th>\n",
       "      <th>Delay_MedCost_No_DelayMed_Cost</th>\n",
       "      <th>Diabetic_Not_Diabetic</th>\n",
       "      <th>Smoking_Smoking</th>\n",
       "      <th>Depressed_NIU_Depressed</th>\n",
       "      <th>Depressed_Not_Depressed</th>\n",
       "      <th>cancer_count</th>\n",
       "    </tr>\n",
       "  </thead>\n",
       "  <tbody>\n",
       "    <tr>\n",
       "      <th>0</th>\n",
       "      <td>1.0</td>\n",
       "      <td>0.0</td>\n",
       "      <td>0.0</td>\n",
       "      <td>0.0</td>\n",
       "      <td>0.0</td>\n",
       "      <td>0.0</td>\n",
       "      <td>0.0</td>\n",
       "      <td>0.0</td>\n",
       "      <td>1.0</td>\n",
       "      <td>0.0</td>\n",
       "      <td>0.0</td>\n",
       "      <td>1.0</td>\n",
       "      <td>0.0</td>\n",
       "      <td>0.0</td>\n",
       "      <td>0.0</td>\n",
       "      <td>0.0</td>\n",
       "      <td>0.0</td>\n",
       "      <td>0.0</td>\n",
       "      <td>0.0</td>\n",
       "      <td>0.0</td>\n",
       "      <td>0.0</td>\n",
       "      <td>1.0</td>\n",
       "      <td>0.0</td>\n",
       "      <td>0.0</td>\n",
       "      <td>0.0</td>\n",
       "      <td>0.0</td>\n",
       "      <td>0.0</td>\n",
       "      <td>0.0</td>\n",
       "      <td>0.0</td>\n",
       "      <td>0.0</td>\n",
       "      <td>0.0</td>\n",
       "      <td>0.0</td>\n",
       "      <td>0.0</td>\n",
       "      <td>0.0</td>\n",
       "      <td>0.0</td>\n",
       "      <td>1.0</td>\n",
       "      <td>0.0</td>\n",
       "      <td>0.0</td>\n",
       "      <td>0.0</td>\n",
       "      <td>0.0</td>\n",
       "      <td>1.0</td>\n",
       "      <td>0.0</td>\n",
       "      <td>0.0</td>\n",
       "      <td>0.0</td>\n",
       "      <td>0.0</td>\n",
       "      <td>1.0</td>\n",
       "      <td>0.0</td>\n",
       "      <td>0.0</td>\n",
       "      <td>0.0</td>\n",
       "      <td>0.0</td>\n",
       "      <td>0.0</td>\n",
       "      <td>1.0</td>\n",
       "      <td>0.0</td>\n",
       "      <td>1.0</td>\n",
       "      <td>0.0</td>\n",
       "      <td>0</td>\n",
       "    </tr>\n",
       "    <tr>\n",
       "      <th>1</th>\n",
       "      <td>1.0</td>\n",
       "      <td>0.0</td>\n",
       "      <td>0.0</td>\n",
       "      <td>0.0</td>\n",
       "      <td>1.0</td>\n",
       "      <td>0.0</td>\n",
       "      <td>0.0</td>\n",
       "      <td>0.0</td>\n",
       "      <td>1.0</td>\n",
       "      <td>0.0</td>\n",
       "      <td>0.0</td>\n",
       "      <td>1.0</td>\n",
       "      <td>0.0</td>\n",
       "      <td>0.0</td>\n",
       "      <td>0.0</td>\n",
       "      <td>0.0</td>\n",
       "      <td>0.0</td>\n",
       "      <td>0.0</td>\n",
       "      <td>0.0</td>\n",
       "      <td>0.0</td>\n",
       "      <td>0.0</td>\n",
       "      <td>1.0</td>\n",
       "      <td>0.0</td>\n",
       "      <td>0.0</td>\n",
       "      <td>0.0</td>\n",
       "      <td>0.0</td>\n",
       "      <td>0.0</td>\n",
       "      <td>1.0</td>\n",
       "      <td>0.0</td>\n",
       "      <td>0.0</td>\n",
       "      <td>0.0</td>\n",
       "      <td>0.0</td>\n",
       "      <td>0.0</td>\n",
       "      <td>0.0</td>\n",
       "      <td>0.0</td>\n",
       "      <td>0.0</td>\n",
       "      <td>0.0</td>\n",
       "      <td>0.0</td>\n",
       "      <td>0.0</td>\n",
       "      <td>0.0</td>\n",
       "      <td>0.0</td>\n",
       "      <td>0.0</td>\n",
       "      <td>0.0</td>\n",
       "      <td>0.0</td>\n",
       "      <td>0.0</td>\n",
       "      <td>1.0</td>\n",
       "      <td>0.0</td>\n",
       "      <td>0.0</td>\n",
       "      <td>0.0</td>\n",
       "      <td>0.0</td>\n",
       "      <td>0.0</td>\n",
       "      <td>1.0</td>\n",
       "      <td>0.0</td>\n",
       "      <td>1.0</td>\n",
       "      <td>0.0</td>\n",
       "      <td>0</td>\n",
       "    </tr>\n",
       "    <tr>\n",
       "      <th>2</th>\n",
       "      <td>1.0</td>\n",
       "      <td>0.0</td>\n",
       "      <td>0.0</td>\n",
       "      <td>0.0</td>\n",
       "      <td>0.0</td>\n",
       "      <td>1.0</td>\n",
       "      <td>0.0</td>\n",
       "      <td>0.0</td>\n",
       "      <td>0.0</td>\n",
       "      <td>0.0</td>\n",
       "      <td>0.0</td>\n",
       "      <td>0.0</td>\n",
       "      <td>0.0</td>\n",
       "      <td>1.0</td>\n",
       "      <td>0.0</td>\n",
       "      <td>0.0</td>\n",
       "      <td>0.0</td>\n",
       "      <td>0.0</td>\n",
       "      <td>0.0</td>\n",
       "      <td>0.0</td>\n",
       "      <td>0.0</td>\n",
       "      <td>0.0</td>\n",
       "      <td>0.0</td>\n",
       "      <td>0.0</td>\n",
       "      <td>0.0</td>\n",
       "      <td>0.0</td>\n",
       "      <td>0.0</td>\n",
       "      <td>0.0</td>\n",
       "      <td>0.0</td>\n",
       "      <td>0.0</td>\n",
       "      <td>0.0</td>\n",
       "      <td>0.0</td>\n",
       "      <td>0.0</td>\n",
       "      <td>0.0</td>\n",
       "      <td>0.0</td>\n",
       "      <td>0.0</td>\n",
       "      <td>0.0</td>\n",
       "      <td>0.0</td>\n",
       "      <td>0.0</td>\n",
       "      <td>0.0</td>\n",
       "      <td>1.0</td>\n",
       "      <td>0.0</td>\n",
       "      <td>0.0</td>\n",
       "      <td>0.0</td>\n",
       "      <td>0.0</td>\n",
       "      <td>1.0</td>\n",
       "      <td>0.0</td>\n",
       "      <td>0.0</td>\n",
       "      <td>0.0</td>\n",
       "      <td>0.0</td>\n",
       "      <td>1.0</td>\n",
       "      <td>1.0</td>\n",
       "      <td>0.0</td>\n",
       "      <td>0.0</td>\n",
       "      <td>1.0</td>\n",
       "      <td>0</td>\n",
       "    </tr>\n",
       "    <tr>\n",
       "      <th>3</th>\n",
       "      <td>0.0</td>\n",
       "      <td>0.0</td>\n",
       "      <td>0.0</td>\n",
       "      <td>0.0</td>\n",
       "      <td>0.0</td>\n",
       "      <td>0.0</td>\n",
       "      <td>0.0</td>\n",
       "      <td>0.0</td>\n",
       "      <td>1.0</td>\n",
       "      <td>0.0</td>\n",
       "      <td>0.0</td>\n",
       "      <td>1.0</td>\n",
       "      <td>0.0</td>\n",
       "      <td>0.0</td>\n",
       "      <td>0.0</td>\n",
       "      <td>0.0</td>\n",
       "      <td>0.0</td>\n",
       "      <td>1.0</td>\n",
       "      <td>0.0</td>\n",
       "      <td>0.0</td>\n",
       "      <td>0.0</td>\n",
       "      <td>0.0</td>\n",
       "      <td>1.0</td>\n",
       "      <td>0.0</td>\n",
       "      <td>0.0</td>\n",
       "      <td>0.0</td>\n",
       "      <td>0.0</td>\n",
       "      <td>0.0</td>\n",
       "      <td>0.0</td>\n",
       "      <td>0.0</td>\n",
       "      <td>0.0</td>\n",
       "      <td>0.0</td>\n",
       "      <td>0.0</td>\n",
       "      <td>0.0</td>\n",
       "      <td>0.0</td>\n",
       "      <td>0.0</td>\n",
       "      <td>0.0</td>\n",
       "      <td>0.0</td>\n",
       "      <td>1.0</td>\n",
       "      <td>1.0</td>\n",
       "      <td>0.0</td>\n",
       "      <td>0.0</td>\n",
       "      <td>0.0</td>\n",
       "      <td>0.0</td>\n",
       "      <td>0.0</td>\n",
       "      <td>0.0</td>\n",
       "      <td>0.0</td>\n",
       "      <td>0.0</td>\n",
       "      <td>1.0</td>\n",
       "      <td>0.0</td>\n",
       "      <td>1.0</td>\n",
       "      <td>1.0</td>\n",
       "      <td>0.0</td>\n",
       "      <td>0.0</td>\n",
       "      <td>1.0</td>\n",
       "      <td>0</td>\n",
       "    </tr>\n",
       "    <tr>\n",
       "      <th>4</th>\n",
       "      <td>0.0</td>\n",
       "      <td>1.0</td>\n",
       "      <td>0.0</td>\n",
       "      <td>0.0</td>\n",
       "      <td>1.0</td>\n",
       "      <td>0.0</td>\n",
       "      <td>0.0</td>\n",
       "      <td>0.0</td>\n",
       "      <td>0.0</td>\n",
       "      <td>0.0</td>\n",
       "      <td>0.0</td>\n",
       "      <td>0.0</td>\n",
       "      <td>1.0</td>\n",
       "      <td>0.0</td>\n",
       "      <td>0.0</td>\n",
       "      <td>0.0</td>\n",
       "      <td>0.0</td>\n",
       "      <td>0.0</td>\n",
       "      <td>0.0</td>\n",
       "      <td>0.0</td>\n",
       "      <td>0.0</td>\n",
       "      <td>1.0</td>\n",
       "      <td>0.0</td>\n",
       "      <td>0.0</td>\n",
       "      <td>0.0</td>\n",
       "      <td>0.0</td>\n",
       "      <td>0.0</td>\n",
       "      <td>0.0</td>\n",
       "      <td>0.0</td>\n",
       "      <td>0.0</td>\n",
       "      <td>1.0</td>\n",
       "      <td>0.0</td>\n",
       "      <td>0.0</td>\n",
       "      <td>0.0</td>\n",
       "      <td>0.0</td>\n",
       "      <td>0.0</td>\n",
       "      <td>0.0</td>\n",
       "      <td>0.0</td>\n",
       "      <td>0.0</td>\n",
       "      <td>0.0</td>\n",
       "      <td>0.0</td>\n",
       "      <td>0.0</td>\n",
       "      <td>0.0</td>\n",
       "      <td>0.0</td>\n",
       "      <td>0.0</td>\n",
       "      <td>0.0</td>\n",
       "      <td>0.0</td>\n",
       "      <td>0.0</td>\n",
       "      <td>1.0</td>\n",
       "      <td>0.0</td>\n",
       "      <td>1.0</td>\n",
       "      <td>1.0</td>\n",
       "      <td>1.0</td>\n",
       "      <td>1.0</td>\n",
       "      <td>0.0</td>\n",
       "      <td>0</td>\n",
       "    </tr>\n",
       "  </tbody>\n",
       "</table>\n",
       "</div>\n",
       "      <button class=\"colab-df-convert\" onclick=\"convertToInteractive('df-e2f0893a-b7cd-4c81-9876-356ae6442448')\"\n",
       "              title=\"Convert this dataframe to an interactive table.\"\n",
       "              style=\"display:none;\">\n",
       "        \n",
       "  <svg xmlns=\"http://www.w3.org/2000/svg\" height=\"24px\"viewBox=\"0 0 24 24\"\n",
       "       width=\"24px\">\n",
       "    <path d=\"M0 0h24v24H0V0z\" fill=\"none\"/>\n",
       "    <path d=\"M18.56 5.44l.94 2.06.94-2.06 2.06-.94-2.06-.94-.94-2.06-.94 2.06-2.06.94zm-11 1L8.5 8.5l.94-2.06 2.06-.94-2.06-.94L8.5 2.5l-.94 2.06-2.06.94zm10 10l.94 2.06.94-2.06 2.06-.94-2.06-.94-.94-2.06-.94 2.06-2.06.94z\"/><path d=\"M17.41 7.96l-1.37-1.37c-.4-.4-.92-.59-1.43-.59-.52 0-1.04.2-1.43.59L10.3 9.45l-7.72 7.72c-.78.78-.78 2.05 0 2.83L4 21.41c.39.39.9.59 1.41.59.51 0 1.02-.2 1.41-.59l7.78-7.78 2.81-2.81c.8-.78.8-2.07 0-2.86zM5.41 20L4 18.59l7.72-7.72 1.47 1.35L5.41 20z\"/>\n",
       "  </svg>\n",
       "      </button>\n",
       "      \n",
       "  <style>\n",
       "    .colab-df-container {\n",
       "      display:flex;\n",
       "      flex-wrap:wrap;\n",
       "      gap: 12px;\n",
       "    }\n",
       "\n",
       "    .colab-df-convert {\n",
       "      background-color: #E8F0FE;\n",
       "      border: none;\n",
       "      border-radius: 50%;\n",
       "      cursor: pointer;\n",
       "      display: none;\n",
       "      fill: #1967D2;\n",
       "      height: 32px;\n",
       "      padding: 0 0 0 0;\n",
       "      width: 32px;\n",
       "    }\n",
       "\n",
       "    .colab-df-convert:hover {\n",
       "      background-color: #E2EBFA;\n",
       "      box-shadow: 0px 1px 2px rgba(60, 64, 67, 0.3), 0px 1px 3px 1px rgba(60, 64, 67, 0.15);\n",
       "      fill: #174EA6;\n",
       "    }\n",
       "\n",
       "    [theme=dark] .colab-df-convert {\n",
       "      background-color: #3B4455;\n",
       "      fill: #D2E3FC;\n",
       "    }\n",
       "\n",
       "    [theme=dark] .colab-df-convert:hover {\n",
       "      background-color: #434B5C;\n",
       "      box-shadow: 0px 1px 3px 1px rgba(0, 0, 0, 0.15);\n",
       "      filter: drop-shadow(0px 1px 2px rgba(0, 0, 0, 0.3));\n",
       "      fill: #FFFFFF;\n",
       "    }\n",
       "  </style>\n",
       "\n",
       "      <script>\n",
       "        const buttonEl =\n",
       "          document.querySelector('#df-e2f0893a-b7cd-4c81-9876-356ae6442448 button.colab-df-convert');\n",
       "        buttonEl.style.display =\n",
       "          google.colab.kernel.accessAllowed ? 'block' : 'none';\n",
       "\n",
       "        async function convertToInteractive(key) {\n",
       "          const element = document.querySelector('#df-e2f0893a-b7cd-4c81-9876-356ae6442448');\n",
       "          const dataTable =\n",
       "            await google.colab.kernel.invokeFunction('convertToInteractive',\n",
       "                                                     [key], {});\n",
       "          if (!dataTable) return;\n",
       "\n",
       "          const docLinkHtml = 'Like what you see? Visit the ' +\n",
       "            '<a target=\"_blank\" href=https://colab.research.google.com/notebooks/data_table.ipynb>data table notebook</a>'\n",
       "            + ' to learn more about interactive tables.';\n",
       "          element.innerHTML = '';\n",
       "          dataTable['output_type'] = 'display_data';\n",
       "          await google.colab.output.renderOutput(dataTable, element);\n",
       "          const docLink = document.createElement('div');\n",
       "          docLink.innerHTML = docLinkHtml;\n",
       "          element.appendChild(docLink);\n",
       "        }\n",
       "      </script>\n",
       "    </div>\n",
       "  </div>\n",
       "  "
      ],
      "text/plain": [
       "   age_Lower_Middle_Aged  age_Middle_Aged  age_Upper_Middle_Aged  age_Young  \\\n",
       "0                    1.0              0.0                    0.0        0.0   \n",
       "1                    1.0              0.0                    0.0        0.0   \n",
       "2                    1.0              0.0                    0.0        0.0   \n",
       "3                    0.0              0.0                    0.0        0.0   \n",
       "4                    0.0              1.0                    0.0        0.0   \n",
       "\n",
       "   hrswrk_HoursWrk_30-40  hrswrk_HoursWrk_40-60  hrswrk_HoursWrk_60+  \\\n",
       "0                    0.0                    0.0                  0.0   \n",
       "1                    1.0                    0.0                  0.0   \n",
       "2                    0.0                    1.0                  0.0   \n",
       "3                    0.0                    0.0                  0.0   \n",
       "4                    1.0                    0.0                  0.0   \n",
       "\n",
       "   health_Fair  health_Good_Health  health_Poor_Health  \\\n",
       "0          0.0                 1.0                 0.0   \n",
       "1          0.0                 1.0                 0.0   \n",
       "2          0.0                 0.0                 0.0   \n",
       "3          0.0                 1.0                 0.0   \n",
       "4          0.0                 0.0                 0.0   \n",
       "\n",
       "   health_Very_Good_Health  income_Low-Income  income_Lower-Middle-Income  \\\n",
       "0                      0.0                1.0                         0.0   \n",
       "1                      0.0                1.0                         0.0   \n",
       "2                      0.0                0.0                         0.0   \n",
       "3                      0.0                1.0                         0.0   \n",
       "4                      0.0                0.0                         1.0   \n",
       "\n",
       "   income_Middle-Income  income_Very-High-Income  SSI_Yes_SSI  \\\n",
       "0                   0.0                      0.0          0.0   \n",
       "1                   0.0                      0.0          0.0   \n",
       "2                   1.0                      0.0          0.0   \n",
       "3                   0.0                      0.0          0.0   \n",
       "4                   0.0                      0.0          0.0   \n",
       "\n",
       "   Health_Coverage_No_healthcoverage  Education_High_School_Graduate  \\\n",
       "0                                0.0                             0.0   \n",
       "1                                0.0                             0.0   \n",
       "2                                0.0                             0.0   \n",
       "3                                0.0                             1.0   \n",
       "4                                0.0                             0.0   \n",
       "\n",
       "   Education_High_School_Or_Less  Education_Masters_Degree  \\\n",
       "0                            0.0                       0.0   \n",
       "1                            0.0                       0.0   \n",
       "2                            0.0                       0.0   \n",
       "3                            0.0                       0.0   \n",
       "4                            0.0                       0.0   \n",
       "\n",
       "   Education_NIU_educ  Education_Some_College  \\\n",
       "0                 0.0                     1.0   \n",
       "1                 0.0                     1.0   \n",
       "2                 0.0                     0.0   \n",
       "3                 0.0                     0.0   \n",
       "4                 0.0                     1.0   \n",
       "\n",
       "   JobOccupation_Construction and Extractive Trades Occupation  \\\n",
       "0                                                0.0             \n",
       "1                                                0.0             \n",
       "2                                                0.0             \n",
       "3                                                1.0             \n",
       "4                                                0.0             \n",
       "\n",
       "   JobOccupation_Executive, Administrative, and Managerial Occupations  \\\n",
       "0                                                0.0                     \n",
       "1                                                0.0                     \n",
       "2                                                0.0                     \n",
       "3                                                0.0                     \n",
       "4                                                0.0                     \n",
       "\n",
       "   JobOccupation_Machine Operators, Assemblers, and Inspectors  \\\n",
       "0                                                0.0             \n",
       "1                                                0.0             \n",
       "2                                                0.0             \n",
       "3                                                0.0             \n",
       "4                                                0.0             \n",
       "\n",
       "   JobOccupation_Mechanics and Repairers Occupation  JobOccupation_Military  \\\n",
       "0                                               0.0                     0.0   \n",
       "1                                               0.0                     0.0   \n",
       "2                                               0.0                     0.0   \n",
       "3                                               0.0                     0.0   \n",
       "4                                               0.0                     0.0   \n",
       "\n",
       "   JobOccupation_Not_In_LaborForce  \\\n",
       "0                              0.0   \n",
       "1                              1.0   \n",
       "2                              0.0   \n",
       "3                              0.0   \n",
       "4                              0.0   \n",
       "\n",
       "   JobOccupation_Other Agricultural and Related Occupations  \\\n",
       "0                                                0.0          \n",
       "1                                                0.0          \n",
       "2                                                0.0          \n",
       "3                                                0.0          \n",
       "4                                                0.0          \n",
       "\n",
       "   JobOccupation_Precision Production Occupations  \\\n",
       "0                                             0.0   \n",
       "1                                             0.0   \n",
       "2                                             0.0   \n",
       "3                                             0.0   \n",
       "4                                             0.0   \n",
       "\n",
       "   JobOccupation_Professional Specialty Occupations  \\\n",
       "0                                               0.0   \n",
       "1                                               0.0   \n",
       "2                                               0.0   \n",
       "3                                               0.0   \n",
       "4                                               1.0   \n",
       "\n",
       "   JobOccupation_Protective Service Occupations  \\\n",
       "0                                           0.0   \n",
       "1                                           0.0   \n",
       "2                                           0.0   \n",
       "3                                           0.0   \n",
       "4                                           0.0   \n",
       "\n",
       "   JobOccupation_Sales Occupations  \\\n",
       "0                              0.0   \n",
       "1                              0.0   \n",
       "2                              0.0   \n",
       "3                              0.0   \n",
       "4                              0.0   \n",
       "\n",
       "   JobOccupation_Service Occupations, Except Protective and Household  \\\n",
       "0                                                0.0                    \n",
       "1                                                0.0                    \n",
       "2                                                0.0                    \n",
       "3                                                0.0                    \n",
       "4                                                0.0                    \n",
       "\n",
       "   JobOccupation_Technicians and Related Support Occupations  \\\n",
       "0                                                0.0           \n",
       "1                                                0.0           \n",
       "2                                                0.0           \n",
       "3                                                0.0           \n",
       "4                                                0.0           \n",
       "\n",
       "   JobOccupation_Transportation and Material Moving Occupations  \\\n",
       "0                                                1.0              \n",
       "1                                                0.0              \n",
       "2                                                0.0              \n",
       "3                                                0.0              \n",
       "4                                                0.0              \n",
       "\n",
       "   NoBalancedMeals_Often True  NoBalancedMeals_Sometimes True  \\\n",
       "0                         0.0                             0.0   \n",
       "1                         0.0                             0.0   \n",
       "2                         0.0                             0.0   \n",
       "3                         0.0                             0.0   \n",
       "4                         0.0                             0.0   \n",
       "\n",
       "   Ownership_home_yes_ownership  highchol_highchol  \\\n",
       "0                           0.0                0.0   \n",
       "1                           0.0                0.0   \n",
       "2                           0.0                0.0   \n",
       "3                           1.0                1.0   \n",
       "4                           0.0                0.0   \n",
       "\n",
       "   worrymedbills_somewhat_worried_medbills  insulin_Yes_Insulin  \\\n",
       "0                                      1.0                  0.0   \n",
       "1                                      0.0                  0.0   \n",
       "2                                      1.0                  0.0   \n",
       "3                                      0.0                  0.0   \n",
       "4                                      0.0                  0.0   \n",
       "\n",
       "   foodsecurity_Low_food_security  foodsecurity_Marginal_food_security  \\\n",
       "0                             0.0                                  0.0   \n",
       "1                             0.0                                  0.0   \n",
       "2                             0.0                                  0.0   \n",
       "3                             0.0                                  0.0   \n",
       "4                             0.0                                  0.0   \n",
       "\n",
       "   foodsecurity_Very_low_food_security  race_Black  race_Native-American  \\\n",
       "0                                  0.0         1.0                   0.0   \n",
       "1                                  0.0         1.0                   0.0   \n",
       "2                                  0.0         1.0                   0.0   \n",
       "3                                  0.0         0.0                   0.0   \n",
       "4                                  0.0         0.0                   0.0   \n",
       "\n",
       "   race_Other_Races  race_White  Welfare_On_Welfare  \\\n",
       "0               0.0         0.0                 0.0   \n",
       "1               0.0         0.0                 0.0   \n",
       "2               0.0         0.0                 0.0   \n",
       "3               0.0         1.0                 0.0   \n",
       "4               0.0         1.0                 0.0   \n",
       "\n",
       "   Delay_MedCost_No_DelayMed_Cost  Diabetic_Not_Diabetic  Smoking_Smoking  \\\n",
       "0                             0.0                    1.0              0.0   \n",
       "1                             0.0                    1.0              0.0   \n",
       "2                             1.0                    1.0              0.0   \n",
       "3                             1.0                    1.0              0.0   \n",
       "4                             1.0                    1.0              1.0   \n",
       "\n",
       "   Depressed_NIU_Depressed  Depressed_Not_Depressed  cancer_count  \n",
       "0                      1.0                      0.0             0  \n",
       "1                      1.0                      0.0             0  \n",
       "2                      0.0                      1.0             0  \n",
       "3                      0.0                      1.0             0  \n",
       "4                      1.0                      0.0             0  "
      ]
     },
     "execution_count": 419,
     "metadata": {},
     "output_type": "execute_result"
    }
   ],
   "source": [
    "data = pd.concat([data_x, data_y], axis=1)\n",
    "data.head()"
   ]
  },
  {
   "cell_type": "code",
   "execution_count": null,
   "id": "iC71E8PKKZ9C",
   "metadata": {
    "colab": {
     "base_uri": "https://localhost:8080/",
     "height": 17
    },
    "executionInfo": {
     "elapsed": 5630,
     "status": "ok",
     "timestamp": 1665778561819,
     "user": {
      "displayName": "Derek Hu",
      "userId": "14137525769356790466"
     },
     "user_tz": 420
    },
    "id": "iC71E8PKKZ9C",
    "outputId": "41c8104d-48ef-4fb6-ced2-af7439cbb6f8"
   },
   "outputs": [
    {
     "data": {
      "application/javascript": [
       "\n",
       "    async function download(id, filename, size) {\n",
       "      if (!google.colab.kernel.accessAllowed) {\n",
       "        return;\n",
       "      }\n",
       "      const div = document.createElement('div');\n",
       "      const label = document.createElement('label');\n",
       "      label.textContent = `Downloading \"${filename}\": `;\n",
       "      div.appendChild(label);\n",
       "      const progress = document.createElement('progress');\n",
       "      progress.max = size;\n",
       "      div.appendChild(progress);\n",
       "      document.body.appendChild(div);\n",
       "\n",
       "      const buffers = [];\n",
       "      let downloaded = 0;\n",
       "\n",
       "      const channel = await google.colab.kernel.comms.open(id);\n",
       "      // Send a message to notify the kernel that we're ready.\n",
       "      channel.send({})\n",
       "\n",
       "      for await (const message of channel.messages) {\n",
       "        // Send a message to notify the kernel that we're ready.\n",
       "        channel.send({})\n",
       "        if (message.buffers) {\n",
       "          for (const buffer of message.buffers) {\n",
       "            buffers.push(buffer);\n",
       "            downloaded += buffer.byteLength;\n",
       "            progress.value = downloaded;\n",
       "          }\n",
       "        }\n",
       "      }\n",
       "      const blob = new Blob(buffers, {type: 'application/binary'});\n",
       "      const a = document.createElement('a');\n",
       "      a.href = window.URL.createObjectURL(blob);\n",
       "      a.download = filename;\n",
       "      div.appendChild(a);\n",
       "      a.click();\n",
       "      div.remove();\n",
       "    }\n",
       "  "
      ],
      "text/plain": [
       "<IPython.core.display.Javascript object>"
      ]
     },
     "metadata": {},
     "output_type": "display_data"
    },
    {
     "data": {
      "application/javascript": [
       "download(\"download_7f828226-88b8-4d6b-bd4d-665812b2a2da\", \"final_data\", 47697510)"
      ],
      "text/plain": [
       "<IPython.core.display.Javascript object>"
      ]
     },
     "metadata": {},
     "output_type": "display_data"
    }
   ],
   "source": [
    "from google.colab import files\n",
    "data.to_csv('final_data') \n",
    "files.download('final_data')"
   ]
  },
  {
   "cell_type": "code",
   "execution_count": null,
   "id": "f0f95db2-db98-4749-9540-a5c440664819",
   "metadata": {},
   "outputs": [],
   "source": []
  },
  {
   "cell_type": "code",
   "execution_count": null,
   "id": "xWFNVUYoovxQ",
   "metadata": {
    "id": "xWFNVUYoovxQ"
   },
   "outputs": [],
   "source": []
  }
 ],
 "metadata": {
  "colab": {
   "collapsed_sections": [],
   "provenance": []
  },
  "kernelspec": {
   "display_name": "Python 3 (ipykernel)",
   "language": "python",
   "name": "python3"
  },
  "language_info": {
   "codemirror_mode": {
    "name": "ipython",
    "version": 3
   },
   "file_extension": ".py",
   "mimetype": "text/x-python",
   "name": "python",
   "nbconvert_exporter": "python",
   "pygments_lexer": "ipython3",
   "version": "3.9.7"
  }
 },
 "nbformat": 4,
 "nbformat_minor": 5
}
