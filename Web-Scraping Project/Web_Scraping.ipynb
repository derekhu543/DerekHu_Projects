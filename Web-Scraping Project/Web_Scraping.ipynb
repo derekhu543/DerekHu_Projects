{
 "cells": [
  {
   "cell_type": "markdown",
   "id": "ae4d4fbc-2fd3-46ee-81a1-3a542fd488be",
   "metadata": {},
   "source": [
    "***Problem Statement***\n",
    "The goal of this project is to collect at least 10000 posts from the \"all\" section of reddit.\n",
    "The \"comments\" variable is divided where all comments above the median is valued at \"1\"\n",
    "while all comments below the median is valued at \"0\". Success is evaluated based on confusion\n",
    "matrix and accuracy score as well as sensitivity.\n",
    "\n",
    "This project is meant for influencers/reddit posters to identift key words that would be\n",
    "useful in order to maximize the total number of comments they can get in a post."
   ]
  },
  {
   "cell_type": "markdown",
   "id": "e57e8aa1-21c4-4010-9a03-adb5f25455e7",
   "metadata": {},
   "source": [
    "***PRESENTATION*** https://docs.google.com/presentation/d/1E3BDf635WacqSZk4w8ABMbq3dyHvCWd9F2Y6NMAyu2I/edit?usp=sharing"
   ]
  },
  {
   "cell_type": "code",
   "execution_count": 5,
   "id": "8661f519-8ce8-432d-9a8c-b3444fbe627d",
   "metadata": {},
   "outputs": [
    {
     "name": "stdout",
     "output_type": "stream",
     "text": [
      "Collecting praw\n",
      "  Downloading praw-7.6.0-py3-none-any.whl (188 kB)\n",
      "Collecting update-checker>=0.18\n",
      "  Downloading update_checker-0.18.0-py3-none-any.whl (7.0 kB)\n",
      "Collecting websocket-client>=0.54.0\n",
      "  Downloading websocket_client-1.4.0-py3-none-any.whl (54 kB)\n",
      "Collecting prawcore<3,>=2.1\n",
      "  Downloading prawcore-2.3.0-py3-none-any.whl (16 kB)\n",
      "Requirement already satisfied: requests<3.0,>=2.6.0 in c:\\users\\derek\\anaconda3\\lib\\site-packages (from prawcore<3,>=2.1->praw) (2.26.0)\n",
      "Requirement already satisfied: certifi>=2017.4.17 in c:\\users\\derek\\anaconda3\\lib\\site-packages (from requests<3.0,>=2.6.0->prawcore<3,>=2.1->praw) (2022.6.15)\n",
      "Requirement already satisfied: urllib3<1.27,>=1.21.1 in c:\\users\\derek\\anaconda3\\lib\\site-packages (from requests<3.0,>=2.6.0->prawcore<3,>=2.1->praw) (1.26.7)\n",
      "Requirement already satisfied: charset-normalizer~=2.0.0 in c:\\users\\derek\\anaconda3\\lib\\site-packages (from requests<3.0,>=2.6.0->prawcore<3,>=2.1->praw) (2.0.4)\n",
      "Requirement already satisfied: idna<4,>=2.5 in c:\\users\\derek\\anaconda3\\lib\\site-packages (from requests<3.0,>=2.6.0->prawcore<3,>=2.1->praw) (3.2)\n",
      "Installing collected packages: websocket-client, update-checker, prawcore, praw\n",
      "Successfully installed praw-7.6.0 prawcore-2.3.0 update-checker-0.18.0 websocket-client-1.4.0\n",
      "Note: you may need to restart the kernel to use updated packages.\n"
     ]
    }
   ],
   "source": [
    "#pip install praw"
   ]
  },
  {
   "cell_type": "code",
   "execution_count": 1,
   "id": "e7b8b3be-c4fe-4959-bcf9-843a1848334b",
   "metadata": {},
   "outputs": [],
   "source": [
    "import praw"
   ]
  },
  {
   "cell_type": "code",
   "execution_count": 2,
   "id": "084f115c-f823-4054-a6a7-ec043b123bf8",
   "metadata": {},
   "outputs": [],
   "source": [
    "reddit = praw.Reddit(client_id='5NivFGbbe_cu7_OHPydK5A', client_secret='W9B1eqA6UdtcepnzD0OLRSRBu-ZJBg', user_agent='user_agent')"
   ]
  },
  {
   "cell_type": "code",
   "execution_count": 3,
   "id": "e072d356-5c8e-4cf2-8261-772aa681aa2d",
   "metadata": {},
   "outputs": [],
   "source": [
    "#scrape at least 10000 threads at a time to get as many threads as I can\n",
    "subreddit1 = reddit.subreddit('all')\n",
    "python_subreddit = subreddit1.hot(limit = 10000)"
   ]
  },
  {
   "cell_type": "code",
   "execution_count": 4,
   "id": "93d4b674-2d61-438b-ad00-56696e663d5b",
   "metadata": {},
   "outputs": [],
   "source": [
    "#create empty dictionary with variable names\n",
    "dict =        { \"title\":[],\n",
    "                \"subreddit\":[],\n",
    "                \"score\":[], \n",
    "                \"id\":[], \n",
    "                \"url\":[], \n",
    "                \"comms_num\": [], \n",
    "                \"created\": [], \n",
    "                \"body\":[]}"
   ]
  },
  {
   "cell_type": "code",
   "execution_count": 5,
   "id": "fab2c6e5-0ab5-49a5-a96a-f045be910b27",
   "metadata": {},
   "outputs": [],
   "source": [
    "#fill in variables with values from reddit submissions\n",
    "for submission in python_subreddit:\n",
    "    dict[\"title\"].append(submission.title)\n",
    "    dict['subreddit'].append(submission.subreddit)\n",
    "    dict[\"score\"].append(submission.score)\n",
    "    dict[\"id\"].append(submission.id)\n",
    "    dict[\"url\"].append(submission.url)\n",
    "    dict[\"comms_num\"].append(submission.num_comments)\n",
    "    dict[\"created\"].append(submission.created)\n",
    "    dict[\"body\"].append(submission.selftext)"
   ]
  },
  {
   "cell_type": "code",
   "execution_count": 2,
   "id": "4e312b39-344a-4d16-8769-01a7fb32b4c8",
   "metadata": {},
   "outputs": [
    {
     "name": "stderr",
     "output_type": "stream",
     "text": [
      "C:\\Users\\derek\\anaconda3\\lib\\site-packages\\scipy\\__init__.py:146: UserWarning: A NumPy version >=1.16.5 and <1.23.0 is required for this version of SciPy (detected version 1.23.1\n",
      "  warnings.warn(f\"A NumPy version >={np_minversion} and <{np_maxversion}\"\n"
     ]
    }
   ],
   "source": [
    "#imported all of the libraries I needed\n",
    "import pandas as pd\n",
    "import matplotlib.pyplot as plt\n",
    "import seaborn as sns\n",
    "import string\n",
    "import nltk\n",
    "\n",
    "#random forest import libraries\n",
    "from sklearn.ensemble import ExtraTreesClassifier, RandomForestClassifier\n",
    "from sklearn.metrics import ConfusionMatrixDisplay\n",
    "from sklearn.model_selection import GridSearchCV, cross_val_score, train_test_split\n",
    "\n",
    "from sklearn.feature_extraction.text import CountVectorizer\n",
    "from sklearn.feature_extraction.text import TfidfVectorizer\n",
    "\n",
    "from sklearn.pipeline import Pipeline\n",
    "from sklearn.metrics import ConfusionMatrixDisplay\n",
    "from sklearn.preprocessing import StandardScaler\n",
    "\n",
    "from nltk.tokenize import RegexpTokenizer \n",
    "from sklearn.metrics import recall_score, precision_score\n",
    "from sklearn.dummy import DummyRegressor"
   ]
  },
  {
   "cell_type": "code",
   "execution_count": 12,
   "id": "96782f0c-b0a8-41b1-9873-bcdf0b3650e2",
   "metadata": {},
   "outputs": [],
   "source": [
    "data1 = pd.DataFrame(dict)"
   ]
  },
  {
   "cell_type": "code",
   "execution_count": 14,
   "id": "0c91b677-7304-47b0-97ca-c2a4bf24ddc8",
   "metadata": {},
   "outputs": [],
   "source": [
    "#export datasets to csv\n",
    "data1.to_csv('C:/Users/derek/OneDrive/Documents/General Assembly/data_a9.csv', index=False, sep=\",\")"
   ]
  },
  {
   "cell_type": "code",
   "execution_count": 16,
   "id": "e4f9b9d2-21fb-46a6-a0b9-0510b450404d",
   "metadata": {},
   "outputs": [
    {
     "data": {
      "text/html": [
       "<div>\n",
       "<style scoped>\n",
       "    .dataframe tbody tr th:only-of-type {\n",
       "        vertical-align: middle;\n",
       "    }\n",
       "\n",
       "    .dataframe tbody tr th {\n",
       "        vertical-align: top;\n",
       "    }\n",
       "\n",
       "    .dataframe thead th {\n",
       "        text-align: right;\n",
       "    }\n",
       "</style>\n",
       "<table border=\"1\" class=\"dataframe\">\n",
       "  <thead>\n",
       "    <tr style=\"text-align: right;\">\n",
       "      <th></th>\n",
       "      <th>title</th>\n",
       "      <th>subreddit</th>\n",
       "      <th>score</th>\n",
       "      <th>id</th>\n",
       "      <th>url</th>\n",
       "      <th>comms_num</th>\n",
       "      <th>created</th>\n",
       "      <th>body</th>\n",
       "    </tr>\n",
       "  </thead>\n",
       "  <tbody>\n",
       "    <tr>\n",
       "      <th>0</th>\n",
       "      <td>Poor Bob.</td>\n",
       "      <td>funny</td>\n",
       "      <td>20066</td>\n",
       "      <td>x62sfv</td>\n",
       "      <td>https://i.redd.it/yh1sa9n8vxl91.jpg</td>\n",
       "      <td>310</td>\n",
       "      <td>1.662340e+09</td>\n",
       "      <td>NaN</td>\n",
       "    </tr>\n",
       "    <tr>\n",
       "      <th>1</th>\n",
       "      <td>When they punish you for their self-loathing</td>\n",
       "      <td>WhitePeopleTwitter</td>\n",
       "      <td>11063</td>\n",
       "      <td>x646kr</td>\n",
       "      <td>https://i.redd.it/pckyyl7v7yl91.jpg</td>\n",
       "      <td>426</td>\n",
       "      <td>1.662344e+09</td>\n",
       "      <td>NaN</td>\n",
       "    </tr>\n",
       "    <tr>\n",
       "      <th>2</th>\n",
       "      <td>Ohio sees surge in women registering to vote a...</td>\n",
       "      <td>news</td>\n",
       "      <td>16629</td>\n",
       "      <td>x61op6</td>\n",
       "      <td>https://www.news5cleveland.com/news/politics/o...</td>\n",
       "      <td>501</td>\n",
       "      <td>1.662336e+09</td>\n",
       "      <td>NaN</td>\n",
       "    </tr>\n",
       "  </tbody>\n",
       "</table>\n",
       "</div>"
      ],
      "text/plain": [
       "                                               title           subreddit  \\\n",
       "0                                          Poor Bob.               funny   \n",
       "1       When they punish you for their self-loathing  WhitePeopleTwitter   \n",
       "2  Ohio sees surge in women registering to vote a...                news   \n",
       "\n",
       "   score      id                                                url  \\\n",
       "0  20066  x62sfv                https://i.redd.it/yh1sa9n8vxl91.jpg   \n",
       "1  11063  x646kr                https://i.redd.it/pckyyl7v7yl91.jpg   \n",
       "2  16629  x61op6  https://www.news5cleveland.com/news/politics/o...   \n",
       "\n",
       "   comms_num       created body  \n",
       "0        310  1.662340e+09  NaN  \n",
       "1        426  1.662344e+09  NaN  \n",
       "2        501  1.662336e+09  NaN  "
      ]
     },
     "execution_count": 16,
     "metadata": {},
     "output_type": "execute_result"
    }
   ],
   "source": [
    "#observe data\n",
    "data1.head(3)"
   ]
  },
  {
   "cell_type": "code",
   "execution_count": 18,
   "id": "3286a36a-7299-465e-acae-76ed174dc929",
   "metadata": {},
   "outputs": [
    {
     "data": {
      "text/plain": [
       "(7245, 8)"
      ]
     },
     "execution_count": 18,
     "metadata": {},
     "output_type": "execute_result"
    }
   ],
   "source": [
    "#total column and row amount in dataframe\n",
    "data1.shape"
   ]
  },
  {
   "cell_type": "code",
   "execution_count": 3,
   "id": "c8cc1b3e-10a8-49fb-a67b-ecb8f8931fdd",
   "metadata": {},
   "outputs": [],
   "source": [
    "#import the saved dataframe\n",
    "#I ran the praw statement above several times to get enough datasets\n",
    "#Each run only got several thousand at a time\n",
    "data3 = pd.read_csv('data_n6.csv')\n",
    "data2 = pd.read_csv('data_n7.csv')\n",
    "data1 = pd.read_csv('data_n8.csv')"
   ]
  },
  {
   "cell_type": "code",
   "execution_count": 4,
   "id": "1ac10286-4879-4c8d-9e11-d08de3ccd88d",
   "metadata": {},
   "outputs": [
    {
     "data": {
      "text/html": [
       "<div>\n",
       "<style scoped>\n",
       "    .dataframe tbody tr th:only-of-type {\n",
       "        vertical-align: middle;\n",
       "    }\n",
       "\n",
       "    .dataframe tbody tr th {\n",
       "        vertical-align: top;\n",
       "    }\n",
       "\n",
       "    .dataframe thead th {\n",
       "        text-align: right;\n",
       "    }\n",
       "</style>\n",
       "<table border=\"1\" class=\"dataframe\">\n",
       "  <thead>\n",
       "    <tr style=\"text-align: right;\">\n",
       "      <th></th>\n",
       "      <th>title</th>\n",
       "      <th>subreddit</th>\n",
       "      <th>score</th>\n",
       "      <th>id</th>\n",
       "      <th>url</th>\n",
       "      <th>comms_num</th>\n",
       "      <th>created</th>\n",
       "      <th>body</th>\n",
       "    </tr>\n",
       "  </thead>\n",
       "  <tbody>\n",
       "    <tr>\n",
       "      <th>0</th>\n",
       "      <td>Poor Bob.</td>\n",
       "      <td>funny</td>\n",
       "      <td>20066</td>\n",
       "      <td>x62sfv</td>\n",
       "      <td>https://i.redd.it/yh1sa9n8vxl91.jpg</td>\n",
       "      <td>310</td>\n",
       "      <td>1.662340e+09</td>\n",
       "      <td>NaN</td>\n",
       "    </tr>\n",
       "    <tr>\n",
       "      <th>1</th>\n",
       "      <td>When they punish you for their self-loathing</td>\n",
       "      <td>WhitePeopleTwitter</td>\n",
       "      <td>11063</td>\n",
       "      <td>x646kr</td>\n",
       "      <td>https://i.redd.it/pckyyl7v7yl91.jpg</td>\n",
       "      <td>426</td>\n",
       "      <td>1.662344e+09</td>\n",
       "      <td>NaN</td>\n",
       "    </tr>\n",
       "  </tbody>\n",
       "</table>\n",
       "</div>"
      ],
      "text/plain": [
       "                                          title           subreddit  score  \\\n",
       "0                                     Poor Bob.               funny  20066   \n",
       "1  When they punish you for their self-loathing  WhitePeopleTwitter  11063   \n",
       "\n",
       "       id                                  url  comms_num       created body  \n",
       "0  x62sfv  https://i.redd.it/yh1sa9n8vxl91.jpg        310  1.662340e+09  NaN  \n",
       "1  x646kr  https://i.redd.it/pckyyl7v7yl91.jpg        426  1.662344e+09  NaN  "
      ]
     },
     "execution_count": 4,
     "metadata": {},
     "output_type": "execute_result"
    }
   ],
   "source": [
    "data1.head(2)"
   ]
  },
  {
   "cell_type": "code",
   "execution_count": 5,
   "id": "8e4a650c-1f35-4e41-bbc9-d8d9fc7a4506",
   "metadata": {},
   "outputs": [],
   "source": [
    "#Merge the three datasets and remove duplicates in 'title' column to get over 10000 threads\n",
    "data = pd.concat([data3, data2, data1], axis=0, join='outer',ignore_index=False)\n",
    "data.drop_duplicates(subset=['title'],keep='first', inplace=True)"
   ]
  },
  {
   "cell_type": "code",
   "execution_count": 6,
   "id": "08b62b2b-96be-4143-aa6f-403308605328",
   "metadata": {},
   "outputs": [
    {
     "data": {
      "text/plain": [
       "(13980, 8)"
      ]
     },
     "execution_count": 6,
     "metadata": {},
     "output_type": "execute_result"
    }
   ],
   "source": [
    "#13980 rows and 8 columns total to analyze\n",
    "data.shape"
   ]
  },
  {
   "cell_type": "code",
   "execution_count": 7,
   "id": "5f5bd0e8-5ffa-48b0-9f78-4cf43299924d",
   "metadata": {},
   "outputs": [
    {
     "data": {
      "text/plain": [
       "Index(['title', 'subreddit', 'score', 'id', 'url', 'comms_num', 'created',\n",
       "       'body'],\n",
       "      dtype='object')"
      ]
     },
     "execution_count": 7,
     "metadata": {},
     "output_type": "execute_result"
    }
   ],
   "source": [
    "#check data columns\n",
    "data.columns"
   ]
  },
  {
   "cell_type": "code",
   "execution_count": 8,
   "id": "eb5be2e7-b489-447d-8fd6-c5be8c4f32af",
   "metadata": {},
   "outputs": [],
   "source": [
    "#delete all zeros from number of comments \n",
    "data = data[data['comms_num'] != 0]"
   ]
  },
  {
   "cell_type": "code",
   "execution_count": 9,
   "id": "5d09e894-dbae-41da-ac15-658d256cc542",
   "metadata": {},
   "outputs": [
    {
     "data": {
      "text/html": [
       "<div>\n",
       "<style scoped>\n",
       "    .dataframe tbody tr th:only-of-type {\n",
       "        vertical-align: middle;\n",
       "    }\n",
       "\n",
       "    .dataframe tbody tr th {\n",
       "        vertical-align: top;\n",
       "    }\n",
       "\n",
       "    .dataframe thead th {\n",
       "        text-align: right;\n",
       "    }\n",
       "</style>\n",
       "<table border=\"1\" class=\"dataframe\">\n",
       "  <thead>\n",
       "    <tr style=\"text-align: right;\">\n",
       "      <th></th>\n",
       "      <th>title</th>\n",
       "      <th>subreddit</th>\n",
       "      <th>score</th>\n",
       "      <th>id</th>\n",
       "      <th>url</th>\n",
       "      <th>comms_num</th>\n",
       "      <th>created</th>\n",
       "      <th>body</th>\n",
       "    </tr>\n",
       "  </thead>\n",
       "  <tbody>\n",
       "    <tr>\n",
       "      <th>0</th>\n",
       "      <td>Video resurfaces of Trump calling Democrats ‘f...</td>\n",
       "      <td>politics</td>\n",
       "      <td>15244</td>\n",
       "      <td>x59p0m</td>\n",
       "      <td>https://www.independent.co.uk/news/world/ameri...</td>\n",
       "      <td>742</td>\n",
       "      <td>1.662253e+09</td>\n",
       "      <td>NaN</td>\n",
       "    </tr>\n",
       "    <tr>\n",
       "      <th>1</th>\n",
       "      <td>Drug Money Robbery? Road Rage? Whatever it was...</td>\n",
       "      <td>IdiotsInCars</td>\n",
       "      <td>22666</td>\n",
       "      <td>x599ua</td>\n",
       "      <td>https://v.redd.it/sm83bdollql91</td>\n",
       "      <td>2105</td>\n",
       "      <td>1.662252e+09</td>\n",
       "      <td>NaN</td>\n",
       "    </tr>\n",
       "  </tbody>\n",
       "</table>\n",
       "</div>"
      ],
      "text/plain": [
       "                                               title     subreddit  score  \\\n",
       "0  Video resurfaces of Trump calling Democrats ‘f...      politics  15244   \n",
       "1  Drug Money Robbery? Road Rage? Whatever it was...  IdiotsInCars  22666   \n",
       "\n",
       "       id                                                url  comms_num  \\\n",
       "0  x59p0m  https://www.independent.co.uk/news/world/ameri...        742   \n",
       "1  x599ua                    https://v.redd.it/sm83bdollql91       2105   \n",
       "\n",
       "        created body  \n",
       "0  1.662253e+09  NaN  \n",
       "1  1.662252e+09  NaN  "
      ]
     },
     "execution_count": 9,
     "metadata": {},
     "output_type": "execute_result"
    }
   ],
   "source": [
    "#check results\n",
    "data.head(2)"
   ]
  },
  {
   "cell_type": "code",
   "execution_count": 10,
   "id": "25a780fa-5709-49eb-bcff-ac0c0c26d71f",
   "metadata": {},
   "outputs": [
    {
     "data": {
      "text/plain": [
       "title            0\n",
       "subreddit        0\n",
       "score            0\n",
       "id               0\n",
       "url              0\n",
       "comms_num        0\n",
       "created          0\n",
       "body         12571\n",
       "dtype: int64"
      ]
     },
     "execution_count": 10,
     "metadata": {},
     "output_type": "execute_result"
    }
   ],
   "source": [
    "#total missing values - 12571 NAs in body (unneeded variable anyways with 12636 missing values)\n",
    "#Not going to use 'body' column, I want to focus on 'title' column only\n",
    "data.isnull().sum()"
   ]
  },
  {
   "cell_type": "code",
   "execution_count": 11,
   "id": "17a8995b-71c5-4253-a526-3202639f6e96",
   "metadata": {},
   "outputs": [],
   "source": [
    "#drop unused columns - including body with null values as well as 'id' and 'url'\n",
    "drop_col = ['id', 'url', 'body']\n",
    "data.drop(columns=drop_col,axis=1,inplace=True)"
   ]
  },
  {
   "cell_type": "code",
   "execution_count": 12,
   "id": "d6b7a28a-200a-49cd-8e7c-f8c2f4e63491",
   "metadata": {},
   "outputs": [
    {
     "data": {
      "text/html": [
       "<div>\n",
       "<style scoped>\n",
       "    .dataframe tbody tr th:only-of-type {\n",
       "        vertical-align: middle;\n",
       "    }\n",
       "\n",
       "    .dataframe tbody tr th {\n",
       "        vertical-align: top;\n",
       "    }\n",
       "\n",
       "    .dataframe thead th {\n",
       "        text-align: right;\n",
       "    }\n",
       "</style>\n",
       "<table border=\"1\" class=\"dataframe\">\n",
       "  <thead>\n",
       "    <tr style=\"text-align: right;\">\n",
       "      <th></th>\n",
       "      <th>title</th>\n",
       "      <th>subreddit</th>\n",
       "      <th>score</th>\n",
       "      <th>comms_num</th>\n",
       "      <th>created</th>\n",
       "    </tr>\n",
       "  </thead>\n",
       "  <tbody>\n",
       "    <tr>\n",
       "      <th>0</th>\n",
       "      <td>Video resurfaces of Trump calling Democrats ‘f...</td>\n",
       "      <td>politics</td>\n",
       "      <td>15244</td>\n",
       "      <td>742</td>\n",
       "      <td>1.662253e+09</td>\n",
       "    </tr>\n",
       "    <tr>\n",
       "      <th>1</th>\n",
       "      <td>Drug Money Robbery? Road Rage? Whatever it was...</td>\n",
       "      <td>IdiotsInCars</td>\n",
       "      <td>22666</td>\n",
       "      <td>2105</td>\n",
       "      <td>1.662252e+09</td>\n",
       "    </tr>\n",
       "  </tbody>\n",
       "</table>\n",
       "</div>"
      ],
      "text/plain": [
       "                                               title     subreddit  score  \\\n",
       "0  Video resurfaces of Trump calling Democrats ‘f...      politics  15244   \n",
       "1  Drug Money Robbery? Road Rage? Whatever it was...  IdiotsInCars  22666   \n",
       "\n",
       "   comms_num       created  \n",
       "0        742  1.662253e+09  \n",
       "1       2105  1.662252e+09  "
      ]
     },
     "execution_count": 12,
     "metadata": {},
     "output_type": "execute_result"
    }
   ],
   "source": [
    "#see results after dropping column\n",
    "data.head(2)"
   ]
  },
  {
   "cell_type": "code",
   "execution_count": 13,
   "id": "63b566c1-c93f-4804-ab78-f1de5218e476",
   "metadata": {},
   "outputs": [
    {
     "data": {
      "text/plain": [
       "title        0\n",
       "subreddit    0\n",
       "score        0\n",
       "comms_num    0\n",
       "created      0\n",
       "dtype: int64"
      ]
     },
     "execution_count": 13,
     "metadata": {},
     "output_type": "execute_result"
    }
   ],
   "source": [
    "#check for null values again just to make sure (no missing values now)\n",
    "data.isnull().sum()"
   ]
  },
  {
   "cell_type": "code",
   "execution_count": 14,
   "id": "b8047e9a-54ce-4aec-a25d-b0b30c1fed40",
   "metadata": {},
   "outputs": [],
   "source": [
    "#VISUALIZATIONS AND GRAPHING"
   ]
  },
  {
   "cell_type": "code",
   "execution_count": 21,
   "id": "2e920725-ef95-41d9-ad65-7e69bad353c2",
   "metadata": {},
   "outputs": [
    {
     "data": {
      "text/plain": [
       "(-1478.15, 22063.15)"
      ]
     },
     "execution_count": 21,
     "metadata": {},
     "output_type": "execute_result"
    },
    {
     "data": {
      "image/png": "[encoded data removed]",
      "text/plain": [
       "<Figure size 800x600 with 1 Axes>"
      ]
     },
     "metadata": {},
     "output_type": "display_data"
    }
   ],
   "source": [
    "#Number of comments per post is heavily concentrated\n",
    "#Most posts have between 1 and 20 comments\n",
    "#Have a few values up to 26000 but so miniscule you can barely see it\n",
    "\n",
    "plt.figure(figsize = (8,6), facecolor = \"white\")\n",
    "d = data['comms_num']\n",
    "hist = d.hist(bins=150)\n",
    "plt.title(\"Reddit Comments\", size = 18, color='navy')\n",
    "plt.xlabel(\"Number of Comments Per Post\", size = 16, color='navy')\n",
    "plt.ylabel(\"Frequency of Posts\", size = 16, color='navy')\n",
    "plt.xlim(-1478.15, 22063.15)"
   ]
  },
  {
   "cell_type": "code",
   "execution_count": null,
   "id": "48766402-e503-4f24-a762-8ede25f14f31",
   "metadata": {},
   "outputs": [],
   "source": []
  },
  {
   "cell_type": "code",
   "execution_count": 16,
   "id": "efe3ba55-df7c-4deb-bcdf-351baf4a133e",
   "metadata": {},
   "outputs": [
    {
     "data": {
      "text/plain": [
       "Text(0, 0.5, 'Number of Comments')"
      ]
     },
     "execution_count": 16,
     "metadata": {},
     "output_type": "execute_result"
    },
    {
     "data": {
      "image/png": "[encoded data removed]",
      "text/plain": [
       "<Figure size 640x480 with 1 Axes>"
      ]
     },
     "metadata": {},
     "output_type": "display_data"
    }
   ],
   "source": [
    "#By Quantile for comments - 0% (1), 20% (11), 40% (24), 60% (51), 80% (1)25, 90% (249), 95% (425), 99% (1358), 100% (29584)\n",
    "#Noticed that when I appended three dataframes, their percentile were all mostly similar except for top 1% of values\n",
    "d.quantile(0.2)\n",
    "d.quantile(0.4)\n",
    "d.quantile(0.6)\n",
    "d.quantile(0.8)\n",
    "d.quantile(0.9)\n",
    "d.quantile(0.95)\n",
    "d.quantile(0.99)\n",
    "d.quantile(1)\n",
    "\n",
    "df = pd.DataFrame({'X': ['0%', '20%', '40%', '60%', '80%', '90%', '95%', '99%', '100%'], 'Values': [1, 11, 24, 51, 125, 249, 425, 1358, 29584]})\n",
    "ax = df.plot.bar()\n",
    "plt.title(\"Number of Comments By Percentile\", size = 18)\n",
    "plt.xlabel(\"By Percentile\", size = 16)\n",
    "plt.ylabel(\"Number of Comments\", size = 16)"
   ]
  },
  {
   "cell_type": "code",
   "execution_count": 17,
   "id": "25f80103-a41c-4b7c-8100-63ab0dbb6991",
   "metadata": {},
   "outputs": [
    {
     "data": {
      "text/plain": [
       "5     325\n",
       "11    301\n",
       "6     300\n",
       "4     296\n",
       "8     296\n",
       "7     284\n",
       "9     278\n",
       "3     275\n",
       "10    271\n",
       "12    248\n",
       "14    227\n",
       "2     227\n",
       "16    225\n",
       "15    214\n",
       "13    214\n",
       "17    204\n",
       "21    188\n",
       "19    179\n",
       "18    178\n",
       "24    172\n",
       "Name: comms_num, dtype: int64"
      ]
     },
     "execution_count": 17,
     "metadata": {},
     "output_type": "execute_result"
    }
   ],
   "source": [
    "#By frequency, the most frequent comments are usually less than a hundred\n",
    "data['comms_num'].value_counts(ascending=False).head(20)"
   ]
  },
  {
   "cell_type": "code",
   "execution_count": 18,
   "id": "6ae03972-fe0b-4dd0-9839-07d0d20e6888",
   "metadata": {},
   "outputs": [
    {
     "data": {
      "text/plain": [
       "29584.0"
      ]
     },
     "execution_count": 18,
     "metadata": {},
     "output_type": "execute_result"
    }
   ],
   "source": [
    "data['comms_num'].quantile(1)"
   ]
  },
  {
   "cell_type": "code",
   "execution_count": 19,
   "id": "cd2d3ac5-be73-4d06-8ffe-44d7a7b0268e",
   "metadata": {},
   "outputs": [
    {
     "data": {
      "text/plain": [
       "Text(0, 0.5, 'Frequency of Posts')"
      ]
     },
     "execution_count": 19,
     "metadata": {},
     "output_type": "execute_result"
    },
    {
     "data": {
      "image/png": "[encoded data removed]",
      "text/plain": [
       "<Figure size 640x480 with 1 Axes>"
      ]
     },
     "metadata": {},
     "output_type": "display_data"
    }
   ],
   "source": [
    "#observe districution of score - heavily concentrated\n",
    "#Quantile 20% (232), 40% (460), 60% (896), 80% (2016), 90% (4022), 95% (7229), 99% (26763), 100% (105291)\n",
    "d = data['score']\n",
    "hist = d.hist(bins=150)\n",
    "plt.title(\"Distribution Of Post Score\", size = 18, color='green')\n",
    "plt.xlabel(\"Total Score Per Post\", size = 16, color='green')\n",
    "plt.ylabel(\"Frequency of Posts\", size = 16, color='green')"
   ]
  },
  {
   "cell_type": "code",
   "execution_count": 24,
   "id": "22b74004-6a69-4431-ace0-e625ab4955bb",
   "metadata": {},
   "outputs": [
    {
     "data": {
      "text/plain": [
       "<AxesSubplot:title={'center':'Most Commonly Posted Subreddits'}, xlabel='Total Score Per Post', ylabel='Frequency of Posts'>"
      ]
     },
     "execution_count": 24,
     "metadata": {},
     "output_type": "execute_result"
    },
    {
     "data": {
      "image/png": "[encoded data removed]",
      "text/plain": [
       "<Figure size 640x480 with 1 Axes>"
      ]
     },
     "metadata": {},
     "output_type": "display_data"
    }
   ],
   "source": [
    "#Most Frequent Subreddits \n",
    "sub = pd.DataFrame(data['subreddit'].value_counts().head(10)).plot(kind='barh', color='red')\n",
    "plt.title(\"Most Commonly Posted Subreddits\", size = 18, color='blue')\n",
    "plt.xlabel(\"Total Score Per Post\", size = 10, color='blue')\n",
    "plt.ylabel(\"Frequency of Posts\", size = 10, color='blue')\n",
    "\n",
    "# Plotting the most active authors\n",
    "sub\n"
   ]
  },
  {
   "cell_type": "code",
   "execution_count": 26,
   "id": "0e117062-e4b8-4b7f-81a9-25071816ab6a",
   "metadata": {},
   "outputs": [
    {
     "data": {
      "text/html": [
       "<div>\n",
       "<style scoped>\n",
       "    .dataframe tbody tr th:only-of-type {\n",
       "        vertical-align: middle;\n",
       "    }\n",
       "\n",
       "    .dataframe tbody tr th {\n",
       "        vertical-align: top;\n",
       "    }\n",
       "\n",
       "    .dataframe thead th {\n",
       "        text-align: right;\n",
       "    }\n",
       "</style>\n",
       "<table border=\"1\" class=\"dataframe\">\n",
       "  <thead>\n",
       "    <tr style=\"text-align: right;\">\n",
       "      <th></th>\n",
       "      <th>subreddit</th>\n",
       "    </tr>\n",
       "  </thead>\n",
       "  <tbody>\n",
       "    <tr>\n",
       "      <th>memes</th>\n",
       "      <td>162</td>\n",
       "    </tr>\n",
       "    <tr>\n",
       "      <th>shitposting</th>\n",
       "      <td>155</td>\n",
       "    </tr>\n",
       "    <tr>\n",
       "      <th>politics</th>\n",
       "      <td>120</td>\n",
       "    </tr>\n",
       "    <tr>\n",
       "      <th>formula1</th>\n",
       "      <td>113</td>\n",
       "    </tr>\n",
       "    <tr>\n",
       "      <th>Superstonk</th>\n",
       "      <td>112</td>\n",
       "    </tr>\n",
       "    <tr>\n",
       "      <th>WhitePeopleTwitter</th>\n",
       "      <td>112</td>\n",
       "    </tr>\n",
       "    <tr>\n",
       "      <th>formuladank</th>\n",
       "      <td>104</td>\n",
       "    </tr>\n",
       "  </tbody>\n",
       "</table>\n",
       "</div>"
      ],
      "text/plain": [
       "                    subreddit\n",
       "memes                     162\n",
       "shitposting               155\n",
       "politics                  120\n",
       "formula1                  113\n",
       "Superstonk                112\n",
       "WhitePeopleTwitter        112\n",
       "formuladank               104"
      ]
     },
     "execution_count": 26,
     "metadata": {},
     "output_type": "execute_result"
    }
   ],
   "source": [
    "#most comment subreddit by number of threads per subreddit\n",
    "sub = pd.DataFrame(data['subreddit'].value_counts().head(7))\n",
    "sub"
   ]
  },
  {
   "cell_type": "code",
   "execution_count": 29,
   "id": "b9fa3053-bfa2-4493-9ee5-f99632493e9b",
   "metadata": {},
   "outputs": [
    {
     "data": {
      "text/plain": [
       "Text(0, 0.5, 'Frequency of Posts')"
      ]
     },
     "execution_count": 29,
     "metadata": {},
     "output_type": "execute_result"
    },
    {
     "data": {
      "image/png": "[encoded data removed]",
      "text/plain": [
       "<Figure size 640x480 with 1 Axes>"
      ]
     },
     "metadata": {},
     "output_type": "display_data"
    }
   ],
   "source": [
    "#Most common words from politics\n",
    "politics = data[data['subreddit'].str.contains('politics')]\n",
    "\n",
    "p = politics['comms_num']\n",
    "hist = p.hist(bins=150)\n",
    "plt.title(\"Distribution Of 'Politics' Comments\", size = 18, color='navy')\n",
    "plt.xlabel(\"Total # Comments Per Post\", size = 10, color='navy')\n",
    "plt.ylabel(\"Frequency of Posts\", size = 10, color='navy')"
   ]
  },
  {
   "cell_type": "code",
   "execution_count": 540,
   "id": "2e349dd7-6dd7-4266-895f-ac4e767810ab",
   "metadata": {},
   "outputs": [
    {
     "data": {
      "text/plain": [
       "Text(0, 0.5, 'Frequency of Posts')"
      ]
     },
     "execution_count": 540,
     "metadata": {},
     "output_type": "execute_result"
    },
    {
     "data": {
      "image/png": "[encoded data removed]",
      "text/plain": [
       "<Figure size 640x480 with 1 Axes>"
      ]
     },
     "metadata": {},
     "output_type": "display_data"
    }
   ],
   "source": [
    "#memes\n",
    "#Most common words from r/memes\n",
    "memes = data[data['subreddit'].str.contains('memes')]\n",
    "\n",
    "p = memes['comms_num']\n",
    "hist = p.hist(bins=150)\n",
    "plt.title(\"Distribution Of 'Memes' Comments\", size = 18, color='blue')\n",
    "plt.xlabel(\"Total # Comments Per Post\", size = 16, color='blue')\n",
    "plt.ylabel(\"Frequency of Posts\", size = 16, color='blue')"
   ]
  },
  {
   "cell_type": "code",
   "execution_count": 539,
   "id": "e47e552b-8eb6-438e-88dc-92dfe49f97a9",
   "metadata": {},
   "outputs": [
    {
     "data": {
      "text/plain": [
       "Text(0, 0.5, 'Frequency of Posts')"
      ]
     },
     "execution_count": 539,
     "metadata": {},
     "output_type": "execute_result"
    },
    {
     "data": {
      "image/png": "[encoded data removed]",
      "text/plain": [
       "<Figure size 640x480 with 1 Axes>"
      ]
     },
     "metadata": {},
     "output_type": "display_data"
    }
   ],
   "source": [
    "#ukraine - less representative of the typical subreddit - more spread out\n",
    "#Most common words from r/ukraine\n",
    "ukraine = data[data['subreddit'].str.contains('ukraine')]\n",
    "\n",
    "u = ukraine['comms_num']\n",
    "hist = u.hist(bins=150, color='blue')\n",
    "plt.title(\"Distribution Of 'Politics' Comments\", size = 18, color='green')\n",
    "plt.xlabel(\"Total # Comments Per Post\", size = 16, color='green')\n",
    "plt.ylabel(\"Frequency of Posts\", size = 16, color='green')"
   ]
  },
  {
   "cell_type": "code",
   "execution_count": 538,
   "id": "d11c757e-dd50-4082-9e6b-171baad4e554",
   "metadata": {},
   "outputs": [
    {
     "data": {
      "text/plain": [
       "Text(0, 0.5, 'Frequency of Posts')"
      ]
     },
     "execution_count": 538,
     "metadata": {},
     "output_type": "execute_result"
    },
    {
     "data": {
      "image/png": "[encoded data removed]",
      "text/plain": [
       "<Figure size 640x480 with 1 Axes>"
      ]
     },
     "metadata": {},
     "output_type": "display_data"
    }
   ],
   "source": [
    "#twitter\n",
    "#Most common words from r/ukraine\n",
    "wpt = data[data['subreddit'].str.contains('WhitePeopleTwitter')]\n",
    "\n",
    "w = wpt['comms_num']\n",
    "hist = w.hist(bins=150)\n",
    "plt.title(\"Distribution Of 'WPT' Score\", size = 18, color='green')\n",
    "plt.xlabel(\"Total # Comments Per Post\", size = 16, color='green')\n",
    "plt.ylabel(\"Frequency of Posts\", size = 16, color='green')"
   ]
  },
  {
   "cell_type": "code",
   "execution_count": 432,
   "id": "ec48f010-2b76-4bd2-8167-d918f0f3c76c",
   "metadata": {},
   "outputs": [],
   "source": [
    "#DATA CLEANING"
   ]
  },
  {
   "cell_type": "code",
   "execution_count": 541,
   "id": "7fb9ee50-2306-4a19-8bd4-ab3e06990770",
   "metadata": {},
   "outputs": [],
   "source": [
    "#lowercase only data\n",
    "data['title'] = data['title'].str.lower()"
   ]
  },
  {
   "cell_type": "code",
   "execution_count": 542,
   "id": "1f3a58c5-85cd-4761-b8cb-f996cf4fa485",
   "metadata": {},
   "outputs": [],
   "source": [
    "#delete punctuation\n",
    "\n",
    "# create function for punctuation removal:\n",
    "def remove(i):\n",
    "    for char in string.punctuation:\n",
    "        i = i.replace(char, '')\n",
    "    return i\n",
    "\n",
    "# apply the function:\n",
    "data['title'] = data['title'].apply(remove)"
   ]
  },
  {
   "cell_type": "code",
   "execution_count": 543,
   "id": "7feb4975-3e3f-40a8-a917-61fade551e2c",
   "metadata": {},
   "outputs": [
    {
     "name": "stderr",
     "output_type": "stream",
     "text": [
      "[nltk_data] Downloading package stopwords to\n",
      "[nltk_data]     C:\\Users\\derek\\AppData\\Roaming\\nltk_data...\n",
      "[nltk_data]   Package stopwords is already up-to-date!\n"
     ]
    }
   ],
   "source": [
    "#remove certain stopwards\n",
    "from nltk.corpus import stopwords\n",
    "stopWordsListEng = stopwords.words(\"english\")\n",
    "\n",
    "nltk.download('stopwords')\n",
    "stop = stopwords.words('english')\n",
    "\n",
    "my_list = ['the', 'a', 'of']\n",
    "stop_extended = stop + my_list\n",
    "\n",
    "data['title'] = data['title'].apply(lambda x: ' '.join([word for word in x.split() if word not in stop_extended]))"
   ]
  },
  {
   "cell_type": "code",
   "execution_count": 544,
   "id": "db1fe99f-3629-4c4f-ba73-80c2804d3561",
   "metadata": {},
   "outputs": [],
   "source": [
    "#remove numbers/numerical values\n",
    "data['title'] = data['title'].str.replace('0', '')\n",
    "data['title'] = data['title'].str.replace('1', '')\n",
    "data['title'] = data['title'].str.replace('2', '')\n",
    "data['title'] = data['title'].str.replace('3', '')\n",
    "data['title'] = data['title'].str.replace('4', '')\n",
    "data['title'] = data['title'].str.replace('5', '')\n",
    "data['title'] = data['title'].str.replace('6', '')\n",
    "data['title'] = data['title'].str.replace('7', '')\n",
    "data['title'] = data['title'].str.replace('8', '')\n",
    "data['title'] = data['title'].str.replace('9', '')\n",
    "data['title'] = data['title'].str.replace('_', '')\n",
    "data['title'] = data['title'].str.replace('!', '')"
   ]
  },
  {
   "cell_type": "code",
   "execution_count": 545,
   "id": "7b2d9c67-0a9a-485d-a6da-a4b56b6e9a34",
   "metadata": {},
   "outputs": [],
   "source": [
    "#remove extra space from dataframe\n",
    "data['title'] = data['title'].replace(' ','')"
   ]
  },
  {
   "cell_type": "code",
   "execution_count": 549,
   "id": "a7a54fda-4f34-4f1b-9626-26d14a9f9482",
   "metadata": {},
   "outputs": [
    {
     "data": {
      "text/html": [
       "<div>\n",
       "<style scoped>\n",
       "    .dataframe tbody tr th:only-of-type {\n",
       "        vertical-align: middle;\n",
       "    }\n",
       "\n",
       "    .dataframe tbody tr th {\n",
       "        vertical-align: top;\n",
       "    }\n",
       "\n",
       "    .dataframe thead th {\n",
       "        text-align: right;\n",
       "    }\n",
       "</style>\n",
       "<table border=\"1\" class=\"dataframe\">\n",
       "  <thead>\n",
       "    <tr style=\"text-align: right;\">\n",
       "      <th></th>\n",
       "      <th>score</th>\n",
       "      <th>comms_num</th>\n",
       "      <th>created</th>\n",
       "    </tr>\n",
       "  </thead>\n",
       "  <tbody>\n",
       "    <tr>\n",
       "      <th>count</th>\n",
       "      <td>13914.000000</td>\n",
       "      <td>13914.000000</td>\n",
       "      <td>1.391400e+04</td>\n",
       "    </tr>\n",
       "    <tr>\n",
       "      <th>mean</th>\n",
       "      <td>1950.193690</td>\n",
       "      <td>126.797614</td>\n",
       "      <td>1.662274e+09</td>\n",
       "    </tr>\n",
       "    <tr>\n",
       "      <th>std</th>\n",
       "      <td>5424.344049</td>\n",
       "      <td>622.014347</td>\n",
       "      <td>4.465510e+04</td>\n",
       "    </tr>\n",
       "    <tr>\n",
       "      <th>min</th>\n",
       "      <td>52.000000</td>\n",
       "      <td>1.000000</td>\n",
       "      <td>1.662185e+09</td>\n",
       "    </tr>\n",
       "    <tr>\n",
       "      <th>25%</th>\n",
       "      <td>282.000000</td>\n",
       "      <td>14.000000</td>\n",
       "      <td>1.662235e+09</td>\n",
       "    </tr>\n",
       "    <tr>\n",
       "      <th>50%</th>\n",
       "      <td>636.000000</td>\n",
       "      <td>35.000000</td>\n",
       "      <td>1.662264e+09</td>\n",
       "    </tr>\n",
       "    <tr>\n",
       "      <th>75%</th>\n",
       "      <td>1546.750000</td>\n",
       "      <td>97.000000</td>\n",
       "      <td>1.662316e+09</td>\n",
       "    </tr>\n",
       "    <tr>\n",
       "      <th>max</th>\n",
       "      <td>165528.000000</td>\n",
       "      <td>29584.000000</td>\n",
       "      <td>1.662349e+09</td>\n",
       "    </tr>\n",
       "  </tbody>\n",
       "</table>\n",
       "</div>"
      ],
      "text/plain": [
       "               score     comms_num       created\n",
       "count   13914.000000  13914.000000  1.391400e+04\n",
       "mean     1950.193690    126.797614  1.662274e+09\n",
       "std      5424.344049    622.014347  4.465510e+04\n",
       "min        52.000000      1.000000  1.662185e+09\n",
       "25%       282.000000     14.000000  1.662235e+09\n",
       "50%       636.000000     35.000000  1.662264e+09\n",
       "75%      1546.750000     97.000000  1.662316e+09\n",
       "max    165528.000000  29584.000000  1.662349e+09"
      ]
     },
     "execution_count": 549,
     "metadata": {},
     "output_type": "execute_result"
    }
   ],
   "source": [
    "#summary statistics\n",
    "#Massive outliers, in many cases, top 1% have values hundresds of times more than median.\n",
    "#Mean greater than median as a result of huge outliers.\n",
    "#I did remove top 1% of largest values to prevent too many outliers. Used to be much worse\n",
    "data.describe()"
   ]
  },
  {
   "cell_type": "code",
   "execution_count": 550,
   "id": "2f424f6a-5559-412b-957b-1254616f7623",
   "metadata": {},
   "outputs": [
    {
     "data": {
      "text/html": [
       "<div>\n",
       "<style scoped>\n",
       "    .dataframe tbody tr th:only-of-type {\n",
       "        vertical-align: middle;\n",
       "    }\n",
       "\n",
       "    .dataframe tbody tr th {\n",
       "        vertical-align: top;\n",
       "    }\n",
       "\n",
       "    .dataframe thead th {\n",
       "        text-align: right;\n",
       "    }\n",
       "</style>\n",
       "<table border=\"1\" class=\"dataframe\">\n",
       "  <thead>\n",
       "    <tr style=\"text-align: right;\">\n",
       "      <th></th>\n",
       "      <th>title</th>\n",
       "      <th>subreddit</th>\n",
       "      <th>score</th>\n",
       "      <th>comms_num</th>\n",
       "      <th>created</th>\n",
       "    </tr>\n",
       "  </thead>\n",
       "  <tbody>\n",
       "    <tr>\n",
       "      <th>701</th>\n",
       "      <td>game thread lsu vs florida state  pm et</td>\n",
       "      <td>CFB</td>\n",
       "      <td>1279</td>\n",
       "      <td>29584</td>\n",
       "      <td>1.662331e+09</td>\n",
       "    </tr>\n",
       "    <tr>\n",
       "      <th>6582</th>\n",
       "      <td>live aew  discussion</td>\n",
       "      <td>SquaredCircle</td>\n",
       "      <td>407</td>\n",
       "      <td>28982</td>\n",
       "      <td>1.662331e+09</td>\n",
       "    </tr>\n",
       "    <tr>\n",
       "      <th>1031</th>\n",
       "      <td>match thread th match super four india vs paki...</td>\n",
       "      <td>Cricket</td>\n",
       "      <td>2505</td>\n",
       "      <td>24145</td>\n",
       "      <td>1.662295e+09</td>\n",
       "    </tr>\n",
       "    <tr>\n",
       "      <th>57</th>\n",
       "      <td>consistently getting shittier</td>\n",
       "      <td>AskReddit</td>\n",
       "      <td>26158</td>\n",
       "      <td>21148</td>\n",
       "      <td>1.662231e+09</td>\n",
       "    </tr>\n",
       "    <tr>\n",
       "      <th>3563</th>\n",
       "      <td>let’s pretend country world guest party party</td>\n",
       "      <td>AskReddit</td>\n",
       "      <td>49194</td>\n",
       "      <td>20054</td>\n",
       "      <td>1.662287e+09</td>\n",
       "    </tr>\n",
       "    <tr>\n",
       "      <th>6130</th>\n",
       "      <td>game thread notre dame ohio state  pm et</td>\n",
       "      <td>CFB</td>\n",
       "      <td>685</td>\n",
       "      <td>18674</td>\n",
       "      <td>1.662244e+09</td>\n",
       "    </tr>\n",
       "    <tr>\n",
       "      <th>3228</th>\n",
       "      <td>boring hobby person</td>\n",
       "      <td>AskReddit</td>\n",
       "      <td>29256</td>\n",
       "      <td>14301</td>\n",
       "      <td>1.662199e+09</td>\n",
       "    </tr>\n",
       "    <tr>\n",
       "      <th>7063</th>\n",
       "      <td>game thread georgia vs oregon  pm et</td>\n",
       "      <td>CFB</td>\n",
       "      <td>577</td>\n",
       "      <td>13655</td>\n",
       "      <td>1.662230e+09</td>\n",
       "    </tr>\n",
       "    <tr>\n",
       "      <th>6853</th>\n",
       "      <td>game thread utah florida  pm et</td>\n",
       "      <td>CFB</td>\n",
       "      <td>413</td>\n",
       "      <td>10088</td>\n",
       "      <td>1.662242e+09</td>\n",
       "    </tr>\n",
       "    <tr>\n",
       "      <th>25</th>\n",
       "      <td>fictional character onlyfans account one think...</td>\n",
       "      <td>AskReddit</td>\n",
       "      <td>21382</td>\n",
       "      <td>9815</td>\n",
       "      <td>1.662323e+09</td>\n",
       "    </tr>\n",
       "  </tbody>\n",
       "</table>\n",
       "</div>"
      ],
      "text/plain": [
       "                                                  title      subreddit  score  \\\n",
       "701             game thread lsu vs florida state  pm et            CFB   1279   \n",
       "6582                               live aew  discussion  SquaredCircle    407   \n",
       "1031  match thread th match super four india vs paki...        Cricket   2505   \n",
       "57                        consistently getting shittier      AskReddit  26158   \n",
       "3563      let’s pretend country world guest party party      AskReddit  49194   \n",
       "6130           game thread notre dame ohio state  pm et            CFB    685   \n",
       "3228                                boring hobby person      AskReddit  29256   \n",
       "7063               game thread georgia vs oregon  pm et            CFB    577   \n",
       "6853                    game thread utah florida  pm et            CFB    413   \n",
       "25    fictional character onlyfans account one think...      AskReddit  21382   \n",
       "\n",
       "      comms_num       created  \n",
       "701       29584  1.662331e+09  \n",
       "6582      28982  1.662331e+09  \n",
       "1031      24145  1.662295e+09  \n",
       "57        21148  1.662231e+09  \n",
       "3563      20054  1.662287e+09  \n",
       "6130      18674  1.662244e+09  \n",
       "3228      14301  1.662199e+09  \n",
       "7063      13655  1.662230e+09  \n",
       "6853      10088  1.662242e+09  \n",
       "25         9815  1.662323e+09  "
      ]
     },
     "execution_count": 550,
     "metadata": {},
     "output_type": "execute_result"
    }
   ],
   "source": [
    "#OUTLIERS - I decided to delete top 1 % because there are huge outliers\n",
    "#many of the outliers have titles that didn't make much sense to me.\n",
    "data.nlargest(10, 'comms_num')"
   ]
  },
  {
   "cell_type": "code",
   "execution_count": 558,
   "id": "7f15673e-7fea-49d8-8c2d-75facb300faf",
   "metadata": {},
   "outputs": [
    {
     "data": {
      "text/plain": [
       "826.0"
      ]
     },
     "execution_count": 558,
     "metadata": {},
     "output_type": "execute_result"
    }
   ],
   "source": [
    "data['comms_num'].quantile(0.99)"
   ]
  },
  {
   "cell_type": "code",
   "execution_count": 555,
   "id": "0fc8c97d-d16a-4251-a7f8-9b458dd75e61",
   "metadata": {},
   "outputs": [],
   "source": [
    "data = data[data['comms_num'] < 1361]"
   ]
  },
  {
   "cell_type": "code",
   "execution_count": 560,
   "id": "e5314ecb-1ae8-42f1-bbfd-a4ad88b8084c",
   "metadata": {},
   "outputs": [
    {
     "data": {
      "text/html": [
       "<div>\n",
       "<style scoped>\n",
       "    .dataframe tbody tr th:only-of-type {\n",
       "        vertical-align: middle;\n",
       "    }\n",
       "\n",
       "    .dataframe tbody tr th {\n",
       "        vertical-align: top;\n",
       "    }\n",
       "\n",
       "    .dataframe thead th {\n",
       "        text-align: right;\n",
       "    }\n",
       "</style>\n",
       "<table border=\"1\" class=\"dataframe\">\n",
       "  <thead>\n",
       "    <tr style=\"text-align: right;\">\n",
       "      <th></th>\n",
       "      <th>score</th>\n",
       "      <th>comms_num</th>\n",
       "      <th>created</th>\n",
       "    </tr>\n",
       "  </thead>\n",
       "  <tbody>\n",
       "    <tr>\n",
       "      <th>count</th>\n",
       "      <td>13774.000000</td>\n",
       "      <td>13774.000000</td>\n",
       "      <td>1.377400e+04</td>\n",
       "    </tr>\n",
       "    <tr>\n",
       "      <th>mean</th>\n",
       "      <td>1744.500073</td>\n",
       "      <td>89.979091</td>\n",
       "      <td>1.662274e+09</td>\n",
       "    </tr>\n",
       "    <tr>\n",
       "      <th>std</th>\n",
       "      <td>4475.427830</td>\n",
       "      <td>153.108320</td>\n",
       "      <td>4.464055e+04</td>\n",
       "    </tr>\n",
       "    <tr>\n",
       "      <th>min</th>\n",
       "      <td>52.000000</td>\n",
       "      <td>1.000000</td>\n",
       "      <td>1.662185e+09</td>\n",
       "    </tr>\n",
       "    <tr>\n",
       "      <th>25%</th>\n",
       "      <td>280.000000</td>\n",
       "      <td>13.000000</td>\n",
       "      <td>1.662235e+09</td>\n",
       "    </tr>\n",
       "    <tr>\n",
       "      <th>50%</th>\n",
       "      <td>629.000000</td>\n",
       "      <td>35.000000</td>\n",
       "      <td>1.662264e+09</td>\n",
       "    </tr>\n",
       "    <tr>\n",
       "      <th>75%</th>\n",
       "      <td>1503.750000</td>\n",
       "      <td>93.000000</td>\n",
       "      <td>1.662316e+09</td>\n",
       "    </tr>\n",
       "    <tr>\n",
       "      <th>max</th>\n",
       "      <td>165528.000000</td>\n",
       "      <td>1357.000000</td>\n",
       "      <td>1.662349e+09</td>\n",
       "    </tr>\n",
       "  </tbody>\n",
       "</table>\n",
       "</div>"
      ],
      "text/plain": [
       "               score     comms_num       created\n",
       "count   13774.000000  13774.000000  1.377400e+04\n",
       "mean     1744.500073     89.979091  1.662274e+09\n",
       "std      4475.427830    153.108320  4.464055e+04\n",
       "min        52.000000      1.000000  1.662185e+09\n",
       "25%       280.000000     13.000000  1.662235e+09\n",
       "50%       629.000000     35.000000  1.662264e+09\n",
       "75%      1503.750000     93.000000  1.662316e+09\n",
       "max    165528.000000   1357.000000  1.662349e+09"
      ]
     },
     "execution_count": 560,
     "metadata": {},
     "output_type": "execute_result"
    }
   ],
   "source": [
    "#Only did it for number of comments, much more balanced from 29000 to 1357\n",
    "data.describe()"
   ]
  },
  {
   "cell_type": "code",
   "execution_count": 561,
   "id": "be09da22-b8d2-4fa8-8756-3deb2c012a22",
   "metadata": {},
   "outputs": [
    {
     "data": {
      "text/html": [
       "<div>\n",
       "<style scoped>\n",
       "    .dataframe tbody tr th:only-of-type {\n",
       "        vertical-align: middle;\n",
       "    }\n",
       "\n",
       "    .dataframe tbody tr th {\n",
       "        vertical-align: top;\n",
       "    }\n",
       "\n",
       "    .dataframe thead th {\n",
       "        text-align: right;\n",
       "    }\n",
       "</style>\n",
       "<table border=\"1\" class=\"dataframe\">\n",
       "  <thead>\n",
       "    <tr style=\"text-align: right;\">\n",
       "      <th></th>\n",
       "      <th>title</th>\n",
       "      <th>subreddit</th>\n",
       "      <th>score</th>\n",
       "      <th>comms_num</th>\n",
       "      <th>created</th>\n",
       "    </tr>\n",
       "  </thead>\n",
       "  <tbody>\n",
       "    <tr>\n",
       "      <th>266</th>\n",
       "      <td>zero compassion subhuman shit i’m glad he’s de...</td>\n",
       "      <td>AdviceAnimals</td>\n",
       "      <td>18012</td>\n",
       "      <td>1357</td>\n",
       "      <td>1.662212e+09</td>\n",
       "    </tr>\n",
       "    <tr>\n",
       "      <th>3287</th>\n",
       "      <td>would consider posh sports</td>\n",
       "      <td>AskUK</td>\n",
       "      <td>540</td>\n",
       "      <td>1320</td>\n",
       "      <td>1.662232e+09</td>\n",
       "    </tr>\n",
       "    <tr>\n",
       "      <th>650</th>\n",
       "      <td>kent brewery hailed brexit ‘export champion’ o...</td>\n",
       "      <td>nottheonion</td>\n",
       "      <td>19345</td>\n",
       "      <td>1319</td>\n",
       "      <td>1.662291e+09</td>\n",
       "    </tr>\n",
       "    <tr>\n",
       "      <th>562</th>\n",
       "      <td>im  girls class  pupils one class tell tips</td>\n",
       "      <td>teenagers</td>\n",
       "      <td>4676</td>\n",
       "      <td>1313</td>\n",
       "      <td>1.662316e+09</td>\n",
       "    </tr>\n",
       "    <tr>\n",
       "      <th>688</th>\n",
       "      <td>puretime giveaway</td>\n",
       "      <td>RepTime</td>\n",
       "      <td>1072</td>\n",
       "      <td>1295</td>\n",
       "      <td>1.662317e+09</td>\n",
       "    </tr>\n",
       "    <tr>\n",
       "      <th>7</th>\n",
       "      <td>taylor hawkins son shane kills drums pays trib...</td>\n",
       "      <td>MadeMeSmile</td>\n",
       "      <td>57119</td>\n",
       "      <td>1277</td>\n",
       "      <td>1.662243e+09</td>\n",
       "    </tr>\n",
       "    <tr>\n",
       "      <th>4710</th>\n",
       "      <td>interesting title</td>\n",
       "      <td>terriblefacebookmemes</td>\n",
       "      <td>15711</td>\n",
       "      <td>1276</td>\n",
       "      <td>1.662276e+09</td>\n",
       "    </tr>\n",
       "    <tr>\n",
       "      <th>720</th>\n",
       "      <td>animals hugging caretaker sanctuary</td>\n",
       "      <td>gifs</td>\n",
       "      <td>40798</td>\n",
       "      <td>1273</td>\n",
       "      <td>1.662202e+09</td>\n",
       "    </tr>\n",
       "    <tr>\n",
       "      <th>1919</th>\n",
       "      <td>thats sure</td>\n",
       "      <td>WhitePeopleTwitter</td>\n",
       "      <td>12989</td>\n",
       "      <td>1268</td>\n",
       "      <td>1.662310e+09</td>\n",
       "    </tr>\n",
       "    <tr>\n",
       "      <th>457</th>\n",
       "      <td>y’all got  isopropyl</td>\n",
       "      <td>rareinsults</td>\n",
       "      <td>51643</td>\n",
       "      <td>1263</td>\n",
       "      <td>1.662212e+09</td>\n",
       "    </tr>\n",
       "  </tbody>\n",
       "</table>\n",
       "</div>"
      ],
      "text/plain": [
       "                                                  title  \\\n",
       "266   zero compassion subhuman shit i’m glad he’s de...   \n",
       "3287                         would consider posh sports   \n",
       "650   kent brewery hailed brexit ‘export champion’ o...   \n",
       "562         im  girls class  pupils one class tell tips   \n",
       "688                                   puretime giveaway   \n",
       "7     taylor hawkins son shane kills drums pays trib...   \n",
       "4710                                  interesting title   \n",
       "720                 animals hugging caretaker sanctuary   \n",
       "1919                                         thats sure   \n",
       "457                                y’all got  isopropyl   \n",
       "\n",
       "                  subreddit  score  comms_num       created  \n",
       "266           AdviceAnimals  18012       1357  1.662212e+09  \n",
       "3287                  AskUK    540       1320  1.662232e+09  \n",
       "650             nottheonion  19345       1319  1.662291e+09  \n",
       "562               teenagers   4676       1313  1.662316e+09  \n",
       "688                 RepTime   1072       1295  1.662317e+09  \n",
       "7               MadeMeSmile  57119       1277  1.662243e+09  \n",
       "4710  terriblefacebookmemes  15711       1276  1.662276e+09  \n",
       "720                    gifs  40798       1273  1.662202e+09  \n",
       "1919     WhitePeopleTwitter  12989       1268  1.662310e+09  \n",
       "457             rareinsults  51643       1263  1.662212e+09  "
      ]
     },
     "execution_count": 561,
     "metadata": {},
     "output_type": "execute_result"
    }
   ],
   "source": [
    "#still feels fairly random after deleting outliers\n",
    "data.nlargest(10, 'comms_num')"
   ]
  },
  {
   "cell_type": "code",
   "execution_count": 563,
   "id": "693ac213-87e3-4c64-8ef2-8a1efe3ce7f1",
   "metadata": {},
   "outputs": [
    {
     "data": {
      "text/plain": [
       "<bound method DataFrame.info of                                                   title           subreddit  \\\n",
       "0     video resurfaces trump calling democrats ‘fasc...            politics   \n",
       "2                                                 meirl               meirl   \n",
       "3        elected officials everybody lets give big hand  WhitePeopleTwitter   \n",
       "6             there’s calf lighting bolt head farm work   mildlyinteresting   \n",
       "7     taylor hawkins son shane kills drums pays trib...         MadeMeSmile   \n",
       "...                                                 ...                 ...   \n",
       "7240              shehulk deafens hulk thunderous claps               memes   \n",
       "7241                                orgasm start finish               memes   \n",
       "7242  maybe shouldnt export half tank production mid...               memes   \n",
       "7243                                  youre damn skippy               memes   \n",
       "7244           warning controversial  electric boogaloo               memes   \n",
       "\n",
       "      score  comms_num       created  \n",
       "0     15244        742  1.662253e+09  \n",
       "2     20939        265  1.662252e+09  \n",
       "3      7947       1128  1.662258e+09  \n",
       "6     16272        970  1.662249e+09  \n",
       "7     57119       1277  1.662243e+09  \n",
       "...     ...        ...           ...  \n",
       "7240    623         13  1.662302e+09  \n",
       "7241    222          5  1.662322e+09  \n",
       "7242    331         61  1.662314e+09  \n",
       "7243    119          4  1.662334e+09  \n",
       "7244   1051         36  1.662291e+09  \n",
       "\n",
       "[13774 rows x 5 columns]>"
      ]
     },
     "execution_count": 563,
     "metadata": {},
     "output_type": "execute_result"
    }
   ],
   "source": [
    "data.info"
   ]
  },
  {
   "cell_type": "code",
   "execution_count": 564,
   "id": "db39f666-7572-4ae3-b9a2-5b671e72650f",
   "metadata": {},
   "outputs": [],
   "source": [
    "#If number of comments calcuated by median - expect vast majority of values to be 0 insteaed of 1."
   ]
  },
  {
   "cell_type": "code",
   "execution_count": 565,
   "id": "2c2028c0-94ac-4a05-a3f6-1d289df06834",
   "metadata": {},
   "outputs": [
    {
     "data": {
      "text/html": [
       "<div>\n",
       "<style scoped>\n",
       "    .dataframe tbody tr th:only-of-type {\n",
       "        vertical-align: middle;\n",
       "    }\n",
       "\n",
       "    .dataframe tbody tr th {\n",
       "        vertical-align: top;\n",
       "    }\n",
       "\n",
       "    .dataframe thead th {\n",
       "        text-align: right;\n",
       "    }\n",
       "</style>\n",
       "<table border=\"1\" class=\"dataframe\">\n",
       "  <thead>\n",
       "    <tr style=\"text-align: right;\">\n",
       "      <th></th>\n",
       "      <th>score</th>\n",
       "      <th>comms_num</th>\n",
       "      <th>created</th>\n",
       "    </tr>\n",
       "    <tr>\n",
       "      <th>subreddit</th>\n",
       "      <th></th>\n",
       "      <th></th>\n",
       "      <th></th>\n",
       "    </tr>\n",
       "  </thead>\n",
       "  <tbody>\n",
       "    <tr>\n",
       "      <th>0sanitymemes</th>\n",
       "      <td>408.666667</td>\n",
       "      <td>6.0</td>\n",
       "      <td>1.662295e+09</td>\n",
       "    </tr>\n",
       "    <tr>\n",
       "      <th>100yearsago</th>\n",
       "      <td>125.000000</td>\n",
       "      <td>23.0</td>\n",
       "      <td>1.662252e+09</td>\n",
       "    </tr>\n",
       "    <tr>\n",
       "      <th>1022</th>\n",
       "      <td>122.000000</td>\n",
       "      <td>14.0</td>\n",
       "      <td>1.662252e+09</td>\n",
       "    </tr>\n",
       "    <tr>\n",
       "      <th>13or30</th>\n",
       "      <td>1577.666667</td>\n",
       "      <td>24.0</td>\n",
       "      <td>1.662275e+09</td>\n",
       "    </tr>\n",
       "    <tr>\n",
       "      <th>19684</th>\n",
       "      <td>1289.666667</td>\n",
       "      <td>36.0</td>\n",
       "      <td>1.662240e+09</td>\n",
       "    </tr>\n",
       "    <tr>\n",
       "      <th>...</th>\n",
       "      <td>...</td>\n",
       "      <td>...</td>\n",
       "      <td>...</td>\n",
       "    </tr>\n",
       "    <tr>\n",
       "      <th>youseeingthisshit</th>\n",
       "      <td>4368.000000</td>\n",
       "      <td>87.0</td>\n",
       "      <td>1.662338e+09</td>\n",
       "    </tr>\n",
       "    <tr>\n",
       "      <th>youtubehaiku</th>\n",
       "      <td>568.000000</td>\n",
       "      <td>20.0</td>\n",
       "      <td>1.662271e+09</td>\n",
       "    </tr>\n",
       "    <tr>\n",
       "      <th>yugioh</th>\n",
       "      <td>691.333333</td>\n",
       "      <td>27.0</td>\n",
       "      <td>1.662282e+09</td>\n",
       "    </tr>\n",
       "    <tr>\n",
       "      <th>zelda</th>\n",
       "      <td>1981.000000</td>\n",
       "      <td>121.8</td>\n",
       "      <td>1.662244e+09</td>\n",
       "    </tr>\n",
       "    <tr>\n",
       "      <th>zillowgonewild</th>\n",
       "      <td>355.000000</td>\n",
       "      <td>26.0</td>\n",
       "      <td>1.662313e+09</td>\n",
       "    </tr>\n",
       "  </tbody>\n",
       "</table>\n",
       "<p>2938 rows × 3 columns</p>\n",
       "</div>"
      ],
      "text/plain": [
       "                         score  comms_num       created\n",
       "subreddit                                              \n",
       "0sanitymemes        408.666667        6.0  1.662295e+09\n",
       "100yearsago         125.000000       23.0  1.662252e+09\n",
       "1022                122.000000       14.0  1.662252e+09\n",
       "13or30             1577.666667       24.0  1.662275e+09\n",
       "19684              1289.666667       36.0  1.662240e+09\n",
       "...                        ...        ...           ...\n",
       "youseeingthisshit  4368.000000       87.0  1.662338e+09\n",
       "youtubehaiku        568.000000       20.0  1.662271e+09\n",
       "yugioh              691.333333       27.0  1.662282e+09\n",
       "zelda              1981.000000      121.8  1.662244e+09\n",
       "zillowgonewild      355.000000       26.0  1.662313e+09\n",
       "\n",
       "[2938 rows x 3 columns]"
      ]
     },
     "execution_count": 565,
     "metadata": {},
     "output_type": "execute_result"
    }
   ],
   "source": [
    "data.groupby('subreddit').mean()"
   ]
  },
  {
   "cell_type": "code",
   "execution_count": 566,
   "id": "7ee775be-bef3-40f8-b28d-dd414f1f76ac",
   "metadata": {},
   "outputs": [
    {
     "data": {
      "text/plain": [
       "4464    165528\n",
       "6099    106285\n",
       "600      86098\n",
       "5930     78636\n",
       "4835     73867\n",
       "1673     73623\n",
       "669      73404\n",
       "3864     69442\n",
       "231      65304\n",
       "78       60947\n",
       "Name: score, dtype: int64"
      ]
     },
     "execution_count": 566,
     "metadata": {},
     "output_type": "execute_result"
    }
   ],
   "source": [
    "#check scores - see subreddit/title\n",
    "data['score'].sort_values(ascending=False).head(10)"
   ]
  },
  {
   "cell_type": "code",
   "execution_count": 567,
   "id": "b02c5c5f-eb4a-419c-bef4-4d20a90623c1",
   "metadata": {},
   "outputs": [
    {
     "data": {
      "text/plain": [
       "266     1357\n",
       "3287    1320\n",
       "650     1319\n",
       "562     1313\n",
       "688     1295\n",
       "7       1277\n",
       "4710    1276\n",
       "720     1273\n",
       "1919    1268\n",
       "457     1263\n",
       "Name: comms_num, dtype: int64"
      ]
     },
     "execution_count": 567,
     "metadata": {},
     "output_type": "execute_result"
    }
   ],
   "source": [
    "#check number of comments - see subreddit/title\n",
    "data['comms_num'].sort_values(ascending=False).head(10)"
   ]
  },
  {
   "cell_type": "code",
   "execution_count": 568,
   "id": "9d1aea76-5334-43da-9392-f80969abed97",
   "metadata": {},
   "outputs": [],
   "source": [
    "#change comments to interger\n",
    "data['comms_num'] = data['comms_num'].astype(int)"
   ]
  },
  {
   "cell_type": "code",
   "execution_count": 569,
   "id": "17b202bb-bf14-414e-87b6-de3d0996c75b",
   "metadata": {},
   "outputs": [
    {
     "data": {
      "text/plain": [
       "title         object\n",
       "subreddit     object\n",
       "score          int64\n",
       "comms_num      int32\n",
       "created      float64\n",
       "dtype: object"
      ]
     },
     "execution_count": 569,
     "metadata": {},
     "output_type": "execute_result"
    }
   ],
   "source": [
    "#want comments and scores to be integers, the rest strings\n",
    "data.dtypes"
   ]
  },
  {
   "cell_type": "code",
   "execution_count": 571,
   "id": "418999d7-f25e-4751-894e-ae8d22ded206",
   "metadata": {},
   "outputs": [
    {
     "data": {
      "text/html": [
       "<div>\n",
       "<style scoped>\n",
       "    .dataframe tbody tr th:only-of-type {\n",
       "        vertical-align: middle;\n",
       "    }\n",
       "\n",
       "    .dataframe tbody tr th {\n",
       "        vertical-align: top;\n",
       "    }\n",
       "\n",
       "    .dataframe thead th {\n",
       "        text-align: right;\n",
       "    }\n",
       "</style>\n",
       "<table border=\"1\" class=\"dataframe\">\n",
       "  <thead>\n",
       "    <tr style=\"text-align: right;\">\n",
       "      <th></th>\n",
       "      <th>title</th>\n",
       "      <th>subreddit</th>\n",
       "      <th>score</th>\n",
       "      <th>comms_num</th>\n",
       "      <th>created</th>\n",
       "    </tr>\n",
       "  </thead>\n",
       "  <tbody>\n",
       "    <tr>\n",
       "      <th>0</th>\n",
       "      <td>video resurfaces trump calling democrat fascis...</td>\n",
       "      <td>politics</td>\n",
       "      <td>15244</td>\n",
       "      <td>742</td>\n",
       "      <td>1.662253e+09</td>\n",
       "    </tr>\n",
       "    <tr>\n",
       "      <th>2</th>\n",
       "      <td>meirl</td>\n",
       "      <td>meirl</td>\n",
       "      <td>20939</td>\n",
       "      <td>265</td>\n",
       "      <td>1.662252e+09</td>\n",
       "    </tr>\n",
       "    <tr>\n",
       "      <th>3</th>\n",
       "      <td>elected official everybody let give big hand</td>\n",
       "      <td>WhitePeopleTwitter</td>\n",
       "      <td>7947</td>\n",
       "      <td>1128</td>\n",
       "      <td>1.662258e+09</td>\n",
       "    </tr>\n",
       "    <tr>\n",
       "      <th>6</th>\n",
       "      <td>there s calf lighting bolt head farm work</td>\n",
       "      <td>mildlyinteresting</td>\n",
       "      <td>16272</td>\n",
       "      <td>970</td>\n",
       "      <td>1.662249e+09</td>\n",
       "    </tr>\n",
       "    <tr>\n",
       "      <th>7</th>\n",
       "      <td>taylor hawkins son shane kill drum pay tribute...</td>\n",
       "      <td>MadeMeSmile</td>\n",
       "      <td>57119</td>\n",
       "      <td>1277</td>\n",
       "      <td>1.662243e+09</td>\n",
       "    </tr>\n",
       "  </tbody>\n",
       "</table>\n",
       "</div>"
      ],
      "text/plain": [
       "                                               title           subreddit  \\\n",
       "0  video resurfaces trump calling democrat fascis...            politics   \n",
       "2                                              meirl               meirl   \n",
       "3       elected official everybody let give big hand  WhitePeopleTwitter   \n",
       "6          there s calf lighting bolt head farm work   mildlyinteresting   \n",
       "7  taylor hawkins son shane kill drum pay tribute...         MadeMeSmile   \n",
       "\n",
       "   score  comms_num       created  \n",
       "0  15244        742  1.662253e+09  \n",
       "2  20939        265  1.662252e+09  \n",
       "3   7947       1128  1.662258e+09  \n",
       "6  16272        970  1.662249e+09  \n",
       "7  57119       1277  1.662243e+09  "
      ]
     },
     "execution_count": 571,
     "metadata": {},
     "output_type": "execute_result"
    }
   ],
   "source": [
    "# Lemmatizier - I used lemmatizier but it only slightly improved my training or testing aaccuracy \n",
    "#Coefficients didn't change by much\n",
    "# I ended up not using it\n",
    "lemmatizer = WordNetLemmatizer()\n",
    "tokenizer  = RegexpTokenizer(r'\\w+')\n",
    "\n",
    "lemmatized_posts = []\n",
    "\n",
    "for post in data[\"title\"]:\n",
    "    tokens = tokenizer.tokenize(post)\n",
    "    post   = [lemmatizer.lemmatize(post) for post in tokens]\n",
    "    lemmatized_posts.append(\" \".join(post))\n",
    "    \n",
    "# Appending the lemmatized posts to the dataframe\n",
    "\n",
    "data[\"title\"] = lemmatized_posts\n",
    "\n",
    "# Checking the head of the dataframe\n",
    "\n",
    "data.head()"
   ]
  },
  {
   "cell_type": "code",
   "execution_count": 572,
   "id": "6919b1b8-3714-4a72-8985-e0c861bd7802",
   "metadata": {},
   "outputs": [
    {
     "data": {
      "text/plain": [
       "35.0"
      ]
     },
     "execution_count": 572,
     "metadata": {},
     "output_type": "execute_result"
    }
   ],
   "source": [
    "#comms_num, score change to 0 and 1 - make comments binary (y value)\n",
    "data['comms_num'].median()"
   ]
  },
  {
   "cell_type": "code",
   "execution_count": 573,
   "id": "552529e5-3ddd-4421-b68d-0575a05129f4",
   "metadata": {},
   "outputs": [],
   "source": [
    "#above mean value is 1, below mean value is 0 - change comments to binary based on median\n",
    "#Need this to do binary classification models for logisitic reg and random forest\n",
    "data.loc[data['comms_num'] >= 35, 'number'] = '1'\n",
    "data.loc[data['comms_num'] < 35, 'number'] = '0'"
   ]
  },
  {
   "cell_type": "code",
   "execution_count": 574,
   "id": "96b1e337-dfae-4764-88bb-a176595b895c",
   "metadata": {},
   "outputs": [
    {
     "data": {
      "text/plain": [
       "1    6914\n",
       "0    6860\n",
       "Name: number, dtype: int64"
      ]
     },
     "execution_count": 574,
     "metadata": {},
     "output_type": "execute_result"
    }
   ],
   "source": [
    "#roughly 50/50 for number variable\n",
    "data['number'].value_counts()"
   ]
  },
  {
   "cell_type": "code",
   "execution_count": 575,
   "id": "7b099c01-953a-452b-9c19-9f81decd09a7",
   "metadata": {},
   "outputs": [],
   "source": [
    "#make subreddit string\n",
    "data['subreddit'] = data['subreddit'].apply(str)"
   ]
  },
  {
   "cell_type": "code",
   "execution_count": 576,
   "id": "40dc86a0-9560-48eb-b09c-b2d96a9706ea",
   "metadata": {},
   "outputs": [],
   "source": [
    "#use nlp for title first - need to know most common words for most comments\n",
    "#X - text, number - #y comments\n",
    "\n",
    "#I decided to use only 'title' since my data was gathered in the span of less than a day.\n",
    "#I believe 'time' wouldn't be very accurate since it was gathered only during morning and afternoon.\n",
    "# Analysis is a general snapshot of popular words that were used to get lots of comments on September 3rd and 4th.\n",
    "X = data['title']\n",
    "y = data['number']"
   ]
  },
  {
   "cell_type": "code",
   "execution_count": 577,
   "id": "8a0947da-1b5c-47f2-a55d-47cfe9e095a4",
   "metadata": {},
   "outputs": [
    {
     "data": {
      "text/plain": [
       "0    video resurfaces trump calling democrat fascis...\n",
       "2                                                meirl\n",
       "3         elected official everybody let give big hand\n",
       "6            there s calf lighting bolt head farm work\n",
       "7    taylor hawkins son shane kill drum pay tribute...\n",
       "Name: title, dtype: object"
      ]
     },
     "execution_count": 577,
     "metadata": {},
     "output_type": "execute_result"
    }
   ],
   "source": [
    "#x is text for title\n",
    "X.head(5)"
   ]
  },
  {
   "cell_type": "code",
   "execution_count": 578,
   "id": "89f19830-1fbb-4b8b-83cd-042d059ef312",
   "metadata": {},
   "outputs": [],
   "source": [
    "#conduct train test split\n",
    "X_train, X_test, y_train, y_test = train_test_split(X, y, random_state=42, stratify=y)"
   ]
  },
  {
   "cell_type": "code",
   "execution_count": 580,
   "id": "a1696881-d5b5-47dd-a830-220a5d58d4de",
   "metadata": {},
   "outputs": [
    {
     "data": {
      "text/html": [
       "<style>#sk-container-id-13 {color: black;background-color: white;}#sk-container-id-13 pre{padding: 0;}#sk-container-id-13 div.sk-toggleable {background-color: white;}#sk-container-id-13 label.sk-toggleable__label {cursor: pointer;display: block;width: 100%;margin-bottom: 0;padding: 0.3em;box-sizing: border-box;text-align: center;}#sk-container-id-13 label.sk-toggleable__label-arrow:before {content: \"▸\";float: left;margin-right: 0.25em;color: #696969;}#sk-container-id-13 label.sk-toggleable__label-arrow:hover:before {color: black;}#sk-container-id-13 div.sk-estimator:hover label.sk-toggleable__label-arrow:before {color: black;}#sk-container-id-13 div.sk-toggleable__content {max-height: 0;max-width: 0;overflow: hidden;text-align: left;background-color: #f0f8ff;}#sk-container-id-13 div.sk-toggleable__content pre {margin: 0.2em;color: black;border-radius: 0.25em;background-color: #f0f8ff;}#sk-container-id-13 input.sk-toggleable__control:checked~div.sk-toggleable__content {max-height: 200px;max-width: 100%;overflow: auto;}#sk-container-id-13 input.sk-toggleable__control:checked~label.sk-toggleable__label-arrow:before {content: \"▾\";}#sk-container-id-13 div.sk-estimator input.sk-toggleable__control:checked~label.sk-toggleable__label {background-color: #d4ebff;}#sk-container-id-13 div.sk-label input.sk-toggleable__control:checked~label.sk-toggleable__label {background-color: #d4ebff;}#sk-container-id-13 input.sk-hidden--visually {border: 0;clip: rect(1px 1px 1px 1px);clip: rect(1px, 1px, 1px, 1px);height: 1px;margin: -1px;overflow: hidden;padding: 0;position: absolute;width: 1px;}#sk-container-id-13 div.sk-estimator {font-family: monospace;background-color: #f0f8ff;border: 1px dotted black;border-radius: 0.25em;box-sizing: border-box;margin-bottom: 0.5em;}#sk-container-id-13 div.sk-estimator:hover {background-color: #d4ebff;}#sk-container-id-13 div.sk-parallel-item::after {content: \"\";width: 100%;border-bottom: 1px solid gray;flex-grow: 1;}#sk-container-id-13 div.sk-label:hover label.sk-toggleable__label {background-color: #d4ebff;}#sk-container-id-13 div.sk-serial::before {content: \"\";position: absolute;border-left: 1px solid gray;box-sizing: border-box;top: 0;bottom: 0;left: 50%;z-index: 0;}#sk-container-id-13 div.sk-serial {display: flex;flex-direction: column;align-items: center;background-color: white;padding-right: 0.2em;padding-left: 0.2em;position: relative;}#sk-container-id-13 div.sk-item {position: relative;z-index: 1;}#sk-container-id-13 div.sk-parallel {display: flex;align-items: stretch;justify-content: center;background-color: white;position: relative;}#sk-container-id-13 div.sk-item::before, #sk-container-id-13 div.sk-parallel-item::before {content: \"\";position: absolute;border-left: 1px solid gray;box-sizing: border-box;top: 0;bottom: 0;left: 50%;z-index: -1;}#sk-container-id-13 div.sk-parallel-item {display: flex;flex-direction: column;z-index: 1;position: relative;background-color: white;}#sk-container-id-13 div.sk-parallel-item:first-child::after {align-self: flex-end;width: 50%;}#sk-container-id-13 div.sk-parallel-item:last-child::after {align-self: flex-start;width: 50%;}#sk-container-id-13 div.sk-parallel-item:only-child::after {width: 0;}#sk-container-id-13 div.sk-dashed-wrapped {border: 1px dashed gray;margin: 0 0.4em 0.5em 0.4em;box-sizing: border-box;padding-bottom: 0.4em;background-color: white;}#sk-container-id-13 div.sk-label label {font-family: monospace;font-weight: bold;display: inline-block;line-height: 1.2em;}#sk-container-id-13 div.sk-label-container {text-align: center;}#sk-container-id-13 div.sk-container {/* jupyter's `normalize.less` sets `[hidden] { display: none; }` but bootstrap.min.css set `[hidden] { display: none !important; }` so we also need the `!important` here to be able to override the default hidden behavior on the sphinx rendered scikit-learn.org. See: https://github.com/scikit-learn/scikit-learn/issues/21755 */display: inline-block !important;position: relative;}#sk-container-id-13 div.sk-text-repr-fallback {display: none;}</style><div id=\"sk-container-id-13\" class=\"sk-top-container\"><div class=\"sk-text-repr-fallback\"><pre>DummyRegressor()</pre><b>In a Jupyter environment, please rerun this cell to show the HTML representation or trust the notebook. <br />On GitHub, the HTML representation is unable to render, please try loading this page with nbviewer.org.</b></div><div class=\"sk-container\" hidden><div class=\"sk-item\"><div class=\"sk-estimator sk-toggleable\"><input class=\"sk-toggleable__control sk-hidden--visually\" id=\"sk-estimator-id-13\" type=\"checkbox\" checked><label for=\"sk-estimator-id-13\" class=\"sk-toggleable__label sk-toggleable__label-arrow\">DummyRegressor</label><div class=\"sk-toggleable__content\"><pre>DummyRegressor()</pre></div></div></div></div></div>"
      ],
      "text/plain": [
       "DummyRegressor()"
      ]
     },
     "execution_count": 580,
     "metadata": {},
     "output_type": "execute_result"
    }
   ],
   "source": [
    "#BASELINE SCORE - dummy classifier\n",
    "dummy_regr = DummyRegressor(strategy=\"mean\")\n",
    "dummy_regr.fit(X, y)\n",
    "DummyRegressor()"
   ]
  },
  {
   "cell_type": "code",
   "execution_count": 581,
   "id": "a4e9cebf-562e-49ea-b120-fbe80fde1da9",
   "metadata": {},
   "outputs": [
    {
     "data": {
      "text/plain": [
       "array([0.50196021, 0.50196021, 0.50196021, ..., 0.50196021, 0.50196021,\n",
       "       0.50196021])"
      ]
     },
     "execution_count": 581,
     "metadata": {},
     "output_type": "execute_result"
    }
   ],
   "source": [
    "#BASELINE\n",
    "\n",
    "#prediction of sales price for entire dataframe X (different variables)\n",
    "#close to half - predictions are also faily close to half as well\n",
    "preds = dummy_regr.predict(X)\n",
    "preds "
   ]
  },
  {
   "cell_type": "code",
   "execution_count": 582,
   "id": "ce196f30-20b4-4358-acba-559dbdaa283a",
   "metadata": {},
   "outputs": [
    {
     "data": {
      "text/plain": [
       "((10330,), (3444,), (10330,), (3444,))"
      ]
     },
     "execution_count": 582,
     "metadata": {},
     "output_type": "execute_result"
    }
   ],
   "source": [
    "#rouoghly 0.25/0.75 split\n",
    "X_train.shape, X_test.shape, y_train.shape, y_test.shape"
   ]
  },
  {
   "cell_type": "code",
   "execution_count": 583,
   "id": "8603e35f-19d1-40bd-a998-e97d2a3e3c62",
   "metadata": {},
   "outputs": [
    {
     "data": {
      "text/plain": [
       "((10330,), (3444,))"
      ]
     },
     "execution_count": 583,
     "metadata": {},
     "output_type": "execute_result"
    }
   ],
   "source": [
    "X_train.shape, X_test.shape"
   ]
  },
  {
   "cell_type": "code",
   "execution_count": 584,
   "id": "77aa128f-5984-4f75-beb6-a99c51179d97",
   "metadata": {},
   "outputs": [
    {
     "data": {
      "text/plain": [
       "1    0.501936\n",
       "0    0.498064\n",
       "Name: number, dtype: float64"
      ]
     },
     "execution_count": 584,
     "metadata": {},
     "output_type": "execute_result"
    }
   ],
   "source": [
    "y_train.value_counts(normalize=True)"
   ]
  },
  {
   "cell_type": "code",
   "execution_count": 585,
   "id": "1e5e6fd6-666c-4ff2-82df-e040e3bdb447",
   "metadata": {},
   "outputs": [
    {
     "data": {
      "text/plain": [
       "1    0.502033\n",
       "0    0.497967\n",
       "Name: number, dtype: float64"
      ]
     },
     "execution_count": 585,
     "metadata": {},
     "output_type": "execute_result"
    }
   ],
   "source": [
    "y_test.value_counts(normalize=True)"
   ]
  },
  {
   "cell_type": "code",
   "execution_count": 654,
   "id": "001eadc6-8b3c-476f-8cc9-4b46c7519bd3",
   "metadata": {},
   "outputs": [],
   "source": [
    "#tfid vectorizer for title\n",
    "#stop words - only want english\n",
    "#set max features to 5000 because 160000 is way too much\n",
    "tf = TfidfVectorizer(stop_words='english', max_features=5000, max_df=.90, ngram_range=(1, 2), min_df=2)\n",
    "\n",
    "tf.fit(X_train)\n",
    "\n",
    "#transform X_train and X_test\n",
    "\n",
    "tf.fit(X_train)\n",
    "\n",
    "#transform using count vectorizer for X test and train\n",
    "X_train_tf = tf.transform(X_train)\n",
    "X_test_tf = tf.transform(X_test)"
   ]
  },
  {
   "cell_type": "code",
   "execution_count": 655,
   "id": "a42ee941-7ec5-4cd5-a478-cf3f7be815a2",
   "metadata": {},
   "outputs": [
    {
     "data": {
      "text/plain": [
       "<10330x8350 sparse matrix of type '<class 'numpy.float64'>'\n",
       "\twith 54074 stored elements in Compressed Sparse Row format>"
      ]
     },
     "execution_count": 672,
     "metadata": {},
     "output_type": "execute_result"
    }
   ],
   "source": [
    "# inspect X_train_cv\n",
    "X_train_tf"
   ]
  },
  {
   "cell_type": "code",
   "execution_count": 656,
   "id": "c000ba27-e10d-40d6-93ea-6c5ec6d1a2ab",
   "metadata": {},
   "outputs": [
    {
     "data": {
      "text/plain": [
       "scipy.sparse.csr.csr_matrix"
      ]
     },
     "execution_count": 673,
     "metadata": {},
     "output_type": "execute_result"
    }
   ],
   "source": [
    "# type?\n",
    "type(X_train_tf)"
   ]
  },
  {
   "cell_type": "code",
   "execution_count": 657,
   "id": "d3a03e92-990a-4a1b-8158-1a6611977679",
   "metadata": {},
   "outputs": [
    {
     "data": {
      "text/plain": [
       "array([[0., 0., 0., ..., 0., 0., 0.],\n",
       "       [0., 0., 0., ..., 0., 0., 0.],\n",
       "       [0., 0., 0., ..., 0., 0., 0.],\n",
       "       ...,\n",
       "       [0., 0., 0., ..., 0., 0., 0.],\n",
       "       [0., 0., 0., ..., 0., 0., 0.],\n",
       "       [0., 0., 0., ..., 0., 0., 0.]])"
      ]
     },
     "execution_count": 674,
     "metadata": {},
     "output_type": "execute_result"
    }
   ],
   "source": [
    "# using .A to convert\n",
    "X_train_tf.A"
   ]
  },
  {
   "cell_type": "code",
   "execution_count": 658,
   "id": "8ebe8b68-4158-4853-9c64-0a62aef81e69",
   "metadata": {},
   "outputs": [
    {
     "data": {
      "text/plain": [
       "(10330, 8350)"
      ]
     },
     "execution_count": 675,
     "metadata": {},
     "output_type": "execute_result"
    }
   ],
   "source": [
    "X_train_tf.shape"
   ]
  },
  {
   "cell_type": "code",
   "execution_count": 659,
   "id": "94a9a69f-bb8f-413d-b33b-9ba0077cb996",
   "metadata": {},
   "outputs": [
    {
     "data": {
      "text/plain": [
       "array(['aa', 'aaron', 'aaron boone', ..., 'zuck', 'zuckerberg', 'última'],\n",
       "      dtype=object)"
      ]
     },
     "execution_count": 676,
     "metadata": {},
     "output_type": "execute_result"
    }
   ],
   "source": [
    "# using .get_feature_names_out():\n",
    "tf.get_feature_names_out()"
   ]
  },
  {
   "cell_type": "code",
   "execution_count": 660,
   "id": "fda9c604-e933-4c0b-b44c-e468f2ddc868",
   "metadata": {},
   "outputs": [
    {
     "data": {
      "text/plain": [
       "8350"
      ]
     },
     "execution_count": 677,
     "metadata": {},
     "output_type": "execute_result"
    }
   ],
   "source": [
    "# how many words did the CountVectorizer learn?\n",
    "len(tf.get_feature_names_out())"
   ]
  },
  {
   "cell_type": "code",
   "execution_count": 661,
   "id": "ab20c144-62fb-4793-bfe4-bdf6ce8abca8",
   "metadata": {},
   "outputs": [
    {
     "data": {
      "text/html": [
       "<div>\n",
       "<style scoped>\n",
       "    .dataframe tbody tr th:only-of-type {\n",
       "        vertical-align: middle;\n",
       "    }\n",
       "\n",
       "    .dataframe tbody tr th {\n",
       "        vertical-align: top;\n",
       "    }\n",
       "\n",
       "    .dataframe thead th {\n",
       "        text-align: right;\n",
       "    }\n",
       "</style>\n",
       "<table border=\"1\" class=\"dataframe\">\n",
       "  <thead>\n",
       "    <tr style=\"text-align: right;\">\n",
       "      <th></th>\n",
       "      <th>aa</th>\n",
       "      <th>aaron</th>\n",
       "      <th>aaron boone</th>\n",
       "      <th>aaron judge</th>\n",
       "      <th>ab</th>\n",
       "      <th>ab cub</th>\n",
       "      <th>abandoned</th>\n",
       "      <th>abandoned church</th>\n",
       "      <th>abbott</th>\n",
       "      <th>abel</th>\n",
       "      <th>...</th>\n",
       "      <th>zinchenko</th>\n",
       "      <th>zliva</th>\n",
       "      <th>zoey</th>\n",
       "      <th>zombie</th>\n",
       "      <th>zone</th>\n",
       "      <th>zoomies</th>\n",
       "      <th>zoro</th>\n",
       "      <th>zuck</th>\n",
       "      <th>zuckerberg</th>\n",
       "      <th>última</th>\n",
       "    </tr>\n",
       "  </thead>\n",
       "  <tbody>\n",
       "    <tr>\n",
       "      <th>0</th>\n",
       "      <td>0.0</td>\n",
       "      <td>0.0</td>\n",
       "      <td>0.0</td>\n",
       "      <td>0.0</td>\n",
       "      <td>0.0</td>\n",
       "      <td>0.0</td>\n",
       "      <td>0.0</td>\n",
       "      <td>0.0</td>\n",
       "      <td>0.0</td>\n",
       "      <td>0.0</td>\n",
       "      <td>...</td>\n",
       "      <td>0.0</td>\n",
       "      <td>0.0</td>\n",
       "      <td>0.0</td>\n",
       "      <td>0.0</td>\n",
       "      <td>0.0</td>\n",
       "      <td>0.0</td>\n",
       "      <td>0.0</td>\n",
       "      <td>0.0</td>\n",
       "      <td>0.0</td>\n",
       "      <td>0.0</td>\n",
       "    </tr>\n",
       "    <tr>\n",
       "      <th>1</th>\n",
       "      <td>0.0</td>\n",
       "      <td>0.0</td>\n",
       "      <td>0.0</td>\n",
       "      <td>0.0</td>\n",
       "      <td>0.0</td>\n",
       "      <td>0.0</td>\n",
       "      <td>0.0</td>\n",
       "      <td>0.0</td>\n",
       "      <td>0.0</td>\n",
       "      <td>0.0</td>\n",
       "      <td>...</td>\n",
       "      <td>0.0</td>\n",
       "      <td>0.0</td>\n",
       "      <td>0.0</td>\n",
       "      <td>0.0</td>\n",
       "      <td>0.0</td>\n",
       "      <td>0.0</td>\n",
       "      <td>0.0</td>\n",
       "      <td>0.0</td>\n",
       "      <td>0.0</td>\n",
       "      <td>0.0</td>\n",
       "    </tr>\n",
       "    <tr>\n",
       "      <th>2</th>\n",
       "      <td>0.0</td>\n",
       "      <td>0.0</td>\n",
       "      <td>0.0</td>\n",
       "      <td>0.0</td>\n",
       "      <td>0.0</td>\n",
       "      <td>0.0</td>\n",
       "      <td>0.0</td>\n",
       "      <td>0.0</td>\n",
       "      <td>0.0</td>\n",
       "      <td>0.0</td>\n",
       "      <td>...</td>\n",
       "      <td>0.0</td>\n",
       "      <td>0.0</td>\n",
       "      <td>0.0</td>\n",
       "      <td>0.0</td>\n",
       "      <td>0.0</td>\n",
       "      <td>0.0</td>\n",
       "      <td>0.0</td>\n",
       "      <td>0.0</td>\n",
       "      <td>0.0</td>\n",
       "      <td>0.0</td>\n",
       "    </tr>\n",
       "    <tr>\n",
       "      <th>3</th>\n",
       "      <td>0.0</td>\n",
       "      <td>0.0</td>\n",
       "      <td>0.0</td>\n",
       "      <td>0.0</td>\n",
       "      <td>0.0</td>\n",
       "      <td>0.0</td>\n",
       "      <td>0.0</td>\n",
       "      <td>0.0</td>\n",
       "      <td>0.0</td>\n",
       "      <td>0.0</td>\n",
       "      <td>...</td>\n",
       "      <td>0.0</td>\n",
       "      <td>0.0</td>\n",
       "      <td>0.0</td>\n",
       "      <td>0.0</td>\n",
       "      <td>0.0</td>\n",
       "      <td>0.0</td>\n",
       "      <td>0.0</td>\n",
       "      <td>0.0</td>\n",
       "      <td>0.0</td>\n",
       "      <td>0.0</td>\n",
       "    </tr>\n",
       "    <tr>\n",
       "      <th>4</th>\n",
       "      <td>0.0</td>\n",
       "      <td>0.0</td>\n",
       "      <td>0.0</td>\n",
       "      <td>0.0</td>\n",
       "      <td>0.0</td>\n",
       "      <td>0.0</td>\n",
       "      <td>0.0</td>\n",
       "      <td>0.0</td>\n",
       "      <td>0.0</td>\n",
       "      <td>0.0</td>\n",
       "      <td>...</td>\n",
       "      <td>0.0</td>\n",
       "      <td>0.0</td>\n",
       "      <td>0.0</td>\n",
       "      <td>0.0</td>\n",
       "      <td>0.0</td>\n",
       "      <td>0.0</td>\n",
       "      <td>0.0</td>\n",
       "      <td>0.0</td>\n",
       "      <td>0.0</td>\n",
       "      <td>0.0</td>\n",
       "    </tr>\n",
       "  </tbody>\n",
       "</table>\n",
       "<p>5 rows × 8350 columns</p>\n",
       "</div>"
      ],
      "text/plain": [
       "    aa  aaron  aaron boone  aaron judge   ab  ab cub  abandoned  \\\n",
       "0  0.0    0.0          0.0          0.0  0.0     0.0        0.0   \n",
       "1  0.0    0.0          0.0          0.0  0.0     0.0        0.0   \n",
       "2  0.0    0.0          0.0          0.0  0.0     0.0        0.0   \n",
       "3  0.0    0.0          0.0          0.0  0.0     0.0        0.0   \n",
       "4  0.0    0.0          0.0          0.0  0.0     0.0        0.0   \n",
       "\n",
       "   abandoned church  abbott  abel  ...  zinchenko  zliva  zoey  zombie  zone  \\\n",
       "0               0.0     0.0   0.0  ...        0.0    0.0   0.0     0.0   0.0   \n",
       "1               0.0     0.0   0.0  ...        0.0    0.0   0.0     0.0   0.0   \n",
       "2               0.0     0.0   0.0  ...        0.0    0.0   0.0     0.0   0.0   \n",
       "3               0.0     0.0   0.0  ...        0.0    0.0   0.0     0.0   0.0   \n",
       "4               0.0     0.0   0.0  ...        0.0    0.0   0.0     0.0   0.0   \n",
       "\n",
       "   zoomies  zoro  zuck  zuckerberg  última  \n",
       "0      0.0   0.0   0.0         0.0     0.0  \n",
       "1      0.0   0.0   0.0         0.0     0.0  \n",
       "2      0.0   0.0   0.0         0.0     0.0  \n",
       "3      0.0   0.0   0.0         0.0     0.0  \n",
       "4      0.0   0.0   0.0         0.0     0.0  \n",
       "\n",
       "[5 rows x 8350 columns]"
      ]
     },
     "execution_count": 678,
     "metadata": {},
     "output_type": "execute_result"
    }
   ],
   "source": [
    "# make a dataframe:\n",
    "X_train_tf = pd.DataFrame(X_train_tf.A, columns=tf.get_feature_names_out())\n",
    "X_train_tf.head()"
   ]
  },
  {
   "cell_type": "code",
   "execution_count": 662,
   "id": "d8b6246a-eefe-46c9-b50d-12a667c8779e",
   "metadata": {},
   "outputs": [
    {
     "data": {
      "text/html": [
       "<style>#sk-container-id-17 {color: black;background-color: white;}#sk-container-id-17 pre{padding: 0;}#sk-container-id-17 div.sk-toggleable {background-color: white;}#sk-container-id-17 label.sk-toggleable__label {cursor: pointer;display: block;width: 100%;margin-bottom: 0;padding: 0.3em;box-sizing: border-box;text-align: center;}#sk-container-id-17 label.sk-toggleable__label-arrow:before {content: \"▸\";float: left;margin-right: 0.25em;color: #696969;}#sk-container-id-17 label.sk-toggleable__label-arrow:hover:before {color: black;}#sk-container-id-17 div.sk-estimator:hover label.sk-toggleable__label-arrow:before {color: black;}#sk-container-id-17 div.sk-toggleable__content {max-height: 0;max-width: 0;overflow: hidden;text-align: left;background-color: #f0f8ff;}#sk-container-id-17 div.sk-toggleable__content pre {margin: 0.2em;color: black;border-radius: 0.25em;background-color: #f0f8ff;}#sk-container-id-17 input.sk-toggleable__control:checked~div.sk-toggleable__content {max-height: 200px;max-width: 100%;overflow: auto;}#sk-container-id-17 input.sk-toggleable__control:checked~label.sk-toggleable__label-arrow:before {content: \"▾\";}#sk-container-id-17 div.sk-estimator input.sk-toggleable__control:checked~label.sk-toggleable__label {background-color: #d4ebff;}#sk-container-id-17 div.sk-label input.sk-toggleable__control:checked~label.sk-toggleable__label {background-color: #d4ebff;}#sk-container-id-17 input.sk-hidden--visually {border: 0;clip: rect(1px 1px 1px 1px);clip: rect(1px, 1px, 1px, 1px);height: 1px;margin: -1px;overflow: hidden;padding: 0;position: absolute;width: 1px;}#sk-container-id-17 div.sk-estimator {font-family: monospace;background-color: #f0f8ff;border: 1px dotted black;border-radius: 0.25em;box-sizing: border-box;margin-bottom: 0.5em;}#sk-container-id-17 div.sk-estimator:hover {background-color: #d4ebff;}#sk-container-id-17 div.sk-parallel-item::after {content: \"\";width: 100%;border-bottom: 1px solid gray;flex-grow: 1;}#sk-container-id-17 div.sk-label:hover label.sk-toggleable__label {background-color: #d4ebff;}#sk-container-id-17 div.sk-serial::before {content: \"\";position: absolute;border-left: 1px solid gray;box-sizing: border-box;top: 0;bottom: 0;left: 50%;z-index: 0;}#sk-container-id-17 div.sk-serial {display: flex;flex-direction: column;align-items: center;background-color: white;padding-right: 0.2em;padding-left: 0.2em;position: relative;}#sk-container-id-17 div.sk-item {position: relative;z-index: 1;}#sk-container-id-17 div.sk-parallel {display: flex;align-items: stretch;justify-content: center;background-color: white;position: relative;}#sk-container-id-17 div.sk-item::before, #sk-container-id-17 div.sk-parallel-item::before {content: \"\";position: absolute;border-left: 1px solid gray;box-sizing: border-box;top: 0;bottom: 0;left: 50%;z-index: -1;}#sk-container-id-17 div.sk-parallel-item {display: flex;flex-direction: column;z-index: 1;position: relative;background-color: white;}#sk-container-id-17 div.sk-parallel-item:first-child::after {align-self: flex-end;width: 50%;}#sk-container-id-17 div.sk-parallel-item:last-child::after {align-self: flex-start;width: 50%;}#sk-container-id-17 div.sk-parallel-item:only-child::after {width: 0;}#sk-container-id-17 div.sk-dashed-wrapped {border: 1px dashed gray;margin: 0 0.4em 0.5em 0.4em;box-sizing: border-box;padding-bottom: 0.4em;background-color: white;}#sk-container-id-17 div.sk-label label {font-family: monospace;font-weight: bold;display: inline-block;line-height: 1.2em;}#sk-container-id-17 div.sk-label-container {text-align: center;}#sk-container-id-17 div.sk-container {/* jupyter's `normalize.less` sets `[hidden] { display: none; }` but bootstrap.min.css set `[hidden] { display: none !important; }` so we also need the `!important` here to be able to override the default hidden behavior on the sphinx rendered scikit-learn.org. See: https://github.com/scikit-learn/scikit-learn/issues/21755 */display: inline-block !important;position: relative;}#sk-container-id-17 div.sk-text-repr-fallback {display: none;}</style><div id=\"sk-container-id-17\" class=\"sk-top-container\"><div class=\"sk-text-repr-fallback\"><pre>LogisticRegression(max_iter=1000)</pre><b>In a Jupyter environment, please rerun this cell to show the HTML representation or trust the notebook. <br />On GitHub, the HTML representation is unable to render, please try loading this page with nbviewer.org.</b></div><div class=\"sk-container\" hidden><div class=\"sk-item\"><div class=\"sk-estimator sk-toggleable\"><input class=\"sk-toggleable__control sk-hidden--visually\" id=\"sk-estimator-id-17\" type=\"checkbox\" checked><label for=\"sk-estimator-id-17\" class=\"sk-toggleable__label sk-toggleable__label-arrow\">LogisticRegression</label><div class=\"sk-toggleable__content\"><pre>LogisticRegression(max_iter=1000)</pre></div></div></div></div></div>"
      ],
      "text/plain": [
       "LogisticRegression(max_iter=1000)"
      ]
     },
     "execution_count": 679,
     "metadata": {},
     "output_type": "execute_result"
    }
   ],
   "source": [
    "#Logistic Regression - max iter at 10000, fit X and y train\n",
    "#I used logistic regression over KNN because it was easy to interpret and fairly straightfoward\n",
    "#Logistic regression easily explains to people the coefficients most correlated to y\n",
    "lr = LogisticRegression(max_iter=1_000)\n",
    "lr.fit(X_train_tf, y_train)"
   ]
  },
  {
   "cell_type": "code",
   "execution_count": 663,
   "id": "970a47a1-28e7-4673-9c09-bba24918c394",
   "metadata": {},
   "outputs": [
    {
     "name": "stderr",
     "output_type": "stream",
     "text": [
      "C:\\Users\\derek\\anaconda3\\lib\\site-packages\\sklearn\\base.py:450: UserWarning: X does not have valid feature names, but LogisticRegression was fitted with feature names\n",
      "  warnings.warn(\n"
     ]
    },
    {
     "data": {
      "text/plain": [
       "(0.8039690222652468, 0.5903019744483159)"
      ]
     },
     "execution_count": 680,
     "metadata": {},
     "output_type": "execute_result"
    }
   ],
   "source": [
    "#high train scores, lower test scores\n",
    "#test scores are generally more important because you want new datasets to be predicted accurately\n",
    "#Got up to almost 60% as highest\n",
    "\n",
    "#\n",
    "lr.score(X_train_tf, y_train), lr.score(X_test_tf, y_test)"
   ]
  },
  {
   "cell_type": "code",
   "execution_count": 681,
   "id": "24304433-8f2d-493d-8d67-28a54fa594ce",
   "metadata": {},
   "outputs": [
    {
     "name": "stdout",
     "output_type": "stream",
     "text": [
      "Cross Val Score:  0.5786060019361084\n"
     ]
    }
   ],
   "source": [
    "print(\"Cross Val Score: \",cross_val_score(lr,X_train_tf,y_train,cv=5).mean())"
   ]
  },
  {
   "cell_type": "code",
   "execution_count": 665,
   "id": "6b84ac3e-4176-4660-bcff-25d177393016",
   "metadata": {},
   "outputs": [
    {
     "name": "stderr",
     "output_type": "stream",
     "text": [
      "C:\\Users\\derek\\anaconda3\\lib\\site-packages\\sklearn\\base.py:450: UserWarning: X does not have valid feature names, but LogisticRegression was fitted with feature names\n",
      "  warnings.warn(\n"
     ]
    },
    {
     "data": {
      "text/plain": [
       "<sklearn.metrics._plot.confusion_matrix.ConfusionMatrixDisplay at 0x296340320d0>"
      ]
     },
     "execution_count": 665,
     "metadata": {},
     "output_type": "execute_result"
    },
    {
     "data": {
      "image/png": "[encoded data removed]",
      "text/plain": [
       "<Figure size 640x480 with 2 Axes>"
      ]
     },
     "metadata": {},
     "output_type": "display_data"
    }
   ],
   "source": [
    "#Tried to avoid false negatives and false positives\n",
    "ConfusionMatrixDisplay.from_estimator(lr, X_test_tf, y_test)"
   ]
  },
  {
   "cell_type": "code",
   "execution_count": 666,
   "id": "ea7ee269-04f5-4a88-b29c-a7a5c1a24137",
   "metadata": {},
   "outputs": [],
   "source": [
    "#TN - 1079\n",
    "#FP - 636\n",
    "#FN - 764\n",
    "#TP - 965\n",
    "#SENSIVITIVY - TP / (FN + TP) = 965 / (764 + 965) = 0.558"
   ]
  },
  {
   "cell_type": "code",
   "execution_count": 682,
   "id": "f2ac60a8-0ee8-45c4-aff8-dbcde977c083",
   "metadata": {},
   "outputs": [
    {
     "data": {
      "text/plain": [
       "(0.7853823814133591, 0.5859465737514518)"
      ]
     },
     "execution_count": 682,
     "metadata": {},
     "output_type": "execute_result"
    }
   ],
   "source": [
    "#I tried using a different method using count vectorizer for logistic regression\n",
    "#CountVectorizer with logistic regression has highest X_test\n",
    "pipe = Pipeline([\n",
    "    ('cv', CountVectorizer(stop_words='english', max_features=5000, ngram_range=(1, 2), min_df=2, max_df=.90)),\n",
    "    ('lr', LogisticRegression(solver='liblinear')),\n",
    "    \n",
    "])\n",
    "\n",
    "pipe.fit(X_train, y_train)\n",
    "pipe.score(X_train, y_train), pipe.score(X_test, y_test)"
   ]
  },
  {
   "cell_type": "code",
   "execution_count": 669,
   "id": "725a9b08-2837-437d-bd4f-c5c29b60b042",
   "metadata": {},
   "outputs": [
    {
     "data": {
      "text/plain": [
       "<sklearn.metrics._plot.confusion_matrix.ConfusionMatrixDisplay at 0x29665987e20>"
      ]
     },
     "execution_count": 669,
     "metadata": {},
     "output_type": "execute_result"
    },
    {
     "data": {
      "image/png": "[encoded data removed]",
      "text/plain": [
       "<Figure size 640x480 with 2 Axes>"
      ]
     },
     "metadata": {},
     "output_type": "display_data"
    }
   ],
   "source": [
    "ConfusionMatrixDisplay.from_estimator(pipe, X_test, y_test)"
   ]
  },
  {
   "cell_type": "code",
   "execution_count": 639,
   "id": "05f486a8-a1d6-4116-8eea-7fe0faa61d63",
   "metadata": {},
   "outputs": [],
   "source": [
    "#TN - 1140\n",
    "#FP - 575\n",
    "#FN - 851\n",
    "#TP - 878"
   ]
  },
  {
   "cell_type": "code",
   "execution_count": null,
   "id": "5ffdcc19-a6ae-4fc9-a8c1-0e79e07d1f1e",
   "metadata": {},
   "outputs": [],
   "source": [
    "#SENSIVITIVY - TP / (FN + TP) = 1140 / (851 + 1140) = 0.573"
   ]
  },
  {
   "cell_type": "code",
   "execution_count": 600,
   "id": "7c2eb29d-326e-4f7e-8dad-ce3ad8913d76",
   "metadata": {},
   "outputs": [
    {
     "data": {
      "text/plain": [
       "array([[-0.11078938,  0.28137318, -0.10353881, ..., -0.84880706,\n",
       "         0.52739138,  0.83493971]])"
      ]
     },
     "execution_count": 600,
     "metadata": {},
     "output_type": "execute_result"
    }
   ],
   "source": [
    "pipe['lr'].coef_"
   ]
  },
  {
   "cell_type": "code",
   "execution_count": 601,
   "id": "7535c96f-6220-4823-ab0c-69a15aba7c09",
   "metadata": {},
   "outputs": [
    {
     "data": {
      "text/plain": [
       "array(['aa', 'aaron', 'aaron judge', ..., 'zoomies', 'zuckerberg',\n",
       "       'última'], dtype=object)"
      ]
     },
     "execution_count": 601,
     "metadata": {},
     "output_type": "execute_result"
    }
   ],
   "source": [
    "pipe['cv'].get_feature_names_out()"
   ]
  },
  {
   "cell_type": "code",
   "execution_count": 602,
   "id": "9a16acc9-8401-4396-9aa5-a6a2e325e06b",
   "metadata": {},
   "outputs": [
    {
     "data": {
      "text/plain": [
       "(4616,)"
      ]
     },
     "execution_count": 602,
     "metadata": {},
     "output_type": "execute_result"
    }
   ],
   "source": [
    "pipe['lr'].coef_[0].shape"
   ]
  },
  {
   "cell_type": "code",
   "execution_count": 603,
   "id": "e57ddbc4-703a-4261-9267-b775971ab721",
   "metadata": {},
   "outputs": [],
   "source": [
    "coef_df = pd.DataFrame({\n",
    "    'coef': pipe['lr'].coef_[0]\n",
    "}, index=pipe['cv'].get_feature_names_out())"
   ]
  },
  {
   "cell_type": "code",
   "execution_count": 604,
   "id": "07703db8-7553-4b94-9c7d-2e79c392061c",
   "metadata": {},
   "outputs": [
    {
     "data": {
      "text/html": [
       "<div>\n",
       "<style scoped>\n",
       "    .dataframe tbody tr th:only-of-type {\n",
       "        vertical-align: middle;\n",
       "    }\n",
       "\n",
       "    .dataframe tbody tr th {\n",
       "        vertical-align: top;\n",
       "    }\n",
       "\n",
       "    .dataframe thead th {\n",
       "        text-align: right;\n",
       "    }\n",
       "</style>\n",
       "<table border=\"1\" class=\"dataframe\">\n",
       "  <thead>\n",
       "    <tr style=\"text-align: right;\">\n",
       "      <th></th>\n",
       "      <th>coef</th>\n",
       "    </tr>\n",
       "  </thead>\n",
       "  <tbody>\n",
       "    <tr>\n",
       "      <th>kitten</th>\n",
       "      <td>-1.513783</td>\n",
       "    </tr>\n",
       "    <tr>\n",
       "      <th>im gonna</th>\n",
       "      <td>-1.453895</td>\n",
       "    </tr>\n",
       "    <tr>\n",
       "      <th>tail</th>\n",
       "      <td>-1.430934</td>\n",
       "    </tr>\n",
       "    <tr>\n",
       "      <th>bot</th>\n",
       "      <td>-1.423088</td>\n",
       "    </tr>\n",
       "    <tr>\n",
       "      <th>say im</th>\n",
       "      <td>-1.395234</td>\n",
       "    </tr>\n",
       "    <tr>\n",
       "      <th>del</th>\n",
       "      <td>-1.393008</td>\n",
       "    </tr>\n",
       "    <tr>\n",
       "      <th>introducing</th>\n",
       "      <td>-1.389302</td>\n",
       "    </tr>\n",
       "    <tr>\n",
       "      <th>wearing</th>\n",
       "      <td>-1.371967</td>\n",
       "    </tr>\n",
       "    <tr>\n",
       "      <th>want play</th>\n",
       "      <td>-1.330382</td>\n",
       "    </tr>\n",
       "    <tr>\n",
       "      <th>jay</th>\n",
       "      <td>-1.319991</td>\n",
       "    </tr>\n",
       "    <tr>\n",
       "      <th>fixed</th>\n",
       "      <td>-1.312366</td>\n",
       "    </tr>\n",
       "    <tr>\n",
       "      <th>curious</th>\n",
       "      <td>-1.298788</td>\n",
       "    </tr>\n",
       "    <tr>\n",
       "      <th>forest</th>\n",
       "      <td>-1.241769</td>\n",
       "    </tr>\n",
       "    <tr>\n",
       "      <th>football</th>\n",
       "      <td>-1.238531</td>\n",
       "    </tr>\n",
       "    <tr>\n",
       "      <th>foreign</th>\n",
       "      <td>-1.227616</td>\n",
       "    </tr>\n",
       "    <tr>\n",
       "      <th>democrat</th>\n",
       "      <td>-1.224852</td>\n",
       "    </tr>\n",
       "    <tr>\n",
       "      <th>laugh</th>\n",
       "      <td>-1.213079</td>\n",
       "    </tr>\n",
       "    <tr>\n",
       "      <th>aka</th>\n",
       "      <td>-1.210327</td>\n",
       "    </tr>\n",
       "    <tr>\n",
       "      <th>monster</th>\n",
       "      <td>-1.203171</td>\n",
       "    </tr>\n",
       "    <tr>\n",
       "      <th>spooky</th>\n",
       "      <td>-1.197026</td>\n",
       "    </tr>\n",
       "  </tbody>\n",
       "</table>\n",
       "</div>"
      ],
      "text/plain": [
       "                 coef\n",
       "kitten      -1.513783\n",
       "im gonna    -1.453895\n",
       "tail        -1.430934\n",
       "bot         -1.423088\n",
       "say im      -1.395234\n",
       "del         -1.393008\n",
       "introducing -1.389302\n",
       "wearing     -1.371967\n",
       "want play   -1.330382\n",
       "jay         -1.319991\n",
       "fixed       -1.312366\n",
       "curious     -1.298788\n",
       "forest      -1.241769\n",
       "football    -1.238531\n",
       "foreign     -1.227616\n",
       "democrat    -1.224852\n",
       "laugh       -1.213079\n",
       "aka         -1.210327\n",
       "monster     -1.203171\n",
       "spooky      -1.197026"
      ]
     },
     "execution_count": 604,
     "metadata": {},
     "output_type": "execute_result"
    }
   ],
   "source": [
    "#see coefficients that hurt comment count\n",
    "coef_df.sort_values(by='coef').head(20)"
   ]
  },
  {
   "cell_type": "code",
   "execution_count": 605,
   "id": "3e10ceec-b8b8-465f-a001-db6aeec0019d",
   "metadata": {},
   "outputs": [
    {
     "data": {
      "text/html": [
       "<div>\n",
       "<style scoped>\n",
       "    .dataframe tbody tr th:only-of-type {\n",
       "        vertical-align: middle;\n",
       "    }\n",
       "\n",
       "    .dataframe tbody tr th {\n",
       "        vertical-align: top;\n",
       "    }\n",
       "\n",
       "    .dataframe thead th {\n",
       "        text-align: right;\n",
       "    }\n",
       "</style>\n",
       "<table border=\"1\" class=\"dataframe\">\n",
       "  <thead>\n",
       "    <tr style=\"text-align: right;\">\n",
       "      <th></th>\n",
       "      <th>coef</th>\n",
       "    </tr>\n",
       "  </thead>\n",
       "  <tbody>\n",
       "    <tr>\n",
       "      <th>jj</th>\n",
       "      <td>1.175571</td>\n",
       "    </tr>\n",
       "    <tr>\n",
       "      <th>india</th>\n",
       "      <td>1.181297</td>\n",
       "    </tr>\n",
       "    <tr>\n",
       "      <th>supposed</th>\n",
       "      <td>1.225038</td>\n",
       "    </tr>\n",
       "    <tr>\n",
       "      <th>ama</th>\n",
       "      <td>1.234638</td>\n",
       "    </tr>\n",
       "    <tr>\n",
       "      <th>smell</th>\n",
       "      <td>1.235063</td>\n",
       "    </tr>\n",
       "    <tr>\n",
       "      <th>challenge</th>\n",
       "      <td>1.236161</td>\n",
       "    </tr>\n",
       "    <tr>\n",
       "      <th>andy</th>\n",
       "      <td>1.244870</td>\n",
       "    </tr>\n",
       "    <tr>\n",
       "      <th>trump</th>\n",
       "      <td>1.291131</td>\n",
       "    </tr>\n",
       "    <tr>\n",
       "      <th>older</th>\n",
       "      <td>1.293812</td>\n",
       "    </tr>\n",
       "    <tr>\n",
       "      <th>subreddit</th>\n",
       "      <td>1.300478</td>\n",
       "    </tr>\n",
       "    <tr>\n",
       "      <th>suicide</th>\n",
       "      <td>1.335693</td>\n",
       "    </tr>\n",
       "    <tr>\n",
       "      <th>completely</th>\n",
       "      <td>1.352637</td>\n",
       "    </tr>\n",
       "    <tr>\n",
       "      <th>amazon</th>\n",
       "      <td>1.363337</td>\n",
       "    </tr>\n",
       "    <tr>\n",
       "      <th>thread</th>\n",
       "      <td>1.388105</td>\n",
       "    </tr>\n",
       "    <tr>\n",
       "      <th>bbby</th>\n",
       "      <td>1.401452</td>\n",
       "    </tr>\n",
       "    <tr>\n",
       "      <th>front</th>\n",
       "      <td>1.442750</td>\n",
       "    </tr>\n",
       "    <tr>\n",
       "      <th>reaction</th>\n",
       "      <td>1.509749</td>\n",
       "    </tr>\n",
       "    <tr>\n",
       "      <th>opinion</th>\n",
       "      <td>1.521503</td>\n",
       "    </tr>\n",
       "    <tr>\n",
       "      <th>ye</th>\n",
       "      <td>1.596398</td>\n",
       "    </tr>\n",
       "    <tr>\n",
       "      <th>what</th>\n",
       "      <td>1.606674</td>\n",
       "    </tr>\n",
       "  </tbody>\n",
       "</table>\n",
       "</div>"
      ],
      "text/plain": [
       "                coef\n",
       "jj          1.175571\n",
       "india       1.181297\n",
       "supposed    1.225038\n",
       "ama         1.234638\n",
       "smell       1.235063\n",
       "challenge   1.236161\n",
       "andy        1.244870\n",
       "trump       1.291131\n",
       "older       1.293812\n",
       "subreddit   1.300478\n",
       "suicide     1.335693\n",
       "completely  1.352637\n",
       "amazon      1.363337\n",
       "thread      1.388105\n",
       "bbby        1.401452\n",
       "front       1.442750\n",
       "reaction    1.509749\n",
       "opinion     1.521503\n",
       "ye          1.596398\n",
       "what        1.606674"
      ]
     },
     "execution_count": 605,
     "metadata": {},
     "output_type": "execute_result"
    }
   ],
   "source": [
    "##see coefficients that help comment count\n",
    "coef_df.sort_values(by='coef').tail(20)"
   ]
  },
  {
   "cell_type": "code",
   "execution_count": 607,
   "id": "892527ce-0442-403c-b1c3-734050907906",
   "metadata": {},
   "outputs": [],
   "source": [
    "#RANDOM FOREST CLASSIFIER\n",
    "#I used random forest because it was required\n",
    "rfc = RandomForestClassifier()"
   ]
  },
  {
   "cell_type": "code",
   "execution_count": 608,
   "id": "969da77a-457b-4695-88e9-4dad94496cf9",
   "metadata": {},
   "outputs": [
    {
     "data": {
      "text/plain": [
       "5234                                       it s beautiful\n",
       "5799                                   see ball like ball\n",
       "1654                                    howd one pan meal\n",
       "5706            post aew match thread casino ladder match\n",
       "3492                                    biggest wheel men\n",
       "                              ...                        \n",
       "4045                                fund middle city rome\n",
       "5408    third act tss really bonkers dark john cena jo...\n",
       "265     winner bestiality picture category th academy ...\n",
       "1327              met superb eurasian eagle owl ren faire\n",
       "4846                                 cannon finished time\n",
       "Name: title, Length: 10330, dtype: object"
      ]
     },
     "execution_count": 608,
     "metadata": {},
     "output_type": "execute_result"
    }
   ],
   "source": [
    "X_train"
   ]
  },
  {
   "cell_type": "code",
   "execution_count": 685,
   "id": "18347884-2364-4cc1-a260-6c9a24c9363f",
   "metadata": {},
   "outputs": [
    {
     "name": "stdout",
     "output_type": "stream",
     "text": [
      "Cross Val Score:  0.564375605033882\n"
     ]
    }
   ],
   "source": [
    "vectorizer = CountVectorizer(stop_words='english', max_features=5000, ngram_range=(1, 2), min_df=2, max_df=.90)\n",
    "X_train_vec = vectorizer.fit_transform(X_train)\n",
    "X_test_vec = vectorizer.transform(X_test)\n",
    "rf = RandomForestClassifier(random_state=42)\n",
    "rf.fit(X_train_vec,y_train)\n",
    "print(\"Cross Val Score: \",cross_val_score(rf,X_train_vec,y_train,cv=5).mean())"
   ]
  },
  {
   "cell_type": "code",
   "execution_count": 686,
   "id": "ed0f4b48-6d0a-49dd-a420-02ac817b8fcb",
   "metadata": {},
   "outputs": [
    {
     "data": {
      "text/plain": [
       "(0.947918683446273, 0.5836236933797909)"
      ]
     },
     "execution_count": 686,
     "metadata": {},
     "output_type": "execute_result"
    }
   ],
   "source": [
    "#accuracy score\n",
    "rf.score(X_train_vec, y_train), rf.score(X_test_vec, y_test)"
   ]
  },
  {
   "cell_type": "code",
   "execution_count": 687,
   "id": "35b2cfee-cfd8-4c3e-ba1d-e7e438fea819",
   "metadata": {},
   "outputs": [
    {
     "data": {
      "text/plain": [
       "<sklearn.metrics._plot.confusion_matrix.ConfusionMatrixDisplay at 0x29632f0c370>"
      ]
     },
     "execution_count": 687,
     "metadata": {},
     "output_type": "execute_result"
    },
    {
     "data": {
      "image/png": "[encoded data removed]",
      "text/plain": [
       "<Figure size 640x480 with 2 Axes>"
      ]
     },
     "metadata": {},
     "output_type": "display_data"
    }
   ],
   "source": [
    "ConfusionMatrixDisplay.from_estimator(rf, X_test_vec, y_test)"
   ]
  },
  {
   "cell_type": "code",
   "execution_count": 688,
   "id": "e5c15ca6-f59b-4738-a5bc-003235ec21dd",
   "metadata": {},
   "outputs": [],
   "source": [
    "#TN - 1051\n",
    "#FP - 664\n",
    "#FN - 770\n",
    "#TP - 959"
   ]
  },
  {
   "cell_type": "code",
   "execution_count": 689,
   "id": "eeb294df-ed34-4c44-ae45-f81984330d2d",
   "metadata": {},
   "outputs": [],
   "source": [
    "#Random forest has higher sensitivity\n",
    "#SENSIVITIVY - TP / (FN + TP) = 1051 / (770 + 1051) = 0.577"
   ]
  },
  {
   "cell_type": "code",
   "execution_count": 635,
   "id": "bf25636c-d054-49dc-98b0-822a7d5420e2",
   "metadata": {},
   "outputs": [
    {
     "ename": "SyntaxError",
     "evalue": "invalid syntax (3053379273.py, line 3)",
     "output_type": "error",
     "traceback": [
      "\u001b[1;36m  File \u001b[1;32m\"C:\\Users\\derek\\AppData\\Local\\Temp\\ipykernel_1568\\3053379273.py\"\u001b[1;36m, line \u001b[1;32m3\u001b[0m\n\u001b[1;33m    Based on my experience with Reddit, my conclusion largely matched with my expectations.\u001b[0m\n\u001b[1;37m          ^\u001b[0m\n\u001b[1;31mSyntaxError\u001b[0m\u001b[1;31m:\u001b[0m invalid syntax\n"
     ]
    }
   ],
   "source": [
    "#CONCLUSION\n",
    "\n",
    "#Highest sensitivity - random forest using count vectorizer\n",
    "#Highest X_test, y_test accuracy - log reg using TfidfVectorizer \n",
    "#Highest X_train, y_train accuracy - random forest using count vectorizer\n",
    "\n",
    "Low test score makes sense - 'all' function means there isn't a lot of specific words that can change much.\n",
    "\n",
    "Based on my experience with Reddit, my conclusion largely matched with my expectations.\n",
    "For coefficients that increased the number of comments\n",
    "\n",
    "-There are a decent number of India related subs.\n",
    "-ama is a popular subreddit where people can be interviewed on their jobs and experiences.\n",
    "Each post on that thread starts with 'iama' explaining why it's so popular.\n",
    "-Politics is highly popular, especially the r/politics subreddit. The subreddit is generally\n",
    "more left leaning which is why 'trump' often has high comments and 'democrat' has lower comments.\n",
    "The posts with 'Democrat' often discuss the party in more negative terms causing lower attention.\n",
    "Conservative threads are often smaller with less attention.\n",
    "-There are a lot of mental health awareness threads and areas to help those with depression. It\n",
    "also means that posts with 'suicide' threads where people talk about problems with depression\n",
    "is fairly common. People are generally more pessemistic. \n",
    "\n",
    "-There are plently of reaction subs such as 'livestreamfail' and 'publicfreakout' as well as twitch\n",
    "and other online platforms that are popular and drive attention\n",
    "-Opinion posts - either unpopular or popular opinions are commonly found\n",
    "-Maybe 'smell' comes from talk of covid problems - loss of taste and smell\n",
    "-'Amazon' - lots of attention from union strikes of people buying from Amazon, or business related issues\n",
    "-Less to learn from unpopular phrases, often words that don't draw much attention such as 'of', 'aka', 'im'\n",
    "-People dislike reading bot accounts"
   ]
  },
  {
   "cell_type": "code",
   "execution_count": null,
   "id": "4f268d42-d7a7-46dd-b9fe-b4fe2573718f",
   "metadata": {},
   "outputs": [],
   "source": []
  }
 ],
 "metadata": {
  "kernelspec": {
   "display_name": "Python 3 (ipykernel)",
   "language": "python",
   "name": "python3"
  },
  "language_info": {
   "codemirror_mode": {
    "name": "ipython",
    "version": 3
   },
   "file_extension": ".py",
   "mimetype": "text/x-python",
   "name": "python",
   "nbconvert_exporter": "python",
   "pygments_lexer": "ipython3",
   "version": "3.9.7"
  }
 },
 "nbformat": 4,
 "nbformat_minor": 5
}
