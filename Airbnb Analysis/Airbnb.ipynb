{
 "cells": [
  {
   "cell_type": "code",
   "execution_count": 203,
   "id": "57c92f3e-c203-4dc4-8dc6-69b25d2f252e",
   "metadata": {},
   "outputs": [],
   "source": [
    "import pandas as pd\n",
    "import seaborn as sns"
   ]
  },
  {
   "cell_type": "code",
   "execution_count": 204,
   "id": "07bab8b7-04ac-4549-b050-a787447390ec",
   "metadata": {},
   "outputs": [],
   "source": [
    "data = pd.read_csv('../Project_5/airbnb_nyc_clean.csv')"
   ]
  },
  {
   "cell_type": "code",
   "execution_count": 205,
   "id": "939c7269-cf67-41a4-8ea2-893ca867259a",
   "metadata": {},
   "outputs": [],
   "source": [
    "pd.set_option('display.max_columns', None)"
   ]
  },
  {
   "cell_type": "code",
   "execution_count": 206,
   "id": "90cdeeaa-f178-4e9e-ab05-25dcad1319f1",
   "metadata": {},
   "outputs": [
    {
     "data": {
      "text/html": [
       "<div>\n",
       "<style scoped>\n",
       "    .dataframe tbody tr th:only-of-type {\n",
       "        vertical-align: middle;\n",
       "    }\n",
       "\n",
       "    .dataframe tbody tr th {\n",
       "        vertical-align: top;\n",
       "    }\n",
       "\n",
       "    .dataframe thead th {\n",
       "        text-align: right;\n",
       "    }\n",
       "</style>\n",
       "<table border=\"1\" class=\"dataframe\">\n",
       "  <thead>\n",
       "    <tr style=\"text-align: right;\">\n",
       "      <th></th>\n",
       "      <th>id</th>\n",
       "      <th>name</th>\n",
       "      <th>host_id</th>\n",
       "      <th>host_identity_verified</th>\n",
       "      <th>host_name</th>\n",
       "      <th>neighbourhood_group</th>\n",
       "      <th>neighbourhood</th>\n",
       "      <th>lat</th>\n",
       "      <th>long</th>\n",
       "      <th>instant_bookable</th>\n",
       "      <th>cancellation_policy</th>\n",
       "      <th>room_type</th>\n",
       "      <th>construction_year</th>\n",
       "      <th>price</th>\n",
       "      <th>service_fee</th>\n",
       "      <th>minimum_nights</th>\n",
       "      <th>number_of_reviews</th>\n",
       "      <th>last_review</th>\n",
       "      <th>reviews_per_month</th>\n",
       "      <th>review_rate_number</th>\n",
       "      <th>calculated_host_listings_count</th>\n",
       "      <th>availability_365</th>\n",
       "      <th>house_rules</th>\n",
       "    </tr>\n",
       "  </thead>\n",
       "  <tbody>\n",
       "    <tr>\n",
       "      <th>0</th>\n",
       "      <td>1001254</td>\n",
       "      <td>Clean &amp; quiet apt home by the park</td>\n",
       "      <td>80014485718</td>\n",
       "      <td>unconfirmed</td>\n",
       "      <td>Madaline</td>\n",
       "      <td>Brooklyn</td>\n",
       "      <td>Kensington</td>\n",
       "      <td>40.64749</td>\n",
       "      <td>-73.97237</td>\n",
       "      <td>False</td>\n",
       "      <td>strict</td>\n",
       "      <td>Private room</td>\n",
       "      <td>2020.0</td>\n",
       "      <td>966.0</td>\n",
       "      <td>193.0</td>\n",
       "      <td>10.0</td>\n",
       "      <td>9.0</td>\n",
       "      <td>2021-10-19</td>\n",
       "      <td>0.21</td>\n",
       "      <td>4.0</td>\n",
       "      <td>6.0</td>\n",
       "      <td>286.0</td>\n",
       "      <td>Clean up and treat the home the way you'd like...</td>\n",
       "    </tr>\n",
       "    <tr>\n",
       "      <th>1</th>\n",
       "      <td>1002102</td>\n",
       "      <td>Skylit Midtown Castle</td>\n",
       "      <td>52335172823</td>\n",
       "      <td>verified</td>\n",
       "      <td>Jenna</td>\n",
       "      <td>Manhattan</td>\n",
       "      <td>Midtown</td>\n",
       "      <td>40.75362</td>\n",
       "      <td>-73.98377</td>\n",
       "      <td>False</td>\n",
       "      <td>moderate</td>\n",
       "      <td>Entire home/apt</td>\n",
       "      <td>2007.0</td>\n",
       "      <td>142.0</td>\n",
       "      <td>28.0</td>\n",
       "      <td>13.0</td>\n",
       "      <td>45.0</td>\n",
       "      <td>2022-05-21</td>\n",
       "      <td>0.38</td>\n",
       "      <td>4.0</td>\n",
       "      <td>2.0</td>\n",
       "      <td>228.0</td>\n",
       "      <td>Pet friendly but please confirm with me if the...</td>\n",
       "    </tr>\n",
       "  </tbody>\n",
       "</table>\n",
       "</div>"
      ],
      "text/plain": [
       "        id                                name      host_id  \\\n",
       "0  1001254  Clean & quiet apt home by the park  80014485718   \n",
       "1  1002102               Skylit Midtown Castle  52335172823   \n",
       "\n",
       "  host_identity_verified host_name neighbourhood_group neighbourhood  \\\n",
       "0            unconfirmed  Madaline            Brooklyn    Kensington   \n",
       "1               verified     Jenna           Manhattan       Midtown   \n",
       "\n",
       "        lat      long  instant_bookable cancellation_policy        room_type  \\\n",
       "0  40.64749 -73.97237             False              strict     Private room   \n",
       "1  40.75362 -73.98377             False            moderate  Entire home/apt   \n",
       "\n",
       "   construction_year  price  service_fee  minimum_nights  number_of_reviews  \\\n",
       "0             2020.0  966.0        193.0            10.0                9.0   \n",
       "1             2007.0  142.0         28.0            13.0               45.0   \n",
       "\n",
       "  last_review  reviews_per_month  review_rate_number  \\\n",
       "0  2021-10-19               0.21                 4.0   \n",
       "1  2022-05-21               0.38                 4.0   \n",
       "\n",
       "   calculated_host_listings_count  availability_365  \\\n",
       "0                             6.0             286.0   \n",
       "1                             2.0             228.0   \n",
       "\n",
       "                                         house_rules  \n",
       "0  Clean up and treat the home the way you'd like...  \n",
       "1  Pet friendly but please confirm with me if the...  "
      ]
     },
     "execution_count": 206,
     "metadata": {},
     "output_type": "execute_result"
    }
   ],
   "source": [
    "data.head(2)"
   ]
  },
  {
   "cell_type": "code",
   "execution_count": 207,
   "id": "d04c8898-c2d2-444c-97b5-9121044de9e5",
   "metadata": {},
   "outputs": [
    {
     "data": {
      "text/plain": [
       "unconfirmed    34779\n",
       "verified       34526\n",
       "Name: host_identity_verified, dtype: int64"
      ]
     },
     "execution_count": 207,
     "metadata": {},
     "output_type": "execute_result"
    }
   ],
   "source": [
    "data['host_identity_verified'].value_counts()"
   ]
  },
  {
   "cell_type": "code",
   "execution_count": 208,
   "id": "731926eb-a98a-4f16-8270-a2614bf60588",
   "metadata": {},
   "outputs": [],
   "source": [
    "data['host_identity_verified'] = data['host_identity_verified'].replace('unconfirmed', 0)"
   ]
  },
  {
   "cell_type": "code",
   "execution_count": 209,
   "id": "4c7d36ef-d387-47ae-806a-a7e52eae2326",
   "metadata": {},
   "outputs": [],
   "source": [
    "data['host_identity_verified'] = data['host_identity_verified'].replace('verified', 1)"
   ]
  },
  {
   "cell_type": "code",
   "execution_count": 210,
   "id": "f8984be3-53fd-4ffb-bf83-ea9f577a317b",
   "metadata": {},
   "outputs": [
    {
     "data": {
      "text/plain": [
       "Manhattan        29587\n",
       "Brooklyn         27895\n",
       "Queens            9262\n",
       "Bronx             1912\n",
       "Staten Island      649\n",
       "Name: neighbourhood_group, dtype: int64"
      ]
     },
     "execution_count": 210,
     "metadata": {},
     "output_type": "execute_result"
    }
   ],
   "source": [
    "data['neighbourhood_group'].value_counts()"
   ]
  },
  {
   "cell_type": "code",
   "execution_count": 211,
   "id": "76adfe6b-340f-4763-b43e-940878a3f478",
   "metadata": {},
   "outputs": [
    {
     "data": {
      "text/html": [
       "<div>\n",
       "<style scoped>\n",
       "    .dataframe tbody tr th:only-of-type {\n",
       "        vertical-align: middle;\n",
       "    }\n",
       "\n",
       "    .dataframe tbody tr th {\n",
       "        vertical-align: top;\n",
       "    }\n",
       "\n",
       "    .dataframe thead th {\n",
       "        text-align: right;\n",
       "    }\n",
       "</style>\n",
       "<table border=\"1\" class=\"dataframe\">\n",
       "  <thead>\n",
       "    <tr style=\"text-align: right;\">\n",
       "      <th></th>\n",
       "      <th>Bronx</th>\n",
       "      <th>Brooklyn</th>\n",
       "      <th>Manhattan</th>\n",
       "      <th>Queens</th>\n",
       "      <th>Staten Island</th>\n",
       "    </tr>\n",
       "  </thead>\n",
       "  <tbody>\n",
       "    <tr>\n",
       "      <th>0</th>\n",
       "      <td>0</td>\n",
       "      <td>1</td>\n",
       "      <td>0</td>\n",
       "      <td>0</td>\n",
       "      <td>0</td>\n",
       "    </tr>\n",
       "    <tr>\n",
       "      <th>1</th>\n",
       "      <td>0</td>\n",
       "      <td>0</td>\n",
       "      <td>1</td>\n",
       "      <td>0</td>\n",
       "      <td>0</td>\n",
       "    </tr>\n",
       "    <tr>\n",
       "      <th>2</th>\n",
       "      <td>0</td>\n",
       "      <td>0</td>\n",
       "      <td>1</td>\n",
       "      <td>0</td>\n",
       "      <td>0</td>\n",
       "    </tr>\n",
       "    <tr>\n",
       "      <th>3</th>\n",
       "      <td>0</td>\n",
       "      <td>1</td>\n",
       "      <td>0</td>\n",
       "      <td>0</td>\n",
       "      <td>0</td>\n",
       "    </tr>\n",
       "    <tr>\n",
       "      <th>4</th>\n",
       "      <td>0</td>\n",
       "      <td>0</td>\n",
       "      <td>1</td>\n",
       "      <td>0</td>\n",
       "      <td>0</td>\n",
       "    </tr>\n",
       "  </tbody>\n",
       "</table>\n",
       "</div>"
      ],
      "text/plain": [
       "   Bronx  Brooklyn  Manhattan  Queens  Staten Island\n",
       "0      0         1          0       0              0\n",
       "1      0         0          1       0              0\n",
       "2      0         0          1       0              0\n",
       "3      0         1          0       0              0\n",
       "4      0         0          1       0              0"
      ]
     },
     "execution_count": 211,
     "metadata": {},
     "output_type": "execute_result"
    }
   ],
   "source": [
    "neighbourhood_group = pd.get_dummies(data['neighbourhood_group'])\n",
    "neighbourhood_group.head()"
   ]
  },
  {
   "cell_type": "code",
   "execution_count": 212,
   "id": "78d9a971-8b98-4377-bf68-75b94c5d0b52",
   "metadata": {},
   "outputs": [
    {
     "data": {
      "text/plain": [
       "Entire home/apt    37212\n",
       "Private room       30508\n",
       "Shared room         1470\n",
       "Hotel room           115\n",
       "Name: room_type, dtype: int64"
      ]
     },
     "execution_count": 212,
     "metadata": {},
     "output_type": "execute_result"
    }
   ],
   "source": [
    "data['room_type'].value_counts()"
   ]
  },
  {
   "cell_type": "code",
   "execution_count": 213,
   "id": "1f8f05d5-d2da-41c7-b93c-f9c6304a7aae",
   "metadata": {},
   "outputs": [
    {
     "data": {
      "text/html": [
       "<div>\n",
       "<style scoped>\n",
       "    .dataframe tbody tr th:only-of-type {\n",
       "        vertical-align: middle;\n",
       "    }\n",
       "\n",
       "    .dataframe tbody tr th {\n",
       "        vertical-align: top;\n",
       "    }\n",
       "\n",
       "    .dataframe thead th {\n",
       "        text-align: right;\n",
       "    }\n",
       "</style>\n",
       "<table border=\"1\" class=\"dataframe\">\n",
       "  <thead>\n",
       "    <tr style=\"text-align: right;\">\n",
       "      <th></th>\n",
       "      <th>Entire home/apt</th>\n",
       "      <th>Hotel room</th>\n",
       "      <th>Private room</th>\n",
       "      <th>Shared room</th>\n",
       "    </tr>\n",
       "  </thead>\n",
       "  <tbody>\n",
       "    <tr>\n",
       "      <th>0</th>\n",
       "      <td>0</td>\n",
       "      <td>0</td>\n",
       "      <td>1</td>\n",
       "      <td>0</td>\n",
       "    </tr>\n",
       "    <tr>\n",
       "      <th>1</th>\n",
       "      <td>1</td>\n",
       "      <td>0</td>\n",
       "      <td>0</td>\n",
       "      <td>0</td>\n",
       "    </tr>\n",
       "    <tr>\n",
       "      <th>2</th>\n",
       "      <td>0</td>\n",
       "      <td>0</td>\n",
       "      <td>1</td>\n",
       "      <td>0</td>\n",
       "    </tr>\n",
       "    <tr>\n",
       "      <th>3</th>\n",
       "      <td>1</td>\n",
       "      <td>0</td>\n",
       "      <td>0</td>\n",
       "      <td>0</td>\n",
       "    </tr>\n",
       "    <tr>\n",
       "      <th>4</th>\n",
       "      <td>1</td>\n",
       "      <td>0</td>\n",
       "      <td>0</td>\n",
       "      <td>0</td>\n",
       "    </tr>\n",
       "  </tbody>\n",
       "</table>\n",
       "</div>"
      ],
      "text/plain": [
       "   Entire home/apt  Hotel room  Private room  Shared room\n",
       "0                0           0             1            0\n",
       "1                1           0             0            0\n",
       "2                0           0             1            0\n",
       "3                1           0             0            0\n",
       "4                1           0             0            0"
      ]
     },
     "execution_count": 213,
     "metadata": {},
     "output_type": "execute_result"
    }
   ],
   "source": [
    "room_type = pd.get_dummies(data['room_type'])\n",
    "room_type.head()"
   ]
  },
  {
   "cell_type": "code",
   "execution_count": 214,
   "id": "2d787ca1-a0ba-4599-8754-fe42b4e75677",
   "metadata": {},
   "outputs": [
    {
     "data": {
      "text/plain": [
       "moderate    23244\n",
       "flexible    23126\n",
       "strict      22935\n",
       "Name: cancellation_policy, dtype: int64"
      ]
     },
     "execution_count": 214,
     "metadata": {},
     "output_type": "execute_result"
    }
   ],
   "source": [
    "data['cancellation_policy'].value_counts()"
   ]
  },
  {
   "cell_type": "code",
   "execution_count": 215,
   "id": "aed16059-aaab-4fa8-8870-97605a81942c",
   "metadata": {},
   "outputs": [
    {
     "data": {
      "text/html": [
       "<div>\n",
       "<style scoped>\n",
       "    .dataframe tbody tr th:only-of-type {\n",
       "        vertical-align: middle;\n",
       "    }\n",
       "\n",
       "    .dataframe tbody tr th {\n",
       "        vertical-align: top;\n",
       "    }\n",
       "\n",
       "    .dataframe thead th {\n",
       "        text-align: right;\n",
       "    }\n",
       "</style>\n",
       "<table border=\"1\" class=\"dataframe\">\n",
       "  <thead>\n",
       "    <tr style=\"text-align: right;\">\n",
       "      <th></th>\n",
       "      <th>flexible</th>\n",
       "      <th>moderate</th>\n",
       "      <th>strict</th>\n",
       "    </tr>\n",
       "  </thead>\n",
       "  <tbody>\n",
       "    <tr>\n",
       "      <th>0</th>\n",
       "      <td>0</td>\n",
       "      <td>0</td>\n",
       "      <td>1</td>\n",
       "    </tr>\n",
       "    <tr>\n",
       "      <th>1</th>\n",
       "      <td>0</td>\n",
       "      <td>1</td>\n",
       "      <td>0</td>\n",
       "    </tr>\n",
       "    <tr>\n",
       "      <th>2</th>\n",
       "      <td>1</td>\n",
       "      <td>0</td>\n",
       "      <td>0</td>\n",
       "    </tr>\n",
       "    <tr>\n",
       "      <th>3</th>\n",
       "      <td>0</td>\n",
       "      <td>1</td>\n",
       "      <td>0</td>\n",
       "    </tr>\n",
       "    <tr>\n",
       "      <th>4</th>\n",
       "      <td>0</td>\n",
       "      <td>1</td>\n",
       "      <td>0</td>\n",
       "    </tr>\n",
       "  </tbody>\n",
       "</table>\n",
       "</div>"
      ],
      "text/plain": [
       "   flexible  moderate  strict\n",
       "0         0         0       1\n",
       "1         0         1       0\n",
       "2         1         0       0\n",
       "3         0         1       0\n",
       "4         0         1       0"
      ]
     },
     "execution_count": 215,
     "metadata": {},
     "output_type": "execute_result"
    }
   ],
   "source": [
    "cancellation_policy = pd.get_dummies(data['cancellation_policy'])\n",
    "cancellation_policy.head()"
   ]
  },
  {
   "cell_type": "code",
   "execution_count": 216,
   "id": "1e4a85f8-7e29-4424-b100-86dcee93ff4b",
   "metadata": {},
   "outputs": [
    {
     "data": {
      "text/plain": [
       "False    34867\n",
       "True     34438\n",
       "Name: instant_bookable, dtype: int64"
      ]
     },
     "execution_count": 216,
     "metadata": {},
     "output_type": "execute_result"
    }
   ],
   "source": [
    "data['instant_bookable'].value_counts()"
   ]
  },
  {
   "cell_type": "code",
   "execution_count": 217,
   "id": "c0328c3d-ab8d-4030-ab4c-d4659e80f2a5",
   "metadata": {},
   "outputs": [],
   "source": [
    "data['instant_bookable'] = data['instant_bookable'].replace('True', 0)"
   ]
  },
  {
   "cell_type": "code",
   "execution_count": 218,
   "id": "6e8609aa-5680-4b43-8ddd-cd15cc9eb2c2",
   "metadata": {},
   "outputs": [],
   "source": [
    "data['instant_bookable'] = data['instant_bookable'].replace('False', 1)"
   ]
  },
  {
   "cell_type": "code",
   "execution_count": 219,
   "id": "c2db405c-8e74-43d1-8398-95e00a928a10",
   "metadata": {},
   "outputs": [
    {
     "data": {
      "text/html": [
       "<div>\n",
       "<style scoped>\n",
       "    .dataframe tbody tr th:only-of-type {\n",
       "        vertical-align: middle;\n",
       "    }\n",
       "\n",
       "    .dataframe tbody tr th {\n",
       "        vertical-align: top;\n",
       "    }\n",
       "\n",
       "    .dataframe thead th {\n",
       "        text-align: right;\n",
       "    }\n",
       "</style>\n",
       "<table border=\"1\" class=\"dataframe\">\n",
       "  <thead>\n",
       "    <tr style=\"text-align: right;\">\n",
       "      <th></th>\n",
       "      <th>id</th>\n",
       "      <th>name</th>\n",
       "      <th>host_id</th>\n",
       "      <th>host_identity_verified</th>\n",
       "      <th>host_name</th>\n",
       "      <th>neighbourhood_group</th>\n",
       "      <th>neighbourhood</th>\n",
       "      <th>lat</th>\n",
       "      <th>long</th>\n",
       "      <th>instant_bookable</th>\n",
       "      <th>cancellation_policy</th>\n",
       "      <th>room_type</th>\n",
       "      <th>construction_year</th>\n",
       "      <th>price</th>\n",
       "      <th>service_fee</th>\n",
       "      <th>minimum_nights</th>\n",
       "      <th>number_of_reviews</th>\n",
       "      <th>last_review</th>\n",
       "      <th>reviews_per_month</th>\n",
       "      <th>review_rate_number</th>\n",
       "      <th>calculated_host_listings_count</th>\n",
       "      <th>availability_365</th>\n",
       "      <th>house_rules</th>\n",
       "    </tr>\n",
       "  </thead>\n",
       "  <tbody>\n",
       "    <tr>\n",
       "      <th>0</th>\n",
       "      <td>1001254</td>\n",
       "      <td>Clean &amp; quiet apt home by the park</td>\n",
       "      <td>80014485718</td>\n",
       "      <td>0</td>\n",
       "      <td>Madaline</td>\n",
       "      <td>Brooklyn</td>\n",
       "      <td>Kensington</td>\n",
       "      <td>40.64749</td>\n",
       "      <td>-73.97237</td>\n",
       "      <td>False</td>\n",
       "      <td>strict</td>\n",
       "      <td>Private room</td>\n",
       "      <td>2020.0</td>\n",
       "      <td>966.00000</td>\n",
       "      <td>193.000000</td>\n",
       "      <td>10.0</td>\n",
       "      <td>9.0</td>\n",
       "      <td>2021-10-19</td>\n",
       "      <td>0.21</td>\n",
       "      <td>4.0</td>\n",
       "      <td>6.0</td>\n",
       "      <td>286.0</td>\n",
       "      <td>Clean up and treat the home the way you'd like...</td>\n",
       "    </tr>\n",
       "    <tr>\n",
       "      <th>1</th>\n",
       "      <td>1002102</td>\n",
       "      <td>Skylit Midtown Castle</td>\n",
       "      <td>52335172823</td>\n",
       "      <td>1</td>\n",
       "      <td>Jenna</td>\n",
       "      <td>Manhattan</td>\n",
       "      <td>Midtown</td>\n",
       "      <td>40.75362</td>\n",
       "      <td>-73.98377</td>\n",
       "      <td>False</td>\n",
       "      <td>moderate</td>\n",
       "      <td>Entire home/apt</td>\n",
       "      <td>2007.0</td>\n",
       "      <td>142.00000</td>\n",
       "      <td>28.000000</td>\n",
       "      <td>13.0</td>\n",
       "      <td>45.0</td>\n",
       "      <td>2022-05-21</td>\n",
       "      <td>0.38</td>\n",
       "      <td>4.0</td>\n",
       "      <td>2.0</td>\n",
       "      <td>228.0</td>\n",
       "      <td>Pet friendly but please confirm with me if the...</td>\n",
       "    </tr>\n",
       "    <tr>\n",
       "      <th>2</th>\n",
       "      <td>1002403</td>\n",
       "      <td>THE VILLAGE OF HARLEM....NEW YORK !</td>\n",
       "      <td>78829239556</td>\n",
       "      <td>0</td>\n",
       "      <td>Elise</td>\n",
       "      <td>Manhattan</td>\n",
       "      <td>Harlem</td>\n",
       "      <td>40.80902</td>\n",
       "      <td>-73.94190</td>\n",
       "      <td>True</td>\n",
       "      <td>flexible</td>\n",
       "      <td>Private room</td>\n",
       "      <td>2005.0</td>\n",
       "      <td>620.00000</td>\n",
       "      <td>124.000000</td>\n",
       "      <td>3.0</td>\n",
       "      <td>0.0</td>\n",
       "      <td>2019-06-14</td>\n",
       "      <td>0.79</td>\n",
       "      <td>5.0</td>\n",
       "      <td>1.0</td>\n",
       "      <td>352.0</td>\n",
       "      <td>I encourage you to use my kitchen, cooking and...</td>\n",
       "    </tr>\n",
       "    <tr>\n",
       "      <th>3</th>\n",
       "      <td>1002755</td>\n",
       "      <td>blank</td>\n",
       "      <td>85098326012</td>\n",
       "      <td>0</td>\n",
       "      <td>Garry</td>\n",
       "      <td>Brooklyn</td>\n",
       "      <td>Clinton Hill</td>\n",
       "      <td>40.68514</td>\n",
       "      <td>-73.95976</td>\n",
       "      <td>True</td>\n",
       "      <td>moderate</td>\n",
       "      <td>Entire home/apt</td>\n",
       "      <td>2005.0</td>\n",
       "      <td>368.00000</td>\n",
       "      <td>74.000000</td>\n",
       "      <td>13.0</td>\n",
       "      <td>270.0</td>\n",
       "      <td>2019-07-05</td>\n",
       "      <td>4.64</td>\n",
       "      <td>4.0</td>\n",
       "      <td>1.0</td>\n",
       "      <td>322.0</td>\n",
       "      <td>blank</td>\n",
       "    </tr>\n",
       "    <tr>\n",
       "      <th>4</th>\n",
       "      <td>1003689</td>\n",
       "      <td>Entire Apt: Spacious Studio/Loft by central park</td>\n",
       "      <td>92037596077</td>\n",
       "      <td>1</td>\n",
       "      <td>Lyndon</td>\n",
       "      <td>Manhattan</td>\n",
       "      <td>East Harlem</td>\n",
       "      <td>40.79851</td>\n",
       "      <td>-73.94399</td>\n",
       "      <td>False</td>\n",
       "      <td>moderate</td>\n",
       "      <td>Entire home/apt</td>\n",
       "      <td>2009.0</td>\n",
       "      <td>204.00000</td>\n",
       "      <td>41.000000</td>\n",
       "      <td>10.0</td>\n",
       "      <td>9.0</td>\n",
       "      <td>2018-11-19</td>\n",
       "      <td>0.10</td>\n",
       "      <td>3.0</td>\n",
       "      <td>1.0</td>\n",
       "      <td>289.0</td>\n",
       "      <td>Please no smoking in the house, porch or on th...</td>\n",
       "    </tr>\n",
       "    <tr>\n",
       "      <th>...</th>\n",
       "      <td>...</td>\n",
       "      <td>...</td>\n",
       "      <td>...</td>\n",
       "      <td>...</td>\n",
       "      <td>...</td>\n",
       "      <td>...</td>\n",
       "      <td>...</td>\n",
       "      <td>...</td>\n",
       "      <td>...</td>\n",
       "      <td>...</td>\n",
       "      <td>...</td>\n",
       "      <td>...</td>\n",
       "      <td>...</td>\n",
       "      <td>...</td>\n",
       "      <td>...</td>\n",
       "      <td>...</td>\n",
       "      <td>...</td>\n",
       "      <td>...</td>\n",
       "      <td>...</td>\n",
       "      <td>...</td>\n",
       "      <td>...</td>\n",
       "      <td>...</td>\n",
       "      <td>...</td>\n",
       "    </tr>\n",
       "    <tr>\n",
       "      <th>69300</th>\n",
       "      <td>57361342</td>\n",
       "      <td>Sunny budget friendly room in Bushwick</td>\n",
       "      <td>29964876857</td>\n",
       "      <td>1</td>\n",
       "      <td>blank</td>\n",
       "      <td>Brooklyn</td>\n",
       "      <td>Bushwick</td>\n",
       "      <td>40.69370</td>\n",
       "      <td>-73.91006</td>\n",
       "      <td>True</td>\n",
       "      <td>flexible</td>\n",
       "      <td>Private room</td>\n",
       "      <td>2016.0</td>\n",
       "      <td>624.73607</td>\n",
       "      <td>124.894026</td>\n",
       "      <td>5.0</td>\n",
       "      <td>3.0</td>\n",
       "      <td>2018-04-09</td>\n",
       "      <td>0.11</td>\n",
       "      <td>1.0</td>\n",
       "      <td>1.0</td>\n",
       "      <td>0.0</td>\n",
       "      <td>Please be mindful that I live in the same buil...</td>\n",
       "    </tr>\n",
       "    <tr>\n",
       "      <th>69301</th>\n",
       "      <td>57361894</td>\n",
       "      <td>Cozy Apartment on Bedford Ave, Brooklyn</td>\n",
       "      <td>92852058426</td>\n",
       "      <td>0</td>\n",
       "      <td>blank</td>\n",
       "      <td>Brooklyn</td>\n",
       "      <td>Williamsburg</td>\n",
       "      <td>40.71284</td>\n",
       "      <td>-73.96284</td>\n",
       "      <td>False</td>\n",
       "      <td>moderate</td>\n",
       "      <td>Private room</td>\n",
       "      <td>2005.0</td>\n",
       "      <td>624.73607</td>\n",
       "      <td>124.894026</td>\n",
       "      <td>7.0</td>\n",
       "      <td>15.0</td>\n",
       "      <td>2018-01-01</td>\n",
       "      <td>0.55</td>\n",
       "      <td>4.0</td>\n",
       "      <td>1.0</td>\n",
       "      <td>0.0</td>\n",
       "      <td>blank</td>\n",
       "    </tr>\n",
       "    <tr>\n",
       "      <th>69302</th>\n",
       "      <td>57362446</td>\n",
       "      <td>Your 1 bedroom home away from home!</td>\n",
       "      <td>95572379802</td>\n",
       "      <td>1</td>\n",
       "      <td>blank</td>\n",
       "      <td>Manhattan</td>\n",
       "      <td>Upper West Side</td>\n",
       "      <td>40.79563</td>\n",
       "      <td>-73.97634</td>\n",
       "      <td>True</td>\n",
       "      <td>flexible</td>\n",
       "      <td>Entire home/apt</td>\n",
       "      <td>2010.0</td>\n",
       "      <td>624.73607</td>\n",
       "      <td>124.894026</td>\n",
       "      <td>3.0</td>\n",
       "      <td>38.0</td>\n",
       "      <td>2019-06-10</td>\n",
       "      <td>1.40</td>\n",
       "      <td>3.0</td>\n",
       "      <td>1.0</td>\n",
       "      <td>31.0</td>\n",
       "      <td>blank</td>\n",
       "    </tr>\n",
       "    <tr>\n",
       "      <th>69303</th>\n",
       "      <td>57362999</td>\n",
       "      <td>MASTER Cozy Bedroom Queen size 2 blocks Timesq...</td>\n",
       "      <td>80154173698</td>\n",
       "      <td>1</td>\n",
       "      <td>blank</td>\n",
       "      <td>Manhattan</td>\n",
       "      <td>Hell's Kitchen</td>\n",
       "      <td>40.76125</td>\n",
       "      <td>-73.98945</td>\n",
       "      <td>True</td>\n",
       "      <td>strict</td>\n",
       "      <td>Entire home/apt</td>\n",
       "      <td>2020.0</td>\n",
       "      <td>624.73607</td>\n",
       "      <td>124.894026</td>\n",
       "      <td>1.0</td>\n",
       "      <td>81.0</td>\n",
       "      <td>2019-03-05</td>\n",
       "      <td>2.96</td>\n",
       "      <td>2.0</td>\n",
       "      <td>2.0</td>\n",
       "      <td>0.0</td>\n",
       "      <td>- I work at home and prefer to rent to folks w...</td>\n",
       "    </tr>\n",
       "    <tr>\n",
       "      <th>69304</th>\n",
       "      <td>57363551</td>\n",
       "      <td>Sunny Brownstone Studio in BedStuy Brooklyn</td>\n",
       "      <td>11145329848</td>\n",
       "      <td>0</td>\n",
       "      <td>Jamal</td>\n",
       "      <td>Brooklyn</td>\n",
       "      <td>Bedford-Stuyvesant</td>\n",
       "      <td>40.68221</td>\n",
       "      <td>-73.94618</td>\n",
       "      <td>False</td>\n",
       "      <td>moderate</td>\n",
       "      <td>Entire home/apt</td>\n",
       "      <td>2016.0</td>\n",
       "      <td>624.73607</td>\n",
       "      <td>124.894026</td>\n",
       "      <td>2.0</td>\n",
       "      <td>104.0</td>\n",
       "      <td>2019-06-12</td>\n",
       "      <td>3.69</td>\n",
       "      <td>5.0</td>\n",
       "      <td>1.0</td>\n",
       "      <td>268.0</td>\n",
       "      <td>blank</td>\n",
       "    </tr>\n",
       "  </tbody>\n",
       "</table>\n",
       "<p>69305 rows × 23 columns</p>\n",
       "</div>"
      ],
      "text/plain": [
       "             id                                               name  \\\n",
       "0       1001254                 Clean & quiet apt home by the park   \n",
       "1       1002102                              Skylit Midtown Castle   \n",
       "2       1002403                THE VILLAGE OF HARLEM....NEW YORK !   \n",
       "3       1002755                                              blank   \n",
       "4       1003689   Entire Apt: Spacious Studio/Loft by central park   \n",
       "...         ...                                                ...   \n",
       "69300  57361342             Sunny budget friendly room in Bushwick   \n",
       "69301  57361894            Cozy Apartment on Bedford Ave, Brooklyn   \n",
       "69302  57362446                Your 1 bedroom home away from home!   \n",
       "69303  57362999  MASTER Cozy Bedroom Queen size 2 blocks Timesq...   \n",
       "69304  57363551        Sunny Brownstone Studio in BedStuy Brooklyn   \n",
       "\n",
       "           host_id  host_identity_verified host_name neighbourhood_group  \\\n",
       "0      80014485718                       0  Madaline            Brooklyn   \n",
       "1      52335172823                       1     Jenna           Manhattan   \n",
       "2      78829239556                       0     Elise           Manhattan   \n",
       "3      85098326012                       0     Garry            Brooklyn   \n",
       "4      92037596077                       1    Lyndon           Manhattan   \n",
       "...            ...                     ...       ...                 ...   \n",
       "69300  29964876857                       1     blank            Brooklyn   \n",
       "69301  92852058426                       0     blank            Brooklyn   \n",
       "69302  95572379802                       1     blank           Manhattan   \n",
       "69303  80154173698                       1     blank           Manhattan   \n",
       "69304  11145329848                       0     Jamal            Brooklyn   \n",
       "\n",
       "            neighbourhood       lat      long  instant_bookable  \\\n",
       "0              Kensington  40.64749 -73.97237             False   \n",
       "1                 Midtown  40.75362 -73.98377             False   \n",
       "2                  Harlem  40.80902 -73.94190              True   \n",
       "3            Clinton Hill  40.68514 -73.95976              True   \n",
       "4             East Harlem  40.79851 -73.94399             False   \n",
       "...                   ...       ...       ...               ...   \n",
       "69300            Bushwick  40.69370 -73.91006              True   \n",
       "69301        Williamsburg  40.71284 -73.96284             False   \n",
       "69302     Upper West Side  40.79563 -73.97634              True   \n",
       "69303      Hell's Kitchen  40.76125 -73.98945              True   \n",
       "69304  Bedford-Stuyvesant  40.68221 -73.94618             False   \n",
       "\n",
       "      cancellation_policy        room_type  construction_year      price  \\\n",
       "0                  strict     Private room             2020.0  966.00000   \n",
       "1                moderate  Entire home/apt             2007.0  142.00000   \n",
       "2                flexible     Private room             2005.0  620.00000   \n",
       "3                moderate  Entire home/apt             2005.0  368.00000   \n",
       "4                moderate  Entire home/apt             2009.0  204.00000   \n",
       "...                   ...              ...                ...        ...   \n",
       "69300            flexible     Private room             2016.0  624.73607   \n",
       "69301            moderate     Private room             2005.0  624.73607   \n",
       "69302            flexible  Entire home/apt             2010.0  624.73607   \n",
       "69303              strict  Entire home/apt             2020.0  624.73607   \n",
       "69304            moderate  Entire home/apt             2016.0  624.73607   \n",
       "\n",
       "       service_fee  minimum_nights  number_of_reviews last_review  \\\n",
       "0       193.000000            10.0                9.0  2021-10-19   \n",
       "1        28.000000            13.0               45.0  2022-05-21   \n",
       "2       124.000000             3.0                0.0  2019-06-14   \n",
       "3        74.000000            13.0              270.0  2019-07-05   \n",
       "4        41.000000            10.0                9.0  2018-11-19   \n",
       "...            ...             ...                ...         ...   \n",
       "69300   124.894026             5.0                3.0  2018-04-09   \n",
       "69301   124.894026             7.0               15.0  2018-01-01   \n",
       "69302   124.894026             3.0               38.0  2019-06-10   \n",
       "69303   124.894026             1.0               81.0  2019-03-05   \n",
       "69304   124.894026             2.0              104.0  2019-06-12   \n",
       "\n",
       "       reviews_per_month  review_rate_number  calculated_host_listings_count  \\\n",
       "0                   0.21                 4.0                             6.0   \n",
       "1                   0.38                 4.0                             2.0   \n",
       "2                   0.79                 5.0                             1.0   \n",
       "3                   4.64                 4.0                             1.0   \n",
       "4                   0.10                 3.0                             1.0   \n",
       "...                  ...                 ...                             ...   \n",
       "69300               0.11                 1.0                             1.0   \n",
       "69301               0.55                 4.0                             1.0   \n",
       "69302               1.40                 3.0                             1.0   \n",
       "69303               2.96                 2.0                             2.0   \n",
       "69304               3.69                 5.0                             1.0   \n",
       "\n",
       "       availability_365                                        house_rules  \n",
       "0                 286.0  Clean up and treat the home the way you'd like...  \n",
       "1                 228.0  Pet friendly but please confirm with me if the...  \n",
       "2                 352.0  I encourage you to use my kitchen, cooking and...  \n",
       "3                 322.0                                              blank  \n",
       "4                 289.0  Please no smoking in the house, porch or on th...  \n",
       "...                 ...                                                ...  \n",
       "69300               0.0  Please be mindful that I live in the same buil...  \n",
       "69301               0.0                                              blank  \n",
       "69302              31.0                                              blank  \n",
       "69303               0.0  - I work at home and prefer to rent to folks w...  \n",
       "69304             268.0                                              blank  \n",
       "\n",
       "[69305 rows x 23 columns]"
      ]
     },
     "execution_count": 219,
     "metadata": {},
     "output_type": "execute_result"
    }
   ],
   "source": [
    "data"
   ]
  },
  {
   "cell_type": "code",
   "execution_count": 220,
   "id": "12bd41ca-c219-4404-9edb-16e96af2696f",
   "metadata": {},
   "outputs": [
    {
     "data": {
      "text/plain": [
       "(69305, 23)"
      ]
     },
     "execution_count": 220,
     "metadata": {},
     "output_type": "execute_result"
    }
   ],
   "source": [
    "data.shape"
   ]
  },
  {
   "cell_type": "code",
   "execution_count": 221,
   "id": "e281b5b0-8653-428c-a2c7-a6e2911d86c1",
   "metadata": {},
   "outputs": [
    {
     "data": {
      "text/plain": [
       "id                                0\n",
       "name                              0\n",
       "host_id                           0\n",
       "host_identity_verified            0\n",
       "host_name                         0\n",
       "neighbourhood_group               0\n",
       "neighbourhood                     0\n",
       "lat                               0\n",
       "long                              0\n",
       "instant_bookable                  0\n",
       "cancellation_policy               0\n",
       "room_type                         0\n",
       "construction_year                 0\n",
       "price                             0\n",
       "service_fee                       0\n",
       "minimum_nights                    0\n",
       "number_of_reviews                 0\n",
       "last_review                       0\n",
       "reviews_per_month                 0\n",
       "review_rate_number                0\n",
       "calculated_host_listings_count    0\n",
       "availability_365                  0\n",
       "house_rules                       0\n",
       "dtype: int64"
      ]
     },
     "execution_count": 221,
     "metadata": {},
     "output_type": "execute_result"
    }
   ],
   "source": [
    "data.isnull().sum()"
   ]
  },
  {
   "cell_type": "code",
   "execution_count": 222,
   "id": "8f1835f3-bff1-4300-a8cc-50d972bfbcd9",
   "metadata": {},
   "outputs": [],
   "source": [
    "data = data.dropna()"
   ]
  },
  {
   "cell_type": "code",
   "execution_count": 223,
   "id": "87dbfb75-3537-40a6-b00d-797b8ce56207",
   "metadata": {},
   "outputs": [
    {
     "data": {
      "text/plain": [
       "(69305, 23)"
      ]
     },
     "execution_count": 223,
     "metadata": {},
     "output_type": "execute_result"
    }
   ],
   "source": [
    "data.shape"
   ]
  },
  {
   "cell_type": "code",
   "execution_count": 224,
   "id": "2bda38dc-9023-46cb-97eb-bd24fbfeae61",
   "metadata": {},
   "outputs": [
    {
     "data": {
      "text/html": [
       "<div>\n",
       "<style scoped>\n",
       "    .dataframe tbody tr th:only-of-type {\n",
       "        vertical-align: middle;\n",
       "    }\n",
       "\n",
       "    .dataframe tbody tr th {\n",
       "        vertical-align: top;\n",
       "    }\n",
       "\n",
       "    .dataframe thead th {\n",
       "        text-align: right;\n",
       "    }\n",
       "</style>\n",
       "<table border=\"1\" class=\"dataframe\">\n",
       "  <thead>\n",
       "    <tr style=\"text-align: right;\">\n",
       "      <th></th>\n",
       "      <th>id</th>\n",
       "      <th>host_id</th>\n",
       "      <th>host_identity_verified</th>\n",
       "      <th>lat</th>\n",
       "      <th>long</th>\n",
       "      <th>construction_year</th>\n",
       "      <th>price</th>\n",
       "      <th>service_fee</th>\n",
       "      <th>minimum_nights</th>\n",
       "      <th>number_of_reviews</th>\n",
       "      <th>reviews_per_month</th>\n",
       "      <th>review_rate_number</th>\n",
       "      <th>calculated_host_listings_count</th>\n",
       "      <th>availability_365</th>\n",
       "    </tr>\n",
       "  </thead>\n",
       "  <tbody>\n",
       "    <tr>\n",
       "      <th>count</th>\n",
       "      <td>6.930500e+04</td>\n",
       "      <td>6.930500e+04</td>\n",
       "      <td>69305.000000</td>\n",
       "      <td>69305.000000</td>\n",
       "      <td>69305.000000</td>\n",
       "      <td>69305.000000</td>\n",
       "      <td>69305.000000</td>\n",
       "      <td>69305.000000</td>\n",
       "      <td>69305.000000</td>\n",
       "      <td>69305.000000</td>\n",
       "      <td>69305.000000</td>\n",
       "      <td>69305.000000</td>\n",
       "      <td>69305.000000</td>\n",
       "      <td>69305.000000</td>\n",
       "    </tr>\n",
       "    <tr>\n",
       "      <th>mean</th>\n",
       "      <td>2.015746e+07</td>\n",
       "      <td>4.929192e+10</td>\n",
       "      <td>0.498175</td>\n",
       "      <td>40.728070</td>\n",
       "      <td>-73.949036</td>\n",
       "      <td>2012.489503</td>\n",
       "      <td>624.736070</td>\n",
       "      <td>124.894026</td>\n",
       "      <td>4.620330</td>\n",
       "      <td>28.003896</td>\n",
       "      <td>1.301503</td>\n",
       "      <td>3.321636</td>\n",
       "      <td>8.976755</td>\n",
       "      <td>153.184287</td>\n",
       "    </tr>\n",
       "    <tr>\n",
       "      <th>std</th>\n",
       "      <td>1.109105e+07</td>\n",
       "      <td>2.854010e+10</td>\n",
       "      <td>0.500000</td>\n",
       "      <td>0.055973</td>\n",
       "      <td>0.050470</td>\n",
       "      <td>5.756144</td>\n",
       "      <td>331.158937</td>\n",
       "      <td>66.222794</td>\n",
       "      <td>4.356887</td>\n",
       "      <td>52.035180</td>\n",
       "      <td>1.659188</td>\n",
       "      <td>1.255746</td>\n",
       "      <td>34.808447</td>\n",
       "      <td>134.421373</td>\n",
       "    </tr>\n",
       "    <tr>\n",
       "      <th>min</th>\n",
       "      <td>1.001254e+06</td>\n",
       "      <td>1.303496e+08</td>\n",
       "      <td>0.000000</td>\n",
       "      <td>40.499790</td>\n",
       "      <td>-74.249840</td>\n",
       "      <td>2003.000000</td>\n",
       "      <td>50.000000</td>\n",
       "      <td>10.000000</td>\n",
       "      <td>0.000000</td>\n",
       "      <td>0.000000</td>\n",
       "      <td>0.010000</td>\n",
       "      <td>1.000000</td>\n",
       "      <td>1.000000</td>\n",
       "      <td>-10.000000</td>\n",
       "    </tr>\n",
       "    <tr>\n",
       "      <th>25%</th>\n",
       "      <td>1.057049e+07</td>\n",
       "      <td>2.459948e+10</td>\n",
       "      <td>0.000000</td>\n",
       "      <td>40.688540</td>\n",
       "      <td>-73.982790</td>\n",
       "      <td>2008.000000</td>\n",
       "      <td>339.000000</td>\n",
       "      <td>68.000000</td>\n",
       "      <td>2.000000</td>\n",
       "      <td>1.000000</td>\n",
       "      <td>0.300000</td>\n",
       "      <td>2.000000</td>\n",
       "      <td>1.000000</td>\n",
       "      <td>18.000000</td>\n",
       "    </tr>\n",
       "    <tr>\n",
       "      <th>50%</th>\n",
       "      <td>2.013964e+07</td>\n",
       "      <td>4.915407e+10</td>\n",
       "      <td>0.000000</td>\n",
       "      <td>40.722650</td>\n",
       "      <td>-73.954390</td>\n",
       "      <td>2012.000000</td>\n",
       "      <td>624.736070</td>\n",
       "      <td>124.894026</td>\n",
       "      <td>3.000000</td>\n",
       "      <td>7.000000</td>\n",
       "      <td>0.790000</td>\n",
       "      <td>3.000000</td>\n",
       "      <td>1.000000</td>\n",
       "      <td>127.000000</td>\n",
       "    </tr>\n",
       "    <tr>\n",
       "      <th>75%</th>\n",
       "      <td>2.970878e+07</td>\n",
       "      <td>7.406137e+10</td>\n",
       "      <td>1.000000</td>\n",
       "      <td>40.762730</td>\n",
       "      <td>-73.931380</td>\n",
       "      <td>2017.000000</td>\n",
       "      <td>911.000000</td>\n",
       "      <td>182.000000</td>\n",
       "      <td>6.000000</td>\n",
       "      <td>30.000000</td>\n",
       "      <td>1.730000</td>\n",
       "      <td>4.000000</td>\n",
       "      <td>3.000000</td>\n",
       "      <td>281.000000</td>\n",
       "    </tr>\n",
       "    <tr>\n",
       "      <th>max</th>\n",
       "      <td>5.736355e+07</td>\n",
       "      <td>9.876313e+10</td>\n",
       "      <td>1.000000</td>\n",
       "      <td>40.916970</td>\n",
       "      <td>-73.705220</td>\n",
       "      <td>2022.000000</td>\n",
       "      <td>1200.000000</td>\n",
       "      <td>240.000000</td>\n",
       "      <td>13.000000</td>\n",
       "      <td>1024.000000</td>\n",
       "      <td>90.000000</td>\n",
       "      <td>5.000000</td>\n",
       "      <td>332.000000</td>\n",
       "      <td>426.000000</td>\n",
       "    </tr>\n",
       "  </tbody>\n",
       "</table>\n",
       "</div>"
      ],
      "text/plain": [
       "                 id       host_id  host_identity_verified           lat  \\\n",
       "count  6.930500e+04  6.930500e+04            69305.000000  69305.000000   \n",
       "mean   2.015746e+07  4.929192e+10                0.498175     40.728070   \n",
       "std    1.109105e+07  2.854010e+10                0.500000      0.055973   \n",
       "min    1.001254e+06  1.303496e+08                0.000000     40.499790   \n",
       "25%    1.057049e+07  2.459948e+10                0.000000     40.688540   \n",
       "50%    2.013964e+07  4.915407e+10                0.000000     40.722650   \n",
       "75%    2.970878e+07  7.406137e+10                1.000000     40.762730   \n",
       "max    5.736355e+07  9.876313e+10                1.000000     40.916970   \n",
       "\n",
       "               long  construction_year         price   service_fee  \\\n",
       "count  69305.000000       69305.000000  69305.000000  69305.000000   \n",
       "mean     -73.949036        2012.489503    624.736070    124.894026   \n",
       "std        0.050470           5.756144    331.158937     66.222794   \n",
       "min      -74.249840        2003.000000     50.000000     10.000000   \n",
       "25%      -73.982790        2008.000000    339.000000     68.000000   \n",
       "50%      -73.954390        2012.000000    624.736070    124.894026   \n",
       "75%      -73.931380        2017.000000    911.000000    182.000000   \n",
       "max      -73.705220        2022.000000   1200.000000    240.000000   \n",
       "\n",
       "       minimum_nights  number_of_reviews  reviews_per_month  \\\n",
       "count    69305.000000       69305.000000       69305.000000   \n",
       "mean         4.620330          28.003896           1.301503   \n",
       "std          4.356887          52.035180           1.659188   \n",
       "min          0.000000           0.000000           0.010000   \n",
       "25%          2.000000           1.000000           0.300000   \n",
       "50%          3.000000           7.000000           0.790000   \n",
       "75%          6.000000          30.000000           1.730000   \n",
       "max         13.000000        1024.000000          90.000000   \n",
       "\n",
       "       review_rate_number  calculated_host_listings_count  availability_365  \n",
       "count        69305.000000                    69305.000000      69305.000000  \n",
       "mean             3.321636                        8.976755        153.184287  \n",
       "std              1.255746                       34.808447        134.421373  \n",
       "min              1.000000                        1.000000        -10.000000  \n",
       "25%              2.000000                        1.000000         18.000000  \n",
       "50%              3.000000                        1.000000        127.000000  \n",
       "75%              4.000000                        3.000000        281.000000  \n",
       "max              5.000000                      332.000000        426.000000  "
      ]
     },
     "execution_count": 224,
     "metadata": {},
     "output_type": "execute_result"
    }
   ],
   "source": [
    "data.describe()"
   ]
  },
  {
   "cell_type": "code",
   "execution_count": 225,
   "id": "dd4924c8-f692-4dc2-95f7-b1207aa69fdd",
   "metadata": {},
   "outputs": [
    {
     "data": {
      "text/html": [
       "<div>\n",
       "<style scoped>\n",
       "    .dataframe tbody tr th:only-of-type {\n",
       "        vertical-align: middle;\n",
       "    }\n",
       "\n",
       "    .dataframe tbody tr th {\n",
       "        vertical-align: top;\n",
       "    }\n",
       "\n",
       "    .dataframe thead th {\n",
       "        text-align: right;\n",
       "    }\n",
       "</style>\n",
       "<table border=\"1\" class=\"dataframe\">\n",
       "  <thead>\n",
       "    <tr style=\"text-align: right;\">\n",
       "      <th></th>\n",
       "      <th>id</th>\n",
       "      <th>name</th>\n",
       "      <th>host_id</th>\n",
       "      <th>host_identity_verified</th>\n",
       "      <th>host_name</th>\n",
       "      <th>neighbourhood_group</th>\n",
       "      <th>neighbourhood</th>\n",
       "      <th>lat</th>\n",
       "      <th>long</th>\n",
       "      <th>instant_bookable</th>\n",
       "      <th>cancellation_policy</th>\n",
       "      <th>room_type</th>\n",
       "      <th>construction_year</th>\n",
       "      <th>price</th>\n",
       "      <th>service_fee</th>\n",
       "      <th>minimum_nights</th>\n",
       "      <th>number_of_reviews</th>\n",
       "      <th>last_review</th>\n",
       "      <th>reviews_per_month</th>\n",
       "      <th>review_rate_number</th>\n",
       "      <th>calculated_host_listings_count</th>\n",
       "      <th>availability_365</th>\n",
       "      <th>house_rules</th>\n",
       "    </tr>\n",
       "  </thead>\n",
       "  <tbody>\n",
       "    <tr>\n",
       "      <th>0</th>\n",
       "      <td>1001254</td>\n",
       "      <td>Clean &amp; quiet apt home by the park</td>\n",
       "      <td>80014485718</td>\n",
       "      <td>0</td>\n",
       "      <td>Madaline</td>\n",
       "      <td>Brooklyn</td>\n",
       "      <td>Kensington</td>\n",
       "      <td>40.64749</td>\n",
       "      <td>-73.97237</td>\n",
       "      <td>False</td>\n",
       "      <td>strict</td>\n",
       "      <td>Private room</td>\n",
       "      <td>2020.0</td>\n",
       "      <td>966.0</td>\n",
       "      <td>193.0</td>\n",
       "      <td>10.0</td>\n",
       "      <td>9.0</td>\n",
       "      <td>2021-10-19</td>\n",
       "      <td>0.21</td>\n",
       "      <td>4.0</td>\n",
       "      <td>6.0</td>\n",
       "      <td>286.0</td>\n",
       "      <td>Clean up and treat the home the way you'd like...</td>\n",
       "    </tr>\n",
       "  </tbody>\n",
       "</table>\n",
       "</div>"
      ],
      "text/plain": [
       "        id                                name      host_id  \\\n",
       "0  1001254  Clean & quiet apt home by the park  80014485718   \n",
       "\n",
       "   host_identity_verified host_name neighbourhood_group neighbourhood  \\\n",
       "0                       0  Madaline            Brooklyn    Kensington   \n",
       "\n",
       "        lat      long  instant_bookable cancellation_policy     room_type  \\\n",
       "0  40.64749 -73.97237             False              strict  Private room   \n",
       "\n",
       "   construction_year  price  service_fee  minimum_nights  number_of_reviews  \\\n",
       "0             2020.0  966.0        193.0            10.0                9.0   \n",
       "\n",
       "  last_review  reviews_per_month  review_rate_number  \\\n",
       "0  2021-10-19               0.21                 4.0   \n",
       "\n",
       "   calculated_host_listings_count  availability_365  \\\n",
       "0                             6.0             286.0   \n",
       "\n",
       "                                         house_rules  \n",
       "0  Clean up and treat the home the way you'd like...  "
      ]
     },
     "execution_count": 225,
     "metadata": {},
     "output_type": "execute_result"
    }
   ],
   "source": [
    "data.head(1)"
   ]
  },
  {
   "cell_type": "code",
   "execution_count": 226,
   "id": "f74bd95c-18a4-4afd-b629-c8a8387d3e8e",
   "metadata": {},
   "outputs": [],
   "source": [
    "data = data.drop(['id', 'name', 'host_id', 'host_name', 'neighbourhood_group', 'neighbourhood', 'lat', 'long', 'cancellation_policy', 'room_type', 'last_review', 'house_rules'], axis=1)"
   ]
  },
  {
   "cell_type": "code",
   "execution_count": 227,
   "id": "dbb96dfb-088f-4af0-af71-3c14306db1a5",
   "metadata": {},
   "outputs": [],
   "source": [
    "correlation = data.corr()"
   ]
  },
  {
   "cell_type": "code",
   "execution_count": 228,
   "id": "aa996547-a31b-496a-85b4-76ec51e6e140",
   "metadata": {},
   "outputs": [
    {
     "data": {
      "text/plain": [
       "review_rate_number                1.000000\n",
       "reviews_per_month                 0.034664\n",
       "calculated_host_listings_count    0.023114\n",
       "minimum_nights                    0.016415\n",
       "construction_year                 0.006313\n",
       "host_identity_verified            0.002877\n",
       "instant_bookable                  0.000908\n",
       "service_fee                      -0.001289\n",
       "price                            -0.001506\n",
       "number_of_reviews                -0.013252\n",
       "availability_365                 -0.014734\n",
       "Name: review_rate_number, dtype: float64"
      ]
     },
     "execution_count": 228,
     "metadata": {},
     "output_type": "execute_result"
    }
   ],
   "source": [
    "correlation['review_rate_number'].sort_values(ascending=False)"
   ]
  },
  {
   "cell_type": "code",
   "execution_count": 229,
   "id": "123d3f55-3e89-4ec6-be3e-14c6df107ce6",
   "metadata": {},
   "outputs": [],
   "source": [
    "data = pd.concat([data, neighbourhood_group, cancellation_policy, room_type], axis = 1)"
   ]
  },
  {
   "cell_type": "code",
   "execution_count": 230,
   "id": "12ff5d6d-3d12-4bb3-812c-e938395607cb",
   "metadata": {},
   "outputs": [],
   "source": [
    "from sklearn.model_selection import train_test_split\n",
    "X = data.drop(['review_rate_number'], axis=1)\n",
    "y = data['review_rate_number']"
   ]
  },
  {
   "cell_type": "code",
   "execution_count": 231,
   "id": "46b8d61b-652a-42b8-bb37-13e7b8997180",
   "metadata": {},
   "outputs": [],
   "source": [
    "#from sklearn.model_selection import train_test_split\n",
    "#X = data[['reviews_per_month', 'calculated_host_listings_count', 'minimum_nights', 'construction_year']]\n",
    "#y = data['review_rate_number']"
   ]
  },
  {
   "cell_type": "code",
   "execution_count": 232,
   "id": "cc317a95-50bc-447e-b353-5d34dd94eb96",
   "metadata": {},
   "outputs": [],
   "source": [
    "X_train, X_test, y_train, y_test = train_test_split(X, y, random_state=42)"
   ]
  },
  {
   "cell_type": "code",
   "execution_count": 233,
   "id": "f9ec4192-d43f-45b4-847d-8907ae908c85",
   "metadata": {},
   "outputs": [],
   "source": [
    "from sklearn.pipeline import Pipeline"
   ]
  },
  {
   "cell_type": "code",
   "execution_count": 234,
   "id": "edad60b6-9133-40ac-adb5-53c9975304b6",
   "metadata": {},
   "outputs": [],
   "source": [
    "from sklearn.preprocessing import StandardScaler\n",
    "from sklearn.linear_model import LinearRegression\n",
    "from sklearn.neighbors import KNeighborsRegressor\n",
    "from sklearn.linear_model import LogisticRegression"
   ]
  },
  {
   "cell_type": "code",
   "execution_count": 235,
   "id": "981c8c79-9325-4ac3-97d5-2ea014447a6d",
   "metadata": {},
   "outputs": [
    {
     "data": {
      "text/plain": [
       "(0.004739920128725816, 0.004015740475005525)"
      ]
     },
     "execution_count": 235,
     "metadata": {},
     "output_type": "execute_result"
    }
   ],
   "source": [
    "linear_pipe = Pipeline([\n",
    "    ('ss', StandardScaler()),\n",
    "    ('lr', LinearRegression())\n",
    "])\n",
    "\n",
    "linear_pipe.fit(X_train, y_train)\n",
    "linear_pipe.score(X_train, y_train), linear_pipe.score(X_test, y_test)"
   ]
  },
  {
   "cell_type": "code",
   "execution_count": 236,
   "id": "77d09337-45e3-4cf4-8b42-ae6c25d1a891",
   "metadata": {},
   "outputs": [
    {
     "data": {
      "text/plain": [
       "(0.004739920128725816, 0.004015740475005525)"
      ]
     },
     "execution_count": 236,
     "metadata": {},
     "output_type": "execute_result"
    }
   ],
   "source": [
    "linear_pipe = Pipeline([\n",
    "    ('ss', StandardScaler()),\n",
    "    ('lr', LinearRegression())\n",
    "])\n",
    "\n",
    "linear_pipe.fit(X_train, y_train)\n",
    "linear_pipe.score(X_train, y_train), linear_pipe.score(X_test, y_test)"
   ]
  },
  {
   "cell_type": "code",
   "execution_count": 237,
   "id": "69657bc6-631e-4272-b021-ff6f39e0e3d3",
   "metadata": {},
   "outputs": [
    {
     "data": {
      "text/plain": [
       "(0.2078118233853259, -0.18804295955740602)"
      ]
     },
     "execution_count": 237,
     "metadata": {},
     "output_type": "execute_result"
    }
   ],
   "source": [
    "pipe_knn = Pipeline([\n",
    "    ('ss', StandardScaler()),\n",
    "    ('knn', KNeighborsRegressor())\n",
    "])\n",
    "\n",
    "pipe_knn.fit(X_train, y_train)\n",
    "pipe_knn.score(X_train, y_train), pipe_knn.score(X_test, y_test)"
   ]
  },
  {
   "cell_type": "code",
   "execution_count": 238,
   "id": "be6424e0-ef83-4cff-ad1b-7a600ab00e4f",
   "metadata": {},
   "outputs": [
    {
     "data": {
      "text/plain": [
       "(0.239120397091077, 0.23096900790673516)"
      ]
     },
     "execution_count": 238,
     "metadata": {},
     "output_type": "execute_result"
    }
   ],
   "source": [
    "pipe_lo = Pipeline([\n",
    "    ('ss', StandardScaler()),\n",
    "    ('lo', LogisticRegression())\n",
    "])\n",
    "\n",
    "pipe_lo.fit(X_train, y_train)\n",
    "pipe_lo.score(X_train, y_train), pipe_lo.score(X_test, y_test)"
   ]
  },
  {
   "cell_type": "code",
   "execution_count": 239,
   "id": "290322a9-9114-4c8e-9052-89b7075c0030",
   "metadata": {},
   "outputs": [
    {
     "data": {
      "text/plain": [
       "(0.2355419600600254, 0.22900675246724764)"
      ]
     },
     "execution_count": 239,
     "metadata": {},
     "output_type": "execute_result"
    }
   ],
   "source": [
    "from sklearn.ensemble import AdaBoostClassifier\n",
    "\n",
    "pipe_ada_boost = Pipeline([\n",
    "    ('ss', StandardScaler()),\n",
    "    ('ada', AdaBoostClassifier())\n",
    "])\n",
    "\n",
    "pipe_ada_boost.fit(X_train, y_train)\n",
    "pipe_ada_boost.score(X_train, y_train), pipe_ada_boost.score(X_test, y_test)"
   ]
  },
  {
   "cell_type": "code",
   "execution_count": 240,
   "id": "d9b75e36-7e28-4393-b443-cf396f3e4dfc",
   "metadata": {},
   "outputs": [
    {
     "data": {
      "text/plain": [
       "(1.0, 0.2283141917238991)"
      ]
     },
     "execution_count": 240,
     "metadata": {},
     "output_type": "execute_result"
    }
   ],
   "source": [
    "from sklearn.tree import DecisionTreeClassifier\n",
    "\n",
    "pipe_decision = Pipeline([\n",
    "    ('ss', StandardScaler()),\n",
    "    ('dt', DecisionTreeClassifier())\n",
    "])\n",
    "\n",
    "pipe_decision.fit(X_train, y_train)\n",
    "pipe_decision.score(X_train, y_train), pipe_decision.score(X_test, y_test)"
   ]
  },
  {
   "cell_type": "code",
   "execution_count": 260,
   "id": "99ce70c6-c3b6-4083-9d8f-992bf441e1f9",
   "metadata": {},
   "outputs": [
    {
     "data": {
      "text/plain": [
       "(1.0, -1.019274552404525)"
      ]
     },
     "execution_count": 260,
     "metadata": {},
     "output_type": "execute_result"
    }
   ],
   "source": [
    "from sklearn.tree import DecisionTreeRegressor\n",
    "\n",
    "pipe_decision = Pipeline([\n",
    "    ('ss', StandardScaler()),\n",
    "    ('dt', DecisionTreeRegressor(random_state=42))\n",
    "])\n",
    "\n",
    "pipe_decision.fit(X_train, y_train)\n",
    "pipe_decision.score(X_train, y_train), pipe_decision.score(X_test, y_test)"
   ]
  },
  {
   "cell_type": "code",
   "execution_count": 261,
   "id": "2550546b-31fd-4b33-831c-fdc3e91a2434",
   "metadata": {},
   "outputs": [],
   "source": [
    "#do logistic regression\n",
    "#data.loc[data[\"review_rate_number\"] >= \"3\", \"review_rate\"] = 1"
   ]
  },
  {
   "cell_type": "code",
   "execution_count": 262,
   "id": "fe6f6a13-3120-4d2b-b50e-5cf709d9aa45",
   "metadata": {},
   "outputs": [
    {
     "data": {
      "text/plain": [
       "0        4.0\n",
       "1        4.0\n",
       "2        5.0\n",
       "3        4.0\n",
       "4        3.0\n",
       "        ... \n",
       "69300    1.0\n",
       "69301    4.0\n",
       "69302    3.0\n",
       "69303    2.0\n",
       "69304    5.0\n",
       "Name: review_rate_number, Length: 69305, dtype: float64"
      ]
     },
     "execution_count": 262,
     "metadata": {},
     "output_type": "execute_result"
    }
   ],
   "source": [
    "data.review_rate_number"
   ]
  },
  {
   "cell_type": "code",
   "execution_count": 263,
   "id": "fdfdf436-f146-4dc8-b9c6-79955f50a11b",
   "metadata": {},
   "outputs": [],
   "source": [
    "data['rate_target'] = [1 if each >= 3 else 0 for each in data.review_rate_number]"
   ]
  },
  {
   "cell_type": "code",
   "execution_count": 264,
   "id": "2634a5e2-8b2d-44ba-b27d-85f423bf88c5",
   "metadata": {},
   "outputs": [],
   "source": [
    "from sklearn.model_selection import train_test_split\n",
    "X = data.drop(['rate_target'], axis=1)\n",
    "y = data['rate_target']"
   ]
  },
  {
   "cell_type": "code",
   "execution_count": 267,
   "id": "6e30fe9f-c3bc-4b22-8f59-551c2e6054e9",
   "metadata": {},
   "outputs": [
    {
     "data": {
      "text/plain": [
       "(1.0, 0.2283141917238991)"
      ]
     },
     "execution_count": 267,
     "metadata": {},
     "output_type": "execute_result"
    }
   ],
   "source": [
    "from sklearn.tree import DecisionTreeClassifier\n",
    "\n",
    "pipe_decision = Pipeline([\n",
    "    ('ss', StandardScaler()),\n",
    "    ('dt', DecisionTreeClassifier(random_state=42))\n",
    "])\n",
    "\n",
    "pipe_decision.fit(X_train, y_train)\n",
    "pipe_decision.score(X_train, y_train), pipe_decision.score(X_test, y_test)"
   ]
  },
  {
   "cell_type": "code",
   "execution_count": 266,
   "id": "b91153ac-2e6c-47a9-9fbe-a913ad3fe337",
   "metadata": {},
   "outputs": [
    {
     "data": {
      "text/plain": [
       "(1.0, -1.0348932098004275)"
      ]
     },
     "execution_count": 266,
     "metadata": {},
     "output_type": "execute_result"
    }
   ],
   "source": [
    "from sklearn.tree import DecisionTreeRegressor\n",
    "\n",
    "pipe_decision = Pipeline([\n",
    "    ('ss', StandardScaler()),\n",
    "    ('dt', DecisionTreeRegressor())\n",
    "])\n",
    "\n",
    "pipe_decision.fit(X_train, y_train)\n",
    "pipe_decision.score(X_train, y_train), pipe_decision.score(X_test, y_test)"
   ]
  },
  {
   "cell_type": "code",
   "execution_count": null,
   "id": "2c30b719-1dc5-4f51-9735-ef04a68c75ac",
   "metadata": {},
   "outputs": [],
   "source": []
  }
 ],
 "metadata": {
  "kernelspec": {
   "display_name": "Python 3 (ipykernel)",
   "language": "python",
   "name": "python3"
  },
  "language_info": {
   "codemirror_mode": {
    "name": "ipython",
    "version": 3
   },
   "file_extension": ".py",
   "mimetype": "text/x-python",
   "name": "python",
   "nbconvert_exporter": "python",
   "pygments_lexer": "ipython3",
   "version": "3.9.7"
  }
 },
 "nbformat": 4,
 "nbformat_minor": 5
}
